{
  "nbformat": 4,
  "nbformat_minor": 0,
  "metadata": {
    "colab": {
      "name": "google_colab_pydantic_demo.ipynb",
      "provenance": [],
      "collapsed_sections": []
    },
    "kernelspec": {
      "name": "python3",
      "display_name": "Python 3"
    },
    "language_info": {
      "name": "python"
    }
  },
  "cells": [
    {
      "cell_type": "markdown",
      "source": [
        "# Библиотека Pydantic"
      ],
      "metadata": {
        "id": "Q__3i1xTxE44"
      }
    },
    {
      "cell_type": "markdown",
      "source": [
        "### Pydantic  —  это библиотека, которая обеспечивает проведение валидации данных и управление настройками с помощью аннотаций типов."
      ],
      "metadata": {
        "id": "3CCzJreqyGig"
      }
    },
    {
      "cell_type": "code",
      "execution_count": null,
      "metadata": {
        "id": "cWFtYKrkw9a_"
      },
      "outputs": [],
      "source": [
        "%%capture\n",
        "!pip install pydantic"
      ]
    },
    {
      "cell_type": "code",
      "source": [
        "from datetime import datetime\n",
        "from typing import List, Optional\n",
        "from pydantic import BaseModel, Field\n",
        "from pydantic import ValidationError"
      ],
      "metadata": {
        "id": "NkqLfxjd1dy1"
      },
      "execution_count": null,
      "outputs": []
    },
    {
      "cell_type": "code",
      "source": [
        "class User(BaseModel):\n",
        "    id: int\n",
        "    name = 'John Doe'\n",
        "    signup_ts: Optional[datetime] = None\n",
        "    friends: List[int] = []"
      ],
      "metadata": {
        "id": "eR91h4JAyc2e"
      },
      "execution_count": null,
      "outputs": []
    },
    {
      "cell_type": "code",
      "source": [
        "data = {\n",
        "    'id': '123',\n",
        "    'signup_ts': '2019-06-01 12:22',\n",
        "    'friends': [1, 2, '3'],\n",
        "}"
      ],
      "metadata": {
        "id": "RsOGGPKN1jST"
      },
      "execution_count": null,
      "outputs": []
    },
    {
      "cell_type": "code",
      "source": [
        "user = User(**data)\n",
        "print(user.id)\n",
        "print(repr(user.signup_ts))\n",
        "# Pydantic всегда пытается в принудительном порядке обработать тип, который вы аннотировали. \n",
        "# Например, если попытаться передать “30” в поле, несмотря на то, что это поле ожидает целочисленное значение, ошибки не будет.\n",
        "print(user.friends)\n",
        "print(user.dict())"
      ],
      "metadata": {
        "colab": {
          "base_uri": "https://localhost:8080/"
        },
        "id": "fF4p12l31kHD",
        "outputId": "46dcef68-d377-4d1e-e272-ff489eed6beb"
      },
      "execution_count": null,
      "outputs": [
        {
          "output_type": "stream",
          "name": "stdout",
          "text": [
            "123\n",
            "datetime.datetime(2019, 6, 1, 12, 22)\n",
            "[1, 2, 3]\n",
            "{'id': 123, 'signup_ts': datetime.datetime(2019, 6, 1, 12, 22), 'friends': [1, 2, 3], 'name': 'John Doe'}\n"
          ]
        }
      ]
    },
    {
      "cell_type": "code",
      "source": [
        "try:\n",
        "    User(signup_ts='broken', friends=[1, 2, 'not number'])\n",
        "except ValidationError as e:\n",
        "    print(e.json())"
      ],
      "metadata": {
        "colab": {
          "base_uri": "https://localhost:8080/"
        },
        "id": "YYdsiQ8P27wD",
        "outputId": "2aacfc52-77b1-4fea-b806-176eeb6237e7"
      },
      "execution_count": null,
      "outputs": [
        {
          "output_type": "stream",
          "name": "stdout",
          "text": [
            "[\n",
            "  {\n",
            "    \"loc\": [\n",
            "      \"id\"\n",
            "    ],\n",
            "    \"msg\": \"field required\",\n",
            "    \"type\": \"value_error.missing\"\n",
            "  },\n",
            "  {\n",
            "    \"loc\": [\n",
            "      \"signup_ts\"\n",
            "    ],\n",
            "    \"msg\": \"invalid datetime format\",\n",
            "    \"type\": \"value_error.datetime\"\n",
            "  },\n",
            "  {\n",
            "    \"loc\": [\n",
            "      \"friends\",\n",
            "      2\n",
            "    ],\n",
            "    \"msg\": \"value is not a valid integer\",\n",
            "    \"type\": \"type_error.integer\"\n",
            "  }\n",
            "]\n"
          ]
        }
      ]
    },
    {
      "cell_type": "markdown",
      "source": [
        "### Настройка полей"
      ],
      "metadata": {
        "id": "9OCfIVzy3Qd-"
      }
    },
    {
      "cell_type": "markdown",
      "source": [
        "Цитата с сайта Nuancesprog: \"Pydantic снабжен нативным механизмом по добавлению валидаций для каждого поля с помощью обертывания внутри класса Field.\n",
        "Вы можете добавить ограничения на длину строковых полей с помощью аргументов Field max_length и min_length.\n",
        "Вы можете установить границы для числовых полей, используя аргументы Field ge и le ( ge  —  больше или равно, le  —  меньше или равно).\""
      ],
      "metadata": {
        "id": "qD-cIbOe3YL8"
      }
    },
    {
      "cell_type": "code",
      "source": [
        "class Address(BaseModel):\n",
        "    street: str \n",
        "    number: int\n",
        "    zipcode: str\n",
        "\n",
        "class Person(BaseModel):\n",
        "    first_name: str = Field(min_length=2, max_length=20)\n",
        "    last_name: str\n",
        "    age: int = Field(le=100)\n",
        "    address: Optional[Address]"
      ],
      "metadata": {
        "id": "BAylZvGk3UJE"
      },
      "execution_count": null,
      "outputs": []
    },
    {
      "cell_type": "code",
      "source": [
        "data = {\"first_name\": \"J\", \"last_name\": \"Doe\", \"age\": 101}"
      ],
      "metadata": {
        "id": "G41Rx-iv5EmU"
      },
      "execution_count": null,
      "outputs": []
    },
    {
      "cell_type": "code",
      "source": [
        "person = Person(**data)"
      ],
      "metadata": {
        "colab": {
          "base_uri": "https://localhost:8080/",
          "height": 271
        },
        "id": "lFAbAQl25pps",
        "outputId": "b3ed3a86-2c3d-4b86-f710-c4233ee3cafc"
      },
      "execution_count": null,
      "outputs": [
        {
          "output_type": "error",
          "ename": "ValidationError",
          "evalue": "ignored",
          "traceback": [
            "\u001b[0;31m---------------------------------------------------------------------------\u001b[0m",
            "\u001b[0;31mValidationError\u001b[0m                           Traceback (most recent call last)",
            "\u001b[0;32m<ipython-input-9-97c6ed38ae10>\u001b[0m in \u001b[0;36m<module>\u001b[0;34m()\u001b[0m\n\u001b[0;32m----> 1\u001b[0;31m \u001b[0mperson\u001b[0m \u001b[0;34m=\u001b[0m \u001b[0mPerson\u001b[0m\u001b[0;34m(\u001b[0m\u001b[0;34m**\u001b[0m\u001b[0mdata\u001b[0m\u001b[0;34m)\u001b[0m\u001b[0;34m\u001b[0m\u001b[0;34m\u001b[0m\u001b[0m\n\u001b[0m",
            "\u001b[0;32m/usr/local/lib/python3.7/dist-packages/pydantic/main.cpython-37m-x86_64-linux-gnu.so\u001b[0m in \u001b[0;36mpydantic.main.BaseModel.__init__\u001b[0;34m()\u001b[0m\n",
            "\u001b[0;31mValidationError\u001b[0m: 2 validation errors for Person\nfirst_name\n  ensure this value has at least 2 characters (type=value_error.any_str.min_length; limit_value=2)\nage\n  ensure this value is less than or equal to 100 (type=value_error.number.not_le; limit_value=100)"
          ]
        }
      ]
    }
  ]
}