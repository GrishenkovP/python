{
  "nbformat": 4,
  "nbformat_minor": 0,
  "metadata": {
    "colab": {
      "name": "google_colab_nlp_gensim_otus.ipynb",
      "provenance": [],
      "collapsed_sections": []
    },
    "kernelspec": {
      "name": "python3",
      "display_name": "Python 3"
    },
    "language_info": {
      "name": "python"
    },
    "widgets": {
      "application/vnd.jupyter.widget-state+json": {
        "b3d0eb63bba24676828823eae70742fc": {
          "model_module": "@jupyter-widgets/controls",
          "model_name": "HBoxModel",
          "model_module_version": "1.5.0",
          "state": {
            "_dom_classes": [],
            "_model_module": "@jupyter-widgets/controls",
            "_model_module_version": "1.5.0",
            "_model_name": "HBoxModel",
            "_view_count": null,
            "_view_module": "@jupyter-widgets/controls",
            "_view_module_version": "1.5.0",
            "_view_name": "HBoxView",
            "box_style": "",
            "children": [
              "IPY_MODEL_8686f17598584ce49ebd45431f1edf89",
              "IPY_MODEL_668fe1da413f49a090acdaaba3bcdc42",
              "IPY_MODEL_dac2b54e0dc44a6a8353eaf32c48dc05"
            ],
            "layout": "IPY_MODEL_c4fcbbc3b66149a7ac07d0d5da59a8ba"
          }
        },
        "8686f17598584ce49ebd45431f1edf89": {
          "model_module": "@jupyter-widgets/controls",
          "model_name": "HTMLModel",
          "model_module_version": "1.5.0",
          "state": {
            "_dom_classes": [],
            "_model_module": "@jupyter-widgets/controls",
            "_model_module_version": "1.5.0",
            "_model_name": "HTMLModel",
            "_view_count": null,
            "_view_module": "@jupyter-widgets/controls",
            "_view_module_version": "1.5.0",
            "_view_name": "HTMLView",
            "description": "",
            "description_tooltip": null,
            "layout": "IPY_MODEL_335614e3282a43e3972b93efdf4ce7d4",
            "placeholder": "​",
            "style": "IPY_MODEL_4171e90e78144fc3b8114d34ceef7f9a",
            "value": "100%"
          }
        },
        "668fe1da413f49a090acdaaba3bcdc42": {
          "model_module": "@jupyter-widgets/controls",
          "model_name": "FloatProgressModel",
          "model_module_version": "1.5.0",
          "state": {
            "_dom_classes": [],
            "_model_module": "@jupyter-widgets/controls",
            "_model_module_version": "1.5.0",
            "_model_name": "FloatProgressModel",
            "_view_count": null,
            "_view_module": "@jupyter-widgets/controls",
            "_view_module_version": "1.5.0",
            "_view_name": "ProgressView",
            "bar_style": "success",
            "description": "",
            "description_tooltip": null,
            "layout": "IPY_MODEL_d7bced7548ce40989a5e0ab3b10fbb7b",
            "max": 50000,
            "min": 0,
            "orientation": "horizontal",
            "style": "IPY_MODEL_c966075a77b149fbaece871ffd072e2e",
            "value": 50000
          }
        },
        "dac2b54e0dc44a6a8353eaf32c48dc05": {
          "model_module": "@jupyter-widgets/controls",
          "model_name": "HTMLModel",
          "model_module_version": "1.5.0",
          "state": {
            "_dom_classes": [],
            "_model_module": "@jupyter-widgets/controls",
            "_model_module_version": "1.5.0",
            "_model_name": "HTMLModel",
            "_view_count": null,
            "_view_module": "@jupyter-widgets/controls",
            "_view_module_version": "1.5.0",
            "_view_name": "HTMLView",
            "description": "",
            "description_tooltip": null,
            "layout": "IPY_MODEL_42530fae04324e63912b3fec0e6767b2",
            "placeholder": "​",
            "style": "IPY_MODEL_5d11e2edaa224cca8eb0665b30361e72",
            "value": " 50000/50000 [00:09&lt;00:00, 2923.01it/s]"
          }
        },
        "c4fcbbc3b66149a7ac07d0d5da59a8ba": {
          "model_module": "@jupyter-widgets/base",
          "model_name": "LayoutModel",
          "model_module_version": "1.2.0",
          "state": {
            "_model_module": "@jupyter-widgets/base",
            "_model_module_version": "1.2.0",
            "_model_name": "LayoutModel",
            "_view_count": null,
            "_view_module": "@jupyter-widgets/base",
            "_view_module_version": "1.2.0",
            "_view_name": "LayoutView",
            "align_content": null,
            "align_items": null,
            "align_self": null,
            "border": null,
            "bottom": null,
            "display": null,
            "flex": null,
            "flex_flow": null,
            "grid_area": null,
            "grid_auto_columns": null,
            "grid_auto_flow": null,
            "grid_auto_rows": null,
            "grid_column": null,
            "grid_gap": null,
            "grid_row": null,
            "grid_template_areas": null,
            "grid_template_columns": null,
            "grid_template_rows": null,
            "height": null,
            "justify_content": null,
            "justify_items": null,
            "left": null,
            "margin": null,
            "max_height": null,
            "max_width": null,
            "min_height": null,
            "min_width": null,
            "object_fit": null,
            "object_position": null,
            "order": null,
            "overflow": null,
            "overflow_x": null,
            "overflow_y": null,
            "padding": null,
            "right": null,
            "top": null,
            "visibility": null,
            "width": null
          }
        },
        "335614e3282a43e3972b93efdf4ce7d4": {
          "model_module": "@jupyter-widgets/base",
          "model_name": "LayoutModel",
          "model_module_version": "1.2.0",
          "state": {
            "_model_module": "@jupyter-widgets/base",
            "_model_module_version": "1.2.0",
            "_model_name": "LayoutModel",
            "_view_count": null,
            "_view_module": "@jupyter-widgets/base",
            "_view_module_version": "1.2.0",
            "_view_name": "LayoutView",
            "align_content": null,
            "align_items": null,
            "align_self": null,
            "border": null,
            "bottom": null,
            "display": null,
            "flex": null,
            "flex_flow": null,
            "grid_area": null,
            "grid_auto_columns": null,
            "grid_auto_flow": null,
            "grid_auto_rows": null,
            "grid_column": null,
            "grid_gap": null,
            "grid_row": null,
            "grid_template_areas": null,
            "grid_template_columns": null,
            "grid_template_rows": null,
            "height": null,
            "justify_content": null,
            "justify_items": null,
            "left": null,
            "margin": null,
            "max_height": null,
            "max_width": null,
            "min_height": null,
            "min_width": null,
            "object_fit": null,
            "object_position": null,
            "order": null,
            "overflow": null,
            "overflow_x": null,
            "overflow_y": null,
            "padding": null,
            "right": null,
            "top": null,
            "visibility": null,
            "width": null
          }
        },
        "4171e90e78144fc3b8114d34ceef7f9a": {
          "model_module": "@jupyter-widgets/controls",
          "model_name": "DescriptionStyleModel",
          "model_module_version": "1.5.0",
          "state": {
            "_model_module": "@jupyter-widgets/controls",
            "_model_module_version": "1.5.0",
            "_model_name": "DescriptionStyleModel",
            "_view_count": null,
            "_view_module": "@jupyter-widgets/base",
            "_view_module_version": "1.2.0",
            "_view_name": "StyleView",
            "description_width": ""
          }
        },
        "d7bced7548ce40989a5e0ab3b10fbb7b": {
          "model_module": "@jupyter-widgets/base",
          "model_name": "LayoutModel",
          "model_module_version": "1.2.0",
          "state": {
            "_model_module": "@jupyter-widgets/base",
            "_model_module_version": "1.2.0",
            "_model_name": "LayoutModel",
            "_view_count": null,
            "_view_module": "@jupyter-widgets/base",
            "_view_module_version": "1.2.0",
            "_view_name": "LayoutView",
            "align_content": null,
            "align_items": null,
            "align_self": null,
            "border": null,
            "bottom": null,
            "display": null,
            "flex": null,
            "flex_flow": null,
            "grid_area": null,
            "grid_auto_columns": null,
            "grid_auto_flow": null,
            "grid_auto_rows": null,
            "grid_column": null,
            "grid_gap": null,
            "grid_row": null,
            "grid_template_areas": null,
            "grid_template_columns": null,
            "grid_template_rows": null,
            "height": null,
            "justify_content": null,
            "justify_items": null,
            "left": null,
            "margin": null,
            "max_height": null,
            "max_width": null,
            "min_height": null,
            "min_width": null,
            "object_fit": null,
            "object_position": null,
            "order": null,
            "overflow": null,
            "overflow_x": null,
            "overflow_y": null,
            "padding": null,
            "right": null,
            "top": null,
            "visibility": null,
            "width": null
          }
        },
        "c966075a77b149fbaece871ffd072e2e": {
          "model_module": "@jupyter-widgets/controls",
          "model_name": "ProgressStyleModel",
          "model_module_version": "1.5.0",
          "state": {
            "_model_module": "@jupyter-widgets/controls",
            "_model_module_version": "1.5.0",
            "_model_name": "ProgressStyleModel",
            "_view_count": null,
            "_view_module": "@jupyter-widgets/base",
            "_view_module_version": "1.2.0",
            "_view_name": "StyleView",
            "bar_color": null,
            "description_width": ""
          }
        },
        "42530fae04324e63912b3fec0e6767b2": {
          "model_module": "@jupyter-widgets/base",
          "model_name": "LayoutModel",
          "model_module_version": "1.2.0",
          "state": {
            "_model_module": "@jupyter-widgets/base",
            "_model_module_version": "1.2.0",
            "_model_name": "LayoutModel",
            "_view_count": null,
            "_view_module": "@jupyter-widgets/base",
            "_view_module_version": "1.2.0",
            "_view_name": "LayoutView",
            "align_content": null,
            "align_items": null,
            "align_self": null,
            "border": null,
            "bottom": null,
            "display": null,
            "flex": null,
            "flex_flow": null,
            "grid_area": null,
            "grid_auto_columns": null,
            "grid_auto_flow": null,
            "grid_auto_rows": null,
            "grid_column": null,
            "grid_gap": null,
            "grid_row": null,
            "grid_template_areas": null,
            "grid_template_columns": null,
            "grid_template_rows": null,
            "height": null,
            "justify_content": null,
            "justify_items": null,
            "left": null,
            "margin": null,
            "max_height": null,
            "max_width": null,
            "min_height": null,
            "min_width": null,
            "object_fit": null,
            "object_position": null,
            "order": null,
            "overflow": null,
            "overflow_x": null,
            "overflow_y": null,
            "padding": null,
            "right": null,
            "top": null,
            "visibility": null,
            "width": null
          }
        },
        "5d11e2edaa224cca8eb0665b30361e72": {
          "model_module": "@jupyter-widgets/controls",
          "model_name": "DescriptionStyleModel",
          "model_module_version": "1.5.0",
          "state": {
            "_model_module": "@jupyter-widgets/controls",
            "_model_module_version": "1.5.0",
            "_model_name": "DescriptionStyleModel",
            "_view_count": null,
            "_view_module": "@jupyter-widgets/base",
            "_view_module_version": "1.2.0",
            "_view_name": "StyleView",
            "description_width": ""
          }
        }
      }
    }
  },
  "cells": [
    {
      "cell_type": "markdown",
      "source": [
        "#NLP. Библиотека Gensim"
      ],
      "metadata": {
        "id": "0UhsLaBtDoNy"
      }
    },
    {
      "cell_type": "markdown",
      "source": [
        "#### Материал для вдохновления:\n",
        "#### 1. Вебинар демо-занятие курса «Machine Learning Professional» (Youtube OTUS Онлайн - образование)\n",
        "#### 2. Публикация 'NLP Tutorial for Text Classification in Python' (Medium.com)\n",
        "#### 3. Публикация 'Чудесный мир Word Embeddings: какие они бывают и зачем нужны?' (Хабр)"
      ],
      "metadata": {
        "id": "LdAunqDsIkVn"
      }
    },
    {
      "cell_type": "code",
      "source": [
        "%%capture\n",
        "%%bash\n",
        "pip install --upgrade gensim"
      ],
      "metadata": {
        "id": "GGQU2v-kDiFZ"
      },
      "execution_count": 1,
      "outputs": []
    },
    {
      "cell_type": "code",
      "execution_count": 2,
      "metadata": {
        "id": "PHbovxKbzbQv"
      },
      "outputs": [],
      "source": [
        "import pandas as pd\n",
        "import numpy as np\n",
        "import random\n",
        "from tqdm.notebook import tqdm\n",
        "import matplotlib.pyplot as plt\n",
        "import seaborn as sns\n",
        "\n",
        "import gensim\n",
        "from gensim.models import Word2Vec\n",
        "\n",
        "from sklearn.manifold import TSNE\n",
        "from sklearn.model_selection import train_test_split\n",
        "from sklearn.pipeline import Pipeline\n",
        "from sklearn.ensemble import RandomForestClassifier\n",
        "from sklearn.linear_model import LogisticRegression\n",
        "from sklearn.metrics import precision_score, f1_score, recall_score, accuracy_score, classification_report\n",
        "\n",
        "import warnings\n",
        "warnings.filterwarnings('ignore')"
      ]
    },
    {
      "cell_type": "code",
      "source": [
        "dict_first_letter = {\n",
        "    'a':1,\n",
        "    'b':0,\n",
        "    'c':1,\n",
        "    'd':0,\n",
        "    'e':1,\n",
        "    'f':0,\n",
        "    'g':1,\n",
        "    'h':0,\n",
        "    'i':1,\n",
        "    'j':0,\n",
        "    'k':1,\n",
        "    'l':0,\n",
        "    'm':1,\n",
        "    'n':0,\n",
        "    'o':1,\n",
        "    'p':0,\n",
        "    'q':1,\n",
        "    'r':0,\n",
        "    's':1,\n",
        "    't':0,\n",
        "    'u':1,\n",
        "    'v':0,\n",
        "    'w':1,\n",
        "    'x':0,\n",
        "    'y':1,\n",
        "    'z':0\n",
        "}"
      ],
      "metadata": {
        "id": "PO1pg3tkz8WP"
      },
      "execution_count": 3,
      "outputs": []
    },
    {
      "cell_type": "code",
      "source": [
        "list_texts = []\n",
        "list_senses = []"
      ],
      "metadata": {
        "id": "TXPNLMhn7RuU"
      },
      "execution_count": 4,
      "outputs": []
    },
    {
      "cell_type": "code",
      "source": [
        "n_texts = 50000"
      ],
      "metadata": {
        "id": "qg0c9k-M7aSM"
      },
      "execution_count": 5,
      "outputs": []
    },
    {
      "cell_type": "code",
      "source": [
        "for _ in tqdm(range(n_texts)):\n",
        "  threshold_sense = 0.55\n",
        "  len_current_text = 50\n",
        "  list_current_words = []\n",
        "  count_positive = 0\n",
        "  count_negative = 0\n",
        "\n",
        "  for _ in range(len_current_text):\n",
        "    index_current_letter = random.randint(0,25)\n",
        "    current_letter = list(dict_first_letter.keys())[index_current_letter]\n",
        "\n",
        "    if dict_first_letter.get(current_letter) == 1:\n",
        "      count_positive = count_positive + 1\n",
        "    else:\n",
        "      count_negative = count_negative + 1\n",
        "\n",
        "    list_current_words.append(current_letter*3)\n",
        "\n",
        "  if count_positive >= round(len_current_text * threshold_sense, 0):\n",
        "    current_val_sense = 'positive'\n",
        "  elif count_negative >= round(len_current_text * threshold_sense, 0):\n",
        "    current_val_sense = 'negative'\n",
        "  else:\n",
        "    current_val_sense = 'neutral'\n",
        "\n",
        "  list_texts.append(' '.join(list_current_words))\n",
        "  list_senses.append(current_val_sense)"
      ],
      "metadata": {
        "colab": {
          "base_uri": "https://localhost:8080/",
          "height": 49,
          "referenced_widgets": [
            "b3d0eb63bba24676828823eae70742fc",
            "8686f17598584ce49ebd45431f1edf89",
            "668fe1da413f49a090acdaaba3bcdc42",
            "dac2b54e0dc44a6a8353eaf32c48dc05",
            "c4fcbbc3b66149a7ac07d0d5da59a8ba",
            "335614e3282a43e3972b93efdf4ce7d4",
            "4171e90e78144fc3b8114d34ceef7f9a",
            "d7bced7548ce40989a5e0ab3b10fbb7b",
            "c966075a77b149fbaece871ffd072e2e",
            "42530fae04324e63912b3fec0e6767b2",
            "5d11e2edaa224cca8eb0665b30361e72"
          ]
        },
        "id": "dgHVeh3c1RG_",
        "outputId": "2bdadbce-2b34-488a-e9bd-9e04cefdc81d"
      },
      "execution_count": 6,
      "outputs": [
        {
          "output_type": "display_data",
          "data": {
            "text/plain": [
              "  0%|          | 0/50000 [00:00<?, ?it/s]"
            ],
            "application/vnd.jupyter.widget-view+json": {
              "version_major": 2,
              "version_minor": 0,
              "model_id": "b3d0eb63bba24676828823eae70742fc"
            }
          },
          "metadata": {}
        }
      ]
    },
    {
      "cell_type": "code",
      "source": [
        "dict_texts = {'text':list_texts,'sense':list_senses}"
      ],
      "metadata": {
        "id": "bIamrGBb3fHG"
      },
      "execution_count": 7,
      "outputs": []
    },
    {
      "cell_type": "code",
      "source": [
        "df = pd.DataFrame(data=dict_texts)"
      ],
      "metadata": {
        "id": "7U8-uqOk-w2u"
      },
      "execution_count": 8,
      "outputs": []
    },
    {
      "cell_type": "code",
      "source": [
        "df.head()"
      ],
      "metadata": {
        "colab": {
          "base_uri": "https://localhost:8080/",
          "height": 206
        },
        "id": "DjqQRmq7-1lK",
        "outputId": "f4df21c6-9aa1-4009-f06b-5560ef638e30"
      },
      "execution_count": 9,
      "outputs": [
        {
          "output_type": "execute_result",
          "data": {
            "text/plain": [
              "                                                text     sense\n",
              "0  ggg eee vvv www fff ccc ggg sss jjj vvv yyy uu...   neutral\n",
              "1  ooo uuu sss ggg ppp jjj xxx iii kkk jjj ooo xx...  positive\n",
              "2  ppp iii kkk ttt kkk qqq vvv xxx lll eee ppp dd...  positive\n",
              "3  ttt mmm nnn zzz jjj vvv nnn ppp vvv jjj fff mm...  negative\n",
              "4  mmm bbb www ggg ppp bbb sss ttt uuu mmm www gg...  positive"
            ],
            "text/html": [
              "\n",
              "  <div id=\"df-da9b9a2c-20eb-4bd3-9bdc-155115603d6b\">\n",
              "    <div class=\"colab-df-container\">\n",
              "      <div>\n",
              "<style scoped>\n",
              "    .dataframe tbody tr th:only-of-type {\n",
              "        vertical-align: middle;\n",
              "    }\n",
              "\n",
              "    .dataframe tbody tr th {\n",
              "        vertical-align: top;\n",
              "    }\n",
              "\n",
              "    .dataframe thead th {\n",
              "        text-align: right;\n",
              "    }\n",
              "</style>\n",
              "<table border=\"1\" class=\"dataframe\">\n",
              "  <thead>\n",
              "    <tr style=\"text-align: right;\">\n",
              "      <th></th>\n",
              "      <th>text</th>\n",
              "      <th>sense</th>\n",
              "    </tr>\n",
              "  </thead>\n",
              "  <tbody>\n",
              "    <tr>\n",
              "      <th>0</th>\n",
              "      <td>ggg eee vvv www fff ccc ggg sss jjj vvv yyy uu...</td>\n",
              "      <td>neutral</td>\n",
              "    </tr>\n",
              "    <tr>\n",
              "      <th>1</th>\n",
              "      <td>ooo uuu sss ggg ppp jjj xxx iii kkk jjj ooo xx...</td>\n",
              "      <td>positive</td>\n",
              "    </tr>\n",
              "    <tr>\n",
              "      <th>2</th>\n",
              "      <td>ppp iii kkk ttt kkk qqq vvv xxx lll eee ppp dd...</td>\n",
              "      <td>positive</td>\n",
              "    </tr>\n",
              "    <tr>\n",
              "      <th>3</th>\n",
              "      <td>ttt mmm nnn zzz jjj vvv nnn ppp vvv jjj fff mm...</td>\n",
              "      <td>negative</td>\n",
              "    </tr>\n",
              "    <tr>\n",
              "      <th>4</th>\n",
              "      <td>mmm bbb www ggg ppp bbb sss ttt uuu mmm www gg...</td>\n",
              "      <td>positive</td>\n",
              "    </tr>\n",
              "  </tbody>\n",
              "</table>\n",
              "</div>\n",
              "      <button class=\"colab-df-convert\" onclick=\"convertToInteractive('df-da9b9a2c-20eb-4bd3-9bdc-155115603d6b')\"\n",
              "              title=\"Convert this dataframe to an interactive table.\"\n",
              "              style=\"display:none;\">\n",
              "        \n",
              "  <svg xmlns=\"http://www.w3.org/2000/svg\" height=\"24px\"viewBox=\"0 0 24 24\"\n",
              "       width=\"24px\">\n",
              "    <path d=\"M0 0h24v24H0V0z\" fill=\"none\"/>\n",
              "    <path d=\"M18.56 5.44l.94 2.06.94-2.06 2.06-.94-2.06-.94-.94-2.06-.94 2.06-2.06.94zm-11 1L8.5 8.5l.94-2.06 2.06-.94-2.06-.94L8.5 2.5l-.94 2.06-2.06.94zm10 10l.94 2.06.94-2.06 2.06-.94-2.06-.94-.94-2.06-.94 2.06-2.06.94z\"/><path d=\"M17.41 7.96l-1.37-1.37c-.4-.4-.92-.59-1.43-.59-.52 0-1.04.2-1.43.59L10.3 9.45l-7.72 7.72c-.78.78-.78 2.05 0 2.83L4 21.41c.39.39.9.59 1.41.59.51 0 1.02-.2 1.41-.59l7.78-7.78 2.81-2.81c.8-.78.8-2.07 0-2.86zM5.41 20L4 18.59l7.72-7.72 1.47 1.35L5.41 20z\"/>\n",
              "  </svg>\n",
              "      </button>\n",
              "      \n",
              "  <style>\n",
              "    .colab-df-container {\n",
              "      display:flex;\n",
              "      flex-wrap:wrap;\n",
              "      gap: 12px;\n",
              "    }\n",
              "\n",
              "    .colab-df-convert {\n",
              "      background-color: #E8F0FE;\n",
              "      border: none;\n",
              "      border-radius: 50%;\n",
              "      cursor: pointer;\n",
              "      display: none;\n",
              "      fill: #1967D2;\n",
              "      height: 32px;\n",
              "      padding: 0 0 0 0;\n",
              "      width: 32px;\n",
              "    }\n",
              "\n",
              "    .colab-df-convert:hover {\n",
              "      background-color: #E2EBFA;\n",
              "      box-shadow: 0px 1px 2px rgba(60, 64, 67, 0.3), 0px 1px 3px 1px rgba(60, 64, 67, 0.15);\n",
              "      fill: #174EA6;\n",
              "    }\n",
              "\n",
              "    [theme=dark] .colab-df-convert {\n",
              "      background-color: #3B4455;\n",
              "      fill: #D2E3FC;\n",
              "    }\n",
              "\n",
              "    [theme=dark] .colab-df-convert:hover {\n",
              "      background-color: #434B5C;\n",
              "      box-shadow: 0px 1px 3px 1px rgba(0, 0, 0, 0.15);\n",
              "      filter: drop-shadow(0px 1px 2px rgba(0, 0, 0, 0.3));\n",
              "      fill: #FFFFFF;\n",
              "    }\n",
              "  </style>\n",
              "\n",
              "      <script>\n",
              "        const buttonEl =\n",
              "          document.querySelector('#df-da9b9a2c-20eb-4bd3-9bdc-155115603d6b button.colab-df-convert');\n",
              "        buttonEl.style.display =\n",
              "          google.colab.kernel.accessAllowed ? 'block' : 'none';\n",
              "\n",
              "        async function convertToInteractive(key) {\n",
              "          const element = document.querySelector('#df-da9b9a2c-20eb-4bd3-9bdc-155115603d6b');\n",
              "          const dataTable =\n",
              "            await google.colab.kernel.invokeFunction('convertToInteractive',\n",
              "                                                     [key], {});\n",
              "          if (!dataTable) return;\n",
              "\n",
              "          const docLinkHtml = 'Like what you see? Visit the ' +\n",
              "            '<a target=\"_blank\" href=https://colab.research.google.com/notebooks/data_table.ipynb>data table notebook</a>'\n",
              "            + ' to learn more about interactive tables.';\n",
              "          element.innerHTML = '';\n",
              "          dataTable['output_type'] = 'display_data';\n",
              "          await google.colab.output.renderOutput(dataTable, element);\n",
              "          const docLink = document.createElement('div');\n",
              "          docLink.innerHTML = docLinkHtml;\n",
              "          element.appendChild(docLink);\n",
              "        }\n",
              "      </script>\n",
              "    </div>\n",
              "  </div>\n",
              "  "
            ]
          },
          "metadata": {},
          "execution_count": 9
        }
      ]
    },
    {
      "cell_type": "code",
      "source": [
        "df['sense'].value_counts()"
      ],
      "metadata": {
        "colab": {
          "base_uri": "https://localhost:8080/"
        },
        "id": "ISV7sbMY-9v5",
        "outputId": "4e136e02-6550-40b6-fb89-398122464ded"
      },
      "execution_count": 10,
      "outputs": [
        {
          "output_type": "execute_result",
          "data": {
            "text/plain": [
              "neutral     26033\n",
              "negative    12051\n",
              "positive    11916\n",
              "Name: sense, dtype: int64"
            ]
          },
          "metadata": {},
          "execution_count": 10
        }
      ]
    },
    {
      "cell_type": "code",
      "source": [
        "texts = [df.text.iloc[i].split() for i in range(len(df))]"
      ],
      "metadata": {
        "id": "orfd16OCCoZ6"
      },
      "execution_count": 11,
      "outputs": []
    },
    {
      "cell_type": "code",
      "source": [
        "print(texts[0])"
      ],
      "metadata": {
        "colab": {
          "base_uri": "https://localhost:8080/"
        },
        "id": "qXnfPvWUDHiI",
        "outputId": "136589fa-b1eb-4d62-8dd9-3e9a6aee87c4"
      },
      "execution_count": 12,
      "outputs": [
        {
          "output_type": "stream",
          "name": "stdout",
          "text": [
            "['ggg', 'eee', 'vvv', 'www', 'fff', 'ccc', 'ggg', 'sss', 'jjj', 'vvv', 'yyy', 'uuu', 'lll', 'ccc', 'lll', 'mmm', 'ooo', 'fff', 'ccc', 'jjj', 'nnn', 'rrr', 'ccc', 'xxx', 'mmm', 'www', 'ttt', 'fff', 'nnn', 'kkk', 'sss', 'yyy', 'vvv', 'bbb', 'zzz', 'ccc', 'ggg', 'xxx', 'hhh', 'fff', 'qqq', 'ccc', 'rrr', 'nnn', 'hhh', 'fff', 'sss', 'ddd', 'mmm', 'zzz']\n"
          ]
        }
      ]
    },
    {
      "cell_type": "code",
      "source": [
        "%%time\n",
        "model = Word2Vec(texts, vector_size=50, window=5, min_count=5, workers=4)\n",
        "model.save('word2v.model')"
      ],
      "metadata": {
        "colab": {
          "base_uri": "https://localhost:8080/"
        },
        "id": "N3IVd7HpEJeg",
        "outputId": "ede93b51-f160-453b-95c4-0fec698dfe53"
      },
      "execution_count": 13,
      "outputs": [
        {
          "output_type": "stream",
          "name": "stdout",
          "text": [
            "CPU times: user 9.83 s, sys: 137 ms, total: 9.97 s\n",
            "Wall time: 9.97 s\n"
          ]
        }
      ]
    },
    {
      "cell_type": "code",
      "source": [
        "model.wv.most_similar('aaa')"
      ],
      "metadata": {
        "colab": {
          "base_uri": "https://localhost:8080/"
        },
        "id": "KSGpKG6vE_9w",
        "outputId": "3716bf1f-5bfd-45a8-9f2f-9888448ca29d"
      },
      "execution_count": 14,
      "outputs": [
        {
          "output_type": "execute_result",
          "data": {
            "text/plain": [
              "[('eee', 0.8588007688522339),\n",
              " ('ccc', 0.856658399105072),\n",
              " ('hhh', 0.8375251889228821),\n",
              " ('rrr', 0.8371411561965942),\n",
              " ('ggg', 0.8131603002548218),\n",
              " ('ooo', 0.8034253120422363),\n",
              " ('mmm', 0.7830168008804321),\n",
              " ('ttt', 0.7790563702583313),\n",
              " ('qqq', 0.7715994715690613),\n",
              " ('xxx', 0.7686998844146729)]"
            ]
          },
          "metadata": {},
          "execution_count": 14
        }
      ]
    },
    {
      "cell_type": "code",
      "source": [
        "model.wv.most_similar('bbb')"
      ],
      "metadata": {
        "colab": {
          "base_uri": "https://localhost:8080/"
        },
        "id": "jrFp8p-3IO7u",
        "outputId": "a248c651-1fd0-4088-e99a-d3adc6340170"
      },
      "execution_count": 15,
      "outputs": [
        {
          "output_type": "execute_result",
          "data": {
            "text/plain": [
              "[('ddd', 0.8556894063949585),\n",
              " ('jjj', 0.7476959228515625),\n",
              " ('nnn', 0.7410858869552612),\n",
              " ('zzz', 0.7338865995407104),\n",
              " ('ccc', 0.7320193648338318),\n",
              " ('qqq', 0.7107437252998352),\n",
              " ('ooo', 0.663598358631134),\n",
              " ('iii', 0.6629579663276672),\n",
              " ('www', 0.6340117454528809),\n",
              " ('hhh', 0.6142042875289917)]"
            ]
          },
          "metadata": {},
          "execution_count": 15
        }
      ]
    },
    {
      "cell_type": "code",
      "source": [
        "# Код графика взят из интернет-публикации 'ОБУЧЕНИЕ NLP-МОДЕЛИ WORD2VEС НА РУССКИХ ТЕКСТАХ С PYTHON'\n",
        "\n",
        "def tsne_scatterplot(model, word, list_names):\n",
        "\n",
        "    vectors_words = [model.wv.word_vec(word)]\n",
        "    word_labels = [word]\n",
        "    color_list = ['red']\n",
        "\n",
        "    close_words = model.wv.most_similar(word)\n",
        "    for wrd_score in close_words:\n",
        "        wrd_vector = model.wv.word_vec(wrd_score[0])\n",
        "        vectors_words.append(wrd_vector)\n",
        "        word_labels.append(wrd_score[0])\n",
        "        color_list.append('blue')\n",
        "\n",
        "    for wrd in list_names:\n",
        "        wrd_vector = model.wv.word_vec(wrd)\n",
        "        vectors_words.append(wrd_vector)\n",
        "        word_labels.append(wrd)\n",
        "        color_list.append('green')\n",
        "\n",
        "    Y = (TSNE(n_components=2, random_state=0, perplexity=15, init=\"pca\")\n",
        "        .fit_transform(vectors_words))\n",
        "\n",
        "    df = pd.DataFrame({\"x\": [x for x in Y[:, 0]],\n",
        "                    \"y\": [y for y in Y[:, 1]],\n",
        "                    \"words\": word_labels,\n",
        "                    \"color\": color_list})\n",
        "    fig, _ = plt.subplots()\n",
        "    fig.set_size_inches(9, 9)\n",
        "\n",
        "    p1 = sns.regplot(data=df,\n",
        "                    x=\"x\",\n",
        "                    y=\"y\",\n",
        "                    fit_reg=False,\n",
        "                    marker=\"o\",\n",
        "                    scatter_kws={\"s\": 40,\n",
        "                                \"facecolors\": df[\"color\"]}\n",
        "    )\n",
        "\n",
        "    for line in range(0, df.shape[0]):\n",
        "        p1.text(df[\"x\"][line],\n",
        "                df[\"y\"][line],\n",
        "                \" \" + df[\"words\"][line].title(),\n",
        "                horizontalalignment=\"left\",\n",
        "                verticalalignment=\"bottom\", size=\"medium\",\n",
        "                color=df[\"color\"][line],\n",
        "                weight=\"normal\"\n",
        "        ).set_size(15)\n",
        "\n",
        "    plt.xlim(Y[:, 0].min()-50, Y[:, 0].max()+50)\n",
        "    plt.ylim(Y[:, 1].min()-50, Y[:, 1].max()+50)\n",
        "    plt.title('t-SNE visualization for {}'.format(word.title()))"
      ],
      "metadata": {
        "id": "WQUXQzHxLDGl"
      },
      "execution_count": 16,
      "outputs": []
    },
    {
      "cell_type": "code",
      "source": [
        "tsne_scatterplot(model, \"aaa\", [\"bbb\", \"ccc\", \"ddd\"])"
      ],
      "metadata": {
        "colab": {
          "base_uri": "https://localhost:8080/",
          "height": 567
        },
        "id": "iFbGEodILFO9",
        "outputId": "353e64f6-823a-4fd9-b428-50d27bfe4691"
      },
      "execution_count": 17,
      "outputs": [
        {
          "output_type": "display_data",
          "data": {
            "text/plain": [
              "<Figure size 648x648 with 1 Axes>"
            ],
            "image/png": "[encoded data removed]"
          },
          "metadata": {
            "needs_background": "light"
          }
        }
      ]
    },
    {
      "cell_type": "code",
      "source": [
        "X = df.text.tolist()\n",
        "y = df.sense.tolist()\n",
        "\n",
        "X,y = np.array(X), np.array(y)\n",
        "\n",
        "X_train, X_test, y_train, y_test = train_test_split(X,y,\n",
        "                                                    test_size=0.3,\n",
        "                                                    random_state=42,\n",
        "                                                     shuffle=True)\n",
        "print(f'len train df {len(y_train)}')\n",
        "print(f'len test df {len(y_test)}')"
      ],
      "metadata": {
        "colab": {
          "base_uri": "https://localhost:8080/"
        },
        "id": "VVBqt_scM1Mt",
        "outputId": "6ef07640-d742-4e3a-f31b-43bea5cab552"
      },
      "execution_count": 18,
      "outputs": [
        {
          "output_type": "stream",
          "name": "stdout",
          "text": [
            "len train df 35000\n",
            "len test df 15000\n"
          ]
        }
      ]
    },
    {
      "cell_type": "code",
      "source": [
        "class MeanEmbeddingVectorizer(object):\n",
        "  def __init__(self, word2vec):\n",
        "    self.word2vec = word2vec\n",
        "    self.dim = len(next(iter(word2vec.values())))\n",
        "\n",
        "  def fit(self, X, y):\n",
        "    return self\n",
        "\n",
        "  def transform(self, X):\n",
        "    return np.array([\n",
        "                     np.mean([self.word2vec[w] for w in words if w in self.word2vec] \n",
        "                             or [np.zeros(self.dim)], axis=0) \n",
        "                     for words in X\n",
        "                     ])"
      ],
      "metadata": {
        "id": "ApUEuMjzO0_s"
      },
      "execution_count": 19,
      "outputs": []
    },
    {
      "cell_type": "code",
      "source": [
        "w2v = dict(zip(model.wv.index_to_key, model.wv.vectors)) "
      ],
      "metadata": {
        "id": "SCQDMxatRoYL"
      },
      "execution_count": 20,
      "outputs": []
    },
    {
      "cell_type": "code",
      "source": [
        "X_train_w2v = MeanEmbeddingVectorizer(w2v).fit(X_train,y_train).transform(X_train)\n",
        "X_test_w2v = MeanEmbeddingVectorizer(w2v).fit(X_test,y_test).transform(X_test)"
      ],
      "metadata": {
        "id": "ZIcM52iWc2WF"
      },
      "execution_count": 21,
      "outputs": []
    },
    {
      "cell_type": "code",
      "source": [
        "rfc_w2v = RandomForestClassifier(n_estimators=100)"
      ],
      "metadata": {
        "id": "-74uwPOYc-k1"
      },
      "execution_count": 22,
      "outputs": []
    },
    {
      "cell_type": "code",
      "source": [
        "rfc_w2v.fit(X_train_w2v,y_train)\n",
        "pred = rfc_w2v.predict(X_test_w2v)"
      ],
      "metadata": {
        "id": "kcICKWOeUxEZ"
      },
      "execution_count": 23,
      "outputs": []
    },
    {
      "cell_type": "code",
      "source": [
        "print('Precision: {0:6.2f}'.format(precision_score(y_test, pred, average='macro')))\n",
        "print('Recall: {0:6.2f}'.format(recall_score(y_test, pred, average='macro')))\n",
        "print('F1-measure: {0:6.2f}'.format(f1_score(y_test, pred, average='macro')))\n",
        "print('Accuracy: {0:6.2f}'.format(accuracy_score(y_test, pred)))\n",
        "print(classification_report(y_test, pred))"
      ],
      "metadata": {
        "colab": {
          "base_uri": "https://localhost:8080/"
        },
        "id": "hqX3JYuMV7KS",
        "outputId": "299696c1-1e82-4cca-d590-2054aa9cc939"
      },
      "execution_count": 24,
      "outputs": [
        {
          "output_type": "stream",
          "name": "stdout",
          "text": [
            "Precision:   0.17\n",
            "Recall:   0.33\n",
            "F1-measure:   0.23\n",
            "Accuracy:   0.52\n",
            "              precision    recall  f1-score   support\n",
            "\n",
            "    negative       0.00      0.00      0.00      3642\n",
            "     neutral       0.52      1.00      0.68      7805\n",
            "    positive       0.00      0.00      0.00      3553\n",
            "\n",
            "    accuracy                           0.52     15000\n",
            "   macro avg       0.17      0.33      0.23     15000\n",
            "weighted avg       0.27      0.52      0.36     15000\n",
            "\n"
          ]
        }
      ]
    }
  ]
}