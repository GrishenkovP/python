{
 "cells": [
  {
   "cell_type": "code",
   "execution_count": 1,
   "metadata": {
    "id": "h4VanguqGsOP"
   },
   "outputs": [],
   "source": [
    "from scipy import stats\r\n",
    "import numpy as np"
   ]
  },
  {
   "cell_type": "code",
   "execution_count": 2,
   "metadata": {
    "id": "RJVfg1BKG3hD"
   },
   "outputs": [],
   "source": [
    "# Создаем данные\r\n",
    "x = np.random.normal(1, 1.5, 20)\r\n",
    "y = np.random.normal(0, 1.5, 20)"
   ]
  },
  {
   "cell_type": "code",
   "execution_count": 3,
   "metadata": {
    "colab": {
     "base_uri": "https://localhost:8080/"
    },
    "id": "2gn-Av2GHqv7",
    "outputId": "f4e5df4b-f3c7-4665-86c6-825da714d9bd"
   },
   "outputs": [
    {
     "name": "stdout",
     "output_type": "stream",
     "text": [
      "Statistics=0.965, p-value=0.654\n",
      "Принять гипотезу о нормальности\n"
     ]
    }
   ],
   "source": [
    "# Тест Шапиро-Уилка\r\n",
    "stat, p = stats.shapiro(x)\r\n",
    "print('Statistics=%.3f, p-value=%.3f' % (stat, p))\r\n",
    "alpha = 0.05\r\n",
    "if p > alpha:\r\n",
    "    print('Принять гипотезу о нормальности')\r\n",
    "else:\r\n",
    "    print('Отклонить гипотезу о нормальности')"
   ]
  },
  {
   "cell_type": "code",
   "execution_count": 4,
   "metadata": {
    "colab": {
     "base_uri": "https://localhost:8080/"
    },
    "id": "RYFqAuA_IQ3s",
    "outputId": "bbdf3f6a-dbc8-4c87-e140-c0ff903e7ca8"
   },
   "outputs": [
    {
     "name": "stdout",
     "output_type": "stream",
     "text": [
      "Statistics=0.418, p-value=0.811\n",
      "Принять гипотезу о нормальности\n"
     ]
    }
   ],
   "source": [
    "# Критерий Пирсона\r\n",
    "stat, p = stats.normaltest(y)\r\n",
    "print('Statistics=%.3f, p-value=%.3f' % (stat, p))\r\n",
    "alpha = 0.05\r\n",
    "if p > alpha:\r\n",
    "    print('Принять гипотезу о нормальности')\r\n",
    "else:\r\n",
    "    print('Отклонить гипотезу о нормальности')"
   ]
  },
  {
   "cell_type": "code",
   "execution_count": 5,
   "metadata": {
    "colab": {
     "base_uri": "https://localhost:8080/"
    },
    "id": "w45XUDKnJJCM",
    "outputId": "cf06797d-dcdc-4c85-842e-7b8b67100c7a"
   },
   "outputs": [
    {
     "data": {
      "text/plain": [
       "0.02433704687914151"
      ]
     },
     "execution_count": 5,
     "metadata": {},
     "output_type": "execute_result"
    }
   ],
   "source": [
    "# t-тест, статистически значимо ли среднее значение x отличается от 0\r\n",
    "pvalue = stats.ttest_1samp(x, 0)[1]\r\n",
    "\r\n",
    "# Значение p-value\r\n",
    "pvalue"
   ]
  },
  {
   "cell_type": "code",
   "execution_count": 6,
   "metadata": {
    "colab": {
     "base_uri": "https://localhost:8080/"
    },
    "id": "3AHi0a71J_V7",
    "outputId": "2a835a7e-55a5-4697-a63f-e578dd580912"
   },
   "outputs": [
    {
     "data": {
      "text/plain": [
       "0.10448342859766747"
      ]
     },
     "execution_count": 6,
     "metadata": {},
     "output_type": "execute_result"
    }
   ],
   "source": [
    "#  t-тест двух независимых выборок\r\n",
    "stats.ttest_ind(x, y)[1]"
   ]
  },
  {
   "cell_type": "code",
   "execution_count": 7,
   "metadata": {
    "colab": {
     "base_uri": "https://localhost:8080/"
    },
    "id": "V5iQZtc2KgZ7",
    "outputId": "97b72749-14c0-4a62-f903-0b33db3a5fa0"
   },
   "outputs": [
    {
     "data": {
      "text/plain": [
       "0.0670108475962918"
      ]
     },
     "execution_count": 7,
     "metadata": {},
     "output_type": "execute_result"
    }
   ],
   "source": [
    "# t-тест двух зависимых выборок\r\n",
    "stats.ttest_rel(x, y)[1]"
   ]
  },
  {
   "cell_type": "code",
   "execution_count": 8,
   "metadata": {},
   "outputs": [
    {
     "name": "stdout",
     "output_type": "stream",
     "text": [
      "0.095\n"
     ]
    }
   ],
   "source": [
    "# Критерий Манна — Уитни (статистический критерий, используемый для оценки различий между двумя независимыми выборками по уровню какого-либо признака, измеренного количественно. \n",
    "# Позволяет выявлять различия в значении параметра между малыми выборками.)\n",
    "# Рассчитаем статистическую значимость (если p<0.05, то между группами присутствует статистическое различие)\n",
    "print('{0:.3f}'.format(stats.mannwhitneyu(x, y)[1]))"
   ]
  },
  {
   "cell_type": "code",
   "execution_count": 9,
   "metadata": {},
   "outputs": [
    {
     "name": "stdout",
     "output_type": "stream",
     "text": [
      "-0.808\n"
     ]
    }
   ],
   "source": [
    "#Относительное различие\n",
    "print(\"{0:.3f}\".format(np.mean(y)/np.mean(x)-1))"
   ]
  }
 ],
 "metadata": {
  "colab": {
   "collapsed_sections": [],
   "name": "t-tests.ipynb",
   "provenance": []
  },
  "kernelspec": {
   "display_name": "Python 3",
   "language": "python",
   "name": "python3"
  },
  "language_info": {
   "codemirror_mode": {
    "name": "ipython",
    "version": 3
   },
   "file_extension": ".py",
   "mimetype": "text/x-python",
   "name": "python",
   "nbconvert_exporter": "python",
   "pygments_lexer": "ipython3",
   "version": "3.8.5"
  }
 },
 "nbformat": 4,
 "nbformat_minor": 4
}
