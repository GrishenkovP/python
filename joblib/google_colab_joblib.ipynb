{
  "nbformat": 4,
  "nbformat_minor": 0,
  "metadata": {
    "colab": {
      "name": "google_colab_joblib.ipynb",
      "provenance": [],
      "collapsed_sections": []
    },
    "kernelspec": {
      "name": "python3",
      "display_name": "Python 3"
    },
    "language_info": {
      "name": "python"
    }
  },
  "cells": [
    {
      "cell_type": "code",
      "execution_count": 1,
      "metadata": {
        "id": "qlK-gnkHTarT"
      },
      "outputs": [],
      "source": [
        "from joblib import Parallel, delayed\n",
        "import time, math"
      ]
    },
    {
      "cell_type": "code",
      "source": [
        "def my_fun(i):\n",
        "    time.sleep(1)\n",
        "    return math.sqrt(i**2)"
      ],
      "metadata": {
        "id": "16Sngs9iUHTw"
      },
      "execution_count": 2,
      "outputs": []
    },
    {
      "cell_type": "code",
      "source": [
        "def my_fun_2p(i, j):\n",
        "    time.sleep(1)\n",
        "    return math.sqrt(i**j)"
      ],
      "metadata": {
        "id": "yfmszS_nUkEG"
      },
      "execution_count": 5,
      "outputs": []
    },
    {
      "cell_type": "code",
      "source": [
        "num = 10\n",
        "start = time.time()\n",
        "for i in range(num):\n",
        "    my_fun(i)\n",
        "end = time.time()\n",
        "print('{:.4f} s'.format(end-start))"
      ],
      "metadata": {
        "colab": {
          "base_uri": "https://localhost:8080/"
        },
        "id": "VMml5i6uUPgZ",
        "outputId": "94ecf400-8b22-40bf-d3b9-b642f617d7fb"
      },
      "execution_count": 3,
      "outputs": [
        {
          "output_type": "stream",
          "name": "stdout",
          "text": [
            "10.0114 s\n"
          ]
        }
      ]
    },
    {
      "cell_type": "code",
      "source": [
        "j_num = 3\n",
        "num = 10\n",
        "start = time.time()\n",
        "for i in range(num):\n",
        "    for j in range(j_num):\n",
        "        my_fun_2p(i, j)\n",
        "end = time.time()\n",
        "print('{:.4f} s'.format(end-start))"
      ],
      "metadata": {
        "colab": {
          "base_uri": "https://localhost:8080/"
        },
        "id": "YTJJS-O-UqDu",
        "outputId": "f1a170d3-e2b2-4a37-dd63-5306d26c96ec"
      },
      "execution_count": 6,
      "outputs": [
        {
          "output_type": "stream",
          "name": "stdout",
          "text": [
            "30.0328 s\n"
          ]
        }
      ]
    },
    {
      "cell_type": "markdown",
      "source": [
        "### Parallel"
      ],
      "metadata": {
        "id": "-iR1IsEWVCD_"
      }
    },
    {
      "cell_type": "code",
      "source": [
        "start = time.time()\n",
        "Parallel(n_jobs=2)(delayed(my_fun)(i) for i in range(num))\n",
        "end = time.time()\n",
        "print('{:.4f} s'.format(end-start))"
      ],
      "metadata": {
        "colab": {
          "base_uri": "https://localhost:8080/"
        },
        "id": "4ZRJUJncUT1m",
        "outputId": "e9430c19-11f6-4ccf-8a5d-a08b35b29274"
      },
      "execution_count": 4,
      "outputs": [
        {
          "output_type": "stream",
          "name": "stdout",
          "text": [
            "5.5444 s\n"
          ]
        }
      ]
    },
    {
      "cell_type": "code",
      "source": [
        "start = time.time()\n",
        "Parallel(n_jobs=2)(delayed(my_fun_2p)(i, j) for i in range(num) for j in range(j_num))\n",
        "end = time.time()\n",
        "print('{:.4f} s'.format(end-start))"
      ],
      "metadata": {
        "colab": {
          "base_uri": "https://localhost:8080/"
        },
        "id": "W5QNJ2VwU3-H",
        "outputId": "69f21687-2b16-43bf-e267-49f57a9f8003"
      },
      "execution_count": 7,
      "outputs": [
        {
          "output_type": "stream",
          "name": "stdout",
          "text": [
            "15.0423 s\n"
          ]
        }
      ]
    }
  ]
}