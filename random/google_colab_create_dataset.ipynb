{
  "nbformat": 4,
  "nbformat_minor": 0,
  "metadata": {
    "colab": {
      "name": "google_colab_create_dataset.ipynb",
      "provenance": [],
      "collapsed_sections": []
    },
    "kernelspec": {
      "name": "python3",
      "display_name": "Python 3"
    },
    "language_info": {
      "name": "python"
    }
  },
  "cells": [
    {
      "cell_type": "markdown",
      "metadata": {
        "id": "BT3rldk5Zvp2"
      },
      "source": [
        "# Создание рандомного датасета"
      ]
    },
    {
      "cell_type": "code",
      "metadata": {
        "colab": {
          "base_uri": "https://localhost:8080/"
        },
        "id": "1EMLQdRxZcjh",
        "outputId": "41d92179-96cf-41e8-8831-b1bfd5185f0b"
      },
      "source": [
        "!pip install faker"
      ],
      "execution_count": 1,
      "outputs": [
        {
          "output_type": "stream",
          "text": [
            "Requirement already satisfied: faker in /usr/local/lib/python3.7/dist-packages (8.5.1)\n",
            "Requirement already satisfied: python-dateutil>=2.4 in /usr/local/lib/python3.7/dist-packages (from faker) (2.8.1)\n",
            "Requirement already satisfied: text-unidecode==1.3 in /usr/local/lib/python3.7/dist-packages (from faker) (1.3)\n",
            "Requirement already satisfied: six>=1.5 in /usr/local/lib/python3.7/dist-packages (from python-dateutil>=2.4->faker) (1.15.0)\n"
          ],
          "name": "stdout"
        }
      ]
    },
    {
      "cell_type": "code",
      "metadata": {
        "id": "dUYn6YwZbI1a"
      },
      "source": [
        "import pandas as pd\n",
        "from faker import Faker\n",
        "from tqdm import tqdm\n",
        "import itertools\n",
        "import random\n",
        "from datetime import date\n",
        "from dateutil.relativedelta import relativedelta"
      ],
      "execution_count": 2,
      "outputs": []
    },
    {
      "cell_type": "markdown",
      "metadata": {
        "id": "dLPOC2B5hBu5"
      },
      "source": [
        "## Генерация имен абонентов"
      ]
    },
    {
      "cell_type": "code",
      "metadata": {
        "id": "zwRsYp6xTBoF"
      },
      "source": [
        "fake = Faker()"
      ],
      "execution_count": 3,
      "outputs": []
    },
    {
      "cell_type": "code",
      "metadata": {
        "id": "B1zUZ2IabPpJ"
      },
      "source": [
        "list_id = []\n",
        "list_name = []\n",
        "list_city = []\n",
        "list_state = []"
      ],
      "execution_count": 4,
      "outputs": []
    },
    {
      "cell_type": "code",
      "metadata": {
        "colab": {
          "base_uri": "https://localhost:8080/"
        },
        "id": "4Tlb5Zxwbe5p",
        "outputId": "218709cc-357e-4421-8f0a-853320430d8d"
      },
      "source": [
        "i = 1\n",
        "for _ in tqdm(range(1000000)):\n",
        "  list_id.append(i)\n",
        "  list_name.append(fake.name())\n",
        "  list_state.append(fake.state())\n",
        "  i = i + 1 "
      ],
      "execution_count": 5,
      "outputs": [
        {
          "output_type": "stream",
          "text": [
            "100%|██████████| 1000000/1000000 [02:08<00:00, 7802.21it/s]\n"
          ],
          "name": "stderr"
        }
      ]
    },
    {
      "cell_type": "code",
      "metadata": {
        "id": "Jh2gt4j3cfDL"
      },
      "source": [
        "clients = pd.DataFrame(list(zip(list_id,list_name,list_state)),\n",
        "                       columns=['id','name','state'])"
      ],
      "execution_count": 6,
      "outputs": []
    },
    {
      "cell_type": "code",
      "metadata": {
        "colab": {
          "base_uri": "https://localhost:8080/",
          "height": 204
        },
        "id": "rNFPuvOBeB7D",
        "outputId": "4e419160-65cf-4782-ba75-34cf6deaa00e"
      },
      "source": [
        "clients.head(5)"
      ],
      "execution_count": 7,
      "outputs": [
        {
          "output_type": "execute_result",
          "data": {
            "text/html": [
              "<div>\n",
              "<style scoped>\n",
              "    .dataframe tbody tr th:only-of-type {\n",
              "        vertical-align: middle;\n",
              "    }\n",
              "\n",
              "    .dataframe tbody tr th {\n",
              "        vertical-align: top;\n",
              "    }\n",
              "\n",
              "    .dataframe thead th {\n",
              "        text-align: right;\n",
              "    }\n",
              "</style>\n",
              "<table border=\"1\" class=\"dataframe\">\n",
              "  <thead>\n",
              "    <tr style=\"text-align: right;\">\n",
              "      <th></th>\n",
              "      <th>id</th>\n",
              "      <th>name</th>\n",
              "      <th>state</th>\n",
              "    </tr>\n",
              "  </thead>\n",
              "  <tbody>\n",
              "    <tr>\n",
              "      <th>0</th>\n",
              "      <td>1</td>\n",
              "      <td>Jason Mathews</td>\n",
              "      <td>Wyoming</td>\n",
              "    </tr>\n",
              "    <tr>\n",
              "      <th>1</th>\n",
              "      <td>2</td>\n",
              "      <td>Dakota Brown</td>\n",
              "      <td>Hawaii</td>\n",
              "    </tr>\n",
              "    <tr>\n",
              "      <th>2</th>\n",
              "      <td>3</td>\n",
              "      <td>Ashley Martinez</td>\n",
              "      <td>Missouri</td>\n",
              "    </tr>\n",
              "    <tr>\n",
              "      <th>3</th>\n",
              "      <td>4</td>\n",
              "      <td>Ronald Duarte</td>\n",
              "      <td>Delaware</td>\n",
              "    </tr>\n",
              "    <tr>\n",
              "      <th>4</th>\n",
              "      <td>5</td>\n",
              "      <td>James Moore</td>\n",
              "      <td>Alaska</td>\n",
              "    </tr>\n",
              "  </tbody>\n",
              "</table>\n",
              "</div>"
            ],
            "text/plain": [
              "   id             name     state\n",
              "0   1    Jason Mathews   Wyoming\n",
              "1   2     Dakota Brown    Hawaii\n",
              "2   3  Ashley Martinez  Missouri\n",
              "3   4    Ronald Duarte  Delaware\n",
              "4   5      James Moore    Alaska"
            ]
          },
          "metadata": {
            "tags": []
          },
          "execution_count": 7
        }
      ]
    },
    {
      "cell_type": "markdown",
      "metadata": {
        "id": "2l_-xvRIhNqh"
      },
      "source": [
        "## Генерация даты подключения абонента согласно маркетинговым акциям"
      ]
    },
    {
      "cell_type": "code",
      "metadata": {
        "id": "0DV4gxxlhiKQ"
      },
      "source": [
        "# Акция 1 - апрель (продвижение тарифа middle)\n",
        "# Акция 2 - август (продвижение тарифа junior)\n",
        "# Акция 3 - декабрь (продвижение тарифа senior)"
      ],
      "execution_count": 8,
      "outputs": []
    },
    {
      "cell_type": "code",
      "metadata": {
        "id": "cJ2JFbehiXM4"
      },
      "source": [
        "def generator_value(dict_val):\n",
        "  \"\"\"Генератор случайных значений. Работает по словарю с частотами\"\"\"\n",
        "  list_val_l = [[key] * dict_val[key] for key in dict_val]\n",
        "  list_val = list(itertools.chain.from_iterable(list_val_l))\n",
        "  random_val = random.choice(list_val)\n",
        "  return  random_val"
      ],
      "execution_count": 9,
      "outputs": []
    },
    {
      "cell_type": "code",
      "metadata": {
        "id": "WSjdi-8QkEpp"
      },
      "source": [
        "# Словарь Месяц подключения. Пики приходятся на апрель, август, декабрь\n",
        "dict_month_connection  = {'1' : 1,\n",
        "                          '2' : 1, \n",
        "                          '3' : 1,\n",
        "                          '4' : 3,\n",
        "                          '5' : 1,\n",
        "                          '6' : 1,\n",
        "                          '7' : 1,\n",
        "                          '8' : 4,\n",
        "                          '9' : 1,\n",
        "                          '10': 1,\n",
        "                          '11': 1,\n",
        "                          '12' : 3}"
      ],
      "execution_count": 10,
      "outputs": []
    },
    {
      "cell_type": "code",
      "metadata": {
        "id": "bkIi9ZQVqi5h"
      },
      "source": [
        "clients['date_con'] = clients['id'].apply(lambda x: date(2020,int(generator_value(dict_month_connection)),1))"
      ],
      "execution_count": 11,
      "outputs": []
    },
    {
      "cell_type": "code",
      "metadata": {
        "colab": {
          "base_uri": "https://localhost:8080/",
          "height": 266
        },
        "id": "bb2hzKs7thPp",
        "outputId": "e09939ab-9483-40f1-f629-f17e46311bde"
      },
      "source": [
        "clients.head(7)"
      ],
      "execution_count": 12,
      "outputs": [
        {
          "output_type": "execute_result",
          "data": {
            "text/html": [
              "<div>\n",
              "<style scoped>\n",
              "    .dataframe tbody tr th:only-of-type {\n",
              "        vertical-align: middle;\n",
              "    }\n",
              "\n",
              "    .dataframe tbody tr th {\n",
              "        vertical-align: top;\n",
              "    }\n",
              "\n",
              "    .dataframe thead th {\n",
              "        text-align: right;\n",
              "    }\n",
              "</style>\n",
              "<table border=\"1\" class=\"dataframe\">\n",
              "  <thead>\n",
              "    <tr style=\"text-align: right;\">\n",
              "      <th></th>\n",
              "      <th>id</th>\n",
              "      <th>name</th>\n",
              "      <th>state</th>\n",
              "      <th>date_con</th>\n",
              "    </tr>\n",
              "  </thead>\n",
              "  <tbody>\n",
              "    <tr>\n",
              "      <th>0</th>\n",
              "      <td>1</td>\n",
              "      <td>Jason Mathews</td>\n",
              "      <td>Wyoming</td>\n",
              "      <td>2020-01-01</td>\n",
              "    </tr>\n",
              "    <tr>\n",
              "      <th>1</th>\n",
              "      <td>2</td>\n",
              "      <td>Dakota Brown</td>\n",
              "      <td>Hawaii</td>\n",
              "      <td>2020-12-01</td>\n",
              "    </tr>\n",
              "    <tr>\n",
              "      <th>2</th>\n",
              "      <td>3</td>\n",
              "      <td>Ashley Martinez</td>\n",
              "      <td>Missouri</td>\n",
              "      <td>2020-07-01</td>\n",
              "    </tr>\n",
              "    <tr>\n",
              "      <th>3</th>\n",
              "      <td>4</td>\n",
              "      <td>Ronald Duarte</td>\n",
              "      <td>Delaware</td>\n",
              "      <td>2020-04-01</td>\n",
              "    </tr>\n",
              "    <tr>\n",
              "      <th>4</th>\n",
              "      <td>5</td>\n",
              "      <td>James Moore</td>\n",
              "      <td>Alaska</td>\n",
              "      <td>2020-11-01</td>\n",
              "    </tr>\n",
              "    <tr>\n",
              "      <th>5</th>\n",
              "      <td>6</td>\n",
              "      <td>Victoria Potter</td>\n",
              "      <td>Arizona</td>\n",
              "      <td>2020-09-01</td>\n",
              "    </tr>\n",
              "    <tr>\n",
              "      <th>6</th>\n",
              "      <td>7</td>\n",
              "      <td>Nicole Gordon</td>\n",
              "      <td>Massachusetts</td>\n",
              "      <td>2020-04-01</td>\n",
              "    </tr>\n",
              "  </tbody>\n",
              "</table>\n",
              "</div>"
            ],
            "text/plain": [
              "   id             name          state    date_con\n",
              "0   1    Jason Mathews        Wyoming  2020-01-01\n",
              "1   2     Dakota Brown         Hawaii  2020-12-01\n",
              "2   3  Ashley Martinez       Missouri  2020-07-01\n",
              "3   4    Ronald Duarte       Delaware  2020-04-01\n",
              "4   5      James Moore         Alaska  2020-11-01\n",
              "5   6  Victoria Potter        Arizona  2020-09-01\n",
              "6   7    Nicole Gordon  Massachusetts  2020-04-01"
            ]
          },
          "metadata": {
            "tags": []
          },
          "execution_count": 12
        }
      ]
    },
    {
      "cell_type": "code",
      "metadata": {
        "colab": {
          "base_uri": "https://localhost:8080/"
        },
        "id": "eTgCC9nfsd2X",
        "outputId": "8a82f00e-9667-46ca-a440-1146517827cd"
      },
      "source": [
        "clients.date_con.value_counts()"
      ],
      "execution_count": 13,
      "outputs": [
        {
          "output_type": "execute_result",
          "data": {
            "text/plain": [
              "2020-08-01    210111\n",
              "2020-04-01    158532\n",
              "2020-12-01    158139\n",
              "2020-11-01     52941\n",
              "2020-02-01     52820\n",
              "2020-01-01     52796\n",
              "2020-09-01     52738\n",
              "2020-07-01     52644\n",
              "2020-03-01     52584\n",
              "2020-05-01     52400\n",
              "2020-06-01     52355\n",
              "2020-10-01     51940\n",
              "Name: date_con, dtype: int64"
            ]
          },
          "metadata": {
            "tags": []
          },
          "execution_count": 13
        }
      ]
    },
    {
      "cell_type": "markdown",
      "metadata": {
        "id": "ArFANYguujSh"
      },
      "source": [
        "## Установка первоначального тарифа"
      ]
    },
    {
      "cell_type": "code",
      "metadata": {
        "id": "tLoc4b4PupJ3"
      },
      "source": [
        "# Словарь Тарифы Основной\n",
        "dict_tariff_plan_common = {'senior':1,'middle':2,'junior':3}\n",
        "# Словарь Тарифы Акция \"Все учиться\" (август)\n",
        "dict_tariff_plan_august = {'senior':1,'middle':1,'junior':3}\n",
        "# Словарь Тарифы Акция \"Ты дорос до миддла\" (апрель)\n",
        "dict_tariff_plan_april = {'senior':1,'middle':2,'junior':1}\n",
        "# Словарь Тарифы Акция \"В зиму сеньором\" (декабрь)\n",
        "dict_tariff_plan_december = {'senior':2,'middle':1,'junior':1}"
      ],
      "execution_count": 14,
      "outputs": []
    },
    {
      "cell_type": "code",
      "metadata": {
        "id": "CBt-Bp47ydrA"
      },
      "source": [
        "def generator_value_tariff(val_date):\n",
        "  \"\"\"Генерация возможного тарифного плана в зависимости от проведения/непроведения маркетинговой акции\"\"\"\n",
        "  if val_date == date(2020,4,1):\n",
        "    t = generator_value(dict_tariff_plan_april)\n",
        "  elif val_date == date(2020,8,1):\n",
        "    t= generator_value(dict_tariff_plan_august)\n",
        "  elif val_date == date(2020,12,1):\n",
        "    t= generator_value(dict_tariff_plan_december)\n",
        "  else:\n",
        "    t= generator_value(dict_tariff_plan_common)\n",
        "  return t"
      ],
      "execution_count": 15,
      "outputs": []
    },
    {
      "cell_type": "code",
      "metadata": {
        "id": "3vqUe76ExQPw"
      },
      "source": [
        "clients['tariff_plan_con'] = clients['date_con'].apply(lambda x: generator_value_tariff(x))"
      ],
      "execution_count": 16,
      "outputs": []
    },
    {
      "cell_type": "code",
      "metadata": {
        "colab": {
          "base_uri": "https://localhost:8080/",
          "height": 266
        },
        "id": "bylYs3HAxlXg",
        "outputId": "b7f237b8-22b5-4c5e-be91-2f56068aa3ff"
      },
      "source": [
        "clients.head(7)"
      ],
      "execution_count": 17,
      "outputs": [
        {
          "output_type": "execute_result",
          "data": {
            "text/html": [
              "<div>\n",
              "<style scoped>\n",
              "    .dataframe tbody tr th:only-of-type {\n",
              "        vertical-align: middle;\n",
              "    }\n",
              "\n",
              "    .dataframe tbody tr th {\n",
              "        vertical-align: top;\n",
              "    }\n",
              "\n",
              "    .dataframe thead th {\n",
              "        text-align: right;\n",
              "    }\n",
              "</style>\n",
              "<table border=\"1\" class=\"dataframe\">\n",
              "  <thead>\n",
              "    <tr style=\"text-align: right;\">\n",
              "      <th></th>\n",
              "      <th>id</th>\n",
              "      <th>name</th>\n",
              "      <th>state</th>\n",
              "      <th>date_con</th>\n",
              "      <th>tariff_plan_con</th>\n",
              "    </tr>\n",
              "  </thead>\n",
              "  <tbody>\n",
              "    <tr>\n",
              "      <th>0</th>\n",
              "      <td>1</td>\n",
              "      <td>Jason Mathews</td>\n",
              "      <td>Wyoming</td>\n",
              "      <td>2020-01-01</td>\n",
              "      <td>senior</td>\n",
              "    </tr>\n",
              "    <tr>\n",
              "      <th>1</th>\n",
              "      <td>2</td>\n",
              "      <td>Dakota Brown</td>\n",
              "      <td>Hawaii</td>\n",
              "      <td>2020-12-01</td>\n",
              "      <td>senior</td>\n",
              "    </tr>\n",
              "    <tr>\n",
              "      <th>2</th>\n",
              "      <td>3</td>\n",
              "      <td>Ashley Martinez</td>\n",
              "      <td>Missouri</td>\n",
              "      <td>2020-07-01</td>\n",
              "      <td>junior</td>\n",
              "    </tr>\n",
              "    <tr>\n",
              "      <th>3</th>\n",
              "      <td>4</td>\n",
              "      <td>Ronald Duarte</td>\n",
              "      <td>Delaware</td>\n",
              "      <td>2020-04-01</td>\n",
              "      <td>middle</td>\n",
              "    </tr>\n",
              "    <tr>\n",
              "      <th>4</th>\n",
              "      <td>5</td>\n",
              "      <td>James Moore</td>\n",
              "      <td>Alaska</td>\n",
              "      <td>2020-11-01</td>\n",
              "      <td>senior</td>\n",
              "    </tr>\n",
              "    <tr>\n",
              "      <th>5</th>\n",
              "      <td>6</td>\n",
              "      <td>Victoria Potter</td>\n",
              "      <td>Arizona</td>\n",
              "      <td>2020-09-01</td>\n",
              "      <td>junior</td>\n",
              "    </tr>\n",
              "    <tr>\n",
              "      <th>6</th>\n",
              "      <td>7</td>\n",
              "      <td>Nicole Gordon</td>\n",
              "      <td>Massachusetts</td>\n",
              "      <td>2020-04-01</td>\n",
              "      <td>middle</td>\n",
              "    </tr>\n",
              "  </tbody>\n",
              "</table>\n",
              "</div>"
            ],
            "text/plain": [
              "   id             name          state    date_con tariff_plan_con\n",
              "0   1    Jason Mathews        Wyoming  2020-01-01          senior\n",
              "1   2     Dakota Brown         Hawaii  2020-12-01          senior\n",
              "2   3  Ashley Martinez       Missouri  2020-07-01          junior\n",
              "3   4    Ronald Duarte       Delaware  2020-04-01          middle\n",
              "4   5      James Moore         Alaska  2020-11-01          senior\n",
              "5   6  Victoria Potter        Arizona  2020-09-01          junior\n",
              "6   7    Nicole Gordon  Massachusetts  2020-04-01          middle"
            ]
          },
          "metadata": {
            "tags": []
          },
          "execution_count": 17
        }
      ]
    },
    {
      "cell_type": "code",
      "metadata": {
        "colab": {
          "base_uri": "https://localhost:8080/"
        },
        "id": "g85slOT11H3w",
        "outputId": "e0bb32cd-0904-43f2-a31c-a768203f664e"
      },
      "source": [
        "clients.tariff_plan_con.value_counts()"
      ],
      "execution_count": 18,
      "outputs": [
        {
          "output_type": "execute_result",
          "data": {
            "text/plain": [
              "junior    442449\n",
              "middle    317916\n",
              "senior    239635\n",
              "Name: tariff_plan_con, dtype: int64"
            ]
          },
          "metadata": {
            "tags": []
          },
          "execution_count": 18
        }
      ]
    },
    {
      "cell_type": "markdown",
      "metadata": {
        "id": "dR1w7wQQ3w4f"
      },
      "source": [
        "## Смена тарифного плана"
      ]
    },
    {
      "cell_type": "code",
      "metadata": {
        "id": "4IbYIaTR3wiw"
      },
      "source": [
        "# Словарь Смена тарифного плана. Число месяцев со дня подключения\n",
        "dict_month_change_tаriff_plan = {'':10,'1':3,'2':2,'3':1}"
      ],
      "execution_count": 19,
      "outputs": []
    },
    {
      "cell_type": "code",
      "metadata": {
        "id": "cpgAV8dl6vbY"
      },
      "source": [
        "def generator_value_date_change_tariff_plan(val_date):\n",
        "  \"\"\"Генерация даты смены тарифного плана\"\"\"\n",
        "  m = generator_value(dict_month_change_tаriff_plan)\n",
        "  if m!='':\n",
        "    count_month = int(m)\n",
        "    d = val_date + relativedelta(months = count_month)\n",
        "    return d"
      ],
      "execution_count": 20,
      "outputs": []
    },
    {
      "cell_type": "code",
      "metadata": {
        "id": "77G3P9zq49w5"
      },
      "source": [
        "clients['date_change_tariff_plan'] = clients['date_con'].apply(lambda x: generator_value_date_change_tariff_plan(x))"
      ],
      "execution_count": 21,
      "outputs": []
    },
    {
      "cell_type": "code",
      "metadata": {
        "colab": {
          "base_uri": "https://localhost:8080/",
          "height": 266
        },
        "id": "uyH-UL2Q87hX",
        "outputId": "e44217ec-d212-4b2f-8e8d-e2c8047a3f1e"
      },
      "source": [
        "clients.head(7)"
      ],
      "execution_count": 22,
      "outputs": [
        {
          "output_type": "execute_result",
          "data": {
            "text/html": [
              "<div>\n",
              "<style scoped>\n",
              "    .dataframe tbody tr th:only-of-type {\n",
              "        vertical-align: middle;\n",
              "    }\n",
              "\n",
              "    .dataframe tbody tr th {\n",
              "        vertical-align: top;\n",
              "    }\n",
              "\n",
              "    .dataframe thead th {\n",
              "        text-align: right;\n",
              "    }\n",
              "</style>\n",
              "<table border=\"1\" class=\"dataframe\">\n",
              "  <thead>\n",
              "    <tr style=\"text-align: right;\">\n",
              "      <th></th>\n",
              "      <th>id</th>\n",
              "      <th>name</th>\n",
              "      <th>state</th>\n",
              "      <th>date_con</th>\n",
              "      <th>tariff_plan_con</th>\n",
              "      <th>date_change_tariff_plan</th>\n",
              "    </tr>\n",
              "  </thead>\n",
              "  <tbody>\n",
              "    <tr>\n",
              "      <th>0</th>\n",
              "      <td>1</td>\n",
              "      <td>Jason Mathews</td>\n",
              "      <td>Wyoming</td>\n",
              "      <td>2020-01-01</td>\n",
              "      <td>senior</td>\n",
              "      <td>None</td>\n",
              "    </tr>\n",
              "    <tr>\n",
              "      <th>1</th>\n",
              "      <td>2</td>\n",
              "      <td>Dakota Brown</td>\n",
              "      <td>Hawaii</td>\n",
              "      <td>2020-12-01</td>\n",
              "      <td>senior</td>\n",
              "      <td>2021-03-01</td>\n",
              "    </tr>\n",
              "    <tr>\n",
              "      <th>2</th>\n",
              "      <td>3</td>\n",
              "      <td>Ashley Martinez</td>\n",
              "      <td>Missouri</td>\n",
              "      <td>2020-07-01</td>\n",
              "      <td>junior</td>\n",
              "      <td>None</td>\n",
              "    </tr>\n",
              "    <tr>\n",
              "      <th>3</th>\n",
              "      <td>4</td>\n",
              "      <td>Ronald Duarte</td>\n",
              "      <td>Delaware</td>\n",
              "      <td>2020-04-01</td>\n",
              "      <td>middle</td>\n",
              "      <td>None</td>\n",
              "    </tr>\n",
              "    <tr>\n",
              "      <th>4</th>\n",
              "      <td>5</td>\n",
              "      <td>James Moore</td>\n",
              "      <td>Alaska</td>\n",
              "      <td>2020-11-01</td>\n",
              "      <td>senior</td>\n",
              "      <td>None</td>\n",
              "    </tr>\n",
              "    <tr>\n",
              "      <th>5</th>\n",
              "      <td>6</td>\n",
              "      <td>Victoria Potter</td>\n",
              "      <td>Arizona</td>\n",
              "      <td>2020-09-01</td>\n",
              "      <td>junior</td>\n",
              "      <td>2020-10-01</td>\n",
              "    </tr>\n",
              "    <tr>\n",
              "      <th>6</th>\n",
              "      <td>7</td>\n",
              "      <td>Nicole Gordon</td>\n",
              "      <td>Massachusetts</td>\n",
              "      <td>2020-04-01</td>\n",
              "      <td>middle</td>\n",
              "      <td>2020-05-01</td>\n",
              "    </tr>\n",
              "  </tbody>\n",
              "</table>\n",
              "</div>"
            ],
            "text/plain": [
              "   id             name  ... tariff_plan_con date_change_tariff_plan\n",
              "0   1    Jason Mathews  ...          senior                    None\n",
              "1   2     Dakota Brown  ...          senior              2021-03-01\n",
              "2   3  Ashley Martinez  ...          junior                    None\n",
              "3   4    Ronald Duarte  ...          middle                    None\n",
              "4   5      James Moore  ...          senior                    None\n",
              "5   6  Victoria Potter  ...          junior              2020-10-01\n",
              "6   7    Nicole Gordon  ...          middle              2020-05-01\n",
              "\n",
              "[7 rows x 6 columns]"
            ]
          },
          "metadata": {
            "tags": []
          },
          "execution_count": 22
        }
      ]
    },
    {
      "cell_type": "code",
      "metadata": {
        "colab": {
          "base_uri": "https://localhost:8080/"
        },
        "id": "57DnRwpj9CP2",
        "outputId": "cd480838-402f-4705-c1e6-ea49f2ab5456"
      },
      "source": [
        "clients.date_change_tariff_plan.value_counts()"
      ],
      "execution_count": 23,
      "outputs": [
        {
          "output_type": "execute_result",
          "data": {
            "text/plain": [
              "2020-09-01    49108\n",
              "2021-01-01    39803\n",
              "2020-05-01    39560\n",
              "2020-10-01    39222\n",
              "2020-06-01    32780\n",
              "2020-11-01    29670\n",
              "2020-07-01    26320\n",
              "2021-02-01    23155\n",
              "2020-08-01    19726\n",
              "2020-04-01    19719\n",
              "2020-12-01    19676\n",
              "2020-03-01    16382\n",
              "2021-03-01     9864\n",
              "2020-02-01     9854\n",
              "Name: date_change_tariff_plan, dtype: int64"
            ]
          },
          "metadata": {
            "tags": []
          },
          "execution_count": 23
        }
      ]
    },
    {
      "cell_type": "code",
      "metadata": {
        "id": "O4TqGwaOCgX9"
      },
      "source": [
        "# Логика смены тарифов: senior - senior, middle - senior, junior- middle\n",
        "def generator_value_change_tariff_plan_(name_tariff):\n",
        "  \"\"\"Вспомогательная функция для смены тарифного плана\"\"\"\n",
        "  if name_tariff == 'senior':\n",
        "    t = 'senior'\n",
        "  elif name_tariff == 'middle':\n",
        "    t = 'senior'\n",
        "  elif name_tariff == 'junior':\n",
        "    t = 'middle'\n",
        "  return t"
      ],
      "execution_count": 24,
      "outputs": []
    },
    {
      "cell_type": "code",
      "metadata": {
        "id": "lZBx1ylPIX9A"
      },
      "source": [
        "def generator_value_change_tariff_plan(row):\n",
        "  \"\"\"Функция смены тарифного плана\"\"\"\n",
        "  if row['date_change_tariff_plan'] is not None:\n",
        "    t =  generator_value_change_tariff_plan_(row['tariff_plan_con'])\n",
        "    return t"
      ],
      "execution_count": 25,
      "outputs": []
    },
    {
      "cell_type": "code",
      "metadata": {
        "id": "vIBc04_qFMyX"
      },
      "source": [
        "clients['tariff_plan_change'] = clients.apply(lambda row: generator_value_change_tariff_plan(row),axis=1)"
      ],
      "execution_count": 26,
      "outputs": []
    },
    {
      "cell_type": "code",
      "metadata": {
        "colab": {
          "base_uri": "https://localhost:8080/",
          "height": 514
        },
        "id": "_UApnV6kFZ79",
        "outputId": "b3b69466-28eb-4f1b-b979-98980a36ae87"
      },
      "source": [
        "clients.head(15)"
      ],
      "execution_count": 27,
      "outputs": [
        {
          "output_type": "execute_result",
          "data": {
            "text/html": [
              "<div>\n",
              "<style scoped>\n",
              "    .dataframe tbody tr th:only-of-type {\n",
              "        vertical-align: middle;\n",
              "    }\n",
              "\n",
              "    .dataframe tbody tr th {\n",
              "        vertical-align: top;\n",
              "    }\n",
              "\n",
              "    .dataframe thead th {\n",
              "        text-align: right;\n",
              "    }\n",
              "</style>\n",
              "<table border=\"1\" class=\"dataframe\">\n",
              "  <thead>\n",
              "    <tr style=\"text-align: right;\">\n",
              "      <th></th>\n",
              "      <th>id</th>\n",
              "      <th>name</th>\n",
              "      <th>state</th>\n",
              "      <th>date_con</th>\n",
              "      <th>tariff_plan_con</th>\n",
              "      <th>date_change_tariff_plan</th>\n",
              "      <th>tariff_plan_change</th>\n",
              "    </tr>\n",
              "  </thead>\n",
              "  <tbody>\n",
              "    <tr>\n",
              "      <th>0</th>\n",
              "      <td>1</td>\n",
              "      <td>Jason Mathews</td>\n",
              "      <td>Wyoming</td>\n",
              "      <td>2020-01-01</td>\n",
              "      <td>senior</td>\n",
              "      <td>None</td>\n",
              "      <td>None</td>\n",
              "    </tr>\n",
              "    <tr>\n",
              "      <th>1</th>\n",
              "      <td>2</td>\n",
              "      <td>Dakota Brown</td>\n",
              "      <td>Hawaii</td>\n",
              "      <td>2020-12-01</td>\n",
              "      <td>senior</td>\n",
              "      <td>2021-03-01</td>\n",
              "      <td>senior</td>\n",
              "    </tr>\n",
              "    <tr>\n",
              "      <th>2</th>\n",
              "      <td>3</td>\n",
              "      <td>Ashley Martinez</td>\n",
              "      <td>Missouri</td>\n",
              "      <td>2020-07-01</td>\n",
              "      <td>junior</td>\n",
              "      <td>None</td>\n",
              "      <td>None</td>\n",
              "    </tr>\n",
              "    <tr>\n",
              "      <th>3</th>\n",
              "      <td>4</td>\n",
              "      <td>Ronald Duarte</td>\n",
              "      <td>Delaware</td>\n",
              "      <td>2020-04-01</td>\n",
              "      <td>middle</td>\n",
              "      <td>None</td>\n",
              "      <td>None</td>\n",
              "    </tr>\n",
              "    <tr>\n",
              "      <th>4</th>\n",
              "      <td>5</td>\n",
              "      <td>James Moore</td>\n",
              "      <td>Alaska</td>\n",
              "      <td>2020-11-01</td>\n",
              "      <td>senior</td>\n",
              "      <td>None</td>\n",
              "      <td>None</td>\n",
              "    </tr>\n",
              "    <tr>\n",
              "      <th>5</th>\n",
              "      <td>6</td>\n",
              "      <td>Victoria Potter</td>\n",
              "      <td>Arizona</td>\n",
              "      <td>2020-09-01</td>\n",
              "      <td>junior</td>\n",
              "      <td>2020-10-01</td>\n",
              "      <td>middle</td>\n",
              "    </tr>\n",
              "    <tr>\n",
              "      <th>6</th>\n",
              "      <td>7</td>\n",
              "      <td>Nicole Gordon</td>\n",
              "      <td>Massachusetts</td>\n",
              "      <td>2020-04-01</td>\n",
              "      <td>middle</td>\n",
              "      <td>2020-05-01</td>\n",
              "      <td>senior</td>\n",
              "    </tr>\n",
              "    <tr>\n",
              "      <th>7</th>\n",
              "      <td>8</td>\n",
              "      <td>Mr. Kenneth Carrillo</td>\n",
              "      <td>North Dakota</td>\n",
              "      <td>2020-08-01</td>\n",
              "      <td>senior</td>\n",
              "      <td>None</td>\n",
              "      <td>None</td>\n",
              "    </tr>\n",
              "    <tr>\n",
              "      <th>8</th>\n",
              "      <td>9</td>\n",
              "      <td>Michelle Morse</td>\n",
              "      <td>Virginia</td>\n",
              "      <td>2020-12-01</td>\n",
              "      <td>senior</td>\n",
              "      <td>2021-01-01</td>\n",
              "      <td>senior</td>\n",
              "    </tr>\n",
              "    <tr>\n",
              "      <th>9</th>\n",
              "      <td>10</td>\n",
              "      <td>Kristin Kim</td>\n",
              "      <td>New Jersey</td>\n",
              "      <td>2020-09-01</td>\n",
              "      <td>junior</td>\n",
              "      <td>None</td>\n",
              "      <td>None</td>\n",
              "    </tr>\n",
              "    <tr>\n",
              "      <th>10</th>\n",
              "      <td>11</td>\n",
              "      <td>Anna Oliver</td>\n",
              "      <td>Georgia</td>\n",
              "      <td>2020-11-01</td>\n",
              "      <td>junior</td>\n",
              "      <td>None</td>\n",
              "      <td>None</td>\n",
              "    </tr>\n",
              "    <tr>\n",
              "      <th>11</th>\n",
              "      <td>12</td>\n",
              "      <td>Mrs. Shannon Harrison</td>\n",
              "      <td>West Virginia</td>\n",
              "      <td>2020-11-01</td>\n",
              "      <td>junior</td>\n",
              "      <td>None</td>\n",
              "      <td>None</td>\n",
              "    </tr>\n",
              "    <tr>\n",
              "      <th>12</th>\n",
              "      <td>13</td>\n",
              "      <td>Morgan Cantu</td>\n",
              "      <td>Montana</td>\n",
              "      <td>2020-01-01</td>\n",
              "      <td>middle</td>\n",
              "      <td>None</td>\n",
              "      <td>None</td>\n",
              "    </tr>\n",
              "    <tr>\n",
              "      <th>13</th>\n",
              "      <td>14</td>\n",
              "      <td>Thomas Scott</td>\n",
              "      <td>South Dakota</td>\n",
              "      <td>2020-06-01</td>\n",
              "      <td>senior</td>\n",
              "      <td>None</td>\n",
              "      <td>None</td>\n",
              "    </tr>\n",
              "    <tr>\n",
              "      <th>14</th>\n",
              "      <td>15</td>\n",
              "      <td>Christopher Johnston</td>\n",
              "      <td>Delaware</td>\n",
              "      <td>2020-12-01</td>\n",
              "      <td>senior</td>\n",
              "      <td>None</td>\n",
              "      <td>None</td>\n",
              "    </tr>\n",
              "  </tbody>\n",
              "</table>\n",
              "</div>"
            ],
            "text/plain": [
              "    id                   name  ... date_change_tariff_plan tariff_plan_change\n",
              "0    1          Jason Mathews  ...                    None               None\n",
              "1    2           Dakota Brown  ...              2021-03-01             senior\n",
              "2    3        Ashley Martinez  ...                    None               None\n",
              "3    4          Ronald Duarte  ...                    None               None\n",
              "4    5            James Moore  ...                    None               None\n",
              "5    6        Victoria Potter  ...              2020-10-01             middle\n",
              "6    7          Nicole Gordon  ...              2020-05-01             senior\n",
              "7    8   Mr. Kenneth Carrillo  ...                    None               None\n",
              "8    9         Michelle Morse  ...              2021-01-01             senior\n",
              "9   10            Kristin Kim  ...                    None               None\n",
              "10  11            Anna Oliver  ...                    None               None\n",
              "11  12  Mrs. Shannon Harrison  ...                    None               None\n",
              "12  13           Morgan Cantu  ...                    None               None\n",
              "13  14           Thomas Scott  ...                    None               None\n",
              "14  15   Christopher Johnston  ...                    None               None\n",
              "\n",
              "[15 rows x 7 columns]"
            ]
          },
          "metadata": {
            "tags": []
          },
          "execution_count": 27
        }
      ]
    },
    {
      "cell_type": "code",
      "metadata": {
        "colab": {
          "base_uri": "https://localhost:8080/"
        },
        "id": "JXjlqSrsVQtV",
        "outputId": "23baaca4-475b-46d7-fdc2-2f5c13b8b7e6"
      },
      "source": [
        "clients.tariff_plan_change.value_counts()"
      ],
      "execution_count": 28,
      "outputs": [
        {
          "output_type": "execute_result",
          "data": {
            "text/plain": [
              "senior    208956\n",
              "middle    165883\n",
              "Name: tariff_plan_change, dtype: int64"
            ]
          },
          "metadata": {
            "tags": []
          },
          "execution_count": 28
        }
      ]
    },
    {
      "cell_type": "markdown",
      "metadata": {
        "id": "-fjwiii1MoDw"
      },
      "source": [
        "## Генерация даты возможного ухода абонента"
      ]
    },
    {
      "cell_type": "code",
      "metadata": {
        "id": "fOqs0Z6pO8KX"
      },
      "source": [
        "# Логика ухода абонентов. \n",
        "# Больше всего людей \"отваливаются\" либо сразу после регистрации либо ближе к году использования сервиса\n",
        "# Практически нет оттока с 3 по 6 месяц\n",
        "# Есть абоненты, которые продолжают платить и после года использования сервиса"
      ],
      "execution_count": 29,
      "outputs": []
    },
    {
      "cell_type": "code",
      "metadata": {
        "id": "KB89Tb_SMtfF"
      },
      "source": [
        "# Словарь Количество месяцев использования сервиса \n",
        "dict_count_month_before_discon ={'1' : 3,\n",
        "                          '2' : 2, \n",
        "                          '3' : 1,\n",
        "                          '4' : 1,\n",
        "                          '5' : 1,\n",
        "                          '6' : 1,\n",
        "                          '7' : 2,\n",
        "                          '8' : 3,\n",
        "                          '9' : 4,\n",
        "                          '10': 5,\n",
        "                          '11': 6,\n",
        "                          '12' : 7,\n",
        "                          '' : 3}"
      ],
      "execution_count": 30,
      "outputs": []
    },
    {
      "cell_type": "code",
      "metadata": {
        "id": "alutMao9QHhM"
      },
      "source": [
        "def generator_value_date_discon(row):\n",
        "  \"\"\"Генерация даты ухода абонента\"\"\"\n",
        "  m = generator_value(dict_count_month_before_discon)\n",
        "  if m!='':\n",
        "    count_month = int(m)\n",
        "    if row['date_change_tariff_plan'] is not None:\n",
        "      d = row['date_change_tariff_plan'] + relativedelta(months = count_month)\n",
        "    else:\n",
        "      d = row['date_con'] + relativedelta(months = count_month)\n",
        "    return d"
      ],
      "execution_count": 31,
      "outputs": []
    },
    {
      "cell_type": "code",
      "metadata": {
        "id": "nmu0TIv0RR4m"
      },
      "source": [
        "clients['date_discon'] = clients.apply(lambda row: generator_value_date_discon(row),axis=1)"
      ],
      "execution_count": 32,
      "outputs": []
    },
    {
      "cell_type": "code",
      "metadata": {
        "colab": {
          "base_uri": "https://localhost:8080/",
          "height": 266
        },
        "id": "QbWEnxMaR6w2",
        "outputId": "c408ad5f-41b9-4bd7-be34-470eed3435d1"
      },
      "source": [
        "clients.head(7)"
      ],
      "execution_count": 33,
      "outputs": [
        {
          "output_type": "execute_result",
          "data": {
            "text/html": [
              "<div>\n",
              "<style scoped>\n",
              "    .dataframe tbody tr th:only-of-type {\n",
              "        vertical-align: middle;\n",
              "    }\n",
              "\n",
              "    .dataframe tbody tr th {\n",
              "        vertical-align: top;\n",
              "    }\n",
              "\n",
              "    .dataframe thead th {\n",
              "        text-align: right;\n",
              "    }\n",
              "</style>\n",
              "<table border=\"1\" class=\"dataframe\">\n",
              "  <thead>\n",
              "    <tr style=\"text-align: right;\">\n",
              "      <th></th>\n",
              "      <th>id</th>\n",
              "      <th>name</th>\n",
              "      <th>state</th>\n",
              "      <th>date_con</th>\n",
              "      <th>tariff_plan_con</th>\n",
              "      <th>date_change_tariff_plan</th>\n",
              "      <th>tariff_plan_change</th>\n",
              "      <th>date_discon</th>\n",
              "    </tr>\n",
              "  </thead>\n",
              "  <tbody>\n",
              "    <tr>\n",
              "      <th>0</th>\n",
              "      <td>1</td>\n",
              "      <td>Jason Mathews</td>\n",
              "      <td>Wyoming</td>\n",
              "      <td>2020-01-01</td>\n",
              "      <td>senior</td>\n",
              "      <td>None</td>\n",
              "      <td>None</td>\n",
              "      <td>2020-02-01</td>\n",
              "    </tr>\n",
              "    <tr>\n",
              "      <th>1</th>\n",
              "      <td>2</td>\n",
              "      <td>Dakota Brown</td>\n",
              "      <td>Hawaii</td>\n",
              "      <td>2020-12-01</td>\n",
              "      <td>senior</td>\n",
              "      <td>2021-03-01</td>\n",
              "      <td>senior</td>\n",
              "      <td>2021-11-01</td>\n",
              "    </tr>\n",
              "    <tr>\n",
              "      <th>2</th>\n",
              "      <td>3</td>\n",
              "      <td>Ashley Martinez</td>\n",
              "      <td>Missouri</td>\n",
              "      <td>2020-07-01</td>\n",
              "      <td>junior</td>\n",
              "      <td>None</td>\n",
              "      <td>None</td>\n",
              "      <td>None</td>\n",
              "    </tr>\n",
              "    <tr>\n",
              "      <th>3</th>\n",
              "      <td>4</td>\n",
              "      <td>Ronald Duarte</td>\n",
              "      <td>Delaware</td>\n",
              "      <td>2020-04-01</td>\n",
              "      <td>middle</td>\n",
              "      <td>None</td>\n",
              "      <td>None</td>\n",
              "      <td>2020-11-01</td>\n",
              "    </tr>\n",
              "    <tr>\n",
              "      <th>4</th>\n",
              "      <td>5</td>\n",
              "      <td>James Moore</td>\n",
              "      <td>Alaska</td>\n",
              "      <td>2020-11-01</td>\n",
              "      <td>senior</td>\n",
              "      <td>None</td>\n",
              "      <td>None</td>\n",
              "      <td>2020-12-01</td>\n",
              "    </tr>\n",
              "    <tr>\n",
              "      <th>5</th>\n",
              "      <td>6</td>\n",
              "      <td>Victoria Potter</td>\n",
              "      <td>Arizona</td>\n",
              "      <td>2020-09-01</td>\n",
              "      <td>junior</td>\n",
              "      <td>2020-10-01</td>\n",
              "      <td>middle</td>\n",
              "      <td>2021-10-01</td>\n",
              "    </tr>\n",
              "    <tr>\n",
              "      <th>6</th>\n",
              "      <td>7</td>\n",
              "      <td>Nicole Gordon</td>\n",
              "      <td>Massachusetts</td>\n",
              "      <td>2020-04-01</td>\n",
              "      <td>middle</td>\n",
              "      <td>2020-05-01</td>\n",
              "      <td>senior</td>\n",
              "      <td>2021-04-01</td>\n",
              "    </tr>\n",
              "  </tbody>\n",
              "</table>\n",
              "</div>"
            ],
            "text/plain": [
              "   id             name  ... tariff_plan_change date_discon\n",
              "0   1    Jason Mathews  ...               None  2020-02-01\n",
              "1   2     Dakota Brown  ...             senior  2021-11-01\n",
              "2   3  Ashley Martinez  ...               None        None\n",
              "3   4    Ronald Duarte  ...               None  2020-11-01\n",
              "4   5      James Moore  ...               None  2020-12-01\n",
              "5   6  Victoria Potter  ...             middle  2021-10-01\n",
              "6   7    Nicole Gordon  ...             senior  2021-04-01\n",
              "\n",
              "[7 rows x 8 columns]"
            ]
          },
          "metadata": {
            "tags": []
          },
          "execution_count": 33
        }
      ]
    },
    {
      "cell_type": "code",
      "metadata": {
        "colab": {
          "base_uri": "https://localhost:8080/"
        },
        "id": "flOszDUgWi6F",
        "outputId": "88f6b4aa-ddd8-45fc-9669-8fda1b9a4174"
      },
      "source": [
        "clients.date_discon.value_counts()"
      ],
      "execution_count": 34,
      "outputs": [
        {
          "output_type": "execute_result",
          "data": {
            "text/plain": [
              "2021-04-01    72658\n",
              "2021-03-01    67566\n",
              "2021-08-01    67162\n",
              "2021-07-01    64695\n",
              "2021-02-01    64399\n",
              "2021-05-01    62929\n",
              "2021-06-01    62073\n",
              "2021-01-01    61729\n",
              "2021-09-01    50611\n",
              "2020-12-01    46278\n",
              "2021-10-01    43910\n",
              "2021-11-01    37811\n",
              "2020-11-01    37224\n",
              "2021-12-01    31387\n",
              "2020-10-01    31294\n",
              "2020-09-01    27257\n",
              "2020-08-01    16746\n",
              "2020-07-01    15112\n",
              "2020-06-01    14730\n",
              "2020-05-01    13703\n",
              "2022-01-01    11959\n",
              "2020-04-01     6822\n",
              "2022-02-01     5685\n",
              "2020-03-01     5013\n",
              "2020-02-01     2597\n",
              "2022-03-01     1718\n",
              "Name: date_discon, dtype: int64"
            ]
          },
          "metadata": {
            "tags": []
          },
          "execution_count": 34
        }
      ]
    },
    {
      "cell_type": "code",
      "metadata": {
        "id": "0SyF2kIYXhe9"
      },
      "source": [
        "clients.to_csv('dataset_clients.csv', index=False)"
      ],
      "execution_count": 36,
      "outputs": []
    }
  ]
}
