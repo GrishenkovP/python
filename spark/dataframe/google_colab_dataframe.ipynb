{
  "nbformat": 4,
  "nbformat_minor": 0,
  "metadata": {
    "colab": {
      "name": "PySpark1.ipynb",
      "provenance": [],
      "collapsed_sections": []
    },
    "kernelspec": {
      "name": "python3",
      "display_name": "Python 3"
    }
  },
  "cells": [
    {
      "cell_type": "code",
      "metadata": {
        "id": "H5ZNQ6KYwND-",
        "colab_type": "code",
        "colab": {}
      },
      "source": [
        "#импорт библиотек\n",
        "import pandas as pd\n",
        "import numpy as np"
      ],
      "execution_count": null,
      "outputs": []
    },
    {
      "cell_type": "code",
      "metadata": {
        "id": "zH9NLWD13EjB",
        "colab_type": "code",
        "colab": {}
      },
      "source": [
        "# Install the dependencies\n",
        "!apt-get install openjdk-8-jdk-headless -qq > /dev/null\n",
        "!wget -q https://archive.apache.org/dist/spark/spark-3.0.0/spark-3.0.0-bin-hadoop2.7.tgz\n",
        "!tar xf spark-3.0.0-bin-hadoop2.7.tgz\n",
        "!pip install -q findspark"
      ],
      "execution_count": null,
      "outputs": []
    },
    {
      "cell_type": "code",
      "metadata": {
        "id": "c6Cokct83h5R",
        "colab_type": "code",
        "colab": {}
      },
      "source": [
        "#Set the environment variables for running PySpark in the collaboration environmentimport os\n",
        "import os\n",
        "os.environ[\"JAVA_HOME\"] = \"/usr/lib/jvm/java-8-openjdk-amd64\"\n",
        "os.environ[\"SPARK_HOME\"] = \"/content/spark-3.0.0-bin-hadoop2.7\""
      ],
      "execution_count": null,
      "outputs": []
    },
    {
      "cell_type": "code",
      "metadata": {
        "id": "WaccJdNb4hol",
        "colab_type": "code",
        "colab": {}
      },
      "source": [
        "# Run the local session to test the installation\n",
        "import findspark\n",
        "findspark.init('spark-3.0.0-bin-hadoop2.7')\n",
        "from pyspark.sql import SparkSession\n",
        "spark = SparkSession.builder.master('local[*]').getOrCreate()"
      ],
      "execution_count": null,
      "outputs": []
    },
    {
      "cell_type": "code",
      "metadata": {
        "id": "Hz-6roMa6w2S",
        "colab_type": "code",
        "colab": {}
      },
      "source": [
        "catalog_product1 = spark.createDataFrame([(100,'furniture'),(101,'electrical goods'),(102,'construction and repair')],\n",
        "                                         ['id' , 'name'])\n",
        "catalog_product2 = spark.createDataFrame([(200,'clothes'),(201,'dishes'),(202,'car goods')],\n",
        "                                         ['id' , 'name'])"
      ],
      "execution_count": null,
      "outputs": []
    },
    {
      "cell_type": "code",
      "metadata": {
        "id": "7RkA05dHCVE9",
        "colab_type": "code",
        "colab": {
          "base_uri": "https://localhost:8080/",
          "height": 391
        },
        "outputId": "d60feb7b-8822-4266-fe4b-e20cb6d83a33"
      },
      "source": [
        "#Создадим единый каталог товаров, объединив два датасета\n",
        "catalog_product_full = catalog_product1.union(catalog_product2).orderBy('id', ascending=True)\n",
        "catalog_product_full.show()\n",
        "catalog_product_full = catalog_product_full.withColumnRenamed('id','id_product')\n",
        "catalog_product_full.show()"
      ],
      "execution_count": null,
      "outputs": [
        {
          "output_type": "stream",
          "text": [
            "+---+--------------------+\n",
            "| id|                name|\n",
            "+---+--------------------+\n",
            "|100|           furniture|\n",
            "|101|    electrical goods|\n",
            "|102|construction and ...|\n",
            "|200|             clothes|\n",
            "|201|              dishes|\n",
            "|202|           car goods|\n",
            "+---+--------------------+\n",
            "\n",
            "+----------+--------------------+\n",
            "|id_product|                name|\n",
            "+----------+--------------------+\n",
            "|       100|           furniture|\n",
            "|       101|    electrical goods|\n",
            "|       102|construction and ...|\n",
            "|       200|             clothes|\n",
            "|       201|              dishes|\n",
            "|       202|           car goods|\n",
            "+----------+--------------------+\n",
            "\n"
          ],
          "name": "stdout"
        }
      ]
    },
    {
      "cell_type": "code",
      "metadata": {
        "id": "OjiroYNOWyLP",
        "colab_type": "code",
        "colab": {
          "base_uri": "https://localhost:8080/",
          "height": 272
        },
        "outputId": "1463916a-b60e-42c9-aaac-e7b35073ac8b"
      },
      "source": [
        "# Создаем датасет с продажами\n",
        "sales = spark.createDataFrame([(1,100,'AAA', 150),\n",
        "                               (2,100,'BBB', 250),\n",
        "                               (3,101,'AAA', 50),\n",
        "                               (4,102,'DDD', 100),\n",
        "                               (5,200,'AAA', 500),\n",
        "                               (6,201,'DDD', 750),\n",
        "                               (7,201,'BBB', 550),\n",
        "                               (8,100,'CCC', 350),\n",
        "                               (9,202102,'CCC', 400),\n",
        "                               (10,101,'AAA', 650),\n",
        "                               ],\n",
        "                              ['id' , 'id_product', 'region', 'amount'])\n",
        "sales.show()"
      ],
      "execution_count": null,
      "outputs": [
        {
          "output_type": "stream",
          "text": [
            "+---+----------+------+------+\n",
            "| id|id_product|region|amount|\n",
            "+---+----------+------+------+\n",
            "|  1|       100|   AAA|   150|\n",
            "|  2|       100|   BBB|   250|\n",
            "|  3|       101|   AAA|    50|\n",
            "|  4|       102|   DDD|   100|\n",
            "|  5|       200|   AAA|   500|\n",
            "|  6|       201|   DDD|   750|\n",
            "|  7|       201|   BBB|   550|\n",
            "|  8|       100|   CCC|   350|\n",
            "|  9|    202102|   CCC|   400|\n",
            "| 10|       101|   AAA|   650|\n",
            "+---+----------+------+------+\n",
            "\n"
          ],
          "name": "stdout"
        }
      ]
    },
    {
      "cell_type": "code",
      "metadata": {
        "id": "-KUo3dSYYQt-",
        "colab_type": "code",
        "colab": {
          "base_uri": "https://localhost:8080/",
          "height": 272
        },
        "outputId": "59054021-7aef-493b-f1b0-0044ed2a0f51"
      },
      "source": [
        "# Подтянем названия товарных групп в таблицу с продажами\n",
        "sales_new = sales.join(catalog_product_full,'id_product', how='left').orderBy('id',ascending=True)\n",
        "sales_new = sales_new.withColumnRenamed('name','name_product')\n",
        "sales_final = sales_new['id','region','name_product','amount']\n",
        "sales_final.show()"
      ],
      "execution_count": null,
      "outputs": [
        {
          "output_type": "stream",
          "text": [
            "+---+------+--------------------+------+\n",
            "| id|region|        name_product|amount|\n",
            "+---+------+--------------------+------+\n",
            "|  1|   AAA|           furniture|   150|\n",
            "|  2|   BBB|           furniture|   250|\n",
            "|  3|   AAA|    electrical goods|    50|\n",
            "|  4|   DDD|construction and ...|   100|\n",
            "|  5|   AAA|             clothes|   500|\n",
            "|  6|   DDD|              dishes|   750|\n",
            "|  7|   BBB|              dishes|   550|\n",
            "|  8|   CCC|           furniture|   350|\n",
            "|  9|   CCC|                null|   400|\n",
            "| 10|   AAA|    electrical goods|   650|\n",
            "+---+------+--------------------+------+\n",
            "\n"
          ],
          "name": "stdout"
        }
      ]
    },
    {
      "cell_type": "code",
      "metadata": {
        "id": "O1X6oboVzqZ6",
        "colab_type": "code",
        "colab": {
          "base_uri": "https://localhost:8080/",
          "height": 255
        },
        "outputId": "ca16c4c6-b463-412e-bffb-f4bb44027154"
      },
      "source": [
        "# Удаляем позиции с незаполненными значениями\n",
        "sales_final = sales_final.na.drop()\n",
        "sales_final.show()"
      ],
      "execution_count": null,
      "outputs": [
        {
          "output_type": "stream",
          "text": [
            "+---+------+--------------------+------+\n",
            "| id|region|        name_product|amount|\n",
            "+---+------+--------------------+------+\n",
            "|  1|   AAA|           furniture|   150|\n",
            "|  2|   BBB|           furniture|   250|\n",
            "|  3|   AAA|    electrical goods|    50|\n",
            "|  4|   DDD|construction and ...|   100|\n",
            "|  5|   AAA|             clothes|   500|\n",
            "|  6|   DDD|              dishes|   750|\n",
            "|  7|   BBB|              dishes|   550|\n",
            "|  8|   CCC|           furniture|   350|\n",
            "| 10|   AAA|    electrical goods|   650|\n",
            "+---+------+--------------------+------+\n",
            "\n"
          ],
          "name": "stdout"
        }
      ]
    },
    {
      "cell_type": "code",
      "metadata": {
        "id": "chill4qO0pwN",
        "colab_type": "code",
        "colab": {
          "base_uri": "https://localhost:8080/",
          "height": 255
        },
        "outputId": "51b3d066-2fdd-456f-f36b-a746043f21b9"
      },
      "source": [
        "# Добавляем расчетный столбец\n",
        "from pyspark.sql import functions as F\n",
        "sales_final = sales_final.withColumn('percent', F.when((sales_final.amount>500)&(sales_final.amount<1000),15)\n",
        "                                    .when((sales_final.amount>250)&(sales_final.amount<=500),10)\n",
        "                                    .otherwise(5)\n",
        "                      )\n",
        "sales_final = sales_final.withColumn('amount_percent', sales_final.amount/100*sales_final.percent)\n",
        "sales_final.show()"
      ],
      "execution_count": null,
      "outputs": [
        {
          "output_type": "stream",
          "text": [
            "+---+------+--------------------+------+-------+--------------+\n",
            "| id|region|        name_product|amount|percent|amount_percent|\n",
            "+---+------+--------------------+------+-------+--------------+\n",
            "|  1|   AAA|           furniture|   150|      5|           7.5|\n",
            "|  2|   BBB|           furniture|   250|      5|          12.5|\n",
            "|  3|   AAA|    electrical goods|    50|      5|           2.5|\n",
            "|  4|   DDD|construction and ...|   100|      5|           5.0|\n",
            "|  5|   AAA|             clothes|   500|     10|          50.0|\n",
            "|  6|   DDD|              dishes|   750|     15|         112.5|\n",
            "|  7|   BBB|              dishes|   550|     15|          82.5|\n",
            "|  8|   CCC|           furniture|   350|     10|          35.0|\n",
            "| 10|   AAA|    electrical goods|   650|     15|          97.5|\n",
            "+---+------+--------------------+------+-------+--------------+\n",
            "\n"
          ],
          "name": "stdout"
        }
      ]
    },
    {
      "cell_type": "code",
      "metadata": {
        "id": "yGk8LPSNbZ3j",
        "colab_type": "code",
        "colab": {
          "base_uri": "https://localhost:8080/",
          "height": 255
        },
        "outputId": "17a73d5c-be26-4ef9-8ee5-8c428396c231"
      },
      "source": [
        "# Заменяем значения в столбце Регион\n",
        "sales_final = sales_final.na.replace(['AAA','BBB','CCC','DDD'],['north','south','east','west'])\n",
        "sales_final.show()"
      ],
      "execution_count": null,
      "outputs": [
        {
          "output_type": "stream",
          "text": [
            "+---+------+--------------------+------+-------+--------------+\n",
            "| id|region|        name_product|amount|percent|amount_percent|\n",
            "+---+------+--------------------+------+-------+--------------+\n",
            "|  1| north|           furniture|   150|      5|           7.5|\n",
            "|  2| south|           furniture|   250|      5|          12.5|\n",
            "|  3| north|    electrical goods|    50|      5|           2.5|\n",
            "|  4|  west|construction and ...|   100|      5|           5.0|\n",
            "|  5| north|             clothes|   500|     10|          50.0|\n",
            "|  6|  west|              dishes|   750|     15|         112.5|\n",
            "|  7| south|              dishes|   550|     15|          82.5|\n",
            "|  8|  east|           furniture|   350|     10|          35.0|\n",
            "| 10| north|    electrical goods|   650|     15|          97.5|\n",
            "+---+------+--------------------+------+-------+--------------+\n",
            "\n"
          ],
          "name": "stdout"
        }
      ]
    },
    {
      "cell_type": "code",
      "metadata": {
        "id": "Ie1ipCnAe6wF",
        "colab_type": "code",
        "colab": {
          "base_uri": "https://localhost:8080/",
          "height": 119
        },
        "outputId": "7729e55b-24e3-4005-8d24-927aa78bba76"
      },
      "source": [
        "sales_final.dtypes\n"
      ],
      "execution_count": null,
      "outputs": [
        {
          "output_type": "execute_result",
          "data": {
            "text/plain": [
              "[('id', 'bigint'),\n",
              " ('region', 'string'),\n",
              " ('name_product', 'string'),\n",
              " ('amount', 'bigint'),\n",
              " ('percent', 'int'),\n",
              " ('amount_percent', 'double')]"
            ]
          },
          "metadata": {
            "tags": []
          },
          "execution_count": 12
        }
      ]
    },
    {
      "cell_type": "code",
      "metadata": {
        "id": "pqYAU_11fmqD",
        "colab_type": "code",
        "colab": {
          "base_uri": "https://localhost:8080/",
          "height": 187
        },
        "outputId": "0f55b02d-45d7-4cec-e42c-a74215890007"
      },
      "source": [
        "sales_final.describe().show()"
      ],
      "execution_count": null,
      "outputs": [
        {
          "output_type": "stream",
          "text": [
            "+-------+-----------------+------+------------+------------------+-----------------+------------------+\n",
            "|summary|               id|region|name_product|            amount|          percent|    amount_percent|\n",
            "+-------+-----------------+------+------------+------------------+-----------------+------------------+\n",
            "|  count|                9|     9|           9|                 9|                9|                 9|\n",
            "|   mean|5.111111111111111|  null|        null|372.22222222222223|9.444444444444445|              45.0|\n",
            "| stddev|2.934469476943168|  null|        null|252.62510652040197|4.639803635691685|42.884291996021105|\n",
            "|    min|                1|  east|     clothes|                50|                5|               2.5|\n",
            "|    max|               10|  west|   furniture|               750|               15|             112.5|\n",
            "+-------+-----------------+------+------------+------------------+-----------------+------------------+\n",
            "\n"
          ],
          "name": "stdout"
        }
      ]
    },
    {
      "cell_type": "code",
      "metadata": {
        "id": "lbnvSCP-vPxB",
        "colab_type": "code",
        "colab": {
          "base_uri": "https://localhost:8080/",
          "height": 187
        },
        "outputId": "bf3946ba-5915-44c8-fef9-04f46c88a0c0"
      },
      "source": [
        "# Проведем группировку по данным\n",
        "sales_final.groupBy(['name_product']).agg(F.sum('amount').alias('sum_amount'),\n",
        "                                                   F.count('amount').alias('count_amount'),\n",
        "                                                   F.min('amount').alias('min_amount'),\n",
        "                                                   F.max('amount').alias('max_amount')).show()"
      ],
      "execution_count": null,
      "outputs": [
        {
          "output_type": "stream",
          "text": [
            "+--------------------+----------+------------+----------+----------+\n",
            "|        name_product|sum_amount|count_amount|min_amount|max_amount|\n",
            "+--------------------+----------+------------+----------+----------+\n",
            "|              dishes|      1300|           2|       550|       750|\n",
            "|    electrical goods|       700|           2|        50|       650|\n",
            "|             clothes|       500|           1|       500|       500|\n",
            "|           furniture|       750|           3|       150|       350|\n",
            "|construction and ...|       100|           1|       100|       100|\n",
            "+--------------------+----------+------------+----------+----------+\n",
            "\n"
          ],
          "name": "stdout"
        }
      ]
    },
    {
      "cell_type": "code",
      "metadata": {
        "id": "1n9TNinBxrYB",
        "colab_type": "code",
        "colab": {
          "base_uri": "https://localhost:8080/",
          "height": 170
        },
        "outputId": "b5bdfed8-688d-4797-b7a5-9ab3e605aa86"
      },
      "source": [
        "# Построим сводную таблицу\n",
        "sales_final.groupBy(['region']).pivot('name_product').sum('amount').show()"
      ],
      "execution_count": 18,
      "outputs": [
        {
          "output_type": "stream",
          "text": [
            "+------+-------+-----------------------+------+----------------+---------+\n",
            "|region|clothes|construction and repair|dishes|electrical goods|furniture|\n",
            "+------+-------+-----------------------+------+----------------+---------+\n",
            "|  west|   null|                    100|   750|            null|     null|\n",
            "| north|    500|                   null|  null|             700|      150|\n",
            "|  east|   null|                   null|  null|            null|      350|\n",
            "| south|   null|                   null|   550|            null|      250|\n",
            "+------+-------+-----------------------+------+----------------+---------+\n",
            "\n"
          ],
          "name": "stdout"
        }
      ]
    }
  ]
}
