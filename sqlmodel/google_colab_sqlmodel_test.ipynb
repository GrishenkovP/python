{
  "nbformat": 4,
  "nbformat_minor": 0,
  "metadata": {
    "colab": {
      "name": "google_colab_sqlmodel_test.ipynb",
      "provenance": [],
      "collapsed_sections": []
    },
    "kernelspec": {
      "name": "python3",
      "display_name": "Python 3"
    },
    "language_info": {
      "name": "python"
    }
  },
  "cells": [
    {
      "cell_type": "markdown",
      "metadata": {
        "id": "q9YLsI7GBsXu"
      },
      "source": [
        "# Test SQLModel"
      ]
    },
    {
      "cell_type": "markdown",
      "metadata": {
        "id": "jvFDlYceDWye"
      },
      "source": [
        "### https://github.com/tiangolo/sqlmodel"
      ]
    },
    {
      "cell_type": "code",
      "metadata": {
        "colab": {
          "base_uri": "https://localhost:8080/"
        },
        "id": "s6nglBaHAJyq",
        "outputId": "4dbb516f-adbd-479c-eaea-53fd990a1b0b"
      },
      "source": [
        "!pip install sqlmodel"
      ],
      "execution_count": 1,
      "outputs": [
        {
          "output_type": "stream",
          "text": [
            "Requirement already satisfied: sqlmodel in /usr/local/lib/python3.7/dist-packages (0.0.4)\n",
            "Requirement already satisfied: SQLAlchemy<1.5.0,>=1.4.17 in /usr/local/lib/python3.7/dist-packages (from sqlmodel) (1.4.22)\n",
            "Requirement already satisfied: pydantic<2.0.0,>=1.8.2 in /usr/local/lib/python3.7/dist-packages (from sqlmodel) (1.8.2)\n",
            "Requirement already satisfied: sqlalchemy2-stubs in /usr/local/lib/python3.7/dist-packages (from sqlmodel) (0.0.2a12)\n",
            "Requirement already satisfied: typing-extensions>=3.7.4.3 in /usr/local/lib/python3.7/dist-packages (from pydantic<2.0.0,>=1.8.2->sqlmodel) (3.7.4.3)\n",
            "Requirement already satisfied: greenlet!=0.4.17 in /usr/local/lib/python3.7/dist-packages (from SQLAlchemy<1.5.0,>=1.4.17->sqlmodel) (1.1.1)\n",
            "Requirement already satisfied: importlib-metadata in /usr/local/lib/python3.7/dist-packages (from SQLAlchemy<1.5.0,>=1.4.17->sqlmodel) (4.6.4)\n",
            "Requirement already satisfied: zipp>=0.5 in /usr/local/lib/python3.7/dist-packages (from importlib-metadata->SQLAlchemy<1.5.0,>=1.4.17->sqlmodel) (3.5.0)\n"
          ],
          "name": "stdout"
        }
      ]
    },
    {
      "cell_type": "code",
      "metadata": {
        "id": "BZ3ML7ePHdXd"
      },
      "source": [
        "from typing import Optional\n",
        "from sqlmodel import Field, Session, SQLModel, create_engine, select"
      ],
      "execution_count": 2,
      "outputs": []
    },
    {
      "cell_type": "code",
      "metadata": {
        "id": "eWnZ_GmGB4Gd"
      },
      "source": [
        "class Manager(SQLModel, table=True):\n",
        "    id: Optional[int] = Field(default=None, primary_key=True)\n",
        "    name: str\n",
        "    region: str\n",
        "    product_group: Optional[int] = None"
      ],
      "execution_count": 3,
      "outputs": []
    },
    {
      "cell_type": "code",
      "metadata": {
        "id": "Obbqp1OYCmcd"
      },
      "source": [
        "manager_1 = Manager(name=\"James\", region=\"east\", product_group=\"timber\")\n",
        "manager_2 = Manager(name=\"John\", region=\"north\", product_group=\"construction tools\")\n",
        "manager_3 = Manager(name=\"Robert\", region=\"south\", product_group=\"metal profiles\")\n",
        "manager_4 = Manager(name=\"Michael\", region=\"west\", product_group=\"roofing\")\n",
        "manager_5 = Manager(name=\"William\", region=\"center\", product_group=\"electrics\")"
      ],
      "execution_count": 4,
      "outputs": []
    },
    {
      "cell_type": "code",
      "metadata": {
        "id": "j_mFItZuGXCN"
      },
      "source": [
        "engine = create_engine(\"sqlite:///database.db\")"
      ],
      "execution_count": 5,
      "outputs": []
    },
    {
      "cell_type": "code",
      "metadata": {
        "id": "uafMqgpbGiEd"
      },
      "source": [
        "SQLModel.metadata.create_all(engine)"
      ],
      "execution_count": 6,
      "outputs": []
    },
    {
      "cell_type": "code",
      "metadata": {
        "id": "02KnrYUDGoqG"
      },
      "source": [
        "with Session(engine) as session:\n",
        "    session.add(manager_1)\n",
        "    session.add(manager_2)\n",
        "    session.add(manager_3)\n",
        "    session.add(manager_4)\n",
        "    session.add(manager_5)\n",
        "    session.commit()"
      ],
      "execution_count": 7,
      "outputs": []
    },
    {
      "cell_type": "code",
      "metadata": {
        "colab": {
          "base_uri": "https://localhost:8080/"
        },
        "id": "hJR8dE9hHst1",
        "outputId": "ea1b4411-4d91-4511-a3d2-7682c0e3d7f1"
      },
      "source": [
        "with Session(engine) as session:\n",
        "    statement = select(Manager).where(Manager.name == \"James\")\n",
        "    result = session.exec(statement).first()\n",
        "    print(result)"
      ],
      "execution_count": 8,
      "outputs": [
        {
          "output_type": "stream",
          "text": [
            "region='east' product_group=None id=1 name='James'\n"
          ],
          "name": "stdout"
        }
      ]
    },
    {
      "cell_type": "code",
      "metadata": {
        "colab": {
          "base_uri": "https://localhost:8080/"
        },
        "id": "TJeWipm7OH4X",
        "outputId": "6ec399e0-8138-4c88-9438-af47de7523ad"
      },
      "source": [
        "with Session(engine) as session:\n",
        "    name_list = ('John','James')\n",
        "    statement = f\"select m.* from manager as m where m.name in {name_list};\"\n",
        "    result = session.execute(statement)\n",
        "    for _ in result:\n",
        "      print(_)"
      ],
      "execution_count": 9,
      "outputs": [
        {
          "output_type": "stream",
          "text": [
            "(1, 'James', 'east', None)\n",
            "(6, 'James', 'east', None)\n",
            "(2, 'John', 'north', None)\n",
            "(7, 'John', 'north', None)\n"
          ],
          "name": "stdout"
        }
      ]
    }
  ]
}
