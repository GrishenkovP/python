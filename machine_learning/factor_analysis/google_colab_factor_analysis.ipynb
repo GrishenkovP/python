{
  "nbformat": 4,
  "nbformat_minor": 0,
  "metadata": {
    "colab": {
      "name": "google_colab_factor_analysis.ipynb",
      "provenance": [],
      "collapsed_sections": []
    },
    "kernelspec": {
      "name": "python3",
      "display_name": "Python 3"
    },
    "language_info": {
      "name": "python"
    }
  },
  "cells": [
    {
      "cell_type": "code",
      "metadata": {
        "colab": {
          "base_uri": "https://localhost:8080/"
        },
        "id": "-AwV5_SRYI0y",
        "outputId": "1001e594-27f9-48f2-8b5a-38dd95649b22"
      },
      "source": [
        "!pip install factor_analyzer"
      ],
      "execution_count": 2,
      "outputs": [
        {
          "output_type": "stream",
          "text": [
            "Collecting factor_analyzer\n",
            "\u001b[?25l  Downloading https://files.pythonhosted.org/packages/44/b5/cbd83484ca6dd4c6562c6d66a6a3a0ecf526e79b2b575b9fb4bf5ad172dd/factor_analyzer-0.3.2.tar.gz (40kB)\n",
            "\r\u001b[K     |████████▏                       | 10kB 15.9MB/s eta 0:00:01\r\u001b[K     |████████████████▍               | 20kB 21.3MB/s eta 0:00:01\r\u001b[K     |████████████████████████▌       | 30kB 12.1MB/s eta 0:00:01\r\u001b[K     |████████████████████████████████| 40kB 3.7MB/s \n",
            "\u001b[?25hRequirement already satisfied: pandas in /usr/local/lib/python3.7/dist-packages (from factor_analyzer) (1.1.5)\n",
            "Requirement already satisfied: scipy in /usr/local/lib/python3.7/dist-packages (from factor_analyzer) (1.4.1)\n",
            "Requirement already satisfied: numpy in /usr/local/lib/python3.7/dist-packages (from factor_analyzer) (1.19.5)\n",
            "Requirement already satisfied: scikit-learn in /usr/local/lib/python3.7/dist-packages (from factor_analyzer) (0.22.2.post1)\n",
            "Requirement already satisfied: pytz>=2017.2 in /usr/local/lib/python3.7/dist-packages (from pandas->factor_analyzer) (2018.9)\n",
            "Requirement already satisfied: python-dateutil>=2.7.3 in /usr/local/lib/python3.7/dist-packages (from pandas->factor_analyzer) (2.8.1)\n",
            "Requirement already satisfied: joblib>=0.11 in /usr/local/lib/python3.7/dist-packages (from scikit-learn->factor_analyzer) (1.0.1)\n",
            "Requirement already satisfied: six>=1.5 in /usr/local/lib/python3.7/dist-packages (from python-dateutil>=2.7.3->pandas->factor_analyzer) (1.15.0)\n",
            "Building wheels for collected packages: factor-analyzer\n",
            "  Building wheel for factor-analyzer (setup.py) ... \u001b[?25l\u001b[?25hdone\n",
            "  Created wheel for factor-analyzer: filename=factor_analyzer-0.3.2-cp37-none-any.whl size=40383 sha256=812c958506d2aae215ec8d33fb8e702bcdb7276556e1ad48ea50fb795f1f3b65\n",
            "  Stored in directory: /root/.cache/pip/wheels/4a/d0/57/f1330cb9c80e82d8d05391c74c94ed61ce3f03bf6157f3d6db\n",
            "Successfully built factor-analyzer\n",
            "Installing collected packages: factor-analyzer\n",
            "Successfully installed factor-analyzer-0.3.2\n"
          ],
          "name": "stdout"
        }
      ]
    },
    {
      "cell_type": "code",
      "metadata": {
        "id": "cBg5Q6JKW4LT"
      },
      "source": [
        "import pandas as pd\n",
        "from factor_analyzer import FactorAnalyzer\n",
        "import matplotlib.pyplot as plt"
      ],
      "execution_count": 3,
      "outputs": []
    },
    {
      "cell_type": "code",
      "metadata": {
        "colab": {
          "base_uri": "https://localhost:8080/"
        },
        "id": "T8kXSbQZYRGi",
        "outputId": "48741f7a-dd91-4a63-e29d-3d07f94049fa"
      },
      "source": [
        "!wget https://vincentarelbundock.github.io/Rdatasets/csv/psych/bfi.csv"
      ],
      "execution_count": 4,
      "outputs": [
        {
          "output_type": "stream",
          "text": [
            "--2021-04-24 05:36:39--  https://vincentarelbundock.github.io/Rdatasets/csv/psych/bfi.csv\n",
            "Resolving vincentarelbundock.github.io (vincentarelbundock.github.io)... 185.199.108.153, 185.199.109.153, 185.199.110.153, ...\n",
            "Connecting to vincentarelbundock.github.io (vincentarelbundock.github.io)|185.199.108.153|:443... connected.\n",
            "HTTP request sent, awaiting response... 200 OK\n",
            "Length: 182884 (179K) [text/csv]\n",
            "Saving to: ‘bfi.csv’\n",
            "\n",
            "bfi.csv             100%[===================>] 178.60K  --.-KB/s    in 0.02s   \n",
            "\n",
            "2021-04-24 05:36:39 (11.1 MB/s) - ‘bfi.csv’ saved [182884/182884]\n",
            "\n"
          ],
          "name": "stdout"
        }
      ]
    },
    {
      "cell_type": "code",
      "metadata": {
        "id": "hpyqRsSFYYEZ"
      },
      "source": [
        "df= pd.read_csv(\"bfi.csv\",index_col=[0])"
      ],
      "execution_count": 46,
      "outputs": []
    },
    {
      "cell_type": "code",
      "metadata": {
        "colab": {
          "base_uri": "https://localhost:8080/",
          "height": 204
        },
        "id": "F8XpdevKYZRp",
        "outputId": "c7a0cd64-ee3a-4634-fbd2-edf9a8e9daf3"
      },
      "source": [
        "df.head()"
      ],
      "execution_count": 47,
      "outputs": [
        {
          "output_type": "execute_result",
          "data": {
            "text/html": [
              "<div>\n",
              "<style scoped>\n",
              "    .dataframe tbody tr th:only-of-type {\n",
              "        vertical-align: middle;\n",
              "    }\n",
              "\n",
              "    .dataframe tbody tr th {\n",
              "        vertical-align: top;\n",
              "    }\n",
              "\n",
              "    .dataframe thead th {\n",
              "        text-align: right;\n",
              "    }\n",
              "</style>\n",
              "<table border=\"1\" class=\"dataframe\">\n",
              "  <thead>\n",
              "    <tr style=\"text-align: right;\">\n",
              "      <th></th>\n",
              "      <th>A1</th>\n",
              "      <th>A2</th>\n",
              "      <th>A3</th>\n",
              "      <th>A4</th>\n",
              "      <th>A5</th>\n",
              "      <th>C1</th>\n",
              "      <th>C2</th>\n",
              "      <th>C3</th>\n",
              "      <th>C4</th>\n",
              "      <th>C5</th>\n",
              "      <th>E1</th>\n",
              "      <th>E2</th>\n",
              "      <th>E3</th>\n",
              "      <th>E4</th>\n",
              "      <th>E5</th>\n",
              "      <th>N1</th>\n",
              "      <th>N2</th>\n",
              "      <th>N3</th>\n",
              "      <th>N4</th>\n",
              "      <th>N5</th>\n",
              "      <th>O1</th>\n",
              "      <th>O2</th>\n",
              "      <th>O3</th>\n",
              "      <th>O4</th>\n",
              "      <th>O5</th>\n",
              "      <th>gender</th>\n",
              "      <th>education</th>\n",
              "      <th>age</th>\n",
              "    </tr>\n",
              "  </thead>\n",
              "  <tbody>\n",
              "    <tr>\n",
              "      <th>61617</th>\n",
              "      <td>2.0</td>\n",
              "      <td>4.0</td>\n",
              "      <td>3.0</td>\n",
              "      <td>4.0</td>\n",
              "      <td>4.0</td>\n",
              "      <td>2.0</td>\n",
              "      <td>3.0</td>\n",
              "      <td>3.0</td>\n",
              "      <td>4.0</td>\n",
              "      <td>4.0</td>\n",
              "      <td>3.0</td>\n",
              "      <td>3.0</td>\n",
              "      <td>3.0</td>\n",
              "      <td>4.0</td>\n",
              "      <td>4.0</td>\n",
              "      <td>3.0</td>\n",
              "      <td>4.0</td>\n",
              "      <td>2.0</td>\n",
              "      <td>2.0</td>\n",
              "      <td>3.0</td>\n",
              "      <td>3.0</td>\n",
              "      <td>6</td>\n",
              "      <td>3.0</td>\n",
              "      <td>4.0</td>\n",
              "      <td>3.0</td>\n",
              "      <td>1</td>\n",
              "      <td>NaN</td>\n",
              "      <td>16</td>\n",
              "    </tr>\n",
              "    <tr>\n",
              "      <th>61618</th>\n",
              "      <td>2.0</td>\n",
              "      <td>4.0</td>\n",
              "      <td>5.0</td>\n",
              "      <td>2.0</td>\n",
              "      <td>5.0</td>\n",
              "      <td>5.0</td>\n",
              "      <td>4.0</td>\n",
              "      <td>4.0</td>\n",
              "      <td>3.0</td>\n",
              "      <td>4.0</td>\n",
              "      <td>1.0</td>\n",
              "      <td>1.0</td>\n",
              "      <td>6.0</td>\n",
              "      <td>4.0</td>\n",
              "      <td>3.0</td>\n",
              "      <td>3.0</td>\n",
              "      <td>3.0</td>\n",
              "      <td>3.0</td>\n",
              "      <td>5.0</td>\n",
              "      <td>5.0</td>\n",
              "      <td>4.0</td>\n",
              "      <td>2</td>\n",
              "      <td>4.0</td>\n",
              "      <td>3.0</td>\n",
              "      <td>3.0</td>\n",
              "      <td>2</td>\n",
              "      <td>NaN</td>\n",
              "      <td>18</td>\n",
              "    </tr>\n",
              "    <tr>\n",
              "      <th>61620</th>\n",
              "      <td>5.0</td>\n",
              "      <td>4.0</td>\n",
              "      <td>5.0</td>\n",
              "      <td>4.0</td>\n",
              "      <td>4.0</td>\n",
              "      <td>4.0</td>\n",
              "      <td>5.0</td>\n",
              "      <td>4.0</td>\n",
              "      <td>2.0</td>\n",
              "      <td>5.0</td>\n",
              "      <td>2.0</td>\n",
              "      <td>4.0</td>\n",
              "      <td>4.0</td>\n",
              "      <td>4.0</td>\n",
              "      <td>5.0</td>\n",
              "      <td>4.0</td>\n",
              "      <td>5.0</td>\n",
              "      <td>4.0</td>\n",
              "      <td>2.0</td>\n",
              "      <td>3.0</td>\n",
              "      <td>4.0</td>\n",
              "      <td>2</td>\n",
              "      <td>5.0</td>\n",
              "      <td>5.0</td>\n",
              "      <td>2.0</td>\n",
              "      <td>2</td>\n",
              "      <td>NaN</td>\n",
              "      <td>17</td>\n",
              "    </tr>\n",
              "    <tr>\n",
              "      <th>61621</th>\n",
              "      <td>4.0</td>\n",
              "      <td>4.0</td>\n",
              "      <td>6.0</td>\n",
              "      <td>5.0</td>\n",
              "      <td>5.0</td>\n",
              "      <td>4.0</td>\n",
              "      <td>4.0</td>\n",
              "      <td>3.0</td>\n",
              "      <td>5.0</td>\n",
              "      <td>5.0</td>\n",
              "      <td>5.0</td>\n",
              "      <td>3.0</td>\n",
              "      <td>4.0</td>\n",
              "      <td>4.0</td>\n",
              "      <td>4.0</td>\n",
              "      <td>2.0</td>\n",
              "      <td>5.0</td>\n",
              "      <td>2.0</td>\n",
              "      <td>4.0</td>\n",
              "      <td>1.0</td>\n",
              "      <td>3.0</td>\n",
              "      <td>3</td>\n",
              "      <td>4.0</td>\n",
              "      <td>3.0</td>\n",
              "      <td>5.0</td>\n",
              "      <td>2</td>\n",
              "      <td>NaN</td>\n",
              "      <td>17</td>\n",
              "    </tr>\n",
              "    <tr>\n",
              "      <th>61622</th>\n",
              "      <td>2.0</td>\n",
              "      <td>3.0</td>\n",
              "      <td>3.0</td>\n",
              "      <td>4.0</td>\n",
              "      <td>5.0</td>\n",
              "      <td>4.0</td>\n",
              "      <td>4.0</td>\n",
              "      <td>5.0</td>\n",
              "      <td>3.0</td>\n",
              "      <td>2.0</td>\n",
              "      <td>2.0</td>\n",
              "      <td>2.0</td>\n",
              "      <td>5.0</td>\n",
              "      <td>4.0</td>\n",
              "      <td>5.0</td>\n",
              "      <td>2.0</td>\n",
              "      <td>3.0</td>\n",
              "      <td>4.0</td>\n",
              "      <td>4.0</td>\n",
              "      <td>3.0</td>\n",
              "      <td>3.0</td>\n",
              "      <td>3</td>\n",
              "      <td>4.0</td>\n",
              "      <td>3.0</td>\n",
              "      <td>3.0</td>\n",
              "      <td>1</td>\n",
              "      <td>NaN</td>\n",
              "      <td>17</td>\n",
              "    </tr>\n",
              "  </tbody>\n",
              "</table>\n",
              "</div>"
            ],
            "text/plain": [
              "        A1   A2   A3   A4   A5   C1  ...   O3   O4   O5  gender  education  age\n",
              "61617  2.0  4.0  3.0  4.0  4.0  2.0  ...  3.0  4.0  3.0       1        NaN   16\n",
              "61618  2.0  4.0  5.0  2.0  5.0  5.0  ...  4.0  3.0  3.0       2        NaN   18\n",
              "61620  5.0  4.0  5.0  4.0  4.0  4.0  ...  5.0  5.0  2.0       2        NaN   17\n",
              "61621  4.0  4.0  6.0  5.0  5.0  4.0  ...  4.0  3.0  5.0       2        NaN   17\n",
              "61622  2.0  3.0  3.0  4.0  5.0  4.0  ...  4.0  3.0  3.0       1        NaN   17\n",
              "\n",
              "[5 rows x 28 columns]"
            ]
          },
          "metadata": {
            "tags": []
          },
          "execution_count": 47
        }
      ]
    },
    {
      "cell_type": "code",
      "metadata": {
        "colab": {
          "base_uri": "https://localhost:8080/"
        },
        "id": "pt0It_tBY6WJ",
        "outputId": "bda70169-b18d-4e5f-8189-4088c733ab38"
      },
      "source": [
        "df.columns"
      ],
      "execution_count": 48,
      "outputs": [
        {
          "output_type": "execute_result",
          "data": {
            "text/plain": [
              "Index(['A1', 'A2', 'A3', 'A4', 'A5', 'C1', 'C2', 'C3', 'C4', 'C5', 'E1', 'E2',\n",
              "       'E3', 'E4', 'E5', 'N1', 'N2', 'N3', 'N4', 'N5', 'O1', 'O2', 'O3', 'O4',\n",
              "       'O5', 'gender', 'education', 'age'],\n",
              "      dtype='object')"
            ]
          },
          "metadata": {
            "tags": []
          },
          "execution_count": 48
        }
      ]
    },
    {
      "cell_type": "code",
      "metadata": {
        "id": "DRsNfLVOY89J"
      },
      "source": [
        "df.drop(['gender', 'education', 'age'],axis=1,inplace=True)"
      ],
      "execution_count": 49,
      "outputs": []
    },
    {
      "cell_type": "code",
      "metadata": {
        "id": "vG1UndDvZBXy"
      },
      "source": [
        "df.dropna(inplace=True)"
      ],
      "execution_count": 50,
      "outputs": []
    },
    {
      "cell_type": "code",
      "metadata": {
        "colab": {
          "base_uri": "https://localhost:8080/"
        },
        "id": "xCmz251eZDf6",
        "outputId": "7078f7c4-e45f-4cc1-b5d0-9d6257584abc"
      },
      "source": [
        "df.info()"
      ],
      "execution_count": 51,
      "outputs": [
        {
          "output_type": "stream",
          "text": [
            "<class 'pandas.core.frame.DataFrame'>\n",
            "Int64Index: 2436 entries, 61617 to 67560\n",
            "Data columns (total 25 columns):\n",
            " #   Column  Non-Null Count  Dtype  \n",
            "---  ------  --------------  -----  \n",
            " 0   A1      2436 non-null   float64\n",
            " 1   A2      2436 non-null   float64\n",
            " 2   A3      2436 non-null   float64\n",
            " 3   A4      2436 non-null   float64\n",
            " 4   A5      2436 non-null   float64\n",
            " 5   C1      2436 non-null   float64\n",
            " 6   C2      2436 non-null   float64\n",
            " 7   C3      2436 non-null   float64\n",
            " 8   C4      2436 non-null   float64\n",
            " 9   C5      2436 non-null   float64\n",
            " 10  E1      2436 non-null   float64\n",
            " 11  E2      2436 non-null   float64\n",
            " 12  E3      2436 non-null   float64\n",
            " 13  E4      2436 non-null   float64\n",
            " 14  E5      2436 non-null   float64\n",
            " 15  N1      2436 non-null   float64\n",
            " 16  N2      2436 non-null   float64\n",
            " 17  N3      2436 non-null   float64\n",
            " 18  N4      2436 non-null   float64\n",
            " 19  N5      2436 non-null   float64\n",
            " 20  O1      2436 non-null   float64\n",
            " 21  O2      2436 non-null   int64  \n",
            " 22  O3      2436 non-null   float64\n",
            " 23  O4      2436 non-null   float64\n",
            " 24  O5      2436 non-null   float64\n",
            "dtypes: float64(24), int64(1)\n",
            "memory usage: 494.8 KB\n"
          ],
          "name": "stdout"
        }
      ]
    },
    {
      "cell_type": "code",
      "metadata": {
        "id": "Mnt4dmCgfKyJ"
      },
      "source": [
        "df.reset_index(drop=True, inplace=True)"
      ],
      "execution_count": 52,
      "outputs": []
    },
    {
      "cell_type": "code",
      "metadata": {
        "colab": {
          "base_uri": "https://localhost:8080/",
          "height": 204
        },
        "id": "BOlsQTQLZIS6",
        "outputId": "199ced1e-f976-4400-8aaa-c14e26579c51"
      },
      "source": [
        "df.head()"
      ],
      "execution_count": 53,
      "outputs": [
        {
          "output_type": "execute_result",
          "data": {
            "text/html": [
              "<div>\n",
              "<style scoped>\n",
              "    .dataframe tbody tr th:only-of-type {\n",
              "        vertical-align: middle;\n",
              "    }\n",
              "\n",
              "    .dataframe tbody tr th {\n",
              "        vertical-align: top;\n",
              "    }\n",
              "\n",
              "    .dataframe thead th {\n",
              "        text-align: right;\n",
              "    }\n",
              "</style>\n",
              "<table border=\"1\" class=\"dataframe\">\n",
              "  <thead>\n",
              "    <tr style=\"text-align: right;\">\n",
              "      <th></th>\n",
              "      <th>A1</th>\n",
              "      <th>A2</th>\n",
              "      <th>A3</th>\n",
              "      <th>A4</th>\n",
              "      <th>A5</th>\n",
              "      <th>C1</th>\n",
              "      <th>C2</th>\n",
              "      <th>C3</th>\n",
              "      <th>C4</th>\n",
              "      <th>C5</th>\n",
              "      <th>E1</th>\n",
              "      <th>E2</th>\n",
              "      <th>E3</th>\n",
              "      <th>E4</th>\n",
              "      <th>E5</th>\n",
              "      <th>N1</th>\n",
              "      <th>N2</th>\n",
              "      <th>N3</th>\n",
              "      <th>N4</th>\n",
              "      <th>N5</th>\n",
              "      <th>O1</th>\n",
              "      <th>O2</th>\n",
              "      <th>O3</th>\n",
              "      <th>O4</th>\n",
              "      <th>O5</th>\n",
              "    </tr>\n",
              "  </thead>\n",
              "  <tbody>\n",
              "    <tr>\n",
              "      <th>0</th>\n",
              "      <td>2.0</td>\n",
              "      <td>4.0</td>\n",
              "      <td>3.0</td>\n",
              "      <td>4.0</td>\n",
              "      <td>4.0</td>\n",
              "      <td>2.0</td>\n",
              "      <td>3.0</td>\n",
              "      <td>3.0</td>\n",
              "      <td>4.0</td>\n",
              "      <td>4.0</td>\n",
              "      <td>3.0</td>\n",
              "      <td>3.0</td>\n",
              "      <td>3.0</td>\n",
              "      <td>4.0</td>\n",
              "      <td>4.0</td>\n",
              "      <td>3.0</td>\n",
              "      <td>4.0</td>\n",
              "      <td>2.0</td>\n",
              "      <td>2.0</td>\n",
              "      <td>3.0</td>\n",
              "      <td>3.0</td>\n",
              "      <td>6</td>\n",
              "      <td>3.0</td>\n",
              "      <td>4.0</td>\n",
              "      <td>3.0</td>\n",
              "    </tr>\n",
              "    <tr>\n",
              "      <th>1</th>\n",
              "      <td>2.0</td>\n",
              "      <td>4.0</td>\n",
              "      <td>5.0</td>\n",
              "      <td>2.0</td>\n",
              "      <td>5.0</td>\n",
              "      <td>5.0</td>\n",
              "      <td>4.0</td>\n",
              "      <td>4.0</td>\n",
              "      <td>3.0</td>\n",
              "      <td>4.0</td>\n",
              "      <td>1.0</td>\n",
              "      <td>1.0</td>\n",
              "      <td>6.0</td>\n",
              "      <td>4.0</td>\n",
              "      <td>3.0</td>\n",
              "      <td>3.0</td>\n",
              "      <td>3.0</td>\n",
              "      <td>3.0</td>\n",
              "      <td>5.0</td>\n",
              "      <td>5.0</td>\n",
              "      <td>4.0</td>\n",
              "      <td>2</td>\n",
              "      <td>4.0</td>\n",
              "      <td>3.0</td>\n",
              "      <td>3.0</td>\n",
              "    </tr>\n",
              "    <tr>\n",
              "      <th>2</th>\n",
              "      <td>5.0</td>\n",
              "      <td>4.0</td>\n",
              "      <td>5.0</td>\n",
              "      <td>4.0</td>\n",
              "      <td>4.0</td>\n",
              "      <td>4.0</td>\n",
              "      <td>5.0</td>\n",
              "      <td>4.0</td>\n",
              "      <td>2.0</td>\n",
              "      <td>5.0</td>\n",
              "      <td>2.0</td>\n",
              "      <td>4.0</td>\n",
              "      <td>4.0</td>\n",
              "      <td>4.0</td>\n",
              "      <td>5.0</td>\n",
              "      <td>4.0</td>\n",
              "      <td>5.0</td>\n",
              "      <td>4.0</td>\n",
              "      <td>2.0</td>\n",
              "      <td>3.0</td>\n",
              "      <td>4.0</td>\n",
              "      <td>2</td>\n",
              "      <td>5.0</td>\n",
              "      <td>5.0</td>\n",
              "      <td>2.0</td>\n",
              "    </tr>\n",
              "    <tr>\n",
              "      <th>3</th>\n",
              "      <td>4.0</td>\n",
              "      <td>4.0</td>\n",
              "      <td>6.0</td>\n",
              "      <td>5.0</td>\n",
              "      <td>5.0</td>\n",
              "      <td>4.0</td>\n",
              "      <td>4.0</td>\n",
              "      <td>3.0</td>\n",
              "      <td>5.0</td>\n",
              "      <td>5.0</td>\n",
              "      <td>5.0</td>\n",
              "      <td>3.0</td>\n",
              "      <td>4.0</td>\n",
              "      <td>4.0</td>\n",
              "      <td>4.0</td>\n",
              "      <td>2.0</td>\n",
              "      <td>5.0</td>\n",
              "      <td>2.0</td>\n",
              "      <td>4.0</td>\n",
              "      <td>1.0</td>\n",
              "      <td>3.0</td>\n",
              "      <td>3</td>\n",
              "      <td>4.0</td>\n",
              "      <td>3.0</td>\n",
              "      <td>5.0</td>\n",
              "    </tr>\n",
              "    <tr>\n",
              "      <th>4</th>\n",
              "      <td>2.0</td>\n",
              "      <td>3.0</td>\n",
              "      <td>3.0</td>\n",
              "      <td>4.0</td>\n",
              "      <td>5.0</td>\n",
              "      <td>4.0</td>\n",
              "      <td>4.0</td>\n",
              "      <td>5.0</td>\n",
              "      <td>3.0</td>\n",
              "      <td>2.0</td>\n",
              "      <td>2.0</td>\n",
              "      <td>2.0</td>\n",
              "      <td>5.0</td>\n",
              "      <td>4.0</td>\n",
              "      <td>5.0</td>\n",
              "      <td>2.0</td>\n",
              "      <td>3.0</td>\n",
              "      <td>4.0</td>\n",
              "      <td>4.0</td>\n",
              "      <td>3.0</td>\n",
              "      <td>3.0</td>\n",
              "      <td>3</td>\n",
              "      <td>4.0</td>\n",
              "      <td>3.0</td>\n",
              "      <td>3.0</td>\n",
              "    </tr>\n",
              "  </tbody>\n",
              "</table>\n",
              "</div>"
            ],
            "text/plain": [
              "    A1   A2   A3   A4   A5   C1   C2  ...   N4   N5   O1  O2   O3   O4   O5\n",
              "0  2.0  4.0  3.0  4.0  4.0  2.0  3.0  ...  2.0  3.0  3.0   6  3.0  4.0  3.0\n",
              "1  2.0  4.0  5.0  2.0  5.0  5.0  4.0  ...  5.0  5.0  4.0   2  4.0  3.0  3.0\n",
              "2  5.0  4.0  5.0  4.0  4.0  4.0  5.0  ...  2.0  3.0  4.0   2  5.0  5.0  2.0\n",
              "3  4.0  4.0  6.0  5.0  5.0  4.0  4.0  ...  4.0  1.0  3.0   3  4.0  3.0  5.0\n",
              "4  2.0  3.0  3.0  4.0  5.0  4.0  4.0  ...  4.0  3.0  3.0   3  4.0  3.0  3.0\n",
              "\n",
              "[5 rows x 25 columns]"
            ]
          },
          "metadata": {
            "tags": []
          },
          "execution_count": 53
        }
      ]
    },
    {
      "cell_type": "markdown",
      "metadata": {
        "id": "PYK9e2wqZS5E"
      },
      "source": [
        "##Adequacy Test"
      ]
    },
    {
      "cell_type": "markdown",
      "metadata": {
        "id": "v_JwRMBcZVmK"
      },
      "source": [
        "###Bartlett’s Test"
      ]
    },
    {
      "cell_type": "code",
      "metadata": {
        "id": "ZjsLfhXnZUjR"
      },
      "source": [
        "#Критерий Бартлетта (англ. Bartlett's test) — статистический критерий, позволяющий проверять равенство дисперсий нескольких (двух и более) выборок. \n",
        "#Нулевая гипотеза предполагает, что рассматриваемые выборки получены из генеральных совокупностей, обладающих одинаковыми дисперсиями.\n",
        "#Если тест оказался статистически незначимым, не следует использовать факторный анализ. "
      ],
      "execution_count": 54,
      "outputs": []
    },
    {
      "cell_type": "code",
      "metadata": {
        "colab": {
          "base_uri": "https://localhost:8080/"
        },
        "id": "MwYshOLzZRBp",
        "outputId": "9099eee7-6bf7-4ac4-d68f-d2217d18b151"
      },
      "source": [
        "from factor_analyzer.factor_analyzer import calculate_bartlett_sphericity\n",
        "chi_square_value,p_value=calculate_bartlett_sphericity(df)\n",
        "chi_square_value, p_value"
      ],
      "execution_count": 55,
      "outputs": [
        {
          "output_type": "execute_result",
          "data": {
            "text/plain": [
              "(18170.966350869243, 0.0)"
            ]
          },
          "metadata": {
            "tags": []
          },
          "execution_count": 55
        }
      ]
    },
    {
      "cell_type": "markdown",
      "metadata": {
        "id": "vuy1L3UkaQey"
      },
      "source": [
        "###Kaiser-Meyer-Olkin (KMO) Test"
      ]
    },
    {
      "cell_type": "code",
      "metadata": {
        "id": "ToXzd--3aRzJ"
      },
      "source": [
        "#Тест Кайзера-Мейера-Олкина (КМО) измеряет пригодность данных для факторного анализа. \n",
        "#Он определяет адекватность для каждой наблюдаемой переменной и для всей модели. \n",
        "#KMO оценивает долю дисперсии среди всех наблюдаемых переменных.\n",
        "#Критерий может принимать значения от нуля до единицы.\n",
        "#Кайзер, Мейер и Олкин считают, что значение ниже 0,5 на этой главной диагонали недопустимо. "
      ],
      "execution_count": 56,
      "outputs": []
    },
    {
      "cell_type": "code",
      "metadata": {
        "id": "V0RD4Znrbaty"
      },
      "source": [
        "from factor_analyzer.factor_analyzer import calculate_kmo\n",
        "kmo_all,kmo_model=calculate_kmo(df)"
      ],
      "execution_count": 57,
      "outputs": []
    },
    {
      "cell_type": "code",
      "metadata": {
        "colab": {
          "base_uri": "https://localhost:8080/"
        },
        "id": "VecrLkvUbedJ",
        "outputId": "410db3a8-e9db-4296-96b4-eea6f0aa99f9"
      },
      "source": [
        "kmo_model"
      ],
      "execution_count": 58,
      "outputs": [
        {
          "output_type": "execute_result",
          "data": {
            "text/plain": [
              "0.8485397221949221"
            ]
          },
          "metadata": {
            "tags": []
          },
          "execution_count": 58
        }
      ]
    },
    {
      "cell_type": "markdown",
      "metadata": {
        "id": "8kJcY0Nybuxj"
      },
      "source": [
        "###Choosing the Number of Factors"
      ]
    },
    {
      "cell_type": "code",
      "metadata": {
        "colab": {
          "base_uri": "https://localhost:8080/"
        },
        "id": "saAH3Ze4bv9x",
        "outputId": "6cdc6908-8552-4771-b8fb-acfa55dab9b0"
      },
      "source": [
        "fa = FactorAnalyzer()\n",
        "fa.fit(df)\n",
        "eigen_values, vectors = fa.get_eigenvalues()\n",
        "eigen_values"
      ],
      "execution_count": 59,
      "outputs": [
        {
          "output_type": "execute_result",
          "data": {
            "text/plain": [
              "array([5.13431118, 2.75188667, 2.14270195, 1.85232761, 1.54816285,\n",
              "       1.07358247, 0.83953893, 0.79920618, 0.71898919, 0.68808879,\n",
              "       0.67637336, 0.65179984, 0.62325295, 0.59656284, 0.56309083,\n",
              "       0.54330533, 0.51451752, 0.49450315, 0.48263952, 0.448921  ,\n",
              "       0.42336611, 0.40067145, 0.38780448, 0.38185679, 0.26253902])"
            ]
          },
          "metadata": {
            "tags": []
          },
          "execution_count": 59
        }
      ]
    },
    {
      "cell_type": "code",
      "metadata": {
        "colab": {
          "base_uri": "https://localhost:8080/",
          "height": 295
        },
        "id": "xAc-wmiOcu4T",
        "outputId": "9bc518b8-7798-4b46-bc6b-f3bb7e5e8080"
      },
      "source": [
        "plt.scatter(range(1,df.shape[1]+1),eigen_values)\n",
        "plt.plot(range(1,df.shape[1]+1),eigen_values)\n",
        "plt.title('Scree Plot')\n",
        "plt.xlabel('Factors')\n",
        "plt.ylabel('Eigenvalue')\n",
        "plt.grid()\n",
        "plt.show()"
      ],
      "execution_count": 60,
      "outputs": [
        {
          "output_type": "display_data",
          "data": {
            "image/png": "[encoded data removed]",
            "text/plain": [
              "<Figure size 432x288 with 1 Axes>"
            ]
          },
          "metadata": {
            "tags": [],
            "needs_background": "light"
          }
        }
      ]
    },
    {
      "cell_type": "markdown",
      "metadata": {
        "id": "uFXAVWeLdCQB"
      },
      "source": [
        "###Performing Factor Analysis"
      ]
    },
    {
      "cell_type": "code",
      "metadata": {
        "colab": {
          "base_uri": "https://localhost:8080/"
        },
        "id": "l34QbXD8dDdi",
        "outputId": "0edf9276-3e4d-48c2-a40c-51d8599f36a6"
      },
      "source": [
        "fa = FactorAnalyzer(rotation='varimax')\n",
        "fa.set_params(n_factors=6)\n",
        "fa.fit(df)\n",
        "fa.loadings_\n"
      ],
      "execution_count": 66,
      "outputs": [
        {
          "output_type": "execute_result",
          "data": {
            "text/plain": [
              "array([[ 9.52197426e-02,  4.07831575e-02,  4.87338851e-02,\n",
              "        -5.30987351e-01, -1.13057329e-01,  1.61216352e-01],\n",
              "       [ 3.31312765e-02,  2.35538040e-01,  1.33714395e-01,\n",
              "         6.61140979e-01,  6.37337870e-02, -6.24353645e-03],\n",
              "       [-9.62088444e-03,  3.43008175e-01,  1.21353368e-01,\n",
              "         6.05932691e-01,  3.39902655e-02,  1.60106429e-01],\n",
              "       [-8.15175587e-02,  2.19716721e-01,  2.35139532e-01,\n",
              "         4.04594039e-01, -1.25338020e-01,  8.63557051e-02],\n",
              "       [-1.49615885e-01,  4.14457675e-01,  1.06382165e-01,\n",
              "         4.69698289e-01,  3.09765729e-02,  2.36519344e-01],\n",
              "       [-4.35840205e-03,  7.72477523e-02,  5.54582256e-01,\n",
              "         7.51069506e-03,  1.90123730e-01,  9.50350463e-02],\n",
              "       [ 6.83300837e-02,  3.83703844e-02,  6.74545450e-01,\n",
              "         5.70549868e-02,  8.75925919e-02,  1.52775079e-01],\n",
              "       [-3.99936733e-02,  3.18673007e-02,  5.51164439e-01,\n",
              "         1.01282240e-01, -1.13380871e-02,  8.99628359e-03],\n",
              "       [ 2.16283366e-01, -6.62407735e-02, -6.38475489e-01,\n",
              "        -1.02616940e-01, -1.43846474e-01,  3.18358897e-01],\n",
              "       [ 2.84187245e-01, -1.80811696e-01, -5.44837677e-01,\n",
              "        -5.99548217e-02,  2.58370944e-02,  1.32423444e-01],\n",
              "       [ 2.22797940e-02, -5.90450892e-01,  5.39149065e-02,\n",
              "        -1.30850530e-01, -7.12045795e-02,  1.56582659e-01],\n",
              "       [ 2.33623567e-01, -6.84577632e-01, -8.84970715e-02,\n",
              "        -1.16715664e-01, -4.55610414e-02,  1.15065402e-01],\n",
              "       [-8.95006200e-04,  5.56774181e-01,  1.03390347e-01,\n",
              "         1.79396478e-01,  2.41179905e-01,  2.67291316e-01],\n",
              "       [-1.36788076e-01,  6.58394907e-01,  1.13798005e-01,\n",
              "         2.41142959e-01, -1.07808203e-01,  1.58512851e-01],\n",
              "       [ 3.44895884e-02,  5.07535082e-01,  3.09812528e-01,\n",
              "         7.88042857e-02,  2.00821351e-01,  8.74730089e-03],\n",
              "       [ 8.05805939e-01,  6.80113023e-02, -5.12637875e-02,\n",
              "        -1.74849358e-01, -7.49771190e-02, -9.62661721e-02],\n",
              "       [ 7.89831687e-01,  2.29582935e-02, -3.74768698e-02,\n",
              "        -1.41134481e-01,  6.72646117e-03, -1.39822615e-01],\n",
              "       [ 7.25081217e-01, -6.56869336e-02, -5.90394378e-02,\n",
              "        -1.91838177e-02, -1.06635547e-02,  6.24953370e-02],\n",
              "       [ 5.78318850e-01, -3.45072324e-01, -1.62173862e-01,\n",
              "         4.03125191e-04,  6.29164835e-02,  1.47551244e-01],\n",
              "       [ 5.23097072e-01, -1.61675117e-01, -2.53049779e-02,\n",
              "         9.01247904e-02, -1.61891978e-01,  1.20049478e-01],\n",
              "       [-2.00040178e-02,  2.25338562e-01,  1.33200799e-01,\n",
              "         5.17793746e-03,  4.79477216e-01,  2.18689832e-01],\n",
              "       [ 1.56230108e-01, -1.98151933e-03, -8.60468497e-02,\n",
              "         4.39891061e-02, -4.96639673e-01,  1.34692973e-01],\n",
              "       [ 1.18510151e-02,  3.25954483e-01,  9.38796106e-02,\n",
              "         7.66416455e-02,  5.66128048e-01,  2.10777219e-01],\n",
              "       [ 2.07280572e-01, -1.77745714e-01, -5.67146648e-03,\n",
              "         1.33655573e-01,  3.49227138e-01,  1.78068368e-01],\n",
              "       [ 6.32343667e-02, -1.42210623e-02, -4.70592290e-02,\n",
              "        -5.75607780e-02, -5.76742634e-01,  1.35935873e-01]])"
            ]
          },
          "metadata": {
            "tags": []
          },
          "execution_count": 66
        }
      ]
    },
    {
      "cell_type": "code",
      "metadata": {
        "colab": {
          "base_uri": "https://localhost:8080/"
        },
        "id": "q4LMQrEYkHxf",
        "outputId": "edfafaab-9a19-45d4-eb2a-2424480d805b"
      },
      "source": [
        "fa = FactorAnalyzer(rotation='varimax')\n",
        "fa.set_params(n_factors=5)\n",
        "fa.fit(df)\n",
        "fa.loadings_"
      ],
      "execution_count": 68,
      "outputs": [
        {
          "output_type": "execute_result",
          "data": {
            "text/plain": [
              "array([[ 0.11112641,  0.04046493,  0.02279796, -0.42816554, -0.07793074],\n",
              "       [ 0.029588  ,  0.21371606,  0.13903739,  0.62694553,  0.06213921],\n",
              "       [ 0.00935691,  0.31784809,  0.10933115,  0.65074261,  0.05619584],\n",
              "       [-0.06647574,  0.20456624,  0.23058374,  0.43562383, -0.1127004 ],\n",
              "       [-0.12211317,  0.39303367,  0.08786921,  0.53708686,  0.0667076 ],\n",
              "       [ 0.01041556,  0.07018423,  0.54582378,  0.03887794,  0.20958365],\n",
              "       [ 0.08957412,  0.0332704 ,  0.64873118,  0.10278247,  0.11543389],\n",
              "       [-0.03085502,  0.02390651,  0.55703585,  0.11157762, -0.00518271],\n",
              "       [ 0.24041008, -0.06498371, -0.63380555, -0.03749823, -0.107535  ],\n",
              "       [ 0.29031777, -0.1763948 , -0.56246672, -0.04752477,  0.03682235],\n",
              "       [ 0.04281888, -0.5748346 ,  0.03314352, -0.10481258, -0.05879528],\n",
              "       [ 0.24474268, -0.67873071, -0.10248265, -0.11251716, -0.04200997],\n",
              "       [ 0.02418041,  0.53681627,  0.08301031,  0.2579065 ,  0.28087733],\n",
              "       [-0.11561383,  0.64683266,  0.1020229 ,  0.3061013 , -0.07342224],\n",
              "       [ 0.0361453 ,  0.50406876,  0.31289947,  0.09035398,  0.21373932],\n",
              "       [ 0.78680747,  0.0789227 , -0.04599686, -0.21636343, -0.08470394],\n",
              "       [ 0.75410893,  0.02730105, -0.03056816, -0.19374409, -0.01030371],\n",
              "       [ 0.73172071, -0.0614302 , -0.06708415, -0.02771164, -0.00421723],\n",
              "       [ 0.59060205, -0.3453884 , -0.17890189,  0.00588617,  0.07522516],\n",
              "       [ 0.53785785, -0.16129053, -0.03730883,  0.10093148, -0.14976921],\n",
              "       [-0.00222396,  0.21300477,  0.1150799 ,  0.06155001,  0.50490717],\n",
              "       [ 0.17578784,  0.00455977, -0.09972866,  0.08180863, -0.46892525],\n",
              "       [ 0.02673618,  0.31095612,  0.07687283,  0.12688914,  0.5960066 ],\n",
              "       [ 0.22058215, -0.19119609, -0.0219056 ,  0.15547477,  0.36901221],\n",
              "       [ 0.08540105, -0.00534708, -0.06272953, -0.01038386, -0.53377798]])"
            ]
          },
          "metadata": {
            "tags": []
          },
          "execution_count": 68
        }
      ]
    },
    {
      "cell_type": "code",
      "metadata": {
        "colab": {
          "base_uri": "https://localhost:8080/"
        },
        "id": "ghNaHZF4kmDO",
        "outputId": "e63c2a2a-a727-4660-8da1-34b44cd2ca46"
      },
      "source": [
        "fa.get_factor_variance()"
      ],
      "execution_count": 69,
      "outputs": [
        {
          "output_type": "execute_result",
          "data": {
            "text/plain": [
              "(array([2.70963262, 2.47308982, 2.04110563, 1.84449799, 1.52215296]),\n",
              " array([0.1083853 , 0.09892359, 0.08164423, 0.07377992, 0.06088612]),\n",
              " array([0.1083853 , 0.2073089 , 0.28895312, 0.36273304, 0.42361916]))"
            ]
          },
          "metadata": {
            "tags": []
          },
          "execution_count": 69
        }
      ]
    }
  ]
}
