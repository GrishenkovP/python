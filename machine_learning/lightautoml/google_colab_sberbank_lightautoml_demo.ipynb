{
  "nbformat": 4,
  "nbformat_minor": 0,
  "metadata": {
    "colab": {
      "name": "google_colab_sberbank_lightautoml_demo.ipynb",
      "provenance": [],
      "collapsed_sections": []
    },
    "kernelspec": {
      "name": "python3",
      "display_name": "Python 3"
    },
    "language_info": {
      "name": "python"
    }
  },
  "cells": [
    {
      "cell_type": "markdown",
      "metadata": {
        "id": "adwaD-4dadlO"
      },
      "source": [
        "# **Sberbank LightAutoML (LAMA)**"
      ]
    },
    {
      "cell_type": "markdown",
      "metadata": {
        "id": "R5Vjvg4JaoZF"
      },
      "source": [
        "*Код данного ноутбука позаимствован из официального репозитория библиотеки https://github.com/sberbank-ai-lab/LightAutoML*"
      ]
    },
    {
      "cell_type": "markdown",
      "metadata": {
        "id": "chhq0h0eUZk8"
      },
      "source": [
        "### Install LightAutoML"
      ]
    },
    {
      "cell_type": "code",
      "metadata": {
        "id": "Zdyikmg_UY-t"
      },
      "source": [
        "#! pip install -U lightautoml"
      ],
      "execution_count": 1,
      "outputs": []
    },
    {
      "cell_type": "markdown",
      "metadata": {
        "id": "DUTYouaVUuc0"
      },
      "source": [
        "### Import necessary libraries"
      ]
    },
    {
      "cell_type": "code",
      "metadata": {
        "colab": {
          "base_uri": "https://localhost:8080/"
        },
        "id": "01HFAgbsT55v",
        "outputId": "1818b195-2ad5-4127-ad49-b9669fab69c9"
      },
      "source": [
        "# Standard python libraries\n",
        "import logging\n",
        "import os\n",
        "import time\n",
        "import requests\n",
        "logging.basicConfig(format='[%(asctime)s] (%(levelname)s): %(message)s', level=logging.INFO)\n",
        "\n",
        "# Installed libraries\n",
        "import numpy as np\n",
        "import pandas as pd\n",
        "from sklearn.metrics import roc_auc_score\n",
        "from sklearn.model_selection import train_test_split\n",
        "import torch\n",
        "\n",
        "# Imports from our package\n",
        "from lightautoml.automl.presets.tabular_presets import TabularAutoML, TabularUtilizedAutoML\n",
        "from lightautoml.dataset.roles import DatetimeRole\n",
        "from lightautoml.tasks import Task"
      ],
      "execution_count": 2,
      "outputs": [
        {
          "output_type": "stream",
          "text": [
            "[2021-07-20 15:13:32,248] (WARNING): /usr/local/lib/python3.7/dist-packages/gensim/similarities/__init__.py:15: UserWarning: The gensim.similarities.levenshtein submodule is disabled, because the optional Levenshtein package <https://pypi.org/project/python-Levenshtein/> is unavailable. Install Levenhstein (e.g. `pip install python-Levenshtein`) to suppress this warning.\n",
            "  warnings.warn(msg)\n",
            "\n"
          ],
          "name": "stderr"
        }
      ]
    },
    {
      "cell_type": "markdown",
      "metadata": {
        "id": "UrxF1EORVoBV"
      },
      "source": [
        "### Parameters"
      ]
    },
    {
      "cell_type": "code",
      "metadata": {
        "id": "WLJR2dibVtQM"
      },
      "source": [
        "N_THREADS = 8 # threads cnt for lgbm and linear models\n",
        "N_FOLDS = 5 # folds cnt for AutoML\n",
        "RANDOM_STATE = 42 # fixed random state for various reasons\n",
        "TEST_SIZE = 0.2 # Test size for metric check\n",
        "TIMEOUT = 60 # Time in seconds for automl run\n",
        "TARGET_NAME = 'TARGET' # Target column name"
      ],
      "execution_count": 3,
      "outputs": []
    },
    {
      "cell_type": "markdown",
      "metadata": {
        "id": "QswTrLzcWh1c"
      },
      "source": [
        "### Fix torch number of threads and numpy seed"
      ]
    },
    {
      "cell_type": "code",
      "metadata": {
        "id": "jNefYPE_WlxD"
      },
      "source": [
        "np.random.seed(RANDOM_STATE)\n",
        "torch.set_num_threads(N_THREADS)"
      ],
      "execution_count": 4,
      "outputs": []
    },
    {
      "cell_type": "markdown",
      "metadata": {
        "id": "9ZqteoKBWpfT"
      },
      "source": [
        "### Example data load"
      ]
    },
    {
      "cell_type": "code",
      "metadata": {
        "id": "NXi-HjOhWorD"
      },
      "source": [
        "DATASET_DIR = './example_data/test_data_files'\n",
        "DATASET_NAME = 'sampled_app_train.csv'\n",
        "DATASET_FULLNAME = os.path.join(DATASET_DIR, DATASET_NAME)\n",
        "DATASET_URL = 'https://raw.githubusercontent.com/sberbank-ai-lab/LightAutoML/master/example_data/test_data_files/sampled_app_train.csv'"
      ],
      "execution_count": 5,
      "outputs": []
    },
    {
      "cell_type": "code",
      "metadata": {
        "colab": {
          "base_uri": "https://localhost:8080/"
        },
        "id": "U5hC5ojIXMG0",
        "outputId": "4b5b8121-fef8-4e02-d0fe-9a1e46fd652a"
      },
      "source": [
        "%%time\n",
        "\n",
        "if not os.path.exists(DATASET_FULLNAME):\n",
        "    os.makedirs(DATASET_DIR, exist_ok=True)\n",
        "\n",
        "    dataset = requests.get(DATASET_URL).text\n",
        "    with open(DATASET_FULLNAME, 'w') as output:\n",
        "        output.write(dataset)"
      ],
      "execution_count": 6,
      "outputs": [
        {
          "output_type": "stream",
          "text": [
            "CPU times: user 34 µs, sys: 0 ns, total: 34 µs\n",
            "Wall time: 38.6 µs\n"
          ],
          "name": "stdout"
        }
      ]
    },
    {
      "cell_type": "code",
      "metadata": {
        "colab": {
          "base_uri": "https://localhost:8080/"
        },
        "id": "1IUX4VkfXi1s",
        "outputId": "2acc2b4c-b89a-41a7-cbc0-d103fd83a7fd"
      },
      "source": [
        "%%time\n",
        "\n",
        "data = pd.read_csv(DATASET_FULLNAME)"
      ],
      "execution_count": 7,
      "outputs": [
        {
          "output_type": "stream",
          "text": [
            "CPU times: user 381 ms, sys: 80.5 ms, total: 462 ms\n",
            "Wall time: 328 ms\n"
          ],
          "name": "stdout"
        }
      ]
    },
    {
      "cell_type": "code",
      "metadata": {
        "colab": {
          "base_uri": "https://localhost:8080/",
          "height": 304
        },
        "id": "GQkZj2JoXraE",
        "outputId": "e3739c0d-55fc-4eee-9063-4d4a26fc7016"
      },
      "source": [
        "data.head()"
      ],
      "execution_count": 8,
      "outputs": [
        {
          "output_type": "execute_result",
          "data": {
            "text/html": [
              "<div>\n",
              "<style scoped>\n",
              "    .dataframe tbody tr th:only-of-type {\n",
              "        vertical-align: middle;\n",
              "    }\n",
              "\n",
              "    .dataframe tbody tr th {\n",
              "        vertical-align: top;\n",
              "    }\n",
              "\n",
              "    .dataframe thead th {\n",
              "        text-align: right;\n",
              "    }\n",
              "</style>\n",
              "<table border=\"1\" class=\"dataframe\">\n",
              "  <thead>\n",
              "    <tr style=\"text-align: right;\">\n",
              "      <th></th>\n",
              "      <th>SK_ID_CURR</th>\n",
              "      <th>TARGET</th>\n",
              "      <th>NAME_CONTRACT_TYPE</th>\n",
              "      <th>CODE_GENDER</th>\n",
              "      <th>FLAG_OWN_CAR</th>\n",
              "      <th>FLAG_OWN_REALTY</th>\n",
              "      <th>CNT_CHILDREN</th>\n",
              "      <th>AMT_INCOME_TOTAL</th>\n",
              "      <th>AMT_CREDIT</th>\n",
              "      <th>AMT_ANNUITY</th>\n",
              "      <th>AMT_GOODS_PRICE</th>\n",
              "      <th>NAME_TYPE_SUITE</th>\n",
              "      <th>NAME_INCOME_TYPE</th>\n",
              "      <th>NAME_EDUCATION_TYPE</th>\n",
              "      <th>NAME_FAMILY_STATUS</th>\n",
              "      <th>NAME_HOUSING_TYPE</th>\n",
              "      <th>REGION_POPULATION_RELATIVE</th>\n",
              "      <th>DAYS_BIRTH</th>\n",
              "      <th>DAYS_EMPLOYED</th>\n",
              "      <th>DAYS_REGISTRATION</th>\n",
              "      <th>DAYS_ID_PUBLISH</th>\n",
              "      <th>OWN_CAR_AGE</th>\n",
              "      <th>FLAG_MOBIL</th>\n",
              "      <th>FLAG_EMP_PHONE</th>\n",
              "      <th>FLAG_WORK_PHONE</th>\n",
              "      <th>FLAG_CONT_MOBILE</th>\n",
              "      <th>FLAG_PHONE</th>\n",
              "      <th>FLAG_EMAIL</th>\n",
              "      <th>OCCUPATION_TYPE</th>\n",
              "      <th>CNT_FAM_MEMBERS</th>\n",
              "      <th>REGION_RATING_CLIENT</th>\n",
              "      <th>REGION_RATING_CLIENT_W_CITY</th>\n",
              "      <th>WEEKDAY_APPR_PROCESS_START</th>\n",
              "      <th>HOUR_APPR_PROCESS_START</th>\n",
              "      <th>REG_REGION_NOT_LIVE_REGION</th>\n",
              "      <th>REG_REGION_NOT_WORK_REGION</th>\n",
              "      <th>LIVE_REGION_NOT_WORK_REGION</th>\n",
              "      <th>REG_CITY_NOT_LIVE_CITY</th>\n",
              "      <th>REG_CITY_NOT_WORK_CITY</th>\n",
              "      <th>LIVE_CITY_NOT_WORK_CITY</th>\n",
              "      <th>...</th>\n",
              "      <th>LIVINGAPARTMENTS_MEDI</th>\n",
              "      <th>LIVINGAREA_MEDI</th>\n",
              "      <th>NONLIVINGAPARTMENTS_MEDI</th>\n",
              "      <th>NONLIVINGAREA_MEDI</th>\n",
              "      <th>FONDKAPREMONT_MODE</th>\n",
              "      <th>HOUSETYPE_MODE</th>\n",
              "      <th>TOTALAREA_MODE</th>\n",
              "      <th>WALLSMATERIAL_MODE</th>\n",
              "      <th>EMERGENCYSTATE_MODE</th>\n",
              "      <th>OBS_30_CNT_SOCIAL_CIRCLE</th>\n",
              "      <th>DEF_30_CNT_SOCIAL_CIRCLE</th>\n",
              "      <th>OBS_60_CNT_SOCIAL_CIRCLE</th>\n",
              "      <th>DEF_60_CNT_SOCIAL_CIRCLE</th>\n",
              "      <th>DAYS_LAST_PHONE_CHANGE</th>\n",
              "      <th>FLAG_DOCUMENT_2</th>\n",
              "      <th>FLAG_DOCUMENT_3</th>\n",
              "      <th>FLAG_DOCUMENT_4</th>\n",
              "      <th>FLAG_DOCUMENT_5</th>\n",
              "      <th>FLAG_DOCUMENT_6</th>\n",
              "      <th>FLAG_DOCUMENT_7</th>\n",
              "      <th>FLAG_DOCUMENT_8</th>\n",
              "      <th>FLAG_DOCUMENT_9</th>\n",
              "      <th>FLAG_DOCUMENT_10</th>\n",
              "      <th>FLAG_DOCUMENT_11</th>\n",
              "      <th>FLAG_DOCUMENT_12</th>\n",
              "      <th>FLAG_DOCUMENT_13</th>\n",
              "      <th>FLAG_DOCUMENT_14</th>\n",
              "      <th>FLAG_DOCUMENT_15</th>\n",
              "      <th>FLAG_DOCUMENT_16</th>\n",
              "      <th>FLAG_DOCUMENT_17</th>\n",
              "      <th>FLAG_DOCUMENT_18</th>\n",
              "      <th>FLAG_DOCUMENT_19</th>\n",
              "      <th>FLAG_DOCUMENT_20</th>\n",
              "      <th>FLAG_DOCUMENT_21</th>\n",
              "      <th>AMT_REQ_CREDIT_BUREAU_HOUR</th>\n",
              "      <th>AMT_REQ_CREDIT_BUREAU_DAY</th>\n",
              "      <th>AMT_REQ_CREDIT_BUREAU_WEEK</th>\n",
              "      <th>AMT_REQ_CREDIT_BUREAU_MON</th>\n",
              "      <th>AMT_REQ_CREDIT_BUREAU_QRT</th>\n",
              "      <th>AMT_REQ_CREDIT_BUREAU_YEAR</th>\n",
              "    </tr>\n",
              "  </thead>\n",
              "  <tbody>\n",
              "    <tr>\n",
              "      <th>0</th>\n",
              "      <td>313802</td>\n",
              "      <td>0</td>\n",
              "      <td>Cash loans</td>\n",
              "      <td>M</td>\n",
              "      <td>N</td>\n",
              "      <td>Y</td>\n",
              "      <td>0</td>\n",
              "      <td>270000.0</td>\n",
              "      <td>327024.0</td>\n",
              "      <td>15372.0</td>\n",
              "      <td>270000.0</td>\n",
              "      <td>Unaccompanied</td>\n",
              "      <td>Working</td>\n",
              "      <td>Higher education</td>\n",
              "      <td>Married</td>\n",
              "      <td>House / apartment</td>\n",
              "      <td>0.072508</td>\n",
              "      <td>-18590</td>\n",
              "      <td>-226</td>\n",
              "      <td>-2432.0</td>\n",
              "      <td>-2137</td>\n",
              "      <td>NaN</td>\n",
              "      <td>1</td>\n",
              "      <td>1</td>\n",
              "      <td>0</td>\n",
              "      <td>1</td>\n",
              "      <td>0</td>\n",
              "      <td>0</td>\n",
              "      <td>High skill tech staff</td>\n",
              "      <td>2.0</td>\n",
              "      <td>1</td>\n",
              "      <td>1</td>\n",
              "      <td>FRIDAY</td>\n",
              "      <td>14</td>\n",
              "      <td>0</td>\n",
              "      <td>1</td>\n",
              "      <td>1</td>\n",
              "      <td>0</td>\n",
              "      <td>0</td>\n",
              "      <td>0</td>\n",
              "      <td>...</td>\n",
              "      <td>0.0701</td>\n",
              "      <td>0.0684</td>\n",
              "      <td>0.0078</td>\n",
              "      <td>0.0738</td>\n",
              "      <td>reg oper account</td>\n",
              "      <td>block of flats</td>\n",
              "      <td>0.0686</td>\n",
              "      <td>Panel</td>\n",
              "      <td>No</td>\n",
              "      <td>0.0</td>\n",
              "      <td>0.0</td>\n",
              "      <td>0.0</td>\n",
              "      <td>0.0</td>\n",
              "      <td>-1275.0</td>\n",
              "      <td>0</td>\n",
              "      <td>1</td>\n",
              "      <td>0</td>\n",
              "      <td>0</td>\n",
              "      <td>0</td>\n",
              "      <td>0</td>\n",
              "      <td>0</td>\n",
              "      <td>0</td>\n",
              "      <td>0</td>\n",
              "      <td>0</td>\n",
              "      <td>0</td>\n",
              "      <td>0</td>\n",
              "      <td>0</td>\n",
              "      <td>0</td>\n",
              "      <td>0</td>\n",
              "      <td>0</td>\n",
              "      <td>0</td>\n",
              "      <td>0</td>\n",
              "      <td>0</td>\n",
              "      <td>0</td>\n",
              "      <td>0.0</td>\n",
              "      <td>0.0</td>\n",
              "      <td>0.0</td>\n",
              "      <td>0.0</td>\n",
              "      <td>0.0</td>\n",
              "      <td>1.0</td>\n",
              "    </tr>\n",
              "    <tr>\n",
              "      <th>1</th>\n",
              "      <td>319656</td>\n",
              "      <td>0</td>\n",
              "      <td>Cash loans</td>\n",
              "      <td>F</td>\n",
              "      <td>N</td>\n",
              "      <td>N</td>\n",
              "      <td>0</td>\n",
              "      <td>108000.0</td>\n",
              "      <td>675000.0</td>\n",
              "      <td>19737.0</td>\n",
              "      <td>675000.0</td>\n",
              "      <td>Unaccompanied</td>\n",
              "      <td>Working</td>\n",
              "      <td>Secondary / secondary special</td>\n",
              "      <td>Married</td>\n",
              "      <td>House / apartment</td>\n",
              "      <td>0.035792</td>\n",
              "      <td>-20316</td>\n",
              "      <td>-3822</td>\n",
              "      <td>-13156.0</td>\n",
              "      <td>-3758</td>\n",
              "      <td>NaN</td>\n",
              "      <td>1</td>\n",
              "      <td>1</td>\n",
              "      <td>1</td>\n",
              "      <td>1</td>\n",
              "      <td>0</td>\n",
              "      <td>0</td>\n",
              "      <td>Security staff</td>\n",
              "      <td>2.0</td>\n",
              "      <td>2</td>\n",
              "      <td>2</td>\n",
              "      <td>WEDNESDAY</td>\n",
              "      <td>15</td>\n",
              "      <td>0</td>\n",
              "      <td>0</td>\n",
              "      <td>0</td>\n",
              "      <td>0</td>\n",
              "      <td>1</td>\n",
              "      <td>1</td>\n",
              "      <td>...</td>\n",
              "      <td>NaN</td>\n",
              "      <td>NaN</td>\n",
              "      <td>NaN</td>\n",
              "      <td>NaN</td>\n",
              "      <td>NaN</td>\n",
              "      <td>NaN</td>\n",
              "      <td>NaN</td>\n",
              "      <td>NaN</td>\n",
              "      <td>NaN</td>\n",
              "      <td>1.0</td>\n",
              "      <td>1.0</td>\n",
              "      <td>1.0</td>\n",
              "      <td>1.0</td>\n",
              "      <td>-1732.0</td>\n",
              "      <td>0</td>\n",
              "      <td>1</td>\n",
              "      <td>0</td>\n",
              "      <td>0</td>\n",
              "      <td>0</td>\n",
              "      <td>0</td>\n",
              "      <td>0</td>\n",
              "      <td>0</td>\n",
              "      <td>0</td>\n",
              "      <td>0</td>\n",
              "      <td>0</td>\n",
              "      <td>0</td>\n",
              "      <td>0</td>\n",
              "      <td>0</td>\n",
              "      <td>0</td>\n",
              "      <td>0</td>\n",
              "      <td>0</td>\n",
              "      <td>0</td>\n",
              "      <td>0</td>\n",
              "      <td>0</td>\n",
              "      <td>0.0</td>\n",
              "      <td>0.0</td>\n",
              "      <td>0.0</td>\n",
              "      <td>0.0</td>\n",
              "      <td>0.0</td>\n",
              "      <td>0.0</td>\n",
              "    </tr>\n",
              "    <tr>\n",
              "      <th>2</th>\n",
              "      <td>207678</td>\n",
              "      <td>0</td>\n",
              "      <td>Revolving loans</td>\n",
              "      <td>F</td>\n",
              "      <td>Y</td>\n",
              "      <td>Y</td>\n",
              "      <td>2</td>\n",
              "      <td>112500.0</td>\n",
              "      <td>270000.0</td>\n",
              "      <td>13500.0</td>\n",
              "      <td>270000.0</td>\n",
              "      <td>Unaccompanied</td>\n",
              "      <td>Working</td>\n",
              "      <td>Secondary / secondary special</td>\n",
              "      <td>Married</td>\n",
              "      <td>Municipal apartment</td>\n",
              "      <td>0.031329</td>\n",
              "      <td>-9545</td>\n",
              "      <td>-1076</td>\n",
              "      <td>-4077.0</td>\n",
              "      <td>-1058</td>\n",
              "      <td>18.0</td>\n",
              "      <td>1</td>\n",
              "      <td>1</td>\n",
              "      <td>0</td>\n",
              "      <td>1</td>\n",
              "      <td>0</td>\n",
              "      <td>0</td>\n",
              "      <td>Laborers</td>\n",
              "      <td>4.0</td>\n",
              "      <td>2</td>\n",
              "      <td>2</td>\n",
              "      <td>THURSDAY</td>\n",
              "      <td>12</td>\n",
              "      <td>0</td>\n",
              "      <td>0</td>\n",
              "      <td>0</td>\n",
              "      <td>0</td>\n",
              "      <td>0</td>\n",
              "      <td>0</td>\n",
              "      <td>...</td>\n",
              "      <td>NaN</td>\n",
              "      <td>0.0023</td>\n",
              "      <td>NaN</td>\n",
              "      <td>0.0000</td>\n",
              "      <td>NaN</td>\n",
              "      <td>block of flats</td>\n",
              "      <td>0.0018</td>\n",
              "      <td>Wooden</td>\n",
              "      <td>No</td>\n",
              "      <td>4.0</td>\n",
              "      <td>1.0</td>\n",
              "      <td>4.0</td>\n",
              "      <td>1.0</td>\n",
              "      <td>-1597.0</td>\n",
              "      <td>0</td>\n",
              "      <td>0</td>\n",
              "      <td>0</td>\n",
              "      <td>0</td>\n",
              "      <td>0</td>\n",
              "      <td>0</td>\n",
              "      <td>0</td>\n",
              "      <td>0</td>\n",
              "      <td>0</td>\n",
              "      <td>0</td>\n",
              "      <td>0</td>\n",
              "      <td>0</td>\n",
              "      <td>0</td>\n",
              "      <td>0</td>\n",
              "      <td>0</td>\n",
              "      <td>0</td>\n",
              "      <td>0</td>\n",
              "      <td>0</td>\n",
              "      <td>0</td>\n",
              "      <td>0</td>\n",
              "      <td>0.0</td>\n",
              "      <td>0.0</td>\n",
              "      <td>0.0</td>\n",
              "      <td>0.0</td>\n",
              "      <td>0.0</td>\n",
              "      <td>1.0</td>\n",
              "    </tr>\n",
              "    <tr>\n",
              "      <th>3</th>\n",
              "      <td>381593</td>\n",
              "      <td>0</td>\n",
              "      <td>Cash loans</td>\n",
              "      <td>F</td>\n",
              "      <td>N</td>\n",
              "      <td>N</td>\n",
              "      <td>1</td>\n",
              "      <td>67500.0</td>\n",
              "      <td>142200.0</td>\n",
              "      <td>9630.0</td>\n",
              "      <td>112500.0</td>\n",
              "      <td>Unaccompanied</td>\n",
              "      <td>Working</td>\n",
              "      <td>Higher education</td>\n",
              "      <td>Married</td>\n",
              "      <td>With parents</td>\n",
              "      <td>0.008474</td>\n",
              "      <td>-11421</td>\n",
              "      <td>-2272</td>\n",
              "      <td>-5106.0</td>\n",
              "      <td>-1556</td>\n",
              "      <td>NaN</td>\n",
              "      <td>1</td>\n",
              "      <td>1</td>\n",
              "      <td>0</td>\n",
              "      <td>1</td>\n",
              "      <td>0</td>\n",
              "      <td>0</td>\n",
              "      <td>NaN</td>\n",
              "      <td>3.0</td>\n",
              "      <td>2</td>\n",
              "      <td>2</td>\n",
              "      <td>FRIDAY</td>\n",
              "      <td>15</td>\n",
              "      <td>0</td>\n",
              "      <td>0</td>\n",
              "      <td>0</td>\n",
              "      <td>0</td>\n",
              "      <td>0</td>\n",
              "      <td>0</td>\n",
              "      <td>...</td>\n",
              "      <td>NaN</td>\n",
              "      <td>0.0343</td>\n",
              "      <td>NaN</td>\n",
              "      <td>0.0133</td>\n",
              "      <td>NaN</td>\n",
              "      <td>block of flats</td>\n",
              "      <td>0.0214</td>\n",
              "      <td>Stone, brick</td>\n",
              "      <td>No</td>\n",
              "      <td>0.0</td>\n",
              "      <td>0.0</td>\n",
              "      <td>0.0</td>\n",
              "      <td>0.0</td>\n",
              "      <td>-1069.0</td>\n",
              "      <td>0</td>\n",
              "      <td>1</td>\n",
              "      <td>0</td>\n",
              "      <td>0</td>\n",
              "      <td>0</td>\n",
              "      <td>0</td>\n",
              "      <td>0</td>\n",
              "      <td>0</td>\n",
              "      <td>0</td>\n",
              "      <td>0</td>\n",
              "      <td>0</td>\n",
              "      <td>0</td>\n",
              "      <td>0</td>\n",
              "      <td>0</td>\n",
              "      <td>0</td>\n",
              "      <td>0</td>\n",
              "      <td>0</td>\n",
              "      <td>0</td>\n",
              "      <td>0</td>\n",
              "      <td>0</td>\n",
              "      <td>0.0</td>\n",
              "      <td>0.0</td>\n",
              "      <td>0.0</td>\n",
              "      <td>0.0</td>\n",
              "      <td>0.0</td>\n",
              "      <td>4.0</td>\n",
              "    </tr>\n",
              "    <tr>\n",
              "      <th>4</th>\n",
              "      <td>258153</td>\n",
              "      <td>0</td>\n",
              "      <td>Cash loans</td>\n",
              "      <td>F</td>\n",
              "      <td>Y</td>\n",
              "      <td>Y</td>\n",
              "      <td>0</td>\n",
              "      <td>337500.0</td>\n",
              "      <td>1483231.5</td>\n",
              "      <td>46570.5</td>\n",
              "      <td>1354500.0</td>\n",
              "      <td>Family</td>\n",
              "      <td>Working</td>\n",
              "      <td>Secondary / secondary special</td>\n",
              "      <td>Married</td>\n",
              "      <td>House / apartment</td>\n",
              "      <td>0.008474</td>\n",
              "      <td>-13203</td>\n",
              "      <td>-1775</td>\n",
              "      <td>-5743.0</td>\n",
              "      <td>-4256</td>\n",
              "      <td>9.0</td>\n",
              "      <td>1</td>\n",
              "      <td>1</td>\n",
              "      <td>1</td>\n",
              "      <td>1</td>\n",
              "      <td>1</td>\n",
              "      <td>0</td>\n",
              "      <td>Managers</td>\n",
              "      <td>2.0</td>\n",
              "      <td>2</td>\n",
              "      <td>2</td>\n",
              "      <td>FRIDAY</td>\n",
              "      <td>10</td>\n",
              "      <td>0</td>\n",
              "      <td>0</td>\n",
              "      <td>0</td>\n",
              "      <td>0</td>\n",
              "      <td>0</td>\n",
              "      <td>0</td>\n",
              "      <td>...</td>\n",
              "      <td>0.0761</td>\n",
              "      <td>0.0878</td>\n",
              "      <td>0.0039</td>\n",
              "      <td>0.0043</td>\n",
              "      <td>NaN</td>\n",
              "      <td>block of flats</td>\n",
              "      <td>0.0753</td>\n",
              "      <td>Panel</td>\n",
              "      <td>No</td>\n",
              "      <td>0.0</td>\n",
              "      <td>0.0</td>\n",
              "      <td>0.0</td>\n",
              "      <td>0.0</td>\n",
              "      <td>-1104.0</td>\n",
              "      <td>0</td>\n",
              "      <td>0</td>\n",
              "      <td>0</td>\n",
              "      <td>0</td>\n",
              "      <td>0</td>\n",
              "      <td>0</td>\n",
              "      <td>1</td>\n",
              "      <td>0</td>\n",
              "      <td>0</td>\n",
              "      <td>0</td>\n",
              "      <td>0</td>\n",
              "      <td>0</td>\n",
              "      <td>0</td>\n",
              "      <td>0</td>\n",
              "      <td>0</td>\n",
              "      <td>0</td>\n",
              "      <td>0</td>\n",
              "      <td>0</td>\n",
              "      <td>0</td>\n",
              "      <td>0</td>\n",
              "      <td>0.0</td>\n",
              "      <td>0.0</td>\n",
              "      <td>0.0</td>\n",
              "      <td>2.0</td>\n",
              "      <td>0.0</td>\n",
              "      <td>0.0</td>\n",
              "    </tr>\n",
              "  </tbody>\n",
              "</table>\n",
              "<p>5 rows × 122 columns</p>\n",
              "</div>"
            ],
            "text/plain": [
              "   SK_ID_CURR  TARGET  ... AMT_REQ_CREDIT_BUREAU_QRT AMT_REQ_CREDIT_BUREAU_YEAR\n",
              "0      313802       0  ...                       0.0                        1.0\n",
              "1      319656       0  ...                       0.0                        0.0\n",
              "2      207678       0  ...                       0.0                        1.0\n",
              "3      381593       0  ...                       0.0                        4.0\n",
              "4      258153       0  ...                       0.0                        0.0\n",
              "\n",
              "[5 rows x 122 columns]"
            ]
          },
          "metadata": {
            "tags": []
          },
          "execution_count": 8
        }
      ]
    },
    {
      "cell_type": "markdown",
      "metadata": {
        "id": "ijEQJ2_eY8q9"
      },
      "source": [
        "### Some user feature preparation"
      ]
    },
    {
      "cell_type": "code",
      "metadata": {
        "colab": {
          "base_uri": "https://localhost:8080/"
        },
        "id": "fNoISb7uY-z1",
        "outputId": "0baaed0a-b96d-48e6-d4e5-25cd107dfbca"
      },
      "source": [
        "%%time\n",
        "\n",
        "data['BIRTH_DATE'] = (np.datetime64('2018-01-01') + data['DAYS_BIRTH'].astype(np.dtype('timedelta64[D]'))).astype(str)\n",
        "data['EMP_DATE'] = (np.datetime64('2018-01-01') + np.clip(data['DAYS_EMPLOYED'], None, 0).astype(np.dtype('timedelta64[D]'))\n",
        "                    ).astype(str)\n",
        "\n",
        "data['constant'] = 1\n",
        "data['allnan'] = np.nan\n",
        "\n",
        "data['report_dt'] = np.datetime64('2018-01-01')\n",
        "\n",
        "data.drop(['DAYS_BIRTH', 'DAYS_EMPLOYED'], axis=1, inplace=True)"
      ],
      "execution_count": 9,
      "outputs": [
        {
          "output_type": "stream",
          "text": [
            "[2021-07-20 15:13:34,761] (INFO): NumExpr defaulting to 2 threads.\n"
          ],
          "name": "stderr"
        },
        {
          "output_type": "stream",
          "text": [
            "CPU times: user 146 ms, sys: 14.3 ms, total: 160 ms\n",
            "Wall time: 165 ms\n"
          ],
          "name": "stdout"
        }
      ]
    },
    {
      "cell_type": "markdown",
      "metadata": {
        "id": "S8ADpg8kYhhj"
      },
      "source": [
        "### Data splitting for train-test"
      ]
    },
    {
      "cell_type": "code",
      "metadata": {
        "colab": {
          "base_uri": "https://localhost:8080/"
        },
        "id": "ypeyxHn8Yg-V",
        "outputId": "dbdf2c96-2c02-4ebd-f3d2-7157c2c5ba35"
      },
      "source": [
        "%%time\n",
        "\n",
        "train_data, test_data = train_test_split(data, \n",
        "                                         test_size=TEST_SIZE, \n",
        "                                         stratify=data[TARGET_NAME], \n",
        "                                         random_state=RANDOM_STATE)\n",
        "logging.info('Data splitted. Parts sizes: train_data = {}, test_data = {}'\n",
        "              .format(train_data.shape, test_data.shape))"
      ],
      "execution_count": 10,
      "outputs": [
        {
          "output_type": "stream",
          "text": [
            "[2021-07-20 15:13:34,882] (INFO): Data splitted. Parts sizes: train_data = (8000, 125), test_data = (2000, 125)\n"
          ],
          "name": "stderr"
        },
        {
          "output_type": "stream",
          "text": [
            "CPU times: user 19.1 ms, sys: 1.72 ms, total: 20.8 ms\n",
            "Wall time: 20.6 ms\n"
          ],
          "name": "stdout"
        }
      ]
    },
    {
      "cell_type": "code",
      "metadata": {
        "colab": {
          "base_uri": "https://localhost:8080/",
          "height": 338
        },
        "id": "CawZ5J8iZQkM",
        "outputId": "04a129b7-a266-4d12-a044-9332579573a9"
      },
      "source": [
        "train_data.head()"
      ],
      "execution_count": 11,
      "outputs": [
        {
          "output_type": "execute_result",
          "data": {
            "text/html": [
              "<div>\n",
              "<style scoped>\n",
              "    .dataframe tbody tr th:only-of-type {\n",
              "        vertical-align: middle;\n",
              "    }\n",
              "\n",
              "    .dataframe tbody tr th {\n",
              "        vertical-align: top;\n",
              "    }\n",
              "\n",
              "    .dataframe thead th {\n",
              "        text-align: right;\n",
              "    }\n",
              "</style>\n",
              "<table border=\"1\" class=\"dataframe\">\n",
              "  <thead>\n",
              "    <tr style=\"text-align: right;\">\n",
              "      <th></th>\n",
              "      <th>SK_ID_CURR</th>\n",
              "      <th>TARGET</th>\n",
              "      <th>NAME_CONTRACT_TYPE</th>\n",
              "      <th>CODE_GENDER</th>\n",
              "      <th>FLAG_OWN_CAR</th>\n",
              "      <th>FLAG_OWN_REALTY</th>\n",
              "      <th>CNT_CHILDREN</th>\n",
              "      <th>AMT_INCOME_TOTAL</th>\n",
              "      <th>AMT_CREDIT</th>\n",
              "      <th>AMT_ANNUITY</th>\n",
              "      <th>AMT_GOODS_PRICE</th>\n",
              "      <th>NAME_TYPE_SUITE</th>\n",
              "      <th>NAME_INCOME_TYPE</th>\n",
              "      <th>NAME_EDUCATION_TYPE</th>\n",
              "      <th>NAME_FAMILY_STATUS</th>\n",
              "      <th>NAME_HOUSING_TYPE</th>\n",
              "      <th>REGION_POPULATION_RELATIVE</th>\n",
              "      <th>DAYS_REGISTRATION</th>\n",
              "      <th>DAYS_ID_PUBLISH</th>\n",
              "      <th>OWN_CAR_AGE</th>\n",
              "      <th>FLAG_MOBIL</th>\n",
              "      <th>FLAG_EMP_PHONE</th>\n",
              "      <th>FLAG_WORK_PHONE</th>\n",
              "      <th>FLAG_CONT_MOBILE</th>\n",
              "      <th>FLAG_PHONE</th>\n",
              "      <th>FLAG_EMAIL</th>\n",
              "      <th>OCCUPATION_TYPE</th>\n",
              "      <th>CNT_FAM_MEMBERS</th>\n",
              "      <th>REGION_RATING_CLIENT</th>\n",
              "      <th>REGION_RATING_CLIENT_W_CITY</th>\n",
              "      <th>WEEKDAY_APPR_PROCESS_START</th>\n",
              "      <th>HOUR_APPR_PROCESS_START</th>\n",
              "      <th>REG_REGION_NOT_LIVE_REGION</th>\n",
              "      <th>REG_REGION_NOT_WORK_REGION</th>\n",
              "      <th>LIVE_REGION_NOT_WORK_REGION</th>\n",
              "      <th>REG_CITY_NOT_LIVE_CITY</th>\n",
              "      <th>REG_CITY_NOT_WORK_CITY</th>\n",
              "      <th>LIVE_CITY_NOT_WORK_CITY</th>\n",
              "      <th>ORGANIZATION_TYPE</th>\n",
              "      <th>EXT_SOURCE_1</th>\n",
              "      <th>...</th>\n",
              "      <th>HOUSETYPE_MODE</th>\n",
              "      <th>TOTALAREA_MODE</th>\n",
              "      <th>WALLSMATERIAL_MODE</th>\n",
              "      <th>EMERGENCYSTATE_MODE</th>\n",
              "      <th>OBS_30_CNT_SOCIAL_CIRCLE</th>\n",
              "      <th>DEF_30_CNT_SOCIAL_CIRCLE</th>\n",
              "      <th>OBS_60_CNT_SOCIAL_CIRCLE</th>\n",
              "      <th>DEF_60_CNT_SOCIAL_CIRCLE</th>\n",
              "      <th>DAYS_LAST_PHONE_CHANGE</th>\n",
              "      <th>FLAG_DOCUMENT_2</th>\n",
              "      <th>FLAG_DOCUMENT_3</th>\n",
              "      <th>FLAG_DOCUMENT_4</th>\n",
              "      <th>FLAG_DOCUMENT_5</th>\n",
              "      <th>FLAG_DOCUMENT_6</th>\n",
              "      <th>FLAG_DOCUMENT_7</th>\n",
              "      <th>FLAG_DOCUMENT_8</th>\n",
              "      <th>FLAG_DOCUMENT_9</th>\n",
              "      <th>FLAG_DOCUMENT_10</th>\n",
              "      <th>FLAG_DOCUMENT_11</th>\n",
              "      <th>FLAG_DOCUMENT_12</th>\n",
              "      <th>FLAG_DOCUMENT_13</th>\n",
              "      <th>FLAG_DOCUMENT_14</th>\n",
              "      <th>FLAG_DOCUMENT_15</th>\n",
              "      <th>FLAG_DOCUMENT_16</th>\n",
              "      <th>FLAG_DOCUMENT_17</th>\n",
              "      <th>FLAG_DOCUMENT_18</th>\n",
              "      <th>FLAG_DOCUMENT_19</th>\n",
              "      <th>FLAG_DOCUMENT_20</th>\n",
              "      <th>FLAG_DOCUMENT_21</th>\n",
              "      <th>AMT_REQ_CREDIT_BUREAU_HOUR</th>\n",
              "      <th>AMT_REQ_CREDIT_BUREAU_DAY</th>\n",
              "      <th>AMT_REQ_CREDIT_BUREAU_WEEK</th>\n",
              "      <th>AMT_REQ_CREDIT_BUREAU_MON</th>\n",
              "      <th>AMT_REQ_CREDIT_BUREAU_QRT</th>\n",
              "      <th>AMT_REQ_CREDIT_BUREAU_YEAR</th>\n",
              "      <th>BIRTH_DATE</th>\n",
              "      <th>EMP_DATE</th>\n",
              "      <th>constant</th>\n",
              "      <th>allnan</th>\n",
              "      <th>report_dt</th>\n",
              "    </tr>\n",
              "  </thead>\n",
              "  <tbody>\n",
              "    <tr>\n",
              "      <th>6444</th>\n",
              "      <td>112261</td>\n",
              "      <td>0</td>\n",
              "      <td>Cash loans</td>\n",
              "      <td>F</td>\n",
              "      <td>N</td>\n",
              "      <td>N</td>\n",
              "      <td>1</td>\n",
              "      <td>90000.0</td>\n",
              "      <td>640080.0</td>\n",
              "      <td>31261.5</td>\n",
              "      <td>450000.0</td>\n",
              "      <td>Unaccompanied</td>\n",
              "      <td>Working</td>\n",
              "      <td>Secondary / secondary special</td>\n",
              "      <td>Married</td>\n",
              "      <td>House / apartment</td>\n",
              "      <td>0.019101</td>\n",
              "      <td>-2282.0</td>\n",
              "      <td>-3618</td>\n",
              "      <td>NaN</td>\n",
              "      <td>1</td>\n",
              "      <td>1</td>\n",
              "      <td>0</td>\n",
              "      <td>1</td>\n",
              "      <td>0</td>\n",
              "      <td>0</td>\n",
              "      <td>Sales staff</td>\n",
              "      <td>3.0</td>\n",
              "      <td>2</td>\n",
              "      <td>2</td>\n",
              "      <td>TUESDAY</td>\n",
              "      <td>12</td>\n",
              "      <td>0</td>\n",
              "      <td>0</td>\n",
              "      <td>0</td>\n",
              "      <td>0</td>\n",
              "      <td>0</td>\n",
              "      <td>0</td>\n",
              "      <td>Self-employed</td>\n",
              "      <td>NaN</td>\n",
              "      <td>...</td>\n",
              "      <td>block of flats</td>\n",
              "      <td>0.0726</td>\n",
              "      <td>Stone, brick</td>\n",
              "      <td>No</td>\n",
              "      <td>2.0</td>\n",
              "      <td>0.0</td>\n",
              "      <td>2.0</td>\n",
              "      <td>0.0</td>\n",
              "      <td>-327.0</td>\n",
              "      <td>0</td>\n",
              "      <td>1</td>\n",
              "      <td>0</td>\n",
              "      <td>0</td>\n",
              "      <td>0</td>\n",
              "      <td>0</td>\n",
              "      <td>0</td>\n",
              "      <td>0</td>\n",
              "      <td>0</td>\n",
              "      <td>0</td>\n",
              "      <td>0</td>\n",
              "      <td>0</td>\n",
              "      <td>0</td>\n",
              "      <td>0</td>\n",
              "      <td>0</td>\n",
              "      <td>0</td>\n",
              "      <td>0</td>\n",
              "      <td>0</td>\n",
              "      <td>0</td>\n",
              "      <td>0</td>\n",
              "      <td>0.0</td>\n",
              "      <td>0.0</td>\n",
              "      <td>0.0</td>\n",
              "      <td>0.0</td>\n",
              "      <td>1.0</td>\n",
              "      <td>0.0</td>\n",
              "      <td>1985-06-28</td>\n",
              "      <td>2012-06-21</td>\n",
              "      <td>1</td>\n",
              "      <td>NaN</td>\n",
              "      <td>2018-01-01</td>\n",
              "    </tr>\n",
              "    <tr>\n",
              "      <th>3586</th>\n",
              "      <td>115058</td>\n",
              "      <td>0</td>\n",
              "      <td>Cash loans</td>\n",
              "      <td>F</td>\n",
              "      <td>N</td>\n",
              "      <td>Y</td>\n",
              "      <td>0</td>\n",
              "      <td>180000.0</td>\n",
              "      <td>239850.0</td>\n",
              "      <td>23850.0</td>\n",
              "      <td>225000.0</td>\n",
              "      <td>Family</td>\n",
              "      <td>Pensioner</td>\n",
              "      <td>Higher education</td>\n",
              "      <td>Married</td>\n",
              "      <td>House / apartment</td>\n",
              "      <td>0.008575</td>\n",
              "      <td>-6264.0</td>\n",
              "      <td>-4008</td>\n",
              "      <td>NaN</td>\n",
              "      <td>1</td>\n",
              "      <td>0</td>\n",
              "      <td>0</td>\n",
              "      <td>1</td>\n",
              "      <td>0</td>\n",
              "      <td>0</td>\n",
              "      <td>NaN</td>\n",
              "      <td>2.0</td>\n",
              "      <td>2</td>\n",
              "      <td>2</td>\n",
              "      <td>SUNDAY</td>\n",
              "      <td>12</td>\n",
              "      <td>0</td>\n",
              "      <td>0</td>\n",
              "      <td>0</td>\n",
              "      <td>0</td>\n",
              "      <td>0</td>\n",
              "      <td>0</td>\n",
              "      <td>XNA</td>\n",
              "      <td>NaN</td>\n",
              "      <td>...</td>\n",
              "      <td>block of flats</td>\n",
              "      <td>0.2889</td>\n",
              "      <td>Stone, brick</td>\n",
              "      <td>No</td>\n",
              "      <td>2.0</td>\n",
              "      <td>0.0</td>\n",
              "      <td>2.0</td>\n",
              "      <td>0.0</td>\n",
              "      <td>-1002.0</td>\n",
              "      <td>0</td>\n",
              "      <td>1</td>\n",
              "      <td>0</td>\n",
              "      <td>0</td>\n",
              "      <td>0</td>\n",
              "      <td>0</td>\n",
              "      <td>0</td>\n",
              "      <td>0</td>\n",
              "      <td>0</td>\n",
              "      <td>0</td>\n",
              "      <td>0</td>\n",
              "      <td>0</td>\n",
              "      <td>0</td>\n",
              "      <td>0</td>\n",
              "      <td>0</td>\n",
              "      <td>0</td>\n",
              "      <td>0</td>\n",
              "      <td>0</td>\n",
              "      <td>0</td>\n",
              "      <td>0</td>\n",
              "      <td>0.0</td>\n",
              "      <td>0.0</td>\n",
              "      <td>0.0</td>\n",
              "      <td>0.0</td>\n",
              "      <td>0.0</td>\n",
              "      <td>3.0</td>\n",
              "      <td>1953-12-27</td>\n",
              "      <td>2018-01-01</td>\n",
              "      <td>1</td>\n",
              "      <td>NaN</td>\n",
              "      <td>2018-01-01</td>\n",
              "    </tr>\n",
              "    <tr>\n",
              "      <th>9349</th>\n",
              "      <td>326623</td>\n",
              "      <td>0</td>\n",
              "      <td>Cash loans</td>\n",
              "      <td>F</td>\n",
              "      <td>N</td>\n",
              "      <td>Y</td>\n",
              "      <td>0</td>\n",
              "      <td>112500.0</td>\n",
              "      <td>337500.0</td>\n",
              "      <td>31086.0</td>\n",
              "      <td>337500.0</td>\n",
              "      <td>Unaccompanied</td>\n",
              "      <td>Working</td>\n",
              "      <td>Incomplete higher</td>\n",
              "      <td>Married</td>\n",
              "      <td>House / apartment</td>\n",
              "      <td>0.026392</td>\n",
              "      <td>-8007.0</td>\n",
              "      <td>-4693</td>\n",
              "      <td>NaN</td>\n",
              "      <td>1</td>\n",
              "      <td>1</td>\n",
              "      <td>1</td>\n",
              "      <td>1</td>\n",
              "      <td>1</td>\n",
              "      <td>0</td>\n",
              "      <td>NaN</td>\n",
              "      <td>2.0</td>\n",
              "      <td>2</td>\n",
              "      <td>2</td>\n",
              "      <td>SUNDAY</td>\n",
              "      <td>14</td>\n",
              "      <td>0</td>\n",
              "      <td>0</td>\n",
              "      <td>0</td>\n",
              "      <td>0</td>\n",
              "      <td>0</td>\n",
              "      <td>0</td>\n",
              "      <td>Business Entity Type 3</td>\n",
              "      <td>0.803434</td>\n",
              "      <td>...</td>\n",
              "      <td>block of flats</td>\n",
              "      <td>0.0811</td>\n",
              "      <td>Panel</td>\n",
              "      <td>No</td>\n",
              "      <td>1.0</td>\n",
              "      <td>0.0</td>\n",
              "      <td>1.0</td>\n",
              "      <td>0.0</td>\n",
              "      <td>-1520.0</td>\n",
              "      <td>0</td>\n",
              "      <td>1</td>\n",
              "      <td>0</td>\n",
              "      <td>0</td>\n",
              "      <td>0</td>\n",
              "      <td>0</td>\n",
              "      <td>0</td>\n",
              "      <td>0</td>\n",
              "      <td>0</td>\n",
              "      <td>0</td>\n",
              "      <td>0</td>\n",
              "      <td>0</td>\n",
              "      <td>0</td>\n",
              "      <td>0</td>\n",
              "      <td>0</td>\n",
              "      <td>0</td>\n",
              "      <td>0</td>\n",
              "      <td>0</td>\n",
              "      <td>0</td>\n",
              "      <td>0</td>\n",
              "      <td>0.0</td>\n",
              "      <td>0.0</td>\n",
              "      <td>0.0</td>\n",
              "      <td>0.0</td>\n",
              "      <td>0.0</td>\n",
              "      <td>2.0</td>\n",
              "      <td>1975-06-21</td>\n",
              "      <td>2016-06-17</td>\n",
              "      <td>1</td>\n",
              "      <td>NaN</td>\n",
              "      <td>2018-01-01</td>\n",
              "    </tr>\n",
              "    <tr>\n",
              "      <th>7734</th>\n",
              "      <td>191976</td>\n",
              "      <td>0</td>\n",
              "      <td>Cash loans</td>\n",
              "      <td>M</td>\n",
              "      <td>Y</td>\n",
              "      <td>Y</td>\n",
              "      <td>1</td>\n",
              "      <td>67500.0</td>\n",
              "      <td>135000.0</td>\n",
              "      <td>9018.0</td>\n",
              "      <td>135000.0</td>\n",
              "      <td>Unaccompanied</td>\n",
              "      <td>Working</td>\n",
              "      <td>Secondary / secondary special</td>\n",
              "      <td>Married</td>\n",
              "      <td>House / apartment</td>\n",
              "      <td>0.025164</td>\n",
              "      <td>-1889.0</td>\n",
              "      <td>-3102</td>\n",
              "      <td>64.0</td>\n",
              "      <td>1</td>\n",
              "      <td>1</td>\n",
              "      <td>1</td>\n",
              "      <td>1</td>\n",
              "      <td>0</td>\n",
              "      <td>0</td>\n",
              "      <td>Core staff</td>\n",
              "      <td>3.0</td>\n",
              "      <td>2</td>\n",
              "      <td>2</td>\n",
              "      <td>THURSDAY</td>\n",
              "      <td>15</td>\n",
              "      <td>0</td>\n",
              "      <td>0</td>\n",
              "      <td>0</td>\n",
              "      <td>0</td>\n",
              "      <td>0</td>\n",
              "      <td>0</td>\n",
              "      <td>Self-employed</td>\n",
              "      <td>0.265465</td>\n",
              "      <td>...</td>\n",
              "      <td>block of flats</td>\n",
              "      <td>0.0572</td>\n",
              "      <td>Block</td>\n",
              "      <td>No</td>\n",
              "      <td>3.0</td>\n",
              "      <td>0.0</td>\n",
              "      <td>3.0</td>\n",
              "      <td>0.0</td>\n",
              "      <td>-1042.0</td>\n",
              "      <td>0</td>\n",
              "      <td>0</td>\n",
              "      <td>0</td>\n",
              "      <td>1</td>\n",
              "      <td>0</td>\n",
              "      <td>0</td>\n",
              "      <td>0</td>\n",
              "      <td>0</td>\n",
              "      <td>0</td>\n",
              "      <td>0</td>\n",
              "      <td>0</td>\n",
              "      <td>0</td>\n",
              "      <td>0</td>\n",
              "      <td>0</td>\n",
              "      <td>0</td>\n",
              "      <td>0</td>\n",
              "      <td>0</td>\n",
              "      <td>0</td>\n",
              "      <td>0</td>\n",
              "      <td>0</td>\n",
              "      <td>NaN</td>\n",
              "      <td>NaN</td>\n",
              "      <td>NaN</td>\n",
              "      <td>NaN</td>\n",
              "      <td>NaN</td>\n",
              "      <td>NaN</td>\n",
              "      <td>1988-04-27</td>\n",
              "      <td>2009-06-05</td>\n",
              "      <td>1</td>\n",
              "      <td>NaN</td>\n",
              "      <td>2018-01-01</td>\n",
              "    </tr>\n",
              "    <tr>\n",
              "      <th>2174</th>\n",
              "      <td>281519</td>\n",
              "      <td>0</td>\n",
              "      <td>Revolving loans</td>\n",
              "      <td>F</td>\n",
              "      <td>N</td>\n",
              "      <td>Y</td>\n",
              "      <td>0</td>\n",
              "      <td>67500.0</td>\n",
              "      <td>202500.0</td>\n",
              "      <td>10125.0</td>\n",
              "      <td>202500.0</td>\n",
              "      <td>Unaccompanied</td>\n",
              "      <td>Commercial associate</td>\n",
              "      <td>Higher education</td>\n",
              "      <td>Married</td>\n",
              "      <td>House / apartment</td>\n",
              "      <td>0.031329</td>\n",
              "      <td>-7976.0</td>\n",
              "      <td>-4276</td>\n",
              "      <td>NaN</td>\n",
              "      <td>1</td>\n",
              "      <td>1</td>\n",
              "      <td>0</td>\n",
              "      <td>1</td>\n",
              "      <td>0</td>\n",
              "      <td>0</td>\n",
              "      <td>Core staff</td>\n",
              "      <td>2.0</td>\n",
              "      <td>2</td>\n",
              "      <td>2</td>\n",
              "      <td>MONDAY</td>\n",
              "      <td>11</td>\n",
              "      <td>0</td>\n",
              "      <td>0</td>\n",
              "      <td>0</td>\n",
              "      <td>0</td>\n",
              "      <td>0</td>\n",
              "      <td>0</td>\n",
              "      <td>School</td>\n",
              "      <td>0.807457</td>\n",
              "      <td>...</td>\n",
              "      <td>block of flats</td>\n",
              "      <td>0.0099</td>\n",
              "      <td>Stone, brick</td>\n",
              "      <td>No</td>\n",
              "      <td>0.0</td>\n",
              "      <td>0.0</td>\n",
              "      <td>0.0</td>\n",
              "      <td>0.0</td>\n",
              "      <td>-1248.0</td>\n",
              "      <td>0</td>\n",
              "      <td>0</td>\n",
              "      <td>0</td>\n",
              "      <td>1</td>\n",
              "      <td>0</td>\n",
              "      <td>0</td>\n",
              "      <td>0</td>\n",
              "      <td>0</td>\n",
              "      <td>0</td>\n",
              "      <td>0</td>\n",
              "      <td>0</td>\n",
              "      <td>0</td>\n",
              "      <td>0</td>\n",
              "      <td>0</td>\n",
              "      <td>0</td>\n",
              "      <td>0</td>\n",
              "      <td>0</td>\n",
              "      <td>0</td>\n",
              "      <td>0</td>\n",
              "      <td>0</td>\n",
              "      <td>0.0</td>\n",
              "      <td>0.0</td>\n",
              "      <td>0.0</td>\n",
              "      <td>0.0</td>\n",
              "      <td>0.0</td>\n",
              "      <td>2.0</td>\n",
              "      <td>1975-06-13</td>\n",
              "      <td>1997-01-22</td>\n",
              "      <td>1</td>\n",
              "      <td>NaN</td>\n",
              "      <td>2018-01-01</td>\n",
              "    </tr>\n",
              "  </tbody>\n",
              "</table>\n",
              "<p>5 rows × 125 columns</p>\n",
              "</div>"
            ],
            "text/plain": [
              "      SK_ID_CURR  TARGET NAME_CONTRACT_TYPE  ... constant allnan  report_dt\n",
              "6444      112261       0         Cash loans  ...        1    NaN 2018-01-01\n",
              "3586      115058       0         Cash loans  ...        1    NaN 2018-01-01\n",
              "9349      326623       0         Cash loans  ...        1    NaN 2018-01-01\n",
              "7734      191976       0         Cash loans  ...        1    NaN 2018-01-01\n",
              "2174      281519       0    Revolving loans  ...        1    NaN 2018-01-01\n",
              "\n",
              "[5 rows x 125 columns]"
            ]
          },
          "metadata": {
            "tags": []
          },
          "execution_count": 11
        }
      ]
    },
    {
      "cell_type": "markdown",
      "metadata": {
        "id": "nDBFoZwGZnSt"
      },
      "source": [
        "### ========= AutoML preset usage ========="
      ]
    },
    {
      "cell_type": "markdown",
      "metadata": {
        "id": "-yNqjnHRZpb0"
      },
      "source": [
        "### Create Task"
      ]
    },
    {
      "cell_type": "code",
      "metadata": {
        "colab": {
          "base_uri": "https://localhost:8080/"
        },
        "id": "661T0KqmZo-s",
        "outputId": "dd9ec312-0f28-4e3d-bdaa-b4c401f4fbab"
      },
      "source": [
        "%%time\n",
        "\n",
        "task = Task('binary', )"
      ],
      "execution_count": 12,
      "outputs": [
        {
          "output_type": "stream",
          "text": [
            "CPU times: user 3.96 ms, sys: 0 ns, total: 3.96 ms\n",
            "Wall time: 4.08 ms\n"
          ],
          "name": "stdout"
        }
      ]
    },
    {
      "cell_type": "markdown",
      "metadata": {
        "id": "QmaAgmTqZv1k"
      },
      "source": [
        "### Setup columns roles"
      ]
    },
    {
      "cell_type": "code",
      "metadata": {
        "colab": {
          "base_uri": "https://localhost:8080/"
        },
        "id": "u8MtpvDHZwWc",
        "outputId": "0cc1871a-0160-4474-e80d-fad3085e9ab8"
      },
      "source": [
        "%%time\n",
        "\n",
        "roles = {'target': TARGET_NAME,\n",
        "         DatetimeRole(base_date=True, seasonality=(), base_feats=False): 'report_dt',\n",
        "         }"
      ],
      "execution_count": 13,
      "outputs": [
        {
          "output_type": "stream",
          "text": [
            "CPU times: user 51 µs, sys: 11 µs, total: 62 µs\n",
            "Wall time: 67.5 µs\n"
          ],
          "name": "stdout"
        }
      ]
    },
    {
      "cell_type": "markdown",
      "metadata": {
        "id": "sIWOmFWiaIzt"
      },
      "source": [
        "### Create AutoML from preset"
      ]
    },
    {
      "cell_type": "code",
      "metadata": {
        "colab": {
          "base_uri": "https://localhost:8080/"
        },
        "id": "koTZpOvzaKGk",
        "outputId": "fc05df99-5876-4520-b330-27def195d12b"
      },
      "source": [
        "%%time \n",
        "\n",
        "automl = TabularAutoML(task = task, \n",
        "                       timeout = TIMEOUT,\n",
        "                       cpu_limit = N_THREADS,\n",
        "                       reader_params = {'n_jobs': N_THREADS, 'cv': N_FOLDS, 'random_state': RANDOM_STATE},\n",
        "                      )\n",
        "oof_pred = automl.fit_predict(train_data, roles = roles)\n",
        "logging.info('oof_pred:\\n{}\\nShape = {}'.format(oof_pred, oof_pred.shape))"
      ],
      "execution_count": 14,
      "outputs": [
        {
          "output_type": "stream",
          "text": [
            "Copying TaskTimer may affect the parent PipelineTimer, so copy will create new unlimited TaskTimer\n"
          ],
          "name": "stderr"
        },
        {
          "output_type": "stream",
          "text": [
            "Start automl preset with listed constraints:\n",
            "- time: 60 seconds\n",
            "- cpus: 8 cores\n",
            "- memory: 16 gb\n",
            "\n",
            "Train data shape: (8000, 125)\n",
            "Feats was rejected during automatic roles guess: []\n",
            "\n",
            "\n",
            "Layer 1 ...\n",
            "Train process start. Time left 49.76215720176697 secs\n",
            "Start fitting Lvl_0_Pipe_0_Mod_0_LinearL2 ...\n",
            "\n",
            "===== Start working with fold 0 for Lvl_0_Pipe_0_Mod_0_LinearL2 =====\n",
            "\n",
            "Linear model: C = 1e-05 score = 0.6864238711505257\n",
            "Linear model: C = 5e-05 score = 0.7053952777287767\n",
            "Linear model: C = 0.0001 score = 0.7230570211310143\n",
            "Linear model: C = 0.0005 score = 0.7543766805116773\n",
            "Linear model: C = 0.001 score = 0.7615504273778405\n",
            "Linear model: C = 0.005 score = 0.7633144634924709\n",
            "Linear model: C = 0.01 score = 0.7603049109696318\n",
            "Linear model: C = 0.05 score = 0.7481223706507155\n",
            "\n",
            "===== Start working with fold 1 for Lvl_0_Pipe_0_Mod_0_LinearL2 =====\n",
            "\n",
            "Linear model: C = 1e-05 score = 0.70977783203125\n",
            "Linear model: C = 5e-05 score = 0.7208676545516305\n",
            "Linear model: C = 0.0001 score = 0.7273055366847826\n",
            "Linear model: C = 0.0005 score = 0.7402556046195653\n",
            "Linear model: C = 0.001 score = 0.7424900220788043\n",
            "Linear model: C = 0.005 score = 0.7422989555027174\n",
            "Linear model: C = 0.01 score = 0.7409243376358695\n"
          ],
          "name": "stdout"
        },
        {
          "output_type": "stream",
          "text": [
            "Time limit exceeded after calculating fold 1\n"
          ],
          "name": "stderr"
        },
        {
          "output_type": "stream",
          "text": [
            "Lvl_0_Pipe_0_Mod_0_LinearL2 fitting and predicting completed\n",
            "Time left 45.635210275650024\n",
            "Start fitting Selector_LightGBM ...\n",
            "\n",
            "===== Start working with fold 0 for Selector_LightGBM =====\n",
            "\n",
            "Training until validation scores don't improve for 200 rounds\n",
            "[100]\tvalid's auc: 0.744696\n",
            "[200]\tvalid's auc: 0.748887\n",
            "[300]\tvalid's auc: 0.751939\n",
            "[400]\tvalid's auc: 0.751656\n",
            "[500]\tvalid's auc: 0.750923\n",
            "Early stopping, best iteration is:\n",
            "[324]\tvalid's auc: 0.753623\n",
            "Selector_LightGBM fitting and predicting completed\n",
            "Start fitting Lvl_0_Pipe_1_Mod_0_LightGBM ...\n",
            "\n",
            "===== Start working with fold 0 for Lvl_0_Pipe_1_Mod_0_LightGBM =====\n",
            "\n",
            "Training until validation scores don't improve for 200 rounds\n",
            "[100]\tvalid's auc: 0.756729\n",
            "[200]\tvalid's auc: 0.762032\n",
            "[300]\tvalid's auc: 0.763785\n",
            "[400]\tvalid's auc: 0.764175\n"
          ],
          "name": "stdout"
        },
        {
          "output_type": "stream",
          "text": [
            "Time limit exceeded after calculating fold 0\n"
          ],
          "name": "stderr"
        },
        {
          "output_type": "stream",
          "text": [
            "Early stopping, best iteration is:\n",
            "[256]\tvalid's auc: 0.765319\n",
            "Lvl_0_Pipe_1_Mod_0_LightGBM fitting and predicting completed\n",
            "Start fitting Lvl_0_Pipe_1_Mod_2_CatBoost ...\n",
            "\n",
            "===== Start working with fold 0 for Lvl_0_Pipe_1_Mod_2_CatBoost =====\n",
            "\n",
            "0:\ttest: 0.5524667\tbest: 0.5524667 (0)\ttotal: 58.9ms\tremaining: 4m 54s\n",
            "100:\ttest: 0.7305462\tbest: 0.7305462 (100)\ttotal: 763ms\tremaining: 37s\n",
            "200:\ttest: 0.7351113\tbest: 0.7359452 (195)\ttotal: 1.45s\tremaining: 34.6s\n",
            "300:\ttest: 0.7144934\tbest: 0.7369662 (222)\ttotal: 2.12s\tremaining: 33.1s\n",
            "Stopped by overfitting detector  (100 iterations wait)\n",
            "\n",
            "bestTest = 0.7369661786\n",
            "bestIteration = 222\n",
            "\n",
            "Shrink model to first 223 iterations.\n",
            "\n",
            "===== Start working with fold 1 for Lvl_0_Pipe_1_Mod_2_CatBoost =====\n",
            "\n",
            "0:\ttest: 0.5724514\tbest: 0.5724514 (0)\ttotal: 7.82ms\tremaining: 39.1s\n",
            "100:\ttest: 0.7228632\tbest: 0.7255700 (64)\ttotal: 693ms\tremaining: 33.6s\n",
            "200:\ttest: 0.7243069\tbest: 0.7296408 (122)\ttotal: 1.37s\tremaining: 32.8s\n",
            "Stopped by overfitting detector  (100 iterations wait)\n",
            "\n",
            "bestTest = 0.7296407948\n",
            "bestIteration = 122\n",
            "\n",
            "Shrink model to first 123 iterations.\n",
            "\n",
            "===== Start working with fold 2 for Lvl_0_Pipe_1_Mod_2_CatBoost =====\n",
            "\n",
            "0:\ttest: 0.5050182\tbest: 0.5050182 (0)\ttotal: 7.22ms\tremaining: 36.1s\n",
            "100:\ttest: 0.6680696\tbest: 0.6680696 (100)\ttotal: 691ms\tremaining: 33.5s\n",
            "200:\ttest: 0.6796026\tbest: 0.6816406 (185)\ttotal: 1.38s\tremaining: 33.1s\n",
            "300:\ttest: 0.6871391\tbest: 0.6874735 (289)\ttotal: 2.08s\tremaining: 32.5s\n",
            "400:\ttest: 0.6974885\tbest: 0.6974885 (400)\ttotal: 2.76s\tremaining: 31.7s\n",
            "500:\ttest: 0.6973134\tbest: 0.6986456 (453)\ttotal: 3.46s\tremaining: 31.1s\n",
            "600:\ttest: 0.6972391\tbest: 0.7004448 (541)\ttotal: 4.15s\tremaining: 30.4s\n"
          ],
          "name": "stdout"
        },
        {
          "output_type": "stream",
          "text": [
            "Time limit exceeded after calculating fold 2\n"
          ],
          "name": "stderr"
        },
        {
          "output_type": "stream",
          "text": [
            "Stopped by overfitting detector  (100 iterations wait)\n",
            "\n",
            "bestTest = 0.7004447605\n",
            "bestIteration = 541\n",
            "\n",
            "Shrink model to first 542 iterations.\n",
            "Lvl_0_Pipe_1_Mod_2_CatBoost fitting and predicting completed\n",
            "Optuna may run 1 secs\n"
          ],
          "name": "stdout"
        },
        {
          "output_type": "stream",
          "text": [
            "[2021-07-20 15:14:13,958] (INFO): A new study created in memory with name: no-name-b62078b5-f1e3-4b9d-b73f-40716709c958\n"
          ],
          "name": "stderr"
        },
        {
          "output_type": "stream",
          "text": [
            "Start fitting Lvl_0_Pipe_1_Mod_3_CatBoost ...\n",
            "\n",
            "===== Start working with fold 0 for Lvl_0_Pipe_1_Mod_3_CatBoost =====\n",
            "\n",
            "0:\ttest: 0.5191344\tbest: 0.5191344 (0)\ttotal: 7.57ms\tremaining: 37.8s\n",
            "100:\ttest: 0.7411197\tbest: 0.7443912 (71)\ttotal: 585ms\tremaining: 28.4s\n",
            "200:\ttest: 0.7488119\tbest: 0.7488654 (194)\ttotal: 1.17s\tremaining: 27.9s\n",
            "300:\ttest: 0.7466844\tbest: 0.7520995 (224)\ttotal: 1.73s\tremaining: 27s\n",
            "Stopped by overfitting detector  (100 iterations wait)\n",
            "\n",
            "bestTest = 0.7520994703\n",
            "bestIteration = 224\n",
            "\n",
            "Shrink model to first 225 iterations.\n",
            "Lvl_0_Pipe_1_Mod_3_CatBoost fitting and predicting completed\n"
          ],
          "name": "stdout"
        },
        {
          "output_type": "stream",
          "text": [
            "[2021-07-20 15:14:16,001] (INFO): Trial 0 finished with value: 0.7520994702546092 and parameters: {'max_depth': 4, 'nan_mode': 'Max', 'l2_leaf_reg': 0.0024430162614261413, 'min_data_in_leaf': 4}. Best is trial 0 with value: 0.7520994702546092.\n"
          ],
          "name": "stderr"
        },
        {
          "output_type": "stream",
          "text": [
            "Time left 19.128796577453613\n"
          ],
          "name": "stdout"
        },
        {
          "output_type": "stream",
          "text": [
            "Time limit exceeded in one of the tasks. AutoML will blend level 1 models.\n"
          ],
          "name": "stderr"
        },
        {
          "output_type": "stream",
          "text": [
            "Blending: Optimization starts with equal weights and score 0.7296819610441737\n",
            "Blending, iter 0: score = 0.7306998654025421, weights = [0.34117138 0.5221249  0.13670374]\n",
            "Blending, iter 1: score = 0.7307175989279493, weights = [0.37051138 0.49887282 0.13061585]\n",
            "Blending, iter 2: score = 0.7307175989279493, weights = [0.37051138 0.49887282 0.13061585]\n",
            "No score update. Terminated\n",
            "\n",
            "Automl preset training completed in 41.12 seconds.\n"
          ],
          "name": "stdout"
        },
        {
          "output_type": "stream",
          "text": [
            "[2021-07-20 15:14:16,264] (INFO): oof_pred:\n",
            "array([[0.02867683],\n",
            "       [0.03838797],\n",
            "       [0.04217594],\n",
            "       ...,\n",
            "       [       nan],\n",
            "       [0.16470957],\n",
            "       [       nan]], dtype=float32)\n",
            "Shape = (8000, 1)\n"
          ],
          "name": "stderr"
        },
        {
          "output_type": "stream",
          "text": [
            "CPU times: user 54.6 s, sys: 1.38 s, total: 56 s\n",
            "Wall time: 41.2 s\n"
          ],
          "name": "stdout"
        }
      ]
    },
    {
      "cell_type": "code",
      "metadata": {
        "colab": {
          "base_uri": "https://localhost:8080/",
          "height": 807
        },
        "id": "C7SsT4M9caaN",
        "outputId": "f5465e1d-82be-4e55-dda1-8336de27775b"
      },
      "source": [
        "%%time\n",
        "\n",
        "# Fast feature importances calculation\n",
        "fast_fi = automl.get_feature_scores('fast')\n",
        "fast_fi.set_index('Feature')['Importance'].plot.bar(figsize = (20, 10), grid = True)"
      ],
      "execution_count": 15,
      "outputs": [
        {
          "output_type": "stream",
          "text": [
            "CPU times: user 204 ms, sys: 6.84 ms, total: 211 ms\n",
            "Wall time: 216 ms\n"
          ],
          "name": "stdout"
        },
        {
          "output_type": "display_data",
          "data": {
            "image/png": "[encoded data removed]",
            "text/plain": [
              "<Figure size 1440x720 with 1 Axes>"
            ]
          },
          "metadata": {
            "tags": [],
            "needs_background": "light"
          }
        }
      ]
    },
    {
      "cell_type": "code",
      "metadata": {
        "colab": {
          "base_uri": "https://localhost:8080/",
          "height": 1000
        },
        "id": "FeNKFw4OcdJd",
        "outputId": "171ced4a-91b8-4777-a78c-e962cd913fea"
      },
      "source": [
        "%%time\n",
        "\n",
        "# Accurate feature importances calculation (Permutation importances) -  can take long time to calculate\n",
        "accurate_fi = automl.get_feature_scores('accurate', test_data, silent = False)\n",
        "accurate_fi.set_index('Feature')['Importance'].plot.bar(figsize = (20, 10), grid = True)"
      ],
      "execution_count": 16,
      "outputs": [
        {
          "output_type": "stream",
          "text": [
            "LightAutoML used 111 feats\n",
            "1/111 Calculated score for FLOORSMIN_AVG: 0.0002140\n",
            "2/111 Calculated score for LIVINGAPARTMENTS_MEDI: -0.0007269\n",
            "3/111 Calculated score for FLAG_DOCUMENT_13: 0.0008186\n",
            "4/111 Calculated score for BASEMENTAREA_AVG: 0.0001495\n",
            "5/111 Calculated score for NAME_EDUCATION_TYPE: 0.0003465\n",
            "6/111 Calculated score for FLAG_DOCUMENT_3: 0.0006182\n",
            "7/111 Calculated score for NAME_INCOME_TYPE: 0.0006216\n",
            "8/111 Calculated score for ENTRANCES_MEDI: 0.0004110\n",
            "9/111 Calculated score for LANDAREA_AVG: 0.0000849\n",
            "10/111 Calculated score for WEEKDAY_APPR_PROCESS_START: 0.0014130\n",
            "11/111 Calculated score for REG_REGION_NOT_LIVE_REGION: -0.0000102\n",
            "12/111 Calculated score for DAYS_ID_PUBLISH: 0.0006454\n",
            "13/111 Calculated score for NAME_TYPE_SUITE: -0.0000951\n",
            "14/111 Calculated score for FLAG_DOCUMENT_8: -0.0007235\n",
            "15/111 Calculated score for ELEVATORS_MODE: 0.0005774\n",
            "16/111 Calculated score for LIVINGAREA_MEDI: -0.0000917\n",
            "17/111 Calculated score for YEARS_BUILD_MODE: 0.0002955\n",
            "18/111 Calculated score for YEARS_BEGINEXPLUATATION_AVG: 0.0003329\n",
            "19/111 Calculated score for NONLIVINGAREA_MEDI: -0.0003940\n",
            "20/111 Calculated score for AMT_CREDIT: 0.0008050\n",
            "21/111 Calculated score for HOUR_APPR_PROCESS_START: -0.0000951\n",
            "22/111 Calculated score for NAME_CONTRACT_TYPE: 0.0013179\n",
            "23/111 Calculated score for FLOORSMIN_MODE: 0.0001902\n",
            "24/111 Calculated score for YEARS_BEGINEXPLUATATION_MEDI: -0.0010054\n",
            "25/111 Calculated score for FLAG_OWN_REALTY: -0.0003057\n",
            "26/111 Calculated score for FLAG_DOCUMENT_6: 0.0000068\n",
            "27/111 Calculated score for FLAG_DOCUMENT_16: -0.0015115\n",
            "28/111 Calculated score for FLOORSMAX_MODE: -0.0002819\n",
            "29/111 Calculated score for FLAG_PHONE: 0.0000917\n",
            "30/111 Calculated score for ENTRANCES_AVG: -0.0002649\n",
            "31/111 Calculated score for ORGANIZATION_TYPE: -0.0020856\n",
            "32/111 Calculated score for FLOORSMIN_MEDI: -0.0000679\n",
            "33/111 Calculated score for LIVE_REGION_NOT_WORK_REGION: 0.0002717\n",
            "34/111 Calculated score for EMERGENCYSTATE_MODE: -0.0012704\n",
            "35/111 Calculated score for FLAG_OWN_CAR: 0.0014572\n",
            "36/111 Calculated score for REG_CITY_NOT_WORK_CITY: 0.0000951\n",
            "37/111 Calculated score for LIVE_CITY_NOT_WORK_CITY: -0.0006386\n",
            "38/111 Calculated score for NONLIVINGAPARTMENTS_MODE: -0.0001970\n",
            "39/111 Calculated score for AMT_ANNUITY: 0.0104178\n",
            "40/111 Calculated score for CNT_FAM_MEMBERS: -0.0003091\n",
            "41/111 Calculated score for DAYS_REGISTRATION: 0.0012160\n",
            "42/111 Calculated score for APARTMENTS_MEDI: -0.0008424\n",
            "43/111 Calculated score for AMT_REQ_CREDIT_BUREAU_WEEK: -0.0000034\n",
            "44/111 Calculated score for CNT_CHILDREN: -0.0000136\n",
            "45/111 Calculated score for EXT_SOURCE_1: 0.0088349\n",
            "46/111 Calculated score for NONLIVINGAREA_MODE: 0.0002038\n",
            "47/111 Calculated score for LIVINGAREA_AVG: -0.0000713\n",
            "48/111 Calculated score for FLAG_DOCUMENT_5: -0.0001053\n",
            "49/111 Calculated score for FLAG_DOCUMENT_11: -0.0004416\n",
            "50/111 Calculated score for NONLIVINGAPARTMENTS_MEDI: 0.0001257\n",
            "51/111 Calculated score for NAME_HOUSING_TYPE: 0.0023573\n",
            "52/111 Calculated score for FLAG_EMP_PHONE: -0.0006793\n",
            "53/111 Calculated score for BASEMENTAREA_MODE: -0.0000510\n",
            "54/111 Calculated score for NAME_FAMILY_STATUS: -0.0026630\n",
            "55/111 Calculated score for COMMONAREA_AVG: -0.0042833\n",
            "56/111 Calculated score for AMT_REQ_CREDIT_BUREAU_MON: 0.0027344\n",
            "57/111 Calculated score for FLOORSMAX_MEDI: -0.0000611\n",
            "58/111 Calculated score for CODE_GENDER: 0.0026834\n",
            "59/111 Calculated score for REG_REGION_NOT_WORK_REGION: 0.0000476\n",
            "60/111 Calculated score for ELEVATORS_AVG: -0.0007167\n",
            "61/111 Calculated score for FLAG_DOCUMENT_14: 0.0002276\n",
            "62/111 Calculated score for FLAG_DOCUMENT_9: 0.0006012\n",
            "63/111 Calculated score for HOUSETYPE_MODE: 0.0003363\n",
            "64/111 Calculated score for FLAG_EMAIL: -0.0009783\n",
            "65/111 Calculated score for NONLIVINGAREA_AVG: 0.0002106\n",
            "66/111 Calculated score for ENTRANCES_MODE: -0.0003125\n",
            "67/111 Calculated score for OBS_30_CNT_SOCIAL_CIRCLE: 0.0001291\n",
            "68/111 Calculated score for DEF_60_CNT_SOCIAL_CIRCLE: -0.0015999\n",
            "69/111 Calculated score for FONDKAPREMONT_MODE: -0.0008696\n",
            "70/111 Calculated score for COMMONAREA_MEDI: -0.0004042\n",
            "71/111 Calculated score for TOTALAREA_MODE: 0.0012466\n",
            "72/111 Calculated score for DEF_30_CNT_SOCIAL_CIRCLE: 0.0018852\n",
            "73/111 Calculated score for APARTMENTS_AVG: -0.0003804\n",
            "74/111 Calculated score for EXT_SOURCE_2: 0.0522011\n",
            "75/111 Calculated score for BIRTH_DATE: -0.0036311\n",
            "76/111 Calculated score for NONLIVINGAPARTMENTS_AVG: -0.0003227\n",
            "77/111 Calculated score for EMP_DATE: -0.0025951\n",
            "78/111 Calculated score for OWN_CAR_AGE: -0.0009375\n",
            "79/111 Calculated score for YEARS_BUILD_AVG: 0.0008764\n",
            "80/111 Calculated score for YEARS_BEGINEXPLUATATION_MODE: 0.0000068\n",
            "81/111 Calculated score for LANDAREA_MODE: 0.0005774\n",
            "82/111 Calculated score for LIVINGAREA_MODE: 0.0005027\n",
            "83/111 Calculated score for FLOORSMAX_AVG: -0.0016338\n",
            "84/111 Calculated score for BASEMENTAREA_MEDI: -0.0001461\n",
            "85/111 Calculated score for LANDAREA_MEDI: -0.0010326\n",
            "86/111 Calculated score for YEARS_BUILD_MEDI: -0.0007303\n",
            "87/111 Calculated score for report_dt: 0.0000000\n",
            "88/111 Calculated score for FLAG_CONT_MOBILE: -0.0000781\n",
            "89/111 Calculated score for EXT_SOURCE_3: 0.0467425\n",
            "90/111 Calculated score for REGION_POPULATION_RELATIVE: -0.0014266\n",
            "91/111 Calculated score for COMMONAREA_MODE: -0.0015489\n",
            "92/111 Calculated score for AMT_REQ_CREDIT_BUREAU_HOUR: -0.0011549\n",
            "93/111 Calculated score for LIVINGAPARTMENTS_AVG: 0.0002344\n",
            "94/111 Calculated score for REGION_RATING_CLIENT_W_CITY: 0.0020380\n",
            "95/111 Calculated score for AMT_GOODS_PRICE: 0.0027446\n",
            "96/111 Calculated score for REGION_RATING_CLIENT: 0.0010530\n",
            "97/111 Calculated score for AMT_INCOME_TOTAL: 0.0004416\n",
            "98/111 Calculated score for APARTMENTS_MODE: -0.0009986\n",
            "99/111 Calculated score for REG_CITY_NOT_LIVE_CITY: 0.0007575\n",
            "100/111 Calculated score for LIVINGAPARTMENTS_MODE: -0.0008798\n",
            "101/111 Calculated score for OCCUPATION_TYPE: -0.0006861\n",
            "102/111 Calculated score for DAYS_LAST_PHONE_CHANGE: -0.0010598\n",
            "103/111 Calculated score for AMT_REQ_CREDIT_BUREAU_DAY: -0.0000068\n",
            "104/111 Calculated score for ELEVATORS_MEDI: -0.0003651\n",
            "105/111 Calculated score for FLAG_DOCUMENT_18: -0.0000374\n",
            "106/111 Calculated score for OBS_60_CNT_SOCIAL_CIRCLE: 0.0011141\n",
            "107/111 Calculated score for SK_ID_CURR: -0.0011175\n",
            "108/111 Calculated score for AMT_REQ_CREDIT_BUREAU_YEAR: 0.0029008\n",
            "109/111 Calculated score for AMT_REQ_CREDIT_BUREAU_QRT: -0.0012704\n",
            "110/111 Calculated score for WALLSMATERIAL_MODE: 0.0001257\n",
            "111/111 Calculated score for FLAG_WORK_PHONE: 0.0002072\n",
            "CPU times: user 1min 2s, sys: 675 ms, total: 1min 3s\n",
            "Wall time: 55.5 s\n"
          ],
          "name": "stdout"
        },
        {
          "output_type": "display_data",
          "data": {
            "image/png": "[encoded data removed]",
            "text/plain": [
              "<Figure size 1440x720 with 1 Axes>"
            ]
          },
          "metadata": {
            "tags": [],
            "needs_background": "light"
          }
        }
      ]
    },
    {
      "cell_type": "markdown",
      "metadata": {
        "id": "131uYQu0dIVF"
      },
      "source": [
        "### Predict to test data and check scores"
      ]
    },
    {
      "cell_type": "code",
      "metadata": {
        "colab": {
          "base_uri": "https://localhost:8080/"
        },
        "id": "39Jm1FdudFNc",
        "outputId": "3256b13e-c06d-4e24-a437-bd054496d004"
      },
      "source": [
        "%%time\n",
        "\n",
        "test_pred = automl.predict(test_data)\n",
        "logging.info('Prediction for test data:\\n{}\\nShape = {}'\n",
        "              .format(test_pred, test_pred.shape))\n",
        "\n",
        "logging.info('Check scores...')\n",
        "# logging.info('OOF score: {}'.format(roc_auc_score(train_data[TARGET_NAME].values, oof_pred.data[:, 0])))\n",
        "logging.info('TEST score: {}'.format(roc_auc_score(test_data[TARGET_NAME].values, test_pred.data[:, 0])))"
      ],
      "execution_count": 25,
      "outputs": [
        {
          "output_type": "stream",
          "text": [
            "[2021-07-20 15:20:07,127] (INFO): Prediction for test data:\n",
            "array([[0.07828486],\n",
            "       [0.08115251],\n",
            "       [0.03277324],\n",
            "       ...,\n",
            "       [0.05830524],\n",
            "       [0.04996853],\n",
            "       [0.2248071 ]], dtype=float32)\n",
            "Shape = (2000, 1)\n",
            "[2021-07-20 15:20:07,129] (INFO): Check scores...\n",
            "[2021-07-20 15:20:07,138] (INFO): TEST score: 0.728125\n"
          ],
          "name": "stderr"
        },
        {
          "output_type": "stream",
          "text": [
            "CPU times: user 554 ms, sys: 4.93 ms, total: 559 ms\n",
            "Wall time: 496 ms\n"
          ],
          "name": "stdout"
        }
      ]
    },
    {
      "cell_type": "code",
      "metadata": {
        "colab": {
          "base_uri": "https://localhost:8080/"
        },
        "id": "1mMT4LWsd5Xs",
        "outputId": "6296d9d3-2cf5-464d-df2c-43dfbc9edc2b"
      },
      "source": [
        "oof_pred.data[:,0]"
      ],
      "execution_count": 23,
      "outputs": [
        {
          "output_type": "execute_result",
          "data": {
            "text/plain": [
              "array([0.02867683, 0.03838797, 0.04217594, ...,        nan, 0.16470957,\n",
              "              nan], dtype=float32)"
            ]
          },
          "metadata": {
            "tags": []
          },
          "execution_count": 23
        }
      ]
    }
  ]
}
