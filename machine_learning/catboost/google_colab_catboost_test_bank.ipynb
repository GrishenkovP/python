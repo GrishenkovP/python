{
  "nbformat": 4,
  "nbformat_minor": 0,
  "metadata": {
    "colab": {
      "name": "google_colab_catboost_test_bank.ipynb",
      "provenance": [],
      "collapsed_sections": []
    },
    "kernelspec": {
      "name": "python3",
      "display_name": "Python 3"
    },
    "language_info": {
      "name": "python"
    }
  },
  "cells": [
    {
      "cell_type": "code",
      "metadata": {
        "id": "cgJKCpu0YFUD"
      },
      "source": [
        "import pandas as pd\n",
        "import numpy as np"
      ],
      "execution_count": 1,
      "outputs": []
    },
    {
      "cell_type": "code",
      "metadata": {
        "colab": {
          "base_uri": "https://localhost:8080/"
        },
        "id": "joPdPP0PYWYQ",
        "outputId": "3e3b8f29-b069-46e0-beb0-0a47d59487d9"
      },
      "source": [
        "!gdown --id 1plvZ7poGmKX2YWgEUyuaAkjcb7ZvNVS-"
      ],
      "execution_count": 2,
      "outputs": [
        {
          "output_type": "stream",
          "text": [
            "Downloading...\n",
            "From: https://drive.google.com/uc?id=1plvZ7poGmKX2YWgEUyuaAkjcb7ZvNVS-\n",
            "To: /content/bank-test-case-ds.csv\n",
            "\r0.00B [00:00, ?B/s]\r4.35MB [00:00, 69.4MB/s]\n"
          ],
          "name": "stdout"
        }
      ]
    },
    {
      "cell_type": "code",
      "metadata": {
        "id": "bdGGSYNiYcE3"
      },
      "source": [
        "df = pd.read_csv('/content/bank-test-case-ds.csv',sep=';')"
      ],
      "execution_count": 3,
      "outputs": []
    },
    {
      "cell_type": "code",
      "metadata": {
        "colab": {
          "base_uri": "https://localhost:8080/",
          "height": 224
        },
        "id": "Rhmrz7maYe5f",
        "outputId": "9bf251af-9e00-4f2b-e958-67c0e5509ac7"
      },
      "source": [
        "df.head()"
      ],
      "execution_count": 4,
      "outputs": [
        {
          "output_type": "execute_result",
          "data": {
            "text/html": [
              "<div>\n",
              "<style scoped>\n",
              "    .dataframe tbody tr th:only-of-type {\n",
              "        vertical-align: middle;\n",
              "    }\n",
              "\n",
              "    .dataframe tbody tr th {\n",
              "        vertical-align: top;\n",
              "    }\n",
              "\n",
              "    .dataframe thead th {\n",
              "        text-align: right;\n",
              "    }\n",
              "</style>\n",
              "<table border=\"1\" class=\"dataframe\">\n",
              "  <thead>\n",
              "    <tr style=\"text-align: right;\">\n",
              "      <th></th>\n",
              "      <th>closed_cred_sum</th>\n",
              "      <th>closed_creds</th>\n",
              "      <th>active_cred_sum_overdue</th>\n",
              "      <th>active_cred_sum</th>\n",
              "      <th>active_cred_day_overdue</th>\n",
              "      <th>active_cred_max_overdue</th>\n",
              "      <th>age</th>\n",
              "      <th>gender</th>\n",
              "      <th>region</th>\n",
              "      <th>first_loan</th>\n",
              "      <th>loan_cost_all</th>\n",
              "      <th>first_days_quant</th>\n",
              "      <th>month_income</th>\n",
              "      <th>order_date</th>\n",
              "      <th>cost_all</th>\n",
              "      <th>order_id</th>\n",
              "      <th>client_id</th>\n",
              "      <th>expert</th>\n",
              "    </tr>\n",
              "  </thead>\n",
              "  <tbody>\n",
              "    <tr>\n",
              "      <th>0</th>\n",
              "      <td>143822.0</td>\n",
              "      <td>22</td>\n",
              "      <td>104.12</td>\n",
              "      <td>130068.80</td>\n",
              "      <td>8</td>\n",
              "      <td>756.09</td>\n",
              "      <td>31</td>\n",
              "      <td>0</td>\n",
              "      <td>36</td>\n",
              "      <td>10000.0</td>\n",
              "      <td>10000</td>\n",
              "      <td>196</td>\n",
              "      <td>0.0</td>\n",
              "      <td>2017-07-23</td>\n",
              "      <td>0.0</td>\n",
              "      <td>728319</td>\n",
              "      <td>320464</td>\n",
              "      <td>1</td>\n",
              "    </tr>\n",
              "    <tr>\n",
              "      <th>1</th>\n",
              "      <td>0.0</td>\n",
              "      <td>0</td>\n",
              "      <td>38151.93</td>\n",
              "      <td>46230.00</td>\n",
              "      <td>1492</td>\n",
              "      <td>38151.93</td>\n",
              "      <td>51</td>\n",
              "      <td>0</td>\n",
              "      <td>93</td>\n",
              "      <td>10000.0</td>\n",
              "      <td>10000</td>\n",
              "      <td>17</td>\n",
              "      <td>20000.0</td>\n",
              "      <td>2017-07-23</td>\n",
              "      <td>0.0</td>\n",
              "      <td>728321</td>\n",
              "      <td>320466</td>\n",
              "      <td>1</td>\n",
              "    </tr>\n",
              "    <tr>\n",
              "      <th>2</th>\n",
              "      <td>51356.0</td>\n",
              "      <td>2</td>\n",
              "      <td>3000.00</td>\n",
              "      <td>3000.00</td>\n",
              "      <td>8</td>\n",
              "      <td>3000.00</td>\n",
              "      <td>28</td>\n",
              "      <td>1</td>\n",
              "      <td>3</td>\n",
              "      <td>10000.0</td>\n",
              "      <td>10000</td>\n",
              "      <td>84</td>\n",
              "      <td>0.0</td>\n",
              "      <td>2017-07-23</td>\n",
              "      <td>0.0</td>\n",
              "      <td>728323</td>\n",
              "      <td>320467</td>\n",
              "      <td>1</td>\n",
              "    </tr>\n",
              "    <tr>\n",
              "      <th>3</th>\n",
              "      <td>0.0</td>\n",
              "      <td>0</td>\n",
              "      <td>22784.19</td>\n",
              "      <td>32103.52</td>\n",
              "      <td>913</td>\n",
              "      <td>22784.19</td>\n",
              "      <td>28</td>\n",
              "      <td>0</td>\n",
              "      <td>52</td>\n",
              "      <td>10000.0</td>\n",
              "      <td>10000</td>\n",
              "      <td>7</td>\n",
              "      <td>0.0</td>\n",
              "      <td>2017-07-23</td>\n",
              "      <td>0.0</td>\n",
              "      <td>728447</td>\n",
              "      <td>320533</td>\n",
              "      <td>1</td>\n",
              "    </tr>\n",
              "    <tr>\n",
              "      <th>4</th>\n",
              "      <td>12298.0</td>\n",
              "      <td>1</td>\n",
              "      <td>4942.95</td>\n",
              "      <td>4950.00</td>\n",
              "      <td>2883</td>\n",
              "      <td>4942.95</td>\n",
              "      <td>31</td>\n",
              "      <td>0</td>\n",
              "      <td>47</td>\n",
              "      <td>5000.0</td>\n",
              "      <td>5000</td>\n",
              "      <td>20</td>\n",
              "      <td>0.0</td>\n",
              "      <td>2017-07-23</td>\n",
              "      <td>0.0</td>\n",
              "      <td>728421</td>\n",
              "      <td>298598</td>\n",
              "      <td>1</td>\n",
              "    </tr>\n",
              "  </tbody>\n",
              "</table>\n",
              "</div>"
            ],
            "text/plain": [
              "   closed_cred_sum  closed_creds  ...  client_id  expert\n",
              "0         143822.0            22  ...     320464       1\n",
              "1              0.0             0  ...     320466       1\n",
              "2          51356.0             2  ...     320467       1\n",
              "3              0.0             0  ...     320533       1\n",
              "4          12298.0             1  ...     298598       1\n",
              "\n",
              "[5 rows x 18 columns]"
            ]
          },
          "metadata": {
            "tags": []
          },
          "execution_count": 4
        }
      ]
    },
    {
      "cell_type": "code",
      "metadata": {
        "id": "sXtF2um5Yi_W"
      },
      "source": [
        "#Переменные, характеризующие кредитную историю клиента: \n",
        "# closed_cred_sum - сумма, которую клиент выплатил по ранее взятым и закрытым кредитам\n",
        "# closed_creds - количество закрытых кредитов\n",
        "# active_cred_sum_overdue - суммарная задолженность по активным кредитам\n",
        "# active_cred_sum - сумма всех активных кредитов\n",
        "# active_cred_day_overdue - суммарная просрочка в днях по всем активным кредитам\n",
        "# active_cred_max_overdue - максимальная сумма просроченной задолженности по активным кредитам\n",
        "\n",
        "#Переменные характеризующие клиента:\n",
        "# age - возраст\n",
        "# gender - пол\n",
        "# region - регион\n",
        "# month_income - ежемесячный доход\n",
        "\n",
        "#Переменные, характеризующие кредит, по которому нужно сделать прогноз:\n",
        "# first_loan - сумма, которую клиент хочет получить в кредит (из заявки)\n",
        "# first_days_quant - срок, на которую клиент хочет взять кредит\n",
        "# loan_cost_all - одобренная клиенту сумма кредита\n",
        "# order_date - дата подачи заявки на получение кредита\n",
        "# cost_all - сумма всех выплат по одобренному кредиту\n",
        "# order_id - id заявки\n",
        "# client_id - id клиента\n",
        "\n",
        "#Целевая переменная:\n",
        "#expert - решение, которое принято по заявке (0 - одобрено, 1 - отклонено)"
      ],
      "execution_count": null,
      "outputs": []
    },
    {
      "cell_type": "code",
      "metadata": {
        "colab": {
          "base_uri": "https://localhost:8080/"
        },
        "id": "mg5zSh3uZ9dw",
        "outputId": "0d9eeae1-2fc7-4b9c-f868-be275d3fef2f"
      },
      "source": [
        "df['expert'].value_counts(normalize=True)"
      ],
      "execution_count": 6,
      "outputs": [
        {
          "output_type": "execute_result",
          "data": {
            "text/plain": [
              "1    0.749265\n",
              "0    0.250735\n",
              "Name: expert, dtype: float64"
            ]
          },
          "metadata": {
            "tags": []
          },
          "execution_count": 6
        }
      ]
    },
    {
      "cell_type": "code",
      "metadata": {
        "colab": {
          "base_uri": "https://localhost:8080/"
        },
        "id": "Lgz0xgDxaBtO",
        "outputId": "7d3353e3-3485-4b62-8f03-1eec072b7789"
      },
      "source": [
        "df.isnull().mean()"
      ],
      "execution_count": 8,
      "outputs": [
        {
          "output_type": "execute_result",
          "data": {
            "text/plain": [
              "closed_cred_sum            0.00000\n",
              "closed_creds               0.00000\n",
              "active_cred_sum_overdue    0.00000\n",
              "active_cred_sum            0.00000\n",
              "active_cred_day_overdue    0.00000\n",
              "active_cred_max_overdue    0.00000\n",
              "age                        0.00000\n",
              "gender                     0.00000\n",
              "region                     0.00000\n",
              "first_loan                 0.00038\n",
              "loan_cost_all              0.00000\n",
              "first_days_quant           0.00000\n",
              "month_income               0.00000\n",
              "order_date                 0.00000\n",
              "cost_all                   0.00000\n",
              "order_id                   0.00000\n",
              "client_id                  0.00000\n",
              "expert                     0.00000\n",
              "dtype: float64"
            ]
          },
          "metadata": {
            "tags": []
          },
          "execution_count": 8
        }
      ]
    },
    {
      "cell_type": "code",
      "metadata": {
        "colab": {
          "base_uri": "https://localhost:8080/"
        },
        "id": "ca5JTZNsltfw",
        "outputId": "a2d0b383-efc7-435d-ee38-9d56272a0b92"
      },
      "source": [
        "df.info()"
      ],
      "execution_count": 57,
      "outputs": [
        {
          "output_type": "stream",
          "text": [
            "<class 'pandas.core.frame.DataFrame'>\n",
            "RangeIndex: 50001 entries, 0 to 50000\n",
            "Data columns (total 18 columns):\n",
            " #   Column                   Non-Null Count  Dtype  \n",
            "---  ------                   --------------  -----  \n",
            " 0   closed_cred_sum          50001 non-null  float64\n",
            " 1   closed_creds             50001 non-null  int64  \n",
            " 2   active_cred_sum_overdue  50001 non-null  float64\n",
            " 3   active_cred_sum          50001 non-null  float64\n",
            " 4   active_cred_day_overdue  50001 non-null  int64  \n",
            " 5   active_cred_max_overdue  50001 non-null  float64\n",
            " 6   age                      50001 non-null  int64  \n",
            " 7   gender                   50001 non-null  object \n",
            " 8   region                   50001 non-null  object \n",
            " 9   first_loan               49982 non-null  float64\n",
            " 10  loan_cost_all            50001 non-null  int64  \n",
            " 11  first_days_quant         50001 non-null  int64  \n",
            " 12  month_income             50001 non-null  float64\n",
            " 13  order_date               50001 non-null  object \n",
            " 14  cost_all                 50001 non-null  float64\n",
            " 15  order_id                 50001 non-null  int64  \n",
            " 16  client_id                50001 non-null  int64  \n",
            " 17  expert                   50001 non-null  int64  \n",
            "dtypes: float64(7), int64(8), object(3)\n",
            "memory usage: 6.9+ MB\n"
          ],
          "name": "stdout"
        }
      ]
    },
    {
      "cell_type": "code",
      "metadata": {
        "id": "dBANyOpRbokY"
      },
      "source": [
        "df[['gender','region']] = df[['gender','region']].astype(str)"
      ],
      "execution_count": 9,
      "outputs": []
    },
    {
      "cell_type": "code",
      "metadata": {
        "colab": {
          "base_uri": "https://localhost:8080/"
        },
        "id": "R-4Y9etHbuio",
        "outputId": "8bbba552-7a8a-4749-de8e-4845e23b6d3f"
      },
      "source": [
        "from copy import deepcopy\n",
        "\n",
        "train = deepcopy(df.sample(frac=0.7,random_state=42))\n",
        "val = deepcopy(df[~df.index.isin(train.index)])\n",
        "\n",
        "print((len(train) + len(val))==len(df))"
      ],
      "execution_count": 10,
      "outputs": [
        {
          "output_type": "stream",
          "text": [
            "True\n"
          ],
          "name": "stdout"
        }
      ]
    },
    {
      "cell_type": "code",
      "metadata": {
        "id": "auXpgncmdjpw"
      },
      "source": [
        "%%capture\n",
        "! pip install catboost"
      ],
      "execution_count": 12,
      "outputs": []
    },
    {
      "cell_type": "code",
      "metadata": {
        "id": "PsggFjRHeLLP"
      },
      "source": [
        "from catboost import CatBoostClassifier"
      ],
      "execution_count": 13,
      "outputs": []
    },
    {
      "cell_type": "code",
      "metadata": {
        "id": "KB1gSGvseP5X"
      },
      "source": [
        "X_col = [\n",
        "         'closed_cred_sum', \n",
        "         'closed_creds', \n",
        "         'active_cred_sum_overdue',\n",
        "          'active_cred_sum', \n",
        "         'active_cred_day_overdue', \n",
        "         'active_cred_max_overdue',\n",
        "         'age',  \n",
        "         'first_loan',\n",
        "         'first_days_quant', \n",
        "         'month_income',\n",
        "         'client_id',\n",
        "          # 'gender', \n",
        "          'region',\n",
        "       ]\n",
        "\n",
        "# cat_features = ['gender','region']\n",
        "y_col = ['expert']"
      ],
      "execution_count": 48,
      "outputs": []
    },
    {
      "cell_type": "code",
      "metadata": {
        "id": "CVXyZGJMfVUu"
      },
      "source": [
        "model = CatBoostClassifier(verbose=100,\n",
        "                           random_state=42,\n",
        "                           learning_rate=0.5,\n",
        "                           early_stopping_rounds=200,\n",
        "                           eval_metric='AUC',\n",
        "                          #  cat_features=cat_features\n",
        "                           )"
      ],
      "execution_count": 49,
      "outputs": []
    },
    {
      "cell_type": "code",
      "metadata": {
        "colab": {
          "base_uri": "https://localhost:8080/"
        },
        "id": "D0SF15Iifbin",
        "outputId": "dc80eade-b2b7-45a7-9d8a-ee93de4455c6"
      },
      "source": [
        "model.fit(train[X_col],train[y_col], eval_set=(val[X_col],val[y_col]))"
      ],
      "execution_count": 50,
      "outputs": [
        {
          "output_type": "stream",
          "text": [
            "0:\ttest: 0.8697650\tbest: 0.8697650 (0)\ttotal: 19.8ms\tremaining: 19.8s\n",
            "100:\ttest: 0.9437977\tbest: 0.9437977 (100)\ttotal: 1.97s\tremaining: 17.5s\n",
            "200:\ttest: 0.9471362\tbest: 0.9472449 (195)\ttotal: 3.93s\tremaining: 15.6s\n",
            "300:\ttest: 0.9490320\tbest: 0.9490323 (299)\ttotal: 5.88s\tremaining: 13.7s\n",
            "400:\ttest: 0.9500486\tbest: 0.9501446 (379)\ttotal: 7.82s\tremaining: 11.7s\n",
            "500:\ttest: 0.9510186\tbest: 0.9510186 (500)\ttotal: 9.74s\tremaining: 9.7s\n",
            "600:\ttest: 0.9509964\tbest: 0.9511615 (525)\ttotal: 11.7s\tremaining: 7.74s\n",
            "700:\ttest: 0.9514550\tbest: 0.9515888 (685)\ttotal: 13.6s\tremaining: 5.82s\n",
            "800:\ttest: 0.9517509\tbest: 0.9517645 (791)\ttotal: 15.5s\tremaining: 3.85s\n",
            "900:\ttest: 0.9517586\tbest: 0.9519394 (828)\ttotal: 17.5s\tremaining: 1.92s\n",
            "999:\ttest: 0.9518916\tbest: 0.9519698 (914)\ttotal: 19.3s\tremaining: 0us\n",
            "\n",
            "bestTest = 0.9519698186\n",
            "bestIteration = 914\n",
            "\n",
            "Shrink model to first 915 iterations.\n"
          ],
          "name": "stdout"
        },
        {
          "output_type": "execute_result",
          "data": {
            "text/plain": [
              "<catboost.core.CatBoostClassifier at 0x7f520a1868d0>"
            ]
          },
          "metadata": {
            "tags": []
          },
          "execution_count": 50
        }
      ]
    },
    {
      "cell_type": "code",
      "metadata": {
        "colab": {
          "base_uri": "https://localhost:8080/",
          "height": 421
        },
        "id": "pinYlyT0jLQA",
        "outputId": "4028282e-6a59-4584-d5c2-6661ac9f6c61"
      },
      "source": [
        "fi = pd.DataFrame({'w':model.feature_importances_,'name':X_col})\n",
        "fi.sort_values('w',ascending=False)"
      ],
      "execution_count": 51,
      "outputs": [
        {
          "output_type": "execute_result",
          "data": {
            "text/html": [
              "<div>\n",
              "<style scoped>\n",
              "    .dataframe tbody tr th:only-of-type {\n",
              "        vertical-align: middle;\n",
              "    }\n",
              "\n",
              "    .dataframe tbody tr th {\n",
              "        vertical-align: top;\n",
              "    }\n",
              "\n",
              "    .dataframe thead th {\n",
              "        text-align: right;\n",
              "    }\n",
              "</style>\n",
              "<table border=\"1\" class=\"dataframe\">\n",
              "  <thead>\n",
              "    <tr style=\"text-align: right;\">\n",
              "      <th></th>\n",
              "      <th>w</th>\n",
              "      <th>name</th>\n",
              "    </tr>\n",
              "  </thead>\n",
              "  <tbody>\n",
              "    <tr>\n",
              "      <th>10</th>\n",
              "      <td>12.751630</td>\n",
              "      <td>client_id</td>\n",
              "    </tr>\n",
              "    <tr>\n",
              "      <th>8</th>\n",
              "      <td>12.324759</td>\n",
              "      <td>first_days_quant</td>\n",
              "    </tr>\n",
              "    <tr>\n",
              "      <th>9</th>\n",
              "      <td>10.399796</td>\n",
              "      <td>month_income</td>\n",
              "    </tr>\n",
              "    <tr>\n",
              "      <th>3</th>\n",
              "      <td>8.570999</td>\n",
              "      <td>active_cred_sum</td>\n",
              "    </tr>\n",
              "    <tr>\n",
              "      <th>0</th>\n",
              "      <td>8.529595</td>\n",
              "      <td>closed_cred_sum</td>\n",
              "    </tr>\n",
              "    <tr>\n",
              "      <th>6</th>\n",
              "      <td>7.646239</td>\n",
              "      <td>age</td>\n",
              "    </tr>\n",
              "    <tr>\n",
              "      <th>5</th>\n",
              "      <td>7.126897</td>\n",
              "      <td>active_cred_max_overdue</td>\n",
              "    </tr>\n",
              "    <tr>\n",
              "      <th>2</th>\n",
              "      <td>6.948925</td>\n",
              "      <td>active_cred_sum_overdue</td>\n",
              "    </tr>\n",
              "    <tr>\n",
              "      <th>11</th>\n",
              "      <td>6.804715</td>\n",
              "      <td>region</td>\n",
              "    </tr>\n",
              "    <tr>\n",
              "      <th>1</th>\n",
              "      <td>6.554766</td>\n",
              "      <td>closed_creds</td>\n",
              "    </tr>\n",
              "    <tr>\n",
              "      <th>7</th>\n",
              "      <td>6.411158</td>\n",
              "      <td>first_loan</td>\n",
              "    </tr>\n",
              "    <tr>\n",
              "      <th>4</th>\n",
              "      <td>5.930520</td>\n",
              "      <td>active_cred_day_overdue</td>\n",
              "    </tr>\n",
              "  </tbody>\n",
              "</table>\n",
              "</div>"
            ],
            "text/plain": [
              "            w                     name\n",
              "10  12.751630                client_id\n",
              "8   12.324759         first_days_quant\n",
              "9   10.399796             month_income\n",
              "3    8.570999          active_cred_sum\n",
              "0    8.529595          closed_cred_sum\n",
              "6    7.646239                      age\n",
              "5    7.126897  active_cred_max_overdue\n",
              "2    6.948925  active_cred_sum_overdue\n",
              "11   6.804715                   region\n",
              "1    6.554766             closed_creds\n",
              "7    6.411158               first_loan\n",
              "4    5.930520  active_cred_day_overdue"
            ]
          },
          "metadata": {
            "tags": []
          },
          "execution_count": 51
        }
      ]
    },
    {
      "cell_type": "code",
      "metadata": {
        "id": "zA_8jpgKnCFJ"
      },
      "source": [
        "val['score'] = model.predict_proba(val[X_col])[:,1]"
      ],
      "execution_count": 60,
      "outputs": []
    },
    {
      "cell_type": "code",
      "metadata": {
        "colab": {
          "base_uri": "https://localhost:8080/",
          "height": 224
        },
        "id": "JAKvE27unMhu",
        "outputId": "dc2a5c93-fc9e-4a02-b5db-726dc2597f2c"
      },
      "source": [
        "val.head()"
      ],
      "execution_count": 61,
      "outputs": [
        {
          "output_type": "execute_result",
          "data": {
            "text/html": [
              "<div>\n",
              "<style scoped>\n",
              "    .dataframe tbody tr th:only-of-type {\n",
              "        vertical-align: middle;\n",
              "    }\n",
              "\n",
              "    .dataframe tbody tr th {\n",
              "        vertical-align: top;\n",
              "    }\n",
              "\n",
              "    .dataframe thead th {\n",
              "        text-align: right;\n",
              "    }\n",
              "</style>\n",
              "<table border=\"1\" class=\"dataframe\">\n",
              "  <thead>\n",
              "    <tr style=\"text-align: right;\">\n",
              "      <th></th>\n",
              "      <th>closed_cred_sum</th>\n",
              "      <th>closed_creds</th>\n",
              "      <th>active_cred_sum_overdue</th>\n",
              "      <th>active_cred_sum</th>\n",
              "      <th>active_cred_day_overdue</th>\n",
              "      <th>active_cred_max_overdue</th>\n",
              "      <th>age</th>\n",
              "      <th>gender</th>\n",
              "      <th>region</th>\n",
              "      <th>first_loan</th>\n",
              "      <th>loan_cost_all</th>\n",
              "      <th>first_days_quant</th>\n",
              "      <th>month_income</th>\n",
              "      <th>order_date</th>\n",
              "      <th>cost_all</th>\n",
              "      <th>order_id</th>\n",
              "      <th>client_id</th>\n",
              "      <th>expert</th>\n",
              "      <th>score</th>\n",
              "    </tr>\n",
              "  </thead>\n",
              "  <tbody>\n",
              "    <tr>\n",
              "      <th>2</th>\n",
              "      <td>51356.0</td>\n",
              "      <td>2</td>\n",
              "      <td>3000.0</td>\n",
              "      <td>3000.0</td>\n",
              "      <td>8</td>\n",
              "      <td>3000.00</td>\n",
              "      <td>28</td>\n",
              "      <td>1</td>\n",
              "      <td>3</td>\n",
              "      <td>10000.0</td>\n",
              "      <td>10000</td>\n",
              "      <td>84</td>\n",
              "      <td>0.0</td>\n",
              "      <td>2017-07-23</td>\n",
              "      <td>0.0</td>\n",
              "      <td>728323</td>\n",
              "      <td>320467</td>\n",
              "      <td>1</td>\n",
              "      <td>0.999950</td>\n",
              "    </tr>\n",
              "    <tr>\n",
              "      <th>5</th>\n",
              "      <td>786916.0</td>\n",
              "      <td>11</td>\n",
              "      <td>0.0</td>\n",
              "      <td>1063763.0</td>\n",
              "      <td>0</td>\n",
              "      <td>10395.39</td>\n",
              "      <td>47</td>\n",
              "      <td>0</td>\n",
              "      <td>38</td>\n",
              "      <td>10000.0</td>\n",
              "      <td>5500</td>\n",
              "      <td>14</td>\n",
              "      <td>50000.0</td>\n",
              "      <td>2017-07-23</td>\n",
              "      <td>0.0</td>\n",
              "      <td>728526</td>\n",
              "      <td>320564</td>\n",
              "      <td>0</td>\n",
              "      <td>0.015955</td>\n",
              "    </tr>\n",
              "    <tr>\n",
              "      <th>9</th>\n",
              "      <td>0.0</td>\n",
              "      <td>0</td>\n",
              "      <td>21143.0</td>\n",
              "      <td>21143.0</td>\n",
              "      <td>1016</td>\n",
              "      <td>10924.00</td>\n",
              "      <td>28</td>\n",
              "      <td>1</td>\n",
              "      <td>0</td>\n",
              "      <td>10000.0</td>\n",
              "      <td>10000</td>\n",
              "      <td>90</td>\n",
              "      <td>0.0</td>\n",
              "      <td>2017-07-23</td>\n",
              "      <td>0.0</td>\n",
              "      <td>728454</td>\n",
              "      <td>123851</td>\n",
              "      <td>1</td>\n",
              "      <td>1.000000</td>\n",
              "    </tr>\n",
              "    <tr>\n",
              "      <th>10</th>\n",
              "      <td>0.0</td>\n",
              "      <td>0</td>\n",
              "      <td>21143.0</td>\n",
              "      <td>21143.0</td>\n",
              "      <td>1016</td>\n",
              "      <td>10924.00</td>\n",
              "      <td>28</td>\n",
              "      <td>1</td>\n",
              "      <td>0</td>\n",
              "      <td>10000.0</td>\n",
              "      <td>10000</td>\n",
              "      <td>15</td>\n",
              "      <td>30000.0</td>\n",
              "      <td>2017-07-23</td>\n",
              "      <td>0.0</td>\n",
              "      <td>728553</td>\n",
              "      <td>123851</td>\n",
              "      <td>1</td>\n",
              "      <td>0.999698</td>\n",
              "    </tr>\n",
              "    <tr>\n",
              "      <th>12</th>\n",
              "      <td>0.0</td>\n",
              "      <td>0</td>\n",
              "      <td>0.0</td>\n",
              "      <td>8000.0</td>\n",
              "      <td>0</td>\n",
              "      <td>0.00</td>\n",
              "      <td>24</td>\n",
              "      <td>1</td>\n",
              "      <td>80</td>\n",
              "      <td>7000.0</td>\n",
              "      <td>7000</td>\n",
              "      <td>10</td>\n",
              "      <td>35000.0</td>\n",
              "      <td>2017-07-23</td>\n",
              "      <td>0.0</td>\n",
              "      <td>728476</td>\n",
              "      <td>320544</td>\n",
              "      <td>1</td>\n",
              "      <td>0.995253</td>\n",
              "    </tr>\n",
              "  </tbody>\n",
              "</table>\n",
              "</div>"
            ],
            "text/plain": [
              "    closed_cred_sum  closed_creds  ...  expert     score\n",
              "2           51356.0             2  ...       1  0.999950\n",
              "5          786916.0            11  ...       0  0.015955\n",
              "9               0.0             0  ...       1  1.000000\n",
              "10              0.0             0  ...       1  0.999698\n",
              "12              0.0             0  ...       1  0.995253\n",
              "\n",
              "[5 rows x 19 columns]"
            ]
          },
          "metadata": {
            "tags": []
          },
          "execution_count": 61
        }
      ]
    },
    {
      "cell_type": "code",
      "metadata": {
        "id": "rb4r0OGrnw9P"
      },
      "source": [
        "from sklearn.metrics import roc_auc_score, roc_curve"
      ],
      "execution_count": 63,
      "outputs": []
    },
    {
      "cell_type": "code",
      "metadata": {
        "colab": {
          "base_uri": "https://localhost:8080/"
        },
        "id": "cGtTgbWEns33",
        "outputId": "be590a28-34cb-4b9b-a869-492a652ab547"
      },
      "source": [
        "roc_auc_score(val['expert'],val['score'])"
      ],
      "execution_count": 64,
      "outputs": [
        {
          "output_type": "execute_result",
          "data": {
            "text/plain": [
              "0.9519698186092109"
            ]
          },
          "metadata": {
            "tags": []
          },
          "execution_count": 64
        }
      ]
    },
    {
      "cell_type": "code",
      "metadata": {
        "id": "ctu-f5vWoVk_"
      },
      "source": [
        "fpr, tpr, thr = roc_curve(val['expert'],val['score'])"
      ],
      "execution_count": 65,
      "outputs": []
    },
    {
      "cell_type": "code",
      "metadata": {
        "id": "W5y7mgr-oWqf"
      },
      "source": [
        "roc = pd.DataFrame({'fpr':fpr,'tpr':tpr,'thr':thr})"
      ],
      "execution_count": 66,
      "outputs": []
    },
    {
      "cell_type": "code",
      "metadata": {
        "colab": {
          "base_uri": "https://localhost:8080/",
          "height": 405
        },
        "id": "cHMac0S5oZVP",
        "outputId": "9aa0a3b8-d249-4606-8002-725fb4f1d500"
      },
      "source": [
        "roc.plot(x='fpr',y='tpr',figsize=(6,6),grid=True, color='blue')"
      ],
      "execution_count": 87,
      "outputs": [
        {
          "output_type": "execute_result",
          "data": {
            "text/plain": [
              "<matplotlib.axes._subplots.AxesSubplot at 0x7f5160c4e510>"
            ]
          },
          "metadata": {
            "tags": []
          },
          "execution_count": 87
        },
        {
          "output_type": "display_data",
          "data": {
            "image/png": "[encoded data removed]",
            "text/plain": [
              "<Figure size 432x432 with 1 Axes>"
            ]
          },
          "metadata": {
            "tags": [],
            "needs_background": "light"
          }
        }
      ]
    },
    {
      "cell_type": "code",
      "metadata": {
        "id": "3hEXXzMeocEH"
      },
      "source": [
        "roc['tpr-fpr'] = roc['tpr'] - roc['fpr']"
      ],
      "execution_count": 68,
      "outputs": []
    },
    {
      "cell_type": "code",
      "metadata": {
        "id": "hR2GgxMAoiAI"
      },
      "source": [
        "pd.set_option('display.float_format', lambda x: '%.3f' % x)"
      ],
      "execution_count": 69,
      "outputs": []
    },
    {
      "cell_type": "code",
      "metadata": {
        "id": "32WxMNipolM_"
      },
      "source": [
        "best_thr = roc.sort_values('tpr-fpr',ascending=False)['thr'].iloc[0]"
      ],
      "execution_count": 70,
      "outputs": []
    },
    {
      "cell_type": "code",
      "metadata": {
        "id": "jYG7RzcIooeQ"
      },
      "source": [
        "val['y_pred'] = (val['score'] >= best_thr)*1"
      ],
      "execution_count": 71,
      "outputs": []
    },
    {
      "cell_type": "code",
      "metadata": {
        "id": "5gllz4rZpCVg"
      },
      "source": [
        "from sklearn.metrics import confusion_matrix, classification_report"
      ],
      "execution_count": 72,
      "outputs": []
    },
    {
      "cell_type": "code",
      "metadata": {
        "colab": {
          "base_uri": "https://localhost:8080/"
        },
        "id": "HxzenFB1pEln",
        "outputId": "93062ab1-cd4e-4045-f64b-2175be20b768"
      },
      "source": [
        "print(classification_report(val['expert'],val['y_pred']))"
      ],
      "execution_count": 73,
      "outputs": [
        {
          "output_type": "stream",
          "text": [
            "              precision    recall  f1-score   support\n",
            "\n",
            "           0       0.75      0.87      0.81      3835\n",
            "           1       0.95      0.90      0.93     11165\n",
            "\n",
            "    accuracy                           0.89     15000\n",
            "   macro avg       0.85      0.89      0.87     15000\n",
            "weighted avg       0.90      0.89      0.89     15000\n",
            "\n"
          ],
          "name": "stdout"
        }
      ]
    },
    {
      "cell_type": "code",
      "metadata": {
        "colab": {
          "base_uri": "https://localhost:8080/"
        },
        "id": "t1nVTl5PpOzJ",
        "outputId": "926259f0-fc9a-46c3-e9aa-1a948f7d108f"
      },
      "source": [
        "confusion_matrix(val['expert'],val['y_pred'])"
      ],
      "execution_count": 74,
      "outputs": [
        {
          "output_type": "execute_result",
          "data": {
            "text/plain": [
              "array([[ 3342,   493],\n",
              "       [ 1123, 10042]])"
            ]
          },
          "metadata": {
            "tags": []
          },
          "execution_count": 74
        }
      ]
    },
    {
      "cell_type": "code",
      "metadata": {
        "id": "suzu7WR9pXFA"
      },
      "source": [
        "tn, fp, fn, tp = confusion_matrix(val['expert'],val['y_pred']).ravel()"
      ],
      "execution_count": 75,
      "outputs": []
    },
    {
      "cell_type": "code",
      "metadata": {
        "colab": {
          "base_uri": "https://localhost:8080/"
        },
        "id": "wMBhQ1Pvpciv",
        "outputId": "bf8936bf-da47-49ea-960c-20591fe5b57d"
      },
      "source": [
        "print(fn)"
      ],
      "execution_count": 76,
      "outputs": [
        {
          "output_type": "stream",
          "text": [
            "1123\n"
          ],
          "name": "stdout"
        }
      ]
    },
    {
      "cell_type": "code",
      "metadata": {
        "colab": {
          "base_uri": "https://localhost:8080/"
        },
        "id": "3aqGSp85pffY",
        "outputId": "5b904426-a138-4bab-a7a6-e7f9db1a1e6c"
      },
      "source": [
        "print(fp)"
      ],
      "execution_count": 77,
      "outputs": [
        {
          "output_type": "stream",
          "text": [
            "493\n"
          ],
          "name": "stdout"
        }
      ]
    },
    {
      "cell_type": "code",
      "metadata": {
        "colab": {
          "base_uri": "https://localhost:8080/",
          "height": 282
        },
        "id": "3T55KmqBqb4w",
        "outputId": "77750bbd-cc46-4522-a2cd-311490c994f7"
      },
      "source": [
        "val['score'].hist()"
      ],
      "execution_count": 78,
      "outputs": [
        {
          "output_type": "execute_result",
          "data": {
            "text/plain": [
              "<matplotlib.axes._subplots.AxesSubplot at 0x7f5161e32ad0>"
            ]
          },
          "metadata": {
            "tags": []
          },
          "execution_count": 78
        },
        {
          "output_type": "display_data",
          "data": {
            "image/png": "[encoded data removed]",
            "text/plain": [
              "<Figure size 432x288 with 1 Axes>"
            ]
          },
          "metadata": {
            "tags": [],
            "needs_background": "light"
          }
        }
      ]
    }
  ]
}