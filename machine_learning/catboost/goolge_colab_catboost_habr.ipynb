{
  "nbformat": 4,
  "nbformat_minor": 0,
  "metadata": {
    "colab": {
      "name": "goolge_colab_catboost_habr.ipynb",
      "provenance": [],
      "collapsed_sections": []
    },
    "kernelspec": {
      "name": "python3",
      "display_name": "Python 3"
    },
    "language_info": {
      "name": "python"
    }
  },
  "cells": [
    {
      "cell_type": "markdown",
      "source": [
        "# Градиентный бустинг с CATBOOST (публикация на Хабр NewTechAudit)"
      ],
      "metadata": {
        "id": "4EAP5Zpb5Y9G"
      }
    },
    {
      "cell_type": "markdown",
      "source": [
        "Цитата из Википедии \"CatBoost — открытая программная библиотека, разработанная компанией Яндекс и реализующая уникальный патентованный алгоритм построения моделей машинного обучения, использующий одну из оригинальных схем градиентного бустинга. Основное API для работы с библиотекой реализовано для языка Python, также существует реализация для языка программирования R.\""
      ],
      "metadata": {
        "id": "3RFwXxzr5rSt"
      }
    },
    {
      "cell_type": "code",
      "source": [
        "%%bash\n",
        "pip install catboost"
      ],
      "metadata": {
        "colab": {
          "base_uri": "https://localhost:8080/"
        },
        "id": "uH9vm2Sj529U",
        "outputId": "0bfb0ce5-7985-4b5f-822b-f1343c3e07d9"
      },
      "execution_count": 1,
      "outputs": [
        {
          "output_type": "stream",
          "name": "stdout",
          "text": [
            "Requirement already satisfied: catboost in /usr/local/lib/python3.7/dist-packages (1.0.4)\n",
            "Requirement already satisfied: graphviz in /usr/local/lib/python3.7/dist-packages (from catboost) (0.10.1)\n",
            "Requirement already satisfied: matplotlib in /usr/local/lib/python3.7/dist-packages (from catboost) (3.2.2)\n",
            "Requirement already satisfied: scipy in /usr/local/lib/python3.7/dist-packages (from catboost) (1.4.1)\n",
            "Requirement already satisfied: six in /usr/local/lib/python3.7/dist-packages (from catboost) (1.15.0)\n",
            "Requirement already satisfied: plotly in /usr/local/lib/python3.7/dist-packages (from catboost) (5.5.0)\n",
            "Requirement already satisfied: pandas>=0.24.0 in /usr/local/lib/python3.7/dist-packages (from catboost) (1.1.5)\n",
            "Requirement already satisfied: numpy>=1.16.0 in /usr/local/lib/python3.7/dist-packages (from catboost) (1.19.5)\n",
            "Requirement already satisfied: pytz>=2017.2 in /usr/local/lib/python3.7/dist-packages (from pandas>=0.24.0->catboost) (2018.9)\n",
            "Requirement already satisfied: python-dateutil>=2.7.3 in /usr/local/lib/python3.7/dist-packages (from pandas>=0.24.0->catboost) (2.8.2)\n",
            "Requirement already satisfied: cycler>=0.10 in /usr/local/lib/python3.7/dist-packages (from matplotlib->catboost) (0.11.0)\n",
            "Requirement already satisfied: kiwisolver>=1.0.1 in /usr/local/lib/python3.7/dist-packages (from matplotlib->catboost) (1.3.2)\n",
            "Requirement already satisfied: pyparsing!=2.0.4,!=2.1.2,!=2.1.6,>=2.0.1 in /usr/local/lib/python3.7/dist-packages (from matplotlib->catboost) (3.0.7)\n",
            "Requirement already satisfied: tenacity>=6.2.0 in /usr/local/lib/python3.7/dist-packages (from plotly->catboost) (8.0.1)\n"
          ]
        }
      ]
    },
    {
      "cell_type": "code",
      "execution_count": 2,
      "metadata": {
        "id": "UrAkZTCc5I6a"
      },
      "outputs": [],
      "source": [
        "import pandas as pd\n",
        "import os\n",
        "import numpy as np\n",
        "np.set_printoptions(precision=4)\n",
        "import catboost\n",
        "from catboost import * \n",
        "from catboost import datasets"
      ]
    },
    {
      "cell_type": "code",
      "source": [
        "# Получаем тестовый датасет\n",
        "(train_df, test_df) = catboost.datasets.amazon()"
      ],
      "metadata": {
        "id": "A3LB44gP5088"
      },
      "execution_count": 3,
      "outputs": []
    },
    {
      "cell_type": "code",
      "source": [
        "train_df.head()"
      ],
      "metadata": {
        "colab": {
          "base_uri": "https://localhost:8080/",
          "height": 206
        },
        "id": "IuPJLzde6Ni0",
        "outputId": "ec181de9-07a9-43fc-d371-ec23886d8086"
      },
      "execution_count": 4,
      "outputs": [
        {
          "output_type": "execute_result",
          "data": {
            "text/html": [
              "\n",
              "  <div id=\"df-e8c22030-e935-4639-afc1-c0149ecd32c1\">\n",
              "    <div class=\"colab-df-container\">\n",
              "      <div>\n",
              "<style scoped>\n",
              "    .dataframe tbody tr th:only-of-type {\n",
              "        vertical-align: middle;\n",
              "    }\n",
              "\n",
              "    .dataframe tbody tr th {\n",
              "        vertical-align: top;\n",
              "    }\n",
              "\n",
              "    .dataframe thead th {\n",
              "        text-align: right;\n",
              "    }\n",
              "</style>\n",
              "<table border=\"1\" class=\"dataframe\">\n",
              "  <thead>\n",
              "    <tr style=\"text-align: right;\">\n",
              "      <th></th>\n",
              "      <th>ACTION</th>\n",
              "      <th>RESOURCE</th>\n",
              "      <th>MGR_ID</th>\n",
              "      <th>ROLE_ROLLUP_1</th>\n",
              "      <th>ROLE_ROLLUP_2</th>\n",
              "      <th>ROLE_DEPTNAME</th>\n",
              "      <th>ROLE_TITLE</th>\n",
              "      <th>ROLE_FAMILY_DESC</th>\n",
              "      <th>ROLE_FAMILY</th>\n",
              "      <th>ROLE_CODE</th>\n",
              "    </tr>\n",
              "  </thead>\n",
              "  <tbody>\n",
              "    <tr>\n",
              "      <th>0</th>\n",
              "      <td>1</td>\n",
              "      <td>39353</td>\n",
              "      <td>85475</td>\n",
              "      <td>117961</td>\n",
              "      <td>118300</td>\n",
              "      <td>123472</td>\n",
              "      <td>117905</td>\n",
              "      <td>117906</td>\n",
              "      <td>290919</td>\n",
              "      <td>117908</td>\n",
              "    </tr>\n",
              "    <tr>\n",
              "      <th>1</th>\n",
              "      <td>1</td>\n",
              "      <td>17183</td>\n",
              "      <td>1540</td>\n",
              "      <td>117961</td>\n",
              "      <td>118343</td>\n",
              "      <td>123125</td>\n",
              "      <td>118536</td>\n",
              "      <td>118536</td>\n",
              "      <td>308574</td>\n",
              "      <td>118539</td>\n",
              "    </tr>\n",
              "    <tr>\n",
              "      <th>2</th>\n",
              "      <td>1</td>\n",
              "      <td>36724</td>\n",
              "      <td>14457</td>\n",
              "      <td>118219</td>\n",
              "      <td>118220</td>\n",
              "      <td>117884</td>\n",
              "      <td>117879</td>\n",
              "      <td>267952</td>\n",
              "      <td>19721</td>\n",
              "      <td>117880</td>\n",
              "    </tr>\n",
              "    <tr>\n",
              "      <th>3</th>\n",
              "      <td>1</td>\n",
              "      <td>36135</td>\n",
              "      <td>5396</td>\n",
              "      <td>117961</td>\n",
              "      <td>118343</td>\n",
              "      <td>119993</td>\n",
              "      <td>118321</td>\n",
              "      <td>240983</td>\n",
              "      <td>290919</td>\n",
              "      <td>118322</td>\n",
              "    </tr>\n",
              "    <tr>\n",
              "      <th>4</th>\n",
              "      <td>1</td>\n",
              "      <td>42680</td>\n",
              "      <td>5905</td>\n",
              "      <td>117929</td>\n",
              "      <td>117930</td>\n",
              "      <td>119569</td>\n",
              "      <td>119323</td>\n",
              "      <td>123932</td>\n",
              "      <td>19793</td>\n",
              "      <td>119325</td>\n",
              "    </tr>\n",
              "  </tbody>\n",
              "</table>\n",
              "</div>\n",
              "      <button class=\"colab-df-convert\" onclick=\"convertToInteractive('df-e8c22030-e935-4639-afc1-c0149ecd32c1')\"\n",
              "              title=\"Convert this dataframe to an interactive table.\"\n",
              "              style=\"display:none;\">\n",
              "        \n",
              "  <svg xmlns=\"http://www.w3.org/2000/svg\" height=\"24px\"viewBox=\"0 0 24 24\"\n",
              "       width=\"24px\">\n",
              "    <path d=\"M0 0h24v24H0V0z\" fill=\"none\"/>\n",
              "    <path d=\"M18.56 5.44l.94 2.06.94-2.06 2.06-.94-2.06-.94-.94-2.06-.94 2.06-2.06.94zm-11 1L8.5 8.5l.94-2.06 2.06-.94-2.06-.94L8.5 2.5l-.94 2.06-2.06.94zm10 10l.94 2.06.94-2.06 2.06-.94-2.06-.94-.94-2.06-.94 2.06-2.06.94z\"/><path d=\"M17.41 7.96l-1.37-1.37c-.4-.4-.92-.59-1.43-.59-.52 0-1.04.2-1.43.59L10.3 9.45l-7.72 7.72c-.78.78-.78 2.05 0 2.83L4 21.41c.39.39.9.59 1.41.59.51 0 1.02-.2 1.41-.59l7.78-7.78 2.81-2.81c.8-.78.8-2.07 0-2.86zM5.41 20L4 18.59l7.72-7.72 1.47 1.35L5.41 20z\"/>\n",
              "  </svg>\n",
              "      </button>\n",
              "      \n",
              "  <style>\n",
              "    .colab-df-container {\n",
              "      display:flex;\n",
              "      flex-wrap:wrap;\n",
              "      gap: 12px;\n",
              "    }\n",
              "\n",
              "    .colab-df-convert {\n",
              "      background-color: #E8F0FE;\n",
              "      border: none;\n",
              "      border-radius: 50%;\n",
              "      cursor: pointer;\n",
              "      display: none;\n",
              "      fill: #1967D2;\n",
              "      height: 32px;\n",
              "      padding: 0 0 0 0;\n",
              "      width: 32px;\n",
              "    }\n",
              "\n",
              "    .colab-df-convert:hover {\n",
              "      background-color: #E2EBFA;\n",
              "      box-shadow: 0px 1px 2px rgba(60, 64, 67, 0.3), 0px 1px 3px 1px rgba(60, 64, 67, 0.15);\n",
              "      fill: #174EA6;\n",
              "    }\n",
              "\n",
              "    [theme=dark] .colab-df-convert {\n",
              "      background-color: #3B4455;\n",
              "      fill: #D2E3FC;\n",
              "    }\n",
              "\n",
              "    [theme=dark] .colab-df-convert:hover {\n",
              "      background-color: #434B5C;\n",
              "      box-shadow: 0px 1px 3px 1px rgba(0, 0, 0, 0.15);\n",
              "      filter: drop-shadow(0px 1px 2px rgba(0, 0, 0, 0.3));\n",
              "      fill: #FFFFFF;\n",
              "    }\n",
              "  </style>\n",
              "\n",
              "      <script>\n",
              "        const buttonEl =\n",
              "          document.querySelector('#df-e8c22030-e935-4639-afc1-c0149ecd32c1 button.colab-df-convert');\n",
              "        buttonEl.style.display =\n",
              "          google.colab.kernel.accessAllowed ? 'block' : 'none';\n",
              "\n",
              "        async function convertToInteractive(key) {\n",
              "          const element = document.querySelector('#df-e8c22030-e935-4639-afc1-c0149ecd32c1');\n",
              "          const dataTable =\n",
              "            await google.colab.kernel.invokeFunction('convertToInteractive',\n",
              "                                                     [key], {});\n",
              "          if (!dataTable) return;\n",
              "\n",
              "          const docLinkHtml = 'Like what you see? Visit the ' +\n",
              "            '<a target=\"_blank\" href=https://colab.research.google.com/notebooks/data_table.ipynb>data table notebook</a>'\n",
              "            + ' to learn more about interactive tables.';\n",
              "          element.innerHTML = '';\n",
              "          dataTable['output_type'] = 'display_data';\n",
              "          await google.colab.output.renderOutput(dataTable, element);\n",
              "          const docLink = document.createElement('div');\n",
              "          docLink.innerHTML = docLinkHtml;\n",
              "          element.appendChild(docLink);\n",
              "        }\n",
              "      </script>\n",
              "    </div>\n",
              "  </div>\n",
              "  "
            ],
            "text/plain": [
              "   ACTION  RESOURCE  MGR_ID  ...  ROLE_FAMILY_DESC  ROLE_FAMILY  ROLE_CODE\n",
              "0       1     39353   85475  ...            117906       290919     117908\n",
              "1       1     17183    1540  ...            118536       308574     118539\n",
              "2       1     36724   14457  ...            267952        19721     117880\n",
              "3       1     36135    5396  ...            240983       290919     118322\n",
              "4       1     42680    5905  ...            123932        19793     119325\n",
              "\n",
              "[5 rows x 10 columns]"
            ]
          },
          "metadata": {},
          "execution_count": 4
        }
      ]
    },
    {
      "cell_type": "code",
      "source": [
        "X = train_df.drop(\"ACTION\", axis=1)\n",
        "y = train_df[\"ACTION\"]"
      ],
      "metadata": {
        "id": "kyfZb55b6S0s"
      },
      "execution_count": 5,
      "outputs": []
    },
    {
      "cell_type": "code",
      "source": [
        "# Catboost необходимо сказать, какие признаки категориальные, для этого необходимо передать массив с индексами категориальных фичей\n",
        "cat_features = list(range(0, X.shape[1]))\n",
        "print(cat_features)"
      ],
      "metadata": {
        "colab": {
          "base_uri": "https://localhost:8080/"
        },
        "id": "6IHYo_Xd6gZz",
        "outputId": "7fc02edb-969d-40f2-a29a-6365d478ec34"
      },
      "execution_count": 6,
      "outputs": [
        {
          "output_type": "stream",
          "name": "stdout",
          "text": [
            "[0, 1, 2, 3, 4, 5, 6, 7, 8]\n"
          ]
        }
      ]
    },
    {
      "cell_type": "code",
      "source": [
        "# Посчитаем соотношение 0 и 1 в метках. Есть дисбаланс классов\n",
        "y.value_counts()"
      ],
      "metadata": {
        "colab": {
          "base_uri": "https://localhost:8080/"
        },
        "id": "ntQGh5EC6pm0",
        "outputId": "1abb6935-eff9-40db-8c46-78fb011836c1"
      },
      "execution_count": 7,
      "outputs": [
        {
          "output_type": "execute_result",
          "data": {
            "text/plain": [
              "1    30872\n",
              "0     1897\n",
              "Name: ACTION, dtype: int64"
            ]
          },
          "metadata": {},
          "execution_count": 7
        }
      ]
    },
    {
      "cell_type": "code",
      "source": [
        "# Формирование csv файлов с датасетами \n",
        "dataset_dir = \"./amazon\"\n",
        "\n",
        "if not os.path.exists(dataset_dir):\n",
        "    os.makedirs(dataset_dir)\n",
        "    \n",
        "    \n",
        "train_df.to_csv(os.path.join(dataset_dir, 'train.tsv'), \n",
        "                index=False, sep='\\t', header=False)\n",
        "\n",
        "\n",
        "test_df.to_csv(os.path.join(dataset_dir, 'test.tsv'), \n",
        "              index=False, sep='\\t', header=False)\n",
        "\n",
        "\n",
        "train_df.to_csv(os.path.join(dataset_dir, 'train.csv'),\n",
        "                index=False, sep=',', header=True)\n",
        "\n",
        "\n",
        "test_df.to_csv(os.path.join(dataset_dir, 'test.csv'),\n",
        "              index=False, sep=',', header=True)"
      ],
      "metadata": {
        "id": "arvfqlFL7pBD"
      },
      "execution_count": 8,
      "outputs": []
    },
    {
      "cell_type": "code",
      "source": [
        "!head amazon/train.csv"
      ],
      "metadata": {
        "colab": {
          "base_uri": "https://localhost:8080/"
        },
        "id": "Kw0uXfa774Ij",
        "outputId": "8edbd5c3-08fa-4206-839c-6e67c32a679c"
      },
      "execution_count": 9,
      "outputs": [
        {
          "output_type": "stream",
          "name": "stdout",
          "text": [
            "ACTION,RESOURCE,MGR_ID,ROLE_ROLLUP_1,ROLE_ROLLUP_2,ROLE_DEPTNAME,ROLE_TITLE,ROLE_FAMILY_DESC,ROLE_FAMILY,ROLE_CODE\n",
            "1,39353,85475,117961,118300,123472,117905,117906,290919,117908\n",
            "1,17183,1540,117961,118343,123125,118536,118536,308574,118539\n",
            "1,36724,14457,118219,118220,117884,117879,267952,19721,117880\n",
            "1,36135,5396,117961,118343,119993,118321,240983,290919,118322\n",
            "1,42680,5905,117929,117930,119569,119323,123932,19793,119325\n",
            "0,45333,14561,117951,117952,118008,118568,118568,19721,118570\n",
            "1,25993,17227,117961,118343,123476,118980,301534,118295,118982\n",
            "1,19666,4209,117961,117969,118910,126820,269034,118638,126822\n",
            "1,31246,783,117961,118413,120584,128230,302830,4673,128231\n"
          ]
        }
      ]
    },
    {
      "cell_type": "code",
      "source": [
        "# Формирование файла с описанием типа данных\n",
        "from catboost.utils import create_cd"
      ],
      "metadata": {
        "id": "7wLiwoOv8CRz"
      },
      "execution_count": 10,
      "outputs": []
    },
    {
      "cell_type": "code",
      "source": [
        "feature_names = dict()\n",
        "\n",
        "for column, name in enumerate(train_df):\n",
        "    if column == 0:\n",
        "        continue\n",
        "    feature_names[column-1] = name\n",
        "    \n",
        "\n",
        "create_cd(\n",
        "    label=0,\n",
        "    cat_features=list(range(1, train_df.columns.shape[0])),\n",
        "    feature_names=feature_names,\n",
        "    output_path=os.path.join(dataset_dir, 'train.cd')\n",
        ")"
      ],
      "metadata": {
        "id": "RAVGK4zs8UHA"
      },
      "execution_count": 11,
      "outputs": []
    },
    {
      "cell_type": "code",
      "source": [
        "!cat amazon/train.cd"
      ],
      "metadata": {
        "colab": {
          "base_uri": "https://localhost:8080/"
        },
        "id": "wxCprmE28g4T",
        "outputId": "9e90d32a-f6ff-4c97-8442-eff2acf10673"
      },
      "execution_count": 12,
      "outputs": [
        {
          "output_type": "stream",
          "name": "stdout",
          "text": [
            "0\tLabel\t\n",
            "1\tCateg\tRESOURCE\n",
            "2\tCateg\tMGR_ID\n",
            "3\tCateg\tROLE_ROLLUP_1\n",
            "4\tCateg\tROLE_ROLLUP_2\n",
            "5\tCateg\tROLE_DEPTNAME\n",
            "6\tCateg\tROLE_TITLE\n",
            "7\tCateg\tROLE_FAMILY_DESC\n",
            "8\tCateg\tROLE_FAMILY\n",
            "9\tCateg\tROLE_CODE\n"
          ]
        }
      ]
    },
    {
      "cell_type": "code",
      "source": [
        "# Формирование Pool\n",
        "pool1 = Pool(data=X, label=y, cat_features=cat_features)\n",
        "\n",
        "pool2 = Pool(\n",
        "    data=os.path.join(dataset_dir, 'train.csv'),\n",
        "    delimiter=',',\n",
        "    column_description=os.path.join(dataset_dir, 'train.cd'),\n",
        "    has_header=True\n",
        ")\n",
        "\n",
        "pool3 = Pool(data=X, cat_features=cat_features)\n",
        "\n",
        "X_prepared = X.values.astype(str).astype(object)\n",
        "\n",
        "pool4 = Pool(\n",
        "    data=FeaturesData(\n",
        "        cat_feature_data=X_prepared,\n",
        "        cat_feature_names=list(X)\n",
        "    ),\n",
        "    label=y.values\n",
        ")"
      ],
      "metadata": {
        "id": "OFniZaue8nWL"
      },
      "execution_count": 13,
      "outputs": []
    },
    {
      "cell_type": "code",
      "source": [
        "print(\"Dataset shape\")\n",
        "print(f\"Dataset 1: {str(pool1.shape)}\")\n",
        "print(f\"Dataset 2: {str(pool2.shape)}\")\n",
        "print(f\"Dataset 3: {str(pool3.shape)}\")\n",
        "print(f\"Dataset 4: {str(pool4.shape)}\")\n",
        "print()\n",
        "print(\"Column names\")\n",
        "print(f\"Dataset 1: {pool1.get_feature_names()}\")\n",
        "print(f\"Dataset 2: {pool2.get_feature_names()}\")\n",
        "print(f\"Dataset 3: {pool3.get_feature_names()}\")\n",
        "print(f\"Dataset 4: {pool4.get_feature_names()}\")"
      ],
      "metadata": {
        "colab": {
          "base_uri": "https://localhost:8080/"
        },
        "id": "HXEcvvlA87NC",
        "outputId": "eec21e45-2e1d-479d-f57d-41c3d464e4ca"
      },
      "execution_count": 14,
      "outputs": [
        {
          "output_type": "stream",
          "name": "stdout",
          "text": [
            "Dataset shape\n",
            "Dataset 1: (32769, 9)\n",
            "Dataset 2: (32769, 9)\n",
            "Dataset 3: (32769, 9)\n",
            "Dataset 4: (32769, 9)\n",
            "\n",
            "Column names\n",
            "Dataset 1: ['RESOURCE', 'MGR_ID', 'ROLE_ROLLUP_1', 'ROLE_ROLLUP_2', 'ROLE_DEPTNAME', 'ROLE_TITLE', 'ROLE_FAMILY_DESC', 'ROLE_FAMILY', 'ROLE_CODE']\n",
            "Dataset 2: ['RESOURCE', 'MGR_ID', 'ROLE_ROLLUP_1', 'ROLE_ROLLUP_2', 'ROLE_DEPTNAME', 'ROLE_TITLE', 'ROLE_FAMILY_DESC', 'ROLE_FAMILY', 'ROLE_CODE']\n",
            "Dataset 3: ['RESOURCE', 'MGR_ID', 'ROLE_ROLLUP_1', 'ROLE_ROLLUP_2', 'ROLE_DEPTNAME', 'ROLE_TITLE', 'ROLE_FAMILY_DESC', 'ROLE_FAMILY', 'ROLE_CODE']\n",
            "Dataset 4: ['RESOURCE', 'MGR_ID', 'ROLE_ROLLUP_1', 'ROLE_ROLLUP_2', 'ROLE_DEPTNAME', 'ROLE_TITLE', 'ROLE_FAMILY_DESC', 'ROLE_FAMILY', 'ROLE_CODE']\n"
          ]
        }
      ]
    },
    {
      "cell_type": "code",
      "source": [
        "# Разбивка данных на тестовый и тренировочный датасет\n",
        "from sklearn.model_selection import train_test_split"
      ],
      "metadata": {
        "id": "WRXn1MWK8_n7"
      },
      "execution_count": 15,
      "outputs": []
    },
    {
      "cell_type": "code",
      "source": [
        "X_train, X_test, y_train, y_test = train_test_split(X, y, train_size=0.45, random_state=42)"
      ],
      "metadata": {
        "id": "Ra4tEwPv9eCL"
      },
      "execution_count": 16,
      "outputs": []
    },
    {
      "cell_type": "code",
      "source": [
        "# Описание модели\n",
        "from catboost import CatBoostClassifier"
      ],
      "metadata": {
        "id": "UELbLCGR9wfC"
      },
      "execution_count": 17,
      "outputs": []
    },
    {
      "cell_type": "code",
      "source": [
        "model = CatBoostClassifier(\n",
        "    iterations=200,\n",
        "    learning_rate=0.15\n",
        ")"
      ],
      "metadata": {
        "id": "k8uhwm6X91fR"
      },
      "execution_count": 18,
      "outputs": []
    },
    {
      "cell_type": "code",
      "source": [
        "# Обучение модели\n",
        "model.fit(X_train, y_train,\n",
        "         cat_features=cat_features,\n",
        "         eval_set=(X_test, y_test),\n",
        "          verbose=35\n",
        ")\n",
        "print(f\"Model is fitted: {str(model.is_fitted())}\")\n",
        "print(f\"Model params: {model.get_params()}\")"
      ],
      "metadata": {
        "colab": {
          "base_uri": "https://localhost:8080/"
        },
        "id": "9yo3JaeB95kS",
        "outputId": "2a3946e7-d5fc-433e-8e15-aedcab46abc8"
      },
      "execution_count": 19,
      "outputs": [
        {
          "output_type": "stream",
          "name": "stdout",
          "text": [
            "0:\tlearn: 0.5308996\ttest: 0.5289152\tbest: 0.5289152 (0)\ttotal: 79.7ms\tremaining: 15.9s\n",
            "35:\tlearn: 0.1685548\ttest: 0.1553164\tbest: 0.1553164 (35)\ttotal: 1.84s\tremaining: 8.4s\n",
            "70:\tlearn: 0.1593061\ttest: 0.1527978\tbest: 0.1527978 (70)\ttotal: 5.45s\tremaining: 9.91s\n",
            "105:\tlearn: 0.1512245\ttest: 0.1519111\tbest: 0.1518266 (103)\ttotal: 9.33s\tremaining: 8.28s\n",
            "140:\tlearn: 0.1442951\ttest: 0.1518200\tbest: 0.1514874 (124)\ttotal: 13.2s\tremaining: 5.53s\n",
            "175:\tlearn: 0.1381953\ttest: 0.1520130\tbest: 0.1514874 (124)\ttotal: 17s\tremaining: 2.32s\n",
            "199:\tlearn: 0.1342670\ttest: 0.1519438\tbest: 0.1514874 (124)\ttotal: 19.4s\tremaining: 0us\n",
            "\n",
            "bestTest = 0.1514873617\n",
            "bestIteration = 124\n",
            "\n",
            "Shrink model to first 125 iterations.\n",
            "Model is fitted: True\n",
            "Model params: {'iterations': 200, 'learning_rate': 0.15}\n"
          ]
        }
      ]
    },
    {
      "cell_type": "code",
      "source": [
        "model = CatBoostClassifier(\n",
        "    iterations=200,\n",
        "    random_seed=63,\n",
        "    learning_rate=0.15,\n",
        "    custom_loss = ['AUC', 'Accuracy']\n",
        ")\n",
        "\n",
        "model.fit(X_train, y_train,\n",
        "         cat_features=cat_features,\n",
        "         eval_set=(X_test, y_test),\n",
        "          verbose=35,\n",
        "          # plot=True\n",
        ")"
      ],
      "metadata": {
        "colab": {
          "base_uri": "https://localhost:8080/"
        },
        "id": "ZkLan7fv-rP6",
        "outputId": "88f439d5-0bf5-4f75-de21-ff0ac02e491c"
      },
      "execution_count": 20,
      "outputs": [
        {
          "output_type": "stream",
          "name": "stdout",
          "text": [
            "0:\tlearn: 0.5336131\ttest: 0.5326369\tbest: 0.5326369 (0)\ttotal: 25.5ms\tremaining: 5.07s\n",
            "35:\tlearn: 0.1674512\ttest: 0.1560540\tbest: 0.1560540 (35)\ttotal: 2.02s\tremaining: 9.2s\n",
            "70:\tlearn: 0.1589373\ttest: 0.1538040\tbest: 0.1536771 (68)\ttotal: 3.67s\tremaining: 6.67s\n",
            "105:\tlearn: 0.1514922\ttest: 0.1528275\tbest: 0.1527260 (101)\ttotal: 5.46s\tremaining: 4.84s\n",
            "140:\tlearn: 0.1447493\ttest: 0.1523771\tbest: 0.1523510 (138)\ttotal: 7.27s\tremaining: 3.04s\n",
            "175:\tlearn: 0.1380789\ttest: 0.1522657\tbest: 0.1522170 (145)\ttotal: 9.16s\tremaining: 1.25s\n",
            "199:\tlearn: 0.1334049\ttest: 0.1520542\tbest: 0.1520128 (197)\ttotal: 10.4s\tremaining: 0us\n",
            "\n",
            "bestTest = 0.1520128353\n",
            "bestIteration = 197\n",
            "\n",
            "Shrink model to first 198 iterations.\n"
          ]
        },
        {
          "output_type": "execute_result",
          "data": {
            "text/plain": [
              "<catboost.core.CatBoostClassifier at 0x7fee579dc810>"
            ]
          },
          "metadata": {},
          "execution_count": 20
        }
      ]
    },
    {
      "cell_type": "code",
      "source": [
        "# Cross Validation\n",
        "from catboost import cv"
      ],
      "metadata": {
        "id": "UpQKEVcLAvJo"
      },
      "execution_count": 21,
      "outputs": []
    },
    {
      "cell_type": "code",
      "source": [
        "params = {\n",
        "    'loss_function': 'Logloss',\n",
        "    'iterations': 150,\n",
        "    'custom_loss': 'AUC',\n",
        "    'random_seed': 63,\n",
        "    'learning_rate': 0.5\n",
        "}"
      ],
      "metadata": {
        "id": "ggT37YoiAx5R"
      },
      "execution_count": 22,
      "outputs": []
    },
    {
      "cell_type": "code",
      "source": [
        "cv_data = cv(\n",
        "    params=params,\n",
        "    pool=Pool(X, label=y, cat_features=cat_features),\n",
        "    fold_count=5, # Разбивка выборки на 5 кусочков\n",
        "    shuffle=True, # Перемешаем наши данные\n",
        "    partition_random_seed=0,\n",
        "    plot=False,\n",
        "    stratified=True, \n",
        "    verbose=50\n",
        ")"
      ],
      "metadata": {
        "colab": {
          "base_uri": "https://localhost:8080/"
        },
        "id": "xmT14hQ0A0r4",
        "outputId": "e8244722-965c-48c8-ba61-1db0263df38d"
      },
      "execution_count": 23,
      "outputs": [
        {
          "output_type": "stream",
          "name": "stdout",
          "text": [
            "Training on fold [0/5]\n",
            "0:\tlearn: 0.3049767\ttest: 0.3051158\tbest: 0.3051158 (0)\ttotal: 20.8ms\tremaining: 3.1s\n",
            "50:\tlearn: 0.1511745\ttest: 0.1623201\tbest: 0.1614486 (31)\ttotal: 1.76s\tremaining: 3.41s\n",
            "100:\tlearn: 0.1333563\ttest: 0.1658092\tbest: 0.1614486 (31)\ttotal: 3.48s\tremaining: 1.69s\n",
            "149:\tlearn: 0.1218840\ttest: 0.1681373\tbest: 0.1614486 (31)\ttotal: 5.09s\tremaining: 0us\n",
            "\n",
            "bestTest = 0.1614486451\n",
            "bestIteration = 31\n",
            "\n",
            "Training on fold [1/5]\n",
            "0:\tlearn: 0.3050046\ttest: 0.3051210\tbest: 0.3051210 (0)\ttotal: 25.9ms\tremaining: 3.86s\n",
            "50:\tlearn: 0.1538435\ttest: 0.1559173\tbest: 0.1557997 (49)\ttotal: 1.66s\tremaining: 3.23s\n",
            "100:\tlearn: 0.1392458\ttest: 0.1571019\tbest: 0.1551887 (56)\ttotal: 3.28s\tremaining: 1.59s\n",
            "149:\tlearn: 0.1280361\ttest: 0.1598259\tbest: 0.1551887 (56)\ttotal: 4.9s\tremaining: 0us\n",
            "\n",
            "bestTest = 0.1551886688\n",
            "bestIteration = 56\n",
            "\n",
            "Training on fold [2/5]\n",
            "0:\tlearn: 0.3050625\ttest: 0.3049698\tbest: 0.3049698 (0)\ttotal: 22.4ms\tremaining: 3.34s\n",
            "50:\tlearn: 0.1522242\ttest: 0.1607170\tbest: 0.1597839 (25)\ttotal: 1.64s\tremaining: 3.19s\n",
            "100:\tlearn: 0.1373862\ttest: 0.1618944\tbest: 0.1597839 (25)\ttotal: 3.29s\tremaining: 1.6s\n",
            "149:\tlearn: 0.1251717\ttest: 0.1618573\tbest: 0.1597839 (25)\ttotal: 4.9s\tremaining: 0us\n",
            "\n",
            "bestTest = 0.1597838545\n",
            "bestIteration = 25\n",
            "\n",
            "Training on fold [3/5]\n",
            "0:\tlearn: 0.3050791\ttest: 0.3049724\tbest: 0.3049724 (0)\ttotal: 23.1ms\tremaining: 3.44s\n",
            "50:\tlearn: 0.1552957\ttest: 0.1530050\tbest: 0.1528439 (43)\ttotal: 1.66s\tremaining: 3.23s\n",
            "100:\tlearn: 0.1405000\ttest: 0.1531091\tbest: 0.1523066 (56)\ttotal: 3.31s\tremaining: 1.61s\n",
            "149:\tlearn: 0.1274412\ttest: 0.1552916\tbest: 0.1523066 (56)\ttotal: 4.89s\tremaining: 0us\n",
            "\n",
            "bestTest = 0.1523066165\n",
            "bestIteration = 56\n",
            "\n",
            "Training on fold [4/5]\n",
            "0:\tlearn: 0.3050791\ttest: 0.3049724\tbest: 0.3049724 (0)\ttotal: 23.4ms\tremaining: 3.48s\n",
            "50:\tlearn: 0.1531690\ttest: 0.1600361\tbest: 0.1577738 (30)\ttotal: 1.63s\tremaining: 3.17s\n",
            "100:\tlearn: 0.1363624\ttest: 0.1629565\tbest: 0.1577738 (30)\ttotal: 3.3s\tremaining: 1.6s\n",
            "149:\tlearn: 0.1244309\ttest: 0.1653341\tbest: 0.1577738 (30)\ttotal: 4.88s\tremaining: 0us\n",
            "\n",
            "bestTest = 0.1577738401\n",
            "bestIteration = 30\n",
            "\n"
          ]
        }
      ]
    },
    {
      "cell_type": "code",
      "source": [
        "# early_stopping_rounds\n",
        "model_with_early_stop = CatBoostClassifier(\n",
        "    iterations=200,\n",
        "    random_seed=63,\n",
        "    learning_rate=0.5,\n",
        "    early_stopping_rounds=20\n",
        ")\n",
        "\n",
        "model_with_early_stop.fit(\n",
        "    X_train, y_train,\n",
        "    cat_features=cat_features,\n",
        "    eval_set=(X_test, y_test),\n",
        "    verbose=50,\n",
        "    plot=False\n",
        ")"
      ],
      "metadata": {
        "colab": {
          "base_uri": "https://localhost:8080/"
        },
        "id": "JafdDl9YBW0w",
        "outputId": "245263a7-bf1b-4318-f99a-7cdcb2d6ce74"
      },
      "execution_count": 24,
      "outputs": [
        {
          "output_type": "stream",
          "name": "stdout",
          "text": [
            "0:\tlearn: 0.3084708\ttest: 0.3052212\tbest: 0.3052212 (0)\ttotal: 20.1ms\tremaining: 4s\n",
            "Stopped by overfitting detector  (20 iterations wait)\n",
            "\n",
            "bestTest = 0.1556165566\n",
            "bestIteration = 28\n",
            "\n",
            "Shrink model to first 29 iterations.\n"
          ]
        },
        {
          "output_type": "execute_result",
          "data": {
            "text/plain": [
              "<catboost.core.CatBoostClassifier at 0x7fee579dce10>"
            ]
          },
          "metadata": {},
          "execution_count": 24
        }
      ]
    },
    {
      "cell_type": "code",
      "source": [
        "# ROC кривая\n",
        "from catboost.utils import get_roc_curve\n",
        "import sklearn\n",
        "from sklearn import metrics"
      ],
      "metadata": {
        "id": "mIxZ__85BywA"
      },
      "execution_count": 25,
      "outputs": []
    },
    {
      "cell_type": "code",
      "source": [
        "eval_pool = Pool(X_test, y_test, cat_features=cat_features)\n",
        "curve = get_roc_curve(model, eval_pool)\n",
        "(fpr, tpr, thresholds)=curve\n",
        "roc_auc=sklearn.metrics.auc(fpr, tpr)"
      ],
      "metadata": {
        "id": "hKozwsboB3lQ"
      },
      "execution_count": 26,
      "outputs": []
    },
    {
      "cell_type": "markdown",
      "source": [
        "Площадь под ROC кривой называется AUC, чем больше площадь AUC, тем лучше, тем мы ближе к нашей идеальной точке."
      ],
      "metadata": {
        "id": "EH-aDsizCWMn"
      }
    },
    {
      "cell_type": "code",
      "source": [
        "import matplotlib.pyplot as plt\n",
        "\n",
        "plt.figure(figsize=(10, 5))\n",
        "lw=2\n",
        "\n",
        "plt.plot(fpr, tpr, color='darkorange',\n",
        "         lw=lw, label='ROC curve (area = %0.2f)' % roc_auc, alpha=0.5)\n",
        "\n",
        "plt.plot([0, 1], [0, 1], color='navy', lw=lw, linestyle='--', alpha=0.5)\n",
        "\n",
        "plt.xlim([0.0, 1.0])\n",
        "plt.ylim([0.0, 1.05])\n",
        "plt.xticks(fontsize=16)\n",
        "plt.yticks(fontsize=16)\n",
        "plt.grid(True)\n",
        "plt.xlabel('False Positive Rate', fontsize=16)\n",
        "plt.ylabel('True Positive Rate', fontsize=16)\n",
        "plt.title('Receiver operating characteristic', fontsize=20)\n",
        "plt.legend(loc=\"lower right\", fontsize=16)\n",
        "plt.show()"
      ],
      "metadata": {
        "colab": {
          "base_uri": "https://localhost:8080/",
          "height": 365
        },
        "id": "CKnRJFdsB924",
        "outputId": "cea67c7c-f84c-4e9b-f025-1f50a18a547f"
      },
      "execution_count": 27,
      "outputs": [
        {
          "output_type": "display_data",
          "data": {
            "image/png": "[encoded data removed]",
            "text/plain": [
              "<Figure size 720x360 with 1 Axes>"
            ]
          },
          "metadata": {
            "needs_background": "light"
          }
        }
      ]
    },
    {
      "cell_type": "code",
      "source": [
        "# FPR, FNR и THRESHOLD\n",
        "from catboost.utils import get_fpr_curve\n",
        "from catboost.utils import get_fnr_curve"
      ],
      "metadata": {
        "id": "5ioDEPBLCc5P"
      },
      "execution_count": 28,
      "outputs": []
    },
    {
      "cell_type": "code",
      "source": [
        "(thresholds, fpr) = get_fpr_curve(curve=curve)\n",
        "(thresholds, fnr) = get_fnr_curve(curve=curve)"
      ],
      "metadata": {
        "id": "GZF3AnP3Cf53"
      },
      "execution_count": 29,
      "outputs": []
    },
    {
      "cell_type": "code",
      "source": [
        "plt.figure(figsize=(10, 5))\n",
        "lw=2\n",
        "\n",
        "plt.plot(thresholds, fpr, color='blue', lw=lw, label='FPR', alpha=0.5)\n",
        "plt.plot(thresholds, fpr, color='green', lw=lw, label='FNR', alpha=0.5)\n",
        "\n",
        "plt.xlim([0.0, 1.0])\n",
        "plt.ylim([0.0, 1.05])\n",
        "plt.xticks(fontsize=16)\n",
        "plt.yticks(fontsize=16)\n",
        "plt.grid(True)\n",
        "plt.xlabel('Thresholds', fontsize=16)\n",
        "plt.ylabel('Error rate', fontsize=16)\n",
        "plt.title('FPR-FNR curves', fontsize=16)\n",
        "plt.legend(loc='lower left', fontsize=16)\n",
        "plt.show()"
      ],
      "metadata": {
        "colab": {
          "base_uri": "https://localhost:8080/",
          "height": 362
        },
        "id": "Vm8zQKoQChpH",
        "outputId": "c8562c54-36ea-4cf8-dc17-1d5bb817f343"
      },
      "execution_count": 30,
      "outputs": [
        {
          "output_type": "display_data",
          "data": {
            "image/png": "[encoded data removed]",
            "text/plain": [
              "<Figure size 720x360 with 1 Axes>"
            ]
          },
          "metadata": {
            "needs_background": "light"
          }
        }
      ]
    },
    {
      "cell_type": "code",
      "source": [
        "# Snapshot\n",
        "# model = CatBoostClassifier(\n",
        "#     iterations=150,\n",
        "#     save_snapshot=True,\n",
        "#     snapshot_file='shapshot.bkp', # В данный файл будем писать наш прогресс\n",
        "#     snapshot_interval=1, # Интервал с которым необходимо делать снэпшот\n",
        "#     random_seed=42\n",
        "# )\n",
        "\n",
        "# model.fit(\n",
        "#     X_train, y_train,\n",
        "#     eval_set=(X_test, y_test),\n",
        "#     cat_features=cat_features,\n",
        "#     verbose=50\n",
        "# )"
      ],
      "metadata": {
        "id": "tGsCRAJaFJ7G"
      },
      "execution_count": 31,
      "outputs": []
    },
    {
      "cell_type": "code",
      "source": [
        "# predict_proba\n",
        "print(model.predict_proba(X_test))"
      ],
      "metadata": {
        "colab": {
          "base_uri": "https://localhost:8080/"
        },
        "id": "yd04xry8FfQG",
        "outputId": "7bf2f86f-4d23-40b6-e4f5-2a3158342d0c"
      },
      "execution_count": 32,
      "outputs": [
        {
          "output_type": "stream",
          "name": "stdout",
          "text": [
            "[[0.012  0.988 ]\n",
            " [0.011  0.989 ]\n",
            " [0.007  0.993 ]\n",
            " ...\n",
            " [0.079  0.921 ]\n",
            " [0.0036 0.9964]\n",
            " [0.009  0.991 ]]\n"
          ]
        }
      ]
    },
    {
      "cell_type": "code",
      "source": [
        "# predict\n",
        "print(model.predict(X_test))"
      ],
      "metadata": {
        "colab": {
          "base_uri": "https://localhost:8080/"
        },
        "id": "SFTkUd_cFl--",
        "outputId": "20ece599-a3ce-44ce-fcdf-560918091daa"
      },
      "execution_count": 33,
      "outputs": [
        {
          "output_type": "stream",
          "name": "stdout",
          "text": [
            "[1 1 1 ... 1 1 1]\n"
          ]
        }
      ]
    },
    {
      "cell_type": "code",
      "source": [
        "# get_feature_importance()\n",
        "model.get_feature_importance(prettified=True)"
      ],
      "metadata": {
        "colab": {
          "base_uri": "https://localhost:8080/",
          "height": 332
        },
        "id": "XCaYUt7WGHZm",
        "outputId": "e1532906-6810-4635-80a1-016bf5789586"
      },
      "execution_count": 34,
      "outputs": [
        {
          "output_type": "execute_result",
          "data": {
            "text/html": [
              "\n",
              "  <div id=\"df-d79f5fb1-8ae3-4d88-8b20-673cef73df38\">\n",
              "    <div class=\"colab-df-container\">\n",
              "      <div>\n",
              "<style scoped>\n",
              "    .dataframe tbody tr th:only-of-type {\n",
              "        vertical-align: middle;\n",
              "    }\n",
              "\n",
              "    .dataframe tbody tr th {\n",
              "        vertical-align: top;\n",
              "    }\n",
              "\n",
              "    .dataframe thead th {\n",
              "        text-align: right;\n",
              "    }\n",
              "</style>\n",
              "<table border=\"1\" class=\"dataframe\">\n",
              "  <thead>\n",
              "    <tr style=\"text-align: right;\">\n",
              "      <th></th>\n",
              "      <th>Feature Id</th>\n",
              "      <th>Importances</th>\n",
              "    </tr>\n",
              "  </thead>\n",
              "  <tbody>\n",
              "    <tr>\n",
              "      <th>0</th>\n",
              "      <td>RESOURCE</td>\n",
              "      <td>19.725472</td>\n",
              "    </tr>\n",
              "    <tr>\n",
              "      <th>1</th>\n",
              "      <td>ROLE_DEPTNAME</td>\n",
              "      <td>18.964845</td>\n",
              "    </tr>\n",
              "    <tr>\n",
              "      <th>2</th>\n",
              "      <td>MGR_ID</td>\n",
              "      <td>13.535913</td>\n",
              "    </tr>\n",
              "    <tr>\n",
              "      <th>3</th>\n",
              "      <td>ROLE_ROLLUP_2</td>\n",
              "      <td>12.422688</td>\n",
              "    </tr>\n",
              "    <tr>\n",
              "      <th>4</th>\n",
              "      <td>ROLE_FAMILY_DESC</td>\n",
              "      <td>10.734253</td>\n",
              "    </tr>\n",
              "    <tr>\n",
              "      <th>5</th>\n",
              "      <td>ROLE_ROLLUP_1</td>\n",
              "      <td>7.109167</td>\n",
              "    </tr>\n",
              "    <tr>\n",
              "      <th>6</th>\n",
              "      <td>ROLE_FAMILY</td>\n",
              "      <td>6.828525</td>\n",
              "    </tr>\n",
              "    <tr>\n",
              "      <th>7</th>\n",
              "      <td>ROLE_TITLE</td>\n",
              "      <td>6.319407</td>\n",
              "    </tr>\n",
              "    <tr>\n",
              "      <th>8</th>\n",
              "      <td>ROLE_CODE</td>\n",
              "      <td>4.359728</td>\n",
              "    </tr>\n",
              "  </tbody>\n",
              "</table>\n",
              "</div>\n",
              "      <button class=\"colab-df-convert\" onclick=\"convertToInteractive('df-d79f5fb1-8ae3-4d88-8b20-673cef73df38')\"\n",
              "              title=\"Convert this dataframe to an interactive table.\"\n",
              "              style=\"display:none;\">\n",
              "        \n",
              "  <svg xmlns=\"http://www.w3.org/2000/svg\" height=\"24px\"viewBox=\"0 0 24 24\"\n",
              "       width=\"24px\">\n",
              "    <path d=\"M0 0h24v24H0V0z\" fill=\"none\"/>\n",
              "    <path d=\"M18.56 5.44l.94 2.06.94-2.06 2.06-.94-2.06-.94-.94-2.06-.94 2.06-2.06.94zm-11 1L8.5 8.5l.94-2.06 2.06-.94-2.06-.94L8.5 2.5l-.94 2.06-2.06.94zm10 10l.94 2.06.94-2.06 2.06-.94-2.06-.94-.94-2.06-.94 2.06-2.06.94z\"/><path d=\"M17.41 7.96l-1.37-1.37c-.4-.4-.92-.59-1.43-.59-.52 0-1.04.2-1.43.59L10.3 9.45l-7.72 7.72c-.78.78-.78 2.05 0 2.83L4 21.41c.39.39.9.59 1.41.59.51 0 1.02-.2 1.41-.59l7.78-7.78 2.81-2.81c.8-.78.8-2.07 0-2.86zM5.41 20L4 18.59l7.72-7.72 1.47 1.35L5.41 20z\"/>\n",
              "  </svg>\n",
              "      </button>\n",
              "      \n",
              "  <style>\n",
              "    .colab-df-container {\n",
              "      display:flex;\n",
              "      flex-wrap:wrap;\n",
              "      gap: 12px;\n",
              "    }\n",
              "\n",
              "    .colab-df-convert {\n",
              "      background-color: #E8F0FE;\n",
              "      border: none;\n",
              "      border-radius: 50%;\n",
              "      cursor: pointer;\n",
              "      display: none;\n",
              "      fill: #1967D2;\n",
              "      height: 32px;\n",
              "      padding: 0 0 0 0;\n",
              "      width: 32px;\n",
              "    }\n",
              "\n",
              "    .colab-df-convert:hover {\n",
              "      background-color: #E2EBFA;\n",
              "      box-shadow: 0px 1px 2px rgba(60, 64, 67, 0.3), 0px 1px 3px 1px rgba(60, 64, 67, 0.15);\n",
              "      fill: #174EA6;\n",
              "    }\n",
              "\n",
              "    [theme=dark] .colab-df-convert {\n",
              "      background-color: #3B4455;\n",
              "      fill: #D2E3FC;\n",
              "    }\n",
              "\n",
              "    [theme=dark] .colab-df-convert:hover {\n",
              "      background-color: #434B5C;\n",
              "      box-shadow: 0px 1px 3px 1px rgba(0, 0, 0, 0.15);\n",
              "      filter: drop-shadow(0px 1px 2px rgba(0, 0, 0, 0.3));\n",
              "      fill: #FFFFFF;\n",
              "    }\n",
              "  </style>\n",
              "\n",
              "      <script>\n",
              "        const buttonEl =\n",
              "          document.querySelector('#df-d79f5fb1-8ae3-4d88-8b20-673cef73df38 button.colab-df-convert');\n",
              "        buttonEl.style.display =\n",
              "          google.colab.kernel.accessAllowed ? 'block' : 'none';\n",
              "\n",
              "        async function convertToInteractive(key) {\n",
              "          const element = document.querySelector('#df-d79f5fb1-8ae3-4d88-8b20-673cef73df38');\n",
              "          const dataTable =\n",
              "            await google.colab.kernel.invokeFunction('convertToInteractive',\n",
              "                                                     [key], {});\n",
              "          if (!dataTable) return;\n",
              "\n",
              "          const docLinkHtml = 'Like what you see? Visit the ' +\n",
              "            '<a target=\"_blank\" href=https://colab.research.google.com/notebooks/data_table.ipynb>data table notebook</a>'\n",
              "            + ' to learn more about interactive tables.';\n",
              "          element.innerHTML = '';\n",
              "          dataTable['output_type'] = 'display_data';\n",
              "          await google.colab.output.renderOutput(dataTable, element);\n",
              "          const docLink = document.createElement('div');\n",
              "          docLink.innerHTML = docLinkHtml;\n",
              "          element.appendChild(docLink);\n",
              "        }\n",
              "      </script>\n",
              "    </div>\n",
              "  </div>\n",
              "  "
            ],
            "text/plain": [
              "         Feature Id  Importances\n",
              "0          RESOURCE    19.725472\n",
              "1     ROLE_DEPTNAME    18.964845\n",
              "2            MGR_ID    13.535913\n",
              "3     ROLE_ROLLUP_2    12.422688\n",
              "4  ROLE_FAMILY_DESC    10.734253\n",
              "5     ROLE_ROLLUP_1     7.109167\n",
              "6       ROLE_FAMILY     6.828525\n",
              "7        ROLE_TITLE     6.319407\n",
              "8         ROLE_CODE     4.359728"
            ]
          },
          "metadata": {},
          "execution_count": 34
        }
      ]
    },
    {
      "cell_type": "code",
      "source": [
        "# Feature Evaluation\n",
        "from catboost.eval.catboost_evaluation import *"
      ],
      "metadata": {
        "id": "UrSh5ydpG559"
      },
      "execution_count": 35,
      "outputs": []
    },
    {
      "cell_type": "code",
      "source": [
        "learn_params= {\n",
        "    'iterations': 50, \n",
        "    'learning_rate': 0.5,\n",
        "    'random_seed':0,\n",
        "    'verbose': False,\n",
        "    'loss_function': 'Logloss',\n",
        "    'boosting_type': 'Plain'\n",
        "}\n",
        "\n",
        "evaluator = CatboostEvaluation(\n",
        "    'amazon/train.tsv',\n",
        "    fold_size=10000,\n",
        "    fold_count=20,\n",
        "    column_description='amazon/train.cd',\n",
        "    partition_random_seed=0\n",
        ")\n",
        "\n",
        "result=evaluator.eval_features(learn_config=learn_params,\n",
        "                              eval_metrics=['Logloss', 'Accuracy'],\n",
        "                              features_to_eval=[1, 3, 8])"
      ],
      "metadata": {
        "id": "TvXzs9CVG9CF"
      },
      "execution_count": 36,
      "outputs": []
    },
    {
      "cell_type": "code",
      "source": [
        "from catboost.eval.evaluation_result import *"
      ],
      "metadata": {
        "id": "ZN_KjsvJHAUl"
      },
      "execution_count": 37,
      "outputs": []
    },
    {
      "cell_type": "code",
      "source": [
        "logloss_result=result.get_metric_results('Logloss')\n",
        "logloss_result.get_baseline_comparison(\n",
        "    ScoreConfig(ScoreType.Rel, overfit_iterations_info=False)\n",
        ")"
      ],
      "metadata": {
        "colab": {
          "base_uri": "https://localhost:8080/",
          "height": 143
        },
        "id": "jBORxjzIHECF",
        "outputId": "31f650fe-23f9-4d64-e095-d9b51f264050"
      },
      "execution_count": 38,
      "outputs": [
        {
          "output_type": "execute_result",
          "data": {
            "text/html": [
              "\n",
              "  <div id=\"df-67b7c1ab-96bd-4a2c-8087-66f2ffd5629d\">\n",
              "    <div class=\"colab-df-container\">\n",
              "      <div>\n",
              "<style scoped>\n",
              "    .dataframe tbody tr th:only-of-type {\n",
              "        vertical-align: middle;\n",
              "    }\n",
              "\n",
              "    .dataframe tbody tr th {\n",
              "        vertical-align: top;\n",
              "    }\n",
              "\n",
              "    .dataframe thead th {\n",
              "        text-align: right;\n",
              "    }\n",
              "</style>\n",
              "<table border=\"1\" class=\"dataframe\">\n",
              "  <thead>\n",
              "    <tr style=\"text-align: right;\">\n",
              "      <th></th>\n",
              "      <th>PValue</th>\n",
              "      <th>Score</th>\n",
              "      <th>Quantile 0.005</th>\n",
              "      <th>Quantile 0.995</th>\n",
              "      <th>Decision</th>\n",
              "    </tr>\n",
              "  </thead>\n",
              "  <tbody>\n",
              "    <tr>\n",
              "      <th>Features: 1</th>\n",
              "      <td>0.000089</td>\n",
              "      <td>5.782096</td>\n",
              "      <td>5.408473</td>\n",
              "      <td>6.175224</td>\n",
              "      <td>GOOD</td>\n",
              "    </tr>\n",
              "    <tr>\n",
              "      <th>Features: 3</th>\n",
              "      <td>0.025094</td>\n",
              "      <td>0.308623</td>\n",
              "      <td>0.031600</td>\n",
              "      <td>0.620381</td>\n",
              "      <td>UNKNOWN</td>\n",
              "    </tr>\n",
              "    <tr>\n",
              "      <th>Features: 8</th>\n",
              "      <td>0.204330</td>\n",
              "      <td>-0.165346</td>\n",
              "      <td>-0.487254</td>\n",
              "      <td>0.167278</td>\n",
              "      <td>UNKNOWN</td>\n",
              "    </tr>\n",
              "  </tbody>\n",
              "</table>\n",
              "</div>\n",
              "      <button class=\"colab-df-convert\" onclick=\"convertToInteractive('df-67b7c1ab-96bd-4a2c-8087-66f2ffd5629d')\"\n",
              "              title=\"Convert this dataframe to an interactive table.\"\n",
              "              style=\"display:none;\">\n",
              "        \n",
              "  <svg xmlns=\"http://www.w3.org/2000/svg\" height=\"24px\"viewBox=\"0 0 24 24\"\n",
              "       width=\"24px\">\n",
              "    <path d=\"M0 0h24v24H0V0z\" fill=\"none\"/>\n",
              "    <path d=\"M18.56 5.44l.94 2.06.94-2.06 2.06-.94-2.06-.94-.94-2.06-.94 2.06-2.06.94zm-11 1L8.5 8.5l.94-2.06 2.06-.94-2.06-.94L8.5 2.5l-.94 2.06-2.06.94zm10 10l.94 2.06.94-2.06 2.06-.94-2.06-.94-.94-2.06-.94 2.06-2.06.94z\"/><path d=\"M17.41 7.96l-1.37-1.37c-.4-.4-.92-.59-1.43-.59-.52 0-1.04.2-1.43.59L10.3 9.45l-7.72 7.72c-.78.78-.78 2.05 0 2.83L4 21.41c.39.39.9.59 1.41.59.51 0 1.02-.2 1.41-.59l7.78-7.78 2.81-2.81c.8-.78.8-2.07 0-2.86zM5.41 20L4 18.59l7.72-7.72 1.47 1.35L5.41 20z\"/>\n",
              "  </svg>\n",
              "      </button>\n",
              "      \n",
              "  <style>\n",
              "    .colab-df-container {\n",
              "      display:flex;\n",
              "      flex-wrap:wrap;\n",
              "      gap: 12px;\n",
              "    }\n",
              "\n",
              "    .colab-df-convert {\n",
              "      background-color: #E8F0FE;\n",
              "      border: none;\n",
              "      border-radius: 50%;\n",
              "      cursor: pointer;\n",
              "      display: none;\n",
              "      fill: #1967D2;\n",
              "      height: 32px;\n",
              "      padding: 0 0 0 0;\n",
              "      width: 32px;\n",
              "    }\n",
              "\n",
              "    .colab-df-convert:hover {\n",
              "      background-color: #E2EBFA;\n",
              "      box-shadow: 0px 1px 2px rgba(60, 64, 67, 0.3), 0px 1px 3px 1px rgba(60, 64, 67, 0.15);\n",
              "      fill: #174EA6;\n",
              "    }\n",
              "\n",
              "    [theme=dark] .colab-df-convert {\n",
              "      background-color: #3B4455;\n",
              "      fill: #D2E3FC;\n",
              "    }\n",
              "\n",
              "    [theme=dark] .colab-df-convert:hover {\n",
              "      background-color: #434B5C;\n",
              "      box-shadow: 0px 1px 3px 1px rgba(0, 0, 0, 0.15);\n",
              "      filter: drop-shadow(0px 1px 2px rgba(0, 0, 0, 0.3));\n",
              "      fill: #FFFFFF;\n",
              "    }\n",
              "  </style>\n",
              "\n",
              "      <script>\n",
              "        const buttonEl =\n",
              "          document.querySelector('#df-67b7c1ab-96bd-4a2c-8087-66f2ffd5629d button.colab-df-convert');\n",
              "        buttonEl.style.display =\n",
              "          google.colab.kernel.accessAllowed ? 'block' : 'none';\n",
              "\n",
              "        async function convertToInteractive(key) {\n",
              "          const element = document.querySelector('#df-67b7c1ab-96bd-4a2c-8087-66f2ffd5629d');\n",
              "          const dataTable =\n",
              "            await google.colab.kernel.invokeFunction('convertToInteractive',\n",
              "                                                     [key], {});\n",
              "          if (!dataTable) return;\n",
              "\n",
              "          const docLinkHtml = 'Like what you see? Visit the ' +\n",
              "            '<a target=\"_blank\" href=https://colab.research.google.com/notebooks/data_table.ipynb>data table notebook</a>'\n",
              "            + ' to learn more about interactive tables.';\n",
              "          element.innerHTML = '';\n",
              "          dataTable['output_type'] = 'display_data';\n",
              "          await google.colab.output.renderOutput(dataTable, element);\n",
              "          const docLink = document.createElement('div');\n",
              "          docLink.innerHTML = docLinkHtml;\n",
              "          element.appendChild(docLink);\n",
              "        }\n",
              "      </script>\n",
              "    </div>\n",
              "  </div>\n",
              "  "
            ],
            "text/plain": [
              "               PValue     Score  Quantile 0.005  Quantile 0.995 Decision\n",
              "Features: 1  0.000089  5.782096        5.408473        6.175224     GOOD\n",
              "Features: 3  0.025094  0.308623        0.031600        0.620381  UNKNOWN\n",
              "Features: 8  0.204330 -0.165346       -0.487254        0.167278  UNKNOWN"
            ]
          },
          "metadata": {},
          "execution_count": 38
        }
      ]
    },
    {
      "cell_type": "code",
      "source": [
        "# save model\n",
        "best_model = CatBoostClassifier(iterations=100)\n",
        "best_model = model.fit(\n",
        "    X_train, y_train,\n",
        "    eval_set=(X_test, y_test),\n",
        "    cat_features=cat_features,\n",
        "    verbose=False\n",
        ")\n",
        "\n",
        "best_model.save_model('catboost_model.json')\n",
        "best_model.save_model('catboost_model.bin')"
      ],
      "metadata": {
        "id": "9uSrDHDWHmJt"
      },
      "execution_count": 39,
      "outputs": []
    },
    {
      "cell_type": "code",
      "source": [
        "best_model.load_model('catboost_model.bin')\n",
        "print(best_model.get_params())\n",
        "print(best_model.random_seed_)"
      ],
      "metadata": {
        "colab": {
          "base_uri": "https://localhost:8080/"
        },
        "id": "I3OIbLwKJ_59",
        "outputId": "bed082a0-9bf4-4c86-be20-85948ca260f8"
      },
      "execution_count": 40,
      "outputs": [
        {
          "output_type": "stream",
          "name": "stdout",
          "text": [
            "{'iterations': 200, 'learning_rate': 0.15, 'random_seed': 63, 'custom_loss': ['AUC', 'Accuracy'], 'custom_metric': ['AUC', 'Accuracy'], 'loss_function': 'Logloss', 'verbose': 0}\n",
            "63\n"
          ]
        }
      ]
    }
  ]
}