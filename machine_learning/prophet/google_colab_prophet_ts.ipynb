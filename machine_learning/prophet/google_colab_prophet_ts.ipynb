{
  "nbformat": 4,
  "nbformat_minor": 0,
  "metadata": {
    "colab": {
      "name": "google_colab_prophet_ts.ipynb",
      "provenance": [],
      "collapsed_sections": []
    },
    "kernelspec": {
      "name": "python3",
      "display_name": "Python 3"
    },
    "language_info": {
      "name": "python"
    }
  },
  "cells": [
    {
      "cell_type": "markdown",
      "metadata": {
        "id": "v_n2xuaOZDEq"
      },
      "source": [
        "# Анализ временных рядов с использованием библиотеки Prophet"
      ]
    },
    {
      "cell_type": "code",
      "metadata": {
        "id": "9fGKDz7ywK47"
      },
      "source": [
        "import numpy as np\n",
        "import pandas as pd\n",
        "import copy\n",
        "from datetime import datetime\n",
        "import matplotlib.pyplot as plt\n",
        "plt.style.use('fivethirtyeight')\n",
        "%matplotlib inline"
      ],
      "execution_count": 1,
      "outputs": []
    },
    {
      "cell_type": "code",
      "metadata": {
        "id": "1EZ8TRla1-SB"
      },
      "source": [
        "%%capture\n",
        "!pip install fbprophet"
      ],
      "execution_count": 2,
      "outputs": []
    },
    {
      "cell_type": "code",
      "metadata": {
        "id": "EKRkAiEw2FBR"
      },
      "source": [
        "from fbprophet import Prophet"
      ],
      "execution_count": 3,
      "outputs": []
    },
    {
      "cell_type": "code",
      "metadata": {
        "id": "on3unBhP9NAB"
      },
      "source": [
        "parser = lambda dt: datetime.strptime(dt, '%Y-%m-%d')"
      ],
      "execution_count": 4,
      "outputs": []
    },
    {
      "cell_type": "code",
      "metadata": {
        "id": "pxA8NhUswkTx"
      },
      "source": [
        "df_train = pd.read_csv('/content/drive/MyDrive/dataset/AAPL_01_2013_12_2017.csv',parse_dates=['Date'], date_parser=parser)\n",
        "df_test = pd.read_csv('/content/drive/MyDrive/dataset/AAPL_01_2018.csv',parse_dates=['Date'], date_parser=parser)"
      ],
      "execution_count": 5,
      "outputs": []
    },
    {
      "cell_type": "markdown",
      "metadata": {
        "id": "8OybWmNV4tpq"
      },
      "source": [
        "### Эксперимент 1"
      ]
    },
    {
      "cell_type": "code",
      "metadata": {
        "id": "Bo0EvvuCxtrR"
      },
      "source": [
        "df_ts = copy.deepcopy(df_train)[['Date','Open']]"
      ],
      "execution_count": 6,
      "outputs": []
    },
    {
      "cell_type": "code",
      "metadata": {
        "id": "6X9wJf-IztSQ"
      },
      "source": [
        "columns_name = ['ds','y']\n",
        "df_ts.columns = columns_name"
      ],
      "execution_count": 7,
      "outputs": []
    },
    {
      "cell_type": "code",
      "metadata": {
        "id": "7BsujOs0z-0x"
      },
      "source": [
        "df_ts.reset_index(drop=True, inplace=True)"
      ],
      "execution_count": 8,
      "outputs": []
    },
    {
      "cell_type": "code",
      "metadata": {
        "colab": {
          "base_uri": "https://localhost:8080/",
          "height": 204
        },
        "id": "Vcg3krLCzygI",
        "outputId": "20e51eb1-2f59-4758-87a6-56bdab4cf341"
      },
      "source": [
        "df_ts.tail()"
      ],
      "execution_count": 9,
      "outputs": [
        {
          "output_type": "execute_result",
          "data": {
            "text/html": [
              "<div>\n",
              "<style scoped>\n",
              "    .dataframe tbody tr th:only-of-type {\n",
              "        vertical-align: middle;\n",
              "    }\n",
              "\n",
              "    .dataframe tbody tr th {\n",
              "        vertical-align: top;\n",
              "    }\n",
              "\n",
              "    .dataframe thead th {\n",
              "        text-align: right;\n",
              "    }\n",
              "</style>\n",
              "<table border=\"1\" class=\"dataframe\">\n",
              "  <thead>\n",
              "    <tr style=\"text-align: right;\">\n",
              "      <th></th>\n",
              "      <th>ds</th>\n",
              "      <th>y</th>\n",
              "    </tr>\n",
              "  </thead>\n",
              "  <tbody>\n",
              "    <tr>\n",
              "      <th>1254</th>\n",
              "      <td>2017-12-22</td>\n",
              "      <td>43.669998</td>\n",
              "    </tr>\n",
              "    <tr>\n",
              "      <th>1255</th>\n",
              "      <td>2017-12-26</td>\n",
              "      <td>42.700001</td>\n",
              "    </tr>\n",
              "    <tr>\n",
              "      <th>1256</th>\n",
              "      <td>2017-12-27</td>\n",
              "      <td>42.525002</td>\n",
              "    </tr>\n",
              "    <tr>\n",
              "      <th>1257</th>\n",
              "      <td>2017-12-28</td>\n",
              "      <td>42.750000</td>\n",
              "    </tr>\n",
              "    <tr>\n",
              "      <th>1258</th>\n",
              "      <td>2017-12-29</td>\n",
              "      <td>42.630001</td>\n",
              "    </tr>\n",
              "  </tbody>\n",
              "</table>\n",
              "</div>"
            ],
            "text/plain": [
              "             ds          y\n",
              "1254 2017-12-22  43.669998\n",
              "1255 2017-12-26  42.700001\n",
              "1256 2017-12-27  42.525002\n",
              "1257 2017-12-28  42.750000\n",
              "1258 2017-12-29  42.630001"
            ]
          },
          "metadata": {},
          "execution_count": 9
        }
      ]
    },
    {
      "cell_type": "code",
      "metadata": {
        "colab": {
          "base_uri": "https://localhost:8080/"
        },
        "id": "gHcBOjdAz1XQ",
        "outputId": "315a8e77-faf2-416c-d672-3c278a3dab71"
      },
      "source": [
        "df_ts.shape"
      ],
      "execution_count": 10,
      "outputs": [
        {
          "output_type": "execute_result",
          "data": {
            "text/plain": [
              "(1259, 2)"
            ]
          },
          "metadata": {},
          "execution_count": 10
        }
      ]
    },
    {
      "cell_type": "code",
      "metadata": {
        "colab": {
          "base_uri": "https://localhost:8080/",
          "height": 405
        },
        "id": "Vd413GlXC5hq",
        "outputId": "cf0bda01-a360-4112-e81d-c57cda7adbfb"
      },
      "source": [
        "plt.figure(figsize=(10,6))\n",
        "plt.plot(df_ts.y,color='blue', label='Фактические значения')\n",
        "plt.title('Цены на акции')\n",
        "plt.xlabel('Date')\n",
        "plt.ylabel('Apple Stock Price')\n",
        "plt.legend()\n",
        "plt.show()"
      ],
      "execution_count": 18,
      "outputs": [
        {
          "output_type": "display_data",
          "data": {
            "image/png": "[encoded data removed]",
            "text/plain": [
              "<Figure size 720x432 with 1 Axes>"
            ]
          },
          "metadata": {
            "needs_background": "light"
          }
        }
      ]
    },
    {
      "cell_type": "code",
      "metadata": {
        "colab": {
          "base_uri": "https://localhost:8080/"
        },
        "id": "LXWGKrmW2piJ",
        "outputId": "85bf8d89-4b26-44bd-e4b4-6f6deee2262e"
      },
      "source": [
        "m = Prophet(daily_seasonality=True, \n",
        "            yearly_seasonality=True, \n",
        "            weekly_seasonality=True, )\n",
        "m.fit(df_ts)\n",
        "future = m.make_future_dataframe(periods=33,freq='D')\n",
        "forecast = m.predict(future)"
      ],
      "execution_count": 11,
      "outputs": [
        {
          "output_type": "stream",
          "text": [
            "INFO:numexpr.utils:NumExpr defaulting to 2 threads.\n"
          ],
          "name": "stderr"
        }
      ]
    },
    {
      "cell_type": "code",
      "metadata": {
        "id": "xjAkqXrJ3Opv"
      },
      "source": [
        "df_pred = forecast[['ds','yhat']].tail(35)"
      ],
      "execution_count": 12,
      "outputs": []
    },
    {
      "cell_type": "code",
      "metadata": {
        "id": "nUUsWD5u7Dm4"
      },
      "source": [
        "df_final = df_pred.merge(df_test, left_on='ds',right_on='Date')"
      ],
      "execution_count": 13,
      "outputs": []
    },
    {
      "cell_type": "code",
      "metadata": {
        "id": "7Hp3Oyh68q1J"
      },
      "source": [
        "df_graph = df_final[['ds','yhat','Open']]"
      ],
      "execution_count": 14,
      "outputs": []
    },
    {
      "cell_type": "code",
      "metadata": {
        "id": "lXTFPavp-N_a"
      },
      "source": [
        "columns_name = ['ds','pred','fact']\n",
        "df_graph.columns = columns_name"
      ],
      "execution_count": 15,
      "outputs": []
    },
    {
      "cell_type": "code",
      "metadata": {
        "colab": {
          "base_uri": "https://localhost:8080/",
          "height": 204
        },
        "id": "TPV5kS70-w_C",
        "outputId": "8a125b1a-b157-4148-b49e-f3504ff986c8"
      },
      "source": [
        "df_graph.head()"
      ],
      "execution_count": 16,
      "outputs": [
        {
          "output_type": "execute_result",
          "data": {
            "text/html": [
              "<div>\n",
              "<style scoped>\n",
              "    .dataframe tbody tr th:only-of-type {\n",
              "        vertical-align: middle;\n",
              "    }\n",
              "\n",
              "    .dataframe tbody tr th {\n",
              "        vertical-align: top;\n",
              "    }\n",
              "\n",
              "    .dataframe thead th {\n",
              "        text-align: right;\n",
              "    }\n",
              "</style>\n",
              "<table border=\"1\" class=\"dataframe\">\n",
              "  <thead>\n",
              "    <tr style=\"text-align: right;\">\n",
              "      <th></th>\n",
              "      <th>ds</th>\n",
              "      <th>pred</th>\n",
              "      <th>fact</th>\n",
              "    </tr>\n",
              "  </thead>\n",
              "  <tbody>\n",
              "    <tr>\n",
              "      <th>0</th>\n",
              "      <td>2018-01-02</td>\n",
              "      <td>43.265723</td>\n",
              "      <td>42.540001</td>\n",
              "    </tr>\n",
              "    <tr>\n",
              "      <th>1</th>\n",
              "      <td>2018-01-03</td>\n",
              "      <td>43.272730</td>\n",
              "      <td>43.132500</td>\n",
              "    </tr>\n",
              "    <tr>\n",
              "      <th>2</th>\n",
              "      <td>2018-01-04</td>\n",
              "      <td>43.290712</td>\n",
              "      <td>43.134998</td>\n",
              "    </tr>\n",
              "    <tr>\n",
              "      <th>3</th>\n",
              "      <td>2018-01-05</td>\n",
              "      <td>43.281356</td>\n",
              "      <td>43.360001</td>\n",
              "    </tr>\n",
              "    <tr>\n",
              "      <th>4</th>\n",
              "      <td>2018-01-08</td>\n",
              "      <td>43.282122</td>\n",
              "      <td>43.587502</td>\n",
              "    </tr>\n",
              "  </tbody>\n",
              "</table>\n",
              "</div>"
            ],
            "text/plain": [
              "          ds       pred       fact\n",
              "0 2018-01-02  43.265723  42.540001\n",
              "1 2018-01-03  43.272730  43.132500\n",
              "2 2018-01-04  43.290712  43.134998\n",
              "3 2018-01-05  43.281356  43.360001\n",
              "4 2018-01-08  43.282122  43.587502"
            ]
          },
          "metadata": {},
          "execution_count": 16
        }
      ]
    },
    {
      "cell_type": "code",
      "metadata": {
        "colab": {
          "base_uri": "https://localhost:8080/",
          "height": 405
        },
        "id": "yaWgm8Tp-_QY",
        "outputId": "6a48267d-564c-41e4-96b5-d55c3bd247b5"
      },
      "source": [
        "plt.figure(figsize=(10,6))\n",
        "plt.plot(df_graph.fact,color='blue', label='Фактические значения')\n",
        "plt.plot(df_graph.pred , color='red', label='Предсказанные значения')\n",
        "plt.title('Предсказание цен на акции')\n",
        "plt.xlabel('Date')\n",
        "plt.ylabel('Apple Stock Price')\n",
        "plt.legend()\n",
        "plt.show()"
      ],
      "execution_count": 17,
      "outputs": [
        {
          "output_type": "display_data",
          "data": {
            "image/png": "[encoded data removed]",
            "text/plain": [
              "<Figure size 720x432 with 1 Axes>"
            ]
          },
          "metadata": {
            "needs_background": "light"
          }
        }
      ]
    },
    {
      "cell_type": "markdown",
      "metadata": {
        "id": "8QNV__XTDjIZ"
      },
      "source": [
        "### Эксперимент 2"
      ]
    }
  ]
}