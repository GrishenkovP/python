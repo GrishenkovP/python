{
  "nbformat": 4,
  "nbformat_minor": 0,
  "metadata": {
    "colab": {
      "name": "google_colab_gradient.ipynb",
      "provenance": [],
      "collapsed_sections": []
    },
    "kernelspec": {
      "name": "python3",
      "display_name": "Python 3"
    },
    "language_info": {
      "name": "python"
    }
  },
  "cells": [
    {
      "cell_type": "markdown",
      "source": [
        "# Метод градиентного спуска"
      ],
      "metadata": {
        "id": "kUHnxcTVwYIO"
      }
    },
    {
      "cell_type": "code",
      "execution_count": 1,
      "metadata": {
        "id": "Y2ZAJl7bv70K"
      },
      "outputs": [],
      "source": [
        "%matplotlib inline\n",
        "import numpy as np\n",
        "import matplotlib.pyplot as plt\n",
        "plt.style.use('seaborn-whitegrid')\n",
        "\n",
        "from sympy import diff, sin, exp, Derivative\n",
        "from sympy.abc import x, y \n",
        "\n",
        "from sklearn.linear_model import LinearRegression"
      ]
    },
    {
      "cell_type": "code",
      "source": [
        "expr = x*sin(x*x) + 1 "
      ],
      "metadata": {
        "id": "IWBdwhMewdH1"
      },
      "execution_count": 2,
      "outputs": []
    },
    {
      "cell_type": "code",
      "source": [
        "expr.diff(x)"
      ],
      "metadata": {
        "colab": {
          "base_uri": "https://localhost:8080/",
          "height": 38
        },
        "id": "NJ77XZ1_ws9N",
        "outputId": "52a69ad9-feb6-4b8e-99c7-bfda3662461f"
      },
      "execution_count": 3,
      "outputs": [
        {
          "output_type": "execute_result",
          "data": {
            "text/plain": [
              "2*x**2*cos(x**2) + sin(x**2)"
            ],
            "text/latex": "$\\displaystyle 2 x^{2} \\cos{\\left(x^{2} \\right)} + \\sin{\\left(x^{2} \\right)}$"
          },
          "metadata": {},
          "execution_count": 3
        }
      ]
    },
    {
      "cell_type": "code",
      "source": [
        "d = Derivative(expr)"
      ],
      "metadata": {
        "id": "wLCzNxy8xB0s"
      },
      "execution_count": 4,
      "outputs": []
    },
    {
      "cell_type": "code",
      "source": [
        "d.doit()"
      ],
      "metadata": {
        "colab": {
          "base_uri": "https://localhost:8080/",
          "height": 38
        },
        "id": "RfwuRwmgxJkt",
        "outputId": "66dc1e9a-a5e3-4e6e-aacd-7a6f6b2917f3"
      },
      "execution_count": 5,
      "outputs": [
        {
          "output_type": "execute_result",
          "data": {
            "text/plain": [
              "2*x**2*cos(x**2) + sin(x**2)"
            ],
            "text/latex": "$\\displaystyle 2 x^{2} \\cos{\\left(x^{2} \\right)} + \\sin{\\left(x^{2} \\right)}$"
          },
          "metadata": {},
          "execution_count": 5
        }
      ]
    },
    {
      "cell_type": "code",
      "source": [
        "# Данные\n",
        "X = np.array([1.48, 1.49, 1.49, 1.50, 1.51, 1.52, 1.52, 1.53, 1.53, 1.54,\n",
        "              1.55, 1.56, 1.57, 1.57, 1.58, 1.58, 1.59, 1.60, 1.61, 1.62,\n",
        "              1.63, 1.64, 1.65, 1.65, 1.66, 1.67, 1.67, 1.68, 1.68,  1.69,\n",
        "              1.70, 1.70, 1.71, 1.71, 1.71, 1.74, 1.75, 1.76, 1.77, 1.77, 1.78])\n",
        "y = np.array([29.1, 30.0, 30.1, 30.2, 30.4, 30.6, 30.8, 30.9, 31.0, 30.6,\n",
        "              30.7, 30.9, 31.0, 31.2, 31.3, 32.0, 31.4, 31.9, 32.4, 32.8,\n",
        "              32.8, 33.3, 33.6, 33.0, 33.9, 33.8, 35.0, 34.5, 34.7, 34.6,\n",
        "              34.2, 34.8, 35.5, 36.0, 36.2, 36.3, 36.6, 36.8, 36.8, 37.0, 38.5])"
      ],
      "metadata": {
        "id": "n-Yn3PV6xR3V"
      },
      "execution_count": 6,
      "outputs": []
    },
    {
      "cell_type": "code",
      "source": [
        "plt.figure(figsize = (7,3))\n",
        "plt.scatter(X, y)\n",
        " \n",
        "plt.xlabel('X', fontsize = 10)\n",
        "plt.ylabel('y', fontsize = 10)\n",
        "plt.title('Зависимость y от X', fontsize = 12)\n",
        "\n",
        "plt.show()"
      ],
      "metadata": {
        "colab": {
          "base_uri": "https://localhost:8080/",
          "height": 236
        },
        "id": "vn1Z3-TuyJje",
        "outputId": "01bfc923-b59c-4d60-8f8c-606fd075583f"
      },
      "execution_count": 7,
      "outputs": [
        {
          "output_type": "display_data",
          "data": {
            "text/plain": [
              "<Figure size 504x216 with 1 Axes>"
            ],
            "image/png": "[encoded data removed]"
          },
          "metadata": {
            "needs_background": "light"
          }
        }
      ]
    },
    {
      "cell_type": "markdown",
      "source": [
        "### Метод наименьших квадратов"
      ],
      "metadata": {
        "id": "w1YT2don1Sg3"
      }
    },
    {
      "cell_type": "code",
      "source": [
        "X_mean = np.mean(X)\n",
        "y_mean = np.mean(y)\n",
        "\n",
        "w = np.sum(((X - X_mean) * (y - y_mean)))/np.sum((X - X_mean) ** 2)\n",
        "b = y_mean - w * X_mean\n",
        "\n",
        "print(f'Наклон: {w}', f'Сдвиг: {b}', sep='\\n')"
      ],
      "metadata": {
        "colab": {
          "base_uri": "https://localhost:8080/"
        },
        "id": "2sJozAeP0Klm",
        "outputId": "2bab120a-1e2a-4188-da24-3e92a1ad9367"
      },
      "execution_count": 8,
      "outputs": [
        {
          "output_type": "stream",
          "name": "stdout",
          "text": [
            "Наклон: 26.861812005569757\n",
            "Сдвиг: -10.57093629978732\n"
          ]
        }
      ]
    },
    {
      "cell_type": "markdown",
      "source": [
        "### Модель LinearRegression"
      ],
      "metadata": {
        "id": "en2s4t4x3qEH"
      }
    },
    {
      "cell_type": "code",
      "source": [
        "model = LinearRegression()"
      ],
      "metadata": {
        "id": "cTLRjJfT3rOP"
      },
      "execution_count": 9,
      "outputs": []
    },
    {
      "cell_type": "code",
      "source": [
        "model.fit(X.reshape(-1, 1), y.reshape(-1, 1))"
      ],
      "metadata": {
        "colab": {
          "base_uri": "https://localhost:8080/"
        },
        "id": "sbhyK5xF337n",
        "outputId": "2acaf1b7-39f5-47b9-dda7-86fd379db737"
      },
      "execution_count": 10,
      "outputs": [
        {
          "output_type": "execute_result",
          "data": {
            "text/plain": [
              "LinearRegression()"
            ]
          },
          "metadata": {},
          "execution_count": 10
        }
      ]
    },
    {
      "cell_type": "code",
      "source": [
        "model.coef_, model.intercept_"
      ],
      "metadata": {
        "colab": {
          "base_uri": "https://localhost:8080/"
        },
        "id": "SBT5gDix4BCX",
        "outputId": "34ec31d6-7901-4bd2-f3de-e6bf7043d21c"
      },
      "execution_count": 11,
      "outputs": [
        {
          "output_type": "execute_result",
          "data": {
            "text/plain": [
              "(array([[26.86181201]]), array([-10.5709363]))"
            ]
          },
          "metadata": {},
          "execution_count": 11
        }
      ]
    },
    {
      "cell_type": "markdown",
      "source": [
        "### Метод градиентного спуска"
      ],
      "metadata": {
        "id": "t8lgD3ay5y04"
      }
    },
    {
      "cell_type": "code",
      "source": [
        "def regression(X, w, b):\n",
        "  \"\"\"Исходная функция (линейная регрессия)\"\"\"\n",
        "  return w * X + b"
      ],
      "metadata": {
        "id": "nKA8gD3u526A"
      },
      "execution_count": 12,
      "outputs": []
    },
    {
      "cell_type": "code",
      "source": [
        "def objective(X, y, w, b, n):\n",
        "  \"\"\"Функция потерь (half MSE)\"\"\"\n",
        "  return np.sum((y - regression(X, w, b)) ** 2) / (2 * n)"
      ],
      "metadata": {
        "id": "6-n2phj36ChP"
      },
      "execution_count": 13,
      "outputs": []
    },
    {
      "cell_type": "code",
      "source": [
        "def partial_w(X, y, w, b, n):\n",
        "  \"\"\"Частная производная (градиент) функции потерь\"\"\"\n",
        "  return np.sum(-X * (y - (w * X + b))) / n\n",
        "\n",
        "def partial_b(X, y, w, b, n):\n",
        "  \"\"\"Частная производная (градиент) функции потерь\"\"\"\n",
        "  return np.sum(-(y - (w * X + b))) / n"
      ],
      "metadata": {
        "id": "oaXUWaZx6EXh"
      },
      "execution_count": 14,
      "outputs": []
    },
    {
      "cell_type": "markdown",
      "source": [
        "### Алгоритм градиентного спуска"
      ],
      "metadata": {
        "id": "Y9lWScif6tQi"
      }
    },
    {
      "cell_type": "code",
      "source": [
        "def gradient_descent(X, y, iter, learning_rate):\n",
        "  \"\"\"Градиентный спуск\"\"\"\n",
        "  w, b = 0, 0\n",
        "  n = len(X)\n",
        "  w_list, b_list, l_list = [], [], []\n",
        "\n",
        "  for i in range(iter):\n",
        "\n",
        "    w_list.append(w)\n",
        "    b_list.append(b)\n",
        "    l_list.append(objective(X, y, w, b, n))\n",
        "\n",
        "    par_1 = partial_w(X, y, w, b, n)\n",
        "    par_2 = partial_b(X, y, w, b, n)\n",
        "\n",
        "    w = w - learning_rate * par_1\n",
        "    b = b - learning_rate * par_2\n",
        "\n",
        "  return w_list, b_list, l_list"
      ],
      "metadata": {
        "id": "DH9hEJJn6lnC"
      },
      "execution_count": 15,
      "outputs": []
    },
    {
      "cell_type": "markdown",
      "source": [
        "### Обучение"
      ],
      "metadata": {
        "id": "NloQqFRa7dmr"
      }
    },
    {
      "cell_type": "code",
      "source": [
        "w_list, b_list, l_list = gradient_descent(X, y, iter = 350000, learning_rate = 0.01)\n",
        "print(w_list[-1], b_list[-1])"
      ],
      "metadata": {
        "colab": {
          "base_uri": "https://localhost:8080/"
        },
        "id": "LaN8-z177aii",
        "outputId": "362ace61-a842-4ad2-9f88-c83440ca7b7b"
      },
      "execution_count": 16,
      "outputs": [
        {
          "output_type": "stream",
          "name": "stdout",
          "text": [
            "26.854853898569097 -10.559599278809689\n"
          ]
        }
      ]
    },
    {
      "cell_type": "code",
      "source": [
        "y_pred_gd = regression(X, w_list[-1], b_list[-1])"
      ],
      "metadata": {
        "id": "4_bJirhG8K6I"
      },
      "execution_count": 17,
      "outputs": []
    },
    {
      "cell_type": "code",
      "source": [
        "plt.figure(figsize = (7, 3))\n",
        "plt.scatter(X, y)\n",
        "plt.plot(X, y_pred_gd, 'r')\n",
        "\n",
        "plt.xlabel('X', fontsize = 10)\n",
        "plt.ylabel('y_pred_gd', fontsize = 10)\n",
        "plt.title('Зависимость y_pred_gd от X', fontsize = 12)\n",
        "plt.show()"
      ],
      "metadata": {
        "colab": {
          "base_uri": "https://localhost:8080/",
          "height": 236
        },
        "id": "1gGmsa8q8O3o",
        "outputId": "ad0a98ea-754c-47b1-dca6-3e26c451efea"
      },
      "execution_count": 18,
      "outputs": [
        {
          "output_type": "display_data",
          "data": {
            "text/plain": [
              "<Figure size 504x216 with 1 Axes>"
            ],
            "image/png": "[encoded data removed]"
          },
          "metadata": {
            "needs_background": "light"
          }
        }
      ]
    }
  ]
}