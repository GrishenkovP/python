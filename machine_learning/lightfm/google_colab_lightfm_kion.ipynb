{
  "nbformat": 4,
  "nbformat_minor": 0,
  "metadata": {
    "colab": {
      "name": "google_colab_lightfm_kion.ipynb",
      "provenance": [],
      "collapsed_sections": []
    },
    "kernelspec": {
      "name": "python3",
      "display_name": "Python 3"
    },
    "language_info": {
      "name": "python"
    },
    "widgets": {
      "application/vnd.jupyter.widget-state+json": {
        "1e356d29ba7e4b52b8b29a2402e5c185": {
          "model_module": "@jupyter-widgets/controls",
          "model_name": "HBoxModel",
          "model_module_version": "1.5.0",
          "state": {
            "_dom_classes": [],
            "_model_module": "@jupyter-widgets/controls",
            "_model_module_version": "1.5.0",
            "_model_name": "HBoxModel",
            "_view_count": null,
            "_view_module": "@jupyter-widgets/controls",
            "_view_module_version": "1.5.0",
            "_view_name": "HBoxView",
            "box_style": "",
            "children": [
              "IPY_MODEL_a5136503ae4f438e99b35af285a314dc",
              "IPY_MODEL_a68da6f75f014404b3d423c84f25be10",
              "IPY_MODEL_06e215fc936a406888e37feced3a2357"
            ],
            "layout": "IPY_MODEL_d809ad9114c04234a93aa45f489352a4"
          }
        },
        "a5136503ae4f438e99b35af285a314dc": {
          "model_module": "@jupyter-widgets/controls",
          "model_name": "HTMLModel",
          "model_module_version": "1.5.0",
          "state": {
            "_dom_classes": [],
            "_model_module": "@jupyter-widgets/controls",
            "_model_module_version": "1.5.0",
            "_model_name": "HTMLModel",
            "_view_count": null,
            "_view_module": "@jupyter-widgets/controls",
            "_view_module_version": "1.5.0",
            "_view_name": "HTMLView",
            "description": "",
            "description_tooltip": null,
            "layout": "IPY_MODEL_1568d5a239ca4703bf427b4a8da39d90",
            "placeholder": "​",
            "style": "IPY_MODEL_b1f6d020d9c046888e2a9c0c53eabf3b",
            "value": "100%"
          }
        },
        "a68da6f75f014404b3d423c84f25be10": {
          "model_module": "@jupyter-widgets/controls",
          "model_name": "FloatProgressModel",
          "model_module_version": "1.5.0",
          "state": {
            "_dom_classes": [],
            "_model_module": "@jupyter-widgets/controls",
            "_model_module_version": "1.5.0",
            "_model_name": "FloatProgressModel",
            "_view_count": null,
            "_view_module": "@jupyter-widgets/controls",
            "_view_module_version": "1.5.0",
            "_view_name": "ProgressView",
            "bar_style": "success",
            "description": "",
            "description_tooltip": null,
            "layout": "IPY_MODEL_c88120b71bc9423898546297d81111a9",
            "max": 20,
            "min": 0,
            "orientation": "horizontal",
            "style": "IPY_MODEL_022b52e132064738825514a17960ab3a",
            "value": 20
          }
        },
        "06e215fc936a406888e37feced3a2357": {
          "model_module": "@jupyter-widgets/controls",
          "model_name": "HTMLModel",
          "model_module_version": "1.5.0",
          "state": {
            "_dom_classes": [],
            "_model_module": "@jupyter-widgets/controls",
            "_model_module_version": "1.5.0",
            "_model_name": "HTMLModel",
            "_view_count": null,
            "_view_module": "@jupyter-widgets/controls",
            "_view_module_version": "1.5.0",
            "_view_name": "HTMLView",
            "description": "",
            "description_tooltip": null,
            "layout": "IPY_MODEL_2ac9362a385f48d88156ad3365d4c0fc",
            "placeholder": "​",
            "style": "IPY_MODEL_480a980886cd444d88476526d2ba8c69",
            "value": " 20/20 [01:53&lt;00:00,  5.37s/it]"
          }
        },
        "d809ad9114c04234a93aa45f489352a4": {
          "model_module": "@jupyter-widgets/base",
          "model_name": "LayoutModel",
          "model_module_version": "1.2.0",
          "state": {
            "_model_module": "@jupyter-widgets/base",
            "_model_module_version": "1.2.0",
            "_model_name": "LayoutModel",
            "_view_count": null,
            "_view_module": "@jupyter-widgets/base",
            "_view_module_version": "1.2.0",
            "_view_name": "LayoutView",
            "align_content": null,
            "align_items": null,
            "align_self": null,
            "border": null,
            "bottom": null,
            "display": null,
            "flex": null,
            "flex_flow": null,
            "grid_area": null,
            "grid_auto_columns": null,
            "grid_auto_flow": null,
            "grid_auto_rows": null,
            "grid_column": null,
            "grid_gap": null,
            "grid_row": null,
            "grid_template_areas": null,
            "grid_template_columns": null,
            "grid_template_rows": null,
            "height": null,
            "justify_content": null,
            "justify_items": null,
            "left": null,
            "margin": null,
            "max_height": null,
            "max_width": null,
            "min_height": null,
            "min_width": null,
            "object_fit": null,
            "object_position": null,
            "order": null,
            "overflow": null,
            "overflow_x": null,
            "overflow_y": null,
            "padding": null,
            "right": null,
            "top": null,
            "visibility": null,
            "width": null
          }
        },
        "1568d5a239ca4703bf427b4a8da39d90": {
          "model_module": "@jupyter-widgets/base",
          "model_name": "LayoutModel",
          "model_module_version": "1.2.0",
          "state": {
            "_model_module": "@jupyter-widgets/base",
            "_model_module_version": "1.2.0",
            "_model_name": "LayoutModel",
            "_view_count": null,
            "_view_module": "@jupyter-widgets/base",
            "_view_module_version": "1.2.0",
            "_view_name": "LayoutView",
            "align_content": null,
            "align_items": null,
            "align_self": null,
            "border": null,
            "bottom": null,
            "display": null,
            "flex": null,
            "flex_flow": null,
            "grid_area": null,
            "grid_auto_columns": null,
            "grid_auto_flow": null,
            "grid_auto_rows": null,
            "grid_column": null,
            "grid_gap": null,
            "grid_row": null,
            "grid_template_areas": null,
            "grid_template_columns": null,
            "grid_template_rows": null,
            "height": null,
            "justify_content": null,
            "justify_items": null,
            "left": null,
            "margin": null,
            "max_height": null,
            "max_width": null,
            "min_height": null,
            "min_width": null,
            "object_fit": null,
            "object_position": null,
            "order": null,
            "overflow": null,
            "overflow_x": null,
            "overflow_y": null,
            "padding": null,
            "right": null,
            "top": null,
            "visibility": null,
            "width": null
          }
        },
        "b1f6d020d9c046888e2a9c0c53eabf3b": {
          "model_module": "@jupyter-widgets/controls",
          "model_name": "DescriptionStyleModel",
          "model_module_version": "1.5.0",
          "state": {
            "_model_module": "@jupyter-widgets/controls",
            "_model_module_version": "1.5.0",
            "_model_name": "DescriptionStyleModel",
            "_view_count": null,
            "_view_module": "@jupyter-widgets/base",
            "_view_module_version": "1.2.0",
            "_view_name": "StyleView",
            "description_width": ""
          }
        },
        "c88120b71bc9423898546297d81111a9": {
          "model_module": "@jupyter-widgets/base",
          "model_name": "LayoutModel",
          "model_module_version": "1.2.0",
          "state": {
            "_model_module": "@jupyter-widgets/base",
            "_model_module_version": "1.2.0",
            "_model_name": "LayoutModel",
            "_view_count": null,
            "_view_module": "@jupyter-widgets/base",
            "_view_module_version": "1.2.0",
            "_view_name": "LayoutView",
            "align_content": null,
            "align_items": null,
            "align_self": null,
            "border": null,
            "bottom": null,
            "display": null,
            "flex": null,
            "flex_flow": null,
            "grid_area": null,
            "grid_auto_columns": null,
            "grid_auto_flow": null,
            "grid_auto_rows": null,
            "grid_column": null,
            "grid_gap": null,
            "grid_row": null,
            "grid_template_areas": null,
            "grid_template_columns": null,
            "grid_template_rows": null,
            "height": null,
            "justify_content": null,
            "justify_items": null,
            "left": null,
            "margin": null,
            "max_height": null,
            "max_width": null,
            "min_height": null,
            "min_width": null,
            "object_fit": null,
            "object_position": null,
            "order": null,
            "overflow": null,
            "overflow_x": null,
            "overflow_y": null,
            "padding": null,
            "right": null,
            "top": null,
            "visibility": null,
            "width": null
          }
        },
        "022b52e132064738825514a17960ab3a": {
          "model_module": "@jupyter-widgets/controls",
          "model_name": "ProgressStyleModel",
          "model_module_version": "1.5.0",
          "state": {
            "_model_module": "@jupyter-widgets/controls",
            "_model_module_version": "1.5.0",
            "_model_name": "ProgressStyleModel",
            "_view_count": null,
            "_view_module": "@jupyter-widgets/base",
            "_view_module_version": "1.2.0",
            "_view_name": "StyleView",
            "bar_color": null,
            "description_width": ""
          }
        },
        "2ac9362a385f48d88156ad3365d4c0fc": {
          "model_module": "@jupyter-widgets/base",
          "model_name": "LayoutModel",
          "model_module_version": "1.2.0",
          "state": {
            "_model_module": "@jupyter-widgets/base",
            "_model_module_version": "1.2.0",
            "_model_name": "LayoutModel",
            "_view_count": null,
            "_view_module": "@jupyter-widgets/base",
            "_view_module_version": "1.2.0",
            "_view_name": "LayoutView",
            "align_content": null,
            "align_items": null,
            "align_self": null,
            "border": null,
            "bottom": null,
            "display": null,
            "flex": null,
            "flex_flow": null,
            "grid_area": null,
            "grid_auto_columns": null,
            "grid_auto_flow": null,
            "grid_auto_rows": null,
            "grid_column": null,
            "grid_gap": null,
            "grid_row": null,
            "grid_template_areas": null,
            "grid_template_columns": null,
            "grid_template_rows": null,
            "height": null,
            "justify_content": null,
            "justify_items": null,
            "left": null,
            "margin": null,
            "max_height": null,
            "max_width": null,
            "min_height": null,
            "min_width": null,
            "object_fit": null,
            "object_position": null,
            "order": null,
            "overflow": null,
            "overflow_x": null,
            "overflow_y": null,
            "padding": null,
            "right": null,
            "top": null,
            "visibility": null,
            "width": null
          }
        },
        "480a980886cd444d88476526d2ba8c69": {
          "model_module": "@jupyter-widgets/controls",
          "model_name": "DescriptionStyleModel",
          "model_module_version": "1.5.0",
          "state": {
            "_model_module": "@jupyter-widgets/controls",
            "_model_module_version": "1.5.0",
            "_model_name": "DescriptionStyleModel",
            "_view_count": null,
            "_view_module": "@jupyter-widgets/base",
            "_view_module_version": "1.2.0",
            "_view_name": "StyleView",
            "description_width": ""
          }
        }
      }
    }
  },
  "cells": [
    {
      "cell_type": "markdown",
      "source": [
        "# Рекомендательные системы. Библиотека LightFM"
      ],
      "metadata": {
        "id": "RGZxJMgsXMKr"
      }
    },
    {
      "cell_type": "code",
      "execution_count": null,
      "metadata": {
        "id": "S-3NjWwn1YkS"
      },
      "outputs": [],
      "source": [
        "%%capture\n",
        "%%bash\n",
        "pip install lightfm"
      ]
    },
    {
      "cell_type": "code",
      "source": [
        "import datetime\n",
        "import numpy as np\n",
        "import pandas as pd\n",
        "from scipy.sparse import coo_matrix\n",
        "from lightfm import LightFM\n",
        "from lightfm.data import Dataset\n",
        "from lightfm.evaluation import precision_at_k, recall_at_k, auc_score\n",
        "\n",
        "from tqdm.notebook import tqdm\n",
        "from zipfile import ZipFile\n",
        "from sklearn.utils import shuffle\n",
        "from sklearn.model_selection import train_test_split\n",
        "import warnings\n",
        "warnings.simplefilter('ignore')"
      ],
      "metadata": {
        "id": "1iX48hEP1bPK"
      },
      "execution_count": null,
      "outputs": []
    },
    {
      "cell_type": "markdown",
      "source": [
        "## Разбираем \"механику работы\" библиотеки на демо-примере"
      ],
      "metadata": {
        "id": "TUTergaVW_C0"
      }
    },
    {
      "cell_type": "code",
      "source": [
        "# Загрузка данных\n",
        "data = pd.read_csv('/content/ratings.csv', sep=',')\n",
        "data = data.dropna().reset_index(drop=True)\n",
        "data['movie_id'] = data['movie_id'].astype('int')\n",
        "data['rating'] = data['rating'].astype('int')"
      ],
      "metadata": {
        "id": "yw5zVW8d_fgt"
      },
      "execution_count": null,
      "outputs": []
    },
    {
      "cell_type": "code",
      "source": [
        "data.head(35)"
      ],
      "metadata": {
        "colab": {
          "base_uri": "https://localhost:8080/",
          "height": 896
        },
        "id": "PSQKggIHAC0k",
        "outputId": "4988edb5-00f1-4d85-8b8b-c0a9bc8798e5"
      },
      "execution_count": null,
      "outputs": [
        {
          "output_type": "execute_result",
          "data": {
            "text/plain": [
              "    user_id  movie_id movie_title  rating\n",
              "0         1         1     movie_1      10\n",
              "1         1         3     movie_3       5\n",
              "2         1         5     movie_5       8\n",
              "3         1         6     movie_6       9\n",
              "4         1         7     movie_7      10\n",
              "5         2         1     movie_1       7\n",
              "6         2         2     movie_2      10\n",
              "7         2         3     movie_3       5\n",
              "8         2         4     movie_4      10\n",
              "9         2         5     movie_5       8\n",
              "10        2         6     movie_6       9\n",
              "11        2         7     movie_7       9\n",
              "12        3         1     movie_1       7\n",
              "13        3         2     movie_2      10\n",
              "14        3         3     movie_3       5\n",
              "15        3         4     movie_4       5\n",
              "16        3         5     movie_5       8\n",
              "17        3         6     movie_6       9\n",
              "18        4         4     movie_4       3\n",
              "19        4         5     movie_5       4\n",
              "20        4         6     movie_6       5\n",
              "21        4         7     movie_7       5\n",
              "22        5         2     movie_2       4\n",
              "23        5         4     movie_4       3\n",
              "24        5         5     movie_5       4\n",
              "25        5         6     movie_6       5\n",
              "26        5         7     movie_7       5"
            ],
            "text/html": [
              "\n",
              "  <div id=\"df-37e94120-446f-4308-9a9f-d2c1e61fdad5\">\n",
              "    <div class=\"colab-df-container\">\n",
              "      <div>\n",
              "<style scoped>\n",
              "    .dataframe tbody tr th:only-of-type {\n",
              "        vertical-align: middle;\n",
              "    }\n",
              "\n",
              "    .dataframe tbody tr th {\n",
              "        vertical-align: top;\n",
              "    }\n",
              "\n",
              "    .dataframe thead th {\n",
              "        text-align: right;\n",
              "    }\n",
              "</style>\n",
              "<table border=\"1\" class=\"dataframe\">\n",
              "  <thead>\n",
              "    <tr style=\"text-align: right;\">\n",
              "      <th></th>\n",
              "      <th>user_id</th>\n",
              "      <th>movie_id</th>\n",
              "      <th>movie_title</th>\n",
              "      <th>rating</th>\n",
              "    </tr>\n",
              "  </thead>\n",
              "  <tbody>\n",
              "    <tr>\n",
              "      <th>0</th>\n",
              "      <td>1</td>\n",
              "      <td>1</td>\n",
              "      <td>movie_1</td>\n",
              "      <td>10</td>\n",
              "    </tr>\n",
              "    <tr>\n",
              "      <th>1</th>\n",
              "      <td>1</td>\n",
              "      <td>3</td>\n",
              "      <td>movie_3</td>\n",
              "      <td>5</td>\n",
              "    </tr>\n",
              "    <tr>\n",
              "      <th>2</th>\n",
              "      <td>1</td>\n",
              "      <td>5</td>\n",
              "      <td>movie_5</td>\n",
              "      <td>8</td>\n",
              "    </tr>\n",
              "    <tr>\n",
              "      <th>3</th>\n",
              "      <td>1</td>\n",
              "      <td>6</td>\n",
              "      <td>movie_6</td>\n",
              "      <td>9</td>\n",
              "    </tr>\n",
              "    <tr>\n",
              "      <th>4</th>\n",
              "      <td>1</td>\n",
              "      <td>7</td>\n",
              "      <td>movie_7</td>\n",
              "      <td>10</td>\n",
              "    </tr>\n",
              "    <tr>\n",
              "      <th>5</th>\n",
              "      <td>2</td>\n",
              "      <td>1</td>\n",
              "      <td>movie_1</td>\n",
              "      <td>7</td>\n",
              "    </tr>\n",
              "    <tr>\n",
              "      <th>6</th>\n",
              "      <td>2</td>\n",
              "      <td>2</td>\n",
              "      <td>movie_2</td>\n",
              "      <td>10</td>\n",
              "    </tr>\n",
              "    <tr>\n",
              "      <th>7</th>\n",
              "      <td>2</td>\n",
              "      <td>3</td>\n",
              "      <td>movie_3</td>\n",
              "      <td>5</td>\n",
              "    </tr>\n",
              "    <tr>\n",
              "      <th>8</th>\n",
              "      <td>2</td>\n",
              "      <td>4</td>\n",
              "      <td>movie_4</td>\n",
              "      <td>10</td>\n",
              "    </tr>\n",
              "    <tr>\n",
              "      <th>9</th>\n",
              "      <td>2</td>\n",
              "      <td>5</td>\n",
              "      <td>movie_5</td>\n",
              "      <td>8</td>\n",
              "    </tr>\n",
              "    <tr>\n",
              "      <th>10</th>\n",
              "      <td>2</td>\n",
              "      <td>6</td>\n",
              "      <td>movie_6</td>\n",
              "      <td>9</td>\n",
              "    </tr>\n",
              "    <tr>\n",
              "      <th>11</th>\n",
              "      <td>2</td>\n",
              "      <td>7</td>\n",
              "      <td>movie_7</td>\n",
              "      <td>9</td>\n",
              "    </tr>\n",
              "    <tr>\n",
              "      <th>12</th>\n",
              "      <td>3</td>\n",
              "      <td>1</td>\n",
              "      <td>movie_1</td>\n",
              "      <td>7</td>\n",
              "    </tr>\n",
              "    <tr>\n",
              "      <th>13</th>\n",
              "      <td>3</td>\n",
              "      <td>2</td>\n",
              "      <td>movie_2</td>\n",
              "      <td>10</td>\n",
              "    </tr>\n",
              "    <tr>\n",
              "      <th>14</th>\n",
              "      <td>3</td>\n",
              "      <td>3</td>\n",
              "      <td>movie_3</td>\n",
              "      <td>5</td>\n",
              "    </tr>\n",
              "    <tr>\n",
              "      <th>15</th>\n",
              "      <td>3</td>\n",
              "      <td>4</td>\n",
              "      <td>movie_4</td>\n",
              "      <td>5</td>\n",
              "    </tr>\n",
              "    <tr>\n",
              "      <th>16</th>\n",
              "      <td>3</td>\n",
              "      <td>5</td>\n",
              "      <td>movie_5</td>\n",
              "      <td>8</td>\n",
              "    </tr>\n",
              "    <tr>\n",
              "      <th>17</th>\n",
              "      <td>3</td>\n",
              "      <td>6</td>\n",
              "      <td>movie_6</td>\n",
              "      <td>9</td>\n",
              "    </tr>\n",
              "    <tr>\n",
              "      <th>18</th>\n",
              "      <td>4</td>\n",
              "      <td>4</td>\n",
              "      <td>movie_4</td>\n",
              "      <td>3</td>\n",
              "    </tr>\n",
              "    <tr>\n",
              "      <th>19</th>\n",
              "      <td>4</td>\n",
              "      <td>5</td>\n",
              "      <td>movie_5</td>\n",
              "      <td>4</td>\n",
              "    </tr>\n",
              "    <tr>\n",
              "      <th>20</th>\n",
              "      <td>4</td>\n",
              "      <td>6</td>\n",
              "      <td>movie_6</td>\n",
              "      <td>5</td>\n",
              "    </tr>\n",
              "    <tr>\n",
              "      <th>21</th>\n",
              "      <td>4</td>\n",
              "      <td>7</td>\n",
              "      <td>movie_7</td>\n",
              "      <td>5</td>\n",
              "    </tr>\n",
              "    <tr>\n",
              "      <th>22</th>\n",
              "      <td>5</td>\n",
              "      <td>2</td>\n",
              "      <td>movie_2</td>\n",
              "      <td>4</td>\n",
              "    </tr>\n",
              "    <tr>\n",
              "      <th>23</th>\n",
              "      <td>5</td>\n",
              "      <td>4</td>\n",
              "      <td>movie_4</td>\n",
              "      <td>3</td>\n",
              "    </tr>\n",
              "    <tr>\n",
              "      <th>24</th>\n",
              "      <td>5</td>\n",
              "      <td>5</td>\n",
              "      <td>movie_5</td>\n",
              "      <td>4</td>\n",
              "    </tr>\n",
              "    <tr>\n",
              "      <th>25</th>\n",
              "      <td>5</td>\n",
              "      <td>6</td>\n",
              "      <td>movie_6</td>\n",
              "      <td>5</td>\n",
              "    </tr>\n",
              "    <tr>\n",
              "      <th>26</th>\n",
              "      <td>5</td>\n",
              "      <td>7</td>\n",
              "      <td>movie_7</td>\n",
              "      <td>5</td>\n",
              "    </tr>\n",
              "  </tbody>\n",
              "</table>\n",
              "</div>\n",
              "      <button class=\"colab-df-convert\" onclick=\"convertToInteractive('df-37e94120-446f-4308-9a9f-d2c1e61fdad5')\"\n",
              "              title=\"Convert this dataframe to an interactive table.\"\n",
              "              style=\"display:none;\">\n",
              "        \n",
              "  <svg xmlns=\"http://www.w3.org/2000/svg\" height=\"24px\"viewBox=\"0 0 24 24\"\n",
              "       width=\"24px\">\n",
              "    <path d=\"M0 0h24v24H0V0z\" fill=\"none\"/>\n",
              "    <path d=\"M18.56 5.44l.94 2.06.94-2.06 2.06-.94-2.06-.94-.94-2.06-.94 2.06-2.06.94zm-11 1L8.5 8.5l.94-2.06 2.06-.94-2.06-.94L8.5 2.5l-.94 2.06-2.06.94zm10 10l.94 2.06.94-2.06 2.06-.94-2.06-.94-.94-2.06-.94 2.06-2.06.94z\"/><path d=\"M17.41 7.96l-1.37-1.37c-.4-.4-.92-.59-1.43-.59-.52 0-1.04.2-1.43.59L10.3 9.45l-7.72 7.72c-.78.78-.78 2.05 0 2.83L4 21.41c.39.39.9.59 1.41.59.51 0 1.02-.2 1.41-.59l7.78-7.78 2.81-2.81c.8-.78.8-2.07 0-2.86zM5.41 20L4 18.59l7.72-7.72 1.47 1.35L5.41 20z\"/>\n",
              "  </svg>\n",
              "      </button>\n",
              "      \n",
              "  <style>\n",
              "    .colab-df-container {\n",
              "      display:flex;\n",
              "      flex-wrap:wrap;\n",
              "      gap: 12px;\n",
              "    }\n",
              "\n",
              "    .colab-df-convert {\n",
              "      background-color: #E8F0FE;\n",
              "      border: none;\n",
              "      border-radius: 50%;\n",
              "      cursor: pointer;\n",
              "      display: none;\n",
              "      fill: #1967D2;\n",
              "      height: 32px;\n",
              "      padding: 0 0 0 0;\n",
              "      width: 32px;\n",
              "    }\n",
              "\n",
              "    .colab-df-convert:hover {\n",
              "      background-color: #E2EBFA;\n",
              "      box-shadow: 0px 1px 2px rgba(60, 64, 67, 0.3), 0px 1px 3px 1px rgba(60, 64, 67, 0.15);\n",
              "      fill: #174EA6;\n",
              "    }\n",
              "\n",
              "    [theme=dark] .colab-df-convert {\n",
              "      background-color: #3B4455;\n",
              "      fill: #D2E3FC;\n",
              "    }\n",
              "\n",
              "    [theme=dark] .colab-df-convert:hover {\n",
              "      background-color: #434B5C;\n",
              "      box-shadow: 0px 1px 3px 1px rgba(0, 0, 0, 0.15);\n",
              "      filter: drop-shadow(0px 1px 2px rgba(0, 0, 0, 0.3));\n",
              "      fill: #FFFFFF;\n",
              "    }\n",
              "  </style>\n",
              "\n",
              "      <script>\n",
              "        const buttonEl =\n",
              "          document.querySelector('#df-37e94120-446f-4308-9a9f-d2c1e61fdad5 button.colab-df-convert');\n",
              "        buttonEl.style.display =\n",
              "          google.colab.kernel.accessAllowed ? 'block' : 'none';\n",
              "\n",
              "        async function convertToInteractive(key) {\n",
              "          const element = document.querySelector('#df-37e94120-446f-4308-9a9f-d2c1e61fdad5');\n",
              "          const dataTable =\n",
              "            await google.colab.kernel.invokeFunction('convertToInteractive',\n",
              "                                                     [key], {});\n",
              "          if (!dataTable) return;\n",
              "\n",
              "          const docLinkHtml = 'Like what you see? Visit the ' +\n",
              "            '<a target=\"_blank\" href=https://colab.research.google.com/notebooks/data_table.ipynb>data table notebook</a>'\n",
              "            + ' to learn more about interactive tables.';\n",
              "          element.innerHTML = '';\n",
              "          dataTable['output_type'] = 'display_data';\n",
              "          await google.colab.output.renderOutput(dataTable, element);\n",
              "          const docLink = document.createElement('div');\n",
              "          docLink.innerHTML = docLinkHtml;\n",
              "          element.appendChild(docLink);\n",
              "        }\n",
              "      </script>\n",
              "    </div>\n",
              "  </div>\n",
              "  "
            ]
          },
          "metadata": {},
          "execution_count": 5
        }
      ]
    },
    {
      "cell_type": "code",
      "source": [
        "matrix_user_movie = data.pivot_table(index='user_id', columns='movie_id', values='rating')\n",
        "print(matrix_user_movie)"
      ],
      "metadata": {
        "colab": {
          "base_uri": "https://localhost:8080/"
        },
        "id": "iqH68717AsUM",
        "outputId": "7ff0eeb8-052c-46f6-ab8d-505b82a89c12"
      },
      "execution_count": null,
      "outputs": [
        {
          "output_type": "stream",
          "name": "stdout",
          "text": [
            "movie_id     1     2    3     4    5    6     7\n",
            "user_id                                        \n",
            "1         10.0   NaN  5.0   NaN  8.0  9.0  10.0\n",
            "2          7.0  10.0  5.0  10.0  8.0  9.0   9.0\n",
            "3          7.0  10.0  5.0   5.0  8.0  9.0   NaN\n",
            "4          NaN   NaN  NaN   3.0  4.0  5.0   5.0\n",
            "5          NaN   4.0  NaN   3.0  4.0  5.0   5.0\n"
          ]
        }
      ]
    },
    {
      "cell_type": "code",
      "source": [
        "#Создадим маппинг для пользователей и фильмов\n",
        "user_id_mapping = {id:i for i, id in enumerate(data['user_id'].unique())}\n",
        "movie_id_mapping = {id:i for i, id in enumerate(data['movie_id'].unique())}\n",
        "movie_title_mapping = {title:i for i, title in enumerate(data['movie_title'].unique())}"
      ],
      "metadata": {
        "id": "ye5HKCLvBbjT"
      },
      "execution_count": null,
      "outputs": []
    },
    {
      "cell_type": "code",
      "source": [
        "movie_title_mapping"
      ],
      "metadata": {
        "colab": {
          "base_uri": "https://localhost:8080/"
        },
        "id": "7RXk41EdTxCN",
        "outputId": "2ce6c560-bda0-49ea-8b59-628a49607cfc"
      },
      "execution_count": null,
      "outputs": [
        {
          "output_type": "execute_result",
          "data": {
            "text/plain": [
              "{'movie_1': 0,\n",
              " 'movie_2': 5,\n",
              " 'movie_3': 1,\n",
              " 'movie_4': 6,\n",
              " 'movie_5': 2,\n",
              " 'movie_6': 3,\n",
              " 'movie_7': 4}"
            ]
          },
          "metadata": {},
          "execution_count": 8
        }
      ]
    },
    {
      "cell_type": "code",
      "source": [
        "print(movie_id_mapping)"
      ],
      "metadata": {
        "colab": {
          "base_uri": "https://localhost:8080/"
        },
        "id": "i8ww9XbRBjqS",
        "outputId": "866da761-9415-4fb8-a599-c735d1fd0a1e"
      },
      "execution_count": null,
      "outputs": [
        {
          "output_type": "stream",
          "name": "stdout",
          "text": [
            "{1: 0, 3: 1, 5: 2, 6: 3, 7: 4, 2: 5, 4: 6}\n"
          ]
        }
      ]
    },
    {
      "cell_type": "code",
      "source": [
        "#Применим его к обучающему набору\n",
        "train_user_data = data['user_id'].map(user_id_mapping)\n",
        "train_movie_data = data['movie_id'].map(movie_id_mapping)"
      ],
      "metadata": {
        "id": "OPz6J7XPBpNz"
      },
      "execution_count": null,
      "outputs": []
    },
    {
      "cell_type": "code",
      "source": [
        "#Создадим разреженную матрицу рейтинга\n",
        "shape = (len(user_id_mapping), len(movie_id_mapping))\n",
        "train_matrix = coo_matrix((data['rating'].values, (train_user_data.astype(int), train_movie_data.astype(int))), shape=shape)"
      ],
      "metadata": {
        "id": "7qsgn1CgB8tT"
      },
      "execution_count": null,
      "outputs": []
    },
    {
      "cell_type": "code",
      "source": [
        "print(train_matrix)"
      ],
      "metadata": {
        "colab": {
          "base_uri": "https://localhost:8080/"
        },
        "id": "nNubCcatCBQb",
        "outputId": "ae217ec5-3f79-4f91-d41c-08444a859842"
      },
      "execution_count": null,
      "outputs": [
        {
          "output_type": "stream",
          "name": "stdout",
          "text": [
            "  (0, 0)\t10\n",
            "  (0, 1)\t5\n",
            "  (0, 2)\t8\n",
            "  (0, 3)\t9\n",
            "  (0, 4)\t10\n",
            "  (1, 0)\t7\n",
            "  (1, 5)\t10\n",
            "  (1, 1)\t5\n",
            "  (1, 6)\t10\n",
            "  (1, 2)\t8\n",
            "  (1, 3)\t9\n",
            "  (1, 4)\t9\n",
            "  (2, 0)\t7\n",
            "  (2, 5)\t10\n",
            "  (2, 1)\t5\n",
            "  (2, 6)\t5\n",
            "  (2, 2)\t8\n",
            "  (2, 3)\t9\n",
            "  (3, 6)\t3\n",
            "  (3, 2)\t4\n",
            "  (3, 3)\t5\n",
            "  (3, 4)\t5\n",
            "  (4, 5)\t4\n",
            "  (4, 6)\t3\n",
            "  (4, 2)\t4\n",
            "  (4, 3)\t5\n",
            "  (4, 4)\t5\n"
          ]
        }
      ]
    },
    {
      "cell_type": "code",
      "source": [
        "#Создадим модель LightFM и обучим ее\n",
        "model = LightFM(loss='warp')\n",
        "model.fit(train_matrix, epochs=30, num_threads=2)"
      ],
      "metadata": {
        "colab": {
          "base_uri": "https://localhost:8080/"
        },
        "id": "bkQxd-ZdCYgE",
        "outputId": "78f65cc2-8e0c-4c7f-9952-8a620802cd99"
      },
      "execution_count": null,
      "outputs": [
        {
          "output_type": "execute_result",
          "data": {
            "text/plain": [
              "<lightfm.lightfm.LightFM at 0x7f724d236c50>"
            ]
          },
          "metadata": {},
          "execution_count": 13
        }
      ]
    },
    {
      "cell_type": "code",
      "source": [
        " #Предсказание фильмов, которые могут понравяться\n",
        "user_id_current = 3\n",
        "item_ids_current = np.arange(0,7)\n",
        "scores = model.predict(user_ids= user_id_current, item_ids=item_ids_current)\n",
        "top_items = np.argsort(scores)\n",
        "print(top_items)\n",
        "top_movies = []\n",
        "for i in top_items:\n",
        "  for k,val in movie_title_mapping.items():\n",
        "    if val == i:\n",
        "      top_movies.append(k)\n",
        "print(top_movies)"
      ],
      "metadata": {
        "colab": {
          "base_uri": "https://localhost:8080/"
        },
        "id": "o7Jc45VbDZZi",
        "outputId": "868c0484-a741-4e81-fea6-c6bf0af2cc2c"
      },
      "execution_count": null,
      "outputs": [
        {
          "output_type": "stream",
          "name": "stdout",
          "text": [
            "[0 1 5 6 3 4 2]\n",
            "['movie_1', 'movie_3', 'movie_2', 'movie_4', 'movie_6', 'movie_7', 'movie_5']\n"
          ]
        }
      ]
    },
    {
      "cell_type": "code",
      "source": [
        "k = 5\n",
        "print('Train precision at k={}:\\t{:.4f}'.format(k, precision_at_k(model, train_matrix, k=k).mean()))\n",
        "print('Train recall at k={}:\\t{:.4f}'.format(k, recall_at_k(model, train_matrix, k=k).mean()))"
      ],
      "metadata": {
        "colab": {
          "base_uri": "https://localhost:8080/"
        },
        "id": "XxEYb4zvG1o6",
        "outputId": "f191ac86-d1a1-48cc-eda3-4050648fedd9"
      },
      "execution_count": null,
      "outputs": [
        {
          "output_type": "stream",
          "name": "stdout",
          "text": [
            "Train precision at k=5:\t0.9600\n",
            "Train recall at k=5:\t0.9095\n"
          ]
        }
      ]
    },
    {
      "cell_type": "markdown",
      "source": [
        "## Данные: датасет КИОН (Your Second RecSys, MTS, ODS AI)"
      ],
      "metadata": {
        "id": "6JYG_djCZHBR"
      }
    },
    {
      "cell_type": "code",
      "source": [
        "PATH_TO_DATA = \"/content/data_kion.zip\""
      ],
      "metadata": {
        "id": "hnxsuMnDbE7o"
      },
      "execution_count": null,
      "outputs": []
    },
    {
      "cell_type": "code",
      "source": [
        "with ZipFile(PATH_TO_DATA) as z:\n",
        "    \n",
        "    with z.open(\"data_kion/interactions_df.csv\") as f:\n",
        "        interactions = pd.read_csv(f)\n",
        "    \n",
        "    with z.open(\"data_kion/items.csv\") as f:\n",
        "        items = pd.read_csv(f)\n",
        "        \n",
        "    with z.open(\"data_kion/users.csv\") as f:\n",
        "        users = pd.read_csv(f)"
      ],
      "metadata": {
        "id": "IKi2yXY_ajxS"
      },
      "execution_count": null,
      "outputs": []
    },
    {
      "cell_type": "markdown",
      "source": [
        "### EDA"
      ],
      "metadata": {
        "id": "1iDwuD6Nd3RI"
      }
    },
    {
      "cell_type": "markdown",
      "source": [
        "### interactions: взаимодействия пользователь - айтем"
      ],
      "metadata": {
        "id": "sOPB70ixeDz4"
      }
    },
    {
      "cell_type": "markdown",
      "source": [
        "* дата last_watch_dt\n",
        "* длительность просмотра total_dur\n",
        "* % просмотра watched_pct"
      ],
      "metadata": {
        "id": "7ATQy4aHd-3v"
      }
    },
    {
      "cell_type": "code",
      "source": [
        "interactions.head(5)"
      ],
      "metadata": {
        "colab": {
          "base_uri": "https://localhost:8080/",
          "height": 206
        },
        "id": "6WAbPegDd-NI",
        "outputId": "81b81b06-4ddb-4656-a18b-60b6ac954f7d"
      },
      "execution_count": null,
      "outputs": [
        {
          "output_type": "execute_result",
          "data": {
            "text/plain": [
              "   user_id  item_id last_watch_dt  total_dur  watched_pct\n",
              "0   176549     9506    2021-05-11       4250         72.0\n",
              "1   699317     1659    2021-05-29       8317        100.0\n",
              "2   656683     7107    2021-05-09         10          0.0\n",
              "3   864613     7638    2021-07-05      14483        100.0\n",
              "4   964868     9506    2021-04-30       6725        100.0"
            ],
            "text/html": [
              "\n",
              "  <div id=\"df-e1f58379-4b50-4e84-9e7b-a412c0567b6a\">\n",
              "    <div class=\"colab-df-container\">\n",
              "      <div>\n",
              "<style scoped>\n",
              "    .dataframe tbody tr th:only-of-type {\n",
              "        vertical-align: middle;\n",
              "    }\n",
              "\n",
              "    .dataframe tbody tr th {\n",
              "        vertical-align: top;\n",
              "    }\n",
              "\n",
              "    .dataframe thead th {\n",
              "        text-align: right;\n",
              "    }\n",
              "</style>\n",
              "<table border=\"1\" class=\"dataframe\">\n",
              "  <thead>\n",
              "    <tr style=\"text-align: right;\">\n",
              "      <th></th>\n",
              "      <th>user_id</th>\n",
              "      <th>item_id</th>\n",
              "      <th>last_watch_dt</th>\n",
              "      <th>total_dur</th>\n",
              "      <th>watched_pct</th>\n",
              "    </tr>\n",
              "  </thead>\n",
              "  <tbody>\n",
              "    <tr>\n",
              "      <th>0</th>\n",
              "      <td>176549</td>\n",
              "      <td>9506</td>\n",
              "      <td>2021-05-11</td>\n",
              "      <td>4250</td>\n",
              "      <td>72.0</td>\n",
              "    </tr>\n",
              "    <tr>\n",
              "      <th>1</th>\n",
              "      <td>699317</td>\n",
              "      <td>1659</td>\n",
              "      <td>2021-05-29</td>\n",
              "      <td>8317</td>\n",
              "      <td>100.0</td>\n",
              "    </tr>\n",
              "    <tr>\n",
              "      <th>2</th>\n",
              "      <td>656683</td>\n",
              "      <td>7107</td>\n",
              "      <td>2021-05-09</td>\n",
              "      <td>10</td>\n",
              "      <td>0.0</td>\n",
              "    </tr>\n",
              "    <tr>\n",
              "      <th>3</th>\n",
              "      <td>864613</td>\n",
              "      <td>7638</td>\n",
              "      <td>2021-07-05</td>\n",
              "      <td>14483</td>\n",
              "      <td>100.0</td>\n",
              "    </tr>\n",
              "    <tr>\n",
              "      <th>4</th>\n",
              "      <td>964868</td>\n",
              "      <td>9506</td>\n",
              "      <td>2021-04-30</td>\n",
              "      <td>6725</td>\n",
              "      <td>100.0</td>\n",
              "    </tr>\n",
              "  </tbody>\n",
              "</table>\n",
              "</div>\n",
              "      <button class=\"colab-df-convert\" onclick=\"convertToInteractive('df-e1f58379-4b50-4e84-9e7b-a412c0567b6a')\"\n",
              "              title=\"Convert this dataframe to an interactive table.\"\n",
              "              style=\"display:none;\">\n",
              "        \n",
              "  <svg xmlns=\"http://www.w3.org/2000/svg\" height=\"24px\"viewBox=\"0 0 24 24\"\n",
              "       width=\"24px\">\n",
              "    <path d=\"M0 0h24v24H0V0z\" fill=\"none\"/>\n",
              "    <path d=\"M18.56 5.44l.94 2.06.94-2.06 2.06-.94-2.06-.94-.94-2.06-.94 2.06-2.06.94zm-11 1L8.5 8.5l.94-2.06 2.06-.94-2.06-.94L8.5 2.5l-.94 2.06-2.06.94zm10 10l.94 2.06.94-2.06 2.06-.94-2.06-.94-.94-2.06-.94 2.06-2.06.94z\"/><path d=\"M17.41 7.96l-1.37-1.37c-.4-.4-.92-.59-1.43-.59-.52 0-1.04.2-1.43.59L10.3 9.45l-7.72 7.72c-.78.78-.78 2.05 0 2.83L4 21.41c.39.39.9.59 1.41.59.51 0 1.02-.2 1.41-.59l7.78-7.78 2.81-2.81c.8-.78.8-2.07 0-2.86zM5.41 20L4 18.59l7.72-7.72 1.47 1.35L5.41 20z\"/>\n",
              "  </svg>\n",
              "      </button>\n",
              "      \n",
              "  <style>\n",
              "    .colab-df-container {\n",
              "      display:flex;\n",
              "      flex-wrap:wrap;\n",
              "      gap: 12px;\n",
              "    }\n",
              "\n",
              "    .colab-df-convert {\n",
              "      background-color: #E8F0FE;\n",
              "      border: none;\n",
              "      border-radius: 50%;\n",
              "      cursor: pointer;\n",
              "      display: none;\n",
              "      fill: #1967D2;\n",
              "      height: 32px;\n",
              "      padding: 0 0 0 0;\n",
              "      width: 32px;\n",
              "    }\n",
              "\n",
              "    .colab-df-convert:hover {\n",
              "      background-color: #E2EBFA;\n",
              "      box-shadow: 0px 1px 2px rgba(60, 64, 67, 0.3), 0px 1px 3px 1px rgba(60, 64, 67, 0.15);\n",
              "      fill: #174EA6;\n",
              "    }\n",
              "\n",
              "    [theme=dark] .colab-df-convert {\n",
              "      background-color: #3B4455;\n",
              "      fill: #D2E3FC;\n",
              "    }\n",
              "\n",
              "    [theme=dark] .colab-df-convert:hover {\n",
              "      background-color: #434B5C;\n",
              "      box-shadow: 0px 1px 3px 1px rgba(0, 0, 0, 0.15);\n",
              "      filter: drop-shadow(0px 1px 2px rgba(0, 0, 0, 0.3));\n",
              "      fill: #FFFFFF;\n",
              "    }\n",
              "  </style>\n",
              "\n",
              "      <script>\n",
              "        const buttonEl =\n",
              "          document.querySelector('#df-e1f58379-4b50-4e84-9e7b-a412c0567b6a button.colab-df-convert');\n",
              "        buttonEl.style.display =\n",
              "          google.colab.kernel.accessAllowed ? 'block' : 'none';\n",
              "\n",
              "        async function convertToInteractive(key) {\n",
              "          const element = document.querySelector('#df-e1f58379-4b50-4e84-9e7b-a412c0567b6a');\n",
              "          const dataTable =\n",
              "            await google.colab.kernel.invokeFunction('convertToInteractive',\n",
              "                                                     [key], {});\n",
              "          if (!dataTable) return;\n",
              "\n",
              "          const docLinkHtml = 'Like what you see? Visit the ' +\n",
              "            '<a target=\"_blank\" href=https://colab.research.google.com/notebooks/data_table.ipynb>data table notebook</a>'\n",
              "            + ' to learn more about interactive tables.';\n",
              "          element.innerHTML = '';\n",
              "          dataTable['output_type'] = 'display_data';\n",
              "          await google.colab.output.renderOutput(dataTable, element);\n",
              "          const docLink = document.createElement('div');\n",
              "          docLink.innerHTML = docLinkHtml;\n",
              "          element.appendChild(docLink);\n",
              "        }\n",
              "      </script>\n",
              "    </div>\n",
              "  </div>\n",
              "  "
            ]
          },
          "metadata": {},
          "execution_count": 19
        }
      ]
    },
    {
      "cell_type": "code",
      "source": [
        "# Обработка даты\n",
        "interactions['last_watch_dt'] = pd.to_datetime(interactions['last_watch_dt']).map(lambda x: x.date())\n",
        "\n",
        "print(f\"Уникальных юзеров в interactions: {interactions['user_id'].nunique():_}\")\n",
        "print(f\"Уникальных айтемов в interactions: {interactions['item_id'].nunique():_}\")"
      ],
      "metadata": {
        "colab": {
          "base_uri": "https://localhost:8080/"
        },
        "id": "R8i2GvrGeRoH",
        "outputId": "bbb274be-98eb-4fb3-9ed9-d0bd2b706982"
      },
      "execution_count": null,
      "outputs": [
        {
          "output_type": "stream",
          "name": "stdout",
          "text": [
            "Уникальных юзеров в interactions: 962_179\n",
            "Уникальных айтемов в interactions: 15_706\n"
          ]
        }
      ]
    },
    {
      "cell_type": "code",
      "source": [
        "max_date = interactions['last_watch_dt'].max()\n",
        "min_date = interactions['last_watch_dt'].min()\n",
        "\n",
        "print(f\"min дата в interactions: {min_date}\")\n",
        "print(f\"max дата в interactions: {max_date}\")"
      ],
      "metadata": {
        "colab": {
          "base_uri": "https://localhost:8080/"
        },
        "id": "Ep0r9giAec5f",
        "outputId": "e1324e2f-ceab-4a71-b504-ec3059cced50"
      },
      "execution_count": null,
      "outputs": [
        {
          "output_type": "stream",
          "name": "stdout",
          "text": [
            "min дата в interactions: 2021-03-13\n",
            "max дата в interactions: 2021-08-22\n"
          ]
        }
      ]
    },
    {
      "cell_type": "markdown",
      "source": [
        "### users: данные о пользователях"
      ],
      "metadata": {
        "id": "PrDKXV1QeedI"
      }
    },
    {
      "cell_type": "markdown",
      "source": [
        "* age бин по возрасту\n",
        "* income бин по доходу\n",
        "* sex пол\n",
        "* kids_flg флаг наличия детей\n",
        "\n",
        "Все признаки - результат предсказания соцдем моделей"
      ],
      "metadata": {
        "id": "LjjpFW1Ceh1_"
      }
    },
    {
      "cell_type": "code",
      "source": [
        "users.head(5)"
      ],
      "metadata": {
        "colab": {
          "base_uri": "https://localhost:8080/",
          "height": 206
        },
        "id": "wHXUuS0ieoVn",
        "outputId": "1b5af7eb-2b5c-4474-b791-105dee375fcb"
      },
      "execution_count": null,
      "outputs": [
        {
          "output_type": "execute_result",
          "data": {
            "text/plain": [
              "   user_id        age        income sex  kids_flg\n",
              "0   973171  age_25_34  income_60_90   М         1\n",
              "1   962099  age_18_24  income_20_40   М         0\n",
              "2  1047345  age_45_54  income_40_60   Ж         0\n",
              "3   721985  age_45_54  income_20_40   Ж         0\n",
              "4   704055  age_35_44  income_60_90   Ж         0"
            ],
            "text/html": [
              "\n",
              "  <div id=\"df-6a30279e-2248-4c11-b1cc-664885797092\">\n",
              "    <div class=\"colab-df-container\">\n",
              "      <div>\n",
              "<style scoped>\n",
              "    .dataframe tbody tr th:only-of-type {\n",
              "        vertical-align: middle;\n",
              "    }\n",
              "\n",
              "    .dataframe tbody tr th {\n",
              "        vertical-align: top;\n",
              "    }\n",
              "\n",
              "    .dataframe thead th {\n",
              "        text-align: right;\n",
              "    }\n",
              "</style>\n",
              "<table border=\"1\" class=\"dataframe\">\n",
              "  <thead>\n",
              "    <tr style=\"text-align: right;\">\n",
              "      <th></th>\n",
              "      <th>user_id</th>\n",
              "      <th>age</th>\n",
              "      <th>income</th>\n",
              "      <th>sex</th>\n",
              "      <th>kids_flg</th>\n",
              "    </tr>\n",
              "  </thead>\n",
              "  <tbody>\n",
              "    <tr>\n",
              "      <th>0</th>\n",
              "      <td>973171</td>\n",
              "      <td>age_25_34</td>\n",
              "      <td>income_60_90</td>\n",
              "      <td>М</td>\n",
              "      <td>1</td>\n",
              "    </tr>\n",
              "    <tr>\n",
              "      <th>1</th>\n",
              "      <td>962099</td>\n",
              "      <td>age_18_24</td>\n",
              "      <td>income_20_40</td>\n",
              "      <td>М</td>\n",
              "      <td>0</td>\n",
              "    </tr>\n",
              "    <tr>\n",
              "      <th>2</th>\n",
              "      <td>1047345</td>\n",
              "      <td>age_45_54</td>\n",
              "      <td>income_40_60</td>\n",
              "      <td>Ж</td>\n",
              "      <td>0</td>\n",
              "    </tr>\n",
              "    <tr>\n",
              "      <th>3</th>\n",
              "      <td>721985</td>\n",
              "      <td>age_45_54</td>\n",
              "      <td>income_20_40</td>\n",
              "      <td>Ж</td>\n",
              "      <td>0</td>\n",
              "    </tr>\n",
              "    <tr>\n",
              "      <th>4</th>\n",
              "      <td>704055</td>\n",
              "      <td>age_35_44</td>\n",
              "      <td>income_60_90</td>\n",
              "      <td>Ж</td>\n",
              "      <td>0</td>\n",
              "    </tr>\n",
              "  </tbody>\n",
              "</table>\n",
              "</div>\n",
              "      <button class=\"colab-df-convert\" onclick=\"convertToInteractive('df-6a30279e-2248-4c11-b1cc-664885797092')\"\n",
              "              title=\"Convert this dataframe to an interactive table.\"\n",
              "              style=\"display:none;\">\n",
              "        \n",
              "  <svg xmlns=\"http://www.w3.org/2000/svg\" height=\"24px\"viewBox=\"0 0 24 24\"\n",
              "       width=\"24px\">\n",
              "    <path d=\"M0 0h24v24H0V0z\" fill=\"none\"/>\n",
              "    <path d=\"M18.56 5.44l.94 2.06.94-2.06 2.06-.94-2.06-.94-.94-2.06-.94 2.06-2.06.94zm-11 1L8.5 8.5l.94-2.06 2.06-.94-2.06-.94L8.5 2.5l-.94 2.06-2.06.94zm10 10l.94 2.06.94-2.06 2.06-.94-2.06-.94-.94-2.06-.94 2.06-2.06.94z\"/><path d=\"M17.41 7.96l-1.37-1.37c-.4-.4-.92-.59-1.43-.59-.52 0-1.04.2-1.43.59L10.3 9.45l-7.72 7.72c-.78.78-.78 2.05 0 2.83L4 21.41c.39.39.9.59 1.41.59.51 0 1.02-.2 1.41-.59l7.78-7.78 2.81-2.81c.8-.78.8-2.07 0-2.86zM5.41 20L4 18.59l7.72-7.72 1.47 1.35L5.41 20z\"/>\n",
              "  </svg>\n",
              "      </button>\n",
              "      \n",
              "  <style>\n",
              "    .colab-df-container {\n",
              "      display:flex;\n",
              "      flex-wrap:wrap;\n",
              "      gap: 12px;\n",
              "    }\n",
              "\n",
              "    .colab-df-convert {\n",
              "      background-color: #E8F0FE;\n",
              "      border: none;\n",
              "      border-radius: 50%;\n",
              "      cursor: pointer;\n",
              "      display: none;\n",
              "      fill: #1967D2;\n",
              "      height: 32px;\n",
              "      padding: 0 0 0 0;\n",
              "      width: 32px;\n",
              "    }\n",
              "\n",
              "    .colab-df-convert:hover {\n",
              "      background-color: #E2EBFA;\n",
              "      box-shadow: 0px 1px 2px rgba(60, 64, 67, 0.3), 0px 1px 3px 1px rgba(60, 64, 67, 0.15);\n",
              "      fill: #174EA6;\n",
              "    }\n",
              "\n",
              "    [theme=dark] .colab-df-convert {\n",
              "      background-color: #3B4455;\n",
              "      fill: #D2E3FC;\n",
              "    }\n",
              "\n",
              "    [theme=dark] .colab-df-convert:hover {\n",
              "      background-color: #434B5C;\n",
              "      box-shadow: 0px 1px 3px 1px rgba(0, 0, 0, 0.15);\n",
              "      filter: drop-shadow(0px 1px 2px rgba(0, 0, 0, 0.3));\n",
              "      fill: #FFFFFF;\n",
              "    }\n",
              "  </style>\n",
              "\n",
              "      <script>\n",
              "        const buttonEl =\n",
              "          document.querySelector('#df-6a30279e-2248-4c11-b1cc-664885797092 button.colab-df-convert');\n",
              "        buttonEl.style.display =\n",
              "          google.colab.kernel.accessAllowed ? 'block' : 'none';\n",
              "\n",
              "        async function convertToInteractive(key) {\n",
              "          const element = document.querySelector('#df-6a30279e-2248-4c11-b1cc-664885797092');\n",
              "          const dataTable =\n",
              "            await google.colab.kernel.invokeFunction('convertToInteractive',\n",
              "                                                     [key], {});\n",
              "          if (!dataTable) return;\n",
              "\n",
              "          const docLinkHtml = 'Like what you see? Visit the ' +\n",
              "            '<a target=\"_blank\" href=https://colab.research.google.com/notebooks/data_table.ipynb>data table notebook</a>'\n",
              "            + ' to learn more about interactive tables.';\n",
              "          element.innerHTML = '';\n",
              "          dataTable['output_type'] = 'display_data';\n",
              "          await google.colab.output.renderOutput(dataTable, element);\n",
              "          const docLink = document.createElement('div');\n",
              "          docLink.innerHTML = docLinkHtml;\n",
              "          element.appendChild(docLink);\n",
              "        }\n",
              "      </script>\n",
              "    </div>\n",
              "  </div>\n",
              "  "
            ]
          },
          "metadata": {},
          "execution_count": 22
        }
      ]
    },
    {
      "cell_type": "code",
      "source": [
        "f\"Уникальных юзеров в users: {users.shape[0]:_}\""
      ],
      "metadata": {
        "colab": {
          "base_uri": "https://localhost:8080/",
          "height": 35
        },
        "id": "f7-FqWdVesHH",
        "outputId": "b271ecc0-75aa-49ee-bdc5-dcbdf72bc89b"
      },
      "execution_count": null,
      "outputs": [
        {
          "output_type": "execute_result",
          "data": {
            "text/plain": [
              "'Уникальных юзеров в users: 840_197'"
            ],
            "application/vnd.google.colaboratory.intrinsic+json": {
              "type": "string"
            }
          },
          "metadata": {},
          "execution_count": 23
        }
      ]
    },
    {
      "cell_type": "markdown",
      "source": [
        "### items: данные об айтемах"
      ],
      "metadata": {
        "id": "jKMBXqbheuUn"
      }
    },
    {
      "cell_type": "markdown",
      "source": [
        "* content_type - тип контента\n",
        "* title - название на русском\n",
        "* title_orig - название оригинальное\n",
        "* release_year - год выпуска\n",
        "* countries - страны\n",
        "* for_kids - флаг контент для детей\n",
        "* age_rating- Возрастной рейтинг\n",
        "* studios - студии\n",
        "* directors - режиссеры\n",
        "* actors- актеры\n",
        "* keywords - ключевые слова\n",
        "* description - описание"
      ],
      "metadata": {
        "id": "yPf9bg3yevxH"
      }
    },
    {
      "cell_type": "code",
      "source": [
        "f\"Уникальных айтемов в items {items.shape[0]:_}\""
      ],
      "metadata": {
        "colab": {
          "base_uri": "https://localhost:8080/",
          "height": 35
        },
        "id": "vuWRPuyGe8uW",
        "outputId": "a7ca583a-7ddc-4564-d0d1-84d065fa7dfc"
      },
      "execution_count": null,
      "outputs": [
        {
          "output_type": "execute_result",
          "data": {
            "text/plain": [
              "'Уникальных айтемов в items 15_963'"
            ],
            "application/vnd.google.colaboratory.intrinsic+json": {
              "type": "string"
            }
          },
          "metadata": {},
          "execution_count": 24
        }
      ]
    },
    {
      "cell_type": "markdown",
      "source": [
        "### Train - Test"
      ],
      "metadata": {
        "id": "8r_sfUuxfFs2"
      }
    },
    {
      "cell_type": "code",
      "source": [
        "train = interactions[(interactions['last_watch_dt'] < max_date - pd.Timedelta(days=7))]\n",
        "test = interactions[(interactions['last_watch_dt'] >= max_date - pd.Timedelta(days=7))]\n",
        "\n",
        "# Дополнительная фильтрация train для исключения случайных просмотров \n",
        "train = train[train['total_dur'] >= 300]\n",
        "\n",
        "print(f\"train: {train.shape}\")\n",
        "print(f\"test: {test.shape}\")"
      ],
      "metadata": {
        "colab": {
          "base_uri": "https://localhost:8080/"
        },
        "id": "4e0Yo8kSfIko",
        "outputId": "8b2d3fe8-3fb8-48b9-d363-9381f1d6aec3"
      },
      "execution_count": null,
      "outputs": [
        {
          "output_type": "stream",
          "name": "stdout",
          "text": [
            "train: (3832711, 5)\n",
            "test: (490982, 5)\n"
          ]
        }
      ]
    },
    {
      "cell_type": "code",
      "source": [
        "# Разделим данные на lfm_train и lfm_pred как 60%-40% по квантилю даты просмотра\n",
        "lfm_date_threshold = train['last_watch_dt'].quantile(q=0.6, interpolation='nearest')\n",
        "lfm_date_threshold"
      ],
      "metadata": {
        "colab": {
          "base_uri": "https://localhost:8080/"
        },
        "id": "hwlpCNN6fmTv",
        "outputId": "8a6284d7-5a51-4f0b-89fa-6bcb725ad90f"
      },
      "execution_count": null,
      "outputs": [
        {
          "output_type": "execute_result",
          "data": {
            "text/plain": [
              "datetime.date(2021, 7, 6)"
            ]
          },
          "metadata": {},
          "execution_count": 26
        }
      ]
    },
    {
      "cell_type": "code",
      "source": [
        "lfm_train = train[(train['last_watch_dt'] < lfm_date_threshold)]\n",
        "lfm_pred = train[(train['last_watch_dt'] >= lfm_date_threshold)]\n",
        "\n",
        "print(f\"lfm_train: {lfm_train.shape}\")\n",
        "print(f\"lfm_pred: {lfm_pred.shape}\")"
      ],
      "metadata": {
        "colab": {
          "base_uri": "https://localhost:8080/"
        },
        "id": "VFnoPYIDfquO",
        "outputId": "c10fe60c-209d-4cfa-82d0-1f5d8da1b7b6"
      },
      "execution_count": null,
      "outputs": [
        {
          "output_type": "stream",
          "name": "stdout",
          "text": [
            "lfm_train: (2286604, 5)\n",
            "lfm_pred: (1546107, 5)\n"
          ]
        }
      ]
    },
    {
      "cell_type": "code",
      "source": [
        "# Будем предсказывать кандидатов только на теплых пользователях - у которых есть просмотры в обучающей выборке\n",
        "lfm_pred = lfm_pred[lfm_pred['user_id'].isin(lfm_train['user_id'].unique())]"
      ],
      "metadata": {
        "id": "EABdur_Lf2GX"
      },
      "execution_count": null,
      "outputs": []
    },
    {
      "cell_type": "code",
      "source": [
        "lfm_train.head(3)"
      ],
      "metadata": {
        "colab": {
          "base_uri": "https://localhost:8080/",
          "height": 143
        },
        "id": "yRizYfq0f7Yf",
        "outputId": "9417fc09-7e2c-4fa1-882e-29ffd5101f6f"
      },
      "execution_count": null,
      "outputs": [
        {
          "output_type": "execute_result",
          "data": {
            "text/plain": [
              "   user_id  item_id last_watch_dt  total_dur  watched_pct\n",
              "0   176549     9506    2021-05-11       4250         72.0\n",
              "1   699317     1659    2021-05-29       8317        100.0\n",
              "3   864613     7638    2021-07-05      14483        100.0"
            ],
            "text/html": [
              "\n",
              "  <div id=\"df-3591a049-1578-442d-8c5a-50aad69cb1cf\">\n",
              "    <div class=\"colab-df-container\">\n",
              "      <div>\n",
              "<style scoped>\n",
              "    .dataframe tbody tr th:only-of-type {\n",
              "        vertical-align: middle;\n",
              "    }\n",
              "\n",
              "    .dataframe tbody tr th {\n",
              "        vertical-align: top;\n",
              "    }\n",
              "\n",
              "    .dataframe thead th {\n",
              "        text-align: right;\n",
              "    }\n",
              "</style>\n",
              "<table border=\"1\" class=\"dataframe\">\n",
              "  <thead>\n",
              "    <tr style=\"text-align: right;\">\n",
              "      <th></th>\n",
              "      <th>user_id</th>\n",
              "      <th>item_id</th>\n",
              "      <th>last_watch_dt</th>\n",
              "      <th>total_dur</th>\n",
              "      <th>watched_pct</th>\n",
              "    </tr>\n",
              "  </thead>\n",
              "  <tbody>\n",
              "    <tr>\n",
              "      <th>0</th>\n",
              "      <td>176549</td>\n",
              "      <td>9506</td>\n",
              "      <td>2021-05-11</td>\n",
              "      <td>4250</td>\n",
              "      <td>72.0</td>\n",
              "    </tr>\n",
              "    <tr>\n",
              "      <th>1</th>\n",
              "      <td>699317</td>\n",
              "      <td>1659</td>\n",
              "      <td>2021-05-29</td>\n",
              "      <td>8317</td>\n",
              "      <td>100.0</td>\n",
              "    </tr>\n",
              "    <tr>\n",
              "      <th>3</th>\n",
              "      <td>864613</td>\n",
              "      <td>7638</td>\n",
              "      <td>2021-07-05</td>\n",
              "      <td>14483</td>\n",
              "      <td>100.0</td>\n",
              "    </tr>\n",
              "  </tbody>\n",
              "</table>\n",
              "</div>\n",
              "      <button class=\"colab-df-convert\" onclick=\"convertToInteractive('df-3591a049-1578-442d-8c5a-50aad69cb1cf')\"\n",
              "              title=\"Convert this dataframe to an interactive table.\"\n",
              "              style=\"display:none;\">\n",
              "        \n",
              "  <svg xmlns=\"http://www.w3.org/2000/svg\" height=\"24px\"viewBox=\"0 0 24 24\"\n",
              "       width=\"24px\">\n",
              "    <path d=\"M0 0h24v24H0V0z\" fill=\"none\"/>\n",
              "    <path d=\"M18.56 5.44l.94 2.06.94-2.06 2.06-.94-2.06-.94-.94-2.06-.94 2.06-2.06.94zm-11 1L8.5 8.5l.94-2.06 2.06-.94-2.06-.94L8.5 2.5l-.94 2.06-2.06.94zm10 10l.94 2.06.94-2.06 2.06-.94-2.06-.94-.94-2.06-.94 2.06-2.06.94z\"/><path d=\"M17.41 7.96l-1.37-1.37c-.4-.4-.92-.59-1.43-.59-.52 0-1.04.2-1.43.59L10.3 9.45l-7.72 7.72c-.78.78-.78 2.05 0 2.83L4 21.41c.39.39.9.59 1.41.59.51 0 1.02-.2 1.41-.59l7.78-7.78 2.81-2.81c.8-.78.8-2.07 0-2.86zM5.41 20L4 18.59l7.72-7.72 1.47 1.35L5.41 20z\"/>\n",
              "  </svg>\n",
              "      </button>\n",
              "      \n",
              "  <style>\n",
              "    .colab-df-container {\n",
              "      display:flex;\n",
              "      flex-wrap:wrap;\n",
              "      gap: 12px;\n",
              "    }\n",
              "\n",
              "    .colab-df-convert {\n",
              "      background-color: #E8F0FE;\n",
              "      border: none;\n",
              "      border-radius: 50%;\n",
              "      cursor: pointer;\n",
              "      display: none;\n",
              "      fill: #1967D2;\n",
              "      height: 32px;\n",
              "      padding: 0 0 0 0;\n",
              "      width: 32px;\n",
              "    }\n",
              "\n",
              "    .colab-df-convert:hover {\n",
              "      background-color: #E2EBFA;\n",
              "      box-shadow: 0px 1px 2px rgba(60, 64, 67, 0.3), 0px 1px 3px 1px rgba(60, 64, 67, 0.15);\n",
              "      fill: #174EA6;\n",
              "    }\n",
              "\n",
              "    [theme=dark] .colab-df-convert {\n",
              "      background-color: #3B4455;\n",
              "      fill: #D2E3FC;\n",
              "    }\n",
              "\n",
              "    [theme=dark] .colab-df-convert:hover {\n",
              "      background-color: #434B5C;\n",
              "      box-shadow: 0px 1px 3px 1px rgba(0, 0, 0, 0.15);\n",
              "      filter: drop-shadow(0px 1px 2px rgba(0, 0, 0, 0.3));\n",
              "      fill: #FFFFFF;\n",
              "    }\n",
              "  </style>\n",
              "\n",
              "      <script>\n",
              "        const buttonEl =\n",
              "          document.querySelector('#df-3591a049-1578-442d-8c5a-50aad69cb1cf button.colab-df-convert');\n",
              "        buttonEl.style.display =\n",
              "          google.colab.kernel.accessAllowed ? 'block' : 'none';\n",
              "\n",
              "        async function convertToInteractive(key) {\n",
              "          const element = document.querySelector('#df-3591a049-1578-442d-8c5a-50aad69cb1cf');\n",
              "          const dataTable =\n",
              "            await google.colab.kernel.invokeFunction('convertToInteractive',\n",
              "                                                     [key], {});\n",
              "          if (!dataTable) return;\n",
              "\n",
              "          const docLinkHtml = 'Like what you see? Visit the ' +\n",
              "            '<a target=\"_blank\" href=https://colab.research.google.com/notebooks/data_table.ipynb>data table notebook</a>'\n",
              "            + ' to learn more about interactive tables.';\n",
              "          element.innerHTML = '';\n",
              "          dataTable['output_type'] = 'display_data';\n",
              "          await google.colab.output.renderOutput(dataTable, element);\n",
              "          const docLink = document.createElement('div');\n",
              "          docLink.innerHTML = docLinkHtml;\n",
              "          element.appendChild(docLink);\n",
              "        }\n",
              "      </script>\n",
              "    </div>\n",
              "  </div>\n",
              "  "
            ]
          },
          "metadata": {},
          "execution_count": 30
        }
      ]
    },
    {
      "cell_type": "markdown",
      "source": [
        "### Обучение LightFM"
      ],
      "metadata": {
        "id": "YrFYdKtBf_HP"
      }
    },
    {
      "cell_type": "code",
      "source": [
        "dataset = Dataset()\n",
        "dataset.fit(lfm_train['user_id'].unique(), lfm_train['item_id'].unique())"
      ],
      "metadata": {
        "id": "g5YQqRRCgCj_"
      },
      "execution_count": null,
      "outputs": []
    },
    {
      "cell_type": "code",
      "source": [
        "interactions_matrix, weights_matrix = dataset.build_interactions(\n",
        "    zip(*lfm_train[['user_id', 'item_id', 'total_dur']].values.T)\n",
        ")\n",
        "\n",
        "weights_matrix_csr = weights_matrix.tocsr()"
      ],
      "metadata": {
        "id": "OiGTt5O8gRFm"
      },
      "execution_count": null,
      "outputs": []
    },
    {
      "cell_type": "code",
      "source": [
        "print(interactions_matrix)"
      ],
      "metadata": {
        "colab": {
          "base_uri": "https://localhost:8080/"
        },
        "id": "jB5C01ODgbxA",
        "outputId": "52e6d86f-d152-4a1a-82ce-be2907f76bb6"
      },
      "execution_count": null,
      "outputs": [
        {
          "output_type": "stream",
          "name": "stdout",
          "text": [
            "  (0, 0)\t1\n",
            "  (1, 1)\t1\n",
            "  (2, 2)\t1\n",
            "  (3, 0)\t1\n",
            "  (4, 3)\t1\n",
            "  (5, 4)\t1\n",
            "  (6, 5)\t1\n",
            "  (7, 6)\t1\n",
            "  (8, 7)\t1\n",
            "  (9, 8)\t1\n",
            "  (10, 9)\t1\n",
            "  (11, 10)\t1\n",
            "  (12, 11)\t1\n",
            "  (13, 12)\t1\n",
            "  (14, 13)\t1\n",
            "  (15, 14)\t1\n",
            "  (16, 15)\t1\n",
            "  (17, 16)\t1\n",
            "  (18, 17)\t1\n",
            "  (19, 18)\t1\n",
            "  (20, 19)\t1\n",
            "  (21, 20)\t1\n",
            "  (22, 21)\t1\n",
            "  (23, 22)\t1\n",
            "  (24, 23)\t1\n",
            "  :\t:\n",
            "  (348746, 19)\t1\n",
            "  (354, 828)\t1\n",
            "  (266725, 236)\t1\n",
            "  (101970, 56)\t1\n",
            "  (19795, 1450)\t1\n",
            "  (44599, 55)\t1\n",
            "  (29792, 1724)\t1\n",
            "  (512780, 131)\t1\n",
            "  (19759, 56)\t1\n",
            "  (10287, 837)\t1\n",
            "  (91529, 976)\t1\n",
            "  (201467, 304)\t1\n",
            "  (387595, 979)\t1\n",
            "  (494563, 1087)\t1\n",
            "  (512781, 1152)\t1\n",
            "  (512782, 1829)\t1\n",
            "  (233457, 181)\t1\n",
            "  (49404, 740)\t1\n",
            "  (145426, 248)\t1\n",
            "  (44969, 6603)\t1\n",
            "  (125589, 186)\t1\n",
            "  (148167, 24)\t1\n",
            "  (109060, 83)\t1\n",
            "  (103910, 2498)\t1\n",
            "  (71500, 2170)\t1\n"
          ]
        }
      ]
    },
    {
      "cell_type": "code",
      "source": [
        "print(weights_matrix)"
      ],
      "metadata": {
        "colab": {
          "base_uri": "https://localhost:8080/"
        },
        "id": "4RTS3DuigmqW",
        "outputId": "f523d192-203d-4b1c-8d14-c1aa1a40b528"
      },
      "execution_count": null,
      "outputs": [
        {
          "output_type": "stream",
          "name": "stdout",
          "text": [
            "  (0, 0)\t4250.0\n",
            "  (1, 1)\t8317.0\n",
            "  (2, 2)\t14483.0\n",
            "  (3, 0)\t6725.0\n",
            "  (4, 3)\t11286.0\n",
            "  (5, 4)\t26246.0\n",
            "  (6, 5)\t6598.0\n",
            "  (7, 6)\t18538.0\n",
            "  (8, 7)\t8422.0\n",
            "  (9, 8)\t6358.0\n",
            "  (10, 9)\t23673.0\n",
            "  (11, 10)\t407.0\n",
            "  (12, 11)\t8862.0\n",
            "  (13, 12)\t8413.0\n",
            "  (14, 13)\t67337.0\n",
            "  (15, 14)\t8535.0\n",
            "  (16, 15)\t746.0\n",
            "  (17, 16)\t36469.0\n",
            "  (18, 17)\t6394.0\n",
            "  (19, 18)\t1572.0\n",
            "  (20, 19)\t547.0\n",
            "  (21, 20)\t660.0\n",
            "  (22, 21)\t5194.0\n",
            "  (23, 22)\t565.0\n",
            "  (24, 23)\t12998.0\n",
            "  :\t:\n",
            "  (348746, 19)\t9846.0\n",
            "  (354, 828)\t20051.0\n",
            "  (266725, 236)\t6878.0\n",
            "  (101970, 56)\t6403.0\n",
            "  (19795, 1450)\t13122.0\n",
            "  (44599, 55)\t7301.0\n",
            "  (29792, 1724)\t118143.0\n",
            "  (512780, 131)\t7246.0\n",
            "  (19759, 56)\t647.0\n",
            "  (10287, 837)\t5937.0\n",
            "  (91529, 976)\t384.0\n",
            "  (201467, 304)\t7307.0\n",
            "  (387595, 979)\t8372.0\n",
            "  (494563, 1087)\t805.0\n",
            "  (512781, 1152)\t1594.0\n",
            "  (512782, 1829)\t8681.0\n",
            "  (233457, 181)\t397.0\n",
            "  (49404, 740)\t1709.0\n",
            "  (145426, 248)\t713.0\n",
            "  (44969, 6603)\t1830.0\n",
            "  (125589, 186)\t1133.0\n",
            "  (148167, 24)\t5752.0\n",
            "  (109060, 83)\t753.0\n",
            "  (103910, 2498)\t2308.0\n",
            "  (71500, 2170)\t6203.0\n"
          ]
        }
      ]
    },
    {
      "cell_type": "code",
      "source": [
        "lightfm_mapping = dataset.mapping()\n",
        "lightfm_mapping = {\n",
        "    'users_mapping': lightfm_mapping[0],\n",
        "    'items_mapping': lightfm_mapping[2],\n",
        "}\n",
        "\n",
        "lightfm_mapping['users_inv_mapping'] = {v: k for k, v in lightfm_mapping['users_mapping'].items()}\n",
        "lightfm_mapping['items_inv_mapping'] = {v: k for k, v in lightfm_mapping['items_mapping'].items()}\n",
        "\n",
        "print(f\"users_mapping amount: {len(lightfm_mapping['users_mapping'])}\")\n",
        "print(f\"items_mapping amount: {len(lightfm_mapping['items_mapping'])}\")"
      ],
      "metadata": {
        "colab": {
          "base_uri": "https://localhost:8080/"
        },
        "id": "zyLZRY_9gto2",
        "outputId": "fdd492ff-5e24-4559-a9ba-fb677637b223"
      },
      "execution_count": null,
      "outputs": [
        {
          "output_type": "stream",
          "name": "stdout",
          "text": [
            "users_mapping amount: 512783\n",
            "items_mapping amount: 12796\n"
          ]
        }
      ]
    },
    {
      "cell_type": "code",
      "source": [
        "lfm_model = LightFM(\n",
        "    no_components=64, \n",
        "    learning_rate=0.1, \n",
        "    loss='warp', \n",
        "    max_sampled=5, \n",
        "    random_state=42\n",
        ")"
      ],
      "metadata": {
        "id": "CeWS_2p1ha6t"
      },
      "execution_count": null,
      "outputs": []
    },
    {
      "cell_type": "code",
      "source": [
        "num_epochs = 20\n",
        "\n",
        "for _ in tqdm(range(num_epochs)):\n",
        "    lfm_model.fit_partial(\n",
        "        weights_matrix_csr\n",
        "    )"
      ],
      "metadata": {
        "colab": {
          "base_uri": "https://localhost:8080/",
          "height": 49,
          "referenced_widgets": [
            "1e356d29ba7e4b52b8b29a2402e5c185",
            "a5136503ae4f438e99b35af285a314dc",
            "a68da6f75f014404b3d423c84f25be10",
            "06e215fc936a406888e37feced3a2357",
            "d809ad9114c04234a93aa45f489352a4",
            "1568d5a239ca4703bf427b4a8da39d90",
            "b1f6d020d9c046888e2a9c0c53eabf3b",
            "c88120b71bc9423898546297d81111a9",
            "022b52e132064738825514a17960ab3a",
            "2ac9362a385f48d88156ad3365d4c0fc",
            "480a980886cd444d88476526d2ba8c69"
          ]
        },
        "id": "HVWtsGhOhdgV",
        "outputId": "5457f1b7-2726-4dc9-9656-82e3b63d8cd2"
      },
      "execution_count": null,
      "outputs": [
        {
          "output_type": "display_data",
          "data": {
            "text/plain": [
              "  0%|          | 0/20 [00:00<?, ?it/s]"
            ],
            "application/vnd.jupyter.widget-view+json": {
              "version_major": 2,
              "version_minor": 0,
              "model_id": "1e356d29ba7e4b52b8b29a2402e5c185"
            }
          },
          "metadata": {}
        }
      ]
    },
    {
      "cell_type": "markdown",
      "source": [
        "### Генерируем предсказания LightFM как кандидатов для второго этапа"
      ],
      "metadata": {
        "id": "SF5PJWTsiBVt"
      }
    },
    {
      "cell_type": "code",
      "source": [
        "candidates = pd.DataFrame({'user_id': lfm_pred['user_id'].unique()})\n",
        "candidates.head(3)"
      ],
      "metadata": {
        "colab": {
          "base_uri": "https://localhost:8080/",
          "height": 143
        },
        "id": "Vk0L82utiC6W",
        "outputId": "5382312b-7c69-44a7-8e42-6a8c6ddcb5cf"
      },
      "execution_count": null,
      "outputs": [
        {
          "output_type": "execute_result",
          "data": {
            "text/plain": [
              "   user_id\n",
              "0   988709\n",
              "1   646903\n",
              "2   215229"
            ],
            "text/html": [
              "\n",
              "  <div id=\"df-45e0ede7-7149-446c-a8e2-c1717dfdb4c4\">\n",
              "    <div class=\"colab-df-container\">\n",
              "      <div>\n",
              "<style scoped>\n",
              "    .dataframe tbody tr th:only-of-type {\n",
              "        vertical-align: middle;\n",
              "    }\n",
              "\n",
              "    .dataframe tbody tr th {\n",
              "        vertical-align: top;\n",
              "    }\n",
              "\n",
              "    .dataframe thead th {\n",
              "        text-align: right;\n",
              "    }\n",
              "</style>\n",
              "<table border=\"1\" class=\"dataframe\">\n",
              "  <thead>\n",
              "    <tr style=\"text-align: right;\">\n",
              "      <th></th>\n",
              "      <th>user_id</th>\n",
              "    </tr>\n",
              "  </thead>\n",
              "  <tbody>\n",
              "    <tr>\n",
              "      <th>0</th>\n",
              "      <td>988709</td>\n",
              "    </tr>\n",
              "    <tr>\n",
              "      <th>1</th>\n",
              "      <td>646903</td>\n",
              "    </tr>\n",
              "    <tr>\n",
              "      <th>2</th>\n",
              "      <td>215229</td>\n",
              "    </tr>\n",
              "  </tbody>\n",
              "</table>\n",
              "</div>\n",
              "      <button class=\"colab-df-convert\" onclick=\"convertToInteractive('df-45e0ede7-7149-446c-a8e2-c1717dfdb4c4')\"\n",
              "              title=\"Convert this dataframe to an interactive table.\"\n",
              "              style=\"display:none;\">\n",
              "        \n",
              "  <svg xmlns=\"http://www.w3.org/2000/svg\" height=\"24px\"viewBox=\"0 0 24 24\"\n",
              "       width=\"24px\">\n",
              "    <path d=\"M0 0h24v24H0V0z\" fill=\"none\"/>\n",
              "    <path d=\"M18.56 5.44l.94 2.06.94-2.06 2.06-.94-2.06-.94-.94-2.06-.94 2.06-2.06.94zm-11 1L8.5 8.5l.94-2.06 2.06-.94-2.06-.94L8.5 2.5l-.94 2.06-2.06.94zm10 10l.94 2.06.94-2.06 2.06-.94-2.06-.94-.94-2.06-.94 2.06-2.06.94z\"/><path d=\"M17.41 7.96l-1.37-1.37c-.4-.4-.92-.59-1.43-.59-.52 0-1.04.2-1.43.59L10.3 9.45l-7.72 7.72c-.78.78-.78 2.05 0 2.83L4 21.41c.39.39.9.59 1.41.59.51 0 1.02-.2 1.41-.59l7.78-7.78 2.81-2.81c.8-.78.8-2.07 0-2.86zM5.41 20L4 18.59l7.72-7.72 1.47 1.35L5.41 20z\"/>\n",
              "  </svg>\n",
              "      </button>\n",
              "      \n",
              "  <style>\n",
              "    .colab-df-container {\n",
              "      display:flex;\n",
              "      flex-wrap:wrap;\n",
              "      gap: 12px;\n",
              "    }\n",
              "\n",
              "    .colab-df-convert {\n",
              "      background-color: #E8F0FE;\n",
              "      border: none;\n",
              "      border-radius: 50%;\n",
              "      cursor: pointer;\n",
              "      display: none;\n",
              "      fill: #1967D2;\n",
              "      height: 32px;\n",
              "      padding: 0 0 0 0;\n",
              "      width: 32px;\n",
              "    }\n",
              "\n",
              "    .colab-df-convert:hover {\n",
              "      background-color: #E2EBFA;\n",
              "      box-shadow: 0px 1px 2px rgba(60, 64, 67, 0.3), 0px 1px 3px 1px rgba(60, 64, 67, 0.15);\n",
              "      fill: #174EA6;\n",
              "    }\n",
              "\n",
              "    [theme=dark] .colab-df-convert {\n",
              "      background-color: #3B4455;\n",
              "      fill: #D2E3FC;\n",
              "    }\n",
              "\n",
              "    [theme=dark] .colab-df-convert:hover {\n",
              "      background-color: #434B5C;\n",
              "      box-shadow: 0px 1px 3px 1px rgba(0, 0, 0, 0.15);\n",
              "      filter: drop-shadow(0px 1px 2px rgba(0, 0, 0, 0.3));\n",
              "      fill: #FFFFFF;\n",
              "    }\n",
              "  </style>\n",
              "\n",
              "      <script>\n",
              "        const buttonEl =\n",
              "          document.querySelector('#df-45e0ede7-7149-446c-a8e2-c1717dfdb4c4 button.colab-df-convert');\n",
              "        buttonEl.style.display =\n",
              "          google.colab.kernel.accessAllowed ? 'block' : 'none';\n",
              "\n",
              "        async function convertToInteractive(key) {\n",
              "          const element = document.querySelector('#df-45e0ede7-7149-446c-a8e2-c1717dfdb4c4');\n",
              "          const dataTable =\n",
              "            await google.colab.kernel.invokeFunction('convertToInteractive',\n",
              "                                                     [key], {});\n",
              "          if (!dataTable) return;\n",
              "\n",
              "          const docLinkHtml = 'Like what you see? Visit the ' +\n",
              "            '<a target=\"_blank\" href=https://colab.research.google.com/notebooks/data_table.ipynb>data table notebook</a>'\n",
              "            + ' to learn more about interactive tables.';\n",
              "          element.innerHTML = '';\n",
              "          dataTable['output_type'] = 'display_data';\n",
              "          await google.colab.output.renderOutput(dataTable, element);\n",
              "          const docLink = document.createElement('div');\n",
              "          docLink.innerHTML = docLinkHtml;\n",
              "          element.appendChild(docLink);\n",
              "        }\n",
              "      </script>\n",
              "    </div>\n",
              "  </div>\n",
              "  "
            ]
          },
          "metadata": {},
          "execution_count": 41
        }
      ]
    },
    {
      "cell_type": "code",
      "source": [
        "# Функция для генерации LightFM предсказаний по всем пользователям с учетом удаления просмотренных айтемов\n",
        "def generate_lightfm_recs_mapper(model, item_ids, known_items, \n",
        "                                 user_features, item_features, N, \n",
        "                                 user_mapping, item_inv_mapping, \n",
        "                                 num_threads=1):\n",
        "    def _recs_mapper(user):\n",
        "        user_id = user_mapping[user]\n",
        "        recs = model.predict(user_id, item_ids, user_features=user_features, \n",
        "                             item_features=item_features, num_threads=num_threads)\n",
        "        \n",
        "        additional_N = len(known_items[user_id]) if user_id in known_items else 0\n",
        "        total_N = N + additional_N\n",
        "        top_cols = np.argpartition(recs, -np.arange(total_N))[-total_N:][::-1]\n",
        "        \n",
        "        final_recs = [item_inv_mapping[item] for item in top_cols]\n",
        "        if additional_N > 0:\n",
        "            filter_items = known_items[user_id]\n",
        "            final_recs = [item for item in final_recs if item not in filter_items]\n",
        "        return final_recs[:N]\n",
        "    return _recs_mapper"
      ],
      "metadata": {
        "id": "MJzX5Uj_iK_M"
      },
      "execution_count": null,
      "outputs": []
    },
    {
      "cell_type": "code",
      "source": [
        "# Функция для расчета классических метрик рекомендаций\n",
        "def compute_metrics(df_true, df_pred, top_N, rank_col='rank'):\n",
        "    result = {}\n",
        "    test_recs = df_true.set_index(['user_id', 'item_id']).join(df_pred.set_index(['user_id', 'item_id']))\n",
        "    test_recs = test_recs.sort_values(by=['user_id', rank_col])\n",
        "\n",
        "    test_recs['users_item_count'] = test_recs.groupby(level='user_id')[rank_col].transform(np.size)\n",
        "    test_recs['reciprocal_rank'] = (1 / test_recs[rank_col]).fillna(0)\n",
        "    test_recs['cumulative_rank'] = test_recs.groupby(level='user_id').cumcount() + 1\n",
        "    test_recs['cumulative_rank'] = test_recs['cumulative_rank'] / test_recs[rank_col]\n",
        "    \n",
        "    users_count = test_recs.index.get_level_values('user_id').nunique()\n",
        "    for k in range(1, top_N + 1):\n",
        "        hit_k = f'hit@{k}'\n",
        "        test_recs[hit_k] = test_recs[rank_col] <= k\n",
        "        result[f'Precision@{k}'] = (test_recs[hit_k] / k).sum() / users_count\n",
        "        result[f'Recall@{k}'] = (test_recs[hit_k] / test_recs['users_item_count']).sum() / users_count\n",
        "\n",
        "    result[f'MAP@{top_N}'] = (test_recs[\"cumulative_rank\"] / test_recs[\"users_item_count\"]).sum() / users_count\n",
        "    result[f'MRR'] = test_recs.groupby(level='user_id')['reciprocal_rank'].max().mean()\n",
        "    return pd.Series(result)"
      ],
      "metadata": {
        "id": "P7OsJc-niSf2"
      },
      "execution_count": null,
      "outputs": []
    },
    {
      "cell_type": "code",
      "source": [
        "# Kол-во кандидатов \n",
        "top_N = 30\n",
        "\n",
        "# Bспомогательные данные \n",
        "all_cols = list(lightfm_mapping['items_mapping'].values())\n",
        "\n",
        "mapper = generate_lightfm_recs_mapper(\n",
        "    lfm_model, \n",
        "    item_ids=all_cols, \n",
        "    known_items=dict(),\n",
        "    N=top_N,\n",
        "    user_features=None, \n",
        "    item_features=None, \n",
        "    user_mapping=lightfm_mapping['users_mapping'],\n",
        "    item_inv_mapping=lightfm_mapping['items_inv_mapping'],\n",
        "    num_threads=20\n",
        ")"
      ],
      "metadata": {
        "id": "sgCUhym0ifTu"
      },
      "execution_count": null,
      "outputs": []
    },
    {
      "cell_type": "code",
      "source": [
        "# Генерируем предказания\n",
        "candidates['item_id'] = candidates['user_id'].map(mapper)\n",
        "candidates = candidates.explode('item_id')\n",
        "candidates['rank'] = candidates.groupby('user_id').cumcount() + 1 \n",
        "\n",
        "candidates.head()"
      ],
      "metadata": {
        "colab": {
          "base_uri": "https://localhost:8080/",
          "height": 206
        },
        "id": "JAp2_D1einOt",
        "outputId": "41f60b7e-f9d1-49de-9fe5-6c8ced3e8fe0"
      },
      "execution_count": null,
      "outputs": [
        {
          "output_type": "execute_result",
          "data": {
            "text/plain": [
              "   user_id item_id  rank\n",
              "0   988709   10440     1\n",
              "0   988709   15297     2\n",
              "0   988709   13865     3\n",
              "0   988709    4151     4\n",
              "0   988709    9728     5"
            ],
            "text/html": [
              "\n",
              "  <div id=\"df-e80c8f7c-fd9a-4012-803b-af5ecdbc5288\">\n",
              "    <div class=\"colab-df-container\">\n",
              "      <div>\n",
              "<style scoped>\n",
              "    .dataframe tbody tr th:only-of-type {\n",
              "        vertical-align: middle;\n",
              "    }\n",
              "\n",
              "    .dataframe tbody tr th {\n",
              "        vertical-align: top;\n",
              "    }\n",
              "\n",
              "    .dataframe thead th {\n",
              "        text-align: right;\n",
              "    }\n",
              "</style>\n",
              "<table border=\"1\" class=\"dataframe\">\n",
              "  <thead>\n",
              "    <tr style=\"text-align: right;\">\n",
              "      <th></th>\n",
              "      <th>user_id</th>\n",
              "      <th>item_id</th>\n",
              "      <th>rank</th>\n",
              "    </tr>\n",
              "  </thead>\n",
              "  <tbody>\n",
              "    <tr>\n",
              "      <th>0</th>\n",
              "      <td>988709</td>\n",
              "      <td>10440</td>\n",
              "      <td>1</td>\n",
              "    </tr>\n",
              "    <tr>\n",
              "      <th>0</th>\n",
              "      <td>988709</td>\n",
              "      <td>15297</td>\n",
              "      <td>2</td>\n",
              "    </tr>\n",
              "    <tr>\n",
              "      <th>0</th>\n",
              "      <td>988709</td>\n",
              "      <td>13865</td>\n",
              "      <td>3</td>\n",
              "    </tr>\n",
              "    <tr>\n",
              "      <th>0</th>\n",
              "      <td>988709</td>\n",
              "      <td>4151</td>\n",
              "      <td>4</td>\n",
              "    </tr>\n",
              "    <tr>\n",
              "      <th>0</th>\n",
              "      <td>988709</td>\n",
              "      <td>9728</td>\n",
              "      <td>5</td>\n",
              "    </tr>\n",
              "  </tbody>\n",
              "</table>\n",
              "</div>\n",
              "      <button class=\"colab-df-convert\" onclick=\"convertToInteractive('df-e80c8f7c-fd9a-4012-803b-af5ecdbc5288')\"\n",
              "              title=\"Convert this dataframe to an interactive table.\"\n",
              "              style=\"display:none;\">\n",
              "        \n",
              "  <svg xmlns=\"http://www.w3.org/2000/svg\" height=\"24px\"viewBox=\"0 0 24 24\"\n",
              "       width=\"24px\">\n",
              "    <path d=\"M0 0h24v24H0V0z\" fill=\"none\"/>\n",
              "    <path d=\"M18.56 5.44l.94 2.06.94-2.06 2.06-.94-2.06-.94-.94-2.06-.94 2.06-2.06.94zm-11 1L8.5 8.5l.94-2.06 2.06-.94-2.06-.94L8.5 2.5l-.94 2.06-2.06.94zm10 10l.94 2.06.94-2.06 2.06-.94-2.06-.94-.94-2.06-.94 2.06-2.06.94z\"/><path d=\"M17.41 7.96l-1.37-1.37c-.4-.4-.92-.59-1.43-.59-.52 0-1.04.2-1.43.59L10.3 9.45l-7.72 7.72c-.78.78-.78 2.05 0 2.83L4 21.41c.39.39.9.59 1.41.59.51 0 1.02-.2 1.41-.59l7.78-7.78 2.81-2.81c.8-.78.8-2.07 0-2.86zM5.41 20L4 18.59l7.72-7.72 1.47 1.35L5.41 20z\"/>\n",
              "  </svg>\n",
              "      </button>\n",
              "      \n",
              "  <style>\n",
              "    .colab-df-container {\n",
              "      display:flex;\n",
              "      flex-wrap:wrap;\n",
              "      gap: 12px;\n",
              "    }\n",
              "\n",
              "    .colab-df-convert {\n",
              "      background-color: #E8F0FE;\n",
              "      border: none;\n",
              "      border-radius: 50%;\n",
              "      cursor: pointer;\n",
              "      display: none;\n",
              "      fill: #1967D2;\n",
              "      height: 32px;\n",
              "      padding: 0 0 0 0;\n",
              "      width: 32px;\n",
              "    }\n",
              "\n",
              "    .colab-df-convert:hover {\n",
              "      background-color: #E2EBFA;\n",
              "      box-shadow: 0px 1px 2px rgba(60, 64, 67, 0.3), 0px 1px 3px 1px rgba(60, 64, 67, 0.15);\n",
              "      fill: #174EA6;\n",
              "    }\n",
              "\n",
              "    [theme=dark] .colab-df-convert {\n",
              "      background-color: #3B4455;\n",
              "      fill: #D2E3FC;\n",
              "    }\n",
              "\n",
              "    [theme=dark] .colab-df-convert:hover {\n",
              "      background-color: #434B5C;\n",
              "      box-shadow: 0px 1px 3px 1px rgba(0, 0, 0, 0.15);\n",
              "      filter: drop-shadow(0px 1px 2px rgba(0, 0, 0, 0.3));\n",
              "      fill: #FFFFFF;\n",
              "    }\n",
              "  </style>\n",
              "\n",
              "      <script>\n",
              "        const buttonEl =\n",
              "          document.querySelector('#df-e80c8f7c-fd9a-4012-803b-af5ecdbc5288 button.colab-df-convert');\n",
              "        buttonEl.style.display =\n",
              "          google.colab.kernel.accessAllowed ? 'block' : 'none';\n",
              "\n",
              "        async function convertToInteractive(key) {\n",
              "          const element = document.querySelector('#df-e80c8f7c-fd9a-4012-803b-af5ecdbc5288');\n",
              "          const dataTable =\n",
              "            await google.colab.kernel.invokeFunction('convertToInteractive',\n",
              "                                                     [key], {});\n",
              "          if (!dataTable) return;\n",
              "\n",
              "          const docLinkHtml = 'Like what you see? Visit the ' +\n",
              "            '<a target=\"_blank\" href=https://colab.research.google.com/notebooks/data_table.ipynb>data table notebook</a>'\n",
              "            + ' to learn more about interactive tables.';\n",
              "          element.innerHTML = '';\n",
              "          dataTable['output_type'] = 'display_data';\n",
              "          await google.colab.output.renderOutput(dataTable, element);\n",
              "          const docLink = document.createElement('div');\n",
              "          docLink.innerHTML = docLinkHtml;\n",
              "          element.appendChild(docLink);\n",
              "        }\n",
              "      </script>\n",
              "    </div>\n",
              "  </div>\n",
              "  "
            ]
          },
          "metadata": {},
          "execution_count": 45
        }
      ]
    },
    {
      "cell_type": "code",
      "source": [
        "candidates.shape"
      ],
      "metadata": {
        "colab": {
          "base_uri": "https://localhost:8080/"
        },
        "id": "SPzIO357kL4d",
        "outputId": "e4417ebd-d371-4c31-d7df-3d257cb7e9a7"
      },
      "execution_count": null,
      "outputs": [
        {
          "output_type": "execute_result",
          "data": {
            "text/plain": [
              "(4893840, 3)"
            ]
          },
          "metadata": {},
          "execution_count": 46
        }
      ]
    },
    {
      "cell_type": "markdown",
      "source": [
        "### Пропуск второго этапа с обучением CatBoost ..."
      ],
      "metadata": {
        "id": "_UCYN9IAnMxU"
      }
    },
    {
      "cell_type": "markdown",
      "source": [
        "### Метрики качества на глобальном test"
      ],
      "metadata": {
        "id": "i6droRk3ngHi"
      }
    },
    {
      "cell_type": "code",
      "source": [
        "# Оставляем только теплых пользователей\n",
        "test = test[test['user_id'].isin(lfm_train['user_id'].unique())]"
      ],
      "metadata": {
        "id": "jzuIwesunYPU"
      },
      "execution_count": null,
      "outputs": []
    },
    {
      "cell_type": "code",
      "source": [
        "top_N = 20\n",
        "\n",
        "lfm_prediction = pd.DataFrame({\n",
        "    'user_id': test['user_id'].unique()\n",
        "})\n",
        "\n",
        "known_items = lfm_train.groupby('user_id')['item_id'].apply(list).to_dict()\n",
        "\n",
        "mapper = generate_lightfm_recs_mapper(\n",
        "    lfm_model, \n",
        "    item_ids=all_cols, \n",
        "    known_items=known_items,\n",
        "    N=top_N,\n",
        "    user_features=None, \n",
        "    item_features=None, \n",
        "    user_mapping=lightfm_mapping['users_mapping'],\n",
        "    item_inv_mapping=lightfm_mapping['items_inv_mapping'],\n",
        "    num_threads=20\n",
        ")\n",
        "\n",
        "lfm_prediction['item_id'] = lfm_prediction['user_id'].map(mapper)\n",
        "lfm_prediction = lfm_prediction.explode('item_id').reset_index(drop=True)\n",
        "lfm_prediction['rank'] = lfm_prediction.groupby('user_id').cumcount() + 1 "
      ],
      "metadata": {
        "id": "Gscbc15AnrIa"
      },
      "execution_count": null,
      "outputs": []
    },
    {
      "cell_type": "code",
      "source": [
        "lfm_metrics = compute_metrics(test[['user_id', 'item_id']],\n",
        "                              lfm_prediction, \n",
        "                              top_N=10)\n",
        "lfm_metrics"
      ],
      "metadata": {
        "colab": {
          "base_uri": "https://localhost:8080/"
        },
        "id": "0DhuEs8BpSEa",
        "outputId": "46aaea7a-8d6a-4205-af85-00c0967db6c1"
      },
      "execution_count": null,
      "outputs": [
        {
          "output_type": "execute_result",
          "data": {
            "text/plain": [
              "Precision@1     0.025763\n",
              "Recall@1        0.014394\n",
              "Precision@2     0.027750\n",
              "Recall@2        0.030863\n",
              "Precision@3     0.026736\n",
              "Recall@3        0.044355\n",
              "Precision@4     0.025767\n",
              "Recall@4        0.056663\n",
              "Precision@5     0.024799\n",
              "Recall@5        0.067901\n",
              "Precision@6     0.023232\n",
              "Recall@6        0.075653\n",
              "Precision@7     0.022068\n",
              "Recall@7        0.082984\n",
              "Precision@8     0.021082\n",
              "Recall@8        0.090258\n",
              "Precision@9     0.020011\n",
              "Recall@9        0.095365\n",
              "Precision@10    0.019074\n",
              "Recall@10       0.100459\n",
              "MAP@10          0.040541\n",
              "MRR             0.068076\n",
              "dtype: float64"
            ]
          },
          "metadata": {},
          "execution_count": 49
        }
      ]
    }
  ]
}