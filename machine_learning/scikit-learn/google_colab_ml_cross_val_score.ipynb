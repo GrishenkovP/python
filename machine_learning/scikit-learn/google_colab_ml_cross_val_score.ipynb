{
  "nbformat": 4,
  "nbformat_minor": 0,
  "metadata": {
    "colab": {
      "name": "google_colab_ml_cross_val_score.ipynb",
      "provenance": [],
      "collapsed_sections": []
    },
    "kernelspec": {
      "name": "python3",
      "display_name": "Python 3"
    },
    "language_info": {
      "name": "python"
    }
  },
  "cells": [
    {
      "cell_type": "code",
      "metadata": {
        "id": "-qpBvdADBvev"
      },
      "source": [
        "import pandas as pd\n",
        "import numpy as np"
      ],
      "execution_count": 1,
      "outputs": []
    },
    {
      "cell_type": "code",
      "metadata": {
        "id": "Eom9SW_XDHX8"
      },
      "source": [
        "pd.set_option('display.max_columns', None)\n",
        "pd.set_option('display.max_rows', None)\n",
        "\n",
        "# pd.set_option('display.max_rows', 500)\n",
        "# pd.set_option('display.max_columns', 500)\n",
        "# pd.set_option('display.width', 1000)"
      ],
      "execution_count": 2,
      "outputs": []
    },
    {
      "cell_type": "code",
      "metadata": {
        "id": "CdNGiXskB7TE"
      },
      "source": [
        "churn_df = pd.read_csv('drive/MyDrive/dataset/churn.csv')"
      ],
      "execution_count": 48,
      "outputs": []
    },
    {
      "cell_type": "code",
      "metadata": {
        "colab": {
          "base_uri": "https://localhost:8080/"
        },
        "id": "bmZLK84DCGcu",
        "outputId": "a180a973-8277-47b9-ac63-3a45fd789b12"
      },
      "source": [
        "print(churn_df.head(5))\n",
        "print('--------------')\n",
        "print(churn_df.info())\n",
        "print('--------------')\n",
        "print(churn_df.isnull().mean())"
      ],
      "execution_count": 49,
      "outputs": [
        {
          "output_type": "stream",
          "text": [
            "  state  account length  area code phone number international plan  \\\n",
            "0    KS             128        415     382-4657                 no   \n",
            "1    OH             107        415     371-7191                 no   \n",
            "2    NJ             137        415     358-1921                 no   \n",
            "3    OH              84        408     375-9999                yes   \n",
            "4    OK              75        415     330-6626                yes   \n",
            "\n",
            "  voice mail plan  number vmail messages  total day minutes  total day calls  \\\n",
            "0             yes                     25              265.1              110   \n",
            "1             yes                     26              161.6              123   \n",
            "2              no                      0              243.4              114   \n",
            "3              no                      0              299.4               71   \n",
            "4              no                      0              166.7              113   \n",
            "\n",
            "   total day charge  total eve minutes  total eve calls  total eve charge  \\\n",
            "0             45.07              197.4               99             16.78   \n",
            "1             27.47              195.5              103             16.62   \n",
            "2             41.38              121.2              110             10.30   \n",
            "3             50.90               61.9               88              5.26   \n",
            "4             28.34              148.3              122             12.61   \n",
            "\n",
            "   total night minutes  total night calls  total night charge  \\\n",
            "0                244.7                 91               11.01   \n",
            "1                254.4                103               11.45   \n",
            "2                162.6                104                7.32   \n",
            "3                196.9                 89                8.86   \n",
            "4                186.9                121                8.41   \n",
            "\n",
            "   total intl minutes  total intl calls  total intl charge  \\\n",
            "0                10.0                 3               2.70   \n",
            "1                13.7                 3               3.70   \n",
            "2                12.2                 5               3.29   \n",
            "3                 6.6                 7               1.78   \n",
            "4                10.1                 3               2.73   \n",
            "\n",
            "   customer service calls  churn  \n",
            "0                       1  False  \n",
            "1                       1  False  \n",
            "2                       0  False  \n",
            "3                       2  False  \n",
            "4                       3  False  \n",
            "--------------\n",
            "<class 'pandas.core.frame.DataFrame'>\n",
            "RangeIndex: 3333 entries, 0 to 3332\n",
            "Data columns (total 21 columns):\n",
            " #   Column                  Non-Null Count  Dtype  \n",
            "---  ------                  --------------  -----  \n",
            " 0   state                   3333 non-null   object \n",
            " 1   account length          3333 non-null   int64  \n",
            " 2   area code               3333 non-null   int64  \n",
            " 3   phone number            3333 non-null   object \n",
            " 4   international plan      3333 non-null   object \n",
            " 5   voice mail plan         3333 non-null   object \n",
            " 6   number vmail messages   3333 non-null   int64  \n",
            " 7   total day minutes       3333 non-null   float64\n",
            " 8   total day calls         3333 non-null   int64  \n",
            " 9   total day charge        3333 non-null   float64\n",
            " 10  total eve minutes       3333 non-null   float64\n",
            " 11  total eve calls         3333 non-null   int64  \n",
            " 12  total eve charge        3333 non-null   float64\n",
            " 13  total night minutes     3333 non-null   float64\n",
            " 14  total night calls       3333 non-null   int64  \n",
            " 15  total night charge      3333 non-null   float64\n",
            " 16  total intl minutes      3333 non-null   float64\n",
            " 17  total intl calls        3333 non-null   int64  \n",
            " 18  total intl charge       3333 non-null   float64\n",
            " 19  customer service calls  3333 non-null   int64  \n",
            " 20  churn                   3333 non-null   bool   \n",
            "dtypes: bool(1), float64(8), int64(8), object(4)\n",
            "memory usage: 524.2+ KB\n",
            "None\n",
            "--------------\n",
            "state                     0.0\n",
            "account length            0.0\n",
            "area code                 0.0\n",
            "phone number              0.0\n",
            "international plan        0.0\n",
            "voice mail plan           0.0\n",
            "number vmail messages     0.0\n",
            "total day minutes         0.0\n",
            "total day calls           0.0\n",
            "total day charge          0.0\n",
            "total eve minutes         0.0\n",
            "total eve calls           0.0\n",
            "total eve charge          0.0\n",
            "total night minutes       0.0\n",
            "total night calls         0.0\n",
            "total night charge        0.0\n",
            "total intl minutes        0.0\n",
            "total intl calls          0.0\n",
            "total intl charge         0.0\n",
            "customer service calls    0.0\n",
            "churn                     0.0\n",
            "dtype: float64\n"
          ],
          "name": "stdout"
        }
      ]
    },
    {
      "cell_type": "code",
      "metadata": {
        "colab": {
          "base_uri": "https://localhost:8080/"
        },
        "id": "BLUAvBi2RHJ4",
        "outputId": "320b8123-87de-4c76-ee0c-cc3e7edb436a"
      },
      "source": [
        "churn_df['churn'].value_counts()"
      ],
      "execution_count": 51,
      "outputs": [
        {
          "output_type": "execute_result",
          "data": {
            "text/plain": [
              "False    2850\n",
              "True      483\n",
              "Name: churn, dtype: int64"
            ]
          },
          "metadata": {
            "tags": []
          },
          "execution_count": 51
        }
      ]
    },
    {
      "cell_type": "code",
      "metadata": {
        "id": "EWSV15LxD8Ot"
      },
      "source": [
        "churn_df['y'] = churn_df['churn'].astype(int)"
      ],
      "execution_count": 59,
      "outputs": []
    },
    {
      "cell_type": "code",
      "metadata": {
        "colab": {
          "base_uri": "https://localhost:8080/"
        },
        "id": "7OnXx8J1Rg9H",
        "outputId": "27836a5b-4ac6-4e76-d3dd-c07c52ab5d30"
      },
      "source": [
        "churn_df['y'].value_counts()"
      ],
      "execution_count": 60,
      "outputs": [
        {
          "output_type": "execute_result",
          "data": {
            "text/plain": [
              "0    2850\n",
              "1     483\n",
              "Name: y, dtype: int64"
            ]
          },
          "metadata": {
            "tags": []
          },
          "execution_count": 60
        }
      ]
    },
    {
      "cell_type": "code",
      "metadata": {
        "id": "-I_7sSRkEzPr"
      },
      "source": [
        "to_drop = ['state','area code','phone number','churn']\n",
        "churn_df = churn_df.drop(to_drop,axis=1)"
      ],
      "execution_count": 61,
      "outputs": []
    },
    {
      "cell_type": "code",
      "metadata": {
        "id": "flhADZOJFZ-J"
      },
      "source": [
        "yes_no_cols = ['international plan','voice mail plan']\n",
        "churn_df[yes_no_cols] = churn_df[yes_no_cols] == 'yes'"
      ],
      "execution_count": 62,
      "outputs": []
    },
    {
      "cell_type": "code",
      "metadata": {
        "colab": {
          "base_uri": "https://localhost:8080/",
          "height": 238
        },
        "id": "v0IJUC-JFswL",
        "outputId": "72401e90-0eba-4f3f-c394-b2bf7d1ed9f7"
      },
      "source": [
        "churn_df.head(5)"
      ],
      "execution_count": 63,
      "outputs": [
        {
          "output_type": "execute_result",
          "data": {
            "text/html": [
              "<div>\n",
              "<style scoped>\n",
              "    .dataframe tbody tr th:only-of-type {\n",
              "        vertical-align: middle;\n",
              "    }\n",
              "\n",
              "    .dataframe tbody tr th {\n",
              "        vertical-align: top;\n",
              "    }\n",
              "\n",
              "    .dataframe thead th {\n",
              "        text-align: right;\n",
              "    }\n",
              "</style>\n",
              "<table border=\"1\" class=\"dataframe\">\n",
              "  <thead>\n",
              "    <tr style=\"text-align: right;\">\n",
              "      <th></th>\n",
              "      <th>account length</th>\n",
              "      <th>international plan</th>\n",
              "      <th>voice mail plan</th>\n",
              "      <th>number vmail messages</th>\n",
              "      <th>total day minutes</th>\n",
              "      <th>total day calls</th>\n",
              "      <th>total day charge</th>\n",
              "      <th>total eve minutes</th>\n",
              "      <th>total eve calls</th>\n",
              "      <th>total eve charge</th>\n",
              "      <th>total night minutes</th>\n",
              "      <th>total night calls</th>\n",
              "      <th>total night charge</th>\n",
              "      <th>total intl minutes</th>\n",
              "      <th>total intl calls</th>\n",
              "      <th>total intl charge</th>\n",
              "      <th>customer service calls</th>\n",
              "      <th>y</th>\n",
              "    </tr>\n",
              "  </thead>\n",
              "  <tbody>\n",
              "    <tr>\n",
              "      <th>0</th>\n",
              "      <td>128</td>\n",
              "      <td>False</td>\n",
              "      <td>True</td>\n",
              "      <td>25</td>\n",
              "      <td>265.1</td>\n",
              "      <td>110</td>\n",
              "      <td>45.07</td>\n",
              "      <td>197.4</td>\n",
              "      <td>99</td>\n",
              "      <td>16.78</td>\n",
              "      <td>244.7</td>\n",
              "      <td>91</td>\n",
              "      <td>11.01</td>\n",
              "      <td>10.0</td>\n",
              "      <td>3</td>\n",
              "      <td>2.70</td>\n",
              "      <td>1</td>\n",
              "      <td>0</td>\n",
              "    </tr>\n",
              "    <tr>\n",
              "      <th>1</th>\n",
              "      <td>107</td>\n",
              "      <td>False</td>\n",
              "      <td>True</td>\n",
              "      <td>26</td>\n",
              "      <td>161.6</td>\n",
              "      <td>123</td>\n",
              "      <td>27.47</td>\n",
              "      <td>195.5</td>\n",
              "      <td>103</td>\n",
              "      <td>16.62</td>\n",
              "      <td>254.4</td>\n",
              "      <td>103</td>\n",
              "      <td>11.45</td>\n",
              "      <td>13.7</td>\n",
              "      <td>3</td>\n",
              "      <td>3.70</td>\n",
              "      <td>1</td>\n",
              "      <td>0</td>\n",
              "    </tr>\n",
              "    <tr>\n",
              "      <th>2</th>\n",
              "      <td>137</td>\n",
              "      <td>False</td>\n",
              "      <td>False</td>\n",
              "      <td>0</td>\n",
              "      <td>243.4</td>\n",
              "      <td>114</td>\n",
              "      <td>41.38</td>\n",
              "      <td>121.2</td>\n",
              "      <td>110</td>\n",
              "      <td>10.30</td>\n",
              "      <td>162.6</td>\n",
              "      <td>104</td>\n",
              "      <td>7.32</td>\n",
              "      <td>12.2</td>\n",
              "      <td>5</td>\n",
              "      <td>3.29</td>\n",
              "      <td>0</td>\n",
              "      <td>0</td>\n",
              "    </tr>\n",
              "    <tr>\n",
              "      <th>3</th>\n",
              "      <td>84</td>\n",
              "      <td>True</td>\n",
              "      <td>False</td>\n",
              "      <td>0</td>\n",
              "      <td>299.4</td>\n",
              "      <td>71</td>\n",
              "      <td>50.90</td>\n",
              "      <td>61.9</td>\n",
              "      <td>88</td>\n",
              "      <td>5.26</td>\n",
              "      <td>196.9</td>\n",
              "      <td>89</td>\n",
              "      <td>8.86</td>\n",
              "      <td>6.6</td>\n",
              "      <td>7</td>\n",
              "      <td>1.78</td>\n",
              "      <td>2</td>\n",
              "      <td>0</td>\n",
              "    </tr>\n",
              "    <tr>\n",
              "      <th>4</th>\n",
              "      <td>75</td>\n",
              "      <td>True</td>\n",
              "      <td>False</td>\n",
              "      <td>0</td>\n",
              "      <td>166.7</td>\n",
              "      <td>113</td>\n",
              "      <td>28.34</td>\n",
              "      <td>148.3</td>\n",
              "      <td>122</td>\n",
              "      <td>12.61</td>\n",
              "      <td>186.9</td>\n",
              "      <td>121</td>\n",
              "      <td>8.41</td>\n",
              "      <td>10.1</td>\n",
              "      <td>3</td>\n",
              "      <td>2.73</td>\n",
              "      <td>3</td>\n",
              "      <td>0</td>\n",
              "    </tr>\n",
              "  </tbody>\n",
              "</table>\n",
              "</div>"
            ],
            "text/plain": [
              "   account length  international plan  voice mail plan  number vmail messages  \\\n",
              "0             128               False             True                     25   \n",
              "1             107               False             True                     26   \n",
              "2             137               False            False                      0   \n",
              "3              84                True            False                      0   \n",
              "4              75                True            False                      0   \n",
              "\n",
              "   total day minutes  total day calls  total day charge  total eve minutes  \\\n",
              "0              265.1              110             45.07              197.4   \n",
              "1              161.6              123             27.47              195.5   \n",
              "2              243.4              114             41.38              121.2   \n",
              "3              299.4               71             50.90               61.9   \n",
              "4              166.7              113             28.34              148.3   \n",
              "\n",
              "   total eve calls  total eve charge  total night minutes  total night calls  \\\n",
              "0               99             16.78                244.7                 91   \n",
              "1              103             16.62                254.4                103   \n",
              "2              110             10.30                162.6                104   \n",
              "3               88              5.26                196.9                 89   \n",
              "4              122             12.61                186.9                121   \n",
              "\n",
              "   total night charge  total intl minutes  total intl calls  \\\n",
              "0               11.01                10.0                 3   \n",
              "1               11.45                13.7                 3   \n",
              "2                7.32                12.2                 5   \n",
              "3                8.86                 6.6                 7   \n",
              "4                8.41                10.1                 3   \n",
              "\n",
              "   total intl charge  customer service calls  y  \n",
              "0               2.70                       1  0  \n",
              "1               3.70                       1  0  \n",
              "2               3.29                       0  0  \n",
              "3               1.78                       2  0  \n",
              "4               2.73                       3  0  "
            ]
          },
          "metadata": {
            "tags": []
          },
          "execution_count": 63
        }
      ]
    },
    {
      "cell_type": "code",
      "metadata": {
        "colab": {
          "base_uri": "https://localhost:8080/"
        },
        "id": "qxy0TjJqGAE0",
        "outputId": "f74cf0dd-bab0-40c5-a054-89b43ffad267"
      },
      "source": [
        "churn_df.columns.to_list"
      ],
      "execution_count": 64,
      "outputs": [
        {
          "output_type": "execute_result",
          "data": {
            "text/plain": [
              "<bound method IndexOpsMixin.tolist of Index(['account length', 'international plan', 'voice mail plan',\n",
              "       'number vmail messages', 'total day minutes', 'total day calls',\n",
              "       'total day charge', 'total eve minutes', 'total eve calls',\n",
              "       'total eve charge', 'total night minutes', 'total night calls',\n",
              "       'total night charge', 'total intl minutes', 'total intl calls',\n",
              "       'total intl charge', 'customer service calls', 'y'],\n",
              "      dtype='object')>"
            ]
          },
          "metadata": {
            "tags": []
          },
          "execution_count": 64
        }
      ]
    },
    {
      "cell_type": "code",
      "metadata": {
        "id": "CCv9AVOFH-2L"
      },
      "source": [
        "df = churn_df.copy()"
      ],
      "execution_count": 65,
      "outputs": []
    },
    {
      "cell_type": "code",
      "metadata": {
        "id": "ZWrxDVN6IICy"
      },
      "source": [
        "from sklearn.preprocessing import StandardScaler"
      ],
      "execution_count": 66,
      "outputs": []
    },
    {
      "cell_type": "code",
      "metadata": {
        "id": "eV8E0bClIb0q"
      },
      "source": [
        "col_names = ['account length', \n",
        "       'number vmail messages', 'total day minutes', 'total day calls',\n",
        "       'total day charge', 'total eve minutes', 'total eve calls',\n",
        "       'total eve charge', 'total night minutes', 'total night calls',\n",
        "       'total night charge', 'total intl minutes', 'total intl calls',\n",
        "       'total intl charge', 'customer service calls']\n",
        "scaled_features = df[col_names]\n",
        "scaler = StandardScaler().fit(scaled_features.values)\n",
        "scaled_features = scaler.transform(scaled_features.values)"
      ],
      "execution_count": 67,
      "outputs": []
    },
    {
      "cell_type": "code",
      "metadata": {
        "colab": {
          "base_uri": "https://localhost:8080/",
          "height": 258
        },
        "id": "03qkib4gJRIh",
        "outputId": "c485776a-65f6-465b-9b20-80b492faf515"
      },
      "source": [
        "df[col_names] = scaled_features\n",
        "df.head(5)"
      ],
      "execution_count": 68,
      "outputs": [
        {
          "output_type": "execute_result",
          "data": {
            "text/html": [
              "<div>\n",
              "<style scoped>\n",
              "    .dataframe tbody tr th:only-of-type {\n",
              "        vertical-align: middle;\n",
              "    }\n",
              "\n",
              "    .dataframe tbody tr th {\n",
              "        vertical-align: top;\n",
              "    }\n",
              "\n",
              "    .dataframe thead th {\n",
              "        text-align: right;\n",
              "    }\n",
              "</style>\n",
              "<table border=\"1\" class=\"dataframe\">\n",
              "  <thead>\n",
              "    <tr style=\"text-align: right;\">\n",
              "      <th></th>\n",
              "      <th>account length</th>\n",
              "      <th>international plan</th>\n",
              "      <th>voice mail plan</th>\n",
              "      <th>number vmail messages</th>\n",
              "      <th>total day minutes</th>\n",
              "      <th>total day calls</th>\n",
              "      <th>total day charge</th>\n",
              "      <th>total eve minutes</th>\n",
              "      <th>total eve calls</th>\n",
              "      <th>total eve charge</th>\n",
              "      <th>total night minutes</th>\n",
              "      <th>total night calls</th>\n",
              "      <th>total night charge</th>\n",
              "      <th>total intl minutes</th>\n",
              "      <th>total intl calls</th>\n",
              "      <th>total intl charge</th>\n",
              "      <th>customer service calls</th>\n",
              "      <th>y</th>\n",
              "    </tr>\n",
              "  </thead>\n",
              "  <tbody>\n",
              "    <tr>\n",
              "      <th>0</th>\n",
              "      <td>0.676489</td>\n",
              "      <td>False</td>\n",
              "      <td>True</td>\n",
              "      <td>1.234883</td>\n",
              "      <td>1.566767</td>\n",
              "      <td>0.476643</td>\n",
              "      <td>1.567036</td>\n",
              "      <td>-0.070610</td>\n",
              "      <td>-0.055940</td>\n",
              "      <td>-0.070427</td>\n",
              "      <td>0.866743</td>\n",
              "      <td>-0.465494</td>\n",
              "      <td>0.866029</td>\n",
              "      <td>-0.085008</td>\n",
              "      <td>-0.601195</td>\n",
              "      <td>-0.085690</td>\n",
              "      <td>-0.427932</td>\n",
              "      <td>0</td>\n",
              "    </tr>\n",
              "    <tr>\n",
              "      <th>1</th>\n",
              "      <td>0.149065</td>\n",
              "      <td>False</td>\n",
              "      <td>True</td>\n",
              "      <td>1.307948</td>\n",
              "      <td>-0.333738</td>\n",
              "      <td>1.124503</td>\n",
              "      <td>-0.334013</td>\n",
              "      <td>-0.108080</td>\n",
              "      <td>0.144867</td>\n",
              "      <td>-0.107549</td>\n",
              "      <td>1.058571</td>\n",
              "      <td>0.147825</td>\n",
              "      <td>1.059390</td>\n",
              "      <td>1.240482</td>\n",
              "      <td>-0.601195</td>\n",
              "      <td>1.241169</td>\n",
              "      <td>-0.427932</td>\n",
              "      <td>0</td>\n",
              "    </tr>\n",
              "    <tr>\n",
              "      <th>2</th>\n",
              "      <td>0.902529</td>\n",
              "      <td>False</td>\n",
              "      <td>False</td>\n",
              "      <td>-0.591760</td>\n",
              "      <td>1.168304</td>\n",
              "      <td>0.675985</td>\n",
              "      <td>1.168464</td>\n",
              "      <td>-1.573383</td>\n",
              "      <td>0.496279</td>\n",
              "      <td>-1.573900</td>\n",
              "      <td>-0.756869</td>\n",
              "      <td>0.198935</td>\n",
              "      <td>-0.755571</td>\n",
              "      <td>0.703121</td>\n",
              "      <td>0.211534</td>\n",
              "      <td>0.697156</td>\n",
              "      <td>-1.188218</td>\n",
              "      <td>0</td>\n",
              "    </tr>\n",
              "    <tr>\n",
              "      <th>3</th>\n",
              "      <td>-0.428590</td>\n",
              "      <td>True</td>\n",
              "      <td>False</td>\n",
              "      <td>-0.591760</td>\n",
              "      <td>2.196596</td>\n",
              "      <td>-1.466936</td>\n",
              "      <td>2.196759</td>\n",
              "      <td>-2.742865</td>\n",
              "      <td>-0.608159</td>\n",
              "      <td>-2.743268</td>\n",
              "      <td>-0.078551</td>\n",
              "      <td>-0.567714</td>\n",
              "      <td>-0.078806</td>\n",
              "      <td>-1.303026</td>\n",
              "      <td>1.024263</td>\n",
              "      <td>-1.306401</td>\n",
              "      <td>0.332354</td>\n",
              "      <td>0</td>\n",
              "    </tr>\n",
              "    <tr>\n",
              "      <th>4</th>\n",
              "      <td>-0.654629</td>\n",
              "      <td>True</td>\n",
              "      <td>False</td>\n",
              "      <td>-0.591760</td>\n",
              "      <td>-0.240090</td>\n",
              "      <td>0.626149</td>\n",
              "      <td>-0.240041</td>\n",
              "      <td>-1.038932</td>\n",
              "      <td>1.098699</td>\n",
              "      <td>-1.037939</td>\n",
              "      <td>-0.276311</td>\n",
              "      <td>1.067803</td>\n",
              "      <td>-0.276562</td>\n",
              "      <td>-0.049184</td>\n",
              "      <td>-0.601195</td>\n",
              "      <td>-0.045885</td>\n",
              "      <td>1.092641</td>\n",
              "      <td>0</td>\n",
              "    </tr>\n",
              "  </tbody>\n",
              "</table>\n",
              "</div>"
            ],
            "text/plain": [
              "   account length  international plan  voice mail plan  number vmail messages  \\\n",
              "0        0.676489               False             True               1.234883   \n",
              "1        0.149065               False             True               1.307948   \n",
              "2        0.902529               False            False              -0.591760   \n",
              "3       -0.428590                True            False              -0.591760   \n",
              "4       -0.654629                True            False              -0.591760   \n",
              "\n",
              "   total day minutes  total day calls  total day charge  total eve minutes  \\\n",
              "0           1.566767         0.476643          1.567036          -0.070610   \n",
              "1          -0.333738         1.124503         -0.334013          -0.108080   \n",
              "2           1.168304         0.675985          1.168464          -1.573383   \n",
              "3           2.196596        -1.466936          2.196759          -2.742865   \n",
              "4          -0.240090         0.626149         -0.240041          -1.038932   \n",
              "\n",
              "   total eve calls  total eve charge  total night minutes  total night calls  \\\n",
              "0        -0.055940         -0.070427             0.866743          -0.465494   \n",
              "1         0.144867         -0.107549             1.058571           0.147825   \n",
              "2         0.496279         -1.573900            -0.756869           0.198935   \n",
              "3        -0.608159         -2.743268            -0.078551          -0.567714   \n",
              "4         1.098699         -1.037939            -0.276311           1.067803   \n",
              "\n",
              "   total night charge  total intl minutes  total intl calls  \\\n",
              "0            0.866029           -0.085008         -0.601195   \n",
              "1            1.059390            1.240482         -0.601195   \n",
              "2           -0.755571            0.703121          0.211534   \n",
              "3           -0.078806           -1.303026          1.024263   \n",
              "4           -0.276562           -0.049184         -0.601195   \n",
              "\n",
              "   total intl charge  customer service calls  y  \n",
              "0          -0.085690               -0.427932  0  \n",
              "1           1.241169               -0.427932  0  \n",
              "2           0.697156               -1.188218  0  \n",
              "3          -1.306401                0.332354  0  \n",
              "4          -0.045885                1.092641  0  "
            ]
          },
          "metadata": {
            "tags": []
          },
          "execution_count": 68
        }
      ]
    },
    {
      "cell_type": "code",
      "metadata": {
        "id": "2OYK5AXyMAZR"
      },
      "source": [
        "X = df.drop(['y'], axis=1)\n",
        "y = df['y']"
      ],
      "execution_count": 69,
      "outputs": []
    },
    {
      "cell_type": "code",
      "metadata": {
        "id": "5nyNyrhuKOBq"
      },
      "source": [
        "from sklearn.model_selection import cross_val_score\n",
        "from sklearn import metrics"
      ],
      "execution_count": 88,
      "outputs": []
    },
    {
      "cell_type": "code",
      "metadata": {
        "id": "zKwSqAwXMctA"
      },
      "source": [
        "from sklearn import svm\n",
        "from sklearn.ensemble import RandomForestClassifier\n",
        "from sklearn.neighbors import KNeighborsClassifier"
      ],
      "execution_count": 99,
      "outputs": []
    },
    {
      "cell_type": "code",
      "metadata": {
        "colab": {
          "base_uri": "https://localhost:8080/"
        },
        "id": "a8GWmdOqMf7g",
        "outputId": "e0985084-be78-47c3-c791-aa12bb60078b"
      },
      "source": [
        "print (\"Support vector machines:\")\n",
        "clf = svm.SVC(kernel='linear', C=1, random_state=42)\n",
        "scores = cross_val_score(clf, X, y, cv=5)\n",
        "print (\"%0.2f accuracy with a standard deviation of %0.2f\" % (scores.mean(), scores.std()))\n",
        "\n",
        "print (\"Random forest:\")\n",
        "clf = RandomForestClassifier(max_depth=5, random_state=0)\n",
        "scores = cross_val_score(clf, X, y, cv=5)\n",
        "print (\"%0.2f accuracy with a standard deviation of %0.2f\" % (scores.mean(), scores.std()))\n",
        "\n",
        "print (\"K-nearest-neighbors:\")\n",
        "clf = KNeighborsClassifier(n_neighbors=3)\n",
        "scores = cross_val_score(clf, X, y, cv=5)\n",
        "print (\"%0.2f accuracy with a standard deviation of %0.2f\" % (scores.mean(), scores.std()))"
      ],
      "execution_count": 100,
      "outputs": [
        {
          "output_type": "stream",
          "text": [
            "Support vector machines:\n",
            "0.86 accuracy with a standard deviation of 0.00\n",
            "Random forest:\n",
            "0.92 accuracy with a standard deviation of 0.01\n",
            "K-nearest-neighbors:\n",
            "0.88 accuracy with a standard deviation of 0.01\n"
          ],
          "name": "stdout"
        }
      ]
    }
  ]
}