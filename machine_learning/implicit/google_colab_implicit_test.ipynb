{
  "nbformat": 4,
  "nbformat_minor": 0,
  "metadata": {
    "colab": {
      "name": "google_colab_implicit_test.ipynb",
      "provenance": [],
      "collapsed_sections": []
    },
    "kernelspec": {
      "name": "python3",
      "display_name": "Python 3"
    },
    "language_info": {
      "name": "python"
    },
    "widgets": {
      "application/vnd.jupyter.widget-state+json": {
        "1000bd75e3d14797bec32f38d54a9f7f": {
          "model_module": "@jupyter-widgets/controls",
          "model_name": "HBoxModel",
          "model_module_version": "1.5.0",
          "state": {
            "_dom_classes": [],
            "_model_module": "@jupyter-widgets/controls",
            "_model_module_version": "1.5.0",
            "_model_name": "HBoxModel",
            "_view_count": null,
            "_view_module": "@jupyter-widgets/controls",
            "_view_module_version": "1.5.0",
            "_view_name": "HBoxView",
            "box_style": "",
            "children": [
              "IPY_MODEL_83005b91b428492cade7633c14e2c642",
              "IPY_MODEL_493f73c05d0148f991ded5869221c24d",
              "IPY_MODEL_8429c4f4368e42b1ae0e3ce0b9da654f"
            ],
            "layout": "IPY_MODEL_d627cc7e802c46e58b889bd6c49aa0e5"
          }
        },
        "83005b91b428492cade7633c14e2c642": {
          "model_module": "@jupyter-widgets/controls",
          "model_name": "HTMLModel",
          "model_module_version": "1.5.0",
          "state": {
            "_dom_classes": [],
            "_model_module": "@jupyter-widgets/controls",
            "_model_module_version": "1.5.0",
            "_model_name": "HTMLModel",
            "_view_count": null,
            "_view_module": "@jupyter-widgets/controls",
            "_view_module_version": "1.5.0",
            "_view_name": "HTMLView",
            "description": "",
            "description_tooltip": null,
            "layout": "IPY_MODEL_bc60c6a4d0d246b9a7dce7d7b447e347",
            "placeholder": "​",
            "style": "IPY_MODEL_bb2721ae5b224f67889b85dd9157f436",
            "value": ""
          }
        },
        "493f73c05d0148f991ded5869221c24d": {
          "model_module": "@jupyter-widgets/controls",
          "model_name": "FloatProgressModel",
          "model_module_version": "1.5.0",
          "state": {
            "_dom_classes": [],
            "_model_module": "@jupyter-widgets/controls",
            "_model_module_version": "1.5.0",
            "_model_name": "FloatProgressModel",
            "_view_count": null,
            "_view_module": "@jupyter-widgets/controls",
            "_view_module_version": "1.5.0",
            "_view_name": "ProgressView",
            "bar_style": "success",
            "description": "",
            "description_tooltip": null,
            "layout": "IPY_MODEL_8641e48e375b4648b724649ce6948e3b",
            "max": 1,
            "min": 0,
            "orientation": "horizontal",
            "style": "IPY_MODEL_e2d37a4f3cf6447987765833580c48e6",
            "value": 1
          }
        },
        "8429c4f4368e42b1ae0e3ce0b9da654f": {
          "model_module": "@jupyter-widgets/controls",
          "model_name": "HTMLModel",
          "model_module_version": "1.5.0",
          "state": {
            "_dom_classes": [],
            "_model_module": "@jupyter-widgets/controls",
            "_model_module_version": "1.5.0",
            "_model_name": "HTMLModel",
            "_view_count": null,
            "_view_module": "@jupyter-widgets/controls",
            "_view_module_version": "1.5.0",
            "_view_name": "HTMLView",
            "description": "",
            "description_tooltip": null,
            "layout": "IPY_MODEL_d0d9fde4d1474adcb9ff5634af6f7591",
            "placeholder": "​",
            "style": "IPY_MODEL_3842b5a2e166459186e72e9382b9dd82",
            "value": " 184M/? [00:06&lt;00:00, 30.3MB/s]"
          }
        },
        "d627cc7e802c46e58b889bd6c49aa0e5": {
          "model_module": "@jupyter-widgets/base",
          "model_name": "LayoutModel",
          "model_module_version": "1.2.0",
          "state": {
            "_model_module": "@jupyter-widgets/base",
            "_model_module_version": "1.2.0",
            "_model_name": "LayoutModel",
            "_view_count": null,
            "_view_module": "@jupyter-widgets/base",
            "_view_module_version": "1.2.0",
            "_view_name": "LayoutView",
            "align_content": null,
            "align_items": null,
            "align_self": null,
            "border": null,
            "bottom": null,
            "display": null,
            "flex": null,
            "flex_flow": null,
            "grid_area": null,
            "grid_auto_columns": null,
            "grid_auto_flow": null,
            "grid_auto_rows": null,
            "grid_column": null,
            "grid_gap": null,
            "grid_row": null,
            "grid_template_areas": null,
            "grid_template_columns": null,
            "grid_template_rows": null,
            "height": null,
            "justify_content": null,
            "justify_items": null,
            "left": null,
            "margin": null,
            "max_height": null,
            "max_width": null,
            "min_height": null,
            "min_width": null,
            "object_fit": null,
            "object_position": null,
            "order": null,
            "overflow": null,
            "overflow_x": null,
            "overflow_y": null,
            "padding": null,
            "right": null,
            "top": null,
            "visibility": null,
            "width": null
          }
        },
        "bc60c6a4d0d246b9a7dce7d7b447e347": {
          "model_module": "@jupyter-widgets/base",
          "model_name": "LayoutModel",
          "model_module_version": "1.2.0",
          "state": {
            "_model_module": "@jupyter-widgets/base",
            "_model_module_version": "1.2.0",
            "_model_name": "LayoutModel",
            "_view_count": null,
            "_view_module": "@jupyter-widgets/base",
            "_view_module_version": "1.2.0",
            "_view_name": "LayoutView",
            "align_content": null,
            "align_items": null,
            "align_self": null,
            "border": null,
            "bottom": null,
            "display": null,
            "flex": null,
            "flex_flow": null,
            "grid_area": null,
            "grid_auto_columns": null,
            "grid_auto_flow": null,
            "grid_auto_rows": null,
            "grid_column": null,
            "grid_gap": null,
            "grid_row": null,
            "grid_template_areas": null,
            "grid_template_columns": null,
            "grid_template_rows": null,
            "height": null,
            "justify_content": null,
            "justify_items": null,
            "left": null,
            "margin": null,
            "max_height": null,
            "max_width": null,
            "min_height": null,
            "min_width": null,
            "object_fit": null,
            "object_position": null,
            "order": null,
            "overflow": null,
            "overflow_x": null,
            "overflow_y": null,
            "padding": null,
            "right": null,
            "top": null,
            "visibility": null,
            "width": null
          }
        },
        "bb2721ae5b224f67889b85dd9157f436": {
          "model_module": "@jupyter-widgets/controls",
          "model_name": "DescriptionStyleModel",
          "model_module_version": "1.5.0",
          "state": {
            "_model_module": "@jupyter-widgets/controls",
            "_model_module_version": "1.5.0",
            "_model_name": "DescriptionStyleModel",
            "_view_count": null,
            "_view_module": "@jupyter-widgets/base",
            "_view_module_version": "1.2.0",
            "_view_name": "StyleView",
            "description_width": ""
          }
        },
        "8641e48e375b4648b724649ce6948e3b": {
          "model_module": "@jupyter-widgets/base",
          "model_name": "LayoutModel",
          "model_module_version": "1.2.0",
          "state": {
            "_model_module": "@jupyter-widgets/base",
            "_model_module_version": "1.2.0",
            "_model_name": "LayoutModel",
            "_view_count": null,
            "_view_module": "@jupyter-widgets/base",
            "_view_module_version": "1.2.0",
            "_view_name": "LayoutView",
            "align_content": null,
            "align_items": null,
            "align_self": null,
            "border": null,
            "bottom": null,
            "display": null,
            "flex": null,
            "flex_flow": null,
            "grid_area": null,
            "grid_auto_columns": null,
            "grid_auto_flow": null,
            "grid_auto_rows": null,
            "grid_column": null,
            "grid_gap": null,
            "grid_row": null,
            "grid_template_areas": null,
            "grid_template_columns": null,
            "grid_template_rows": null,
            "height": null,
            "justify_content": null,
            "justify_items": null,
            "left": null,
            "margin": null,
            "max_height": null,
            "max_width": null,
            "min_height": null,
            "min_width": null,
            "object_fit": null,
            "object_position": null,
            "order": null,
            "overflow": null,
            "overflow_x": null,
            "overflow_y": null,
            "padding": null,
            "right": null,
            "top": null,
            "visibility": null,
            "width": "20px"
          }
        },
        "e2d37a4f3cf6447987765833580c48e6": {
          "model_module": "@jupyter-widgets/controls",
          "model_name": "ProgressStyleModel",
          "model_module_version": "1.5.0",
          "state": {
            "_model_module": "@jupyter-widgets/controls",
            "_model_module_version": "1.5.0",
            "_model_name": "ProgressStyleModel",
            "_view_count": null,
            "_view_module": "@jupyter-widgets/base",
            "_view_module_version": "1.2.0",
            "_view_name": "StyleView",
            "bar_color": null,
            "description_width": ""
          }
        },
        "d0d9fde4d1474adcb9ff5634af6f7591": {
          "model_module": "@jupyter-widgets/base",
          "model_name": "LayoutModel",
          "model_module_version": "1.2.0",
          "state": {
            "_model_module": "@jupyter-widgets/base",
            "_model_module_version": "1.2.0",
            "_model_name": "LayoutModel",
            "_view_count": null,
            "_view_module": "@jupyter-widgets/base",
            "_view_module_version": "1.2.0",
            "_view_name": "LayoutView",
            "align_content": null,
            "align_items": null,
            "align_self": null,
            "border": null,
            "bottom": null,
            "display": null,
            "flex": null,
            "flex_flow": null,
            "grid_area": null,
            "grid_auto_columns": null,
            "grid_auto_flow": null,
            "grid_auto_rows": null,
            "grid_column": null,
            "grid_gap": null,
            "grid_row": null,
            "grid_template_areas": null,
            "grid_template_columns": null,
            "grid_template_rows": null,
            "height": null,
            "justify_content": null,
            "justify_items": null,
            "left": null,
            "margin": null,
            "max_height": null,
            "max_width": null,
            "min_height": null,
            "min_width": null,
            "object_fit": null,
            "object_position": null,
            "order": null,
            "overflow": null,
            "overflow_x": null,
            "overflow_y": null,
            "padding": null,
            "right": null,
            "top": null,
            "visibility": null,
            "width": null
          }
        },
        "3842b5a2e166459186e72e9382b9dd82": {
          "model_module": "@jupyter-widgets/controls",
          "model_name": "DescriptionStyleModel",
          "model_module_version": "1.5.0",
          "state": {
            "_model_module": "@jupyter-widgets/controls",
            "_model_module_version": "1.5.0",
            "_model_name": "DescriptionStyleModel",
            "_view_count": null,
            "_view_module": "@jupyter-widgets/base",
            "_view_module_version": "1.2.0",
            "_view_name": "StyleView",
            "description_width": ""
          }
        },
        "ec9af6e583b44f31b87015d9a4fdd7af": {
          "model_module": "@jupyter-widgets/controls",
          "model_name": "HBoxModel",
          "model_module_version": "1.5.0",
          "state": {
            "_dom_classes": [],
            "_model_module": "@jupyter-widgets/controls",
            "_model_module_version": "1.5.0",
            "_model_name": "HBoxModel",
            "_view_count": null,
            "_view_module": "@jupyter-widgets/controls",
            "_view_module_version": "1.5.0",
            "_view_name": "HBoxView",
            "box_style": "",
            "children": [
              "IPY_MODEL_9c6f8f0960574b5a9f5ba7f54fd8eaad",
              "IPY_MODEL_361b5ebb0787440cab9ed75cb65e18c2",
              "IPY_MODEL_d591f3bd808e43719015ec785831eac3"
            ],
            "layout": "IPY_MODEL_c0f5c43ca43342298420cc66b333fa3d"
          }
        },
        "9c6f8f0960574b5a9f5ba7f54fd8eaad": {
          "model_module": "@jupyter-widgets/controls",
          "model_name": "HTMLModel",
          "model_module_version": "1.5.0",
          "state": {
            "_dom_classes": [],
            "_model_module": "@jupyter-widgets/controls",
            "_model_module_version": "1.5.0",
            "_model_name": "HTMLModel",
            "_view_count": null,
            "_view_module": "@jupyter-widgets/controls",
            "_view_module_version": "1.5.0",
            "_view_name": "HTMLView",
            "description": "",
            "description_tooltip": null,
            "layout": "IPY_MODEL_8918635cbd4f4eb59af873d4abca82b9",
            "placeholder": "​",
            "style": "IPY_MODEL_925ae60099974a59a5ed0e93c30ca7de",
            "value": "100%"
          }
        },
        "361b5ebb0787440cab9ed75cb65e18c2": {
          "model_module": "@jupyter-widgets/controls",
          "model_name": "FloatProgressModel",
          "model_module_version": "1.5.0",
          "state": {
            "_dom_classes": [],
            "_model_module": "@jupyter-widgets/controls",
            "_model_module_version": "1.5.0",
            "_model_name": "FloatProgressModel",
            "_view_count": null,
            "_view_module": "@jupyter-widgets/controls",
            "_view_module_version": "1.5.0",
            "_view_name": "ProgressView",
            "bar_style": "success",
            "description": "",
            "description_tooltip": null,
            "layout": "IPY_MODEL_e910faf180b44175b6aa1d1e7d7f511a",
            "max": 15,
            "min": 0,
            "orientation": "horizontal",
            "style": "IPY_MODEL_191ca8b097d24339862798567f8f7fc8",
            "value": 15
          }
        },
        "d591f3bd808e43719015ec785831eac3": {
          "model_module": "@jupyter-widgets/controls",
          "model_name": "HTMLModel",
          "model_module_version": "1.5.0",
          "state": {
            "_dom_classes": [],
            "_model_module": "@jupyter-widgets/controls",
            "_model_module_version": "1.5.0",
            "_model_name": "HTMLModel",
            "_view_count": null,
            "_view_module": "@jupyter-widgets/controls",
            "_view_module_version": "1.5.0",
            "_view_name": "HTMLView",
            "description": "",
            "description_tooltip": null,
            "layout": "IPY_MODEL_55f1898f06864acd9cf16f1f51ea34c3",
            "placeholder": "​",
            "style": "IPY_MODEL_a3af39207e754d16b5521caf104b8f05",
            "value": " 15/15 [14:46&lt;00:00, 60.13s/it]"
          }
        },
        "c0f5c43ca43342298420cc66b333fa3d": {
          "model_module": "@jupyter-widgets/base",
          "model_name": "LayoutModel",
          "model_module_version": "1.2.0",
          "state": {
            "_model_module": "@jupyter-widgets/base",
            "_model_module_version": "1.2.0",
            "_model_name": "LayoutModel",
            "_view_count": null,
            "_view_module": "@jupyter-widgets/base",
            "_view_module_version": "1.2.0",
            "_view_name": "LayoutView",
            "align_content": null,
            "align_items": null,
            "align_self": null,
            "border": null,
            "bottom": null,
            "display": null,
            "flex": null,
            "flex_flow": null,
            "grid_area": null,
            "grid_auto_columns": null,
            "grid_auto_flow": null,
            "grid_auto_rows": null,
            "grid_column": null,
            "grid_gap": null,
            "grid_row": null,
            "grid_template_areas": null,
            "grid_template_columns": null,
            "grid_template_rows": null,
            "height": null,
            "justify_content": null,
            "justify_items": null,
            "left": null,
            "margin": null,
            "max_height": null,
            "max_width": null,
            "min_height": null,
            "min_width": null,
            "object_fit": null,
            "object_position": null,
            "order": null,
            "overflow": null,
            "overflow_x": null,
            "overflow_y": null,
            "padding": null,
            "right": null,
            "top": null,
            "visibility": null,
            "width": null
          }
        },
        "8918635cbd4f4eb59af873d4abca82b9": {
          "model_module": "@jupyter-widgets/base",
          "model_name": "LayoutModel",
          "model_module_version": "1.2.0",
          "state": {
            "_model_module": "@jupyter-widgets/base",
            "_model_module_version": "1.2.0",
            "_model_name": "LayoutModel",
            "_view_count": null,
            "_view_module": "@jupyter-widgets/base",
            "_view_module_version": "1.2.0",
            "_view_name": "LayoutView",
            "align_content": null,
            "align_items": null,
            "align_self": null,
            "border": null,
            "bottom": null,
            "display": null,
            "flex": null,
            "flex_flow": null,
            "grid_area": null,
            "grid_auto_columns": null,
            "grid_auto_flow": null,
            "grid_auto_rows": null,
            "grid_column": null,
            "grid_gap": null,
            "grid_row": null,
            "grid_template_areas": null,
            "grid_template_columns": null,
            "grid_template_rows": null,
            "height": null,
            "justify_content": null,
            "justify_items": null,
            "left": null,
            "margin": null,
            "max_height": null,
            "max_width": null,
            "min_height": null,
            "min_width": null,
            "object_fit": null,
            "object_position": null,
            "order": null,
            "overflow": null,
            "overflow_x": null,
            "overflow_y": null,
            "padding": null,
            "right": null,
            "top": null,
            "visibility": null,
            "width": null
          }
        },
        "925ae60099974a59a5ed0e93c30ca7de": {
          "model_module": "@jupyter-widgets/controls",
          "model_name": "DescriptionStyleModel",
          "model_module_version": "1.5.0",
          "state": {
            "_model_module": "@jupyter-widgets/controls",
            "_model_module_version": "1.5.0",
            "_model_name": "DescriptionStyleModel",
            "_view_count": null,
            "_view_module": "@jupyter-widgets/base",
            "_view_module_version": "1.2.0",
            "_view_name": "StyleView",
            "description_width": ""
          }
        },
        "e910faf180b44175b6aa1d1e7d7f511a": {
          "model_module": "@jupyter-widgets/base",
          "model_name": "LayoutModel",
          "model_module_version": "1.2.0",
          "state": {
            "_model_module": "@jupyter-widgets/base",
            "_model_module_version": "1.2.0",
            "_model_name": "LayoutModel",
            "_view_count": null,
            "_view_module": "@jupyter-widgets/base",
            "_view_module_version": "1.2.0",
            "_view_name": "LayoutView",
            "align_content": null,
            "align_items": null,
            "align_self": null,
            "border": null,
            "bottom": null,
            "display": null,
            "flex": null,
            "flex_flow": null,
            "grid_area": null,
            "grid_auto_columns": null,
            "grid_auto_flow": null,
            "grid_auto_rows": null,
            "grid_column": null,
            "grid_gap": null,
            "grid_row": null,
            "grid_template_areas": null,
            "grid_template_columns": null,
            "grid_template_rows": null,
            "height": null,
            "justify_content": null,
            "justify_items": null,
            "left": null,
            "margin": null,
            "max_height": null,
            "max_width": null,
            "min_height": null,
            "min_width": null,
            "object_fit": null,
            "object_position": null,
            "order": null,
            "overflow": null,
            "overflow_x": null,
            "overflow_y": null,
            "padding": null,
            "right": null,
            "top": null,
            "visibility": null,
            "width": null
          }
        },
        "191ca8b097d24339862798567f8f7fc8": {
          "model_module": "@jupyter-widgets/controls",
          "model_name": "ProgressStyleModel",
          "model_module_version": "1.5.0",
          "state": {
            "_model_module": "@jupyter-widgets/controls",
            "_model_module_version": "1.5.0",
            "_model_name": "ProgressStyleModel",
            "_view_count": null,
            "_view_module": "@jupyter-widgets/base",
            "_view_module_version": "1.2.0",
            "_view_name": "StyleView",
            "bar_color": null,
            "description_width": ""
          }
        },
        "55f1898f06864acd9cf16f1f51ea34c3": {
          "model_module": "@jupyter-widgets/base",
          "model_name": "LayoutModel",
          "model_module_version": "1.2.0",
          "state": {
            "_model_module": "@jupyter-widgets/base",
            "_model_module_version": "1.2.0",
            "_model_name": "LayoutModel",
            "_view_count": null,
            "_view_module": "@jupyter-widgets/base",
            "_view_module_version": "1.2.0",
            "_view_name": "LayoutView",
            "align_content": null,
            "align_items": null,
            "align_self": null,
            "border": null,
            "bottom": null,
            "display": null,
            "flex": null,
            "flex_flow": null,
            "grid_area": null,
            "grid_auto_columns": null,
            "grid_auto_flow": null,
            "grid_auto_rows": null,
            "grid_column": null,
            "grid_gap": null,
            "grid_row": null,
            "grid_template_areas": null,
            "grid_template_columns": null,
            "grid_template_rows": null,
            "height": null,
            "justify_content": null,
            "justify_items": null,
            "left": null,
            "margin": null,
            "max_height": null,
            "max_width": null,
            "min_height": null,
            "min_width": null,
            "object_fit": null,
            "object_position": null,
            "order": null,
            "overflow": null,
            "overflow_x": null,
            "overflow_y": null,
            "padding": null,
            "right": null,
            "top": null,
            "visibility": null,
            "width": null
          }
        },
        "a3af39207e754d16b5521caf104b8f05": {
          "model_module": "@jupyter-widgets/controls",
          "model_name": "DescriptionStyleModel",
          "model_module_version": "1.5.0",
          "state": {
            "_model_module": "@jupyter-widgets/controls",
            "_model_module_version": "1.5.0",
            "_model_name": "DescriptionStyleModel",
            "_view_count": null,
            "_view_module": "@jupyter-widgets/base",
            "_view_module_version": "1.2.0",
            "_view_name": "StyleView",
            "description_width": ""
          }
        },
        "a2e49056b6674f9fa19e2b4695688f53": {
          "model_module": "@jupyter-widgets/controls",
          "model_name": "HBoxModel",
          "model_module_version": "1.5.0",
          "state": {
            "_dom_classes": [],
            "_model_module": "@jupyter-widgets/controls",
            "_model_module_version": "1.5.0",
            "_model_name": "HBoxModel",
            "_view_count": null,
            "_view_module": "@jupyter-widgets/controls",
            "_view_module_version": "1.5.0",
            "_view_name": "HBoxView",
            "box_style": "",
            "children": [
              "IPY_MODEL_8ab59eb53a7647eca5c0ead408bc56d0",
              "IPY_MODEL_067ecbd01d644add93de364e1d0a8d97",
              "IPY_MODEL_44e8448cb0454106aa4f31099c79359b"
            ],
            "layout": "IPY_MODEL_a51b8c426b04463e9d37edd61e5f4c65"
          }
        },
        "8ab59eb53a7647eca5c0ead408bc56d0": {
          "model_module": "@jupyter-widgets/controls",
          "model_name": "HTMLModel",
          "model_module_version": "1.5.0",
          "state": {
            "_dom_classes": [],
            "_model_module": "@jupyter-widgets/controls",
            "_model_module_version": "1.5.0",
            "_model_name": "HTMLModel",
            "_view_count": null,
            "_view_module": "@jupyter-widgets/controls",
            "_view_module_version": "1.5.0",
            "_view_name": "HTMLView",
            "description": "",
            "description_tooltip": null,
            "layout": "IPY_MODEL_4f59a554d15441eaac9f7540a8707453",
            "placeholder": "​",
            "style": "IPY_MODEL_eb57f64e864d46549b78e9e17d3d9438",
            "value": "100%"
          }
        },
        "067ecbd01d644add93de364e1d0a8d97": {
          "model_module": "@jupyter-widgets/controls",
          "model_name": "FloatProgressModel",
          "model_module_version": "1.5.0",
          "state": {
            "_dom_classes": [],
            "_model_module": "@jupyter-widgets/controls",
            "_model_module_version": "1.5.0",
            "_model_name": "FloatProgressModel",
            "_view_count": null,
            "_view_module": "@jupyter-widgets/controls",
            "_view_module_version": "1.5.0",
            "_view_name": "ProgressView",
            "bar_style": "success",
            "description": "",
            "description_tooltip": null,
            "layout": "IPY_MODEL_441638ae33d24e3a9a148565038bfa4e",
            "max": 20,
            "min": 0,
            "orientation": "horizontal",
            "style": "IPY_MODEL_0bf318bd577b49ea9698f3c42ecf9a65",
            "value": 20
          }
        },
        "44e8448cb0454106aa4f31099c79359b": {
          "model_module": "@jupyter-widgets/controls",
          "model_name": "HTMLModel",
          "model_module_version": "1.5.0",
          "state": {
            "_dom_classes": [],
            "_model_module": "@jupyter-widgets/controls",
            "_model_module_version": "1.5.0",
            "_model_name": "HTMLModel",
            "_view_count": null,
            "_view_module": "@jupyter-widgets/controls",
            "_view_module_version": "1.5.0",
            "_view_name": "HTMLView",
            "description": "",
            "description_tooltip": null,
            "layout": "IPY_MODEL_8a7ba319a55a436f812c9ddb7435ca57",
            "placeholder": "​",
            "style": "IPY_MODEL_e27dc057ca5049408a116adde85f9a98",
            "value": " 20/20 [00:00&lt;00:00, 40.92it/s]"
          }
        },
        "a51b8c426b04463e9d37edd61e5f4c65": {
          "model_module": "@jupyter-widgets/base",
          "model_name": "LayoutModel",
          "model_module_version": "1.2.0",
          "state": {
            "_model_module": "@jupyter-widgets/base",
            "_model_module_version": "1.2.0",
            "_model_name": "LayoutModel",
            "_view_count": null,
            "_view_module": "@jupyter-widgets/base",
            "_view_module_version": "1.2.0",
            "_view_name": "LayoutView",
            "align_content": null,
            "align_items": null,
            "align_self": null,
            "border": null,
            "bottom": null,
            "display": null,
            "flex": null,
            "flex_flow": null,
            "grid_area": null,
            "grid_auto_columns": null,
            "grid_auto_flow": null,
            "grid_auto_rows": null,
            "grid_column": null,
            "grid_gap": null,
            "grid_row": null,
            "grid_template_areas": null,
            "grid_template_columns": null,
            "grid_template_rows": null,
            "height": null,
            "justify_content": null,
            "justify_items": null,
            "left": null,
            "margin": null,
            "max_height": null,
            "max_width": null,
            "min_height": null,
            "min_width": null,
            "object_fit": null,
            "object_position": null,
            "order": null,
            "overflow": null,
            "overflow_x": null,
            "overflow_y": null,
            "padding": null,
            "right": null,
            "top": null,
            "visibility": null,
            "width": null
          }
        },
        "4f59a554d15441eaac9f7540a8707453": {
          "model_module": "@jupyter-widgets/base",
          "model_name": "LayoutModel",
          "model_module_version": "1.2.0",
          "state": {
            "_model_module": "@jupyter-widgets/base",
            "_model_module_version": "1.2.0",
            "_model_name": "LayoutModel",
            "_view_count": null,
            "_view_module": "@jupyter-widgets/base",
            "_view_module_version": "1.2.0",
            "_view_name": "LayoutView",
            "align_content": null,
            "align_items": null,
            "align_self": null,
            "border": null,
            "bottom": null,
            "display": null,
            "flex": null,
            "flex_flow": null,
            "grid_area": null,
            "grid_auto_columns": null,
            "grid_auto_flow": null,
            "grid_auto_rows": null,
            "grid_column": null,
            "grid_gap": null,
            "grid_row": null,
            "grid_template_areas": null,
            "grid_template_columns": null,
            "grid_template_rows": null,
            "height": null,
            "justify_content": null,
            "justify_items": null,
            "left": null,
            "margin": null,
            "max_height": null,
            "max_width": null,
            "min_height": null,
            "min_width": null,
            "object_fit": null,
            "object_position": null,
            "order": null,
            "overflow": null,
            "overflow_x": null,
            "overflow_y": null,
            "padding": null,
            "right": null,
            "top": null,
            "visibility": null,
            "width": null
          }
        },
        "eb57f64e864d46549b78e9e17d3d9438": {
          "model_module": "@jupyter-widgets/controls",
          "model_name": "DescriptionStyleModel",
          "model_module_version": "1.5.0",
          "state": {
            "_model_module": "@jupyter-widgets/controls",
            "_model_module_version": "1.5.0",
            "_model_name": "DescriptionStyleModel",
            "_view_count": null,
            "_view_module": "@jupyter-widgets/base",
            "_view_module_version": "1.2.0",
            "_view_name": "StyleView",
            "description_width": ""
          }
        },
        "441638ae33d24e3a9a148565038bfa4e": {
          "model_module": "@jupyter-widgets/base",
          "model_name": "LayoutModel",
          "model_module_version": "1.2.0",
          "state": {
            "_model_module": "@jupyter-widgets/base",
            "_model_module_version": "1.2.0",
            "_model_name": "LayoutModel",
            "_view_count": null,
            "_view_module": "@jupyter-widgets/base",
            "_view_module_version": "1.2.0",
            "_view_name": "LayoutView",
            "align_content": null,
            "align_items": null,
            "align_self": null,
            "border": null,
            "bottom": null,
            "display": null,
            "flex": null,
            "flex_flow": null,
            "grid_area": null,
            "grid_auto_columns": null,
            "grid_auto_flow": null,
            "grid_auto_rows": null,
            "grid_column": null,
            "grid_gap": null,
            "grid_row": null,
            "grid_template_areas": null,
            "grid_template_columns": null,
            "grid_template_rows": null,
            "height": null,
            "justify_content": null,
            "justify_items": null,
            "left": null,
            "margin": null,
            "max_height": null,
            "max_width": null,
            "min_height": null,
            "min_width": null,
            "object_fit": null,
            "object_position": null,
            "order": null,
            "overflow": null,
            "overflow_x": null,
            "overflow_y": null,
            "padding": null,
            "right": null,
            "top": null,
            "visibility": null,
            "width": null
          }
        },
        "0bf318bd577b49ea9698f3c42ecf9a65": {
          "model_module": "@jupyter-widgets/controls",
          "model_name": "ProgressStyleModel",
          "model_module_version": "1.5.0",
          "state": {
            "_model_module": "@jupyter-widgets/controls",
            "_model_module_version": "1.5.0",
            "_model_name": "ProgressStyleModel",
            "_view_count": null,
            "_view_module": "@jupyter-widgets/base",
            "_view_module_version": "1.2.0",
            "_view_name": "StyleView",
            "bar_color": null,
            "description_width": ""
          }
        },
        "8a7ba319a55a436f812c9ddb7435ca57": {
          "model_module": "@jupyter-widgets/base",
          "model_name": "LayoutModel",
          "model_module_version": "1.2.0",
          "state": {
            "_model_module": "@jupyter-widgets/base",
            "_model_module_version": "1.2.0",
            "_model_name": "LayoutModel",
            "_view_count": null,
            "_view_module": "@jupyter-widgets/base",
            "_view_module_version": "1.2.0",
            "_view_name": "LayoutView",
            "align_content": null,
            "align_items": null,
            "align_self": null,
            "border": null,
            "bottom": null,
            "display": null,
            "flex": null,
            "flex_flow": null,
            "grid_area": null,
            "grid_auto_columns": null,
            "grid_auto_flow": null,
            "grid_auto_rows": null,
            "grid_column": null,
            "grid_gap": null,
            "grid_row": null,
            "grid_template_areas": null,
            "grid_template_columns": null,
            "grid_template_rows": null,
            "height": null,
            "justify_content": null,
            "justify_items": null,
            "left": null,
            "margin": null,
            "max_height": null,
            "max_width": null,
            "min_height": null,
            "min_width": null,
            "object_fit": null,
            "object_position": null,
            "order": null,
            "overflow": null,
            "overflow_x": null,
            "overflow_y": null,
            "padding": null,
            "right": null,
            "top": null,
            "visibility": null,
            "width": null
          }
        },
        "e27dc057ca5049408a116adde85f9a98": {
          "model_module": "@jupyter-widgets/controls",
          "model_name": "DescriptionStyleModel",
          "model_module_version": "1.5.0",
          "state": {
            "_model_module": "@jupyter-widgets/controls",
            "_model_module_version": "1.5.0",
            "_model_name": "DescriptionStyleModel",
            "_view_count": null,
            "_view_module": "@jupyter-widgets/base",
            "_view_module_version": "1.2.0",
            "_view_name": "StyleView",
            "description_width": ""
          }
        }
      }
    }
  },
  "cells": [
    {
      "cell_type": "markdown",
      "source": [
        "# Рекомендательные системы. Библиотека Implicit"
      ],
      "metadata": {
        "id": "WKcOaxybyk6I"
      }
    },
    {
      "cell_type": "code",
      "source": [
        "%%capture\n",
        "%%bash\n",
        "pip install implicit"
      ],
      "metadata": {
        "id": "vgLjxdSX02uV"
      },
      "execution_count": null,
      "outputs": []
    },
    {
      "cell_type": "markdown",
      "source": [
        "## Демонстрационный пример (репозиторий библиотеки)"
      ],
      "metadata": {
        "id": "vkNrbAcGV5pU"
      }
    },
    {
      "cell_type": "code",
      "source": [
        "import numpy as np\n",
        "import pandas as pd\n",
        "from implicit.datasets.lastfm import get_lastfm\n",
        "from implicit.nearest_neighbours import bm25_weight\n",
        "from implicit.als import AlternatingLeastSquares"
      ],
      "metadata": {
        "id": "hYSNpEpXWBSz"
      },
      "execution_count": null,
      "outputs": []
    },
    {
      "cell_type": "code",
      "source": [
        "artists, users, artist_user_plays = get_lastfm()"
      ],
      "metadata": {
        "colab": {
          "base_uri": "https://localhost:8080/",
          "height": 49,
          "referenced_widgets": [
            "1000bd75e3d14797bec32f38d54a9f7f",
            "83005b91b428492cade7633c14e2c642",
            "493f73c05d0148f991ded5869221c24d",
            "8429c4f4368e42b1ae0e3ce0b9da654f",
            "d627cc7e802c46e58b889bd6c49aa0e5",
            "bc60c6a4d0d246b9a7dce7d7b447e347",
            "bb2721ae5b224f67889b85dd9157f436",
            "8641e48e375b4648b724649ce6948e3b",
            "e2d37a4f3cf6447987765833580c48e6",
            "d0d9fde4d1474adcb9ff5634af6f7591",
            "3842b5a2e166459186e72e9382b9dd82"
          ]
        },
        "id": "1baNUXJlWJYc",
        "outputId": "85df802e-aba8-4d42-b75d-00e247c7a660"
      },
      "execution_count": null,
      "outputs": [
        {
          "output_type": "display_data",
          "data": {
            "text/plain": [
              "0.00B [00:00, ?B/s]"
            ],
            "application/vnd.jupyter.widget-view+json": {
              "version_major": 2,
              "version_minor": 0,
              "model_id": "1000bd75e3d14797bec32f38d54a9f7f"
            }
          },
          "metadata": {}
        }
      ]
    },
    {
      "cell_type": "code",
      "source": [
        "print(users[:5])"
      ],
      "metadata": {
        "colab": {
          "base_uri": "https://localhost:8080/"
        },
        "id": "yxy9QglcWgV9",
        "outputId": "08533c35-a903-4a15-eb33-5add9e74bf0e"
      },
      "execution_count": null,
      "outputs": [
        {
          "output_type": "stream",
          "name": "stdout",
          "text": [
            "['00000c289a1829a808ac09c00daf10bc3c4e223b'\n",
            " '00001411dc427966b17297bf4d69e7e193135d89'\n",
            " '00004d2ac9316e22dc007ab2243d6fcb239e707d'\n",
            " '000063d3fe1cf2ba248b9e3c3f0334845a27a6bf'\n",
            " '00007a47085b9aab8af55f52ec8846ac479ac4fe']\n"
          ]
        }
      ]
    },
    {
      "cell_type": "code",
      "source": [
        "print(len(artists))\n",
        "print(len(users))"
      ],
      "metadata": {
        "colab": {
          "base_uri": "https://localhost:8080/"
        },
        "id": "22ltCv8KWv3r",
        "outputId": "512b272d-d40e-42b0-f753-b3cf8b244ee0"
      },
      "execution_count": null,
      "outputs": [
        {
          "output_type": "stream",
          "name": "stdout",
          "text": [
            "292385\n",
            "358868\n"
          ]
        }
      ]
    },
    {
      "cell_type": "code",
      "source": [
        "print(artist_user_plays)"
      ],
      "metadata": {
        "colab": {
          "base_uri": "https://localhost:8080/"
        },
        "id": "0qbWJPvMWroq",
        "outputId": "689569c5-723e-4f6c-d7ce-b45694865a36"
      },
      "execution_count": null,
      "outputs": [
        {
          "output_type": "stream",
          "name": "stdout",
          "text": [
            "  (0, 73470)\t32.0\n",
            "  (0, 97856)\t24.0\n",
            "  (0, 235382)\t1339.0\n",
            "  (0, 266072)\t211.0\n",
            "  (1, 171865)\t23.0\n",
            "  (2, 180892)\t70.0\n",
            "  (3, 285031)\t23.0\n",
            "  (4, 15103)\t9.0\n",
            "  (5, 81700)\t16.0\n",
            "  (6, 284057)\t56.0\n",
            "  (7, 335320)\t24.0\n",
            "  (8, 182831)\t113.0\n",
            "  (9, 12461)\t3.0\n",
            "  (10, 78717)\t2.0\n",
            "  (10, 149431)\t2.0\n",
            "  (10, 220512)\t2.0\n",
            "  (10, 261830)\t2.0\n",
            "  (10, 280610)\t2.0\n",
            "  (10, 297146)\t2.0\n",
            "  (11, 296825)\t118.0\n",
            "  (12, 332435)\t202.0\n",
            "  (13, 41075)\t30.0\n",
            "  (14, 298571)\t138.0\n",
            "  (15, 295693)\t219.0\n",
            "  (16, 185703)\t35.0\n",
            "  :\t:\n",
            "  (292364, 4775)\t5.0\n",
            "  (292365, 147943)\t1329.0\n",
            "  (292366, 95230)\t157.0\n",
            "  (292367, 56086)\t5.0\n",
            "  (292367, 137277)\t70.0\n",
            "  (292367, 287297)\t87.0\n",
            "  (292368, 294859)\t68.0\n",
            "  (292369, 308202)\t125.0\n",
            "  (292370, 42122)\t315.0\n",
            "  (292370, 263053)\t729.0\n",
            "  (292370, 301225)\t7.0\n",
            "  (292371, 229732)\t3.0\n",
            "  (292372, 355627)\t384.0\n",
            "  (292373, 337693)\t486.0\n",
            "  (292374, 212855)\t48.0\n",
            "  (292375, 231253)\t127.0\n",
            "  (292376, 147738)\t7.0\n",
            "  (292377, 220443)\t125.0\n",
            "  (292378, 219957)\t1.0\n",
            "  (292379, 14949)\t66.0\n",
            "  (292380, 218794)\t25.0\n",
            "  (292381, 209453)\t85.0\n",
            "  (292382, 245468)\t369.0\n",
            "  (292383, 84262)\t142.0\n",
            "  (292384, 85674)\t102.0\n"
          ]
        }
      ]
    },
    {
      "cell_type": "code",
      "source": [
        "artist_user_plays = bm25_weight(artist_user_plays, K1=100, B=0.8)"
      ],
      "metadata": {
        "id": "WKVhRfCEXKDT"
      },
      "execution_count": null,
      "outputs": []
    },
    {
      "cell_type": "code",
      "source": [
        "print(artist_user_plays)"
      ],
      "metadata": {
        "colab": {
          "base_uri": "https://localhost:8080/"
        },
        "id": "9ZgyZdJ6YDQD",
        "outputId": "544358bf-35e6-4cad-85c0-f5d39a1b011b"
      },
      "execution_count": null,
      "outputs": [
        {
          "output_type": "stream",
          "name": "stdout",
          "text": [
            "  (0, 73470)\t464.12640081352487\n",
            "  (0, 97856)\t395.4254916528028\n",
            "  (0, 235382)\t917.7576795317125\n",
            "  (0, 266072)\t801.254668853217\n",
            "  (1, 171865)\t479.0537259553822\n",
            "  (2, 180892)\t701.6462524574976\n",
            "  (3, 285031)\t469.2366708878609\n",
            "  (4, 15103)\t274.6530366072618\n",
            "  (5, 81700)\t392.0203057167537\n",
            "  (6, 284057)\t624.2906299439671\n",
            "  (7, 335320)\t482.02241184218633\n",
            "  (8, 182831)\t763.8439378564416\n",
            "  (9, 12461)\t115.27320299060298\n",
            "  (10, 78717)\t79.93913331578632\n",
            "  (10, 149431)\t82.3790196718816\n",
            "  (10, 220512)\t80.7530809045117\n",
            "  (10, 261830)\t81.8842571288024\n",
            "  (10, 280610)\t80.1359339749864\n",
            "  (10, 297146)\t80.33706026790095\n",
            "  (11, 296825)\t764.3099590503471\n",
            "  (12, 332435)\t833.4437619557374\n",
            "  (13, 41075)\t510.69738868947763\n",
            "  (14, 298571)\t759.3034882234267\n",
            "  (15, 295693)\t791.1280662266632\n",
            "  (16, 185703)\t550.3715435013044\n",
            "  :\t:\n",
            "  (292364, 4775)\t178.0367505676167\n",
            "  (292365, 147943)\t970.515999738615\n",
            "  (292366, 95230)\t778.3288671797941\n",
            "  (292367, 56086)\t174.82443977973026\n",
            "  (292367, 137277)\t693.1595624862529\n",
            "  (292367, 287297)\t714.2549224050497\n",
            "  (292368, 294859)\t685.4388260783794\n",
            "  (292369, 308202)\t807.8389907410486\n",
            "  (292370, 42122)\t855.6262970733204\n",
            "  (292370, 263053)\t916.838398701158\n",
            "  (292370, 301225)\t195.2069894538584\n",
            "  (292371, 229732)\t119.2522080101646\n",
            "  (292372, 355627)\t837.8632263542605\n",
            "  (292373, 337693)\t838.3958739138181\n",
            "  (292374, 212855)\t617.1313148060917\n",
            "  (292375, 231253)\t751.1127830908332\n",
            "  (292376, 147738)\t226.76073605579924\n",
            "  (292377, 220443)\t784.6056741376278\n",
            "  (292378, 219957)\t43.02407577229206\n",
            "  (292379, 14949)\t657.6877045612146\n",
            "  (292380, 218794)\t488.48649640466624\n",
            "  (292381, 209453)\t714.2172798094573\n",
            "  (292382, 245468)\t824.2689749788672\n",
            "  (292383, 84262)\t753.7707508115707\n",
            "  (292384, 85674)\t723.7674987725694\n"
          ]
        }
      ]
    },
    {
      "cell_type": "code",
      "source": [
        "user_plays = artist_user_plays.T.tocsr()"
      ],
      "metadata": {
        "id": "GHhp4SVaYMDK"
      },
      "execution_count": null,
      "outputs": []
    },
    {
      "cell_type": "code",
      "source": [
        "print(user_plays)"
      ],
      "metadata": {
        "colab": {
          "base_uri": "https://localhost:8080/"
        },
        "id": "m9eDwnVEYP8C",
        "outputId": "b8dd0897-f49e-4222-da86-8e8f2e0a1ff9"
      },
      "execution_count": null,
      "outputs": [
        {
          "output_type": "stream",
          "name": "stdout",
          "text": [
            "  (0, 19370)\t352.9751779640889\n",
            "  (0, 19606)\t434.397274202691\n",
            "  (0, 37529)\t305.27620607761054\n",
            "  (0, 45568)\t585.4341693344771\n",
            "  (0, 45575)\t808.3451406668643\n",
            "  (0, 46258)\t142.2391605697496\n",
            "  (0, 51099)\t48.74467472041867\n",
            "  (0, 90948)\t39.97596241359612\n",
            "  (0, 92187)\t113.34032335425246\n",
            "  (0, 100655)\t13.24056433503626\n",
            "  (0, 103727)\t21.558948808986425\n",
            "  (0, 106705)\t28.653924454702246\n",
            "  (0, 106720)\t191.3328220153283\n",
            "  (0, 125500)\t241.32859292780725\n",
            "  (0, 126706)\t19.335073524300682\n",
            "  (0, 129399)\t13.089673010275645\n",
            "  (0, 137079)\t89.54607771892809\n",
            "  (0, 144255)\t4.720524922651388\n",
            "  (0, 144310)\t102.37990343980374\n",
            "  (0, 151783)\t7.391922803698345\n",
            "  (0, 154701)\t9.001361851612097\n",
            "  (0, 155258)\t480.5849215582812\n",
            "  (0, 165137)\t93.71950862504329\n",
            "  (0, 168001)\t53.10572249143597\n",
            "  (0, 169923)\t118.06681082623732\n",
            "  :\t:\n",
            "  (358867, 160660)\t19.37550850128334\n",
            "  (358867, 161432)\t0.6741345116204547\n",
            "  (358867, 161741)\t324.0004173981808\n",
            "  (358867, 162114)\t3.2343995062094835\n",
            "  (358867, 167160)\t37.28155036431806\n",
            "  (358867, 171801)\t13.74889482497994\n",
            "  (358867, 178292)\t13.721489132469031\n",
            "  (358867, 186566)\t1.018949811582253\n",
            "  (358867, 217901)\t0.06196971397319739\n",
            "  (358867, 218109)\t0.7404930177370931\n",
            "  (358867, 235136)\t0.17232661596118906\n",
            "  (358867, 251176)\t18.037281996251696\n",
            "  (358867, 254324)\t11.549068502307916\n",
            "  (358867, 254550)\t0.19824355936458124\n",
            "  (358867, 258362)\t0.4358681300865253\n",
            "  (358867, 262845)\t0.2208757424646128\n",
            "  (358867, 263257)\t9.05029077454676\n",
            "  (358867, 263348)\t0.850144353730126\n",
            "  (358867, 263700)\t6.984073809955754\n",
            "  (358867, 263849)\t3.8720645633350403\n",
            "  (358867, 265456)\t14.24871006753662\n",
            "  (358867, 267949)\t4.4260084582454775\n",
            "  (358867, 268690)\t11.316823317658208\n",
            "  (358867, 271758)\t11.934419920866471\n",
            "  (358867, 274818)\t3.626144774502295\n"
          ]
        }
      ]
    },
    {
      "cell_type": "code",
      "source": [
        "model = AlternatingLeastSquares(factors=64, regularization=0.05)\n",
        "model.fit(2 * user_plays)"
      ],
      "metadata": {
        "colab": {
          "base_uri": "https://localhost:8080/",
          "height": 49,
          "referenced_widgets": [
            "ec9af6e583b44f31b87015d9a4fdd7af",
            "9c6f8f0960574b5a9f5ba7f54fd8eaad",
            "361b5ebb0787440cab9ed75cb65e18c2",
            "d591f3bd808e43719015ec785831eac3",
            "c0f5c43ca43342298420cc66b333fa3d",
            "8918635cbd4f4eb59af873d4abca82b9",
            "925ae60099974a59a5ed0e93c30ca7de",
            "e910faf180b44175b6aa1d1e7d7f511a",
            "191ca8b097d24339862798567f8f7fc8",
            "55f1898f06864acd9cf16f1f51ea34c3",
            "a3af39207e754d16b5521caf104b8f05"
          ]
        },
        "id": "-qBP9zMPYfbq",
        "outputId": "e55f8f13-81bd-43ec-dfb7-78b3e9f5fd41"
      },
      "execution_count": null,
      "outputs": [
        {
          "output_type": "display_data",
          "data": {
            "text/plain": [
              "  0%|          | 0/15 [00:00<?, ?it/s]"
            ],
            "application/vnd.jupyter.widget-view+json": {
              "version_major": 2,
              "version_minor": 0,
              "model_id": "ec9af6e583b44f31b87015d9a4fdd7af"
            }
          },
          "metadata": {}
        }
      ]
    },
    {
      "cell_type": "code",
      "source": [
        "userid = 12345\n",
        "ids, scores = model.recommend(userid, user_plays[userid], N=10, filter_already_liked_items=False)"
      ],
      "metadata": {
        "id": "oZzW_ICkbXma"
      },
      "execution_count": null,
      "outputs": []
    },
    {
      "cell_type": "code",
      "source": [
        "df_artist = pd.DataFrame({\"artist\": artists[ids], \"score\": scores, \"already_liked\": np.in1d(ids, user_plays[userid].indices)})"
      ],
      "metadata": {
        "id": "M_W_W8vUcMrp"
      },
      "execution_count": null,
      "outputs": []
    },
    {
      "cell_type": "code",
      "source": [
        "print(df_artist)"
      ],
      "metadata": {
        "id": "Rxk2jAWqcjdR"
      },
      "execution_count": null,
      "outputs": []
    },
    {
      "cell_type": "markdown",
      "source": [
        "## Демонстрационный пример (собственный датасет)"
      ],
      "metadata": {
        "id": "wnyM_mTXcxia"
      }
    },
    {
      "cell_type": "code",
      "execution_count": null,
      "metadata": {
        "id": "ZXTF2FVSyRFZ"
      },
      "outputs": [],
      "source": [
        "import numpy as np\n",
        "import pandas as pd\n",
        "import scipy.sparse as sp\n",
        "import implicit"
      ]
    },
    {
      "cell_type": "code",
      "source": [
        "# Загрузка данных\n",
        "data = pd.read_csv('/content/ratings.csv', sep=';')\n",
        "data = data.dropna().reset_index(drop=True)\n",
        "data['item_id'] = data['item_id'].astype('int')\n",
        "data['rating'] = data['rating'].astype('int')"
      ],
      "metadata": {
        "id": "5jMQ0iVHywI_"
      },
      "execution_count": null,
      "outputs": []
    },
    {
      "cell_type": "code",
      "source": [
        "data.head(35)"
      ],
      "metadata": {
        "colab": {
          "base_uri": "https://localhost:8080/",
          "height": 927
        },
        "id": "2zV7czLbyxBv",
        "outputId": "cfed68da-cb4d-4009-9c55-f8b7554be7cf"
      },
      "execution_count": null,
      "outputs": [
        {
          "output_type": "execute_result",
          "data": {
            "text/plain": [
              "    user_id  item_id item_title  rating\n",
              "0         1        1    movie_1       2\n",
              "1         1        3    movie_3       1\n",
              "2         1        4    movie_4      10\n",
              "3         1        5    movie_5       8\n",
              "4         1        6    movie_6       8\n",
              "5         1        7    movie_7      10\n",
              "6         2        1    movie_1       6\n",
              "7         2        4    movie_4       8\n",
              "8         2        5    movie_5       7\n",
              "9         2        6    movie_6       6\n",
              "10        2        7    movie_7       6\n",
              "11        3        1    movie_1       3\n",
              "12        3        2    movie_2       8\n",
              "13        3        3    movie_3       7\n",
              "14        3        4    movie_4       8\n",
              "15        3        5    movie_5       6\n",
              "16        3        6    movie_6       5\n",
              "17        4        1    movie_1      10\n",
              "18        4        2    movie_2       7\n",
              "19        4        3    movie_3       6\n",
              "20        4        4    movie_4       4\n",
              "21        4        5    movie_5       6\n",
              "22        5        1    movie_1       1\n",
              "23        5        2    movie_2       7\n",
              "24        5        3    movie_3       5\n",
              "25        5        5    movie_5       5\n",
              "26        5        6    movie_6       3\n",
              "27        5        7    movie_7       9"
            ],
            "text/html": [
              "\n",
              "  <div id=\"df-fad9ee7f-747d-433e-aabb-e221842fc067\">\n",
              "    <div class=\"colab-df-container\">\n",
              "      <div>\n",
              "<style scoped>\n",
              "    .dataframe tbody tr th:only-of-type {\n",
              "        vertical-align: middle;\n",
              "    }\n",
              "\n",
              "    .dataframe tbody tr th {\n",
              "        vertical-align: top;\n",
              "    }\n",
              "\n",
              "    .dataframe thead th {\n",
              "        text-align: right;\n",
              "    }\n",
              "</style>\n",
              "<table border=\"1\" class=\"dataframe\">\n",
              "  <thead>\n",
              "    <tr style=\"text-align: right;\">\n",
              "      <th></th>\n",
              "      <th>user_id</th>\n",
              "      <th>item_id</th>\n",
              "      <th>item_title</th>\n",
              "      <th>rating</th>\n",
              "    </tr>\n",
              "  </thead>\n",
              "  <tbody>\n",
              "    <tr>\n",
              "      <th>0</th>\n",
              "      <td>1</td>\n",
              "      <td>1</td>\n",
              "      <td>movie_1</td>\n",
              "      <td>2</td>\n",
              "    </tr>\n",
              "    <tr>\n",
              "      <th>1</th>\n",
              "      <td>1</td>\n",
              "      <td>3</td>\n",
              "      <td>movie_3</td>\n",
              "      <td>1</td>\n",
              "    </tr>\n",
              "    <tr>\n",
              "      <th>2</th>\n",
              "      <td>1</td>\n",
              "      <td>4</td>\n",
              "      <td>movie_4</td>\n",
              "      <td>10</td>\n",
              "    </tr>\n",
              "    <tr>\n",
              "      <th>3</th>\n",
              "      <td>1</td>\n",
              "      <td>5</td>\n",
              "      <td>movie_5</td>\n",
              "      <td>8</td>\n",
              "    </tr>\n",
              "    <tr>\n",
              "      <th>4</th>\n",
              "      <td>1</td>\n",
              "      <td>6</td>\n",
              "      <td>movie_6</td>\n",
              "      <td>8</td>\n",
              "    </tr>\n",
              "    <tr>\n",
              "      <th>5</th>\n",
              "      <td>1</td>\n",
              "      <td>7</td>\n",
              "      <td>movie_7</td>\n",
              "      <td>10</td>\n",
              "    </tr>\n",
              "    <tr>\n",
              "      <th>6</th>\n",
              "      <td>2</td>\n",
              "      <td>1</td>\n",
              "      <td>movie_1</td>\n",
              "      <td>6</td>\n",
              "    </tr>\n",
              "    <tr>\n",
              "      <th>7</th>\n",
              "      <td>2</td>\n",
              "      <td>4</td>\n",
              "      <td>movie_4</td>\n",
              "      <td>8</td>\n",
              "    </tr>\n",
              "    <tr>\n",
              "      <th>8</th>\n",
              "      <td>2</td>\n",
              "      <td>5</td>\n",
              "      <td>movie_5</td>\n",
              "      <td>7</td>\n",
              "    </tr>\n",
              "    <tr>\n",
              "      <th>9</th>\n",
              "      <td>2</td>\n",
              "      <td>6</td>\n",
              "      <td>movie_6</td>\n",
              "      <td>6</td>\n",
              "    </tr>\n",
              "    <tr>\n",
              "      <th>10</th>\n",
              "      <td>2</td>\n",
              "      <td>7</td>\n",
              "      <td>movie_7</td>\n",
              "      <td>6</td>\n",
              "    </tr>\n",
              "    <tr>\n",
              "      <th>11</th>\n",
              "      <td>3</td>\n",
              "      <td>1</td>\n",
              "      <td>movie_1</td>\n",
              "      <td>3</td>\n",
              "    </tr>\n",
              "    <tr>\n",
              "      <th>12</th>\n",
              "      <td>3</td>\n",
              "      <td>2</td>\n",
              "      <td>movie_2</td>\n",
              "      <td>8</td>\n",
              "    </tr>\n",
              "    <tr>\n",
              "      <th>13</th>\n",
              "      <td>3</td>\n",
              "      <td>3</td>\n",
              "      <td>movie_3</td>\n",
              "      <td>7</td>\n",
              "    </tr>\n",
              "    <tr>\n",
              "      <th>14</th>\n",
              "      <td>3</td>\n",
              "      <td>4</td>\n",
              "      <td>movie_4</td>\n",
              "      <td>8</td>\n",
              "    </tr>\n",
              "    <tr>\n",
              "      <th>15</th>\n",
              "      <td>3</td>\n",
              "      <td>5</td>\n",
              "      <td>movie_5</td>\n",
              "      <td>6</td>\n",
              "    </tr>\n",
              "    <tr>\n",
              "      <th>16</th>\n",
              "      <td>3</td>\n",
              "      <td>6</td>\n",
              "      <td>movie_6</td>\n",
              "      <td>5</td>\n",
              "    </tr>\n",
              "    <tr>\n",
              "      <th>17</th>\n",
              "      <td>4</td>\n",
              "      <td>1</td>\n",
              "      <td>movie_1</td>\n",
              "      <td>10</td>\n",
              "    </tr>\n",
              "    <tr>\n",
              "      <th>18</th>\n",
              "      <td>4</td>\n",
              "      <td>2</td>\n",
              "      <td>movie_2</td>\n",
              "      <td>7</td>\n",
              "    </tr>\n",
              "    <tr>\n",
              "      <th>19</th>\n",
              "      <td>4</td>\n",
              "      <td>3</td>\n",
              "      <td>movie_3</td>\n",
              "      <td>6</td>\n",
              "    </tr>\n",
              "    <tr>\n",
              "      <th>20</th>\n",
              "      <td>4</td>\n",
              "      <td>4</td>\n",
              "      <td>movie_4</td>\n",
              "      <td>4</td>\n",
              "    </tr>\n",
              "    <tr>\n",
              "      <th>21</th>\n",
              "      <td>4</td>\n",
              "      <td>5</td>\n",
              "      <td>movie_5</td>\n",
              "      <td>6</td>\n",
              "    </tr>\n",
              "    <tr>\n",
              "      <th>22</th>\n",
              "      <td>5</td>\n",
              "      <td>1</td>\n",
              "      <td>movie_1</td>\n",
              "      <td>1</td>\n",
              "    </tr>\n",
              "    <tr>\n",
              "      <th>23</th>\n",
              "      <td>5</td>\n",
              "      <td>2</td>\n",
              "      <td>movie_2</td>\n",
              "      <td>7</td>\n",
              "    </tr>\n",
              "    <tr>\n",
              "      <th>24</th>\n",
              "      <td>5</td>\n",
              "      <td>3</td>\n",
              "      <td>movie_3</td>\n",
              "      <td>5</td>\n",
              "    </tr>\n",
              "    <tr>\n",
              "      <th>25</th>\n",
              "      <td>5</td>\n",
              "      <td>5</td>\n",
              "      <td>movie_5</td>\n",
              "      <td>5</td>\n",
              "    </tr>\n",
              "    <tr>\n",
              "      <th>26</th>\n",
              "      <td>5</td>\n",
              "      <td>6</td>\n",
              "      <td>movie_6</td>\n",
              "      <td>3</td>\n",
              "    </tr>\n",
              "    <tr>\n",
              "      <th>27</th>\n",
              "      <td>5</td>\n",
              "      <td>7</td>\n",
              "      <td>movie_7</td>\n",
              "      <td>9</td>\n",
              "    </tr>\n",
              "  </tbody>\n",
              "</table>\n",
              "</div>\n",
              "      <button class=\"colab-df-convert\" onclick=\"convertToInteractive('df-fad9ee7f-747d-433e-aabb-e221842fc067')\"\n",
              "              title=\"Convert this dataframe to an interactive table.\"\n",
              "              style=\"display:none;\">\n",
              "        \n",
              "  <svg xmlns=\"http://www.w3.org/2000/svg\" height=\"24px\"viewBox=\"0 0 24 24\"\n",
              "       width=\"24px\">\n",
              "    <path d=\"M0 0h24v24H0V0z\" fill=\"none\"/>\n",
              "    <path d=\"M18.56 5.44l.94 2.06.94-2.06 2.06-.94-2.06-.94-.94-2.06-.94 2.06-2.06.94zm-11 1L8.5 8.5l.94-2.06 2.06-.94-2.06-.94L8.5 2.5l-.94 2.06-2.06.94zm10 10l.94 2.06.94-2.06 2.06-.94-2.06-.94-.94-2.06-.94 2.06-2.06.94z\"/><path d=\"M17.41 7.96l-1.37-1.37c-.4-.4-.92-.59-1.43-.59-.52 0-1.04.2-1.43.59L10.3 9.45l-7.72 7.72c-.78.78-.78 2.05 0 2.83L4 21.41c.39.39.9.59 1.41.59.51 0 1.02-.2 1.41-.59l7.78-7.78 2.81-2.81c.8-.78.8-2.07 0-2.86zM5.41 20L4 18.59l7.72-7.72 1.47 1.35L5.41 20z\"/>\n",
              "  </svg>\n",
              "      </button>\n",
              "      \n",
              "  <style>\n",
              "    .colab-df-container {\n",
              "      display:flex;\n",
              "      flex-wrap:wrap;\n",
              "      gap: 12px;\n",
              "    }\n",
              "\n",
              "    .colab-df-convert {\n",
              "      background-color: #E8F0FE;\n",
              "      border: none;\n",
              "      border-radius: 50%;\n",
              "      cursor: pointer;\n",
              "      display: none;\n",
              "      fill: #1967D2;\n",
              "      height: 32px;\n",
              "      padding: 0 0 0 0;\n",
              "      width: 32px;\n",
              "    }\n",
              "\n",
              "    .colab-df-convert:hover {\n",
              "      background-color: #E2EBFA;\n",
              "      box-shadow: 0px 1px 2px rgba(60, 64, 67, 0.3), 0px 1px 3px 1px rgba(60, 64, 67, 0.15);\n",
              "      fill: #174EA6;\n",
              "    }\n",
              "\n",
              "    [theme=dark] .colab-df-convert {\n",
              "      background-color: #3B4455;\n",
              "      fill: #D2E3FC;\n",
              "    }\n",
              "\n",
              "    [theme=dark] .colab-df-convert:hover {\n",
              "      background-color: #434B5C;\n",
              "      box-shadow: 0px 1px 3px 1px rgba(0, 0, 0, 0.15);\n",
              "      filter: drop-shadow(0px 1px 2px rgba(0, 0, 0, 0.3));\n",
              "      fill: #FFFFFF;\n",
              "    }\n",
              "  </style>\n",
              "\n",
              "      <script>\n",
              "        const buttonEl =\n",
              "          document.querySelector('#df-fad9ee7f-747d-433e-aabb-e221842fc067 button.colab-df-convert');\n",
              "        buttonEl.style.display =\n",
              "          google.colab.kernel.accessAllowed ? 'block' : 'none';\n",
              "\n",
              "        async function convertToInteractive(key) {\n",
              "          const element = document.querySelector('#df-fad9ee7f-747d-433e-aabb-e221842fc067');\n",
              "          const dataTable =\n",
              "            await google.colab.kernel.invokeFunction('convertToInteractive',\n",
              "                                                     [key], {});\n",
              "          if (!dataTable) return;\n",
              "\n",
              "          const docLinkHtml = 'Like what you see? Visit the ' +\n",
              "            '<a target=\"_blank\" href=https://colab.research.google.com/notebooks/data_table.ipynb>data table notebook</a>'\n",
              "            + ' to learn more about interactive tables.';\n",
              "          element.innerHTML = '';\n",
              "          dataTable['output_type'] = 'display_data';\n",
              "          await google.colab.output.renderOutput(dataTable, element);\n",
              "          const docLink = document.createElement('div');\n",
              "          docLink.innerHTML = docLinkHtml;\n",
              "          element.appendChild(docLink);\n",
              "        }\n",
              "      </script>\n",
              "    </div>\n",
              "  </div>\n",
              "  "
            ]
          },
          "metadata": {},
          "execution_count": 132
        }
      ]
    },
    {
      "cell_type": "code",
      "source": [
        "matrix_user_item = data.pivot_table(index='user_id', columns='item_id', values='rating')\n",
        "print(matrix_user_item)"
      ],
      "metadata": {
        "colab": {
          "base_uri": "https://localhost:8080/"
        },
        "id": "cgIe3KF11ykV",
        "outputId": "d7d34cfc-a91b-4500-dca3-93c872771c15"
      },
      "execution_count": null,
      "outputs": [
        {
          "output_type": "stream",
          "name": "stdout",
          "text": [
            "item_id     1    2    3     4    5    6     7\n",
            "user_id                                      \n",
            "1         2.0  NaN  1.0  10.0  8.0  8.0  10.0\n",
            "2         6.0  NaN  NaN   8.0  7.0  6.0   6.0\n",
            "3         3.0  8.0  7.0   8.0  6.0  5.0   NaN\n",
            "4        10.0  7.0  6.0   4.0  6.0  NaN   NaN\n",
            "5         1.0  7.0  5.0   NaN  5.0  3.0   9.0\n"
          ]
        }
      ]
    },
    {
      "cell_type": "code",
      "source": [
        "#Создадим маппинг для пользователей и фильмов\n",
        "users_inv_mapping = dict(enumerate(data['user_id'].unique()))\n",
        "users_mapping = {v: k for k, v in users_inv_mapping.items()}\n",
        "print(users_mapping)\n",
        "\n",
        "items_inv_mapping = dict(enumerate(data['item_id'].unique()))\n",
        "items_mapping = {v: k for k, v in items_inv_mapping.items()}\n",
        "print(items_mapping)\n",
        "\n",
        "items_title_inv_mapping = dict(enumerate(data['item_title'].unique()))\n",
        "items_title_mapping = {v: k for k, v in items_title_inv_mapping.items()}\n",
        "print(items_title_mapping)"
      ],
      "metadata": {
        "colab": {
          "base_uri": "https://localhost:8080/"
        },
        "id": "H393Solk11mk",
        "outputId": "dc53717f-aca4-4b2b-e2a3-8dcc75a16ae1"
      },
      "execution_count": null,
      "outputs": [
        {
          "output_type": "stream",
          "name": "stdout",
          "text": [
            "{1: 0, 2: 1, 3: 2, 4: 3, 5: 4}\n",
            "{1: 0, 3: 1, 4: 2, 5: 3, 6: 4, 7: 5, 2: 6}\n",
            "{'movie_1': 0, 'movie_3': 1, 'movie_4': 2, 'movie_5': 3, 'movie_6': 4, 'movie_7': 5, 'movie_2': 6}\n"
          ]
        }
      ]
    },
    {
      "cell_type": "code",
      "source": [
        "def get_coo_matrix(df, \n",
        "                   user_col='user_id', \n",
        "                   item_col='item_id', \n",
        "                   weight_col=None, \n",
        "                   users_mapping={}, \n",
        "                   items_mapping={}):\n",
        "    \"\"\"Функция для создания матрицы\"\"\" \n",
        "    if weight_col is None:\n",
        "        weights = np.ones(len(df), dtype=np.float32)\n",
        "    else:\n",
        "        weights = df[weight_col].astype(np.float32)\n",
        "\n",
        "    interaction_matrix = sp.coo_matrix((\n",
        "        weights, \n",
        "        (\n",
        "            df[user_col].map(users_mapping.get), \n",
        "            df[item_col].map(items_mapping.get)\n",
        "        )\n",
        "    ))\n",
        "    return interaction_matrix"
      ],
      "metadata": {
        "id": "Sui2nCkC2x_F"
      },
      "execution_count": null,
      "outputs": []
    },
    {
      "cell_type": "code",
      "source": [
        "train_mat = get_coo_matrix(\n",
        "    data, \n",
        "    weight_col='rating',\n",
        "    users_mapping=users_mapping,\n",
        "    items_mapping=items_mapping\n",
        ").tocsr()"
      ],
      "metadata": {
        "id": "H5ahl3ia2_T8"
      },
      "execution_count": null,
      "outputs": []
    },
    {
      "cell_type": "code",
      "source": [
        "print(train_mat)"
      ],
      "metadata": {
        "colab": {
          "base_uri": "https://localhost:8080/"
        },
        "id": "LIr-Sy7s3E00",
        "outputId": "6dd40cdd-6a78-4258-e694-462e2575bb1a"
      },
      "execution_count": null,
      "outputs": [
        {
          "output_type": "stream",
          "name": "stdout",
          "text": [
            "  (0, 0)\t2.0\n",
            "  (0, 1)\t1.0\n",
            "  (0, 2)\t10.0\n",
            "  (0, 3)\t8.0\n",
            "  (0, 4)\t8.0\n",
            "  (0, 5)\t10.0\n",
            "  (1, 0)\t6.0\n",
            "  (1, 2)\t8.0\n",
            "  (1, 3)\t7.0\n",
            "  (1, 4)\t6.0\n",
            "  (1, 5)\t6.0\n",
            "  (2, 0)\t3.0\n",
            "  (2, 1)\t7.0\n",
            "  (2, 2)\t8.0\n",
            "  (2, 3)\t6.0\n",
            "  (2, 4)\t5.0\n",
            "  (2, 6)\t8.0\n",
            "  (3, 0)\t10.0\n",
            "  (3, 1)\t6.0\n",
            "  (3, 2)\t4.0\n",
            "  (3, 3)\t6.0\n",
            "  (3, 6)\t7.0\n",
            "  (4, 0)\t1.0\n",
            "  (4, 1)\t5.0\n",
            "  (4, 3)\t5.0\n",
            "  (4, 4)\t3.0\n",
            "  (4, 5)\t9.0\n",
            "  (4, 6)\t7.0\n"
          ]
        }
      ]
    },
    {
      "cell_type": "code",
      "source": [
        "# Обучаем модель\n",
        "model = implicit.als.AlternatingLeastSquares(factors=50, regularization=0.1, iterations=20)\n",
        "model.fit(15*train_mat)"
      ],
      "metadata": {
        "id": "w4uXKIqe4Cis",
        "colab": {
          "base_uri": "https://localhost:8080/",
          "height": 49,
          "referenced_widgets": [
            "a2e49056b6674f9fa19e2b4695688f53",
            "8ab59eb53a7647eca5c0ead408bc56d0",
            "067ecbd01d644add93de364e1d0a8d97",
            "44e8448cb0454106aa4f31099c79359b",
            "a51b8c426b04463e9d37edd61e5f4c65",
            "4f59a554d15441eaac9f7540a8707453",
            "eb57f64e864d46549b78e9e17d3d9438",
            "441638ae33d24e3a9a148565038bfa4e",
            "0bf318bd577b49ea9698f3c42ecf9a65",
            "8a7ba319a55a436f812c9ddb7435ca57",
            "e27dc057ca5049408a116adde85f9a98"
          ]
        },
        "outputId": "bd986df8-3656-4c3d-89a8-11dde9ccba2e"
      },
      "execution_count": null,
      "outputs": [
        {
          "output_type": "display_data",
          "data": {
            "text/plain": [
              "  0%|          | 0/20 [00:00<?, ?it/s]"
            ],
            "application/vnd.jupyter.widget-view+json": {
              "version_major": 2,
              "version_minor": 0,
              "model_id": "a2e49056b6674f9fa19e2b4695688f53"
            }
          },
          "metadata": {}
        }
      ]
    },
    {
      "cell_type": "code",
      "source": [
        "# Получаем предсказания для конкретного пользователя\n",
        "user_id = 3\n",
        "ids, scores = model.recommend(user_id, train_mat[user_id], N=7, filter_already_liked_items=False)"
      ],
      "metadata": {
        "id": "j_zSG_4THwlG"
      },
      "execution_count": null,
      "outputs": []
    },
    {
      "cell_type": "code",
      "source": [
        "items_title_rec = []\n",
        "for i in ids:\n",
        "  for k, val in items_title_mapping.items():\n",
        "    if val == i:\n",
        "      items_title_rec.append(k)\n",
        "\n",
        "print(items_title_rec)\n",
        "print(scores)"
      ],
      "metadata": {
        "colab": {
          "base_uri": "https://localhost:8080/"
        },
        "id": "TEpfUtkQOtDO",
        "outputId": "3ddf52d6-1153-496a-a2fb-39c75ca66067"
      },
      "execution_count": null,
      "outputs": [
        {
          "output_type": "stream",
          "name": "stdout",
          "text": [
            "['movie_3', 'movie_1', 'movie_2', 'movie_5', 'movie_4', 'movie_6', 'movie_7']\n",
            "[1.0083606  0.9990243  0.994145   0.99125385 0.98880774 0.9081473\n",
            " 0.18431844]\n"
          ]
        }
      ]
    },
    {
      "cell_type": "code",
      "source": [
        "df_movie = pd.DataFrame({\"items_title\": items_title_rec, \"score\": scores, \"already_liked\": np.in1d(ids, train_mat[user_id].indices)})"
      ],
      "metadata": {
        "id": "HEi6TX6TfrX5"
      },
      "execution_count": null,
      "outputs": []
    },
    {
      "cell_type": "code",
      "source": [
        "print(df_movie)"
      ],
      "metadata": {
        "colab": {
          "base_uri": "https://localhost:8080/"
        },
        "id": "bet-_jBMgAjH",
        "outputId": "621f8b7f-560d-4ac0-9896-d89c6996814b"
      },
      "execution_count": null,
      "outputs": [
        {
          "output_type": "stream",
          "name": "stdout",
          "text": [
            "  items_title     score  already_liked\n",
            "0     movie_3  1.008361           True\n",
            "1     movie_1  0.999024           True\n",
            "2     movie_2  0.994145           True\n",
            "3     movie_5  0.991254           True\n",
            "4     movie_4  0.988808           True\n",
            "5     movie_6  0.908147          False\n",
            "6     movie_7  0.184318          False\n"
          ]
        }
      ]
    }
  ]
}