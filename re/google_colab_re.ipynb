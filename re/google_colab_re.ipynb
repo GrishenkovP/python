{
  "nbformat": 4,
  "nbformat_minor": 0,
  "metadata": {
    "colab": {
      "name": "google_colab_re.ipynb",
      "provenance": [],
      "collapsed_sections": []
    },
    "kernelspec": {
      "name": "python3",
      "display_name": "Python 3"
    },
    "language_info": {
      "name": "python"
    }
  },
  "cells": [
    {
      "cell_type": "markdown",
      "metadata": {
        "id": "yl-Ss5iaEUkY"
      },
      "source": [
        "##Регулярные выражения (Regular Expressions)"
      ]
    },
    {
      "cell_type": "code",
      "metadata": {
        "id": "We2SECnjDEMZ"
      },
      "source": [
        "import re"
      ],
      "execution_count": 1,
      "outputs": []
    },
    {
      "cell_type": "code",
      "metadata": {
        "id": "5sV5sPueEpH9"
      },
      "source": [
        "# Промежутки, заключенные в квадратные скобки, позволяют найти цифры или буквы разных алфавитов и разных регистров.\n",
        "# [0-9] соответствует любой цифре.\n",
        "# [A-Z] соответствует любой заглавной букве английского алфавита.\n",
        "# [a-z] соответствует любой строчной букве английского алфавита.\n",
        "# [А-Я] и [а-я] ‒ аналогично для букв русского алфавита (кроме буквы ё/Ё - ее нужно включать отдельно!).\n",
        "# Для обозначения произвольного символа (кроме новой строки) используется точка.\n",
        "# Для цифр есть специальный символ \\d (от digit) ≈[0-9] . Добавление обратного слэша называется экранированием: так мы отмечаем, что ищем именно цифру, а не просто букву d.\n",
        "# Для любого символа, кроме цифры тоже есть специальный символ \\D (от digit)≈[^0-9] (заглавная буква здесь отвечает за отрицание). Добавление обратного слэша называется экранированием: так мы отмечаем, что ищем именно цифру, а не просто букву d.\n",
        "# Для пробела тоже существует свой символ \\s (от space) ≈[ \\f\\n\\r\\t\\v]. Этот символ соответствует ровно одному пробельному символу в тексте (пробел, табуляция, перенос строки и т.д.)\n",
        "# Любой непробельный символ, обозначается как \\S (заглавная буква здесь отвечает за отрицание).\n",
        "# Для букв тоже существует свой символ \\w (от word) ≈ [0-9a-zA-Zа-яА-ЯёЁ]. Любая буква (то, что может быть частью слова), а также цифры и _ .\n",
        "# Любая не-буква, не-цифра и не подчёркивание, обозначается как \\W (заглавная буква здесь отвечает за отрицание)."
      ],
      "execution_count": 2,
      "outputs": []
    },
    {
      "cell_type": "code",
      "metadata": {
        "id": "pfspK8jLFaqU"
      },
      "source": [
        "# Знак . соответствует одному любому символу в строке.\n",
        "# Знак + соответствует одному или более вхождению символа(ов), который стоит слева от +.\n",
        "# Знак * соответствует нулю или более вхождениям символа, который стоит слева от *.\n",
        "# Знак ? соответствует нулю или одному вхождению символа, который стоит слева от ?. \n",
        "# \\b Граница слова\n",
        "# [..] Один из символов в скобках ([^..] — любой символ, кроме тех, что в скобках)\n",
        "# \\ Экранирование специальных символов (. означает точку или + — знак «плюс»)\n",
        "# ^ и $ Начало и конец строки соответственно\n",
        "# {n,m} От n до m вхождений ({,m} — от 0 до m)\n",
        "# a|b Соответствует a или b\n",
        "# () Группирует выражение и возвращает найденный текст\n",
        "# \\t, \\n, \\r Символ табуляции, новой строки и возврата каретки соответственно"
      ],
      "execution_count": 3,
      "outputs": []
    },
    {
      "cell_type": "markdown",
      "metadata": {
        "id": "UHZZxfPDI2IN"
      },
      "source": [
        "## re.match(pattern, string)"
      ]
    },
    {
      "cell_type": "code",
      "metadata": {
        "id": "E_TA-TJuGFn-"
      },
      "source": [
        "#Этот метод ищет по заданному шаблону в начале строки."
      ],
      "execution_count": 4,
      "outputs": []
    },
    {
      "cell_type": "code",
      "metadata": {
        "id": "SYhE3aOlI57M"
      },
      "source": [
        "string1 = '''Белая берёза\n",
        "Под моим окном\n",
        "Принакрылась снегом,\n",
        "Точно серебром.\n",
        "\n",
        "На пушистых ветках\n",
        "Снежною каймой\n",
        "Распустились кисти\n",
        "Белой бахромой.\n",
        "\n",
        "И стоит береза\n",
        "В сонной тишине,\n",
        "И горят снежинки\n",
        "В золотом огне.\n",
        "\n",
        "А заря, лениво\n",
        "Обходя кругом,\n",
        "обсыпает ветки\n",
        "Новым серебром.'''"
      ],
      "execution_count": 5,
      "outputs": []
    },
    {
      "cell_type": "code",
      "metadata": {
        "colab": {
          "base_uri": "https://localhost:8080/"
        },
        "id": "IEwc83V3KDjz",
        "outputId": "db4dce2b-7f39-4b92-9db7-88cb15b9d649"
      },
      "source": [
        "# Игнорируем регистр\n",
        "result = re.match('белая',string1,re.I)\n",
        "print(result)"
      ],
      "execution_count": 6,
      "outputs": [
        {
          "output_type": "stream",
          "text": [
            "<re.Match object; span=(0, 5), match='Белая'>\n"
          ],
          "name": "stdout"
        }
      ]
    },
    {
      "cell_type": "code",
      "metadata": {
        "colab": {
          "base_uri": "https://localhost:8080/"
        },
        "id": "uQyztfGqLait",
        "outputId": "538850ec-c8ba-4962-afea-0ec6ec675ff8"
      },
      "source": [
        "result = re.match('берёза',string1,re.I)\n",
        "print(result)"
      ],
      "execution_count": 7,
      "outputs": [
        {
          "output_type": "stream",
          "text": [
            "None\n"
          ],
          "name": "stdout"
        }
      ]
    },
    {
      "cell_type": "markdown",
      "metadata": {
        "id": "RANu_2H-LqEB"
      },
      "source": [
        "##re.search(pattern, string)"
      ]
    },
    {
      "cell_type": "code",
      "metadata": {
        "id": "Xtf7svztLjG7"
      },
      "source": [
        "#Метод похож на match(), но ищет не только в начале строки. Метод search() ищет по всей строке, но возвращает только первое найденное совпадение."
      ],
      "execution_count": 8,
      "outputs": []
    },
    {
      "cell_type": "code",
      "metadata": {
        "colab": {
          "base_uri": "https://localhost:8080/"
        },
        "id": "QECu6izVKWJT",
        "outputId": "729e49a6-260f-4b27-c4ed-e65c866cce22"
      },
      "source": [
        "result = re.search('берёза',string1,re.I)\n",
        "print(result)"
      ],
      "execution_count": 9,
      "outputs": [
        {
          "output_type": "stream",
          "text": [
            "<re.Match object; span=(6, 12), match='берёза'>\n"
          ],
          "name": "stdout"
        }
      ]
    },
    {
      "cell_type": "markdown",
      "metadata": {
        "id": "7mNQePVhMA9b"
      },
      "source": [
        "##re.findall(pattern, string)"
      ]
    },
    {
      "cell_type": "code",
      "metadata": {
        "id": "wvrofwB2MDlj"
      },
      "source": [
        "#Возвращает список всех найденных совпадений. У метода findall() нет ограничений на поиск в начале или конце строки."
      ],
      "execution_count": 10,
      "outputs": []
    },
    {
      "cell_type": "code",
      "metadata": {
        "colab": {
          "base_uri": "https://localhost:8080/"
        },
        "id": "eDSPZtpYMK3L",
        "outputId": "d281b3b4-7815-40a3-e062-f4622144c2cb"
      },
      "source": [
        "result = re.findall('бер[е|ё]за',string1,re.I)\n",
        "print(result)"
      ],
      "execution_count": 11,
      "outputs": [
        {
          "output_type": "stream",
          "text": [
            "['берёза', 'береза']\n"
          ],
          "name": "stdout"
        }
      ]
    },
    {
      "cell_type": "code",
      "metadata": {
        "colab": {
          "base_uri": "https://localhost:8080/"
        },
        "id": "BPFL8nBJN4gs",
        "outputId": "1a1587d5-3877-4dad-efac-952575cc2975"
      },
      "source": [
        "#Получить все слова\n",
        "result = re.findall(r'\\w+',string1,re.I)\n",
        "print(result)"
      ],
      "execution_count": 12,
      "outputs": [
        {
          "output_type": "stream",
          "text": [
            "['Белая', 'берёза', 'Под', 'моим', 'окном', 'Принакрылась', 'снегом', 'Точно', 'серебром', 'На', 'пушистых', 'ветках', 'Снежною', 'каймой', 'Распустились', 'кисти', 'Белой', 'бахромой', 'И', 'стоит', 'береза', 'В', 'сонной', 'тишине', 'И', 'горят', 'снежинки', 'В', 'золотом', 'огне', 'А', 'заря', 'лениво', 'Обходя', 'кругом', 'обсыпает', 'ветки', 'Новым', 'серебром']\n"
          ],
          "name": "stdout"
        }
      ]
    },
    {
      "cell_type": "code",
      "metadata": {
        "colab": {
          "base_uri": "https://localhost:8080/"
        },
        "id": "6V0wzlytODZi",
        "outputId": "8a3669be-9731-4c25-e81d-7a649950c58d"
      },
      "source": [
        "#Получить первое слово\n",
        "result = re.findall('^\\w+',string1,re.I)\n",
        "print(result)"
      ],
      "execution_count": 13,
      "outputs": [
        {
          "output_type": "stream",
          "text": [
            "['Белая']\n"
          ],
          "name": "stdout"
        }
      ]
    },
    {
      "cell_type": "code",
      "metadata": {
        "colab": {
          "base_uri": "https://localhost:8080/"
        },
        "id": "bjI7WYFdOd4I",
        "outputId": "3ce897e2-a8df-4655-d87a-ffb9919ec8c7"
      },
      "source": [
        "#Получить последнее слово\n",
        "result = re.findall('(\\w+)\\W+$',string1,re.I)\n",
        "print(result)"
      ],
      "execution_count": 14,
      "outputs": [
        {
          "output_type": "stream",
          "text": [
            "['серебром']\n"
          ],
          "name": "stdout"
        }
      ]
    },
    {
      "cell_type": "code",
      "metadata": {
        "id": "5tlONhgUZXqa"
      },
      "source": [
        "#Извлечение даты\n",
        "string2 = '''Сергей Есенин родился 3 октября 1895 года в селе Константинове Рязанской губернии.'''"
      ],
      "execution_count": 15,
      "outputs": []
    },
    {
      "cell_type": "code",
      "metadata": {
        "colab": {
          "base_uri": "https://localhost:8080/"
        },
        "id": "HI7bFP8ZZhjJ",
        "outputId": "601c9768-282a-4dff-99b2-9b0ac305279d"
      },
      "source": [
        "result = re.findall('\\d{4}', string2)\n",
        "print(result)"
      ],
      "execution_count": 16,
      "outputs": [
        {
          "output_type": "stream",
          "text": [
            "['1895']\n"
          ],
          "name": "stdout"
        }
      ]
    },
    {
      "cell_type": "code",
      "metadata": {
        "colab": {
          "base_uri": "https://localhost:8080/"
        },
        "id": "nYhizFSSaAdL",
        "outputId": "b04b6781-f194-430c-81a8-c8652655f155"
      },
      "source": [
        "#Возвратить слова, начинающиеся на E\n",
        "result = re.findall('[Е]\\w+', string2)\n",
        "print(result)"
      ],
      "execution_count": 17,
      "outputs": [
        {
          "output_type": "stream",
          "text": [
            "['Есенин']\n"
          ],
          "name": "stdout"
        }
      ]
    },
    {
      "cell_type": "markdown",
      "metadata": {
        "id": "Z6ZV96YNVF2U"
      },
      "source": [
        "##re.split(pattern, string, [maxsplit=0])"
      ]
    },
    {
      "cell_type": "code",
      "metadata": {
        "id": "dx4C5T82VHHs"
      },
      "source": [
        "#Этот метод разделяет строку по заданному шаблону."
      ],
      "execution_count": 18,
      "outputs": []
    },
    {
      "cell_type": "code",
      "metadata": {
        "colab": {
          "base_uri": "https://localhost:8080/"
        },
        "id": "C3mO-Z08VJWp",
        "outputId": "2a72765a-2b9d-44a8-bc45-2c063c98e260"
      },
      "source": [
        "result = re.split('\\s', string1)\n",
        "print(result)"
      ],
      "execution_count": 19,
      "outputs": [
        {
          "output_type": "stream",
          "text": [
            "['Белая', 'берёза', 'Под', 'моим', 'окном', 'Принакрылась', 'снегом,', 'Точно', 'серебром.', '', 'На', 'пушистых', 'ветках', 'Снежною', 'каймой', 'Распустились', 'кисти', 'Белой', 'бахромой.', '', 'И', 'стоит', 'береза', 'В', 'сонной', 'тишине,', 'И', 'горят', 'снежинки', 'В', 'золотом', 'огне.', '', 'А', 'заря,', 'лениво', 'Обходя', 'кругом,', 'обсыпает', 'ветки', 'Новым', 'серебром.']\n"
          ],
          "name": "stdout"
        }
      ]
    },
    {
      "cell_type": "code",
      "metadata": {
        "colab": {
          "base_uri": "https://localhost:8080/"
        },
        "id": "1fq-_jysVbHC",
        "outputId": "6a9c561b-70f1-4276-f518-b3ce23402776"
      },
      "source": [
        "result = re.split('\\n', string1)\n",
        "print(result)"
      ],
      "execution_count": 20,
      "outputs": [
        {
          "output_type": "stream",
          "text": [
            "['Белая берёза', 'Под моим окном', 'Принакрылась снегом,', 'Точно серебром.', '', 'На пушистых ветках', 'Снежною каймой', 'Распустились кисти', 'Белой бахромой.', '', 'И стоит береза', 'В сонной тишине,', 'И горят снежинки', 'В золотом огне.', '', 'А заря, лениво', 'Обходя кругом,', 'обсыпает ветки', 'Новым серебром.']\n"
          ],
          "name": "stdout"
        }
      ]
    },
    {
      "cell_type": "markdown",
      "metadata": {
        "id": "d_haWM2PXW-J"
      },
      "source": [
        "##re.sub(pattern, repl, string)"
      ]
    },
    {
      "cell_type": "code",
      "metadata": {
        "id": "h5du4GkpXPEb"
      },
      "source": [
        "#Ищет шаблон в строке и заменяет его на указанную подстроку. Если шаблон не найден, строка остается неизменной."
      ],
      "execution_count": 21,
      "outputs": []
    },
    {
      "cell_type": "code",
      "metadata": {
        "colab": {
          "base_uri": "https://localhost:8080/"
        },
        "id": "A8hDDAi9XdWT",
        "outputId": "2df75d12-d1b5-4d47-a717-83d51b16d469"
      },
      "source": [
        "result = re.sub('берёза', 'береза',string1)\n",
        "print(result)"
      ],
      "execution_count": 22,
      "outputs": [
        {
          "output_type": "stream",
          "text": [
            "Белая береза\n",
            "Под моим окном\n",
            "Принакрылась снегом,\n",
            "Точно серебром.\n",
            "\n",
            "На пушистых ветках\n",
            "Снежною каймой\n",
            "Распустились кисти\n",
            "Белой бахромой.\n",
            "\n",
            "И стоит береза\n",
            "В сонной тишине,\n",
            "И горят снежинки\n",
            "В золотом огне.\n",
            "\n",
            "А заря, лениво\n",
            "Обходя кругом,\n",
            "обсыпает ветки\n",
            "Новым серебром.\n"
          ],
          "name": "stdout"
        }
      ]
    },
    {
      "cell_type": "markdown",
      "metadata": {
        "id": "6fSqopTbX7kT"
      },
      "source": [
        "##re.compile(pattern, repl, string)"
      ]
    },
    {
      "cell_type": "code",
      "metadata": {
        "id": "oNNuNzLEXq6x"
      },
      "source": [
        "#Мы можем собрать регулярное выражение в отдельный объект, который может быть использован для поиска. Это также избавляет от переписывания одного и того же выражения."
      ],
      "execution_count": 23,
      "outputs": []
    },
    {
      "cell_type": "code",
      "metadata": {
        "id": "xsicx0rxYD5g"
      },
      "source": [
        "pattern = re.compile('бер[е|ё]за',re.I)"
      ],
      "execution_count": 24,
      "outputs": []
    },
    {
      "cell_type": "code",
      "metadata": {
        "colab": {
          "base_uri": "https://localhost:8080/"
        },
        "id": "WIGc87IMYdj5",
        "outputId": "2bf6ac31-feb5-4f2b-b720-02bbeefd723a"
      },
      "source": [
        "result = pattern.findall('Белая береза')\n",
        "print(result)"
      ],
      "execution_count": 25,
      "outputs": [
        {
          "output_type": "stream",
          "text": [
            "['береза']\n"
          ],
          "name": "stdout"
        }
      ]
    },
    {
      "cell_type": "code",
      "metadata": {
        "colab": {
          "base_uri": "https://localhost:8080/"
        },
        "id": "6YZDR1rPYmKx",
        "outputId": "0c637b26-05cd-43a5-82d8-20e2f00a3d78"
      },
      "source": [
        "result = pattern.findall(string1)\n",
        "print(result)"
      ],
      "execution_count": 26,
      "outputs": [
        {
          "output_type": "stream",
          "text": [
            "['берёза', 'береза']\n"
          ],
          "name": "stdout"
        }
      ]
    }
  ]
}
