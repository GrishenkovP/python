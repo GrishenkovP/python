{
  "nbformat": 4,
  "nbformat_minor": 0,
  "metadata": {
    "colab": {
      "name": "google_colab_recommender_systems.ipynb",
      "provenance": [],
      "collapsed_sections": []
    },
    "kernelspec": {
      "name": "python3",
      "display_name": "Python 3"
    },
    "language_info": {
      "name": "python"
    }
  },
  "cells": [
    {
      "cell_type": "markdown",
      "metadata": {
        "id": "KwtEpTgJy9bK"
      },
      "source": [
        "#Recommender Systems in Python"
      ]
    },
    {
      "cell_type": "code",
      "metadata": {
        "id": "FxQV2ifzuW7R"
      },
      "source": [
        "import pandas as pd\n",
        "import numpy as np"
      ],
      "execution_count": 1,
      "outputs": []
    },
    {
      "cell_type": "code",
      "metadata": {
        "id": "cf81qlSRzUnP"
      },
      "source": [
        "# df_ratings = pd.read_csv('drive/MyDrive/dataset/movies_rating.csv')\n",
        "# df_ratings['date'] = pd.to_datetime(df_ratings['timestamp'],unit='s')\n",
        "# df_ratings = df_ratings[['date','userId','movieId','rating']]\n",
        "# df_ratings.columns = ['date','user_id','movie_id','rating']\n",
        "# print(df_ratings.head(5))\n",
        "# print('---------------')\n",
        "# print(df_ratings.shape)"
      ],
      "execution_count": 2,
      "outputs": []
    },
    {
      "cell_type": "code",
      "metadata": {
        "colab": {
          "base_uri": "https://localhost:8080/"
        },
        "id": "cejAMksn74cE",
        "outputId": "badadaec-0885-48c0-f410-48da19e27ca6"
      },
      "source": [
        "usecols = ['id','title','vote_average','vote_count','overview']\n",
        "df_movies = pd.read_csv('drive/MyDrive/dataset/movies.csv',usecols=usecols)\n",
        "df_movies.rename(columns={'id': 'movie_id'}, inplace=True)\n",
        "df_movies['movie_id'] = pd.to_numeric(df_movies['movie_id'] , errors='coerce').astype('Int32')\n",
        "df_movies = df_movies.dropna()\n",
        "df_movies = df_movies.reset_index(drop=True)\n",
        "print(df_movies.head(5))\n",
        "print('---------------')\n",
        "print(df_movies.shape)"
      ],
      "execution_count": 3,
      "outputs": [
        {
          "output_type": "stream",
          "text": [
            "   movie_id  ... vote_count\n",
            "0       862  ...     5415.0\n",
            "1      8844  ...     2413.0\n",
            "2     15602  ...       92.0\n",
            "3     31357  ...       34.0\n",
            "4     11862  ...      173.0\n",
            "\n",
            "[5 rows x 5 columns]\n",
            "---------------\n",
            "(44506, 5)\n"
          ],
          "name": "stdout"
        }
      ]
    },
    {
      "cell_type": "markdown",
      "metadata": {
        "id": "sPy0Zjva5uy2"
      },
      "source": [
        "###Simple Recommenders"
      ]
    },
    {
      "cell_type": "code",
      "metadata": {
        "id": "y2O80lDF3qO2"
      },
      "source": [
        "# WeightedRating(WR)=(v/(v+m)*R) + (m/(v+m)*C)\n",
        "# v- количество голосов за фильм\n",
        "# m- минимальное количество голосов, необходимое для внесения в таблицу\n",
        "# R- средний рейтинг фильма\n",
        "# C- среднее количество голосов по всему отчету"
      ],
      "execution_count": 4,
      "outputs": []
    },
    {
      "cell_type": "code",
      "metadata": {
        "colab": {
          "base_uri": "https://localhost:8080/"
        },
        "id": "-dM94v2Q251P",
        "outputId": "01846cbe-f334-488d-8d3a-06f6fb2ce2e3"
      },
      "source": [
        "C = df_movies['vote_average'].mean()\n",
        "print(C)"
      ],
      "execution_count": 5,
      "outputs": [
        {
          "output_type": "stream",
          "text": [
            "5.638880150990592\n"
          ],
          "name": "stdout"
        }
      ]
    },
    {
      "cell_type": "code",
      "metadata": {
        "colab": {
          "base_uri": "https://localhost:8080/"
        },
        "id": "UAGexKM74Nre",
        "outputId": "783e932d-ea33-4540-fa04-e6fe50c931ac"
      },
      "source": [
        "m = df_movies['vote_count'].quantile(0.90)\n",
        "print(m)"
      ],
      "execution_count": 6,
      "outputs": [
        {
          "output_type": "stream",
          "text": [
            "165.0\n"
          ],
          "name": "stdout"
        }
      ]
    },
    {
      "cell_type": "code",
      "metadata": {
        "colab": {
          "base_uri": "https://localhost:8080/"
        },
        "id": "toQ8Qkak4jAN",
        "outputId": "c134bb4f-ba2d-4e4a-eeb9-c899b243ab1a"
      },
      "source": [
        "df_movies_ = df_movies.copy().loc[df_movies['vote_count'] >= m]\n",
        "df_movies_.shape"
      ],
      "execution_count": 7,
      "outputs": [
        {
          "output_type": "execute_result",
          "data": {
            "text/plain": [
              "(4462, 5)"
            ]
          },
          "metadata": {
            "tags": []
          },
          "execution_count": 7
        }
      ]
    },
    {
      "cell_type": "code",
      "metadata": {
        "id": "5Nzq5zjG5AD-"
      },
      "source": [
        "def weighted_rating(x, m=m, C=C):\n",
        "    v = x['vote_count']\n",
        "    R = x['vote_average']\n",
        "    return (v/(v+m) * R) + (m/(m+v) * C)"
      ],
      "execution_count": 8,
      "outputs": []
    },
    {
      "cell_type": "code",
      "metadata": {
        "id": "J2ftvpvh5E6N"
      },
      "source": [
        "df_movies_['score'] = df_movies_.apply(weighted_rating, axis=1)"
      ],
      "execution_count": 9,
      "outputs": []
    },
    {
      "cell_type": "code",
      "metadata": {
        "id": "zQqqs3ue5J6f"
      },
      "source": [
        "df_movies_ = df_movies_.sort_values('score', ascending=False)"
      ],
      "execution_count": 10,
      "outputs": []
    },
    {
      "cell_type": "code",
      "metadata": {
        "colab": {
          "base_uri": "https://localhost:8080/",
          "height": 204
        },
        "id": "s4-bHvY-5PWm",
        "outputId": "82b5b671-804c-4e71-ba17-f74beff2db58"
      },
      "source": [
        "df_movies_[['title', 'vote_count', 'vote_average', 'score']].head()"
      ],
      "execution_count": 11,
      "outputs": [
        {
          "output_type": "execute_result",
          "data": {
            "text/html": [
              "<div>\n",
              "<style scoped>\n",
              "    .dataframe tbody tr th:only-of-type {\n",
              "        vertical-align: middle;\n",
              "    }\n",
              "\n",
              "    .dataframe tbody tr th {\n",
              "        vertical-align: top;\n",
              "    }\n",
              "\n",
              "    .dataframe thead th {\n",
              "        text-align: right;\n",
              "    }\n",
              "</style>\n",
              "<table border=\"1\" class=\"dataframe\">\n",
              "  <thead>\n",
              "    <tr style=\"text-align: right;\">\n",
              "      <th></th>\n",
              "      <th>title</th>\n",
              "      <th>vote_count</th>\n",
              "      <th>vote_average</th>\n",
              "      <th>score</th>\n",
              "    </tr>\n",
              "  </thead>\n",
              "  <tbody>\n",
              "    <tr>\n",
              "      <th>312</th>\n",
              "      <td>The Shawshank Redemption</td>\n",
              "      <td>8358.0</td>\n",
              "      <td>8.5</td>\n",
              "      <td>8.444610</td>\n",
              "    </tr>\n",
              "    <tr>\n",
              "      <th>823</th>\n",
              "      <td>The Godfather</td>\n",
              "      <td>6024.0</td>\n",
              "      <td>8.5</td>\n",
              "      <td>8.423722</td>\n",
              "    </tr>\n",
              "    <tr>\n",
              "      <th>10279</th>\n",
              "      <td>Dilwale Dulhania Le Jayenge</td>\n",
              "      <td>661.0</td>\n",
              "      <td>9.1</td>\n",
              "      <td>8.408614</td>\n",
              "    </tr>\n",
              "    <tr>\n",
              "      <th>12447</th>\n",
              "      <td>The Dark Knight</td>\n",
              "      <td>12269.0</td>\n",
              "      <td>8.3</td>\n",
              "      <td>8.264687</td>\n",
              "    </tr>\n",
              "    <tr>\n",
              "      <th>2825</th>\n",
              "      <td>Fight Club</td>\n",
              "      <td>9678.0</td>\n",
              "      <td>8.3</td>\n",
              "      <td>8.255391</td>\n",
              "    </tr>\n",
              "  </tbody>\n",
              "</table>\n",
              "</div>"
            ],
            "text/plain": [
              "                             title  vote_count  vote_average     score\n",
              "312       The Shawshank Redemption      8358.0           8.5  8.444610\n",
              "823                  The Godfather      6024.0           8.5  8.423722\n",
              "10279  Dilwale Dulhania Le Jayenge       661.0           9.1  8.408614\n",
              "12447              The Dark Knight     12269.0           8.3  8.264687\n",
              "2825                    Fight Club      9678.0           8.3  8.255391"
            ]
          },
          "metadata": {
            "tags": []
          },
          "execution_count": 11
        }
      ]
    },
    {
      "cell_type": "markdown",
      "metadata": {
        "id": "U8JNrmQL5w8d"
      },
      "source": [
        "###Content-Based Recommender"
      ]
    },
    {
      "cell_type": "code",
      "metadata": {
        "colab": {
          "base_uri": "https://localhost:8080/"
        },
        "id": "ZMLoh5C-51ZG",
        "outputId": "8d14358a-96a8-415d-f847-9cf536d256c1"
      },
      "source": [
        "from sklearn.feature_extraction.text import TfidfVectorizer\n",
        "\n",
        "tfidf = TfidfVectorizer(stop_words='english')\n",
        "\n",
        "df_movies['overview'] = df_movies['overview'].fillna('')\n",
        "\n",
        "tfidf_matrix = tfidf.fit_transform(df_movies['overview'])\n",
        "\n",
        "tfidf_matrix.shape"
      ],
      "execution_count": 12,
      "outputs": [
        {
          "output_type": "execute_result",
          "data": {
            "text/plain": [
              "(44506, 75827)"
            ]
          },
          "metadata": {
            "tags": []
          },
          "execution_count": 12
        }
      ]
    },
    {
      "cell_type": "code",
      "metadata": {
        "id": "q8h91S0yGXq7"
      },
      "source": [
        "tfidf_matrix = tfidf_matrix.astype(np.float32)"
      ],
      "execution_count": 13,
      "outputs": []
    },
    {
      "cell_type": "code",
      "metadata": {
        "colab": {
          "base_uri": "https://localhost:8080/"
        },
        "id": "nPLbpUPS8kg1",
        "outputId": "7b38b2d3-9241-4899-db8c-79364f70c5ec"
      },
      "source": [
        "tfidf.get_feature_names()[5000:5010]"
      ],
      "execution_count": 14,
      "outputs": [
        {
          "output_type": "execute_result",
          "data": {
            "text/plain": [
              "['avails',\n",
              " 'avaks',\n",
              " 'avalanche',\n",
              " 'avalanches',\n",
              " 'avallone',\n",
              " 'avalon',\n",
              " 'avant',\n",
              " 'avanthika',\n",
              " 'avanti',\n",
              " 'avaracious']"
            ]
          },
          "metadata": {
            "tags": []
          },
          "execution_count": 14
        }
      ]
    },
    {
      "cell_type": "code",
      "metadata": {
        "id": "bV0T2bFa8l8d"
      },
      "source": [
        "from sklearn.metrics.pairwise import cosine_similarity\n",
        "cosine_sim = cosine_similarity(tfidf_matrix, tfidf_matrix)\n"
      ],
      "execution_count": 15,
      "outputs": []
    },
    {
      "cell_type": "code",
      "metadata": {
        "id": "WlSGQOB_-lsc",
        "colab": {
          "base_uri": "https://localhost:8080/"
        },
        "outputId": "7155c170-0ce3-416d-9c7e-fb85e36ff8a0"
      },
      "source": [
        "cosine_sim.shape"
      ],
      "execution_count": 16,
      "outputs": [
        {
          "output_type": "execute_result",
          "data": {
            "text/plain": [
              "(44506, 44506)"
            ]
          },
          "metadata": {
            "tags": []
          },
          "execution_count": 16
        }
      ]
    },
    {
      "cell_type": "code",
      "metadata": {
        "colab": {
          "base_uri": "https://localhost:8080/"
        },
        "id": "8J57vDmCHatr",
        "outputId": "444efb28-e572-4612-ad9a-7fb444a1a15c"
      },
      "source": [
        "cosine_sim[1]"
      ],
      "execution_count": 17,
      "outputs": [
        {
          "output_type": "execute_result",
          "data": {
            "text/plain": [
              "array([0.01502121, 1.        , 0.0467977 , ..., 0.        , 0.02195746,\n",
              "       0.00924177], dtype=float32)"
            ]
          },
          "metadata": {
            "tags": []
          },
          "execution_count": 17
        }
      ]
    },
    {
      "cell_type": "code",
      "metadata": {
        "id": "rZE7sjWEHhEj"
      },
      "source": [
        "indices = pd.Series(df_movies.index, index=df_movies['title']).drop_duplicates()"
      ],
      "execution_count": 18,
      "outputs": []
    },
    {
      "cell_type": "code",
      "metadata": {
        "colab": {
          "base_uri": "https://localhost:8080/"
        },
        "id": "96RrhVwiHpaU",
        "outputId": "a9dbc8db-bbbb-4f1f-93d9-32588093a1a9"
      },
      "source": [
        "indices[:10]"
      ],
      "execution_count": 19,
      "outputs": [
        {
          "output_type": "execute_result",
          "data": {
            "text/plain": [
              "title\n",
              "Toy Story                      0\n",
              "Jumanji                        1\n",
              "Grumpier Old Men               2\n",
              "Waiting to Exhale              3\n",
              "Father of the Bride Part II    4\n",
              "Heat                           5\n",
              "Sabrina                        6\n",
              "Tom and Huck                   7\n",
              "Sudden Death                   8\n",
              "GoldenEye                      9\n",
              "dtype: int64"
            ]
          },
          "metadata": {
            "tags": []
          },
          "execution_count": 19
        }
      ]
    },
    {
      "cell_type": "code",
      "metadata": {
        "id": "dKwjj5pGH2iC"
      },
      "source": [
        "def get_recommendations(title, cosine_sim=cosine_sim):\n",
        "    idx = indices[title]\n",
        "    sim_scores = list(enumerate(cosine_sim[idx]))\n",
        "    sim_scores = sorted(sim_scores, key=lambda x: x[1], reverse=True)\n",
        "    sim_scores = sim_scores[1:11]\n",
        "    movie_indices = [i[0] for i in sim_scores]\n",
        "    return df_movies['title'].iloc[movie_indices]"
      ],
      "execution_count": 20,
      "outputs": []
    },
    {
      "cell_type": "code",
      "metadata": {
        "colab": {
          "base_uri": "https://localhost:8080/"
        },
        "id": "bCOTNePWIh0T",
        "outputId": "c1ab4959-bd96-45d6-bbf5-4f3b8fde2c72"
      },
      "source": [
        "get_recommendations('The Godfather')"
      ],
      "execution_count": 21,
      "outputs": [
        {
          "output_type": "execute_result",
          "data": {
            "text/plain": [
              "1164               The Godfather: Part II\n",
              "43135    The Godfather Trilogy: 1972-1990\n",
              "1898              The Godfather: Part III\n",
              "22933                          Blood Ties\n",
              "11265                    Household Saints\n",
              "34196                   Start Liquidation\n",
              "10789                            Election\n",
              "37341            A Mother Should Be Loved\n",
              "17628                   Short Sharp Shock\n",
              "26035                  Beck 28 - Familjen\n",
              "Name: title, dtype: object"
            ]
          },
          "metadata": {
            "tags": []
          },
          "execution_count": 21
        }
      ]
    }
  ]
}