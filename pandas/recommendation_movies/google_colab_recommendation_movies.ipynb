{
  "nbformat": 4,
  "nbformat_minor": 0,
  "metadata": {
    "colab": {
      "name": "google_colab_recommendation .ipynb",
      "provenance": [],
      "collapsed_sections": []
    },
    "kernelspec": {
      "name": "python3",
      "display_name": "Python 3"
    },
    "language_info": {
      "name": "python"
    }
  },
  "cells": [
    {
      "cell_type": "markdown",
      "metadata": {
        "id": "CLYi98mb9GCq"
      },
      "source": [
        "Загрузка датасетов"
      ]
    },
    {
      "cell_type": "code",
      "metadata": {
        "id": "AQLVP0xyzkGu"
      },
      "source": [
        "import pandas as pd\n",
        "import numpy as np"
      ],
      "execution_count": 1,
      "outputs": []
    },
    {
      "cell_type": "code",
      "metadata": {
        "id": "206HrZpP9Mzv"
      },
      "source": [
        "df_ratings = pd.read_csv('drive/MyDrive/dataset/ratings.csv')\n",
        "df_ratings['date'] = pd.to_datetime(df_ratings['timestamp'],unit='s')\n",
        "df_ratings = df_ratings[['date','userId','movieId','rating']]\n",
        "df_ratings.columns = ['date','userid','movieid','rating']"
      ],
      "execution_count": 2,
      "outputs": []
    },
    {
      "cell_type": "code",
      "metadata": {
        "colab": {
          "base_uri": "https://localhost:8080/",
          "height": 204
        },
        "id": "x116z_GQ9hpI",
        "outputId": "5bcbe681-6bf9-4a63-dcc4-2caf82a7fd56"
      },
      "source": [
        "df_ratings.head()"
      ],
      "execution_count": 3,
      "outputs": [
        {
          "output_type": "execute_result",
          "data": {
            "text/html": [
              "<div>\n",
              "<style scoped>\n",
              "    .dataframe tbody tr th:only-of-type {\n",
              "        vertical-align: middle;\n",
              "    }\n",
              "\n",
              "    .dataframe tbody tr th {\n",
              "        vertical-align: top;\n",
              "    }\n",
              "\n",
              "    .dataframe thead th {\n",
              "        text-align: right;\n",
              "    }\n",
              "</style>\n",
              "<table border=\"1\" class=\"dataframe\">\n",
              "  <thead>\n",
              "    <tr style=\"text-align: right;\">\n",
              "      <th></th>\n",
              "      <th>date</th>\n",
              "      <th>userid</th>\n",
              "      <th>movieid</th>\n",
              "      <th>rating</th>\n",
              "    </tr>\n",
              "  </thead>\n",
              "  <tbody>\n",
              "    <tr>\n",
              "      <th>0</th>\n",
              "      <td>2009-12-14 02:52:24</td>\n",
              "      <td>1</td>\n",
              "      <td>31</td>\n",
              "      <td>2.5</td>\n",
              "    </tr>\n",
              "    <tr>\n",
              "      <th>1</th>\n",
              "      <td>2009-12-14 02:52:59</td>\n",
              "      <td>1</td>\n",
              "      <td>1029</td>\n",
              "      <td>3.0</td>\n",
              "    </tr>\n",
              "    <tr>\n",
              "      <th>2</th>\n",
              "      <td>2009-12-14 02:53:02</td>\n",
              "      <td>1</td>\n",
              "      <td>1061</td>\n",
              "      <td>3.0</td>\n",
              "    </tr>\n",
              "    <tr>\n",
              "      <th>3</th>\n",
              "      <td>2009-12-14 02:53:05</td>\n",
              "      <td>1</td>\n",
              "      <td>1129</td>\n",
              "      <td>2.0</td>\n",
              "    </tr>\n",
              "    <tr>\n",
              "      <th>4</th>\n",
              "      <td>2009-12-14 02:53:25</td>\n",
              "      <td>1</td>\n",
              "      <td>1172</td>\n",
              "      <td>4.0</td>\n",
              "    </tr>\n",
              "  </tbody>\n",
              "</table>\n",
              "</div>"
            ],
            "text/plain": [
              "                 date  userid  movieid  rating\n",
              "0 2009-12-14 02:52:24       1       31     2.5\n",
              "1 2009-12-14 02:52:59       1     1029     3.0\n",
              "2 2009-12-14 02:53:02       1     1061     3.0\n",
              "3 2009-12-14 02:53:05       1     1129     2.0\n",
              "4 2009-12-14 02:53:25       1     1172     4.0"
            ]
          },
          "metadata": {
            "tags": []
          },
          "execution_count": 3
        }
      ]
    },
    {
      "cell_type": "code",
      "metadata": {
        "id": "wFCt60iG9kUn"
      },
      "source": [
        "usecols = ['id','title']\n",
        "df_movies = pd.read_csv('drive/MyDrive/dataset/movies.csv',usecols=usecols)\n",
        "df_movies.id = pd.to_numeric(df_movies.id , errors='coerce').astype('Int32')\n",
        "df_movies = df_movies.dropna()"
      ],
      "execution_count": 4,
      "outputs": []
    },
    {
      "cell_type": "code",
      "metadata": {
        "colab": {
          "base_uri": "https://localhost:8080/",
          "height": 204
        },
        "id": "Wir9wqk790lQ",
        "outputId": "2ea91fce-dba6-454d-df25-f8573ed2272a"
      },
      "source": [
        "df_movies.head()"
      ],
      "execution_count": 5,
      "outputs": [
        {
          "output_type": "execute_result",
          "data": {
            "text/html": [
              "<div>\n",
              "<style scoped>\n",
              "    .dataframe tbody tr th:only-of-type {\n",
              "        vertical-align: middle;\n",
              "    }\n",
              "\n",
              "    .dataframe tbody tr th {\n",
              "        vertical-align: top;\n",
              "    }\n",
              "\n",
              "    .dataframe thead th {\n",
              "        text-align: right;\n",
              "    }\n",
              "</style>\n",
              "<table border=\"1\" class=\"dataframe\">\n",
              "  <thead>\n",
              "    <tr style=\"text-align: right;\">\n",
              "      <th></th>\n",
              "      <th>id</th>\n",
              "      <th>title</th>\n",
              "    </tr>\n",
              "  </thead>\n",
              "  <tbody>\n",
              "    <tr>\n",
              "      <th>0</th>\n",
              "      <td>862</td>\n",
              "      <td>Toy Story</td>\n",
              "    </tr>\n",
              "    <tr>\n",
              "      <th>1</th>\n",
              "      <td>8844</td>\n",
              "      <td>Jumanji</td>\n",
              "    </tr>\n",
              "    <tr>\n",
              "      <th>2</th>\n",
              "      <td>15602</td>\n",
              "      <td>Grumpier Old Men</td>\n",
              "    </tr>\n",
              "    <tr>\n",
              "      <th>3</th>\n",
              "      <td>31357</td>\n",
              "      <td>Waiting to Exhale</td>\n",
              "    </tr>\n",
              "    <tr>\n",
              "      <th>4</th>\n",
              "      <td>11862</td>\n",
              "      <td>Father of the Bride Part II</td>\n",
              "    </tr>\n",
              "  </tbody>\n",
              "</table>\n",
              "</div>"
            ],
            "text/plain": [
              "      id                        title\n",
              "0    862                    Toy Story\n",
              "1   8844                      Jumanji\n",
              "2  15602             Grumpier Old Men\n",
              "3  31357            Waiting to Exhale\n",
              "4  11862  Father of the Bride Part II"
            ]
          },
          "metadata": {
            "tags": []
          },
          "execution_count": 5
        }
      ]
    },
    {
      "cell_type": "markdown",
      "metadata": {
        "id": "LU76ZPfU98Eg"
      },
      "source": [
        "Реализация рекомендательной системы на основе подбора элементов"
      ]
    },
    {
      "cell_type": "code",
      "metadata": {
        "id": "wYs34JrA-G3f"
      },
      "source": [
        "df = pd.merge(df_ratings,df_movies,how='left',left_on='movieid', right_on='id')\n",
        "df = df[~df.id.isnull()]\n",
        "df = df.loc[:,['userid','movieid','rating','title']]"
      ],
      "execution_count": 20,
      "outputs": []
    },
    {
      "cell_type": "code",
      "metadata": {
        "colab": {
          "base_uri": "https://localhost:8080/"
        },
        "id": "Tlbz-EZ7_MSy",
        "outputId": "f45371b4-2335-4257-a3dd-aedc0b68faba"
      },
      "source": [
        "print(df.head(10))\n",
        "print('-----------------')\n",
        "print(df.shape)\n",
        "print('-----------------')\n",
        "print(df.isnull().sum())"
      ],
      "execution_count": 37,
      "outputs": [
        {
          "output_type": "stream",
          "text": [
            "    userid  movieid  rating                           title\n",
            "10       1     1371     2.5                       Rocky III\n",
            "11       1     1405     1.0                           Greed\n",
            "13       1     2105     4.0                    American Pie\n",
            "15       1     2193     2.0                        My Tutor\n",
            "16       1     2294     2.0  Jay and Silent Bob Strike Back\n",
            "17       1     2455     2.5            Confidentially Yours\n",
            "21       2       17     5.0                        The Dark\n",
            "26       2       62     3.0           2001: A Space Odyssey\n",
            "27       2      110     4.0               Three Colors: Red\n",
            "28       2      144     3.0                 Wings of Desire\n",
            "-----------------\n",
            "(44994, 4)\n",
            "-----------------\n",
            "userid     0\n",
            "movieid    0\n",
            "rating     0\n",
            "title      0\n",
            "dtype: int64\n"
          ],
          "name": "stdout"
        }
      ]
    },
    {
      "cell_type": "code",
      "metadata": {
        "id": "eg2tBiPAA6jy"
      },
      "source": [
        "movie_ratings = df.pivot_table(index=['userid'],columns=['title'],values='rating')"
      ],
      "execution_count": 34,
      "outputs": []
    },
    {
      "cell_type": "code",
      "metadata": {
        "id": "7BGA5BCnBMZ_"
      },
      "source": [
        "movie_ratings_ = movie_ratings ['Rocky III']"
      ],
      "execution_count": 39,
      "outputs": []
    },
    {
      "cell_type": "code",
      "metadata": {
        "colab": {
          "base_uri": "https://localhost:8080/"
        },
        "id": "Nz2H36J8ElGh",
        "outputId": "560e6389-b328-49a2-acd7-f3949be54255"
      },
      "source": [
        "similar_movies = movie_ratings.corrwith(movie_ratings_)"
      ],
      "execution_count": 40,
      "outputs": [
        {
          "output_type": "stream",
          "text": [
            "/usr/local/lib/python3.7/dist-packages/numpy/lib/function_base.py:2551: RuntimeWarning: Degrees of freedom <= 0 for slice\n",
            "  c = cov(x, y, rowvar)\n",
            "/usr/local/lib/python3.7/dist-packages/numpy/lib/function_base.py:2480: RuntimeWarning: divide by zero encountered in true_divide\n",
            "  c *= np.true_divide(1, fact)\n"
          ],
          "name": "stderr"
        }
      ]
    },
    {
      "cell_type": "code",
      "metadata": {
        "id": "T9Drn9RyEv4H"
      },
      "source": [
        "similar_movies = similar_movies.dropna()"
      ],
      "execution_count": 41,
      "outputs": []
    },
    {
      "cell_type": "code",
      "metadata": {
        "id": "PDSoTAqSE2iw"
      },
      "source": [
        "df_similar = pd.DataFrame(similar_movies)\n",
        "df_similar.columns=['similar']"
      ],
      "execution_count": 55,
      "outputs": []
    },
    {
      "cell_type": "code",
      "metadata": {
        "colab": {
          "base_uri": "https://localhost:8080/",
          "height": 235
        },
        "id": "OV850QqWFAhg",
        "outputId": "17bebc68-55e9-4c5d-b9d9-de7dcdf740f3"
      },
      "source": [
        "df_similar.head()"
      ],
      "execution_count": 56,
      "outputs": [
        {
          "output_type": "execute_result",
          "data": {
            "text/html": [
              "<div>\n",
              "<style scoped>\n",
              "    .dataframe tbody tr th:only-of-type {\n",
              "        vertical-align: middle;\n",
              "    }\n",
              "\n",
              "    .dataframe tbody tr th {\n",
              "        vertical-align: top;\n",
              "    }\n",
              "\n",
              "    .dataframe thead th {\n",
              "        text-align: right;\n",
              "    }\n",
              "</style>\n",
              "<table border=\"1\" class=\"dataframe\">\n",
              "  <thead>\n",
              "    <tr style=\"text-align: right;\">\n",
              "      <th></th>\n",
              "      <th>similar</th>\n",
              "    </tr>\n",
              "    <tr>\n",
              "      <th>title</th>\n",
              "      <th></th>\n",
              "    </tr>\n",
              "  </thead>\n",
              "  <tbody>\n",
              "    <tr>\n",
              "      <th>10 Items or Less</th>\n",
              "      <td>-1.000000</td>\n",
              "    </tr>\n",
              "    <tr>\n",
              "      <th>10,000 BC</th>\n",
              "      <td>1.000000</td>\n",
              "    </tr>\n",
              "    <tr>\n",
              "      <th>1984</th>\n",
              "      <td>1.000000</td>\n",
              "    </tr>\n",
              "    <tr>\n",
              "      <th>20,000 Leagues Under the Sea</th>\n",
              "      <td>0.432122</td>\n",
              "    </tr>\n",
              "    <tr>\n",
              "      <th>2001: A Space Odyssey</th>\n",
              "      <td>0.063900</td>\n",
              "    </tr>\n",
              "  </tbody>\n",
              "</table>\n",
              "</div>"
            ],
            "text/plain": [
              "                               similar\n",
              "title                                 \n",
              "10 Items or Less             -1.000000\n",
              "10,000 BC                     1.000000\n",
              "1984                          1.000000\n",
              "20,000 Leagues Under the Sea  0.432122\n",
              "2001: A Space Odyssey         0.063900"
            ]
          },
          "metadata": {
            "tags": []
          },
          "execution_count": 56
        }
      ]
    },
    {
      "cell_type": "code",
      "metadata": {
        "id": "27NXHGnwFZ5v"
      },
      "source": [
        "ratings_count = 100"
      ],
      "execution_count": 44,
      "outputs": []
    },
    {
      "cell_type": "code",
      "metadata": {
        "id": "NHPxWI1JFcBB"
      },
      "source": [
        "movie_stats = df.groupby('title').agg({'rating': [np.size, np.mean]})"
      ],
      "execution_count": 46,
      "outputs": []
    },
    {
      "cell_type": "code",
      "metadata": {
        "id": "E2TVPwY5GKgg"
      },
      "source": [
        "popular_movies = movie_stats['rating']['size'] >= ratings_count"
      ],
      "execution_count": 47,
      "outputs": []
    },
    {
      "cell_type": "code",
      "metadata": {
        "colab": {
          "base_uri": "https://localhost:8080/",
          "height": 444
        },
        "id": "orUvsx_NGSQA",
        "outputId": "8c25fefe-0f01-41e7-fde1-4efd6db833f9"
      },
      "source": [
        "movie_stats[popular_movies]. \\\n",
        "                            sort_values([('rating', 'mean')], ascending=False). \\\n",
        "                            join(df_similar,on='title').sort_values([('similar')], ascending=False)[:10]"
      ],
      "execution_count": 59,
      "outputs": [
        {
          "output_type": "stream",
          "text": [
            "/usr/local/lib/python3.7/dist-packages/pandas/core/reshape/merge.py:643: UserWarning: merging between different levels can give an unintended result (2 levels on the left,1 on the right)\n",
            "  warnings.warn(msg, UserWarning)\n"
          ],
          "name": "stderr"
        },
        {
          "output_type": "execute_result",
          "data": {
            "text/html": [
              "<div>\n",
              "<style scoped>\n",
              "    .dataframe tbody tr th:only-of-type {\n",
              "        vertical-align: middle;\n",
              "    }\n",
              "\n",
              "    .dataframe tbody tr th {\n",
              "        vertical-align: top;\n",
              "    }\n",
              "\n",
              "    .dataframe thead th {\n",
              "        text-align: right;\n",
              "    }\n",
              "</style>\n",
              "<table border=\"1\" class=\"dataframe\">\n",
              "  <thead>\n",
              "    <tr style=\"text-align: right;\">\n",
              "      <th></th>\n",
              "      <th>(rating, size)</th>\n",
              "      <th>(rating, mean)</th>\n",
              "      <th>similar</th>\n",
              "    </tr>\n",
              "    <tr>\n",
              "      <th>title</th>\n",
              "      <th></th>\n",
              "      <th></th>\n",
              "      <th></th>\n",
              "    </tr>\n",
              "  </thead>\n",
              "  <tbody>\n",
              "    <tr>\n",
              "      <th>Confession of a Child of the Century</th>\n",
              "      <td>121.0</td>\n",
              "      <td>4.235537</td>\n",
              "      <td>0.790569</td>\n",
              "    </tr>\n",
              "    <tr>\n",
              "      <th>Live and Let Die</th>\n",
              "      <td>125.0</td>\n",
              "      <td>3.396000</td>\n",
              "      <td>0.611856</td>\n",
              "    </tr>\n",
              "    <tr>\n",
              "      <th>Rope</th>\n",
              "      <td>190.0</td>\n",
              "      <td>3.663158</td>\n",
              "      <td>0.550350</td>\n",
              "    </tr>\n",
              "    <tr>\n",
              "      <th>Romeo + Juliet</th>\n",
              "      <td>110.0</td>\n",
              "      <td>3.472727</td>\n",
              "      <td>0.545838</td>\n",
              "    </tr>\n",
              "    <tr>\n",
              "      <th>Fools Rush In</th>\n",
              "      <td>117.0</td>\n",
              "      <td>3.982906</td>\n",
              "      <td>0.543792</td>\n",
              "    </tr>\n",
              "    <tr>\n",
              "      <th>Tough Enough</th>\n",
              "      <td>106.0</td>\n",
              "      <td>3.084906</td>\n",
              "      <td>0.532055</td>\n",
              "    </tr>\n",
              "    <tr>\n",
              "      <th>The Conversation</th>\n",
              "      <td>196.0</td>\n",
              "      <td>3.397959</td>\n",
              "      <td>0.528508</td>\n",
              "    </tr>\n",
              "    <tr>\n",
              "      <th>A Clockwork Orange</th>\n",
              "      <td>102.0</td>\n",
              "      <td>3.102941</td>\n",
              "      <td>0.520547</td>\n",
              "    </tr>\n",
              "    <tr>\n",
              "      <th>The Bourne Supremacy</th>\n",
              "      <td>106.0</td>\n",
              "      <td>3.915094</td>\n",
              "      <td>0.511744</td>\n",
              "    </tr>\n",
              "    <tr>\n",
              "      <th>Cockles and Muscles</th>\n",
              "      <td>115.0</td>\n",
              "      <td>3.786957</td>\n",
              "      <td>0.487453</td>\n",
              "    </tr>\n",
              "  </tbody>\n",
              "</table>\n",
              "</div>"
            ],
            "text/plain": [
              "                                      (rating, size)  (rating, mean)   similar\n",
              "title                                                                         \n",
              "Confession of a Child of the Century           121.0        4.235537  0.790569\n",
              "Live and Let Die                               125.0        3.396000  0.611856\n",
              "Rope                                           190.0        3.663158  0.550350\n",
              "Romeo + Juliet                                 110.0        3.472727  0.545838\n",
              "Fools Rush In                                  117.0        3.982906  0.543792\n",
              "Tough Enough                                   106.0        3.084906  0.532055\n",
              "The Conversation                               196.0        3.397959  0.528508\n",
              "A Clockwork Orange                             102.0        3.102941  0.520547\n",
              "The Bourne Supremacy                           106.0        3.915094  0.511744\n",
              "Cockles and Muscles                            115.0        3.786957  0.487453"
            ]
          },
          "metadata": {
            "tags": []
          },
          "execution_count": 59
        }
      ]
    }
  ]
}
