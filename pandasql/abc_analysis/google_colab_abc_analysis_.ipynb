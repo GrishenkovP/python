{
  "nbformat": 4,
  "nbformat_minor": 0,
  "metadata": {
    "colab": {
      "name": "google_colab_abc_analysis .ipynb",
      "provenance": [],
      "collapsed_sections": []
    },
    "kernelspec": {
      "name": "python3",
      "display_name": "Python 3"
    },
    "language_info": {
      "name": "python"
    }
  },
  "cells": [
    {
      "cell_type": "markdown",
      "metadata": {
        "id": "Mp8eqGhqCr4t"
      },
      "source": [
        "#ABC-анализ"
      ]
    },
    {
      "cell_type": "code",
      "metadata": {
        "id": "hGtnZVuYBrib"
      },
      "source": [
        "%%capture\n",
        "\n",
        "!curl https://www.sqlite.org/src/tarball/sqlite.tar.gz?r=release | tar xz\n",
        "%cd sqlite/\n",
        "!./configure\n",
        "!make sqlite3.c\n",
        "%cd /content\n",
        "!npx degit coleifer/pysqlite3 -f\n",
        "!cp sqlite/sqlite3.[ch] .\n",
        "!python setup.py build_static build\n",
        "!cp build/lib.linux-x86_64-3.7/pysqlite3/_sqlite3.cpython-37m-x86_64-linux-gnu.so \\\n",
        "     /usr/lib/python3.7/lib-dynload/"
      ],
      "execution_count": 25,
      "outputs": []
    },
    {
      "cell_type": "code",
      "metadata": {
        "id": "FzL9cGghiQds"
      },
      "source": [
        "import pandas as pd\n",
        "import numpy as np"
      ],
      "execution_count": 1,
      "outputs": []
    },
    {
      "cell_type": "markdown",
      "metadata": {
        "id": "p6ZI8gwkp1LK"
      },
      "source": [
        "##Pandas"
      ]
    },
    {
      "cell_type": "code",
      "metadata": {
        "id": "ln6zYkNnilER"
      },
      "source": [
        "revenue:int = [1887263,152000,31420,1945200,12659,79569,58950,1700100,480600,290000]\n",
        "client_id:str = []"
      ],
      "execution_count": 2,
      "outputs": []
    },
    {
      "cell_type": "code",
      "metadata": {
        "id": "eQF1X7nsipfp"
      },
      "source": [
        "for i in range(1,11):\n",
        "  client_id.append('client_'+str(i))"
      ],
      "execution_count": 3,
      "outputs": []
    },
    {
      "cell_type": "code",
      "metadata": {
        "colab": {
          "base_uri": "https://localhost:8080/"
        },
        "id": "zKDuW7HBjHap",
        "outputId": "83f084a8-6e8f-48e6-852a-3acd2ac54f2e"
      },
      "source": [
        "client_id"
      ],
      "execution_count": 4,
      "outputs": [
        {
          "output_type": "execute_result",
          "data": {
            "text/plain": [
              "['client_1',\n",
              " 'client_2',\n",
              " 'client_3',\n",
              " 'client_4',\n",
              " 'client_5',\n",
              " 'client_6',\n",
              " 'client_7',\n",
              " 'client_8',\n",
              " 'client_9',\n",
              " 'client_10']"
            ]
          },
          "metadata": {
            "tags": []
          },
          "execution_count": 4
        }
      ]
    },
    {
      "cell_type": "code",
      "metadata": {
        "id": "rD1SFRivjhjP"
      },
      "source": [
        "data = {'client_id':client_id, 'revenue':revenue}"
      ],
      "execution_count": 5,
      "outputs": []
    },
    {
      "cell_type": "code",
      "metadata": {
        "id": "iqhZu8-2jK0_"
      },
      "source": [
        "df = pd.DataFrame(data)"
      ],
      "execution_count": 6,
      "outputs": []
    },
    {
      "cell_type": "code",
      "metadata": {
        "colab": {
          "base_uri": "https://localhost:8080/",
          "height": 204
        },
        "id": "OH15xGxgjtwY",
        "outputId": "cccd8277-0cfd-46b0-e19f-2efbd32231fc"
      },
      "source": [
        "df.head()"
      ],
      "execution_count": 7,
      "outputs": [
        {
          "output_type": "execute_result",
          "data": {
            "text/html": [
              "<div>\n",
              "<style scoped>\n",
              "    .dataframe tbody tr th:only-of-type {\n",
              "        vertical-align: middle;\n",
              "    }\n",
              "\n",
              "    .dataframe tbody tr th {\n",
              "        vertical-align: top;\n",
              "    }\n",
              "\n",
              "    .dataframe thead th {\n",
              "        text-align: right;\n",
              "    }\n",
              "</style>\n",
              "<table border=\"1\" class=\"dataframe\">\n",
              "  <thead>\n",
              "    <tr style=\"text-align: right;\">\n",
              "      <th></th>\n",
              "      <th>client_id</th>\n",
              "      <th>revenue</th>\n",
              "    </tr>\n",
              "  </thead>\n",
              "  <tbody>\n",
              "    <tr>\n",
              "      <th>0</th>\n",
              "      <td>client_1</td>\n",
              "      <td>1887263</td>\n",
              "    </tr>\n",
              "    <tr>\n",
              "      <th>1</th>\n",
              "      <td>client_2</td>\n",
              "      <td>152000</td>\n",
              "    </tr>\n",
              "    <tr>\n",
              "      <th>2</th>\n",
              "      <td>client_3</td>\n",
              "      <td>31420</td>\n",
              "    </tr>\n",
              "    <tr>\n",
              "      <th>3</th>\n",
              "      <td>client_4</td>\n",
              "      <td>1945200</td>\n",
              "    </tr>\n",
              "    <tr>\n",
              "      <th>4</th>\n",
              "      <td>client_5</td>\n",
              "      <td>12659</td>\n",
              "    </tr>\n",
              "  </tbody>\n",
              "</table>\n",
              "</div>"
            ],
            "text/plain": [
              "  client_id  revenue\n",
              "0  client_1  1887263\n",
              "1  client_2   152000\n",
              "2  client_3    31420\n",
              "3  client_4  1945200\n",
              "4  client_5    12659"
            ]
          },
          "metadata": {
            "tags": []
          },
          "execution_count": 7
        }
      ]
    },
    {
      "cell_type": "code",
      "metadata": {
        "id": "QbZFENlSqq86"
      },
      "source": [
        "df_pandas = df.copy()"
      ],
      "execution_count": 8,
      "outputs": []
    },
    {
      "cell_type": "code",
      "metadata": {
        "id": "Tr_BaO12jz9g"
      },
      "source": [
        "df_pandas = df_pandas.sort_values(by='revenue',ascending=False)"
      ],
      "execution_count": 9,
      "outputs": []
    },
    {
      "cell_type": "code",
      "metadata": {
        "colab": {
          "base_uri": "https://localhost:8080/",
          "height": 204
        },
        "id": "EBW9y2xwj_uA",
        "outputId": "baafe2df-6eaf-4774-b25f-daa3e8d151b6"
      },
      "source": [
        "df_pandas.head()"
      ],
      "execution_count": 10,
      "outputs": [
        {
          "output_type": "execute_result",
          "data": {
            "text/html": [
              "<div>\n",
              "<style scoped>\n",
              "    .dataframe tbody tr th:only-of-type {\n",
              "        vertical-align: middle;\n",
              "    }\n",
              "\n",
              "    .dataframe tbody tr th {\n",
              "        vertical-align: top;\n",
              "    }\n",
              "\n",
              "    .dataframe thead th {\n",
              "        text-align: right;\n",
              "    }\n",
              "</style>\n",
              "<table border=\"1\" class=\"dataframe\">\n",
              "  <thead>\n",
              "    <tr style=\"text-align: right;\">\n",
              "      <th></th>\n",
              "      <th>client_id</th>\n",
              "      <th>revenue</th>\n",
              "    </tr>\n",
              "  </thead>\n",
              "  <tbody>\n",
              "    <tr>\n",
              "      <th>3</th>\n",
              "      <td>client_4</td>\n",
              "      <td>1945200</td>\n",
              "    </tr>\n",
              "    <tr>\n",
              "      <th>0</th>\n",
              "      <td>client_1</td>\n",
              "      <td>1887263</td>\n",
              "    </tr>\n",
              "    <tr>\n",
              "      <th>7</th>\n",
              "      <td>client_8</td>\n",
              "      <td>1700100</td>\n",
              "    </tr>\n",
              "    <tr>\n",
              "      <th>8</th>\n",
              "      <td>client_9</td>\n",
              "      <td>480600</td>\n",
              "    </tr>\n",
              "    <tr>\n",
              "      <th>9</th>\n",
              "      <td>client_10</td>\n",
              "      <td>290000</td>\n",
              "    </tr>\n",
              "  </tbody>\n",
              "</table>\n",
              "</div>"
            ],
            "text/plain": [
              "   client_id  revenue\n",
              "3   client_4  1945200\n",
              "0   client_1  1887263\n",
              "7   client_8  1700100\n",
              "8   client_9   480600\n",
              "9  client_10   290000"
            ]
          },
          "metadata": {
            "tags": []
          },
          "execution_count": 10
        }
      ]
    },
    {
      "cell_type": "code",
      "metadata": {
        "id": "mpeHNZLJkSpI"
      },
      "source": [
        "df_pandas['percentage'] = df_pandas['revenue'].apply(lambda x: round(x/sum(df_pandas['revenue']),3))"
      ],
      "execution_count": 11,
      "outputs": []
    },
    {
      "cell_type": "code",
      "metadata": {
        "colab": {
          "base_uri": "https://localhost:8080/",
          "height": 359
        },
        "id": "pqeLQggYlQQg",
        "outputId": "24147a7f-90a8-435b-acb8-7b9d6f1d0a04"
      },
      "source": [
        "df_pandas.head(10)"
      ],
      "execution_count": 12,
      "outputs": [
        {
          "output_type": "execute_result",
          "data": {
            "text/html": [
              "<div>\n",
              "<style scoped>\n",
              "    .dataframe tbody tr th:only-of-type {\n",
              "        vertical-align: middle;\n",
              "    }\n",
              "\n",
              "    .dataframe tbody tr th {\n",
              "        vertical-align: top;\n",
              "    }\n",
              "\n",
              "    .dataframe thead th {\n",
              "        text-align: right;\n",
              "    }\n",
              "</style>\n",
              "<table border=\"1\" class=\"dataframe\">\n",
              "  <thead>\n",
              "    <tr style=\"text-align: right;\">\n",
              "      <th></th>\n",
              "      <th>client_id</th>\n",
              "      <th>revenue</th>\n",
              "      <th>percentage</th>\n",
              "    </tr>\n",
              "  </thead>\n",
              "  <tbody>\n",
              "    <tr>\n",
              "      <th>3</th>\n",
              "      <td>client_4</td>\n",
              "      <td>1945200</td>\n",
              "      <td>0.293</td>\n",
              "    </tr>\n",
              "    <tr>\n",
              "      <th>0</th>\n",
              "      <td>client_1</td>\n",
              "      <td>1887263</td>\n",
              "      <td>0.284</td>\n",
              "    </tr>\n",
              "    <tr>\n",
              "      <th>7</th>\n",
              "      <td>client_8</td>\n",
              "      <td>1700100</td>\n",
              "      <td>0.256</td>\n",
              "    </tr>\n",
              "    <tr>\n",
              "      <th>8</th>\n",
              "      <td>client_9</td>\n",
              "      <td>480600</td>\n",
              "      <td>0.072</td>\n",
              "    </tr>\n",
              "    <tr>\n",
              "      <th>9</th>\n",
              "      <td>client_10</td>\n",
              "      <td>290000</td>\n",
              "      <td>0.044</td>\n",
              "    </tr>\n",
              "    <tr>\n",
              "      <th>1</th>\n",
              "      <td>client_2</td>\n",
              "      <td>152000</td>\n",
              "      <td>0.023</td>\n",
              "    </tr>\n",
              "    <tr>\n",
              "      <th>5</th>\n",
              "      <td>client_6</td>\n",
              "      <td>79569</td>\n",
              "      <td>0.012</td>\n",
              "    </tr>\n",
              "    <tr>\n",
              "      <th>6</th>\n",
              "      <td>client_7</td>\n",
              "      <td>58950</td>\n",
              "      <td>0.009</td>\n",
              "    </tr>\n",
              "    <tr>\n",
              "      <th>2</th>\n",
              "      <td>client_3</td>\n",
              "      <td>31420</td>\n",
              "      <td>0.005</td>\n",
              "    </tr>\n",
              "    <tr>\n",
              "      <th>4</th>\n",
              "      <td>client_5</td>\n",
              "      <td>12659</td>\n",
              "      <td>0.002</td>\n",
              "    </tr>\n",
              "  </tbody>\n",
              "</table>\n",
              "</div>"
            ],
            "text/plain": [
              "   client_id  revenue  percentage\n",
              "3   client_4  1945200       0.293\n",
              "0   client_1  1887263       0.284\n",
              "7   client_8  1700100       0.256\n",
              "8   client_9   480600       0.072\n",
              "9  client_10   290000       0.044\n",
              "1   client_2   152000       0.023\n",
              "5   client_6    79569       0.012\n",
              "6   client_7    58950       0.009\n",
              "2   client_3    31420       0.005\n",
              "4   client_5    12659       0.002"
            ]
          },
          "metadata": {
            "tags": []
          },
          "execution_count": 12
        }
      ]
    },
    {
      "cell_type": "code",
      "metadata": {
        "id": "XE6mbOfCl5vB"
      },
      "source": [
        "df_pandas['percentage_acc'] = df_pandas['percentage'].cumsum()"
      ],
      "execution_count": 13,
      "outputs": []
    },
    {
      "cell_type": "code",
      "metadata": {
        "colab": {
          "base_uri": "https://localhost:8080/",
          "height": 359
        },
        "id": "EQjqgA59mMhH",
        "outputId": "80d80f77-80b2-4971-a87e-b48f8e693866"
      },
      "source": [
        "df_pandas.head(10)"
      ],
      "execution_count": 14,
      "outputs": [
        {
          "output_type": "execute_result",
          "data": {
            "text/html": [
              "<div>\n",
              "<style scoped>\n",
              "    .dataframe tbody tr th:only-of-type {\n",
              "        vertical-align: middle;\n",
              "    }\n",
              "\n",
              "    .dataframe tbody tr th {\n",
              "        vertical-align: top;\n",
              "    }\n",
              "\n",
              "    .dataframe thead th {\n",
              "        text-align: right;\n",
              "    }\n",
              "</style>\n",
              "<table border=\"1\" class=\"dataframe\">\n",
              "  <thead>\n",
              "    <tr style=\"text-align: right;\">\n",
              "      <th></th>\n",
              "      <th>client_id</th>\n",
              "      <th>revenue</th>\n",
              "      <th>percentage</th>\n",
              "      <th>percentage_acc</th>\n",
              "    </tr>\n",
              "  </thead>\n",
              "  <tbody>\n",
              "    <tr>\n",
              "      <th>3</th>\n",
              "      <td>client_4</td>\n",
              "      <td>1945200</td>\n",
              "      <td>0.293</td>\n",
              "      <td>0.293</td>\n",
              "    </tr>\n",
              "    <tr>\n",
              "      <th>0</th>\n",
              "      <td>client_1</td>\n",
              "      <td>1887263</td>\n",
              "      <td>0.284</td>\n",
              "      <td>0.577</td>\n",
              "    </tr>\n",
              "    <tr>\n",
              "      <th>7</th>\n",
              "      <td>client_8</td>\n",
              "      <td>1700100</td>\n",
              "      <td>0.256</td>\n",
              "      <td>0.833</td>\n",
              "    </tr>\n",
              "    <tr>\n",
              "      <th>8</th>\n",
              "      <td>client_9</td>\n",
              "      <td>480600</td>\n",
              "      <td>0.072</td>\n",
              "      <td>0.905</td>\n",
              "    </tr>\n",
              "    <tr>\n",
              "      <th>9</th>\n",
              "      <td>client_10</td>\n",
              "      <td>290000</td>\n",
              "      <td>0.044</td>\n",
              "      <td>0.949</td>\n",
              "    </tr>\n",
              "    <tr>\n",
              "      <th>1</th>\n",
              "      <td>client_2</td>\n",
              "      <td>152000</td>\n",
              "      <td>0.023</td>\n",
              "      <td>0.972</td>\n",
              "    </tr>\n",
              "    <tr>\n",
              "      <th>5</th>\n",
              "      <td>client_6</td>\n",
              "      <td>79569</td>\n",
              "      <td>0.012</td>\n",
              "      <td>0.984</td>\n",
              "    </tr>\n",
              "    <tr>\n",
              "      <th>6</th>\n",
              "      <td>client_7</td>\n",
              "      <td>58950</td>\n",
              "      <td>0.009</td>\n",
              "      <td>0.993</td>\n",
              "    </tr>\n",
              "    <tr>\n",
              "      <th>2</th>\n",
              "      <td>client_3</td>\n",
              "      <td>31420</td>\n",
              "      <td>0.005</td>\n",
              "      <td>0.998</td>\n",
              "    </tr>\n",
              "    <tr>\n",
              "      <th>4</th>\n",
              "      <td>client_5</td>\n",
              "      <td>12659</td>\n",
              "      <td>0.002</td>\n",
              "      <td>1.000</td>\n",
              "    </tr>\n",
              "  </tbody>\n",
              "</table>\n",
              "</div>"
            ],
            "text/plain": [
              "   client_id  revenue  percentage  percentage_acc\n",
              "3   client_4  1945200       0.293           0.293\n",
              "0   client_1  1887263       0.284           0.577\n",
              "7   client_8  1700100       0.256           0.833\n",
              "8   client_9   480600       0.072           0.905\n",
              "9  client_10   290000       0.044           0.949\n",
              "1   client_2   152000       0.023           0.972\n",
              "5   client_6    79569       0.012           0.984\n",
              "6   client_7    58950       0.009           0.993\n",
              "2   client_3    31420       0.005           0.998\n",
              "4   client_5    12659       0.002           1.000"
            ]
          },
          "metadata": {
            "tags": []
          },
          "execution_count": 14
        }
      ]
    },
    {
      "cell_type": "code",
      "metadata": {
        "id": "xLYd0IibmvnQ"
      },
      "source": [
        "def abc(val:float)->str:\n",
        "  label:str\n",
        "  if (val>=0) and (val<0.8): label= 'A'\n",
        "  if (val>=0.8) and (val<0.95): label= 'B'\n",
        "  if (val>=0.95 ): label='C'\n",
        "  return label"
      ],
      "execution_count": 15,
      "outputs": []
    },
    {
      "cell_type": "code",
      "metadata": {
        "id": "LWr38l_1oVbJ"
      },
      "source": [
        "df_pandas['group_client'] = df_pandas['percentage_acc'].apply(lambda x: abc(x))"
      ],
      "execution_count": 16,
      "outputs": []
    },
    {
      "cell_type": "code",
      "metadata": {
        "colab": {
          "base_uri": "https://localhost:8080/",
          "height": 359
        },
        "id": "6v6vk6u4omxa",
        "outputId": "3ad5e5af-680e-4b87-8af1-0bcf249e3c0f"
      },
      "source": [
        "df_pandas.head(10)"
      ],
      "execution_count": 17,
      "outputs": [
        {
          "output_type": "execute_result",
          "data": {
            "text/html": [
              "<div>\n",
              "<style scoped>\n",
              "    .dataframe tbody tr th:only-of-type {\n",
              "        vertical-align: middle;\n",
              "    }\n",
              "\n",
              "    .dataframe tbody tr th {\n",
              "        vertical-align: top;\n",
              "    }\n",
              "\n",
              "    .dataframe thead th {\n",
              "        text-align: right;\n",
              "    }\n",
              "</style>\n",
              "<table border=\"1\" class=\"dataframe\">\n",
              "  <thead>\n",
              "    <tr style=\"text-align: right;\">\n",
              "      <th></th>\n",
              "      <th>client_id</th>\n",
              "      <th>revenue</th>\n",
              "      <th>percentage</th>\n",
              "      <th>percentage_acc</th>\n",
              "      <th>group_client</th>\n",
              "    </tr>\n",
              "  </thead>\n",
              "  <tbody>\n",
              "    <tr>\n",
              "      <th>3</th>\n",
              "      <td>client_4</td>\n",
              "      <td>1945200</td>\n",
              "      <td>0.293</td>\n",
              "      <td>0.293</td>\n",
              "      <td>A</td>\n",
              "    </tr>\n",
              "    <tr>\n",
              "      <th>0</th>\n",
              "      <td>client_1</td>\n",
              "      <td>1887263</td>\n",
              "      <td>0.284</td>\n",
              "      <td>0.577</td>\n",
              "      <td>A</td>\n",
              "    </tr>\n",
              "    <tr>\n",
              "      <th>7</th>\n",
              "      <td>client_8</td>\n",
              "      <td>1700100</td>\n",
              "      <td>0.256</td>\n",
              "      <td>0.833</td>\n",
              "      <td>B</td>\n",
              "    </tr>\n",
              "    <tr>\n",
              "      <th>8</th>\n",
              "      <td>client_9</td>\n",
              "      <td>480600</td>\n",
              "      <td>0.072</td>\n",
              "      <td>0.905</td>\n",
              "      <td>B</td>\n",
              "    </tr>\n",
              "    <tr>\n",
              "      <th>9</th>\n",
              "      <td>client_10</td>\n",
              "      <td>290000</td>\n",
              "      <td>0.044</td>\n",
              "      <td>0.949</td>\n",
              "      <td>B</td>\n",
              "    </tr>\n",
              "    <tr>\n",
              "      <th>1</th>\n",
              "      <td>client_2</td>\n",
              "      <td>152000</td>\n",
              "      <td>0.023</td>\n",
              "      <td>0.972</td>\n",
              "      <td>C</td>\n",
              "    </tr>\n",
              "    <tr>\n",
              "      <th>5</th>\n",
              "      <td>client_6</td>\n",
              "      <td>79569</td>\n",
              "      <td>0.012</td>\n",
              "      <td>0.984</td>\n",
              "      <td>C</td>\n",
              "    </tr>\n",
              "    <tr>\n",
              "      <th>6</th>\n",
              "      <td>client_7</td>\n",
              "      <td>58950</td>\n",
              "      <td>0.009</td>\n",
              "      <td>0.993</td>\n",
              "      <td>C</td>\n",
              "    </tr>\n",
              "    <tr>\n",
              "      <th>2</th>\n",
              "      <td>client_3</td>\n",
              "      <td>31420</td>\n",
              "      <td>0.005</td>\n",
              "      <td>0.998</td>\n",
              "      <td>C</td>\n",
              "    </tr>\n",
              "    <tr>\n",
              "      <th>4</th>\n",
              "      <td>client_5</td>\n",
              "      <td>12659</td>\n",
              "      <td>0.002</td>\n",
              "      <td>1.000</td>\n",
              "      <td>C</td>\n",
              "    </tr>\n",
              "  </tbody>\n",
              "</table>\n",
              "</div>"
            ],
            "text/plain": [
              "   client_id  revenue  percentage  percentage_acc group_client\n",
              "3   client_4  1945200       0.293           0.293            A\n",
              "0   client_1  1887263       0.284           0.577            A\n",
              "7   client_8  1700100       0.256           0.833            B\n",
              "8   client_9   480600       0.072           0.905            B\n",
              "9  client_10   290000       0.044           0.949            B\n",
              "1   client_2   152000       0.023           0.972            C\n",
              "5   client_6    79569       0.012           0.984            C\n",
              "6   client_7    58950       0.009           0.993            C\n",
              "2   client_3    31420       0.005           0.998            C\n",
              "4   client_5    12659       0.002           1.000            C"
            ]
          },
          "metadata": {
            "tags": []
          },
          "execution_count": 17
        }
      ]
    },
    {
      "cell_type": "code",
      "metadata": {
        "id": "6UcTEug71h7Y"
      },
      "source": [
        "df.to_csv('dataset.csv',index='False')"
      ],
      "execution_count": 18,
      "outputs": []
    },
    {
      "cell_type": "markdown",
      "metadata": {
        "id": "X-ApI2wJp4Ti"
      },
      "source": [
        "##SQL"
      ]
    },
    {
      "cell_type": "code",
      "metadata": {
        "colab": {
          "base_uri": "https://localhost:8080/"
        },
        "id": "MPNQ-S-7Al8Z",
        "outputId": "26988f54-3337-4644-decc-f89f847b1520"
      },
      "source": [
        "!pip install pandasql"
      ],
      "execution_count": 19,
      "outputs": [
        {
          "output_type": "stream",
          "text": [
            "Requirement already satisfied: pandasql in /usr/local/lib/python3.7/dist-packages (0.7.3)\n",
            "Requirement already satisfied: sqlalchemy in /usr/local/lib/python3.7/dist-packages (from pandasql) (1.4.7)\n",
            "Requirement already satisfied: numpy in /usr/local/lib/python3.7/dist-packages (from pandasql) (1.19.5)\n",
            "Requirement already satisfied: pandas in /usr/local/lib/python3.7/dist-packages (from pandasql) (1.1.5)\n",
            "Requirement already satisfied: importlib-metadata; python_version < \"3.8\" in /usr/local/lib/python3.7/dist-packages (from sqlalchemy->pandasql) (3.10.1)\n",
            "Requirement already satisfied: greenlet!=0.4.17; python_version >= \"3\" in /usr/local/lib/python3.7/dist-packages (from sqlalchemy->pandasql) (1.0.0)\n",
            "Requirement already satisfied: python-dateutil>=2.7.3 in /usr/local/lib/python3.7/dist-packages (from pandas->pandasql) (2.8.1)\n",
            "Requirement already satisfied: pytz>=2017.2 in /usr/local/lib/python3.7/dist-packages (from pandas->pandasql) (2018.9)\n",
            "Requirement already satisfied: zipp>=0.5 in /usr/local/lib/python3.7/dist-packages (from importlib-metadata; python_version < \"3.8\"->sqlalchemy->pandasql) (3.4.1)\n",
            "Requirement already satisfied: typing-extensions>=3.6.4; python_version < \"3.8\" in /usr/local/lib/python3.7/dist-packages (from importlib-metadata; python_version < \"3.8\"->sqlalchemy->pandasql) (3.7.4.3)\n",
            "Requirement already satisfied: six>=1.5 in /usr/local/lib/python3.7/dist-packages (from python-dateutil>=2.7.3->pandas->pandasql) (1.15.0)\n"
          ],
          "name": "stdout"
        }
      ]
    },
    {
      "cell_type": "code",
      "metadata": {
        "id": "gCtAwqGZAtWp"
      },
      "source": [
        "from pandasql import sqldf\n",
        "pysqldf = lambda q: sqldf(q, globals())"
      ],
      "execution_count": 20,
      "outputs": []
    },
    {
      "cell_type": "code",
      "metadata": {
        "id": "EntKEsbmAueJ"
      },
      "source": [
        "df_sql = df.copy()"
      ],
      "execution_count": 21,
      "outputs": []
    },
    {
      "cell_type": "code",
      "metadata": {
        "colab": {
          "base_uri": "https://localhost:8080/",
          "height": 359
        },
        "id": "T6BYVLz-A0lZ",
        "outputId": "30c5e2b9-0b92-441b-af6a-1ce56d8bfc71"
      },
      "source": [
        "pysqldf(\"select * from df_sql\")"
      ],
      "execution_count": 22,
      "outputs": [
        {
          "output_type": "execute_result",
          "data": {
            "text/html": [
              "<div>\n",
              "<style scoped>\n",
              "    .dataframe tbody tr th:only-of-type {\n",
              "        vertical-align: middle;\n",
              "    }\n",
              "\n",
              "    .dataframe tbody tr th {\n",
              "        vertical-align: top;\n",
              "    }\n",
              "\n",
              "    .dataframe thead th {\n",
              "        text-align: right;\n",
              "    }\n",
              "</style>\n",
              "<table border=\"1\" class=\"dataframe\">\n",
              "  <thead>\n",
              "    <tr style=\"text-align: right;\">\n",
              "      <th></th>\n",
              "      <th>client_id</th>\n",
              "      <th>revenue</th>\n",
              "    </tr>\n",
              "  </thead>\n",
              "  <tbody>\n",
              "    <tr>\n",
              "      <th>0</th>\n",
              "      <td>client_1</td>\n",
              "      <td>1887263</td>\n",
              "    </tr>\n",
              "    <tr>\n",
              "      <th>1</th>\n",
              "      <td>client_2</td>\n",
              "      <td>152000</td>\n",
              "    </tr>\n",
              "    <tr>\n",
              "      <th>2</th>\n",
              "      <td>client_3</td>\n",
              "      <td>31420</td>\n",
              "    </tr>\n",
              "    <tr>\n",
              "      <th>3</th>\n",
              "      <td>client_4</td>\n",
              "      <td>1945200</td>\n",
              "    </tr>\n",
              "    <tr>\n",
              "      <th>4</th>\n",
              "      <td>client_5</td>\n",
              "      <td>12659</td>\n",
              "    </tr>\n",
              "    <tr>\n",
              "      <th>5</th>\n",
              "      <td>client_6</td>\n",
              "      <td>79569</td>\n",
              "    </tr>\n",
              "    <tr>\n",
              "      <th>6</th>\n",
              "      <td>client_7</td>\n",
              "      <td>58950</td>\n",
              "    </tr>\n",
              "    <tr>\n",
              "      <th>7</th>\n",
              "      <td>client_8</td>\n",
              "      <td>1700100</td>\n",
              "    </tr>\n",
              "    <tr>\n",
              "      <th>8</th>\n",
              "      <td>client_9</td>\n",
              "      <td>480600</td>\n",
              "    </tr>\n",
              "    <tr>\n",
              "      <th>9</th>\n",
              "      <td>client_10</td>\n",
              "      <td>290000</td>\n",
              "    </tr>\n",
              "  </tbody>\n",
              "</table>\n",
              "</div>"
            ],
            "text/plain": [
              "   client_id  revenue\n",
              "0   client_1  1887263\n",
              "1   client_2   152000\n",
              "2   client_3    31420\n",
              "3   client_4  1945200\n",
              "4   client_5    12659\n",
              "5   client_6    79569\n",
              "6   client_7    58950\n",
              "7   client_8  1700100\n",
              "8   client_9   480600\n",
              "9  client_10   290000"
            ]
          },
          "metadata": {
            "tags": []
          },
          "execution_count": 22
        }
      ]
    },
    {
      "cell_type": "code",
      "metadata": {
        "colab": {
          "base_uri": "https://localhost:8080/",
          "height": 359
        },
        "id": "j8YdP-x_A-cK",
        "outputId": "36c4cbe3-196b-40b0-e095-8341a09f8251"
      },
      "source": [
        "pysqldf('''with tbl as (select *,\n",
        "\t\t            round(cast(t.revenue as real)/(select sum(t.revenue) from df_sql as t),3) as percentage\n",
        "             from df_sql as t\n",
        "             order by t.revenue desc),\n",
        "     tbl2 as (select *,\n",
        "\t\t             sum(tbl.percentage) over (order by tbl.revenue desc rows between unbounded preceding and current row) as percentage_acc\n",
        "             from tbl)\n",
        "             select *,\n",
        "                   case\n",
        "                       when (percentage_acc>=0) and(percentage_acc<0.8) then \"A\"\n",
        "                       when (percentage_acc>=0.8) and(percentage_acc<0.95) then \"B\"\n",
        "                        else \"C\"\n",
        "                   end as group_client\n",
        "             from tbl2;''')"
      ],
      "execution_count": 23,
      "outputs": [
        {
          "output_type": "execute_result",
          "data": {
            "text/html": [
              "<div>\n",
              "<style scoped>\n",
              "    .dataframe tbody tr th:only-of-type {\n",
              "        vertical-align: middle;\n",
              "    }\n",
              "\n",
              "    .dataframe tbody tr th {\n",
              "        vertical-align: top;\n",
              "    }\n",
              "\n",
              "    .dataframe thead th {\n",
              "        text-align: right;\n",
              "    }\n",
              "</style>\n",
              "<table border=\"1\" class=\"dataframe\">\n",
              "  <thead>\n",
              "    <tr style=\"text-align: right;\">\n",
              "      <th></th>\n",
              "      <th>client_id</th>\n",
              "      <th>revenue</th>\n",
              "      <th>percentage</th>\n",
              "      <th>percentage_acc</th>\n",
              "      <th>group_client</th>\n",
              "    </tr>\n",
              "  </thead>\n",
              "  <tbody>\n",
              "    <tr>\n",
              "      <th>0</th>\n",
              "      <td>client_4</td>\n",
              "      <td>1945200</td>\n",
              "      <td>0.293</td>\n",
              "      <td>0.293</td>\n",
              "      <td>A</td>\n",
              "    </tr>\n",
              "    <tr>\n",
              "      <th>1</th>\n",
              "      <td>client_1</td>\n",
              "      <td>1887263</td>\n",
              "      <td>0.284</td>\n",
              "      <td>0.577</td>\n",
              "      <td>A</td>\n",
              "    </tr>\n",
              "    <tr>\n",
              "      <th>2</th>\n",
              "      <td>client_8</td>\n",
              "      <td>1700100</td>\n",
              "      <td>0.256</td>\n",
              "      <td>0.833</td>\n",
              "      <td>B</td>\n",
              "    </tr>\n",
              "    <tr>\n",
              "      <th>3</th>\n",
              "      <td>client_9</td>\n",
              "      <td>480600</td>\n",
              "      <td>0.072</td>\n",
              "      <td>0.905</td>\n",
              "      <td>B</td>\n",
              "    </tr>\n",
              "    <tr>\n",
              "      <th>4</th>\n",
              "      <td>client_10</td>\n",
              "      <td>290000</td>\n",
              "      <td>0.044</td>\n",
              "      <td>0.949</td>\n",
              "      <td>B</td>\n",
              "    </tr>\n",
              "    <tr>\n",
              "      <th>5</th>\n",
              "      <td>client_2</td>\n",
              "      <td>152000</td>\n",
              "      <td>0.023</td>\n",
              "      <td>0.972</td>\n",
              "      <td>C</td>\n",
              "    </tr>\n",
              "    <tr>\n",
              "      <th>6</th>\n",
              "      <td>client_6</td>\n",
              "      <td>79569</td>\n",
              "      <td>0.012</td>\n",
              "      <td>0.984</td>\n",
              "      <td>C</td>\n",
              "    </tr>\n",
              "    <tr>\n",
              "      <th>7</th>\n",
              "      <td>client_7</td>\n",
              "      <td>58950</td>\n",
              "      <td>0.009</td>\n",
              "      <td>0.993</td>\n",
              "      <td>C</td>\n",
              "    </tr>\n",
              "    <tr>\n",
              "      <th>8</th>\n",
              "      <td>client_3</td>\n",
              "      <td>31420</td>\n",
              "      <td>0.005</td>\n",
              "      <td>0.998</td>\n",
              "      <td>C</td>\n",
              "    </tr>\n",
              "    <tr>\n",
              "      <th>9</th>\n",
              "      <td>client_5</td>\n",
              "      <td>12659</td>\n",
              "      <td>0.002</td>\n",
              "      <td>1.000</td>\n",
              "      <td>C</td>\n",
              "    </tr>\n",
              "  </tbody>\n",
              "</table>\n",
              "</div>"
            ],
            "text/plain": [
              "   client_id  revenue  percentage  percentage_acc group_client\n",
              "0   client_4  1945200       0.293           0.293            A\n",
              "1   client_1  1887263       0.284           0.577            A\n",
              "2   client_8  1700100       0.256           0.833            B\n",
              "3   client_9   480600       0.072           0.905            B\n",
              "4  client_10   290000       0.044           0.949            B\n",
              "5   client_2   152000       0.023           0.972            C\n",
              "6   client_6    79569       0.012           0.984            C\n",
              "7   client_7    58950       0.009           0.993            C\n",
              "8   client_3    31420       0.005           0.998            C\n",
              "9   client_5    12659       0.002           1.000            C"
            ]
          },
          "metadata": {
            "tags": []
          },
          "execution_count": 23
        }
      ]
    }
  ]
}