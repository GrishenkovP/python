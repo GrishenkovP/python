{
  "nbformat": 4,
  "nbformat_minor": 0,
  "metadata": {
    "colab": {
      "name": "test_alfa_bank_2.ipynb",
      "provenance": [],
      "collapsed_sections": []
    },
    "kernelspec": {
      "name": "python3",
      "display_name": "Python 3"
    },
    "language_info": {
      "name": "python"
    }
  },
  "cells": [
    {
      "cell_type": "code",
      "metadata": {
        "colab": {
          "base_uri": "https://localhost:8080/"
        },
        "id": "gNDTdMMjhfks",
        "outputId": "aecf0eb3-cdad-4137-8056-2de872556fa5"
      },
      "source": [
        "import matplotlib.pyplot as plt\n",
        "import numpy as np\n",
        "import pandas as pd\n",
        "from scipy.stats import bernoulli\n",
        "import random\n",
        "import seaborn as sns\n",
        "from tqdm import tqdm\n",
        "import copy\n",
        "import math\n",
        "import statsmodels.api as sm\n",
        "import statsmodels.formula.api as smf\n",
        "from sklearn.metrics import mean_absolute_error, mean_squared_error, r2_score"
      ],
      "execution_count": 1,
      "outputs": [
        {
          "output_type": "stream",
          "name": "stderr",
          "text": [
            "/usr/local/lib/python3.7/dist-packages/statsmodels/tools/_testing.py:19: FutureWarning: pandas.util.testing is deprecated. Use the functions in the public API at pandas.testing instead.\n",
            "  import pandas.util.testing as tm\n"
          ]
        }
      ]
    },
    {
      "cell_type": "markdown",
      "metadata": {
        "id": "3xQhTi6Yd3Hd"
      },
      "source": [
        "# **Задание 3**"
      ]
    },
    {
      "cell_type": "markdown",
      "metadata": {
        "id": "eXoxrpwHgakM"
      },
      "source": [
        "Будем моделировать ситуацию"
      ]
    },
    {
      "cell_type": "code",
      "metadata": {
        "colab": {
          "base_uri": "https://localhost:8080/"
        },
        "id": "_hTUCz2Le7bj",
        "outputId": "8b7930d6-ac7e-49b8-b6d8-bae9eee41d4e"
      },
      "source": [
        "start_age = 25\n",
        "end_age = 70\n",
        "age_list = []\n",
        "income_spouse_list = []\n",
        "income_list = []\n",
        "id_list = []\n",
        "start_id = 1\n",
        "\n",
        "increment  = 2500\n",
        "\n",
        "for _ in tqdm(range(20)):\n",
        "  start_income = 35000\n",
        "  for age in range(start_age,end_age): \n",
        "    id_list.append(start_id)\n",
        "    # Age\n",
        "    is_delta = bernoulli(0.7).rvs(size=1)[0]\n",
        "    size_delta = random.randint(1,7)\n",
        "    total_age = age + size_delta*is_delta\n",
        "    age_list.append(total_age)\n",
        "\n",
        "    # Income spouse\n",
        "    is_delta = bernoulli(0.7).rvs(size=1)[0]\n",
        "    size_delta = random.randint(1,10)\n",
        "    total_income = start_income + increment + is_delta*size_delta*increment\n",
        "    income_spouse_list.append(total_income)\n",
        "\n",
        "    # Income \n",
        "    is_delta = bernoulli(0.7).rvs(size=1)[0]\n",
        "    size_delta = random.randint(1,10)\n",
        "    total_income = total_income + is_delta*size_delta*increment\n",
        "    income_list.append(total_income)\n",
        "    \n",
        "    start_id = start_id + 1 \n",
        "    start_income = start_income + increment*math.log(age-start_age+1)"
      ],
      "execution_count": 2,
      "outputs": [
        {
          "output_type": "stream",
          "name": "stderr",
          "text": [
            "100%|██████████| 20/20 [00:02<00:00,  9.54it/s]\n"
          ]
        }
      ]
    },
    {
      "cell_type": "code",
      "metadata": {
        "id": "plMemk7JmUBq"
      },
      "source": [
        "data = {'id':id_list, 'age':age_list,'income_spouse':income_spouse_list,'income':income_list}"
      ],
      "execution_count": 3,
      "outputs": []
    },
    {
      "cell_type": "code",
      "metadata": {
        "id": "BF9W3PRWmcu5"
      },
      "source": [
        "df = pd.DataFrame(data)"
      ],
      "execution_count": 4,
      "outputs": []
    },
    {
      "cell_type": "code",
      "metadata": {
        "colab": {
          "base_uri": "https://localhost:8080/"
        },
        "id": "UzKrjMlLxLsv",
        "outputId": "8c9ecde1-1874-42f6-db6c-19b1b9a200fb"
      },
      "source": [
        "df_train = copy.deepcopy(df.sample(frac=0.5))\n",
        "df_test = copy.deepcopy(df.loc[~df['id'].isin(df_train['id'])])\n",
        "print((len(df_train)+len(df_test)) == len(df))"
      ],
      "execution_count": 5,
      "outputs": [
        {
          "output_type": "stream",
          "name": "stdout",
          "text": [
            "True\n"
          ]
        }
      ]
    },
    {
      "cell_type": "code",
      "metadata": {
        "colab": {
          "base_uri": "https://localhost:8080/",
          "height": 204
        },
        "id": "f00va05n4vHV",
        "outputId": "76cc4d65-17b4-4281-f6c0-ea0b41a53043"
      },
      "source": [
        "df_train.head()"
      ],
      "execution_count": 6,
      "outputs": [
        {
          "output_type": "execute_result",
          "data": {
            "text/html": [
              "<div>\n",
              "<style scoped>\n",
              "    .dataframe tbody tr th:only-of-type {\n",
              "        vertical-align: middle;\n",
              "    }\n",
              "\n",
              "    .dataframe tbody tr th {\n",
              "        vertical-align: top;\n",
              "    }\n",
              "\n",
              "    .dataframe thead th {\n",
              "        text-align: right;\n",
              "    }\n",
              "</style>\n",
              "<table border=\"1\" class=\"dataframe\">\n",
              "  <thead>\n",
              "    <tr style=\"text-align: right;\">\n",
              "      <th></th>\n",
              "      <th>id</th>\n",
              "      <th>age</th>\n",
              "      <th>income_spouse</th>\n",
              "      <th>income</th>\n",
              "    </tr>\n",
              "  </thead>\n",
              "  <tbody>\n",
              "    <tr>\n",
              "      <th>788</th>\n",
              "      <td>789</td>\n",
              "      <td>49</td>\n",
              "      <td>166516.688919</td>\n",
              "      <td>184016.688919</td>\n",
              "    </tr>\n",
              "    <tr>\n",
              "      <th>497</th>\n",
              "      <td>498</td>\n",
              "      <td>28</td>\n",
              "      <td>39232.867951</td>\n",
              "      <td>41732.867951</td>\n",
              "    </tr>\n",
              "    <tr>\n",
              "      <th>631</th>\n",
              "      <td>632</td>\n",
              "      <td>28</td>\n",
              "      <td>37500.000000</td>\n",
              "      <td>52500.000000</td>\n",
              "    </tr>\n",
              "    <tr>\n",
              "      <th>602</th>\n",
              "      <td>603</td>\n",
              "      <td>42</td>\n",
              "      <td>143762.683625</td>\n",
              "      <td>153762.683625</td>\n",
              "    </tr>\n",
              "    <tr>\n",
              "      <th>76</th>\n",
              "      <td>77</td>\n",
              "      <td>56</td>\n",
              "      <td>232730.558883</td>\n",
              "      <td>232730.558883</td>\n",
              "    </tr>\n",
              "  </tbody>\n",
              "</table>\n",
              "</div>"
            ],
            "text/plain": [
              "      id  age  income_spouse         income\n",
              "788  789   49  166516.688919  184016.688919\n",
              "497  498   28   39232.867951   41732.867951\n",
              "631  632   28   37500.000000   52500.000000\n",
              "602  603   42  143762.683625  153762.683625\n",
              "76    77   56  232730.558883  232730.558883"
            ]
          },
          "metadata": {},
          "execution_count": 6
        }
      ]
    },
    {
      "cell_type": "code",
      "metadata": {
        "colab": {
          "base_uri": "https://localhost:8080/",
          "height": 204
        },
        "id": "Bl4-aksR2heO",
        "outputId": "4292c676-5142-4217-e2a7-a8433f6748fa"
      },
      "source": [
        "df_test.head()"
      ],
      "execution_count": 7,
      "outputs": [
        {
          "output_type": "execute_result",
          "data": {
            "text/html": [
              "<div>\n",
              "<style scoped>\n",
              "    .dataframe tbody tr th:only-of-type {\n",
              "        vertical-align: middle;\n",
              "    }\n",
              "\n",
              "    .dataframe tbody tr th {\n",
              "        vertical-align: top;\n",
              "    }\n",
              "\n",
              "    .dataframe thead th {\n",
              "        text-align: right;\n",
              "    }\n",
              "</style>\n",
              "<table border=\"1\" class=\"dataframe\">\n",
              "  <thead>\n",
              "    <tr style=\"text-align: right;\">\n",
              "      <th></th>\n",
              "      <th>id</th>\n",
              "      <th>age</th>\n",
              "      <th>income_spouse</th>\n",
              "      <th>income</th>\n",
              "    </tr>\n",
              "  </thead>\n",
              "  <tbody>\n",
              "    <tr>\n",
              "      <th>2</th>\n",
              "      <td>3</td>\n",
              "      <td>32</td>\n",
              "      <td>44232.867951</td>\n",
              "      <td>44232.867951</td>\n",
              "    </tr>\n",
              "    <tr>\n",
              "      <th>4</th>\n",
              "      <td>5</td>\n",
              "      <td>34</td>\n",
              "      <td>50445.134576</td>\n",
              "      <td>70445.134576</td>\n",
              "    </tr>\n",
              "    <tr>\n",
              "      <th>5</th>\n",
              "      <td>6</td>\n",
              "      <td>36</td>\n",
              "      <td>51968.729357</td>\n",
              "      <td>69468.729357</td>\n",
              "    </tr>\n",
              "    <tr>\n",
              "      <th>10</th>\n",
              "      <td>11</td>\n",
              "      <td>41</td>\n",
              "      <td>77761.031433</td>\n",
              "      <td>87761.031433</td>\n",
              "    </tr>\n",
              "    <tr>\n",
              "      <th>11</th>\n",
              "      <td>12</td>\n",
              "      <td>43</td>\n",
              "      <td>81255.769615</td>\n",
              "      <td>98755.769615</td>\n",
              "    </tr>\n",
              "  </tbody>\n",
              "</table>\n",
              "</div>"
            ],
            "text/plain": [
              "    id  age  income_spouse        income\n",
              "2    3   32   44232.867951  44232.867951\n",
              "4    5   34   50445.134576  70445.134576\n",
              "5    6   36   51968.729357  69468.729357\n",
              "10  11   41   77761.031433  87761.031433\n",
              "11  12   43   81255.769615  98755.769615"
            ]
          },
          "metadata": {},
          "execution_count": 7
        }
      ]
    },
    {
      "cell_type": "code",
      "metadata": {
        "colab": {
          "base_uri": "https://localhost:8080/"
        },
        "id": "QIb9mUmR2to1",
        "outputId": "ce72bde3-4f33-4777-e794-91a5df7404d8"
      },
      "source": [
        "model = smf.ols(formula = 'np.log(income) ~ age + np.log(income_spouse)', data=df_train).fit()\n",
        "print(model.summary())"
      ],
      "execution_count": 8,
      "outputs": [
        {
          "output_type": "stream",
          "name": "stdout",
          "text": [
            "                            OLS Regression Results                            \n",
            "==============================================================================\n",
            "Dep. Variable:         np.log(income)   R-squared:                       0.986\n",
            "Model:                            OLS   Adj. R-squared:                  0.986\n",
            "Method:                 Least Squares   F-statistic:                 1.538e+04\n",
            "Date:                Sat, 20 Nov 2021   Prob (F-statistic):               0.00\n",
            "Time:                        11:13:25   Log-Likelihood:                 537.24\n",
            "No. Observations:                 450   AIC:                            -1068.\n",
            "Df Residuals:                     447   BIC:                            -1056.\n",
            "Df Model:                           2                                         \n",
            "Covariance Type:            nonrobust                                         \n",
            "=========================================================================================\n",
            "                            coef    std err          t      P>|t|      [0.025      0.975]\n",
            "-----------------------------------------------------------------------------------------\n",
            "Intercept                 1.0866      0.185      5.887      0.000       0.724       1.449\n",
            "age                       0.0014      0.001      1.543      0.124      -0.000       0.003\n",
            "np.log(income_spouse)     0.9087      0.019     47.320      0.000       0.871       0.946\n",
            "==============================================================================\n",
            "Omnibus:                       39.773   Durbin-Watson:                   1.873\n",
            "Prob(Omnibus):                  0.000   Jarque-Bera (JB):               61.493\n",
            "Skew:                           0.606   Prob(JB):                     4.44e-14\n",
            "Kurtosis:                       4.346   Cond. No.                     2.83e+03\n",
            "==============================================================================\n",
            "\n",
            "Warnings:\n",
            "[1] Standard Errors assume that the covariance matrix of the errors is correctly specified.\n",
            "[2] The condition number is large, 2.83e+03. This might indicate that there are\n",
            "strong multicollinearity or other numerical problems.\n"
          ]
        }
      ]
    },
    {
      "cell_type": "code",
      "metadata": {
        "id": "ymFDOUZ6H2gL"
      },
      "source": [
        "df_train['y_pred'] = model.predict()\n",
        "df_train['income_pred'] = df_train['y_pred'].apply(lambda x: round(math.exp(x),0))\n",
        "df_test['y_pred'] = model.predict(df_test[['age','income_spouse']])\n",
        "df_test['income_pred'] = df_test['y_pred'].apply(lambda x: round(math.exp(x),0))"
      ],
      "execution_count": 9,
      "outputs": []
    },
    {
      "cell_type": "code",
      "metadata": {
        "colab": {
          "base_uri": "https://localhost:8080/",
          "height": 204
        },
        "id": "cUdSnIP58fSE",
        "outputId": "931b1c53-624e-42e6-cd2d-17670adb88e5"
      },
      "source": [
        "df_train.head()"
      ],
      "execution_count": 10,
      "outputs": [
        {
          "output_type": "execute_result",
          "data": {
            "text/html": [
              "<div>\n",
              "<style scoped>\n",
              "    .dataframe tbody tr th:only-of-type {\n",
              "        vertical-align: middle;\n",
              "    }\n",
              "\n",
              "    .dataframe tbody tr th {\n",
              "        vertical-align: top;\n",
              "    }\n",
              "\n",
              "    .dataframe thead th {\n",
              "        text-align: right;\n",
              "    }\n",
              "</style>\n",
              "<table border=\"1\" class=\"dataframe\">\n",
              "  <thead>\n",
              "    <tr style=\"text-align: right;\">\n",
              "      <th></th>\n",
              "      <th>id</th>\n",
              "      <th>age</th>\n",
              "      <th>income_spouse</th>\n",
              "      <th>income</th>\n",
              "      <th>y_pred</th>\n",
              "      <th>income_pred</th>\n",
              "    </tr>\n",
              "  </thead>\n",
              "  <tbody>\n",
              "    <tr>\n",
              "      <th>788</th>\n",
              "      <td>789</td>\n",
              "      <td>49</td>\n",
              "      <td>166516.688919</td>\n",
              "      <td>184016.688919</td>\n",
              "      <td>12.082333</td>\n",
              "      <td>176722.0</td>\n",
              "    </tr>\n",
              "    <tr>\n",
              "      <th>497</th>\n",
              "      <td>498</td>\n",
              "      <td>28</td>\n",
              "      <td>39232.867951</td>\n",
              "      <td>41732.867951</td>\n",
              "      <td>10.738394</td>\n",
              "      <td>46092.0</td>\n",
              "    </tr>\n",
              "    <tr>\n",
              "      <th>631</th>\n",
              "      <td>632</td>\n",
              "      <td>28</td>\n",
              "      <td>37500.000000</td>\n",
              "      <td>52500.000000</td>\n",
              "      <td>10.697345</td>\n",
              "      <td>44238.0</td>\n",
              "    </tr>\n",
              "    <tr>\n",
              "      <th>602</th>\n",
              "      <td>603</td>\n",
              "      <td>42</td>\n",
              "      <td>143762.683625</td>\n",
              "      <td>153762.683625</td>\n",
              "      <td>11.938696</td>\n",
              "      <td>153077.0</td>\n",
              "    </tr>\n",
              "    <tr>\n",
              "      <th>76</th>\n",
              "      <td>77</td>\n",
              "      <td>56</td>\n",
              "      <td>232730.558883</td>\n",
              "      <td>232730.558883</td>\n",
              "      <td>12.396670</td>\n",
              "      <td>241994.0</td>\n",
              "    </tr>\n",
              "  </tbody>\n",
              "</table>\n",
              "</div>"
            ],
            "text/plain": [
              "      id  age  income_spouse         income     y_pred  income_pred\n",
              "788  789   49  166516.688919  184016.688919  12.082333     176722.0\n",
              "497  498   28   39232.867951   41732.867951  10.738394      46092.0\n",
              "631  632   28   37500.000000   52500.000000  10.697345      44238.0\n",
              "602  603   42  143762.683625  153762.683625  11.938696     153077.0\n",
              "76    77   56  232730.558883  232730.558883  12.396670     241994.0"
            ]
          },
          "metadata": {},
          "execution_count": 10
        }
      ]
    },
    {
      "cell_type": "code",
      "metadata": {
        "colab": {
          "base_uri": "https://localhost:8080/",
          "height": 204
        },
        "id": "4zV8j5OtIHSD",
        "outputId": "f03038c3-c93f-4e54-a5f4-e25c06eb0c1e"
      },
      "source": [
        "df_test.head()"
      ],
      "execution_count": 11,
      "outputs": [
        {
          "output_type": "execute_result",
          "data": {
            "text/html": [
              "<div>\n",
              "<style scoped>\n",
              "    .dataframe tbody tr th:only-of-type {\n",
              "        vertical-align: middle;\n",
              "    }\n",
              "\n",
              "    .dataframe tbody tr th {\n",
              "        vertical-align: top;\n",
              "    }\n",
              "\n",
              "    .dataframe thead th {\n",
              "        text-align: right;\n",
              "    }\n",
              "</style>\n",
              "<table border=\"1\" class=\"dataframe\">\n",
              "  <thead>\n",
              "    <tr style=\"text-align: right;\">\n",
              "      <th></th>\n",
              "      <th>id</th>\n",
              "      <th>age</th>\n",
              "      <th>income_spouse</th>\n",
              "      <th>income</th>\n",
              "      <th>y_pred</th>\n",
              "      <th>income_pred</th>\n",
              "    </tr>\n",
              "  </thead>\n",
              "  <tbody>\n",
              "    <tr>\n",
              "      <th>2</th>\n",
              "      <td>3</td>\n",
              "      <td>32</td>\n",
              "      <td>44232.867951</td>\n",
              "      <td>44232.867951</td>\n",
              "      <td>10.853178</td>\n",
              "      <td>51698.0</td>\n",
              "    </tr>\n",
              "    <tr>\n",
              "      <th>4</th>\n",
              "      <td>5</td>\n",
              "      <td>34</td>\n",
              "      <td>50445.134576</td>\n",
              "      <td>70445.134576</td>\n",
              "      <td>10.975487</td>\n",
              "      <td>58424.0</td>\n",
              "    </tr>\n",
              "    <tr>\n",
              "      <th>5</th>\n",
              "      <td>6</td>\n",
              "      <td>36</td>\n",
              "      <td>51968.729357</td>\n",
              "      <td>69468.729357</td>\n",
              "      <td>11.005418</td>\n",
              "      <td>60199.0</td>\n",
              "    </tr>\n",
              "    <tr>\n",
              "      <th>10</th>\n",
              "      <td>11</td>\n",
              "      <td>41</td>\n",
              "      <td>77761.031433</td>\n",
              "      <td>87761.031433</td>\n",
              "      <td>11.378845</td>\n",
              "      <td>87452.0</td>\n",
              "    </tr>\n",
              "    <tr>\n",
              "      <th>11</th>\n",
              "      <td>12</td>\n",
              "      <td>43</td>\n",
              "      <td>81255.769615</td>\n",
              "      <td>98755.769615</td>\n",
              "      <td>11.421684</td>\n",
              "      <td>91280.0</td>\n",
              "    </tr>\n",
              "  </tbody>\n",
              "</table>\n",
              "</div>"
            ],
            "text/plain": [
              "    id  age  income_spouse        income     y_pred  income_pred\n",
              "2    3   32   44232.867951  44232.867951  10.853178      51698.0\n",
              "4    5   34   50445.134576  70445.134576  10.975487      58424.0\n",
              "5    6   36   51968.729357  69468.729357  11.005418      60199.0\n",
              "10  11   41   77761.031433  87761.031433  11.378845      87452.0\n",
              "11  12   43   81255.769615  98755.769615  11.421684      91280.0"
            ]
          },
          "metadata": {},
          "execution_count": 11
        }
      ]
    },
    {
      "cell_type": "code",
      "metadata": {
        "colab": {
          "base_uri": "https://localhost:8080/",
          "height": 386
        },
        "id": "4PCC72K-LjIj",
        "outputId": "b84c3162-9691-4b0c-bfe5-f7fe9ca829f9"
      },
      "source": [
        "sns.lmplot(x=\"age\", y=\"income\", data=df_test)"
      ],
      "execution_count": 12,
      "outputs": [
        {
          "output_type": "execute_result",
          "data": {
            "text/plain": [
              "<seaborn.axisgrid.FacetGrid at 0x7fd76b8fb250>"
            ]
          },
          "metadata": {},
          "execution_count": 12
        },
        {
          "output_type": "display_data",
          "data": {
            "image/png": "[encoded data removed]",
            "text/plain": [
              "<Figure size 360x360 with 1 Axes>"
            ]
          },
          "metadata": {
            "needs_background": "light"
          }
        }
      ]
    },
    {
      "cell_type": "code",
      "metadata": {
        "colab": {
          "base_uri": "https://localhost:8080/",
          "height": 386
        },
        "id": "tHZrbducIZGr",
        "outputId": "c3922a1e-572b-47cc-d767-d8de6448bb1e"
      },
      "source": [
        "sns.lmplot(x=\"age\", y=\"income_pred\", data=df_test)"
      ],
      "execution_count": 13,
      "outputs": [
        {
          "output_type": "execute_result",
          "data": {
            "text/plain": [
              "<seaborn.axisgrid.FacetGrid at 0x7fd7630350d0>"
            ]
          },
          "metadata": {},
          "execution_count": 13
        },
        {
          "output_type": "display_data",
          "data": {
            "image/png": "[encoded data removed]",
            "text/plain": [
              "<Figure size 360x360 with 1 Axes>"
            ]
          },
          "metadata": {
            "needs_background": "light"
          }
        }
      ]
    },
    {
      "cell_type": "code",
      "metadata": {
        "colab": {
          "base_uri": "https://localhost:8080/"
        },
        "id": "_-xrz6NL7hFm",
        "outputId": "44f37bc3-3478-44d2-953e-5f9ddd213cae"
      },
      "source": [
        "print('MSE train: {:.3f}, test: {:.3f}'.format(mean_squared_error(df_train['income'], df_train['income_pred']), \n",
        "                                               mean_squared_error(df_test['income'], df_test['income_pred'])))\n",
        "print('MAE train: {:.3f}, test: {:.3f}'.format(mean_absolute_error(df_train['income'], df_train['income_pred']), \n",
        "                                               mean_absolute_error(df_test['income'], df_test['income_pred'])))\n",
        "print('R^2 train: {:.3f}, test: {:.3f}'.format(r2_score(df_train['income'], df_train['income_pred']), \n",
        "                                              r2_score(df_test['income'], df_test['income_pred'])))"
      ],
      "execution_count": 14,
      "outputs": [
        {
          "output_type": "stream",
          "name": "stdout",
          "text": [
            "MSE train: 75429552.396, test: 76880487.467\n",
            "MAE train: 7599.570, test: 7713.954\n",
            "R^2 train: 0.992, test: 0.992\n"
          ]
        }
      ]
    },
    {
      "cell_type": "code",
      "metadata": {
        "id": "YwVcrH9nS3ZA"
      },
      "source": [
        "cut_labels_10 = [1,2,3,4,5,6,7,8,9,10]\n",
        "cut_bins = [35000,76000,112000, 148000, 184000, 220000, 256000,292000,328000,364000,400000]\n",
        "df_test['income_b'] = pd.cut(df_test['income'], bins=cut_bins, labels=cut_labels_10)\n",
        "df_test['income_pred_b'] = pd.cut(df_test['income_pred'], bins=cut_bins, labels=cut_labels_10)"
      ],
      "execution_count": 15,
      "outputs": []
    },
    {
      "cell_type": "code",
      "metadata": {
        "colab": {
          "base_uri": "https://localhost:8080/",
          "height": 204
        },
        "id": "UHgXNw05XCU5",
        "outputId": "f7efcd56-70d1-4795-972d-bf351c4a3d22"
      },
      "source": [
        "df_test.head()"
      ],
      "execution_count": 16,
      "outputs": [
        {
          "output_type": "execute_result",
          "data": {
            "text/html": [
              "<div>\n",
              "<style scoped>\n",
              "    .dataframe tbody tr th:only-of-type {\n",
              "        vertical-align: middle;\n",
              "    }\n",
              "\n",
              "    .dataframe tbody tr th {\n",
              "        vertical-align: top;\n",
              "    }\n",
              "\n",
              "    .dataframe thead th {\n",
              "        text-align: right;\n",
              "    }\n",
              "</style>\n",
              "<table border=\"1\" class=\"dataframe\">\n",
              "  <thead>\n",
              "    <tr style=\"text-align: right;\">\n",
              "      <th></th>\n",
              "      <th>id</th>\n",
              "      <th>age</th>\n",
              "      <th>income_spouse</th>\n",
              "      <th>income</th>\n",
              "      <th>y_pred</th>\n",
              "      <th>income_pred</th>\n",
              "      <th>income_b</th>\n",
              "      <th>income_pred_b</th>\n",
              "    </tr>\n",
              "  </thead>\n",
              "  <tbody>\n",
              "    <tr>\n",
              "      <th>2</th>\n",
              "      <td>3</td>\n",
              "      <td>32</td>\n",
              "      <td>44232.867951</td>\n",
              "      <td>44232.867951</td>\n",
              "      <td>10.853178</td>\n",
              "      <td>51698.0</td>\n",
              "      <td>1</td>\n",
              "      <td>1</td>\n",
              "    </tr>\n",
              "    <tr>\n",
              "      <th>4</th>\n",
              "      <td>5</td>\n",
              "      <td>34</td>\n",
              "      <td>50445.134576</td>\n",
              "      <td>70445.134576</td>\n",
              "      <td>10.975487</td>\n",
              "      <td>58424.0</td>\n",
              "      <td>1</td>\n",
              "      <td>1</td>\n",
              "    </tr>\n",
              "    <tr>\n",
              "      <th>5</th>\n",
              "      <td>6</td>\n",
              "      <td>36</td>\n",
              "      <td>51968.729357</td>\n",
              "      <td>69468.729357</td>\n",
              "      <td>11.005418</td>\n",
              "      <td>60199.0</td>\n",
              "      <td>1</td>\n",
              "      <td>1</td>\n",
              "    </tr>\n",
              "    <tr>\n",
              "      <th>10</th>\n",
              "      <td>11</td>\n",
              "      <td>41</td>\n",
              "      <td>77761.031433</td>\n",
              "      <td>87761.031433</td>\n",
              "      <td>11.378845</td>\n",
              "      <td>87452.0</td>\n",
              "      <td>2</td>\n",
              "      <td>2</td>\n",
              "    </tr>\n",
              "    <tr>\n",
              "      <th>11</th>\n",
              "      <td>12</td>\n",
              "      <td>43</td>\n",
              "      <td>81255.769615</td>\n",
              "      <td>98755.769615</td>\n",
              "      <td>11.421684</td>\n",
              "      <td>91280.0</td>\n",
              "      <td>2</td>\n",
              "      <td>2</td>\n",
              "    </tr>\n",
              "  </tbody>\n",
              "</table>\n",
              "</div>"
            ],
            "text/plain": [
              "    id  age  income_spouse  ...  income_pred  income_b  income_pred_b\n",
              "2    3   32   44232.867951  ...      51698.0         1              1\n",
              "4    5   34   50445.134576  ...      58424.0         1              1\n",
              "5    6   36   51968.729357  ...      60199.0         1              1\n",
              "10  11   41   77761.031433  ...      87452.0         2              2\n",
              "11  12   43   81255.769615  ...      91280.0         2              2\n",
              "\n",
              "[5 rows x 8 columns]"
            ]
          },
          "metadata": {},
          "execution_count": 16
        }
      ]
    },
    {
      "cell_type": "code",
      "metadata": {
        "id": "LnNGqdCtXO93"
      },
      "source": [
        "df_group_income = df_test.groupby(by=['income_b'],as_index=False)['income'].mean()\n",
        "df_group_income_pred = df_test.groupby(by=['income_pred_b'],as_index=False)['income_pred'].mean()"
      ],
      "execution_count": 17,
      "outputs": []
    },
    {
      "cell_type": "code",
      "metadata": {
        "id": "INwf45qQXvWo"
      },
      "source": [
        "df_group = df_group_income.merge(df_group_income_pred, how='left', left_on='income_b', right_on='income_pred_b')\n",
        "df_group.rename(columns={'income_b':'bin'},inplace=True)\n",
        "df_group.drop(['income_pred_b'], axis=1, inplace=True)"
      ],
      "execution_count": 18,
      "outputs": []
    },
    {
      "cell_type": "code",
      "metadata": {
        "colab": {
          "base_uri": "https://localhost:8080/",
          "height": 359
        },
        "id": "rXXuSaEWICf_",
        "outputId": "ec5d5a86-9e3b-4270-d1fc-5438d910c502"
      },
      "source": [
        "df_group"
      ],
      "execution_count": 19,
      "outputs": [
        {
          "output_type": "execute_result",
          "data": {
            "text/html": [
              "<div>\n",
              "<style scoped>\n",
              "    .dataframe tbody tr th:only-of-type {\n",
              "        vertical-align: middle;\n",
              "    }\n",
              "\n",
              "    .dataframe tbody tr th {\n",
              "        vertical-align: top;\n",
              "    }\n",
              "\n",
              "    .dataframe thead th {\n",
              "        text-align: right;\n",
              "    }\n",
              "</style>\n",
              "<table border=\"1\" class=\"dataframe\">\n",
              "  <thead>\n",
              "    <tr style=\"text-align: right;\">\n",
              "      <th></th>\n",
              "      <th>bin</th>\n",
              "      <th>income</th>\n",
              "      <th>income_pred</th>\n",
              "    </tr>\n",
              "  </thead>\n",
              "  <tbody>\n",
              "    <tr>\n",
              "      <th>0</th>\n",
              "      <td>1</td>\n",
              "      <td>60375.909813</td>\n",
              "      <td>59462.333333</td>\n",
              "    </tr>\n",
              "    <tr>\n",
              "      <th>1</th>\n",
              "      <td>2</td>\n",
              "      <td>92461.461524</td>\n",
              "      <td>94853.200000</td>\n",
              "    </tr>\n",
              "    <tr>\n",
              "      <th>2</th>\n",
              "      <td>3</td>\n",
              "      <td>128656.836944</td>\n",
              "      <td>129380.677966</td>\n",
              "    </tr>\n",
              "    <tr>\n",
              "      <th>3</th>\n",
              "      <td>4</td>\n",
              "      <td>165233.886066</td>\n",
              "      <td>164456.510204</td>\n",
              "    </tr>\n",
              "    <tr>\n",
              "      <th>4</th>\n",
              "      <td>5</td>\n",
              "      <td>202006.545263</td>\n",
              "      <td>201556.155556</td>\n",
              "    </tr>\n",
              "    <tr>\n",
              "      <th>5</th>\n",
              "      <td>6</td>\n",
              "      <td>237253.973583</td>\n",
              "      <td>236914.454545</td>\n",
              "    </tr>\n",
              "    <tr>\n",
              "      <th>6</th>\n",
              "      <td>7</td>\n",
              "      <td>271791.819506</td>\n",
              "      <td>272657.675676</td>\n",
              "    </tr>\n",
              "    <tr>\n",
              "      <th>7</th>\n",
              "      <td>8</td>\n",
              "      <td>310097.258611</td>\n",
              "      <td>309688.050000</td>\n",
              "    </tr>\n",
              "    <tr>\n",
              "      <th>8</th>\n",
              "      <td>9</td>\n",
              "      <td>345217.288822</td>\n",
              "      <td>347048.631579</td>\n",
              "    </tr>\n",
              "    <tr>\n",
              "      <th>9</th>\n",
              "      <td>10</td>\n",
              "      <td>373670.846014</td>\n",
              "      <td>368746.222222</td>\n",
              "    </tr>\n",
              "  </tbody>\n",
              "</table>\n",
              "</div>"
            ],
            "text/plain": [
              "  bin         income    income_pred\n",
              "0   1   60375.909813   59462.333333\n",
              "1   2   92461.461524   94853.200000\n",
              "2   3  128656.836944  129380.677966\n",
              "3   4  165233.886066  164456.510204\n",
              "4   5  202006.545263  201556.155556\n",
              "5   6  237253.973583  236914.454545\n",
              "6   7  271791.819506  272657.675676\n",
              "7   8  310097.258611  309688.050000\n",
              "8   9  345217.288822  347048.631579\n",
              "9  10  373670.846014  368746.222222"
            ]
          },
          "metadata": {},
          "execution_count": 19
        }
      ]
    },
    {
      "cell_type": "code",
      "metadata": {
        "colab": {
          "base_uri": "https://localhost:8080/",
          "height": 337
        },
        "id": "FmxCjo-6fBlZ",
        "outputId": "4971939a-5987-4c14-a95c-d86fe97178b8"
      },
      "source": [
        "df_group.plot(figsize=(10,5))"
      ],
      "execution_count": 20,
      "outputs": [
        {
          "output_type": "execute_result",
          "data": {
            "text/plain": [
              "<matplotlib.axes._subplots.AxesSubplot at 0x7fd762a81290>"
            ]
          },
          "metadata": {},
          "execution_count": 20
        },
        {
          "output_type": "display_data",
          "data": {
            "image/png": "[encoded data removed]",
            "text/plain": [
              "<Figure size 720x360 with 1 Axes>"
            ]
          },
          "metadata": {
            "needs_background": "light"
          }
        }
      ]
    },
    {
      "cell_type": "markdown",
      "metadata": {
        "id": "vfMqdiFaoJKa"
      },
      "source": [
        "### **1. Для соблюдения чистоты эксперимента применялась учебная и тестовая выборка**\n",
        "### **2. Чтобы минимизировать ошибку прогноза нужно логарифмировать не только прогнозируемый доход, но и доход супруга**\n",
        "### **3. Логарифмическая функция должна штрафовать большие значения и вытягивать маленькие**\n",
        "### **4. Возможных причин, почему средние значения прогноза постоянно ниже средних значений факта на всех бакетах, выявить не удалось**"
      ]
    }
  ]
}