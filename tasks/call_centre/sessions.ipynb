{
 "cells": [
  {
   "cell_type": "markdown",
   "metadata": {},
   "source": [
    "# Задача №1"
   ]
  },
  {
   "cell_type": "code",
   "execution_count": 1,
   "metadata": {},
   "outputs": [],
   "source": [
    "#импорт библиотек\n",
    "import numpy as np\n",
    "import pandas as pd\n",
    "import os\n",
    "import copy\n",
    "import openpyxl as opx"
   ]
  },
  {
   "cell_type": "code",
   "execution_count": 2,
   "metadata": {},
   "outputs": [],
   "source": [
    "path_to_data = \"C:/Users/Pavel/Documents/\""
   ]
  },
  {
   "cell_type": "code",
   "execution_count": 3,
   "metadata": {},
   "outputs": [],
   "source": [
    "data_input = pd.read_excel(os.path.join(path_to_data, \"Task1_INPUT.xlsx\"),sheet_name = 0)"
   ]
  },
  {
   "cell_type": "code",
   "execution_count": 4,
   "metadata": {},
   "outputs": [
    {
     "data": {
      "text/html": [
       "<div>\n",
       "<style scoped>\n",
       "    .dataframe tbody tr th:only-of-type {\n",
       "        vertical-align: middle;\n",
       "    }\n",
       "\n",
       "    .dataframe tbody tr th {\n",
       "        vertical-align: top;\n",
       "    }\n",
       "\n",
       "    .dataframe thead th {\n",
       "        text-align: right;\n",
       "    }\n",
       "</style>\n",
       "<table border=\"1\" class=\"dataframe\">\n",
       "  <thead>\n",
       "    <tr style=\"text-align: right;\">\n",
       "      <th></th>\n",
       "      <th>Время активности</th>\n",
       "      <th>Имя активности</th>\n",
       "      <th>Длительность</th>\n",
       "      <th>ID вызова</th>\n",
       "    </tr>\n",
       "  </thead>\n",
       "  <tbody>\n",
       "    <tr>\n",
       "      <th>0</th>\n",
       "      <td>2019-12-23 13:00:02.295</td>\n",
       "      <td>Прослушал Главное меню</td>\n",
       "      <td>37</td>\n",
       "      <td>788547601</td>\n",
       "    </tr>\n",
       "    <tr>\n",
       "      <th>1</th>\n",
       "      <td>2019-12-23 13:00:05.713</td>\n",
       "      <td>Прослушал Главное меню</td>\n",
       "      <td>46</td>\n",
       "      <td>788547602</td>\n",
       "    </tr>\n",
       "    <tr>\n",
       "      <th>2</th>\n",
       "      <td>2019-12-23 13:00:15.394</td>\n",
       "      <td>Прослушал Главное меню</td>\n",
       "      <td>10</td>\n",
       "      <td>788547607</td>\n",
       "    </tr>\n",
       "    <tr>\n",
       "      <th>3</th>\n",
       "      <td>2019-12-23 13:00:16.180</td>\n",
       "      <td>Прослушал Главное меню</td>\n",
       "      <td>26</td>\n",
       "      <td>788547607</td>\n",
       "    </tr>\n",
       "    <tr>\n",
       "      <th>4</th>\n",
       "      <td>2019-12-23 13:00:21.449</td>\n",
       "      <td>Кнопка 1 - Распределился на группу продаж</td>\n",
       "      <td>36</td>\n",
       "      <td>788547592</td>\n",
       "    </tr>\n",
       "    <tr>\n",
       "      <th>5</th>\n",
       "      <td>2019-12-23 13:00:23.410</td>\n",
       "      <td>Кнопка 1 - Распределился на группу продаж</td>\n",
       "      <td>52</td>\n",
       "      <td>788547585</td>\n",
       "    </tr>\n",
       "    <tr>\n",
       "      <th>6</th>\n",
       "      <td>2019-12-23 13:00:24.508</td>\n",
       "      <td>Прослушал Главное меню</td>\n",
       "      <td>36</td>\n",
       "      <td>788547612</td>\n",
       "    </tr>\n",
       "    <tr>\n",
       "      <th>7</th>\n",
       "      <td>2019-12-23 13:00:29.569</td>\n",
       "      <td>Кнопка 3 - Прослушал Главное Меню</td>\n",
       "      <td>42</td>\n",
       "      <td>788547598</td>\n",
       "    </tr>\n",
       "    <tr>\n",
       "      <th>8</th>\n",
       "      <td>2019-12-23 13:00:37.747</td>\n",
       "      <td>Кнопка 1 - Распределился на группу продаж</td>\n",
       "      <td>61</td>\n",
       "      <td>788547588</td>\n",
       "    </tr>\n",
       "    <tr>\n",
       "      <th>9</th>\n",
       "      <td>2019-12-23 13:00:39.838</td>\n",
       "      <td>Кнопка 1 - Распределился на группу продаж</td>\n",
       "      <td>37</td>\n",
       "      <td>788547601</td>\n",
       "    </tr>\n",
       "  </tbody>\n",
       "</table>\n",
       "</div>"
      ],
      "text/plain": [
       "         Время активности                             Имя активности  \\\n",
       "0 2019-12-23 13:00:02.295                     Прослушал Главное меню   \n",
       "1 2019-12-23 13:00:05.713                     Прослушал Главное меню   \n",
       "2 2019-12-23 13:00:15.394                     Прослушал Главное меню   \n",
       "3 2019-12-23 13:00:16.180                     Прослушал Главное меню   \n",
       "4 2019-12-23 13:00:21.449  Кнопка 1 - Распределился на группу продаж   \n",
       "5 2019-12-23 13:00:23.410  Кнопка 1 - Распределился на группу продаж   \n",
       "6 2019-12-23 13:00:24.508                     Прослушал Главное меню   \n",
       "7 2019-12-23 13:00:29.569          Кнопка 3 - Прослушал Главное Меню   \n",
       "8 2019-12-23 13:00:37.747  Кнопка 1 - Распределился на группу продаж   \n",
       "9 2019-12-23 13:00:39.838  Кнопка 1 - Распределился на группу продаж   \n",
       "\n",
       "   Длительность  ID вызова  \n",
       "0            37  788547601  \n",
       "1            46  788547602  \n",
       "2            10  788547607  \n",
       "3            26  788547607  \n",
       "4            36  788547592  \n",
       "5            52  788547585  \n",
       "6            36  788547612  \n",
       "7            42  788547598  \n",
       "8            61  788547588  \n",
       "9            37  788547601  "
      ]
     },
     "execution_count": 4,
     "metadata": {},
     "output_type": "execute_result"
    }
   ],
   "source": [
    "#Смотрим на массив данных, который подгрузили\n",
    "data_input.head(10)"
   ]
  },
  {
   "cell_type": "code",
   "execution_count": 5,
   "metadata": {},
   "outputs": [
    {
     "name": "stdout",
     "output_type": "stream",
     "text": [
      "<class 'pandas.core.frame.DataFrame'>\n",
      "RangeIndex: 736 entries, 0 to 735\n",
      "Data columns (total 4 columns):\n",
      " #   Column            Non-Null Count  Dtype         \n",
      "---  ------            --------------  -----         \n",
      " 0   Время активности  736 non-null    datetime64[ns]\n",
      " 1   Имя активности    736 non-null    object        \n",
      " 2   Длительность      736 non-null    int64         \n",
      " 3   ID вызова         736 non-null    int64         \n",
      "dtypes: datetime64[ns](1), int64(2), object(1)\n",
      "memory usage: 23.1+ KB\n"
     ]
    }
   ],
   "source": [
    "data_input.info()"
   ]
  },
  {
   "cell_type": "code",
   "execution_count": 6,
   "metadata": {},
   "outputs": [],
   "source": [
    "#Переименовываем столбцы\n",
    "new_name = [\"date\", \"activity\", \"duration\", \"id\"]\n",
    "data_input_new = copy.deepcopy(data_input)\n",
    "data_input_new.columns = new_name"
   ]
  },
  {
   "cell_type": "markdown",
   "metadata": {},
   "source": [
    "### Проблемка!!!"
   ]
  },
  {
   "cell_type": "code",
   "execution_count": 7,
   "metadata": {},
   "outputs": [
    {
     "data": {
      "text/html": [
       "<div>\n",
       "<style scoped>\n",
       "    .dataframe tbody tr th:only-of-type {\n",
       "        vertical-align: middle;\n",
       "    }\n",
       "\n",
       "    .dataframe tbody tr th {\n",
       "        vertical-align: top;\n",
       "    }\n",
       "\n",
       "    .dataframe thead th {\n",
       "        text-align: right;\n",
       "    }\n",
       "</style>\n",
       "<table border=\"1\" class=\"dataframe\">\n",
       "  <thead>\n",
       "    <tr style=\"text-align: right;\">\n",
       "      <th></th>\n",
       "      <th>date</th>\n",
       "      <th>activity</th>\n",
       "      <th>duration</th>\n",
       "      <th>id</th>\n",
       "    </tr>\n",
       "  </thead>\n",
       "  <tbody>\n",
       "    <tr>\n",
       "      <th>691</th>\n",
       "      <td>2019-12-23 13:57:03.567</td>\n",
       "      <td>Прослушал Главное меню</td>\n",
       "      <td>155</td>\n",
       "      <td>788549311</td>\n",
       "    </tr>\n",
       "    <tr>\n",
       "      <th>700</th>\n",
       "      <td>2019-12-23 13:57:25.355</td>\n",
       "      <td>Кнопка 2 - Прослушал Главное Меню</td>\n",
       "      <td>155</td>\n",
       "      <td>788549311</td>\n",
       "    </tr>\n",
       "    <tr>\n",
       "      <th>704</th>\n",
       "      <td>2019-12-23 13:57:43.031</td>\n",
       "      <td>Кнопка 2 - Прослушал автоинформатор</td>\n",
       "      <td>155</td>\n",
       "      <td>788549311</td>\n",
       "    </tr>\n",
       "    <tr>\n",
       "      <th>718</th>\n",
       "      <td>2019-12-23 13:58:25.288</td>\n",
       "      <td>Кнопка 2 - Прослушал Главное Меню</td>\n",
       "      <td>155</td>\n",
       "      <td>788549311</td>\n",
       "    </tr>\n",
       "    <tr>\n",
       "      <th>719</th>\n",
       "      <td>2019-12-23 13:58:27.046</td>\n",
       "      <td>Кнопка 2 - Прослушал автоинформатор</td>\n",
       "      <td>155</td>\n",
       "      <td>788549311</td>\n",
       "    </tr>\n",
       "    <tr>\n",
       "      <th>723</th>\n",
       "      <td>2019-12-23 13:58:49.227</td>\n",
       "      <td>Кнопка 2 - Прослушал Главное Меню</td>\n",
       "      <td>155</td>\n",
       "      <td>788549311</td>\n",
       "    </tr>\n",
       "    <tr>\n",
       "      <th>725</th>\n",
       "      <td>2019-12-23 13:58:52.687</td>\n",
       "      <td>Кнопка 2 - Повтор Главного Меню</td>\n",
       "      <td>155</td>\n",
       "      <td>788549311</td>\n",
       "    </tr>\n",
       "    <tr>\n",
       "      <th>726</th>\n",
       "      <td>2019-12-23 13:58:52.689</td>\n",
       "      <td>Кнопка 2 - Прослушал Главное Меню</td>\n",
       "      <td>155</td>\n",
       "      <td>788549311</td>\n",
       "    </tr>\n",
       "    <tr>\n",
       "      <th>732</th>\n",
       "      <td>2019-12-23 13:59:39.060</td>\n",
       "      <td>Кнопка 2 - Распределился на оператора Поддержки</td>\n",
       "      <td>155</td>\n",
       "      <td>788549311</td>\n",
       "    </tr>\n",
       "  </tbody>\n",
       "</table>\n",
       "</div>"
      ],
      "text/plain": [
       "                       date                                         activity  \\\n",
       "691 2019-12-23 13:57:03.567                           Прослушал Главное меню   \n",
       "700 2019-12-23 13:57:25.355                Кнопка 2 - Прослушал Главное Меню   \n",
       "704 2019-12-23 13:57:43.031              Кнопка 2 - Прослушал автоинформатор   \n",
       "718 2019-12-23 13:58:25.288                Кнопка 2 - Прослушал Главное Меню   \n",
       "719 2019-12-23 13:58:27.046              Кнопка 2 - Прослушал автоинформатор   \n",
       "723 2019-12-23 13:58:49.227                Кнопка 2 - Прослушал Главное Меню   \n",
       "725 2019-12-23 13:58:52.687                  Кнопка 2 - Повтор Главного Меню   \n",
       "726 2019-12-23 13:58:52.689                Кнопка 2 - Прослушал Главное Меню   \n",
       "732 2019-12-23 13:59:39.060  Кнопка 2 - Распределился на оператора Поддержки   \n",
       "\n",
       "     duration         id  \n",
       "691       155  788549311  \n",
       "700       155  788549311  \n",
       "704       155  788549311  \n",
       "718       155  788549311  \n",
       "719       155  788549311  \n",
       "723       155  788549311  \n",
       "725       155  788549311  \n",
       "726       155  788549311  \n",
       "732       155  788549311  "
      ]
     },
     "execution_count": 7,
     "metadata": {},
     "output_type": "execute_result"
    }
   ],
   "source": [
    "#Вот по этой сессии абонента все верно. Первая контральная точка\n",
    "data_input_new[data_input_new[\"id\"]==788549311]"
   ]
  },
  {
   "cell_type": "code",
   "execution_count": 8,
   "metadata": {},
   "outputs": [
    {
     "data": {
      "text/html": [
       "<div>\n",
       "<style scoped>\n",
       "    .dataframe tbody tr th:only-of-type {\n",
       "        vertical-align: middle;\n",
       "    }\n",
       "\n",
       "    .dataframe tbody tr th {\n",
       "        vertical-align: top;\n",
       "    }\n",
       "\n",
       "    .dataframe thead th {\n",
       "        text-align: right;\n",
       "    }\n",
       "</style>\n",
       "<table border=\"1\" class=\"dataframe\">\n",
       "  <thead>\n",
       "    <tr style=\"text-align: right;\">\n",
       "      <th></th>\n",
       "      <th>date</th>\n",
       "      <th>activity</th>\n",
       "      <th>duration</th>\n",
       "      <th>id</th>\n",
       "    </tr>\n",
       "  </thead>\n",
       "  <tbody>\n",
       "    <tr>\n",
       "      <th>98</th>\n",
       "      <td>2019-12-23 13:08:56.164</td>\n",
       "      <td>Прослушал Главное меню</td>\n",
       "      <td>37</td>\n",
       "      <td>788547868</td>\n",
       "    </tr>\n",
       "    <tr>\n",
       "      <th>99</th>\n",
       "      <td>2019-12-23 13:08:56.494</td>\n",
       "      <td>Прослушал Главное меню</td>\n",
       "      <td>62</td>\n",
       "      <td>788547868</td>\n",
       "    </tr>\n",
       "    <tr>\n",
       "      <th>107</th>\n",
       "      <td>2019-12-23 13:09:29.301</td>\n",
       "      <td>Повтор Главного меню</td>\n",
       "      <td>62</td>\n",
       "      <td>788547868</td>\n",
       "    </tr>\n",
       "    <tr>\n",
       "      <th>108</th>\n",
       "      <td>2019-12-23 13:09:29.647</td>\n",
       "      <td>Повтор Главного меню</td>\n",
       "      <td>62</td>\n",
       "      <td>788547868</td>\n",
       "    </tr>\n",
       "    <tr>\n",
       "      <th>109</th>\n",
       "      <td>2019-12-23 13:09:33.840</td>\n",
       "      <td>Кнопка 1 - Распределился на группу продаж</td>\n",
       "      <td>37</td>\n",
       "      <td>788547868</td>\n",
       "    </tr>\n",
       "    <tr>\n",
       "      <th>114</th>\n",
       "      <td>2019-12-23 13:09:58.592</td>\n",
       "      <td>Кнопка 1 - Распределился на группу продаж</td>\n",
       "      <td>62</td>\n",
       "      <td>788547868</td>\n",
       "    </tr>\n",
       "  </tbody>\n",
       "</table>\n",
       "</div>"
      ],
      "text/plain": [
       "                       date                                   activity  \\\n",
       "98  2019-12-23 13:08:56.164                     Прослушал Главное меню   \n",
       "99  2019-12-23 13:08:56.494                     Прослушал Главное меню   \n",
       "107 2019-12-23 13:09:29.301                       Повтор Главного меню   \n",
       "108 2019-12-23 13:09:29.647                       Повтор Главного меню   \n",
       "109 2019-12-23 13:09:33.840  Кнопка 1 - Распределился на группу продаж   \n",
       "114 2019-12-23 13:09:58.592  Кнопка 1 - Распределился на группу продаж   \n",
       "\n",
       "     duration         id  \n",
       "98         37  788547868  \n",
       "99         62  788547868  \n",
       "107        62  788547868  \n",
       "108        62  788547868  \n",
       "109        37  788547868  \n",
       "114        62  788547868  "
      ]
     },
     "execution_count": 8,
     "metadata": {},
     "output_type": "execute_result"
    }
   ],
   "source": [
    "#А вот тут получается так, что одновременно на один id вешается две сессии либо я не понимаю как работает CRM)))\n",
    "#Для простаты дальнейших подсчетов посчитаем, что это одна сессия. Вторая контрольная точка\n",
    "data_input_new[data_input_new[\"id\"]==788547868]"
   ]
  },
  {
   "cell_type": "code",
   "execution_count": 9,
   "metadata": {},
   "outputs": [],
   "source": [
    "#Удаляем дубликаты из датасета\n",
    "data_input_new.drop_duplicates(['activity','id'], inplace=True)"
   ]
  },
  {
   "cell_type": "code",
   "execution_count": 10,
   "metadata": {},
   "outputs": [
    {
     "data": {
      "text/html": [
       "<div>\n",
       "<style scoped>\n",
       "    .dataframe tbody tr th:only-of-type {\n",
       "        vertical-align: middle;\n",
       "    }\n",
       "\n",
       "    .dataframe tbody tr th {\n",
       "        vertical-align: top;\n",
       "    }\n",
       "\n",
       "    .dataframe thead th {\n",
       "        text-align: right;\n",
       "    }\n",
       "</style>\n",
       "<table border=\"1\" class=\"dataframe\">\n",
       "  <thead>\n",
       "    <tr style=\"text-align: right;\">\n",
       "      <th></th>\n",
       "      <th>date</th>\n",
       "      <th>activity</th>\n",
       "      <th>duration</th>\n",
       "      <th>id</th>\n",
       "    </tr>\n",
       "  </thead>\n",
       "  <tbody>\n",
       "    <tr>\n",
       "      <th>691</th>\n",
       "      <td>2019-12-23 13:57:03.567</td>\n",
       "      <td>Прослушал Главное меню</td>\n",
       "      <td>155</td>\n",
       "      <td>788549311</td>\n",
       "    </tr>\n",
       "    <tr>\n",
       "      <th>700</th>\n",
       "      <td>2019-12-23 13:57:25.355</td>\n",
       "      <td>Кнопка 2 - Прослушал Главное Меню</td>\n",
       "      <td>155</td>\n",
       "      <td>788549311</td>\n",
       "    </tr>\n",
       "    <tr>\n",
       "      <th>704</th>\n",
       "      <td>2019-12-23 13:57:43.031</td>\n",
       "      <td>Кнопка 2 - Прослушал автоинформатор</td>\n",
       "      <td>155</td>\n",
       "      <td>788549311</td>\n",
       "    </tr>\n",
       "    <tr>\n",
       "      <th>725</th>\n",
       "      <td>2019-12-23 13:58:52.687</td>\n",
       "      <td>Кнопка 2 - Повтор Главного Меню</td>\n",
       "      <td>155</td>\n",
       "      <td>788549311</td>\n",
       "    </tr>\n",
       "    <tr>\n",
       "      <th>732</th>\n",
       "      <td>2019-12-23 13:59:39.060</td>\n",
       "      <td>Кнопка 2 - Распределился на оператора Поддержки</td>\n",
       "      <td>155</td>\n",
       "      <td>788549311</td>\n",
       "    </tr>\n",
       "  </tbody>\n",
       "</table>\n",
       "</div>"
      ],
      "text/plain": [
       "                       date                                         activity  \\\n",
       "691 2019-12-23 13:57:03.567                           Прослушал Главное меню   \n",
       "700 2019-12-23 13:57:25.355                Кнопка 2 - Прослушал Главное Меню   \n",
       "704 2019-12-23 13:57:43.031              Кнопка 2 - Прослушал автоинформатор   \n",
       "725 2019-12-23 13:58:52.687                  Кнопка 2 - Повтор Главного Меню   \n",
       "732 2019-12-23 13:59:39.060  Кнопка 2 - Распределился на оператора Поддержки   \n",
       "\n",
       "     duration         id  \n",
       "691       155  788549311  \n",
       "700       155  788549311  \n",
       "704       155  788549311  \n",
       "725       155  788549311  \n",
       "732       155  788549311  "
      ]
     },
     "execution_count": 10,
     "metadata": {},
     "output_type": "execute_result"
    }
   ],
   "source": [
    "#Смотрим что получилось\n",
    "data_input_new[data_input_new[\"id\"]==788549311]"
   ]
  },
  {
   "cell_type": "code",
   "execution_count": 11,
   "metadata": {},
   "outputs": [
    {
     "data": {
      "text/html": [
       "<div>\n",
       "<style scoped>\n",
       "    .dataframe tbody tr th:only-of-type {\n",
       "        vertical-align: middle;\n",
       "    }\n",
       "\n",
       "    .dataframe tbody tr th {\n",
       "        vertical-align: top;\n",
       "    }\n",
       "\n",
       "    .dataframe thead th {\n",
       "        text-align: right;\n",
       "    }\n",
       "</style>\n",
       "<table border=\"1\" class=\"dataframe\">\n",
       "  <thead>\n",
       "    <tr style=\"text-align: right;\">\n",
       "      <th></th>\n",
       "      <th>date</th>\n",
       "      <th>activity</th>\n",
       "      <th>duration</th>\n",
       "      <th>id</th>\n",
       "    </tr>\n",
       "  </thead>\n",
       "  <tbody>\n",
       "    <tr>\n",
       "      <th>98</th>\n",
       "      <td>2019-12-23 13:08:56.164</td>\n",
       "      <td>Прослушал Главное меню</td>\n",
       "      <td>37</td>\n",
       "      <td>788547868</td>\n",
       "    </tr>\n",
       "    <tr>\n",
       "      <th>107</th>\n",
       "      <td>2019-12-23 13:09:29.301</td>\n",
       "      <td>Повтор Главного меню</td>\n",
       "      <td>62</td>\n",
       "      <td>788547868</td>\n",
       "    </tr>\n",
       "    <tr>\n",
       "      <th>109</th>\n",
       "      <td>2019-12-23 13:09:33.840</td>\n",
       "      <td>Кнопка 1 - Распределился на группу продаж</td>\n",
       "      <td>37</td>\n",
       "      <td>788547868</td>\n",
       "    </tr>\n",
       "  </tbody>\n",
       "</table>\n",
       "</div>"
      ],
      "text/plain": [
       "                       date                                   activity  \\\n",
       "98  2019-12-23 13:08:56.164                     Прослушал Главное меню   \n",
       "107 2019-12-23 13:09:29.301                       Повтор Главного меню   \n",
       "109 2019-12-23 13:09:33.840  Кнопка 1 - Распределился на группу продаж   \n",
       "\n",
       "     duration         id  \n",
       "98         37  788547868  \n",
       "107        62  788547868  \n",
       "109        37  788547868  "
      ]
     },
     "execution_count": 11,
     "metadata": {},
     "output_type": "execute_result"
    }
   ],
   "source": [
    "data_input_new[data_input_new[\"id\"]==788547868]"
   ]
  },
  {
   "cell_type": "code",
   "execution_count": 12,
   "metadata": {},
   "outputs": [
    {
     "data": {
      "text/plain": [
       "Прослушал Главное меню                                   312\n",
       "Кнопка 1 - Распределился на группу продаж                218\n",
       "Кнопка 3 - Прослушал Главное Меню                         41\n",
       "Кнопка 3 - Распределился на оператора Группы Ипотеки      35\n",
       "Кнопка 4 - Голосовой помощник                             23\n",
       "Кнопка 2 - Прослушал Главное Меню                         11\n",
       "Повтор Главного меню                                      10\n",
       "Кнопка 2 - Прослушал автоинформатор                        7\n",
       "Кнопка 2 - Распределился на оператора Поддержки            7\n",
       "Кнопка 3 - Распределился на оператора Группы Кредитов      2\n",
       "Кнопка 2 - Повтор Главного Меню                            1\n",
       "Name: activity, dtype: int64"
      ]
     },
     "execution_count": 12,
     "metadata": {},
     "output_type": "execute_result"
    }
   ],
   "source": [
    "#Считаем количество уникальных id по activity\n",
    "counts_activity = data_input_new[\"activity\"].value_counts()\n",
    "counts_activity"
   ]
  },
  {
   "cell_type": "code",
   "execution_count": 13,
   "metadata": {},
   "outputs": [
    {
     "data": {
      "text/plain": [
       "318"
      ]
     },
     "execution_count": 13,
     "metadata": {},
     "output_type": "execute_result"
    }
   ],
   "source": [
    "#Считаем количество уникальных id в датасете\n",
    "unique_id = data_input_new[\"id\"].nunique()\n",
    "unique_id\n"
   ]
  },
  {
   "cell_type": "code",
   "execution_count": 14,
   "metadata": {},
   "outputs": [
    {
     "data": {
      "text/plain": [
       "11933"
      ]
     },
     "execution_count": 14,
     "metadata": {},
     "output_type": "execute_result"
    }
   ],
   "source": [
    "#Считаем сумму по полю duration для всех уникальных id\n",
    "sum_duration = data_input_new.drop_duplicates(['id'])[\"duration\"].sum()\n",
    "sum_duration"
   ]
  },
  {
   "cell_type": "code",
   "execution_count": 15,
   "metadata": {},
   "outputs": [
    {
     "data": {
      "text/plain": [
       "38.0"
      ]
     },
     "execution_count": 15,
     "metadata": {},
     "output_type": "execute_result"
    }
   ],
   "source": [
    "#Считаем среднее время обработки вызова \n",
    "mean_duration = round(sum_duration/unique_id,0)\n",
    "mean_duration"
   ]
  },
  {
   "cell_type": "code",
   "execution_count": 16,
   "metadata": {},
   "outputs": [],
   "source": [
    "#Получаем доступ к книге Excel\n",
    "data_output = opx.load_workbook(os.path.join(path_to_data, \"Task1_OUTPUT.xlsx\"))"
   ]
  },
  {
   "cell_type": "code",
   "execution_count": 17,
   "metadata": {},
   "outputs": [],
   "source": [
    "#Выбираем нужный лист\n",
    "data_sheet = data_output.worksheets[0]"
   ]
  },
  {
   "cell_type": "code",
   "execution_count": 18,
   "metadata": {},
   "outputs": [],
   "source": [
    "#Заполняем шаблон числовыми значениями\n",
    "data_sheet['D2'] = counts_activity['Прослушал Главное меню']\n",
    "data_sheet['D3'] = counts_activity['Кнопка 1 - Распределился на группу продаж']\n",
    "data_sheet['D4'] = counts_activity['Кнопка 2 - Прослушал Главное Меню']\n",
    "data_sheet['D5'] = counts_activity['Кнопка 2 - Прослушал автоинформатор']\n",
    "data_sheet['D6'] = counts_activity['Кнопка 2 - Распределился на оператора Поддержки']\n",
    "data_sheet['D7'] = counts_activity['Кнопка 2 - Повтор Главного Меню']\n",
    "data_sheet['D8'] = counts_activity['Кнопка 3 - Прослушал Главное Меню']\n",
    "data_sheet['D9'] = counts_activity['Кнопка 3 - Распределился на оператора Группы Ипотеки']\n",
    "data_sheet['D10'] = counts_activity['Кнопка 3 - Распределился на оператора Группы Кредитов']\n",
    "data_sheet['D12'] = counts_activity['Кнопка 4 - Голосовой помощник']\n",
    "data_sheet['D13'] = counts_activity['Повтор Главного меню']\n",
    "# *******************************************************************************************\n",
    "data_sheet['D14'] = mean_duration"
   ]
  },
  {
   "cell_type": "code",
   "execution_count": 19,
   "metadata": {},
   "outputs": [],
   "source": [
    "#Сохраняем результаты в книгу\n",
    "data_output.save(\"Task1_OUTPUT.xlsx\")"
   ]
  }
 ],
 "metadata": {
  "kernelspec": {
   "display_name": "Python 3",
   "language": "python",
   "name": "python3"
  },
  "language_info": {
   "codemirror_mode": {
    "name": "ipython",
    "version": 3
   },
   "file_extension": ".py",
   "mimetype": "text/x-python",
   "name": "python",
   "nbconvert_exporter": "python",
   "pygments_lexer": "ipython3",
   "version": "3.7.6"
  }
 },
 "nbformat": 4,
 "nbformat_minor": 4
}
