{
 "cells": [
  {
   "cell_type": "markdown",
   "metadata": {},
   "source": [
    "# Задача о принадлежности точки полигону"
   ]
  },
  {
   "cell_type": "code",
   "execution_count": 1,
   "metadata": {},
   "outputs": [],
   "source": [
    "# Импортируем библиотеки\n",
    "from time import time\n",
    "import matplotlib.path as mpltPath\n",
    "import pandas as pd\n",
    "import numpy as np"
   ]
  },
  {
   "cell_type": "code",
   "execution_count": 2,
   "metadata": {},
   "outputs": [],
   "source": [
    "# Получаем датасет с координатами пользователя на плоскости (можно считать условно х и у)\n",
    "user_coordinates = pd.read_csv(\"user_coordinates.csv\")"
   ]
  },
  {
   "cell_type": "code",
   "execution_count": 3,
   "metadata": {},
   "outputs": [
    {
     "data": {
      "text/html": [
       "<div>\n",
       "<style scoped>\n",
       "    .dataframe tbody tr th:only-of-type {\n",
       "        vertical-align: middle;\n",
       "    }\n",
       "\n",
       "    .dataframe tbody tr th {\n",
       "        vertical-align: top;\n",
       "    }\n",
       "\n",
       "    .dataframe thead th {\n",
       "        text-align: right;\n",
       "    }\n",
       "</style>\n",
       "<table border=\"1\" class=\"dataframe\">\n",
       "  <thead>\n",
       "    <tr style=\"text-align: right;\">\n",
       "      <th></th>\n",
       "      <th>user_id</th>\n",
       "      <th>loc_lat</th>\n",
       "      <th>loc_lon</th>\n",
       "    </tr>\n",
       "  </thead>\n",
       "  <tbody>\n",
       "    <tr>\n",
       "      <th>0</th>\n",
       "      <td>1</td>\n",
       "      <td>0.5</td>\n",
       "      <td>0.5</td>\n",
       "    </tr>\n",
       "    <tr>\n",
       "      <th>1</th>\n",
       "      <td>2</td>\n",
       "      <td>3.0</td>\n",
       "      <td>3.0</td>\n",
       "    </tr>\n",
       "    <tr>\n",
       "      <th>2</th>\n",
       "      <td>3</td>\n",
       "      <td>5.0</td>\n",
       "      <td>5.0</td>\n",
       "    </tr>\n",
       "  </tbody>\n",
       "</table>\n",
       "</div>"
      ],
      "text/plain": [
       "   user_id  loc_lat  loc_lon\n",
       "0        1      0.5      0.5\n",
       "1        2      3.0      3.0\n",
       "2        3      5.0      5.0"
      ]
     },
     "execution_count": 3,
     "metadata": {},
     "output_type": "execute_result"
    }
   ],
   "source": [
    "# Просматриваем первые 10 строк массива\n",
    "user_coordinates.head(10)"
   ]
  },
  {
   "cell_type": "code",
   "execution_count": 4,
   "metadata": {},
   "outputs": [],
   "source": [
    "# Получаем датасет с координатами полигона на плоскости. Полигон определяется 4 вершинами. \n",
    "# Указание вершин начинается с левого нижнего угла. Движение слева направо, снизу вверх (т.е. против часовой стрелки)\n",
    "place_zone_coordinates = pd.read_csv(\"place_zone_coordinates.csv\")"
   ]
  },
  {
   "cell_type": "code",
   "execution_count": 5,
   "metadata": {},
   "outputs": [
    {
     "data": {
      "text/html": [
       "<div>\n",
       "<style scoped>\n",
       "    .dataframe tbody tr th:only-of-type {\n",
       "        vertical-align: middle;\n",
       "    }\n",
       "\n",
       "    .dataframe tbody tr th {\n",
       "        vertical-align: top;\n",
       "    }\n",
       "\n",
       "    .dataframe thead th {\n",
       "        text-align: right;\n",
       "    }\n",
       "</style>\n",
       "<table border=\"1\" class=\"dataframe\">\n",
       "  <thead>\n",
       "    <tr style=\"text-align: right;\">\n",
       "      <th></th>\n",
       "      <th>place_id</th>\n",
       "      <th>loc_lat</th>\n",
       "      <th>loc_lon</th>\n",
       "      <th>point_number</th>\n",
       "    </tr>\n",
       "  </thead>\n",
       "  <tbody>\n",
       "    <tr>\n",
       "      <th>0</th>\n",
       "      <td>1</td>\n",
       "      <td>1</td>\n",
       "      <td>1</td>\n",
       "      <td>0</td>\n",
       "    </tr>\n",
       "    <tr>\n",
       "      <th>1</th>\n",
       "      <td>1</td>\n",
       "      <td>4</td>\n",
       "      <td>1</td>\n",
       "      <td>1</td>\n",
       "    </tr>\n",
       "    <tr>\n",
       "      <th>2</th>\n",
       "      <td>1</td>\n",
       "      <td>4</td>\n",
       "      <td>4</td>\n",
       "      <td>2</td>\n",
       "    </tr>\n",
       "    <tr>\n",
       "      <th>3</th>\n",
       "      <td>1</td>\n",
       "      <td>1</td>\n",
       "      <td>4</td>\n",
       "      <td>3</td>\n",
       "    </tr>\n",
       "    <tr>\n",
       "      <th>4</th>\n",
       "      <td>2</td>\n",
       "      <td>0</td>\n",
       "      <td>0</td>\n",
       "      <td>0</td>\n",
       "    </tr>\n",
       "    <tr>\n",
       "      <th>5</th>\n",
       "      <td>2</td>\n",
       "      <td>6</td>\n",
       "      <td>0</td>\n",
       "      <td>1</td>\n",
       "    </tr>\n",
       "    <tr>\n",
       "      <th>6</th>\n",
       "      <td>2</td>\n",
       "      <td>6</td>\n",
       "      <td>6</td>\n",
       "      <td>2</td>\n",
       "    </tr>\n",
       "    <tr>\n",
       "      <th>7</th>\n",
       "      <td>2</td>\n",
       "      <td>0</td>\n",
       "      <td>6</td>\n",
       "      <td>3</td>\n",
       "    </tr>\n",
       "  </tbody>\n",
       "</table>\n",
       "</div>"
      ],
      "text/plain": [
       "   place_id  loc_lat  loc_lon  point_number\n",
       "0         1        1        1             0\n",
       "1         1        4        1             1\n",
       "2         1        4        4             2\n",
       "3         1        1        4             3\n",
       "4         2        0        0             0\n",
       "5         2        6        0             1\n",
       "6         2        6        6             2\n",
       "7         2        0        6             3"
      ]
     },
     "execution_count": 5,
     "metadata": {},
     "output_type": "execute_result"
    }
   ],
   "source": [
    "place_zone_coordinates.head(10)"
   ]
  },
  {
   "cell_type": "code",
   "execution_count": 6,
   "metadata": {},
   "outputs": [
    {
     "data": {
      "text/html": [
       "<div>\n",
       "<style scoped>\n",
       "    .dataframe tbody tr th:only-of-type {\n",
       "        vertical-align: middle;\n",
       "    }\n",
       "\n",
       "    .dataframe tbody tr th {\n",
       "        vertical-align: top;\n",
       "    }\n",
       "\n",
       "    .dataframe thead th {\n",
       "        text-align: right;\n",
       "    }\n",
       "</style>\n",
       "<table border=\"1\" class=\"dataframe\">\n",
       "  <thead>\n",
       "    <tr style=\"text-align: right;\">\n",
       "      <th></th>\n",
       "      <th>place_id</th>\n",
       "      <th>x1</th>\n",
       "      <th>x2</th>\n",
       "      <th>x3</th>\n",
       "      <th>x4</th>\n",
       "      <th>y1</th>\n",
       "      <th>y2</th>\n",
       "      <th>y3</th>\n",
       "      <th>y4</th>\n",
       "    </tr>\n",
       "  </thead>\n",
       "  <tbody>\n",
       "    <tr>\n",
       "      <th>0</th>\n",
       "      <td>1</td>\n",
       "      <td>1</td>\n",
       "      <td>4</td>\n",
       "      <td>4</td>\n",
       "      <td>1</td>\n",
       "      <td>1</td>\n",
       "      <td>1</td>\n",
       "      <td>4</td>\n",
       "      <td>4</td>\n",
       "    </tr>\n",
       "    <tr>\n",
       "      <th>1</th>\n",
       "      <td>2</td>\n",
       "      <td>0</td>\n",
       "      <td>6</td>\n",
       "      <td>6</td>\n",
       "      <td>0</td>\n",
       "      <td>0</td>\n",
       "      <td>0</td>\n",
       "      <td>6</td>\n",
       "      <td>6</td>\n",
       "    </tr>\n",
       "  </tbody>\n",
       "</table>\n",
       "</div>"
      ],
      "text/plain": [
       "   place_id  x1  x2  x3  x4  y1  y2  y3  y4\n",
       "0         1   1   4   4   1   1   1   4   4\n",
       "1         2   0   6   6   0   0   0   6   6"
      ]
     },
     "execution_count": 6,
     "metadata": {},
     "output_type": "execute_result"
    }
   ],
   "source": [
    "# Перестраиваем исходный массив информации, чтобы в дальнейшем упростить построение списка с координатами полигона\n",
    "place_zone_coordinates = place_zone_coordinates.pivot(index=\"place_id\", columns=\"point_number\", values = [\"loc_lat\", \"loc_lon\"])\n",
    "place_zone_coordinates.columns = [\"x1\",\"x2\",\"x3\",\"x4\",\"y1\",\"y2\",\"y3\",\"y4\" ]\n",
    "place_zone_coordinates = place_zone_coordinates.reset_index()\n",
    "place_zone_coordinates.head(10)"
   ]
  },
  {
   "cell_type": "code",
   "execution_count": 7,
   "metadata": {},
   "outputs": [],
   "source": [
    "# Создаем списки с уникальными id пользователей и полигонов\n",
    "place_id_array = place_zone_coordinates[\"place_id\"].unique()\n",
    "user_id_array = user_coordinates[\"user_id\"].unique()"
   ]
  },
  {
   "cell_type": "code",
   "execution_count": 8,
   "metadata": {},
   "outputs": [
    {
     "name": "stdout",
     "output_type": "stream",
     "text": [
      "[[0.5, 0.5]]\n",
      "[(1, 1), (4, 1), (4, 4), (1, 4)]\n",
      "[False]\n",
      "[(0, 0), (6, 0), (6, 6), (0, 6)]\n",
      "[ True]\n",
      "[[3.0, 3.0]]\n",
      "[(1, 1), (4, 1), (4, 4), (1, 4)]\n",
      "[ True]\n",
      "[(0, 0), (6, 0), (6, 6), (0, 6)]\n",
      "[ True]\n",
      "[[5.0, 5.0]]\n",
      "[(1, 1), (4, 1), (4, 4), (1, 4)]\n",
      "[False]\n",
      "[(0, 0), (6, 0), (6, 6), (0, 6)]\n",
      "[ True]\n",
      "{1: 1, 2: 2, 3: 1}\n"
     ]
    }
   ],
   "source": [
    "# Запускаем цикл проверки. Результаты подсчета пишем в словарь. По ходу решения выводим print для самопроверки. \n",
    "user_id_number_of_places_available ={}\n",
    "\n",
    "for user_id in user_id_array:\n",
    "    user_coordinates_filter = user_coordinates[user_coordinates[\"user_id\"] == user_id]\n",
    "    point_user = [[round( user_coordinates_filter [\"loc_lat\"].values[0], 6),\n",
    "                  round( user_coordinates_filter [\"loc_lon\"].values[0], 6)]]\n",
    "    print(point_user)\n",
    "    count_places_available = 0\n",
    "    for place_id in place_id_array:\n",
    "        place_zone_coordinates_filter = place_zone_coordinates[(place_zone_coordinates[\"place_id\"] == place_id)]\n",
    "        polygon = [\n",
    "            (\n",
    "            round(place_zone_coordinates_filter [\"x1\"].values[0],6), \n",
    "            round(place_zone_coordinates_filter[\"y1\"].values[0],6)\n",
    "            ),\n",
    "            (\n",
    "            round(place_zone_coordinates_filter[\"x2\"].values[0],6), \n",
    "            round(place_zone_coordinates_filter[\"y2\"].values[0],6)\n",
    "            ),\n",
    "            (\n",
    "            round(place_zone_coordinates_filter[\"x3\"].values[0],6), \n",
    "             round(place_zone_coordinates_filter[\"y3\"].values[0],6)\n",
    "            ),\n",
    "            (\n",
    "             round(place_zone_coordinates_filter[\"x4\"].values[0],6), \n",
    "             round(place_zone_coordinates_filter[\"y4\"].values[0],6)\n",
    "            )\n",
    "        ]\n",
    "        print(polygon)\n",
    "        path = mpltPath.Path(polygon)\n",
    "        inside = path.contains_points(point_user)\n",
    "        print(inside)\n",
    "        if inside:\n",
    "            count_places_available += 1 \n",
    "    user_id_number_of_places_available[user_id] = count_places_available\n",
    "print(user_id_number_of_places_available)"
   ]
  },
  {
   "cell_type": "code",
   "execution_count": 9,
   "metadata": {},
   "outputs": [
    {
     "name": "stdout",
     "output_type": "stream",
     "text": [
      "   user_id  number_of_places_available\n",
      "0        1                           1\n",
      "1        2                           2\n",
      "2        3                           1\n"
     ]
    }
   ],
   "source": [
    "# Трансформируем словарь в датафрейм\n",
    "df = pd.DataFrame({'user_id' : [i for i in user_id_number_of_places_available.keys()], \n",
    "                   'number_of_places_available' : [ii for ii in user_id_number_of_places_available.values()]})\n",
    "print(df)"
   ]
  },
  {
   "cell_type": "code",
   "execution_count": null,
   "metadata": {},
   "outputs": [],
   "source": []
  }
 ],
 "metadata": {
  "kernelspec": {
   "display_name": "Python 3",
   "language": "python",
   "name": "python3"
  },
  "language_info": {
   "codemirror_mode": {
    "name": "ipython",
    "version": 3
   },
   "file_extension": ".py",
   "mimetype": "text/x-python",
   "name": "python",
   "nbconvert_exporter": "python",
   "pygments_lexer": "ipython3",
   "version": "3.8.3"
  }
 },
 "nbformat": 4,
 "nbformat_minor": 4
}
