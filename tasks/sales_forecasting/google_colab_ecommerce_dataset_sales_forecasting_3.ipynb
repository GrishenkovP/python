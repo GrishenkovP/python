{
  "nbformat": 4,
  "nbformat_minor": 0,
  "metadata": {
    "colab": {
      "name": "google_colab_ecommerce_dataset_sales_forecasting _3.ipynb",
      "provenance": [],
      "collapsed_sections": []
    },
    "kernelspec": {
      "name": "python3",
      "display_name": "Python 3"
    },
    "language_info": {
      "name": "python"
    }
  },
  "cells": [
    {
      "cell_type": "markdown",
      "metadata": {
        "id": "QQkJjlvy73qp"
      },
      "source": [
        "# Прогнозирование продаж. Часть 3. Построение модели"
      ]
    },
    {
      "cell_type": "code",
      "metadata": {
        "id": "R6K7RdrH__ye"
      },
      "source": [
        "%%capture\n",
        "!pip install catboost"
      ],
      "execution_count": 1,
      "outputs": []
    },
    {
      "cell_type": "code",
      "metadata": {
        "id": "sxz4KsBn7x1k"
      },
      "source": [
        "import numpy as np\n",
        "import pandas as pd\n",
        "from sklearn.model_selection import train_test_split\n",
        "from catboost import Pool, CatBoostRegressor\n",
        "from sklearn.metrics import mean_absolute_error, mean_squared_error, r2_score"
      ],
      "execution_count": 2,
      "outputs": []
    },
    {
      "cell_type": "code",
      "metadata": {
        "id": "-ilpbahaB4Je"
      },
      "source": [
        "from pandas.api.types import is_numeric_dtype\n",
        "from pandas.api.types import is_string_dtype"
      ],
      "execution_count": 3,
      "outputs": []
    },
    {
      "cell_type": "code",
      "metadata": {
        "id": "kaPfM2Ri8L6P"
      },
      "source": [
        "df = pd.read_csv('/content/drive/MyDrive/dataset/dataset_result.csv')"
      ],
      "execution_count": 4,
      "outputs": []
    },
    {
      "cell_type": "code",
      "metadata": {
        "colab": {
          "base_uri": "https://localhost:8080/",
          "height": 755
        },
        "id": "kPtb17sF8ULm",
        "outputId": "3ab49382-2701-491a-dd47-84f7015cfe5c"
      },
      "source": [
        "df.head(15)"
      ],
      "execution_count": 5,
      "outputs": [
        {
          "output_type": "execute_result",
          "data": {
            "text/html": [
              "<div>\n",
              "<style scoped>\n",
              "    .dataframe tbody tr th:only-of-type {\n",
              "        vertical-align: middle;\n",
              "    }\n",
              "\n",
              "    .dataframe tbody tr th {\n",
              "        vertical-align: top;\n",
              "    }\n",
              "\n",
              "    .dataframe thead th {\n",
              "        text-align: right;\n",
              "    }\n",
              "</style>\n",
              "<table border=\"1\" class=\"dataframe\">\n",
              "  <thead>\n",
              "    <tr style=\"text-align: right;\">\n",
              "      <th></th>\n",
              "      <th>customerid</th>\n",
              "      <th>country</th>\n",
              "      <th>total_amount</th>\n",
              "      <th>avg_check</th>\n",
              "      <th>top_product_1</th>\n",
              "      <th>top_product_2</th>\n",
              "      <th>top_product_3</th>\n",
              "      <th>top_product_4</th>\n",
              "      <th>top_product_5</th>\n",
              "      <th>top_product_6</th>\n",
              "      <th>top_product_7</th>\n",
              "      <th>2010_12</th>\n",
              "      <th>2011_1</th>\n",
              "      <th>2011_10</th>\n",
              "      <th>2011_11</th>\n",
              "      <th>2011_12</th>\n",
              "      <th>2011_2</th>\n",
              "      <th>2011_3</th>\n",
              "      <th>2011_4</th>\n",
              "      <th>2011_5</th>\n",
              "      <th>2011_6</th>\n",
              "      <th>2011_7</th>\n",
              "      <th>2011_8</th>\n",
              "      <th>2011_9</th>\n",
              "    </tr>\n",
              "  </thead>\n",
              "  <tbody>\n",
              "    <tr>\n",
              "      <th>0</th>\n",
              "      <td>17850</td>\n",
              "      <td>United Kingdom</td>\n",
              "      <td>5391.21</td>\n",
              "      <td>158.57</td>\n",
              "      <td>22803</td>\n",
              "      <td>21730</td>\n",
              "      <td>71053</td>\n",
              "      <td>84029G</td>\n",
              "      <td>84029E</td>\n",
              "      <td>82486</td>\n",
              "      <td>22752</td>\n",
              "      <td>34.0</td>\n",
              "      <td>0.0</td>\n",
              "      <td>0.0</td>\n",
              "      <td>0.0</td>\n",
              "      <td>0.0</td>\n",
              "      <td>0.0</td>\n",
              "      <td>0.0</td>\n",
              "      <td>0.0</td>\n",
              "      <td>0.0</td>\n",
              "      <td>0.0</td>\n",
              "      <td>0.0</td>\n",
              "      <td>0.0</td>\n",
              "      <td>0.0</td>\n",
              "    </tr>\n",
              "    <tr>\n",
              "      <th>1</th>\n",
              "      <td>13047</td>\n",
              "      <td>United Kingdom</td>\n",
              "      <td>3237.54</td>\n",
              "      <td>323.75</td>\n",
              "      <td>84969</td>\n",
              "      <td>22960</td>\n",
              "      <td>22720</td>\n",
              "      <td>48187</td>\n",
              "      <td>47566</td>\n",
              "      <td>21755</td>\n",
              "      <td>22722</td>\n",
              "      <td>3.0</td>\n",
              "      <td>0.0</td>\n",
              "      <td>1.0</td>\n",
              "      <td>1.0</td>\n",
              "      <td>0.0</td>\n",
              "      <td>1.0</td>\n",
              "      <td>1.0</td>\n",
              "      <td>0.0</td>\n",
              "      <td>1.0</td>\n",
              "      <td>1.0</td>\n",
              "      <td>0.0</td>\n",
              "      <td>1.0</td>\n",
              "      <td>0.0</td>\n",
              "    </tr>\n",
              "    <tr>\n",
              "      <th>2</th>\n",
              "      <td>12583</td>\n",
              "      <td>France</td>\n",
              "      <td>7281.38</td>\n",
              "      <td>485.43</td>\n",
              "      <td>POST</td>\n",
              "      <td>22726</td>\n",
              "      <td>22727</td>\n",
              "      <td>22728</td>\n",
              "      <td>22326</td>\n",
              "      <td>22492</td>\n",
              "      <td>22556</td>\n",
              "      <td>1.0</td>\n",
              "      <td>1.0</td>\n",
              "      <td>1.0</td>\n",
              "      <td>2.0</td>\n",
              "      <td>1.0</td>\n",
              "      <td>1.0</td>\n",
              "      <td>1.0</td>\n",
              "      <td>0.0</td>\n",
              "      <td>1.0</td>\n",
              "      <td>2.0</td>\n",
              "      <td>1.0</td>\n",
              "      <td>1.0</td>\n",
              "      <td>2.0</td>\n",
              "    </tr>\n",
              "    <tr>\n",
              "      <th>3</th>\n",
              "      <td>13748</td>\n",
              "      <td>United Kingdom</td>\n",
              "      <td>948.25</td>\n",
              "      <td>189.65</td>\n",
              "      <td>22086</td>\n",
              "      <td>22084</td>\n",
              "      <td>22423</td>\n",
              "      <td>22950</td>\n",
              "      <td>22734</td>\n",
              "      <td>22839</td>\n",
              "      <td>23354</td>\n",
              "      <td>1.0</td>\n",
              "      <td>0.0</td>\n",
              "      <td>0.0</td>\n",
              "      <td>0.0</td>\n",
              "      <td>0.0</td>\n",
              "      <td>0.0</td>\n",
              "      <td>0.0</td>\n",
              "      <td>2.0</td>\n",
              "      <td>0.0</td>\n",
              "      <td>0.0</td>\n",
              "      <td>0.0</td>\n",
              "      <td>0.0</td>\n",
              "      <td>2.0</td>\n",
              "    </tr>\n",
              "    <tr>\n",
              "      <th>4</th>\n",
              "      <td>15100</td>\n",
              "      <td>United Kingdom</td>\n",
              "      <td>876.00</td>\n",
              "      <td>292.00</td>\n",
              "      <td>21258</td>\n",
              "      <td>-</td>\n",
              "      <td>-</td>\n",
              "      <td>-</td>\n",
              "      <td>-</td>\n",
              "      <td>-</td>\n",
              "      <td>-</td>\n",
              "      <td>2.0</td>\n",
              "      <td>1.0</td>\n",
              "      <td>0.0</td>\n",
              "      <td>0.0</td>\n",
              "      <td>0.0</td>\n",
              "      <td>0.0</td>\n",
              "      <td>0.0</td>\n",
              "      <td>0.0</td>\n",
              "      <td>0.0</td>\n",
              "      <td>0.0</td>\n",
              "      <td>0.0</td>\n",
              "      <td>0.0</td>\n",
              "      <td>0.0</td>\n",
              "    </tr>\n",
              "    <tr>\n",
              "      <th>5</th>\n",
              "      <td>15291</td>\n",
              "      <td>United Kingdom</td>\n",
              "      <td>4668.30</td>\n",
              "      <td>311.22</td>\n",
              "      <td>82486</td>\n",
              "      <td>22212</td>\n",
              "      <td>21733</td>\n",
              "      <td>22112</td>\n",
              "      <td>48188</td>\n",
              "      <td>21754</td>\n",
              "      <td>22241</td>\n",
              "      <td>2.0</td>\n",
              "      <td>2.0</td>\n",
              "      <td>0.0</td>\n",
              "      <td>3.0</td>\n",
              "      <td>0.0</td>\n",
              "      <td>0.0</td>\n",
              "      <td>3.0</td>\n",
              "      <td>2.0</td>\n",
              "      <td>0.0</td>\n",
              "      <td>2.0</td>\n",
              "      <td>0.0</td>\n",
              "      <td>0.0</td>\n",
              "      <td>1.0</td>\n",
              "    </tr>\n",
              "    <tr>\n",
              "      <th>6</th>\n",
              "      <td>14688</td>\n",
              "      <td>United Kingdom</td>\n",
              "      <td>5630.87</td>\n",
              "      <td>268.14</td>\n",
              "      <td>22379</td>\n",
              "      <td>21770</td>\n",
              "      <td>22381</td>\n",
              "      <td>21934</td>\n",
              "      <td>22138</td>\n",
              "      <td>21935</td>\n",
              "      <td>79321</td>\n",
              "      <td>1.0</td>\n",
              "      <td>2.0</td>\n",
              "      <td>2.0</td>\n",
              "      <td>0.0</td>\n",
              "      <td>2.0</td>\n",
              "      <td>2.0</td>\n",
              "      <td>2.0</td>\n",
              "      <td>1.0</td>\n",
              "      <td>2.0</td>\n",
              "      <td>2.0</td>\n",
              "      <td>2.0</td>\n",
              "      <td>1.0</td>\n",
              "      <td>2.0</td>\n",
              "    </tr>\n",
              "    <tr>\n",
              "      <th>7</th>\n",
              "      <td>17809</td>\n",
              "      <td>United Kingdom</td>\n",
              "      <td>5411.91</td>\n",
              "      <td>450.99</td>\n",
              "      <td>23284</td>\n",
              "      <td>22624</td>\n",
              "      <td>22943</td>\n",
              "      <td>23312</td>\n",
              "      <td>84347</td>\n",
              "      <td>21523</td>\n",
              "      <td>48138</td>\n",
              "      <td>3.0</td>\n",
              "      <td>0.0</td>\n",
              "      <td>2.0</td>\n",
              "      <td>2.0</td>\n",
              "      <td>0.0</td>\n",
              "      <td>1.0</td>\n",
              "      <td>0.0</td>\n",
              "      <td>1.0</td>\n",
              "      <td>1.0</td>\n",
              "      <td>1.0</td>\n",
              "      <td>0.0</td>\n",
              "      <td>1.0</td>\n",
              "      <td>0.0</td>\n",
              "    </tr>\n",
              "    <tr>\n",
              "      <th>8</th>\n",
              "      <td>15311</td>\n",
              "      <td>United Kingdom</td>\n",
              "      <td>60767.90</td>\n",
              "      <td>667.78</td>\n",
              "      <td>85099B</td>\n",
              "      <td>22411</td>\n",
              "      <td>22386</td>\n",
              "      <td>21931</td>\n",
              "      <td>20712</td>\n",
              "      <td>85099C</td>\n",
              "      <td>21137</td>\n",
              "      <td>9.0</td>\n",
              "      <td>10.0</td>\n",
              "      <td>8.0</td>\n",
              "      <td>10.0</td>\n",
              "      <td>3.0</td>\n",
              "      <td>7.0</td>\n",
              "      <td>5.0</td>\n",
              "      <td>6.0</td>\n",
              "      <td>6.0</td>\n",
              "      <td>6.0</td>\n",
              "      <td>8.0</td>\n",
              "      <td>6.0</td>\n",
              "      <td>7.0</td>\n",
              "    </tr>\n",
              "    <tr>\n",
              "      <th>9</th>\n",
              "      <td>16098</td>\n",
              "      <td>United Kingdom</td>\n",
              "      <td>2005.63</td>\n",
              "      <td>286.52</td>\n",
              "      <td>22926</td>\n",
              "      <td>23094</td>\n",
              "      <td>22411</td>\n",
              "      <td>22782</td>\n",
              "      <td>22726</td>\n",
              "      <td>22381</td>\n",
              "      <td>22783</td>\n",
              "      <td>1.0</td>\n",
              "      <td>0.0</td>\n",
              "      <td>0.0</td>\n",
              "      <td>0.0</td>\n",
              "      <td>0.0</td>\n",
              "      <td>1.0</td>\n",
              "      <td>0.0</td>\n",
              "      <td>1.0</td>\n",
              "      <td>0.0</td>\n",
              "      <td>1.0</td>\n",
              "      <td>1.0</td>\n",
              "      <td>1.0</td>\n",
              "      <td>1.0</td>\n",
              "    </tr>\n",
              "    <tr>\n",
              "      <th>10</th>\n",
              "      <td>18074</td>\n",
              "      <td>United Kingdom</td>\n",
              "      <td>489.60</td>\n",
              "      <td>489.60</td>\n",
              "      <td>22470</td>\n",
              "      <td>22424</td>\n",
              "      <td>22469</td>\n",
              "      <td>22428</td>\n",
              "      <td>22457</td>\n",
              "      <td>84755</td>\n",
              "      <td>21340</td>\n",
              "      <td>1.0</td>\n",
              "      <td>0.0</td>\n",
              "      <td>0.0</td>\n",
              "      <td>0.0</td>\n",
              "      <td>0.0</td>\n",
              "      <td>0.0</td>\n",
              "      <td>0.0</td>\n",
              "      <td>0.0</td>\n",
              "      <td>0.0</td>\n",
              "      <td>0.0</td>\n",
              "      <td>0.0</td>\n",
              "      <td>0.0</td>\n",
              "      <td>0.0</td>\n",
              "    </tr>\n",
              "    <tr>\n",
              "      <th>11</th>\n",
              "      <td>17420</td>\n",
              "      <td>United Kingdom</td>\n",
              "      <td>598.83</td>\n",
              "      <td>199.61</td>\n",
              "      <td>22663</td>\n",
              "      <td>23103</td>\n",
              "      <td>22662</td>\n",
              "      <td>23253</td>\n",
              "      <td>22960</td>\n",
              "      <td>23065</td>\n",
              "      <td>21928</td>\n",
              "      <td>1.0</td>\n",
              "      <td>0.0</td>\n",
              "      <td>1.0</td>\n",
              "      <td>0.0</td>\n",
              "      <td>0.0</td>\n",
              "      <td>0.0</td>\n",
              "      <td>0.0</td>\n",
              "      <td>0.0</td>\n",
              "      <td>0.0</td>\n",
              "      <td>1.0</td>\n",
              "      <td>0.0</td>\n",
              "      <td>0.0</td>\n",
              "      <td>0.0</td>\n",
              "    </tr>\n",
              "    <tr>\n",
              "      <th>12</th>\n",
              "      <td>16029</td>\n",
              "      <td>United Kingdom</td>\n",
              "      <td>81024.84</td>\n",
              "      <td>1286.11</td>\n",
              "      <td>POST</td>\n",
              "      <td>22273</td>\n",
              "      <td>20971</td>\n",
              "      <td>22693</td>\n",
              "      <td>85099B</td>\n",
              "      <td>22386</td>\n",
              "      <td>22149</td>\n",
              "      <td>6.0</td>\n",
              "      <td>5.0</td>\n",
              "      <td>8.0</td>\n",
              "      <td>1.0</td>\n",
              "      <td>0.0</td>\n",
              "      <td>4.0</td>\n",
              "      <td>6.0</td>\n",
              "      <td>2.0</td>\n",
              "      <td>6.0</td>\n",
              "      <td>6.0</td>\n",
              "      <td>4.0</td>\n",
              "      <td>7.0</td>\n",
              "      <td>8.0</td>\n",
              "    </tr>\n",
              "    <tr>\n",
              "      <th>13</th>\n",
              "      <td>16250</td>\n",
              "      <td>United Kingdom</td>\n",
              "      <td>389.44</td>\n",
              "      <td>194.72</td>\n",
              "      <td>21754</td>\n",
              "      <td>-</td>\n",
              "      <td>21115</td>\n",
              "      <td>23183</td>\n",
              "      <td>22595</td>\n",
              "      <td>22242</td>\n",
              "      <td>-</td>\n",
              "      <td>1.0</td>\n",
              "      <td>0.0</td>\n",
              "      <td>0.0</td>\n",
              "      <td>0.0</td>\n",
              "      <td>0.0</td>\n",
              "      <td>0.0</td>\n",
              "      <td>1.0</td>\n",
              "      <td>0.0</td>\n",
              "      <td>0.0</td>\n",
              "      <td>0.0</td>\n",
              "      <td>0.0</td>\n",
              "      <td>0.0</td>\n",
              "      <td>0.0</td>\n",
              "    </tr>\n",
              "    <tr>\n",
              "      <th>14</th>\n",
              "      <td>12431</td>\n",
              "      <td>Australia</td>\n",
              "      <td>6487.45</td>\n",
              "      <td>432.50</td>\n",
              "      <td>21731</td>\n",
              "      <td>23084</td>\n",
              "      <td>48138</td>\n",
              "      <td>79067</td>\n",
              "      <td>23284</td>\n",
              "      <td>22726</td>\n",
              "      <td>-</td>\n",
              "      <td>2.0</td>\n",
              "      <td>1.0</td>\n",
              "      <td>3.0</td>\n",
              "      <td>1.0</td>\n",
              "      <td>0.0</td>\n",
              "      <td>2.0</td>\n",
              "      <td>0.0</td>\n",
              "      <td>0.0</td>\n",
              "      <td>2.0</td>\n",
              "      <td>0.0</td>\n",
              "      <td>3.0</td>\n",
              "      <td>1.0</td>\n",
              "      <td>0.0</td>\n",
              "    </tr>\n",
              "  </tbody>\n",
              "</table>\n",
              "</div>"
            ],
            "text/plain": [
              "    customerid         country  total_amount  ...  2011_7 2011_8 2011_9\n",
              "0        17850  United Kingdom       5391.21  ...     0.0    0.0    0.0\n",
              "1        13047  United Kingdom       3237.54  ...     0.0    1.0    0.0\n",
              "2        12583          France       7281.38  ...     1.0    1.0    2.0\n",
              "3        13748  United Kingdom        948.25  ...     0.0    0.0    2.0\n",
              "4        15100  United Kingdom        876.00  ...     0.0    0.0    0.0\n",
              "5        15291  United Kingdom       4668.30  ...     0.0    0.0    1.0\n",
              "6        14688  United Kingdom       5630.87  ...     2.0    1.0    2.0\n",
              "7        17809  United Kingdom       5411.91  ...     0.0    1.0    0.0\n",
              "8        15311  United Kingdom      60767.90  ...     8.0    6.0    7.0\n",
              "9        16098  United Kingdom       2005.63  ...     1.0    1.0    1.0\n",
              "10       18074  United Kingdom        489.60  ...     0.0    0.0    0.0\n",
              "11       17420  United Kingdom        598.83  ...     0.0    0.0    0.0\n",
              "12       16029  United Kingdom      81024.84  ...     4.0    7.0    8.0\n",
              "13       16250  United Kingdom        389.44  ...     0.0    0.0    0.0\n",
              "14       12431       Australia       6487.45  ...     3.0    1.0    0.0\n",
              "\n",
              "[15 rows x 24 columns]"
            ]
          },
          "metadata": {},
          "execution_count": 5
        }
      ]
    },
    {
      "cell_type": "code",
      "metadata": {
        "id": "NEy1UweA9Izu"
      },
      "source": [
        "y = df['total_amount']"
      ],
      "execution_count": 6,
      "outputs": []
    },
    {
      "cell_type": "code",
      "metadata": {
        "id": "xq2qq6Yj9O5X"
      },
      "source": [
        "X = df.drop(columns=['customerid','total_amount'],axis=1)"
      ],
      "execution_count": 7,
      "outputs": []
    },
    {
      "cell_type": "code",
      "metadata": {
        "id": "Z6EhalJSBNZM"
      },
      "source": [
        "X_col_is_string= [_ for _ in X.columns if is_string_dtype(X[_])]"
      ],
      "execution_count": 8,
      "outputs": []
    },
    {
      "cell_type": "code",
      "metadata": {
        "colab": {
          "base_uri": "https://localhost:8080/"
        },
        "id": "4A-eptGBCBdU",
        "outputId": "37077836-e92b-4c71-efda-ba31389734d6"
      },
      "source": [
        "X_col_is_string"
      ],
      "execution_count": 9,
      "outputs": [
        {
          "output_type": "execute_result",
          "data": {
            "text/plain": [
              "['country',\n",
              " 'top_product_1',\n",
              " 'top_product_2',\n",
              " 'top_product_3',\n",
              " 'top_product_4',\n",
              " 'top_product_5',\n",
              " 'top_product_6',\n",
              " 'top_product_7']"
            ]
          },
          "metadata": {},
          "execution_count": 9
        }
      ]
    },
    {
      "cell_type": "code",
      "metadata": {
        "id": "vyczI-PQ9HPX"
      },
      "source": [
        "x_train, x_test, y_train, y_test = train_test_split(X, y, test_size=0.3,  random_state=42)"
      ],
      "execution_count": 10,
      "outputs": []
    },
    {
      "cell_type": "code",
      "metadata": {
        "id": "it8HqWbqAKWl"
      },
      "source": [
        "train_pool = Pool(x_train, \n",
        "                  y_train, \n",
        "                  cat_features=X_col_is_string)\n",
        "test_pool = Pool(x_test, \n",
        "                 cat_features=X_col_is_string) "
      ],
      "execution_count": 11,
      "outputs": []
    },
    {
      "cell_type": "code",
      "metadata": {
        "id": "Wk5feSDq9-VG"
      },
      "source": [
        "model = CatBoostRegressor(verbose=100)"
      ],
      "execution_count": 12,
      "outputs": []
    },
    {
      "cell_type": "code",
      "metadata": {
        "colab": {
          "base_uri": "https://localhost:8080/"
        },
        "id": "sRIIxy-t-Hse",
        "outputId": "3fc188e2-a2be-4044-a335-ccbcdc712b85"
      },
      "source": [
        "model.fit(train_pool)"
      ],
      "execution_count": 13,
      "outputs": [
        {
          "output_type": "stream",
          "name": "stdout",
          "text": [
            "Learning rate set to 0.047564\n",
            "0:\tlearn: 10061.9343120\ttotal: 56.7ms\tremaining: 56.7s\n",
            "100:\tlearn: 2892.5485521\ttotal: 938ms\tremaining: 8.35s\n",
            "200:\tlearn: 1305.9739161\ttotal: 1.78s\tremaining: 7.09s\n",
            "300:\tlearn: 760.1677911\ttotal: 2.58s\tremaining: 5.99s\n",
            "400:\tlearn: 479.2561425\ttotal: 3.43s\tremaining: 5.13s\n",
            "500:\tlearn: 333.0066175\ttotal: 4.34s\tremaining: 4.32s\n",
            "600:\tlearn: 247.7674820\ttotal: 5.26s\tremaining: 3.49s\n",
            "700:\tlearn: 198.3606728\ttotal: 6.2s\tremaining: 2.64s\n",
            "800:\tlearn: 170.8018623\ttotal: 7.08s\tremaining: 1.76s\n",
            "900:\tlearn: 145.5483265\ttotal: 7.98s\tremaining: 877ms\n",
            "999:\tlearn: 128.0116497\ttotal: 8.86s\tremaining: 0us\n"
          ]
        },
        {
          "output_type": "execute_result",
          "data": {
            "text/plain": [
              "<catboost.core.CatBoostRegressor at 0x7fbcbcbc05d0>"
            ]
          },
          "metadata": {},
          "execution_count": 13
        }
      ]
    },
    {
      "cell_type": "code",
      "metadata": {
        "id": "IG9lvne8-KQ2"
      },
      "source": [
        "preds = model.predict(test_pool)"
      ],
      "execution_count": 14,
      "outputs": []
    },
    {
      "cell_type": "code",
      "metadata": {
        "colab": {
          "base_uri": "https://localhost:8080/"
        },
        "id": "3elhhE3B-Pj9",
        "outputId": "ef65aaf2-ea04-4d9f-e811-c720cb5517a7"
      },
      "source": [
        "print(\"MSE %.3f\" % mean_squared_error(preds, y_test.values))\n",
        "print(\"MAE %.3f\" % mean_absolute_error(preds, y_test.values))"
      ],
      "execution_count": 15,
      "outputs": [
        {
          "output_type": "stream",
          "name": "stdout",
          "text": [
            "MSE 3051177.044\n",
            "MAE 277.065\n"
          ]
        }
      ]
    }
  ]
}