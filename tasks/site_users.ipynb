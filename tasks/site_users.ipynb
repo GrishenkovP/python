{
 "cells": [
  {
   "cell_type": "code",
   "execution_count": 30,
   "metadata": {},
   "outputs": [],
   "source": [
    "import pandas as pd\n",
    "import matplotlib.pyplot as plt\n",
    "%matplotlib inline"
   ]
  },
  {
   "cell_type": "code",
   "execution_count": 2,
   "metadata": {},
   "outputs": [],
   "source": [
    "contacts = pd.read_csv('C:/Users/Pavel/Downloads/filter_explore_contacts.csv', sep='\\s+', \n",
    "                       dtype={\"region_id\":str, \"user_id\":str, \"search_id\":str, \"categoty_id\":str, \"subcategory_id\":str,\n",
    "                             \"cnt\":int})"
   ]
  },
  {
   "cell_type": "code",
   "execution_count": 3,
   "metadata": {},
   "outputs": [],
   "source": [
    "views = pd.read_csv('C:/Users/Pavel/Downloads/filter_explore_views.csv', sep='\\s+', \n",
    "                    dtype={\"region_id\":str, \"user_id\":str, \"search_id\":str, \"categoty_id\":str, \"subcategory_id\":str,\n",
    "                             \"cnt\":int})"
   ]
  },
  {
   "cell_type": "code",
   "execution_count": 4,
   "metadata": {},
   "outputs": [],
   "source": [
    "searches = pd.read_csv('C:/Users/Pavel/Downloads/filter_explore_searches.csv', sep='\\s+',\n",
    "                       dtype={\"region_id\":str, \"user_id\":str, \"search_id\":str, \"categoty_id\":str, \"subcategory_id\":str,\n",
    "                             \"default\":str, \"use_category\":str,\"search_text\":str,\"price_filter\":str,\n",
    "                             \"bs_filter\":str, \"discount_filter\":str, \"delivery_filter\":str, \"distance_filter\":str,\n",
    "                             \"publication_filter\":str,\"use_properties\":str, \"sorting_published\":str,\n",
    "                             \"sorting_distance\":str,\"sorting_price\":str })"
   ]
  },
  {
   "cell_type": "code",
   "execution_count": 5,
   "metadata": {},
   "outputs": [],
   "source": [
    "df = pd.merge(searches,views, how=\"left\", on=\"search_id\")"
   ]
  },
  {
   "cell_type": "code",
   "execution_count": 6,
   "metadata": {},
   "outputs": [],
   "source": [
    "df = df.drop(columns=[\"region_id_y\",\"user_id_y\",\"category_id_y\",\"subcategory_id_y\"])\n",
    "df = df.rename(columns={'region_id_x':'region_id','user_id_x':'user_id',\"category_id_x\":'category_id','subcategory_id_x':\"subcategory_id\",\"cnt\":\"cnt_v\"})"
   ]
  },
  {
   "cell_type": "code",
   "execution_count": 7,
   "metadata": {},
   "outputs": [],
   "source": [
    "df = pd.merge(df,contacts, how=\"left\", on=\"search_id\")"
   ]
  },
  {
   "cell_type": "code",
   "execution_count": 8,
   "metadata": {},
   "outputs": [],
   "source": [
    "df = df.drop(columns=[\"region_id_y\",\"user_id_y\",\"category_id_y\",\"subcategory_id_y\"])\n",
    "df = df.rename(columns={'region_id_x':'region_id','user_id_x':'user_id',\"category_id_x\":'category_id','subcategory_id_x':\"subcategory_id\",\"cnt\":\"cnt_c\"})"
   ]
  },
  {
   "cell_type": "code",
   "execution_count": 9,
   "metadata": {},
   "outputs": [],
   "source": [
    "# Заменяем значения NaN - 0, 1,0 - 1, other - 2\n",
    "df=df.fillna(0)\n",
    "df = df.replace('1,0', 1)\n",
    "df = df.replace('other', 2)"
   ]
  },
  {
   "cell_type": "code",
   "execution_count": 10,
   "metadata": {},
   "outputs": [],
   "source": [
    "# Меняем тип столбцов cnt_v, cnt_c\n",
    "df['cnt_v'] = df['cnt_v'].astype('int')\n",
    "df['cnt_c'] = df['cnt_c'].astype('int')"
   ]
  },
  {
   "cell_type": "code",
   "execution_count": 13,
   "metadata": {},
   "outputs": [],
   "source": [
    "df = df.groupby(by=['user_id']).agg({'search_id':'count','cnt_v':'sum','cnt_c':'sum'})"
   ]
  },
  {
   "cell_type": "code",
   "execution_count": 16,
   "metadata": {},
   "outputs": [],
   "source": [
    "#Нет открытия карточки объявления и нет контакта\n",
    "df0=df[(df['cnt_v']==0)&(df['cnt_c']==0)]\n",
    "#Есть открытие карточки объявления, но нет контакта\n",
    "df1=df[(df['cnt_v']!=0)&(df['cnt_c']==0)]\n",
    "#Есть открытие карточки объявления и есть контакт\n",
    "df2=df[(df['cnt_v']!=0)&(df['cnt_c']!=0)]\n",
    "#Нет открытия карточки объявления, но есть контакт\n",
    "df3=df[(df['cnt_v']==0)&(df['cnt_c']!=0)]"
   ]
  },
  {
   "cell_type": "code",
   "execution_count": 22,
   "metadata": {},
   "outputs": [
    {
     "name": "stdout",
     "output_type": "stream",
     "text": [
      "299420\n",
      "217348\n",
      "20914\n",
      "11\n"
     ]
    }
   ],
   "source": [
    "#Выводим количество пользователей по датасетам\n",
    "print(df0.shape[0])\n",
    "print(df1.shape[0])\n",
    "print(df2.shape[0])\n",
    "print(df3.shape[0])"
   ]
  },
  {
   "cell_type": "code",
   "execution_count": 41,
   "metadata": {},
   "outputs": [
    {
     "name": "stdout",
     "output_type": "stream",
     "text": [
      "*******  df0  *******\n",
      "count    299420.000000\n",
      "mean          3.340819\n",
      "std           4.314501\n",
      "min           1.000000\n",
      "25%           1.000000\n",
      "50%           2.000000\n",
      "75%           4.000000\n",
      "max         337.000000\n",
      "Name: search_id, dtype: float64\n",
      "*******  df1  *******\n",
      "count    217348.000000\n",
      "mean          9.541454\n",
      "std          10.995066\n",
      "min           1.000000\n",
      "25%           3.000000\n",
      "50%           6.000000\n",
      "75%          12.000000\n",
      "max         341.000000\n",
      "Name: search_id, dtype: float64\n",
      "*******  df2  *******\n",
      "count    20914.000000\n",
      "mean        19.087740\n",
      "std         22.150878\n",
      "min          1.000000\n",
      "25%          6.000000\n",
      "50%         12.000000\n",
      "75%         24.000000\n",
      "max        745.000000\n",
      "Name: search_id, dtype: float64\n",
      "*******  df3  *******\n",
      "count    11.000000\n",
      "mean      8.272727\n",
      "std       7.363300\n",
      "min       1.000000\n",
      "25%       2.500000\n",
      "50%       7.000000\n",
      "75%       8.500000\n",
      "max      23.000000\n",
      "Name: search_id, dtype: float64\n"
     ]
    }
   ],
   "source": [
    "print('*******  df0  *******')\n",
    "print(df0['search_id'].describe())\n",
    "print('*******  df1  *******')\n",
    "print(df1['search_id'].describe())\n",
    "print('*******  df2  *******')\n",
    "print(df2['search_id'].describe())\n",
    "print('*******  df3  *******')\n",
    "print(df3['search_id'].describe())"
   ]
  },
  {
   "cell_type": "code",
   "execution_count": null,
   "metadata": {},
   "outputs": [],
   "source": []
  }
 ],
 "metadata": {
  "kernelspec": {
   "display_name": "Python 3",
   "language": "python",
   "name": "python3"
  },
  "language_info": {
   "codemirror_mode": {
    "name": "ipython",
    "version": 3
   },
   "file_extension": ".py",
   "mimetype": "text/x-python",
   "name": "python",
   "nbconvert_exporter": "python",
   "pygments_lexer": "ipython3",
   "version": "3.7.3"
  }
 },
 "nbformat": 4,
 "nbformat_minor": 2
}
