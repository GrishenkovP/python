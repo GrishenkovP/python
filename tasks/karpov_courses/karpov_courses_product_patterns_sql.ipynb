{
  "nbformat": 4,
  "nbformat_minor": 0,
  "metadata": {
    "colab": {
      "name": "karpov_courses_product_patterns_sql.ipynb",
      "provenance": [],
      "collapsed_sections": []
    },
    "kernelspec": {
      "name": "python3",
      "display_name": "Python 3"
    },
    "language_info": {
      "name": "python"
    }
  },
  "cells": [
    {
      "cell_type": "markdown",
      "source": [
        "# Подсчет частотности пар товаров в продуктовых чеках"
      ],
      "metadata": {
        "id": "5_u3vFzJCJFB"
      }
    },
    {
      "cell_type": "markdown",
      "source": [
        "В файле содержится информация о покупках людей.\n",
        "\n",
        "* id – означает покупку (в одну покупку входят все товары, купленные пользователем во время 1 похода в магазин)\n",
        "* Товар – наименование товара\n",
        "* Количество – число единиц купленного товара\n",
        "\n",
        "Воспользуйтесь этими данными и выясните, какие пары товаров пользователи чаще всего покупают вместе. По сути, вам необходимо найти паттерны покупок, что позволит оптимизировать размещение продуктов в магазине, для удобства пользователей и увеличения выручки."
      ],
      "metadata": {
        "id": "rd4RXSzcCK0e"
      }
    },
    {
      "cell_type": "code",
      "execution_count": null,
      "metadata": {
        "id": "AOe-WJM5gyXr"
      },
      "outputs": [],
      "source": [
        "%%capture\n",
        "# Install postgresql server\n",
        "!sudo apt-get -y -qq update\n",
        "!sudo apt-get -y -qq install postgresql\n",
        "!sudo service postgresql start\n",
        "\n",
        "# Setup a password `postgres` for username `postgres`\n",
        "!sudo -u postgres psql -U postgres -c \"ALTER USER postgres PASSWORD 'postgres';\"\n",
        "\n",
        "# Setup a database with name `tfio_demo` to be used\n",
        "!sudo -u postgres psql -U postgres -c 'DROP DATABASE IF EXISTS db;'\n",
        "!sudo -u postgres psql -U postgres -c 'CREATE DATABASE db;'"
      ]
    },
    {
      "cell_type": "code",
      "source": [
        "import pandas as pd\n",
        "from sqlalchemy import create_engine"
      ],
      "metadata": {
        "id": "qYIf6wizhO_s"
      },
      "execution_count": null,
      "outputs": []
    },
    {
      "cell_type": "code",
      "source": [
        "user = 'postgres'\n",
        "password = 'postgres'\n",
        "host = 'localhost'\n",
        "post = 5432\n",
        "name = 'db'"
      ],
      "metadata": {
        "id": "GNPfsbqahkJ1"
      },
      "execution_count": null,
      "outputs": []
    },
    {
      "cell_type": "code",
      "source": [
        "point = 'postgresql://{}:{}@{}:{}/{}'.format(user, password, host, post, name)"
      ],
      "metadata": {
        "id": "9kLU5BjXhmvr"
      },
      "execution_count": null,
      "outputs": []
    },
    {
      "cell_type": "code",
      "source": [
        "con = create_engine(point)"
      ],
      "metadata": {
        "id": "m5r3UgkzhoED"
      },
      "execution_count": null,
      "outputs": []
    },
    {
      "cell_type": "code",
      "source": [
        "df_test = pd.read_csv('/content/data_two_columns.csv')"
      ],
      "metadata": {
        "id": "s1KxPdP0h3pM"
      },
      "execution_count": null,
      "outputs": []
    },
    {
      "cell_type": "code",
      "source": [
        "df_test.shape"
      ],
      "metadata": {
        "colab": {
          "base_uri": "https://localhost:8080/"
        },
        "id": "i0dByLYI0r_m",
        "outputId": "284d9c55-657d-4ca7-d766-d69041ffd4a5"
      },
      "execution_count": null,
      "outputs": [
        {
          "output_type": "execute_result",
          "data": {
            "text/plain": [
              "(541909, 2)"
            ]
          },
          "metadata": {},
          "execution_count": 97
        }
      ]
    },
    {
      "cell_type": "code",
      "source": [
        "df_test.to_sql(\"sales_test\", con, if_exists='replace', index=False, method='multi')"
      ],
      "metadata": {
        "id": "3eitYyOfnOQR"
      },
      "execution_count": null,
      "outputs": []
    },
    {
      "cell_type": "code",
      "source": [
        "def select_postgresql(sql):\n",
        "    return pd.read_sql(sql, con)"
      ],
      "metadata": {
        "id": "rfKnCWLniHC8"
      },
      "execution_count": null,
      "outputs": []
    },
    {
      "cell_type": "code",
      "source": [
        "sql = \"\"\"select s.* from sales_test as s limit 10\"\"\""
      ],
      "metadata": {
        "id": "fqoR2rY3tx7H"
      },
      "execution_count": null,
      "outputs": []
    },
    {
      "cell_type": "code",
      "source": [
        "print(select_postgresql(sql))"
      ],
      "metadata": {
        "colab": {
          "base_uri": "https://localhost:8080/"
        },
        "id": "K4tGKMSvt3rG",
        "outputId": "e283fbe2-93a8-4258-f7bf-648ebae3c46e"
      },
      "execution_count": null,
      "outputs": [
        {
          "output_type": "stream",
          "name": "stdout",
          "text": [
            "  invoiceno stockcode\n",
            "0    536365    85123A\n",
            "1    536365     71053\n",
            "2    536365    84406B\n",
            "3    536365    84029G\n",
            "4    536365    84029E\n",
            "5    536365     22752\n",
            "6    536365     21730\n",
            "7    536366     22633\n",
            "8    536366     22632\n",
            "9    536367     84879\n"
          ]
        }
      ]
    },
    {
      "cell_type": "code",
      "source": [
        "sql = \"\"\"with tbl_no_duplicates as (select s.invoiceno, \n",
        "                                          s.stockcode \n",
        "                                    from sales_test as s \n",
        "                                    group by s.invoiceno, \n",
        "                                            s.stockcode),\n",
        "      \n",
        "             tbl_list_code_combinations as (select t.invoiceno, (select array_agg(concat(cast(t1.* as text),', ',cast(t2.* as text)))\n",
        "                                      from unnest(array_agg(t.stockcode)) as t1 \n",
        "                                                        cross join unnest(array_agg(t.stockcode)) as t2\n",
        "                                      where t1.* < t2.*) as agg\n",
        "                                        from tbl_no_duplicates as t\n",
        "                                        group by t.invoiceno)\n",
        "\n",
        "select unnest(t.agg) as couple_stockcode, count(*)\n",
        "from tbl_list_code_combinations as t\n",
        " group by  unnest(t.agg) \n",
        " order by count(*) desc\n",
        " limit 10\"\"\""
      ],
      "metadata": {
        "id": "relKxq5OwmHB"
      },
      "execution_count": null,
      "outputs": []
    },
    {
      "cell_type": "code",
      "source": [
        "%%time\n",
        "print(select_postgresql(sql))"
      ],
      "metadata": {
        "colab": {
          "base_uri": "https://localhost:8080/"
        },
        "id": "OLXC-SpNwo4Q",
        "outputId": "5569d47f-4eb6-4248-e8fe-fb5239faede6"
      },
      "execution_count": null,
      "outputs": [
        {
          "output_type": "stream",
          "name": "stdout",
          "text": [
            "  couple_stockcode  count\n",
            "0    22386, 85099B    833\n",
            "1     22697, 22699    784\n",
            "2    21931, 85099B    733\n",
            "3    22411, 85099B    683\n",
            "4     20725, 22383    663\n",
            "5     20725, 20727    648\n",
            "6     22726, 22727    646\n",
            "7     22697, 22698    644\n",
            "8     22698, 22699    614\n",
            "9     20725, 22384    613\n",
            "CPU times: user 289 ms, sys: 35.4 ms, total: 324 ms\n",
            "Wall time: 51.6 s\n"
          ]
        }
      ]
    }
  ]
}
