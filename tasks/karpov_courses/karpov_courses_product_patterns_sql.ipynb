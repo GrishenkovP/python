{
  "nbformat": 4,
  "nbformat_minor": 0,
  "metadata": {
    "colab": {
      "name": "karpov_courses_product_patterns_sql.ipynb",
      "provenance": [],
      "collapsed_sections": []
    },
    "kernelspec": {
      "name": "python3",
      "display_name": "Python 3"
    },
    "language_info": {
      "name": "python"
    }
  },
  "cells": [
    {
      "cell_type": "markdown",
      "source": [
        "# Подсчет частотности пар товаров в продуктовых чеках"
      ],
      "metadata": {
        "id": "5_u3vFzJCJFB"
      }
    },
    {
      "cell_type": "markdown",
      "source": [
        "В файле содержится информация о покупках людей.\n",
        "\n",
        "* id – означает покупку (в одну покупку входят все товары, купленные пользователем во время 1 похода в магазин)\n",
        "* Товар – наименование товара\n",
        "* Количество – число единиц купленного товара\n",
        "\n",
        "Воспользуйтесь этими данными и выясните, какие пары товаров пользователи чаще всего покупают вместе. По сути, вам необходимо найти паттерны покупок, что позволит оптимизировать размещение продуктов в магазине, для удобства пользователей и увеличения выручки."
      ],
      "metadata": {
        "id": "rd4RXSzcCK0e"
      }
    },
    {
      "cell_type": "markdown",
      "source": [
        "# **Худший вариант по производительности. Не получилось провести необходимые вычисления на всем массиве данных за разумный отрезок времени!**"
      ],
      "metadata": {
        "id": "5jo_Xt2eG_6M"
      }
    },
    {
      "cell_type": "code",
      "execution_count": 1,
      "metadata": {
        "id": "AOe-WJM5gyXr"
      },
      "outputs": [],
      "source": [
        "%%capture\n",
        "# Install postgresql server\n",
        "!sudo apt-get -y -qq update\n",
        "!sudo apt-get -y -qq install postgresql\n",
        "!sudo service postgresql start\n",
        "\n",
        "# Setup a password `postgres` for username `postgres`\n",
        "!sudo -u postgres psql -U postgres -c \"ALTER USER postgres PASSWORD 'postgres';\"\n",
        "\n",
        "# Setup a database with name `tfio_demo` to be used\n",
        "!sudo -u postgres psql -U postgres -c 'DROP DATABASE IF EXISTS db;'\n",
        "!sudo -u postgres psql -U postgres -c 'CREATE DATABASE db;'"
      ]
    },
    {
      "cell_type": "code",
      "source": [
        "import pandas as pd\n",
        "from sqlalchemy import create_engine"
      ],
      "metadata": {
        "id": "qYIf6wizhO_s"
      },
      "execution_count": 2,
      "outputs": []
    },
    {
      "cell_type": "code",
      "source": [
        "user = 'postgres'\n",
        "password = 'postgres'\n",
        "host = 'localhost'\n",
        "post = 5432\n",
        "name = 'db'"
      ],
      "metadata": {
        "id": "GNPfsbqahkJ1"
      },
      "execution_count": 3,
      "outputs": []
    },
    {
      "cell_type": "code",
      "source": [
        "point = 'postgresql://{}:{}@{}:{}/{}'.format(user, password, host, post, name)"
      ],
      "metadata": {
        "id": "9kLU5BjXhmvr"
      },
      "execution_count": 4,
      "outputs": []
    },
    {
      "cell_type": "code",
      "source": [
        "con = create_engine(point)"
      ],
      "metadata": {
        "id": "m5r3UgkzhoED",
        "colab": {
          "base_uri": "https://localhost:8080/"
        },
        "outputId": "fbf2ef1d-9cee-4c75-cbdd-fd55ee8a4f51"
      },
      "execution_count": 5,
      "outputs": [
        {
          "output_type": "stream",
          "name": "stderr",
          "text": [
            "/usr/local/lib/python3.7/dist-packages/psycopg2/__init__.py:144: UserWarning: The psycopg2 wheel package will be renamed from release 2.8; in order to keep installing from binary please use \"pip install psycopg2-binary\" instead. For details see: <http://initd.org/psycopg/docs/install.html#binary-install-from-pypi>.\n",
            "  \"\"\")\n"
          ]
        }
      ]
    },
    {
      "cell_type": "code",
      "source": [
        "df_test = pd.read_csv('/content/data_two_columns.csv')"
      ],
      "metadata": {
        "id": "s1KxPdP0h3pM"
      },
      "execution_count": 167,
      "outputs": []
    },
    {
      "cell_type": "code",
      "source": [
        "df_test = df_test.iloc[:1000]"
      ],
      "metadata": {
        "id": "amUEGOKC-_tJ"
      },
      "execution_count": 168,
      "outputs": []
    },
    {
      "cell_type": "code",
      "source": [
        "df_test.to_sql(\"sales_test\", con, if_exists='replace', index=False, method='multi')"
      ],
      "metadata": {
        "id": "3eitYyOfnOQR"
      },
      "execution_count": 169,
      "outputs": []
    },
    {
      "cell_type": "code",
      "source": [
        "def select_postgresql(sql):\n",
        "    return pd.read_sql(sql, con)"
      ],
      "metadata": {
        "id": "rfKnCWLniHC8"
      },
      "execution_count": 170,
      "outputs": []
    },
    {
      "cell_type": "code",
      "source": [
        "sql = \"\"\"select s.* from sales_test as s limit 10\"\"\""
      ],
      "metadata": {
        "id": "fqoR2rY3tx7H"
      },
      "execution_count": 171,
      "outputs": []
    },
    {
      "cell_type": "code",
      "source": [
        "print(select_postgresql(sql))"
      ],
      "metadata": {
        "colab": {
          "base_uri": "https://localhost:8080/"
        },
        "id": "K4tGKMSvt3rG",
        "outputId": "ca480500-2de4-4e54-ec71-8ecc694504bd"
      },
      "execution_count": 172,
      "outputs": [
        {
          "output_type": "stream",
          "name": "stdout",
          "text": [
            "  invoiceno stockcode\n",
            "0    536365    85123A\n",
            "1    536365     71053\n",
            "2    536365    84406B\n",
            "3    536365    84029G\n",
            "4    536365    84029E\n",
            "5    536365     22752\n",
            "6    536365     21730\n",
            "7    536366     22633\n",
            "8    536366     22632\n",
            "9    536367     84879\n"
          ]
        }
      ]
    },
    {
      "cell_type": "code",
      "source": [
        "sql = \"\"\"with tbl_stockcode as (select distinct s.stockcode from sales_test as s),\n",
        "\n",
        "              tbl_couple_codes as (select t1.stockcode as stockcode1, \n",
        "                                          t2.stockcode as stockcode2\n",
        "                                   from tbl_stockcode as t1 cross join tbl_stockcode as t2 \n",
        "                                   where t1.stockcode < t2.stockcode),\n",
        "\n",
        "              tbl_group_codes as (select t.list_stockcode\n",
        "                                  from (select s.invoiceno, array_agg(distinct s.stockcode) as list_stockcode\n",
        "                                       from sales_test as s\n",
        "                                       group by s.invoiceno) as t)\n",
        "\n",
        "              select t1.stockcode1, t1.stockcode2, count(t2.list_stockcode)\n",
        "              from tbl_couple_codes as t1 left join tbl_group_codes as t2\n",
        "                                                   on t1.stockcode1 = any(t2.list_stockcode) \n",
        "                                                      and t1.stockcode2 = any(t2.list_stockcode)\n",
        "              where t2.list_stockcode is not null\n",
        "              group by t1.stockcode1, t1.stockcode2\n",
        "              order by count(t2.list_stockcode) desc,\n",
        "                      t1.stockcode1, t1.stockcode2\n",
        "              limit 10;\"\"\""
      ],
      "metadata": {
        "id": "wThgCxk4mczU"
      },
      "execution_count": 173,
      "outputs": []
    },
    {
      "cell_type": "code",
      "source": [
        "%%time\n",
        "print(select_postgresql(sql))"
      ],
      "metadata": {
        "id": "dD0W0pM3pAy4",
        "colab": {
          "base_uri": "https://localhost:8080/"
        },
        "outputId": "db05b554-b68d-40bc-80d9-d7237ba93144"
      },
      "execution_count": 174,
      "outputs": [
        {
          "output_type": "stream",
          "name": "stdout",
          "text": [
            "  stockcode1 stockcode2  count\n",
            "0      22632      22633      8\n",
            "1     84029G     85123A      6\n",
            "2      21730      22752      5\n",
            "3      21730      71053      5\n",
            "4      21730     84029E      5\n",
            "5      21730     84029G      5\n",
            "6      21730     84406B      5\n",
            "7      21730     85123A      5\n",
            "8      22752      71053      5\n",
            "9      22752     84029E      5\n",
            "CPU times: user 44.9 ms, sys: 5.3 ms, total: 50.2 ms\n",
            "Wall time: 6.05 s\n"
          ]
        }
      ]
    },
    {
      "cell_type": "code",
      "source": [
        "sql = \"\"\"  DROP FUNCTION func_count(code1 text, code2 text);\n",
        "           CREATE OR REPLACE FUNCTION func_count(code1 text, code2 text)\n",
        "                        RETURNS bigint AS\n",
        "                 $BODY$\n",
        "                        \tselect count(s.invoiceno)\t\t\t\t\t\t \n",
        "                            from   (select s.invoiceno \n",
        "\t\t\t\t                            from sales_test  as s\n",
        "\t\t\t\t                            where s.stockcode = code1 or s.stockcode = code2\n",
        "\t\t\t\t                            group by s.invoiceno\n",
        "\t\t\t\t                            having count(distinct s.stockcode)>=2) as s;\n",
        "                 $BODY$\n",
        "                       LANGUAGE 'sql';\n",
        "\n",
        "          with tbl_stockcode_unique  as (select distinct s.stockcode\n",
        "      \t\t\t\t\t\t\t                    from sales_test as s),\n",
        "\t             tbl_stockcode_couple as (select t1.stockcode as stockcode1,\n",
        "\t\t\t\t\t\t\t                                t2.stockcode as stockcode2\n",
        "\t\t\t\t\t\t\t                        from tbl_stockcode_unique as t1 cross join tbl_stockcode_unique as t2\n",
        "\t\t\t\t\t\t\t                       where t1.stockcode < t2.stockcode)\n",
        "\n",
        "        select t.stockcode1, \n",
        "              t.stockcode2, \n",
        "              func_count(t.stockcode1, t.stockcode2) as total_amount\n",
        "        from  tbl_stockcode_couple as t\n",
        "        order by  func_count(t.stockcode1, t.stockcode2) desc,\n",
        "                  t.stockcode1, t.stockcode2            \n",
        "        limit 10\"\"\""
      ],
      "metadata": {
        "id": "lIZa2qYFYCfH"
      },
      "execution_count": 175,
      "outputs": []
    },
    {
      "cell_type": "code",
      "source": [
        "%%time\n",
        "print(select_postgresql(sql))"
      ],
      "metadata": {
        "colab": {
          "base_uri": "https://localhost:8080/"
        },
        "id": "bnCdOhfFYHR3",
        "outputId": "1a3a5e63-7ffd-4f23-8641-a946ac07e491"
      },
      "execution_count": 176,
      "outputs": [
        {
          "output_type": "stream",
          "name": "stdout",
          "text": [
            "  stockcode1 stockcode2  total_amount\n",
            "0      22632      22633             8\n",
            "1     84029G     85123A             6\n",
            "2      21730      22752             5\n",
            "3      21730      71053             5\n",
            "4      21730     84029E             5\n",
            "5      21730     84029G             5\n",
            "6      21730     84406B             5\n",
            "7      21730     85123A             5\n",
            "8      22752      71053             5\n",
            "9      22752     84029E             5\n",
            "CPU times: user 138 ms, sys: 17.6 ms, total: 156 ms\n",
            "Wall time: 26.2 s\n"
          ]
        }
      ]
    }
  ]
}
