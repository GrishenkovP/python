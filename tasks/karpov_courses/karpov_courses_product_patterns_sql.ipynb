{
  "nbformat": 4,
  "nbformat_minor": 0,
  "metadata": {
    "colab": {
      "name": "karpov_courses_product_patterns_sql.ipynb",
      "provenance": [],
      "collapsed_sections": []
    },
    "kernelspec": {
      "name": "python3",
      "display_name": "Python 3"
    },
    "language_info": {
      "name": "python"
    }
  },
  "cells": [
    {
      "cell_type": "markdown",
      "source": [
        "# Подсчет частотности пар товаров в продуктовых чеках"
      ],
      "metadata": {
        "id": "5_u3vFzJCJFB"
      }
    },
    {
      "cell_type": "markdown",
      "source": [
        "В файле содержится информация о покупках людей.\n",
        "\n",
        "* id – означает покупку (в одну покупку входят все товары, купленные пользователем во время 1 похода в магазин)\n",
        "* Товар – наименование товара\n",
        "* Количество – число единиц купленного товара\n",
        "\n",
        "Воспользуйтесь этими данными и выясните, какие пары товаров пользователи чаще всего покупают вместе. По сути, вам необходимо найти паттерны покупок, что позволит оптимизировать размещение продуктов в магазине, для удобства пользователей и увеличения выручки."
      ],
      "metadata": {
        "id": "rd4RXSzcCK0e"
      }
    },
    {
      "cell_type": "markdown",
      "source": [
        "# **Худший вариант по производительности. Не получилось провести необходимые вычисления на всем массиве данных за разумный отрезок времени!**"
      ],
      "metadata": {
        "id": "5jo_Xt2eG_6M"
      }
    },
    {
      "cell_type": "code",
      "execution_count": 1,
      "metadata": {
        "id": "AOe-WJM5gyXr"
      },
      "outputs": [],
      "source": [
        "%%capture\n",
        "# Install postgresql server\n",
        "!sudo apt-get -y -qq update\n",
        "!sudo apt-get -y -qq install postgresql\n",
        "!sudo service postgresql start\n",
        "\n",
        "# Setup a password `postgres` for username `postgres`\n",
        "!sudo -u postgres psql -U postgres -c \"ALTER USER postgres PASSWORD 'postgres';\"\n",
        "\n",
        "# Setup a database with name `tfio_demo` to be used\n",
        "!sudo -u postgres psql -U postgres -c 'DROP DATABASE IF EXISTS db;'\n",
        "!sudo -u postgres psql -U postgres -c 'CREATE DATABASE db;'"
      ]
    },
    {
      "cell_type": "code",
      "source": [
        "import pandas as pd\n",
        "from sqlalchemy import create_engine"
      ],
      "metadata": {
        "id": "qYIf6wizhO_s"
      },
      "execution_count": 2,
      "outputs": []
    },
    {
      "cell_type": "code",
      "source": [
        "user = 'postgres'\n",
        "password = 'postgres'\n",
        "host = 'localhost'\n",
        "post = 5432\n",
        "name = 'db'"
      ],
      "metadata": {
        "id": "GNPfsbqahkJ1"
      },
      "execution_count": 3,
      "outputs": []
    },
    {
      "cell_type": "code",
      "source": [
        "point = 'postgresql://{}:{}@{}:{}/{}'.format(user, password, host, post, name)"
      ],
      "metadata": {
        "id": "9kLU5BjXhmvr"
      },
      "execution_count": 4,
      "outputs": []
    },
    {
      "cell_type": "code",
      "source": [
        "con = create_engine(point)"
      ],
      "metadata": {
        "id": "m5r3UgkzhoED",
        "colab": {
          "base_uri": "https://localhost:8080/"
        },
        "outputId": "aa51bf0a-59ea-458e-c26d-8a4a70e83027"
      },
      "execution_count": 5,
      "outputs": [
        {
          "output_type": "stream",
          "name": "stderr",
          "text": [
            "/usr/local/lib/python3.7/dist-packages/psycopg2/__init__.py:144: UserWarning: The psycopg2 wheel package will be renamed from release 2.8; in order to keep installing from binary please use \"pip install psycopg2-binary\" instead. For details see: <http://initd.org/psycopg/docs/install.html#binary-install-from-pypi>.\n",
            "  \"\"\")\n"
          ]
        }
      ]
    },
    {
      "cell_type": "code",
      "source": [
        "# d = {'invoiceno': [1,1,1,1,2,2,3,3,3], 'stockcode': [2,1,3,3,4,5,3,1,5]}\n",
        "# df_test = pd.DataFrame(data=d)\n",
        "# df_test.to_sql(\"sales_test\", con, if_exists='replace', index=False, method='multi')"
      ],
      "metadata": {
        "id": "TiMvJFx6-pC8"
      },
      "execution_count": 6,
      "outputs": []
    },
    {
      "cell_type": "code",
      "source": [
        "df_test = pd.read_csv('/content/data_two_columns.csv')"
      ],
      "metadata": {
        "id": "s1KxPdP0h3pM"
      },
      "execution_count": 38,
      "outputs": []
    },
    {
      "cell_type": "code",
      "source": [
        "df_test.shape"
      ],
      "metadata": {
        "colab": {
          "base_uri": "https://localhost:8080/"
        },
        "id": "ObdI6eJB-6pm",
        "outputId": "19c4d769-52ef-4dae-9f06-9a82543b9ffb"
      },
      "execution_count": 39,
      "outputs": [
        {
          "output_type": "execute_result",
          "data": {
            "text/plain": [
              "(541909, 2)"
            ]
          },
          "metadata": {},
          "execution_count": 39
        }
      ]
    },
    {
      "cell_type": "code",
      "source": [
        "df_test = df_test.iloc[:5000]"
      ],
      "metadata": {
        "id": "amUEGOKC-_tJ"
      },
      "execution_count": 40,
      "outputs": []
    },
    {
      "cell_type": "code",
      "source": [
        "df_test.to_sql(\"sales_test\", con, if_exists='replace', index=False, method='multi')"
      ],
      "metadata": {
        "id": "3eitYyOfnOQR"
      },
      "execution_count": 41,
      "outputs": []
    },
    {
      "cell_type": "code",
      "source": [
        "def select_postgresql(sql):\n",
        "    return pd.read_sql(sql, con)"
      ],
      "metadata": {
        "id": "rfKnCWLniHC8"
      },
      "execution_count": 42,
      "outputs": []
    },
    {
      "cell_type": "code",
      "source": [
        "sql = \"\"\"select s.* from sales_test as s limit 10\"\"\""
      ],
      "metadata": {
        "id": "fqoR2rY3tx7H"
      },
      "execution_count": 43,
      "outputs": []
    },
    {
      "cell_type": "code",
      "source": [
        "print(select_postgresql(sql))"
      ],
      "metadata": {
        "colab": {
          "base_uri": "https://localhost:8080/"
        },
        "id": "K4tGKMSvt3rG",
        "outputId": "0557abc9-4628-4393-fbb7-5b43b31ba138"
      },
      "execution_count": 44,
      "outputs": [
        {
          "output_type": "stream",
          "name": "stdout",
          "text": [
            "  invoiceno stockcode\n",
            "0    536365    85123A\n",
            "1    536365     71053\n",
            "2    536365    84406B\n",
            "3    536365    84029G\n",
            "4    536365    84029E\n",
            "5    536365     22752\n",
            "6    536365     21730\n",
            "7    536366     22633\n",
            "8    536366     22632\n",
            "9    536367     84879\n"
          ]
        }
      ]
    },
    {
      "cell_type": "code",
      "source": [
        "sql = \"\"\"with tbl_stockcode as (select distinct s.stockcode from sales_test as s),\n",
        "\n",
        "              tbl_couple_codes as (select t1.stockcode as stockcode1, \n",
        "                                          t2.stockcode as stockcode2\n",
        "                                   from tbl_stockcode as t1 cross join tbl_stockcode as t2 \n",
        "                                   where t1.stockcode < t2.stockcode),\n",
        "\n",
        "              tbl_group_codes as (select t.list_stockcode\n",
        "                                  from (select s.invoiceno, array_agg(distinct s.stockcode) as list_stockcode\n",
        "                                       from sales_test as s\n",
        "                                       group by s.invoiceno) as t\n",
        "                                  group by t.list_stockcode)\n",
        "\n",
        "              select t1.stockcode1, t1.stockcode2, count(t2.list_stockcode)\n",
        "              from tbl_couple_codes as t1 left join tbl_group_codes as t2\n",
        "                                                   on t1.stockcode1 = any(t2.list_stockcode) \n",
        "                                                      and t1.stockcode2 = any(t2.list_stockcode)\n",
        "              where t2.list_stockcode is not null\n",
        "              group by t1.stockcode1, t1.stockcode2\n",
        "              order by count(t2.list_stockcode) desc\n",
        "              limit 10;\"\"\""
      ],
      "metadata": {
        "id": "wThgCxk4mczU"
      },
      "execution_count": 45,
      "outputs": []
    },
    {
      "cell_type": "code",
      "source": [
        "%%time\n",
        "print(select_postgresql(sql))"
      ],
      "metadata": {
        "id": "dD0W0pM3pAy4",
        "colab": {
          "base_uri": "https://localhost:8080/"
        },
        "outputId": "e2effe76-5dbd-4b73-d81e-5bc9ef211e6b"
      },
      "execution_count": 46,
      "outputs": [
        {
          "output_type": "stream",
          "name": "stdout",
          "text": [
            "  stockcode1 stockcode2  count\n",
            "0      22865      22866     17\n",
            "1     84029E     84029G     17\n",
            "2     84029E     85123A     16\n",
            "3     84029G     85123A     16\n",
            "4      71053     85123A     14\n",
            "5      22632      22865     14\n",
            "6      71053     84029G     13\n",
            "7      71053     84029E     13\n",
            "8      37370     84029E     13\n",
            "9      22086      22910     13\n",
            "CPU times: user 1.12 s, sys: 136 ms, total: 1.26 s\n",
            "Wall time: 3min 49s\n"
          ]
        }
      ]
    }
  ]
}