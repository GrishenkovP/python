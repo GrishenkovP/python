{
  "nbformat": 4,
  "nbformat_minor": 0,
  "metadata": {
    "colab": {
      "name": "karpov_courses_product_patterns_spark.ipynb",
      "provenance": [],
      "collapsed_sections": []
    },
    "kernelspec": {
      "name": "python3",
      "display_name": "Python 3"
    },
    "language_info": {
      "name": "python"
    }
  },
  "cells": [
    {
      "cell_type": "markdown",
      "source": [
        "# Подсчет частотности пар товаров в продуктовых чеках"
      ],
      "metadata": {
        "id": "CLctSgW4bX0D"
      }
    },
    {
      "cell_type": "markdown",
      "source": [
        "В файле содержится информация о покупках людей.\n",
        "\n",
        "* id – означает покупку (в одну покупку входят все товары, купленные пользователем во время 1 похода в магазин)\n",
        "* Товар – наименование товара\n",
        "* Количество – число единиц купленного товара\n",
        "\n",
        "Воспользуйтесь этими данными и выясните, какие пары товаров пользователи чаще всего покупают вместе. По сути, вам необходимо найти паттерны покупок, что позволит оптимизировать размещение продуктов в магазине, для удобства пользователей и увеличения выручки."
      ],
      "metadata": {
        "id": "lkco5pwqbZio"
      }
    },
    {
      "cell_type": "code",
      "execution_count": 1,
      "metadata": {
        "id": "oAGQ5r7pbK73"
      },
      "outputs": [],
      "source": [
        "%%capture\n",
        "!pip install pyspark"
      ]
    },
    {
      "cell_type": "code",
      "source": [
        "import itertools\n",
        "from typing import List\n",
        "\n",
        "from pyspark.sql import SparkSession\n",
        "from pyspark.sql import functions as F\n",
        "import pyspark.sql.types as T\n",
        "from pyspark.sql.functions import udf, col, size,explode"
      ],
      "metadata": {
        "id": "Qf08AVFHbvgw"
      },
      "execution_count": 2,
      "outputs": []
    },
    {
      "cell_type": "code",
      "source": [
        "spark = SparkSession.builder.master('local[*]').appName(\"SparkTest\").getOrCreate()"
      ],
      "metadata": {
        "id": "-2cIyhl4cCRI"
      },
      "execution_count": 3,
      "outputs": []
    },
    {
      "cell_type": "code",
      "source": [
        "df = spark.read.format('csv') \\\n",
        "                             .options(inferSchema='true', delimiter=',', header='true') \\\n",
        "                             .load('/content/data_two_columns.csv')"
      ],
      "metadata": {
        "id": "bK5amwipcTZx"
      },
      "execution_count": 4,
      "outputs": []
    },
    {
      "cell_type": "code",
      "source": [
        "df.show(5)"
      ],
      "metadata": {
        "colab": {
          "base_uri": "https://localhost:8080/"
        },
        "id": "JBEEwREwc5X_",
        "outputId": "c0f37138-4e0b-4781-b6be-a38ac70a929d"
      },
      "execution_count": 5,
      "outputs": [
        {
          "output_type": "stream",
          "name": "stdout",
          "text": [
            "+---------+---------+\n",
            "|invoiceno|stockcode|\n",
            "+---------+---------+\n",
            "|   536365|   85123A|\n",
            "|   536365|    71053|\n",
            "|   536365|   84406B|\n",
            "|   536365|   84029G|\n",
            "|   536365|   84029E|\n",
            "+---------+---------+\n",
            "only showing top 5 rows\n",
            "\n"
          ]
        }
      ]
    },
    {
      "cell_type": "code",
      "source": [
        "df.printSchema()"
      ],
      "metadata": {
        "colab": {
          "base_uri": "https://localhost:8080/"
        },
        "id": "koGJhrhTdVlR",
        "outputId": "6871c69d-4d78-4f47-c722-6cf29e94d34c"
      },
      "execution_count": 6,
      "outputs": [
        {
          "output_type": "stream",
          "name": "stdout",
          "text": [
            "root\n",
            " |-- invoiceno: string (nullable = true)\n",
            " |-- stockcode: string (nullable = true)\n",
            "\n"
          ]
        }
      ]
    },
    {
      "cell_type": "code",
      "source": [
        "df_group = df.groupBy('invoiceno').agg(F.collect_set('stockcode').alias('list_stockcode')).cache()"
      ],
      "metadata": {
        "id": "86ZniNIediKy"
      },
      "execution_count": 7,
      "outputs": []
    },
    {
      "cell_type": "code",
      "source": [
        "df_group.show(5)"
      ],
      "metadata": {
        "colab": {
          "base_uri": "https://localhost:8080/"
        },
        "id": "v8jVN7kDg7H3",
        "outputId": "42dff3f8-3d54-4911-b964-b1c03f292532"
      },
      "execution_count": 8,
      "outputs": [
        {
          "output_type": "stream",
          "name": "stdout",
          "text": [
            "+---------+--------------------+\n",
            "|invoiceno|      list_stockcode|\n",
            "+---------+--------------------+\n",
            "|   536596|[22900, 22114, 84...|\n",
            "|   536938|[22112, 21931, 84...|\n",
            "|   537252|             [22197]|\n",
            "|   537691|[22505, 46000R, 2...|\n",
            "|   538041|             [22145]|\n",
            "+---------+--------------------+\n",
            "only showing top 5 rows\n",
            "\n"
          ]
        }
      ]
    },
    {
      "cell_type": "code",
      "source": [
        "def create_combinations_stockcode(list_stockcode:List)->List: \n",
        " list_combinations = list(itertools.combinations(sorted(list_stockcode), 2))\n",
        " return [str(i[0])+'-'+str(i[1]) for i in list_combinations]"
      ],
      "metadata": {
        "id": "LpPpdjNhiSqX"
      },
      "execution_count": 9,
      "outputs": []
    },
    {
      "cell_type": "code",
      "source": [
        "combinations_stockcode_udf = udf(lambda x: create_combinations_stockcode(x),T.ArrayType(T.StringType())) "
      ],
      "metadata": {
        "id": "5V_mS15Ml7-F"
      },
      "execution_count": 10,
      "outputs": []
    },
    {
      "cell_type": "code",
      "source": [
        "df_group_combinations = df_group.withColumn(\"combinations_stockcode\", combinations_stockcode_udf(col(\"list_stockcode\")))\n",
        "df_group_combinations = df_group_combinations.withColumn(\"size_array\", size(df_group_combinations.combinations_stockcode))\n",
        "df_final = df_group_combinations.filter(df_group_combinations.size_array>0).select(df_group_combinations.combinations_stockcode)"
      ],
      "metadata": {
        "id": "EE-wEQIWmS2s"
      },
      "execution_count": 11,
      "outputs": []
    },
    {
      "cell_type": "code",
      "source": [
        "df_final.show(7)"
      ],
      "metadata": {
        "colab": {
          "base_uri": "https://localhost:8080/"
        },
        "id": "JbnCZIJ5x0kD",
        "outputId": "7010f560-c526-4182-fef5-f22e8cb0e5b1"
      },
      "execution_count": 12,
      "outputs": [
        {
          "output_type": "stream",
          "name": "stdout",
          "text": [
            "+----------------------+\n",
            "|combinations_stockcode|\n",
            "+----------------------+\n",
            "|  [21624-21967, 216...|\n",
            "|  [20712-20713, 207...|\n",
            "|  [20975-20981, 209...|\n",
            "|  [20979-21201, 209...|\n",
            "|  [18098C-20676, 18...|\n",
            "|  [20668-21080, 206...|\n",
            "|  [21914-21915, 219...|\n",
            "+----------------------+\n",
            "only showing top 7 rows\n",
            "\n"
          ]
        }
      ]
    },
    {
      "cell_type": "code",
      "source": [
        "df_final.printSchema()"
      ],
      "metadata": {
        "colab": {
          "base_uri": "https://localhost:8080/"
        },
        "id": "l5nDeURfyodH",
        "outputId": "8fce7657-ca74-4a6c-ff25-9f22178418b5"
      },
      "execution_count": 13,
      "outputs": [
        {
          "output_type": "stream",
          "name": "stdout",
          "text": [
            "root\n",
            " |-- combinations_stockcode: array (nullable = true)\n",
            " |    |-- element: string (containsNull = true)\n",
            "\n"
          ]
        }
      ]
    },
    {
      "cell_type": "code",
      "source": [
        "%%time\n",
        "df_final.select(explode(col('combinations_stockcode')).alias(\"combination_stockcode\")) \\\n",
        "        .groupBy('combination_stockcode') \\\n",
        "        .count() \\\n",
        "        .sort(col(\"count\").desc()) \\\n",
        "        .show()"
      ],
      "metadata": {
        "colab": {
          "base_uri": "https://localhost:8080/"
        },
        "id": "Om3KiGjm2ceN",
        "outputId": "aaee4e51-d5ce-49ed-9079-549210727666"
      },
      "execution_count": 14,
      "outputs": [
        {
          "output_type": "stream",
          "name": "stdout",
          "text": [
            "+---------------------+-----+\n",
            "|combination_stockcode|count|\n",
            "+---------------------+-----+\n",
            "|         22386-85099B|  833|\n",
            "|          22697-22699|  784|\n",
            "|         21931-85099B|  733|\n",
            "|         22411-85099B|  683|\n",
            "|          20725-22383|  663|\n",
            "|          20725-20727|  648|\n",
            "|          22726-22727|  646|\n",
            "|          22697-22698|  644|\n",
            "|          22698-22699|  614|\n",
            "|          20725-22384|  613|\n",
            "|        85099B-85099C|  593|\n",
            "|         20725-85099B|  588|\n",
            "|          20727-22383|  587|\n",
            "|         23203-85099B|  582|\n",
            "|          20725-22382|  563|\n",
            "|          20725-20728|  562|\n",
            "|          22086-22910|  555|\n",
            "|         23199-85099B|  555|\n",
            "|          23300-23301|  549|\n",
            "|          20727-22384|  547|\n",
            "+---------------------+-----+\n",
            "only showing top 20 rows\n",
            "\n",
            "CPU times: user 1.09 s, sys: 121 ms, total: 1.22 s\n",
            "Wall time: 3min 34s\n"
          ]
        }
      ]
    }
  ]
}