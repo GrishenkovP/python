{
  "nbformat": 4,
  "nbformat_minor": 0,
  "metadata": {
    "colab": {
      "name": "avito_tech_matrix.ipynb",
      "provenance": [],
      "collapsed_sections": []
    },
    "kernelspec": {
      "name": "python3",
      "display_name": "Python 3"
    },
    "language_info": {
      "name": "python"
    }
  },
  "cells": [
    {
      "cell_type": "code",
      "execution_count": 1,
      "metadata": {
        "id": "T_mW0VcvBMkh"
      },
      "outputs": [],
      "source": [
        "import numpy as np\n",
        "import pandas as pd"
      ]
    },
    {
      "cell_type": "code",
      "source": [
        "path_file = 'https://raw.githubusercontent.com/avito-tech/python-trainee-assignment/main/matrix.txt'"
      ],
      "metadata": {
        "id": "ScQtyW_BbP_L"
      },
      "execution_count": 2,
      "outputs": []
    },
    {
      "cell_type": "code",
      "source": [
        "df = pd.read_csv(path_file, sep='|', skiprows = 1, header = None)"
      ],
      "metadata": {
        "id": "Z3jE_1Z0MibK"
      },
      "execution_count": 3,
      "outputs": []
    },
    {
      "cell_type": "code",
      "source": [
        "df_np = df.iloc[::2].iloc[:, 1:-1].to_numpy()"
      ],
      "metadata": {
        "id": "CT0bCV0qMnRy"
      },
      "execution_count": 4,
      "outputs": []
    },
    {
      "cell_type": "code",
      "source": [
        "list_val_matrix = []"
      ],
      "metadata": {
        "id": "0B055hh6Uyuf"
      },
      "execution_count": 5,
      "outputs": []
    },
    {
      "cell_type": "code",
      "source": [
        "while len(df_np) > 0:\n",
        "  [list_val_matrix.append(n) for n in df_np[:, 0]]\n",
        "  df_np = np.delete(df_np, np.s_[0], axis=1)  \n",
        "  df_np = np.rot90(df_np, k = -1)"
      ],
      "metadata": {
        "id": "ZnAzvE_iTMoE"
      },
      "execution_count": 6,
      "outputs": []
    },
    {
      "cell_type": "code",
      "source": [
        "list_val_matrix"
      ],
      "metadata": {
        "colab": {
          "base_uri": "https://localhost:8080/"
        },
        "id": "gL4SE-m8VSgf",
        "outputId": "08b9da81-70a8-4fbd-8684-f057d193c636"
      },
      "execution_count": 7,
      "outputs": [
        {
          "output_type": "execute_result",
          "data": {
            "text/plain": [
              "[10.0,\n",
              " 50.0,\n",
              " 90.0,\n",
              " 130.0,\n",
              " 140.0,\n",
              " 150.0,\n",
              " 160.0,\n",
              " 120.0,\n",
              " 80.0,\n",
              " 40.0,\n",
              " 30.0,\n",
              " 20.0,\n",
              " 60.0,\n",
              " 100.0,\n",
              " 110.0,\n",
              " 70.0]"
            ]
          },
          "metadata": {},
          "execution_count": 7
        }
      ]
    }
  ]
}