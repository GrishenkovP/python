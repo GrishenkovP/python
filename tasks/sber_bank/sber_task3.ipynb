{
  "nbformat": 4,
  "nbformat_minor": 0,
  "metadata": {
    "colab": {
      "provenance": []
    },
    "kernelspec": {
      "name": "python3",
      "display_name": "Python 3"
    },
    "language_info": {
      "name": "python"
    }
  },
  "cells": [
    {
      "cell_type": "markdown",
      "source": [
        "## Кейс 3"
      ],
      "metadata": {
        "id": "FpFibfxZbuW3"
      }
    },
    {
      "cell_type": "code",
      "execution_count": 1,
      "metadata": {
        "id": "Cy0a1dXXbl_9"
      },
      "outputs": [],
      "source": [
        "import numpy as np\n",
        "import pandas as pd\n",
        "import datetime as dt\n",
        "import copy\n",
        "from datetime import date"
      ]
    },
    {
      "cell_type": "code",
      "source": [
        "pd.set_option('display.max_columns', None)\n",
        "pd.set_option('display.expand_frame_repr', False)\n",
        "pd.set_option('display.max_colwidth', 80)\n",
        "pd.set_option('display.max_rows', 70)\n",
        "pd.get_option('display.precision', 2)\n",
        "pd.set_option('display.float_format', '{:.2f}'.format)"
      ],
      "metadata": {
        "id": "xBpVGLvrcduG"
      },
      "execution_count": 2,
      "outputs": []
    },
    {
      "cell_type": "code",
      "source": [
        "df = pd.read_csv('/content/drive/MyDrive/dataset_task3.csv')"
      ],
      "metadata": {
        "id": "aQwqdeK0cM34"
      },
      "execution_count": 3,
      "outputs": []
    },
    {
      "cell_type": "code",
      "source": [
        "df.head(3)"
      ],
      "metadata": {
        "colab": {
          "base_uri": "https://localhost:8080/",
          "height": 143
        },
        "id": "WD108K1PcRQn",
        "outputId": "acb056ee-6c56-4b34-f130-358e98c788ff"
      },
      "execution_count": 4,
      "outputs": [
        {
          "output_type": "execute_result",
          "data": {
            "text/plain": [
              "       Дата                                                                Кампания  № Кампании  Показы Ср. позиция показов\n",
              "0  янв 2022  o-a_corporate_perform_god_20220100016_context_search_brand_srb_yxprrko    69149644    4442                 1,1\n",
              "1  янв 2022  o-a_corporate_perform_god_20220100016_context_search_brand_url_yxprrko    69149675    2692                1,04\n",
              "2  янв 2022  o-a_corporate_perform_god_20220100016_context_search_brand_cch_yxprrko    69149701    1382                1,06"
            ],
            "text/html": [
              "\n",
              "  <div id=\"df-a6f72aa3-cfb6-4474-90d6-a325031584c5\">\n",
              "    <div class=\"colab-df-container\">\n",
              "      <div>\n",
              "<style scoped>\n",
              "    .dataframe tbody tr th:only-of-type {\n",
              "        vertical-align: middle;\n",
              "    }\n",
              "\n",
              "    .dataframe tbody tr th {\n",
              "        vertical-align: top;\n",
              "    }\n",
              "\n",
              "    .dataframe thead th {\n",
              "        text-align: right;\n",
              "    }\n",
              "</style>\n",
              "<table border=\"1\" class=\"dataframe\">\n",
              "  <thead>\n",
              "    <tr style=\"text-align: right;\">\n",
              "      <th></th>\n",
              "      <th>Дата</th>\n",
              "      <th>Кампания</th>\n",
              "      <th>№ Кампании</th>\n",
              "      <th>Показы</th>\n",
              "      <th>Ср. позиция показов</th>\n",
              "    </tr>\n",
              "  </thead>\n",
              "  <tbody>\n",
              "    <tr>\n",
              "      <th>0</th>\n",
              "      <td>янв 2022</td>\n",
              "      <td>o-a_corporate_perform_god_20220100016_context_search_brand_srb_yxprrko</td>\n",
              "      <td>69149644</td>\n",
              "      <td>4442</td>\n",
              "      <td>1,1</td>\n",
              "    </tr>\n",
              "    <tr>\n",
              "      <th>1</th>\n",
              "      <td>янв 2022</td>\n",
              "      <td>o-a_corporate_perform_god_20220100016_context_search_brand_url_yxprrko</td>\n",
              "      <td>69149675</td>\n",
              "      <td>2692</td>\n",
              "      <td>1,04</td>\n",
              "    </tr>\n",
              "    <tr>\n",
              "      <th>2</th>\n",
              "      <td>янв 2022</td>\n",
              "      <td>o-a_corporate_perform_god_20220100016_context_search_brand_cch_yxprrko</td>\n",
              "      <td>69149701</td>\n",
              "      <td>1382</td>\n",
              "      <td>1,06</td>\n",
              "    </tr>\n",
              "  </tbody>\n",
              "</table>\n",
              "</div>\n",
              "      <button class=\"colab-df-convert\" onclick=\"convertToInteractive('df-a6f72aa3-cfb6-4474-90d6-a325031584c5')\"\n",
              "              title=\"Convert this dataframe to an interactive table.\"\n",
              "              style=\"display:none;\">\n",
              "        \n",
              "  <svg xmlns=\"http://www.w3.org/2000/svg\" height=\"24px\"viewBox=\"0 0 24 24\"\n",
              "       width=\"24px\">\n",
              "    <path d=\"M0 0h24v24H0V0z\" fill=\"none\"/>\n",
              "    <path d=\"M18.56 5.44l.94 2.06.94-2.06 2.06-.94-2.06-.94-.94-2.06-.94 2.06-2.06.94zm-11 1L8.5 8.5l.94-2.06 2.06-.94-2.06-.94L8.5 2.5l-.94 2.06-2.06.94zm10 10l.94 2.06.94-2.06 2.06-.94-2.06-.94-.94-2.06-.94 2.06-2.06.94z\"/><path d=\"M17.41 7.96l-1.37-1.37c-.4-.4-.92-.59-1.43-.59-.52 0-1.04.2-1.43.59L10.3 9.45l-7.72 7.72c-.78.78-.78 2.05 0 2.83L4 21.41c.39.39.9.59 1.41.59.51 0 1.02-.2 1.41-.59l7.78-7.78 2.81-2.81c.8-.78.8-2.07 0-2.86zM5.41 20L4 18.59l7.72-7.72 1.47 1.35L5.41 20z\"/>\n",
              "  </svg>\n",
              "      </button>\n",
              "      \n",
              "  <style>\n",
              "    .colab-df-container {\n",
              "      display:flex;\n",
              "      flex-wrap:wrap;\n",
              "      gap: 12px;\n",
              "    }\n",
              "\n",
              "    .colab-df-convert {\n",
              "      background-color: #E8F0FE;\n",
              "      border: none;\n",
              "      border-radius: 50%;\n",
              "      cursor: pointer;\n",
              "      display: none;\n",
              "      fill: #1967D2;\n",
              "      height: 32px;\n",
              "      padding: 0 0 0 0;\n",
              "      width: 32px;\n",
              "    }\n",
              "\n",
              "    .colab-df-convert:hover {\n",
              "      background-color: #E2EBFA;\n",
              "      box-shadow: 0px 1px 2px rgba(60, 64, 67, 0.3), 0px 1px 3px 1px rgba(60, 64, 67, 0.15);\n",
              "      fill: #174EA6;\n",
              "    }\n",
              "\n",
              "    [theme=dark] .colab-df-convert {\n",
              "      background-color: #3B4455;\n",
              "      fill: #D2E3FC;\n",
              "    }\n",
              "\n",
              "    [theme=dark] .colab-df-convert:hover {\n",
              "      background-color: #434B5C;\n",
              "      box-shadow: 0px 1px 3px 1px rgba(0, 0, 0, 0.15);\n",
              "      filter: drop-shadow(0px 1px 2px rgba(0, 0, 0, 0.3));\n",
              "      fill: #FFFFFF;\n",
              "    }\n",
              "  </style>\n",
              "\n",
              "      <script>\n",
              "        const buttonEl =\n",
              "          document.querySelector('#df-a6f72aa3-cfb6-4474-90d6-a325031584c5 button.colab-df-convert');\n",
              "        buttonEl.style.display =\n",
              "          google.colab.kernel.accessAllowed ? 'block' : 'none';\n",
              "\n",
              "        async function convertToInteractive(key) {\n",
              "          const element = document.querySelector('#df-a6f72aa3-cfb6-4474-90d6-a325031584c5');\n",
              "          const dataTable =\n",
              "            await google.colab.kernel.invokeFunction('convertToInteractive',\n",
              "                                                     [key], {});\n",
              "          if (!dataTable) return;\n",
              "\n",
              "          const docLinkHtml = 'Like what you see? Visit the ' +\n",
              "            '<a target=\"_blank\" href=https://colab.research.google.com/notebooks/data_table.ipynb>data table notebook</a>'\n",
              "            + ' to learn more about interactive tables.';\n",
              "          element.innerHTML = '';\n",
              "          dataTable['output_type'] = 'display_data';\n",
              "          await google.colab.output.renderOutput(dataTable, element);\n",
              "          const docLink = document.createElement('div');\n",
              "          docLink.innerHTML = docLinkHtml;\n",
              "          element.appendChild(docLink);\n",
              "        }\n",
              "      </script>\n",
              "    </div>\n",
              "  </div>\n",
              "  "
            ]
          },
          "metadata": {},
          "execution_count": 4
        }
      ]
    },
    {
      "cell_type": "code",
      "source": [
        "df.info()"
      ],
      "metadata": {
        "colab": {
          "base_uri": "https://localhost:8080/"
        },
        "id": "wHsjjt_utPsl",
        "outputId": "23865e08-af07-40f3-e3e2-a720e4fceb71"
      },
      "execution_count": 5,
      "outputs": [
        {
          "output_type": "stream",
          "name": "stdout",
          "text": [
            "<class 'pandas.core.frame.DataFrame'>\n",
            "RangeIndex: 64 entries, 0 to 63\n",
            "Data columns (total 5 columns):\n",
            " #   Column               Non-Null Count  Dtype \n",
            "---  ------               --------------  ----- \n",
            " 0   Дата                 64 non-null     object\n",
            " 1   Кампания             64 non-null     object\n",
            " 2   № Кампании           64 non-null     int64 \n",
            " 3   Показы               64 non-null     int64 \n",
            " 4   Ср. позиция показов  64 non-null     object\n",
            "dtypes: int64(2), object(3)\n",
            "memory usage: 2.6+ KB\n"
          ]
        }
      ]
    },
    {
      "cell_type": "code",
      "source": [
        "df.columns = ['dt',\n",
        "              'marketing_campaign',\n",
        "              'campaign_number',\n",
        "              'ad_impressions', \n",
        "              'avg_impression_position']"
      ],
      "metadata": {
        "id": "PK-MxMwmfKCM"
      },
      "execution_count": 6,
      "outputs": []
    },
    {
      "cell_type": "code",
      "source": [
        "# В Ubuntu установлена локаль en_US.UTF-8, а не ru_RU, \n",
        "# поэтому парсинг даты проводится с помощью самописной функции\n",
        "def func_dt_transform(dt_str:str)->date:\n",
        "  \"\"\"Функция трансформирует строку в дату\"\"\"\n",
        "  month_names = ['', 'янв', 'фев', 'мар', 'апр', 'май', 'июн','июл', 'авг',  \\\n",
        "                 'сен', 'окт', 'ноя', 'дек']\n",
        "  try:\n",
        "    m_name,y_number = dt_str.split(\" \")\n",
        "    current_dt_str = str(month_names.index(m_name)) + \"-\" + str(y_number)\n",
        "    return dt.datetime.strptime(current_dt_str,'%m-%Y').date()\n",
        "  except Exception:\n",
        "    print('Невозможно трасформировать строку в дату!')"
      ],
      "metadata": {
        "id": "Z8-8mc6umJIw"
      },
      "execution_count": 7,
      "outputs": []
    },
    {
      "cell_type": "code",
      "source": [
        "def func_campaign_parsing(marketing_campaign_str:str, \n",
        "                          parameter:str='campaign_name')->str:\n",
        "  \"\"\"Функция выделяет параметр кампании и ее название из строки\"\"\"\n",
        "  marketing_campaign_list = marketing_campaign_str.split(\"_\")\n",
        "  try:\n",
        "    if parameter =='campaign_name':\n",
        "      return \"_\".join(marketing_campaign_list[-2:])\n",
        "    else:\n",
        "      return marketing_campaign_list[-3:-2][0]\n",
        "  except Exception:\n",
        "     print('Невозможно выделить значения из строки!')\n"
      ],
      "metadata": {
        "id": "93fKpFcmy57r"
      },
      "execution_count": 8,
      "outputs": []
    },
    {
      "cell_type": "code",
      "source": [
        "# Трансформируем строки в даты\n",
        "df['dt'] = df['dt'].apply(lambda date: func_dt_transform(date))\n",
        "# Трасформируем средние позиции показов рекламных объявлений в числа\n",
        "df['avg_impression_position'] = df['avg_impression_position'] \\\n",
        "                               .apply(lambda val: float(str.replace(val,',','.')))\n",
        "# Выделяем тип кампании и ее название из \"сырой\" строки\n",
        "df[['campaign_type', 'campaign_name']] = df['marketing_campaign'] \\\n",
        "                .apply(lambda x: pd.Series({'campaign_type':func_campaign_parsing(x,'type'),  \\\n",
        "                                            'campaign_name':func_campaign_parsing(x)}))\n",
        "# Удаление технического столбца после парсинга\n",
        "df = df.drop('marketing_campaign', axis=1)\n",
        "# Меняем порядок столбцов вывода датафрейма\n",
        "columns_titles = ['dt', \n",
        "                  'campaign_type', \n",
        "                  'campaign_name', \n",
        "                  'campaign_number',\n",
        "                  'ad_impressions',\n",
        "                  'avg_impression_position']\n",
        "df = df.reindex(columns=columns_titles)"
      ],
      "metadata": {
        "id": "YtVyfSm53lM4"
      },
      "execution_count": 9,
      "outputs": []
    },
    {
      "cell_type": "code",
      "source": [
        "df = df.sort_values(by=['campaign_type','avg_impression_position'],ascending=[True,True])"
      ],
      "metadata": {
        "id": "Bsttq9AZCCGh"
      },
      "execution_count": 10,
      "outputs": []
    },
    {
      "cell_type": "code",
      "source": [
        "df.head()"
      ],
      "metadata": {
        "colab": {
          "base_uri": "https://localhost:8080/",
          "height": 206
        },
        "id": "P_6FIsdrtcca",
        "outputId": "520f5f5d-fdde-4a54-dce0-bd2a71c7cea0"
      },
      "execution_count": 11,
      "outputs": [
        {
          "output_type": "execute_result",
          "data": {
            "text/plain": [
              "            dt campaign_type campaign_name  campaign_number  ad_impressions  avg_impression_position\n",
              "7   2022-01-01         brand   dvb_yxprrko         69149838             443                     1.02\n",
              "1   2022-01-01         brand   url_yxprrko         69149675            2692                     1.04\n",
              "10  2022-01-01         brand   uzb_yxprrko         69149921            2390                     1.04\n",
              "5   2022-01-01         brand   bkl_yxprrko         69149785             564                     1.05\n",
              "2   2022-01-01         brand   cch_yxprrko         69149701            1382                     1.06"
            ],
            "text/html": [
              "\n",
              "  <div id=\"df-8a216dad-731d-41bc-96dc-07ced8ea7992\">\n",
              "    <div class=\"colab-df-container\">\n",
              "      <div>\n",
              "<style scoped>\n",
              "    .dataframe tbody tr th:only-of-type {\n",
              "        vertical-align: middle;\n",
              "    }\n",
              "\n",
              "    .dataframe tbody tr th {\n",
              "        vertical-align: top;\n",
              "    }\n",
              "\n",
              "    .dataframe thead th {\n",
              "        text-align: right;\n",
              "    }\n",
              "</style>\n",
              "<table border=\"1\" class=\"dataframe\">\n",
              "  <thead>\n",
              "    <tr style=\"text-align: right;\">\n",
              "      <th></th>\n",
              "      <th>dt</th>\n",
              "      <th>campaign_type</th>\n",
              "      <th>campaign_name</th>\n",
              "      <th>campaign_number</th>\n",
              "      <th>ad_impressions</th>\n",
              "      <th>avg_impression_position</th>\n",
              "    </tr>\n",
              "  </thead>\n",
              "  <tbody>\n",
              "    <tr>\n",
              "      <th>7</th>\n",
              "      <td>2022-01-01</td>\n",
              "      <td>brand</td>\n",
              "      <td>dvb_yxprrko</td>\n",
              "      <td>69149838</td>\n",
              "      <td>443</td>\n",
              "      <td>1.02</td>\n",
              "    </tr>\n",
              "    <tr>\n",
              "      <th>1</th>\n",
              "      <td>2022-01-01</td>\n",
              "      <td>brand</td>\n",
              "      <td>url_yxprrko</td>\n",
              "      <td>69149675</td>\n",
              "      <td>2692</td>\n",
              "      <td>1.04</td>\n",
              "    </tr>\n",
              "    <tr>\n",
              "      <th>10</th>\n",
              "      <td>2022-01-01</td>\n",
              "      <td>brand</td>\n",
              "      <td>uzb_yxprrko</td>\n",
              "      <td>69149921</td>\n",
              "      <td>2390</td>\n",
              "      <td>1.04</td>\n",
              "    </tr>\n",
              "    <tr>\n",
              "      <th>5</th>\n",
              "      <td>2022-01-01</td>\n",
              "      <td>brand</td>\n",
              "      <td>bkl_yxprrko</td>\n",
              "      <td>69149785</td>\n",
              "      <td>564</td>\n",
              "      <td>1.05</td>\n",
              "    </tr>\n",
              "    <tr>\n",
              "      <th>2</th>\n",
              "      <td>2022-01-01</td>\n",
              "      <td>brand</td>\n",
              "      <td>cch_yxprrko</td>\n",
              "      <td>69149701</td>\n",
              "      <td>1382</td>\n",
              "      <td>1.06</td>\n",
              "    </tr>\n",
              "  </tbody>\n",
              "</table>\n",
              "</div>\n",
              "      <button class=\"colab-df-convert\" onclick=\"convertToInteractive('df-8a216dad-731d-41bc-96dc-07ced8ea7992')\"\n",
              "              title=\"Convert this dataframe to an interactive table.\"\n",
              "              style=\"display:none;\">\n",
              "        \n",
              "  <svg xmlns=\"http://www.w3.org/2000/svg\" height=\"24px\"viewBox=\"0 0 24 24\"\n",
              "       width=\"24px\">\n",
              "    <path d=\"M0 0h24v24H0V0z\" fill=\"none\"/>\n",
              "    <path d=\"M18.56 5.44l.94 2.06.94-2.06 2.06-.94-2.06-.94-.94-2.06-.94 2.06-2.06.94zm-11 1L8.5 8.5l.94-2.06 2.06-.94-2.06-.94L8.5 2.5l-.94 2.06-2.06.94zm10 10l.94 2.06.94-2.06 2.06-.94-2.06-.94-.94-2.06-.94 2.06-2.06.94z\"/><path d=\"M17.41 7.96l-1.37-1.37c-.4-.4-.92-.59-1.43-.59-.52 0-1.04.2-1.43.59L10.3 9.45l-7.72 7.72c-.78.78-.78 2.05 0 2.83L4 21.41c.39.39.9.59 1.41.59.51 0 1.02-.2 1.41-.59l7.78-7.78 2.81-2.81c.8-.78.8-2.07 0-2.86zM5.41 20L4 18.59l7.72-7.72 1.47 1.35L5.41 20z\"/>\n",
              "  </svg>\n",
              "      </button>\n",
              "      \n",
              "  <style>\n",
              "    .colab-df-container {\n",
              "      display:flex;\n",
              "      flex-wrap:wrap;\n",
              "      gap: 12px;\n",
              "    }\n",
              "\n",
              "    .colab-df-convert {\n",
              "      background-color: #E8F0FE;\n",
              "      border: none;\n",
              "      border-radius: 50%;\n",
              "      cursor: pointer;\n",
              "      display: none;\n",
              "      fill: #1967D2;\n",
              "      height: 32px;\n",
              "      padding: 0 0 0 0;\n",
              "      width: 32px;\n",
              "    }\n",
              "\n",
              "    .colab-df-convert:hover {\n",
              "      background-color: #E2EBFA;\n",
              "      box-shadow: 0px 1px 2px rgba(60, 64, 67, 0.3), 0px 1px 3px 1px rgba(60, 64, 67, 0.15);\n",
              "      fill: #174EA6;\n",
              "    }\n",
              "\n",
              "    [theme=dark] .colab-df-convert {\n",
              "      background-color: #3B4455;\n",
              "      fill: #D2E3FC;\n",
              "    }\n",
              "\n",
              "    [theme=dark] .colab-df-convert:hover {\n",
              "      background-color: #434B5C;\n",
              "      box-shadow: 0px 1px 3px 1px rgba(0, 0, 0, 0.15);\n",
              "      filter: drop-shadow(0px 1px 2px rgba(0, 0, 0, 0.3));\n",
              "      fill: #FFFFFF;\n",
              "    }\n",
              "  </style>\n",
              "\n",
              "      <script>\n",
              "        const buttonEl =\n",
              "          document.querySelector('#df-8a216dad-731d-41bc-96dc-07ced8ea7992 button.colab-df-convert');\n",
              "        buttonEl.style.display =\n",
              "          google.colab.kernel.accessAllowed ? 'block' : 'none';\n",
              "\n",
              "        async function convertToInteractive(key) {\n",
              "          const element = document.querySelector('#df-8a216dad-731d-41bc-96dc-07ced8ea7992');\n",
              "          const dataTable =\n",
              "            await google.colab.kernel.invokeFunction('convertToInteractive',\n",
              "                                                     [key], {});\n",
              "          if (!dataTable) return;\n",
              "\n",
              "          const docLinkHtml = 'Like what you see? Visit the ' +\n",
              "            '<a target=\"_blank\" href=https://colab.research.google.com/notebooks/data_table.ipynb>data table notebook</a>'\n",
              "            + ' to learn more about interactive tables.';\n",
              "          element.innerHTML = '';\n",
              "          dataTable['output_type'] = 'display_data';\n",
              "          await google.colab.output.renderOutput(dataTable, element);\n",
              "          const docLink = document.createElement('div');\n",
              "          docLink.innerHTML = docLinkHtml;\n",
              "          element.appendChild(docLink);\n",
              "        }\n",
              "      </script>\n",
              "    </div>\n",
              "  </div>\n",
              "  "
            ]
          },
          "metadata": {},
          "execution_count": 11
        }
      ]
    },
    {
      "cell_type": "code",
      "source": [
        "df.to_csv('/content/drive/MyDrive/marketing_campaign.csv', index=False) "
      ],
      "metadata": {
        "id": "dFm3zDc5E9tf"
      },
      "execution_count": 12,
      "outputs": []
    },
    {
      "cell_type": "markdown",
      "source": [
        "Расчет запрашиваемых показателей я решил провести на BI-платформе по следующим причинам:\n",
        "*  презентация позволяет выполнять гибкую верстку согласно корпоративным стандартам, но теряется возможность быстрого обновления данных;\n",
        "*  расчеты в jupyter-ноутбуках позволяют гибко работать с датасетами, но большинство библиотек для построения графиков и диаграмм значительно ограничены по функционалу;\n",
        "*  инструменты подобные Apache SuperSet требуют вспомогательной платформы для демонстрации итогового дашборда заказчику.\n",
        "\n",
        "Ввиду вышеизложенного Python будет выполнять роль лишь etl-инструмента)"
      ],
      "metadata": {
        "id": "fvqRG4jw2sNm"
      }
    }
  ]
}