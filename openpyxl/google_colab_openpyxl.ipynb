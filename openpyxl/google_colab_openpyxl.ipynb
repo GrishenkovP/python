{
  "nbformat": 4,
  "nbformat_minor": 0,
  "metadata": {
    "colab": {
      "name": "google_colab_openpyxl .ipynb",
      "provenance": [],
      "collapsed_sections": []
    },
    "kernelspec": {
      "name": "python3",
      "display_name": "Python 3"
    },
    "language_info": {
      "name": "python"
    }
  },
  "cells": [
    {
      "cell_type": "markdown",
      "metadata": {
        "id": "KwPxfPlx24f3"
      },
      "source": [
        "##Openpyxl - библиотека для работы с Excel-файлами"
      ]
    },
    {
      "cell_type": "code",
      "metadata": {
        "colab": {
          "base_uri": "https://localhost:8080/"
        },
        "id": "OlqIW9Vn2pzm",
        "outputId": "6ecc94c1-f7c2-4023-f3a8-195f787c31b9"
      },
      "source": [
        "!pip install -U openpyxl"
      ],
      "execution_count": 1,
      "outputs": [
        {
          "output_type": "stream",
          "text": [
            "Requirement already up-to-date: openpyxl in /usr/local/lib/python3.7/dist-packages (3.0.7)\n",
            "Requirement already satisfied, skipping upgrade: et-xmlfile in /usr/local/lib/python3.7/dist-packages (from openpyxl) (1.0.1)\n"
          ],
          "name": "stdout"
        }
      ]
    },
    {
      "cell_type": "markdown",
      "metadata": {
        "id": "x1x67DkP_0F1"
      },
      "source": [
        "##Создать файл"
      ]
    },
    {
      "cell_type": "code",
      "metadata": {
        "id": "l-ATiQwq29f-"
      },
      "source": [
        "from openpyxl import Workbook"
      ],
      "execution_count": 2,
      "outputs": []
    },
    {
      "cell_type": "code",
      "metadata": {
        "id": "DjJ1FrHN3Aie"
      },
      "source": [
        "wb = Workbook()\n",
        "ws = wb.active\n",
        "ws.title = 'MySheet'\n",
        "ws['A1'] = 'hello'  \n",
        "ws['B1'] = 'world!' \n",
        "wb.save(filename='hello_world.xlsx')  "
      ],
      "execution_count": 3,
      "outputs": []
    },
    {
      "cell_type": "markdown",
      "metadata": {
        "id": "VIdHMZ4M_wHE"
      },
      "source": [
        "##Прочитать имеющийся файл"
      ]
    },
    {
      "cell_type": "code",
      "metadata": {
        "id": "ReVqlRN-3lDF"
      },
      "source": [
        "from openpyxl import load_workbook"
      ],
      "execution_count": 4,
      "outputs": []
    },
    {
      "cell_type": "code",
      "metadata": {
        "colab": {
          "base_uri": "https://localhost:8080/"
        },
        "id": "QCeIq3Vn3W6G",
        "outputId": "42eab517-6ff9-4f89-e2db-17500255a71c"
      },
      "source": [
        "wb = load_workbook(filename='hello_world.xlsx')\n",
        "#Имена всех листов\n",
        "wb.sheetnames"
      ],
      "execution_count": 5,
      "outputs": [
        {
          "output_type": "execute_result",
          "data": {
            "text/plain": [
              "['MySheet']"
            ]
          },
          "metadata": {
            "tags": []
          },
          "execution_count": 5
        }
      ]
    },
    {
      "cell_type": "code",
      "metadata": {
        "colab": {
          "base_uri": "https://localhost:8080/"
        },
        "id": "q6vM5bAx5oN-",
        "outputId": "260df9cb-d5fd-4b22-fb4e-0742aae28b05"
      },
      "source": [
        "ws = wb['MySheet']\n",
        "print(ws['A1'].value, ws['B1'].value)"
      ],
      "execution_count": 6,
      "outputs": [
        {
          "output_type": "stream",
          "text": [
            "hello world!\n"
          ],
          "name": "stdout"
        }
      ]
    },
    {
      "cell_type": "code",
      "metadata": {
        "id": "tNfC0piN7m9W"
      },
      "source": [
        "ws['A1'] = 1 \n",
        "ws['A2'] = 2\n",
        "ws['A3'] = 3\n",
        "ws['B1'] = 10 \n",
        "ws['B2'] = 20\n",
        "ws['B3'] = 30"
      ],
      "execution_count": 7,
      "outputs": []
    },
    {
      "cell_type": "code",
      "metadata": {
        "colab": {
          "base_uri": "https://localhost:8080/"
        },
        "id": "3piuArQf76vs",
        "outputId": "d0edb346-8726-42bb-9022-e9271d452b93"
      },
      "source": [
        "ws['A1:B3']"
      ],
      "execution_count": 8,
      "outputs": [
        {
          "output_type": "execute_result",
          "data": {
            "text/plain": [
              "((<Cell 'MySheet'.A1>, <Cell 'MySheet'.B1>),\n",
              " (<Cell 'MySheet'.A2>, <Cell 'MySheet'.B2>),\n",
              " (<Cell 'MySheet'.A3>, <Cell 'MySheet'.B3>))"
            ]
          },
          "metadata": {
            "tags": []
          },
          "execution_count": 8
        }
      ]
    },
    {
      "cell_type": "markdown",
      "metadata": {
        "id": "L-ziYUer_3u9"
      },
      "source": [
        "##Итерация по диапазону"
      ]
    },
    {
      "cell_type": "code",
      "metadata": {
        "colab": {
          "base_uri": "https://localhost:8080/"
        },
        "id": "OGmQtdXr8ELc",
        "outputId": "066ebed1-f45b-4a37-a932-bc28669e830e"
      },
      "source": [
        "for row in ws.iter_rows(min_row=1,\n",
        "                           max_row=3,\n",
        "                           min_col=1,\n",
        "                           max_col=2):\n",
        "     print(row)"
      ],
      "execution_count": 9,
      "outputs": [
        {
          "output_type": "stream",
          "text": [
            "(<Cell 'MySheet'.A1>, <Cell 'MySheet'.B1>)\n",
            "(<Cell 'MySheet'.A2>, <Cell 'MySheet'.B2>)\n",
            "(<Cell 'MySheet'.A3>, <Cell 'MySheet'.B3>)\n"
          ],
          "name": "stdout"
        }
      ]
    },
    {
      "cell_type": "code",
      "metadata": {
        "colab": {
          "base_uri": "https://localhost:8080/"
        },
        "id": "-NighibU-5gF",
        "outputId": "d331bc93-289e-4bcf-b80f-96ed631369b5"
      },
      "source": [
        "for row in ws.iter_rows(min_row=1,\n",
        "                        max_row=3,\n",
        "                        min_col=1,\n",
        "                        max_col=2,\n",
        "                        values_only=True):\n",
        "     print(row)"
      ],
      "execution_count": 10,
      "outputs": [
        {
          "output_type": "stream",
          "text": [
            "(1, 10)\n",
            "(2, 20)\n",
            "(3, 30)\n"
          ],
          "name": "stdout"
        }
      ]
    },
    {
      "cell_type": "code",
      "metadata": {
        "colab": {
          "base_uri": "https://localhost:8080/"
        },
        "id": "dIi_j6Y08jNd",
        "outputId": "b8cba0e6-b0c3-4abd-aa63-0bb296eb4ffe"
      },
      "source": [
        "for column in ws.iter_cols(min_row=1,\n",
        "                              max_row=3,\n",
        "                              min_col=1,\n",
        "                              max_col=2):\n",
        "    print(column)"
      ],
      "execution_count": 11,
      "outputs": [
        {
          "output_type": "stream",
          "text": [
            "(<Cell 'MySheet'.A1>, <Cell 'MySheet'.A2>, <Cell 'MySheet'.A3>)\n",
            "(<Cell 'MySheet'.B1>, <Cell 'MySheet'.B2>, <Cell 'MySheet'.B3>)\n"
          ],
          "name": "stdout"
        }
      ]
    },
    {
      "cell_type": "markdown",
      "metadata": {
        "id": "DMzckIx4_6a0"
      },
      "source": [
        "##Работа с формулами"
      ]
    },
    {
      "cell_type": "code",
      "metadata": {
        "id": "jy9gx7du_T34"
      },
      "source": [
        "ws['C1'] = '=SUM(A1:B1)'\n",
        "ws['C2'] = '=SUM(A2:B2)'\n",
        "ws['C3'] = '=SUM(A3:B3)'"
      ],
      "execution_count": 12,
      "outputs": []
    },
    {
      "cell_type": "code",
      "metadata": {
        "colab": {
          "base_uri": "https://localhost:8080/"
        },
        "id": "hrOYULKe9SVF",
        "outputId": "34bd98e0-b99d-40b7-9ff7-9524a62d55f7"
      },
      "source": [
        "for row in ws.values:\n",
        "   for value in row:\n",
        "     print(value)"
      ],
      "execution_count": 13,
      "outputs": [
        {
          "output_type": "stream",
          "text": [
            "1\n",
            "10\n",
            "=SUM(A1:B1)\n",
            "2\n",
            "20\n",
            "=SUM(A2:B2)\n",
            "3\n",
            "30\n",
            "=SUM(A3:B3)\n"
          ],
          "name": "stdout"
        }
      ]
    },
    {
      "cell_type": "code",
      "metadata": {
        "id": "UAN9oOvFAtdF"
      },
      "source": [
        "wb.save(filename='hello_world.xlsx') "
      ],
      "execution_count": 14,
      "outputs": []
    },
    {
      "cell_type": "code",
      "metadata": {
        "id": "KZiPe_vTCtaR"
      },
      "source": [
        "from openpyxl.utils import FORMULAE"
      ],
      "execution_count": 15,
      "outputs": []
    },
    {
      "cell_type": "code",
      "metadata": {
        "colab": {
          "base_uri": "https://localhost:8080/"
        },
        "id": "_RkPhOIwCuwZ",
        "outputId": "bc2722f5-143b-4b7c-d28c-e764e6ab9028"
      },
      "source": [
        "# Посмотреть список всех формул\n",
        "# FORMULAE"
      ],
      "execution_count": 16,
      "outputs": [
        {
          "output_type": "execute_result",
          "data": {
            "text/plain": [
              "frozenset({'ABS',\n",
              "           'ACCRINT',\n",
              "           'ACCRINTM',\n",
              "           'ACOS',\n",
              "           'ACOSH',\n",
              "           'AMORDEGRC',\n",
              "           'AMORLINC',\n",
              "           'AND',\n",
              "           'AREAS',\n",
              "           'ASC',\n",
              "           'ASIN',\n",
              "           'ASINH',\n",
              "           'ATAN',\n",
              "           'ATAN2',\n",
              "           'ATANH',\n",
              "           'AVEDEV',\n",
              "           'AVERAGE',\n",
              "           'AVERAGEA',\n",
              "           'AVERAGEIF',\n",
              "           'AVERAGEIFS',\n",
              "           'BAHTTEXT',\n",
              "           'BESSELI',\n",
              "           'BESSELJ',\n",
              "           'BESSELK',\n",
              "           'BESSELY',\n",
              "           'BETADIST',\n",
              "           'BETAINV',\n",
              "           'BIN2DEC',\n",
              "           'BIN2HEX',\n",
              "           'BIN2OCT',\n",
              "           'BINOMDIST',\n",
              "           'CEILING',\n",
              "           'CELL',\n",
              "           'CHAR',\n",
              "           'CHIDIST',\n",
              "           'CHIINV',\n",
              "           'CHITEST',\n",
              "           'CHOOSE',\n",
              "           'CLEAN',\n",
              "           'CODE',\n",
              "           'COLUMN',\n",
              "           'COLUMNS',\n",
              "           'COMBIN',\n",
              "           'COMPLEX',\n",
              "           'CONCATENATE',\n",
              "           'CONFIDENCE',\n",
              "           'CONVERT',\n",
              "           'CORREL',\n",
              "           'COS',\n",
              "           'COSH',\n",
              "           'COUNT',\n",
              "           'COUNTA',\n",
              "           'COUNTBLANK',\n",
              "           'COUNTIF',\n",
              "           'COUNTIFS',\n",
              "           'COUPDAYBS',\n",
              "           'COUPDAYS',\n",
              "           'COUPDAYSNC',\n",
              "           'COUPNCD',\n",
              "           'COUPNUM',\n",
              "           'COUPPCD',\n",
              "           'COVAR',\n",
              "           'CRITBINOM',\n",
              "           'CUBEKPIMEMBER',\n",
              "           'CUBEMEMBER',\n",
              "           'CUBEMEMBERPROPERTY',\n",
              "           'CUBERANKEDMEMBER',\n",
              "           'CUBESET',\n",
              "           'CUBESETCOUNT',\n",
              "           'CUBEVALUE',\n",
              "           'CUMIPMT',\n",
              "           'CUMPRINC',\n",
              "           'DATE',\n",
              "           'DATEDIF',\n",
              "           'DATEVALUE',\n",
              "           'DAVERAGE',\n",
              "           'DAY',\n",
              "           'DAYS360',\n",
              "           'DB',\n",
              "           'DCOUNT',\n",
              "           'DCOUNTA',\n",
              "           'DDB',\n",
              "           'DEC2BIN',\n",
              "           'DEC2HEX',\n",
              "           'DEC2OCT',\n",
              "           'DEGREES',\n",
              "           'DELTA',\n",
              "           'DEVSQ',\n",
              "           'DGET',\n",
              "           'DISC',\n",
              "           'DMAX',\n",
              "           'DMIN',\n",
              "           'DOLLAR',\n",
              "           'DOLLARDE',\n",
              "           'DOLLARFR',\n",
              "           'DPRODUCT',\n",
              "           'DSTDEV',\n",
              "           'DSTDEVP',\n",
              "           'DSUM',\n",
              "           'DURATION',\n",
              "           'DVAR',\n",
              "           'DVARP',\n",
              "           'ECMA.CEILING',\n",
              "           'EDATE',\n",
              "           'EFFECT',\n",
              "           'EOMONTH',\n",
              "           'ERF',\n",
              "           'ERFC',\n",
              "           'ERROR.TYPE',\n",
              "           'EVEN',\n",
              "           'EXACT',\n",
              "           'EXP',\n",
              "           'EXPONDIST',\n",
              "           'FACT',\n",
              "           'FACTDOUBLE',\n",
              "           'FALSE',\n",
              "           'FDIST',\n",
              "           'FIND',\n",
              "           'FINDB',\n",
              "           'FINV',\n",
              "           'FISHER',\n",
              "           'FISHERINV',\n",
              "           'FIXED',\n",
              "           'FLOOR',\n",
              "           'FORECAST',\n",
              "           'FREQUENCY',\n",
              "           'FTEST',\n",
              "           'FV',\n",
              "           'FVSCHEDULE',\n",
              "           'GAMMADIST',\n",
              "           'GAMMAINV',\n",
              "           'GAMMALN',\n",
              "           'GCD',\n",
              "           'GEOMEAN',\n",
              "           'GESTEP',\n",
              "           'GETPIVOTDATA',\n",
              "           'GROWTH',\n",
              "           'HARMEAN',\n",
              "           'HEX2BIN',\n",
              "           'HEX2DEC',\n",
              "           'HEX2OCT',\n",
              "           'HLOOKUP',\n",
              "           'HOUR',\n",
              "           'HYPERLINK',\n",
              "           'HYPGEOMDIST',\n",
              "           'IF',\n",
              "           'IFERROR',\n",
              "           'IMABS',\n",
              "           'IMAGINARY',\n",
              "           'IMARGUMENT',\n",
              "           'IMCONJUGATE',\n",
              "           'IMCOS',\n",
              "           'IMDIV',\n",
              "           'IMEXP',\n",
              "           'IMLN',\n",
              "           'IMLOG10',\n",
              "           'IMLOG2',\n",
              "           'IMPOWER',\n",
              "           'IMPRODUCT',\n",
              "           'IMREAL',\n",
              "           'IMSIN',\n",
              "           'IMSQRT',\n",
              "           'IMSUB',\n",
              "           'IMSUM',\n",
              "           'INDEX',\n",
              "           'INDIRECT',\n",
              "           'INFO',\n",
              "           'INT',\n",
              "           'INTERCEPT',\n",
              "           'INTRATE',\n",
              "           'IPMT',\n",
              "           'IRR',\n",
              "           'ISBLANK',\n",
              "           'ISERR',\n",
              "           'ISERROR',\n",
              "           'ISEVEN',\n",
              "           'ISLOGICAL',\n",
              "           'ISNA',\n",
              "           'ISNONTEXT',\n",
              "           'ISNUMBER',\n",
              "           'ISO.CEILING',\n",
              "           'ISODD',\n",
              "           'ISPMT',\n",
              "           'ISREF',\n",
              "           'ISTEXT',\n",
              "           'JIS',\n",
              "           'KURT',\n",
              "           'LARGE',\n",
              "           'LCM',\n",
              "           'LEFT',\n",
              "           'LEFTB',\n",
              "           'LEN',\n",
              "           'LENB',\n",
              "           'LINEST',\n",
              "           'LN',\n",
              "           'LOG',\n",
              "           'LOG10',\n",
              "           'LOGEST',\n",
              "           'LOGINV',\n",
              "           'LOGNORMDIST',\n",
              "           'LOOKUP',\n",
              "           'LOWER',\n",
              "           'MATCH',\n",
              "           'MAX',\n",
              "           'MAXA',\n",
              "           'MDETERM',\n",
              "           'MDURATION',\n",
              "           'MEDIAN',\n",
              "           'MID',\n",
              "           'MIDB',\n",
              "           'MIN',\n",
              "           'MINA',\n",
              "           'MINUTE',\n",
              "           'MINVERSE',\n",
              "           'MIRR',\n",
              "           'MMULT',\n",
              "           'MOD',\n",
              "           'MODE',\n",
              "           'MONTH',\n",
              "           'MROUND',\n",
              "           'MULTINOMIAL',\n",
              "           'N',\n",
              "           'NA',\n",
              "           'NEGBINOMDIST',\n",
              "           'NETWORKDAYS',\n",
              "           'NETWORKDAYS.INTL',\n",
              "           'NOMINAL',\n",
              "           'NORMDIST',\n",
              "           'NORMINV',\n",
              "           'NORMSDIST',\n",
              "           'NORMSINV',\n",
              "           'NOT',\n",
              "           'NOW',\n",
              "           'NPER',\n",
              "           'NPV',\n",
              "           'OCT2BIN',\n",
              "           'OCT2DEC',\n",
              "           'OCT2HEX',\n",
              "           'ODD',\n",
              "           'ODDFPRICE',\n",
              "           'ODDFYIELD',\n",
              "           'ODDLPRICE',\n",
              "           'ODDLYIELD',\n",
              "           'OFFSET',\n",
              "           'OR',\n",
              "           'PEARSON',\n",
              "           'PERCENTILE',\n",
              "           'PERCENTRANK',\n",
              "           'PERMUT',\n",
              "           'PHONETIC',\n",
              "           'PI',\n",
              "           'PMT',\n",
              "           'POISSON',\n",
              "           'POWER',\n",
              "           'PPMT',\n",
              "           'PRICE',\n",
              "           'PRICEDISC',\n",
              "           'PRICEMAT',\n",
              "           'PROB',\n",
              "           'PRODUCT',\n",
              "           'PROPER',\n",
              "           'PV',\n",
              "           'QUARTILE',\n",
              "           'QUOTIENT',\n",
              "           'RADIANS',\n",
              "           'RAND',\n",
              "           'RANDBETWEEN',\n",
              "           'RANK',\n",
              "           'RATE',\n",
              "           'RECEIVED',\n",
              "           'REPLACE',\n",
              "           'REPLACEB',\n",
              "           'REPT',\n",
              "           'RIGHT',\n",
              "           'RIGHTB',\n",
              "           'ROMAN',\n",
              "           'ROUND',\n",
              "           'ROUNDDOWN',\n",
              "           'ROUNDUP',\n",
              "           'ROW',\n",
              "           'ROWS',\n",
              "           'RSQ',\n",
              "           'RTD',\n",
              "           'SEARCH',\n",
              "           'SEARCHB',\n",
              "           'SECOND',\n",
              "           'SERIESSUM',\n",
              "           'SIGN',\n",
              "           'SIN',\n",
              "           'SINH',\n",
              "           'SKEW',\n",
              "           'SLN',\n",
              "           'SLOPE',\n",
              "           'SMALL',\n",
              "           'SQRT',\n",
              "           'SQRTPI',\n",
              "           'STANDARDIZE',\n",
              "           'STDEV STDEVA',\n",
              "           'STDEVP',\n",
              "           'STDEVPA STEYX',\n",
              "           'SUBSTITUTE',\n",
              "           'SUBTOTAL',\n",
              "           'SUM',\n",
              "           'SUMIF',\n",
              "           'SUMIFS',\n",
              "           'SUMPRODUCT',\n",
              "           'SUMSQ',\n",
              "           'SUMX2MY2',\n",
              "           'SUMX2PY2',\n",
              "           'SUMXMY2',\n",
              "           'SYD',\n",
              "           'T',\n",
              "           'TAN',\n",
              "           'TANH',\n",
              "           'TBILLEQ',\n",
              "           'TBILLPRICE',\n",
              "           'TBILLYIELD',\n",
              "           'TDIST',\n",
              "           'TEXT',\n",
              "           'TIME',\n",
              "           'TIMEVALUE',\n",
              "           'TINV',\n",
              "           'TODAY',\n",
              "           'TRANSPOSE',\n",
              "           'TREND',\n",
              "           'TRIM',\n",
              "           'TRIMMEAN',\n",
              "           'TRUE ADDRESS',\n",
              "           'TRUNC',\n",
              "           'TTEST',\n",
              "           'TYPE',\n",
              "           'UPPER',\n",
              "           'VALUE',\n",
              "           'VAR',\n",
              "           'VARA',\n",
              "           'VARP',\n",
              "           'VARPA',\n",
              "           'VDB',\n",
              "           'VLOOKUP',\n",
              "           'WEEKDAY',\n",
              "           'WEEKNUM',\n",
              "           'WEIBULL',\n",
              "           'WORKDAY ',\n",
              "           'WORKDAY.INTL',\n",
              "           'XIRR',\n",
              "           'XNPV',\n",
              "           'YEAR',\n",
              "           'YEARFRAC',\n",
              "           'YIELD',\n",
              "           'YIELDDISC',\n",
              "           'YIELDMAT',\n",
              "           'ZTEST'})"
            ]
          },
          "metadata": {
            "tags": []
          },
          "execution_count": 16
        }
      ]
    },
    {
      "cell_type": "code",
      "metadata": {
        "id": "7-h8tpOQC-0T"
      },
      "source": [
        ""
      ],
      "execution_count": null,
      "outputs": []
    }
  ]
}
