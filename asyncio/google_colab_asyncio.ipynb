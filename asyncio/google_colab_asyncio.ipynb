{
  "nbformat": 4,
  "nbformat_minor": 0,
  "metadata": {
    "colab": {
      "name": "google_colab_asyncio.ipynb",
      "provenance": [],
      "collapsed_sections": []
    },
    "kernelspec": {
      "name": "python3",
      "display_name": "Python 3"
    },
    "language_info": {
      "name": "python"
    }
  },
  "cells": [
    {
      "cell_type": "markdown",
      "source": [
        "# Библиотеки Asyncio и Aiohttp. Асинхронная загрузка данных из Интернета"
      ],
      "metadata": {
        "id": "kMd3HIET3Tzd"
      }
    },
    {
      "cell_type": "code",
      "source": [
        "%%capture\n",
        "!pip install nest-asyncio\n",
        "!pip install aiohttp\n",
        "!pip install aiofiles"
      ],
      "metadata": {
        "id": "SPRSG82JKt7I"
      },
      "execution_count": 46,
      "outputs": []
    },
    {
      "cell_type": "code",
      "source": [
        "import nest_asyncio\n",
        "nest_asyncio.apply()"
      ],
      "metadata": {
        "id": "grxxekyzKuvv"
      },
      "execution_count": 66,
      "outputs": []
    },
    {
      "cell_type": "code",
      "execution_count": 67,
      "metadata": {
        "id": "Wux33kSLHG2B"
      },
      "outputs": [],
      "source": [
        "import aiofiles\n",
        "from  aiohttp import ClientSession\n",
        "import asyncio\n",
        "import os\n",
        "import time\n",
        "import pandas as pandas"
      ]
    },
    {
      "cell_type": "code",
      "source": [
        "async def download_data(session, url):\n",
        "  start = time.time()\n",
        "  filename = os.path.basename(url)\n",
        "  async with session.get(url) as response:\n",
        "    async with aiofiles.open(filename, 'wb') as fd:\n",
        "      data = await response.content.read()\n",
        "      await fd.write(data)\n",
        "  print('Process {} took: {:.2f} seconds'.format(filename, time.time() - start)) "
      ],
      "metadata": {
        "id": "zDDrjnhG2T_8"
      },
      "execution_count": 76,
      "outputs": []
    },
    {
      "cell_type": "code",
      "source": [
        "async def main(loop, url):\n",
        "    async with ClientSession(loop=loop) as session:\n",
        "        await asyncio.wait_for(download_data(session, url), timeout=10.0)"
      ],
      "metadata": {
        "id": "LvxbzJXMz-BT"
      },
      "execution_count": 77,
      "outputs": []
    },
    {
      "cell_type": "code",
      "source": [
        "urls = [\"https://raw.githubusercontent.com/grishenkovp/project_cheese_market/main/project/data_sales/sales_model_0.csv\",\n",
        "        \"https://raw.githubusercontent.com/grishenkovp/project_cheese_market/main/project/data_sales/sales_model_1.csv\",\n",
        "        \"https://raw.githubusercontent.com/grishenkovp/project_cheese_market/main/project/data_sales/sales_model_2.csv\"]"
      ],
      "metadata": {
        "id": "oY_GfA5B0ASD"
      },
      "execution_count": 78,
      "outputs": []
    },
    {
      "cell_type": "code",
      "source": [
        "loop = asyncio.get_event_loop()\n",
        "loop.run_until_complete(asyncio.gather(*(main(loop, url) for url in urls)))"
      ],
      "metadata": {
        "colab": {
          "base_uri": "https://localhost:8080/"
        },
        "id": "zlBd2BzU0Eur",
        "outputId": "f15d48e2-c81d-45b4-a0f3-ee3ed2267755"
      },
      "execution_count": 79,
      "outputs": [
        {
          "output_type": "stream",
          "name": "stdout",
          "text": [
            "Process sales_model_0.csv took: 0.37 seconds\n",
            "Process sales_model_1.csv took: 0.37 seconds\n",
            "Process sales_model_2.csv took: 0.39 seconds\n"
          ]
        },
        {
          "output_type": "execute_result",
          "data": {
            "text/plain": [
              "[None, None, None]"
            ]
          },
          "metadata": {},
          "execution_count": 79
        }
      ]
    },
    {
      "cell_type": "markdown",
      "source": [
        "### Проверка"
      ],
      "metadata": {
        "id": "Zib270vVr2zy"
      }
    },
    {
      "cell_type": "code",
      "source": [
        "df = pd.read_csv('/content/sales_model_2.csv')"
      ],
      "metadata": {
        "id": "x5tDD677razf"
      },
      "execution_count": 86,
      "outputs": []
    },
    {
      "cell_type": "code",
      "source": [
        "df.head()"
      ],
      "metadata": {
        "colab": {
          "base_uri": "https://localhost:8080/",
          "height": 206
        },
        "id": "fuVJuUl-rnvg",
        "outputId": "9c2904e2-c62a-471c-9088-d601f6c5028b"
      },
      "execution_count": 87,
      "outputs": [
        {
          "output_type": "execute_result",
          "data": {
            "text/plain": [
              "         date  model retailer  customer_id      kind_cheese  quantity  price\n",
              "0  2020-01-02      2       A4           81       сыр мягкий       400    578\n",
              "1  2020-01-02      2       A2           93      прочие сыры       900    770\n",
              "2  2020-01-02      2       A2           99  продукты сырные       950    440\n",
              "3  2020-01-02      2       A2          108  продукты сырные       800    440\n",
              "4  2020-01-02      2       A4          114      прочие сыры      1000    847"
            ],
            "text/html": [
              "\n",
              "  <div id=\"df-43a603d3-9285-4ac0-855d-61b8a27ed112\">\n",
              "    <div class=\"colab-df-container\">\n",
              "      <div>\n",
              "<style scoped>\n",
              "    .dataframe tbody tr th:only-of-type {\n",
              "        vertical-align: middle;\n",
              "    }\n",
              "\n",
              "    .dataframe tbody tr th {\n",
              "        vertical-align: top;\n",
              "    }\n",
              "\n",
              "    .dataframe thead th {\n",
              "        text-align: right;\n",
              "    }\n",
              "</style>\n",
              "<table border=\"1\" class=\"dataframe\">\n",
              "  <thead>\n",
              "    <tr style=\"text-align: right;\">\n",
              "      <th></th>\n",
              "      <th>date</th>\n",
              "      <th>model</th>\n",
              "      <th>retailer</th>\n",
              "      <th>customer_id</th>\n",
              "      <th>kind_cheese</th>\n",
              "      <th>quantity</th>\n",
              "      <th>price</th>\n",
              "    </tr>\n",
              "  </thead>\n",
              "  <tbody>\n",
              "    <tr>\n",
              "      <th>0</th>\n",
              "      <td>2020-01-02</td>\n",
              "      <td>2</td>\n",
              "      <td>A4</td>\n",
              "      <td>81</td>\n",
              "      <td>сыр мягкий</td>\n",
              "      <td>400</td>\n",
              "      <td>578</td>\n",
              "    </tr>\n",
              "    <tr>\n",
              "      <th>1</th>\n",
              "      <td>2020-01-02</td>\n",
              "      <td>2</td>\n",
              "      <td>A2</td>\n",
              "      <td>93</td>\n",
              "      <td>прочие сыры</td>\n",
              "      <td>900</td>\n",
              "      <td>770</td>\n",
              "    </tr>\n",
              "    <tr>\n",
              "      <th>2</th>\n",
              "      <td>2020-01-02</td>\n",
              "      <td>2</td>\n",
              "      <td>A2</td>\n",
              "      <td>99</td>\n",
              "      <td>продукты сырные</td>\n",
              "      <td>950</td>\n",
              "      <td>440</td>\n",
              "    </tr>\n",
              "    <tr>\n",
              "      <th>3</th>\n",
              "      <td>2020-01-02</td>\n",
              "      <td>2</td>\n",
              "      <td>A2</td>\n",
              "      <td>108</td>\n",
              "      <td>продукты сырные</td>\n",
              "      <td>800</td>\n",
              "      <td>440</td>\n",
              "    </tr>\n",
              "    <tr>\n",
              "      <th>4</th>\n",
              "      <td>2020-01-02</td>\n",
              "      <td>2</td>\n",
              "      <td>A4</td>\n",
              "      <td>114</td>\n",
              "      <td>прочие сыры</td>\n",
              "      <td>1000</td>\n",
              "      <td>847</td>\n",
              "    </tr>\n",
              "  </tbody>\n",
              "</table>\n",
              "</div>\n",
              "      <button class=\"colab-df-convert\" onclick=\"convertToInteractive('df-43a603d3-9285-4ac0-855d-61b8a27ed112')\"\n",
              "              title=\"Convert this dataframe to an interactive table.\"\n",
              "              style=\"display:none;\">\n",
              "        \n",
              "  <svg xmlns=\"http://www.w3.org/2000/svg\" height=\"24px\"viewBox=\"0 0 24 24\"\n",
              "       width=\"24px\">\n",
              "    <path d=\"M0 0h24v24H0V0z\" fill=\"none\"/>\n",
              "    <path d=\"M18.56 5.44l.94 2.06.94-2.06 2.06-.94-2.06-.94-.94-2.06-.94 2.06-2.06.94zm-11 1L8.5 8.5l.94-2.06 2.06-.94-2.06-.94L8.5 2.5l-.94 2.06-2.06.94zm10 10l.94 2.06.94-2.06 2.06-.94-2.06-.94-.94-2.06-.94 2.06-2.06.94z\"/><path d=\"M17.41 7.96l-1.37-1.37c-.4-.4-.92-.59-1.43-.59-.52 0-1.04.2-1.43.59L10.3 9.45l-7.72 7.72c-.78.78-.78 2.05 0 2.83L4 21.41c.39.39.9.59 1.41.59.51 0 1.02-.2 1.41-.59l7.78-7.78 2.81-2.81c.8-.78.8-2.07 0-2.86zM5.41 20L4 18.59l7.72-7.72 1.47 1.35L5.41 20z\"/>\n",
              "  </svg>\n",
              "      </button>\n",
              "      \n",
              "  <style>\n",
              "    .colab-df-container {\n",
              "      display:flex;\n",
              "      flex-wrap:wrap;\n",
              "      gap: 12px;\n",
              "    }\n",
              "\n",
              "    .colab-df-convert {\n",
              "      background-color: #E8F0FE;\n",
              "      border: none;\n",
              "      border-radius: 50%;\n",
              "      cursor: pointer;\n",
              "      display: none;\n",
              "      fill: #1967D2;\n",
              "      height: 32px;\n",
              "      padding: 0 0 0 0;\n",
              "      width: 32px;\n",
              "    }\n",
              "\n",
              "    .colab-df-convert:hover {\n",
              "      background-color: #E2EBFA;\n",
              "      box-shadow: 0px 1px 2px rgba(60, 64, 67, 0.3), 0px 1px 3px 1px rgba(60, 64, 67, 0.15);\n",
              "      fill: #174EA6;\n",
              "    }\n",
              "\n",
              "    [theme=dark] .colab-df-convert {\n",
              "      background-color: #3B4455;\n",
              "      fill: #D2E3FC;\n",
              "    }\n",
              "\n",
              "    [theme=dark] .colab-df-convert:hover {\n",
              "      background-color: #434B5C;\n",
              "      box-shadow: 0px 1px 3px 1px rgba(0, 0, 0, 0.15);\n",
              "      filter: drop-shadow(0px 1px 2px rgba(0, 0, 0, 0.3));\n",
              "      fill: #FFFFFF;\n",
              "    }\n",
              "  </style>\n",
              "\n",
              "      <script>\n",
              "        const buttonEl =\n",
              "          document.querySelector('#df-43a603d3-9285-4ac0-855d-61b8a27ed112 button.colab-df-convert');\n",
              "        buttonEl.style.display =\n",
              "          google.colab.kernel.accessAllowed ? 'block' : 'none';\n",
              "\n",
              "        async function convertToInteractive(key) {\n",
              "          const element = document.querySelector('#df-43a603d3-9285-4ac0-855d-61b8a27ed112');\n",
              "          const dataTable =\n",
              "            await google.colab.kernel.invokeFunction('convertToInteractive',\n",
              "                                                     [key], {});\n",
              "          if (!dataTable) return;\n",
              "\n",
              "          const docLinkHtml = 'Like what you see? Visit the ' +\n",
              "            '<a target=\"_blank\" href=https://colab.research.google.com/notebooks/data_table.ipynb>data table notebook</a>'\n",
              "            + ' to learn more about interactive tables.';\n",
              "          element.innerHTML = '';\n",
              "          dataTable['output_type'] = 'display_data';\n",
              "          await google.colab.output.renderOutput(dataTable, element);\n",
              "          const docLink = document.createElement('div');\n",
              "          docLink.innerHTML = docLinkHtml;\n",
              "          element.appendChild(docLink);\n",
              "        }\n",
              "      </script>\n",
              "    </div>\n",
              "  </div>\n",
              "  "
            ]
          },
          "metadata": {},
          "execution_count": 87
        }
      ]
    },
    {
      "cell_type": "code",
      "source": [
        "print(df.shape)"
      ],
      "metadata": {
        "colab": {
          "base_uri": "https://localhost:8080/"
        },
        "id": "3PUuDJUOrxVb",
        "outputId": "ab0d95b0-fb3e-4197-8093-8b28e5dbe6a4"
      },
      "execution_count": 88,
      "outputs": [
        {
          "output_type": "stream",
          "name": "stdout",
          "text": [
            "(424, 7)\n"
          ]
        }
      ]
    }
  ]
}