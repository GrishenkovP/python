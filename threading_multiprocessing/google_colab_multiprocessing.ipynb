{
  "nbformat": 4,
  "nbformat_minor": 0,
  "metadata": {
    "colab": {
      "name": "google_colab_multiprocessing.ipynb",
      "provenance": [],
      "collapsed_sections": []
    },
    "kernelspec": {
      "name": "python3",
      "display_name": "Python 3"
    },
    "language_info": {
      "name": "python"
    }
  },
  "cells": [
    {
      "cell_type": "markdown",
      "source": [
        "# Многопроцессорность в Python. Библиотека Multiprocessing"
      ],
      "metadata": {
        "id": "tPzgo4HHWUCh"
      }
    },
    {
      "cell_type": "code",
      "execution_count": 1,
      "metadata": {
        "colab": {
          "base_uri": "https://localhost:8080/"
        },
        "id": "hKVbyGT7WLJm",
        "outputId": "7ad76a38-8357-43b4-9636-abb8e9fd1ec7"
      },
      "outputs": [
        {
          "output_type": "stream",
          "name": "stdout",
          "text": [
            "core id\t\t: 0\n",
            "core id\t\t: 0\n"
          ]
        }
      ],
      "source": [
        "! cat /proc/cpuinfo | grep 'core id'"
      ]
    },
    {
      "cell_type": "code",
      "source": [
        "! nproc"
      ],
      "metadata": {
        "colab": {
          "base_uri": "https://localhost:8080/"
        },
        "id": "ki_s9HKiXqVi",
        "outputId": "f7c884cb-edd0-48d1-d9a8-9c84cf208772"
      },
      "execution_count": 2,
      "outputs": [
        {
          "output_type": "stream",
          "name": "stdout",
          "text": [
            "2\n"
          ]
        }
      ]
    },
    {
      "cell_type": "code",
      "source": [
        "import time\n",
        "import multiprocessing"
      ],
      "metadata": {
        "id": "0biNErWQXsnJ"
      },
      "execution_count": 3,
      "outputs": []
    },
    {
      "cell_type": "code",
      "source": [
        "def please_sleep(t:int)->None:\n",
        "    print(\"Sleeping for {} seconds\".format(t))\n",
        "    time.sleep(t)\n",
        "    print(\"Done Sleeping for {} seconds\".format(t))"
      ],
      "metadata": {
        "id": "EUctvlpTYljh"
      },
      "execution_count": 4,
      "outputs": []
    },
    {
      "cell_type": "code",
      "source": [
        "def main(n:int)->None:\n",
        "  processes = []\n",
        "\n",
        "  for i in range(1,n):\n",
        "    p = multiprocessing.Process(target = please_sleep, args = [i,])\n",
        "    p.start()\n",
        "    processes.append(p)\n",
        "\n",
        "  for p in processes:\n",
        "    p.join()"
      ],
      "metadata": {
        "id": "2SxsIJBrYrHB"
      },
      "execution_count": 5,
      "outputs": []
    },
    {
      "cell_type": "code",
      "source": [
        "start = time.perf_counter()\n",
        "main(10)\n",
        "finish = time.perf_counter()\n",
        "print(\"Finished in {} seconds\".format(finish-start))"
      ],
      "metadata": {
        "colab": {
          "base_uri": "https://localhost:8080/"
        },
        "id": "B07Ud9X7Y4Rs",
        "outputId": "9cdfd776-f24d-414a-aeec-0cd7066451fa"
      },
      "execution_count": 6,
      "outputs": [
        {
          "output_type": "stream",
          "name": "stdout",
          "text": [
            "Sleeping for 3 seconds\n",
            "Sleeping for 2 seconds\n",
            "Sleeping for 1 seconds\n",
            "Sleeping for 4 seconds\n",
            "Sleeping for 5 seconds\n",
            "Sleeping for 7 seconds\n",
            "Sleeping for 6 seconds\n",
            "Sleeping for 8 seconds\n",
            "Sleeping for 9 seconds\n",
            "Done Sleeping for 1 seconds\n",
            "Done Sleeping for 2 seconds\n",
            "Done Sleeping for 3 seconds\n",
            "Done Sleeping for 4 seconds\n",
            "Done Sleeping for 5 seconds\n",
            "Done Sleeping for 6 seconds\n",
            "Done Sleeping for 7 seconds\n",
            "Done Sleeping for 8 seconds\n",
            "Done Sleeping for 9 seconds\n",
            "Finished in 9.129063068999812 seconds\n"
          ]
        }
      ]
    }
  ]
}