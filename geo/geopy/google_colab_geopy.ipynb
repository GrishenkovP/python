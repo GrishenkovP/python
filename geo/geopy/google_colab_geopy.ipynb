{
  "nbformat": 4,
  "nbformat_minor": 0,
  "metadata": {
    "colab": {
      "name": "geopy.ipynb",
      "provenance": [],
      "collapsed_sections": []
    },
    "kernelspec": {
      "name": "python3",
      "display_name": "Python 3"
    }
  },
  "cells": [
    {
      "cell_type": "code",
      "metadata": {
        "colab": {
          "base_uri": "https://localhost:8080/"
        },
        "id": "donWugOFBFil",
        "outputId": "44dd4ab2-a965-459e-d152-f5a2c0e6f819"
      },
      "source": [
        "pip install geopy"
      ],
      "execution_count": 1,
      "outputs": [
        {
          "output_type": "stream",
          "text": [
            "Requirement already satisfied: geopy in /usr/local/lib/python3.6/dist-packages (1.17.0)\n",
            "Requirement already satisfied: geographiclib<2,>=1.49 in /usr/local/lib/python3.6/dist-packages (from geopy) (1.50)\n"
          ],
          "name": "stdout"
        }
      ]
    },
    {
      "cell_type": "code",
      "metadata": {
        "id": "fYy6m-0EBSf-"
      },
      "source": [
        "from geopy.geocoders import Nominatim\r\n",
        "geolocator = Nominatim(user_agent=\"my-application\")\r\n",
        "import numpy as np"
      ],
      "execution_count": 2,
      "outputs": []
    },
    {
      "cell_type": "code",
      "metadata": {
        "id": "Wf3Xjt50Bc3E"
      },
      "source": [
        "def geolocate(city=None, country=None):\r\n",
        "    if city != None:\r\n",
        "        try:\r\n",
        "            loc = geolocator.geocode(str(city + ',' + country))\r\n",
        "            return (loc.latitude, loc.longitude)\r\n",
        "        except:\r\n",
        "            return np.nan\r\n",
        "    else:\r\n",
        "        try:\r\n",
        "            loc = geolocator.geocode(country)\r\n",
        "            return (loc.latitude, loc.longitude)\r\n",
        "        except:\r\n",
        "            return np.nan"
      ],
      "execution_count": 3,
      "outputs": []
    },
    {
      "cell_type": "code",
      "metadata": {
        "colab": {
          "base_uri": "https://localhost:8080/"
        },
        "id": "RlablkUbBhnj",
        "outputId": "c43e856d-088e-4e3c-95dd-e8dab0c27e48"
      },
      "source": [
        "# Геолокация города\r\n",
        "geolocate(city='Orenburg', country='Russia')"
      ],
      "execution_count": 4,
      "outputs": [
        {
          "output_type": "execute_result",
          "data": {
            "text/plain": [
              "(51.767452, 55.097118)"
            ]
          },
          "metadata": {
            "tags": []
          },
          "execution_count": 4
        }
      ]
    }
  ]
}
