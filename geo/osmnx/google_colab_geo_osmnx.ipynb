{
  "nbformat": 4,
  "nbformat_minor": 0,
  "metadata": {
    "colab": {
      "name": "google_colab_geo_osmnx.ipynb",
      "provenance": [],
      "collapsed_sections": []
    },
    "kernelspec": {
      "name": "python3",
      "display_name": "Python 3"
    },
    "language_info": {
      "name": "python"
    }
  },
  "cells": [
    {
      "cell_type": "markdown",
      "metadata": {
        "id": "14692dL7aCNJ"
      },
      "source": [
        "#NEW YORK airbnb flats"
      ]
    },
    {
      "cell_type": "code",
      "metadata": {
        "colab": {
          "base_uri": "https://localhost:8080/",
          "height": 1000
        },
        "id": "neJujsh-aKwP",
        "outputId": "3b6a0700-dbe5-481c-ea64-eb265f2a3c0e"
      },
      "source": [
        "!pip install osmnx"
      ],
      "execution_count": 2,
      "outputs": [
        {
          "output_type": "stream",
          "text": [
            "Collecting osmnx\n",
            "\u001b[?25l  Downloading https://files.pythonhosted.org/packages/e3/43/1f5fb0d221c422c019b3b1b3ce6c5d48e6c2e05ee936cbf8d26c979f1310/osmnx-1.0.1-py2.py3-none-any.whl (87kB)\n",
            "\r\u001b[K     |███▊                            | 10kB 21.5MB/s eta 0:00:01\r\u001b[K     |███████▌                        | 20kB 31.2MB/s eta 0:00:01\r\u001b[K     |███████████▎                    | 30kB 36.0MB/s eta 0:00:01\r\u001b[K     |███████████████                 | 40kB 21.0MB/s eta 0:00:01\r\u001b[K     |██████████████████▊             | 51kB 12.6MB/s eta 0:00:01\r\u001b[K     |██████████████████████▌         | 61kB 14.3MB/s eta 0:00:01\r\u001b[K     |██████████████████████████▏     | 71kB 14.0MB/s eta 0:00:01\r\u001b[K     |██████████████████████████████  | 81kB 14.2MB/s eta 0:00:01\r\u001b[K     |████████████████████████████████| 92kB 5.7MB/s \n",
            "\u001b[?25hRequirement already satisfied: descartes>=1.1 in /usr/local/lib/python3.7/dist-packages (from osmnx) (1.1.0)\n",
            "Collecting matplotlib>=3.3\n",
            "\u001b[?25l  Downloading https://files.pythonhosted.org/packages/ce/63/74c0b6184b6b169b121bb72458818ee60a7d7c436d7b1907bd5874188c55/matplotlib-3.4.1-cp37-cp37m-manylinux1_x86_64.whl (10.3MB)\n",
            "\u001b[K     |████████████████████████████████| 10.3MB 12.3MB/s \n",
            "\u001b[?25hRequirement already satisfied: pandas>=1.1 in /usr/local/lib/python3.7/dist-packages (from osmnx) (1.1.5)\n",
            "Collecting Rtree>=0.9\n",
            "\u001b[?25l  Downloading https://files.pythonhosted.org/packages/51/05/5a67111cee91d2165a2bcb855f442186e3d76ddef834596cc84d4875c401/Rtree-0.9.7-cp37-cp37m-manylinux2010_x86_64.whl (994kB)\n",
            "\u001b[K     |████████████████████████████████| 1.0MB 39.8MB/s \n",
            "\u001b[?25hRequirement already satisfied: Shapely>=1.7 in /usr/local/lib/python3.7/dist-packages (from osmnx) (1.7.1)\n",
            "Collecting pyproj>=2.6\n",
            "\u001b[?25l  Downloading https://files.pythonhosted.org/packages/b1/72/d52e9ca81caef056062d71991b0e9b1d16af042245627c5d0e4916a36c4f/pyproj-3.0.1-cp37-cp37m-manylinux2010_x86_64.whl (6.5MB)\n",
            "\u001b[K     |████████████████████████████████| 6.5MB 68.2MB/s \n",
            "\u001b[?25hCollecting geopandas>=0.8\n",
            "\u001b[?25l  Downloading https://files.pythonhosted.org/packages/d7/bf/e9cefb69d39155d122b6ddca53893b61535fa6ffdad70bf5ef708977f53f/geopandas-0.9.0-py2.py3-none-any.whl (994kB)\n",
            "\u001b[K     |████████████████████████████████| 1.0MB 59.9MB/s \n",
            "\u001b[?25hRequirement already satisfied: networkx>=2.5 in /usr/local/lib/python3.7/dist-packages (from osmnx) (2.5.1)\n",
            "Collecting requests>=2.25\n",
            "\u001b[?25l  Downloading https://files.pythonhosted.org/packages/29/c1/24814557f1d22c56d50280771a17307e6bf87b70727d975fd6b2ce6b014a/requests-2.25.1-py2.py3-none-any.whl (61kB)\n",
            "\u001b[K     |████████████████████████████████| 61kB 5.9MB/s \n",
            "\u001b[?25hRequirement already satisfied: numpy>=1.19 in /usr/local/lib/python3.7/dist-packages (from osmnx) (1.19.5)\n",
            "Requirement already satisfied: pyparsing>=2.2.1 in /usr/local/lib/python3.7/dist-packages (from matplotlib>=3.3->osmnx) (2.4.7)\n",
            "Requirement already satisfied: pillow>=6.2.0 in /usr/local/lib/python3.7/dist-packages (from matplotlib>=3.3->osmnx) (7.1.2)\n",
            "Requirement already satisfied: python-dateutil>=2.7 in /usr/local/lib/python3.7/dist-packages (from matplotlib>=3.3->osmnx) (2.8.1)\n",
            "Requirement already satisfied: cycler>=0.10 in /usr/local/lib/python3.7/dist-packages (from matplotlib>=3.3->osmnx) (0.10.0)\n",
            "Requirement already satisfied: kiwisolver>=1.0.1 in /usr/local/lib/python3.7/dist-packages (from matplotlib>=3.3->osmnx) (1.3.1)\n",
            "Requirement already satisfied: pytz>=2017.2 in /usr/local/lib/python3.7/dist-packages (from pandas>=1.1->osmnx) (2018.9)\n",
            "Requirement already satisfied: certifi in /usr/local/lib/python3.7/dist-packages (from pyproj>=2.6->osmnx) (2020.12.5)\n",
            "Collecting fiona>=1.8\n",
            "\u001b[?25l  Downloading https://files.pythonhosted.org/packages/ea/2a/404b22883298a3efe9c6ef8d67acbf2c38443fa366ee9cd4cd34e17626ea/Fiona-1.8.19-cp37-cp37m-manylinux1_x86_64.whl (15.3MB)\n",
            "\u001b[K     |████████████████████████████████| 15.3MB 341kB/s \n",
            "\u001b[?25hRequirement already satisfied: decorator<5,>=4.3 in /usr/local/lib/python3.7/dist-packages (from networkx>=2.5->osmnx) (4.4.2)\n",
            "Requirement already satisfied: idna<3,>=2.5 in /usr/local/lib/python3.7/dist-packages (from requests>=2.25->osmnx) (2.10)\n",
            "Requirement already satisfied: urllib3<1.27,>=1.21.1 in /usr/local/lib/python3.7/dist-packages (from requests>=2.25->osmnx) (1.24.3)\n",
            "Requirement already satisfied: chardet<5,>=3.0.2 in /usr/local/lib/python3.7/dist-packages (from requests>=2.25->osmnx) (3.0.4)\n",
            "Requirement already satisfied: six>=1.5 in /usr/local/lib/python3.7/dist-packages (from python-dateutil>=2.7->matplotlib>=3.3->osmnx) (1.15.0)\n",
            "Requirement already satisfied: click<8,>=4.0 in /usr/local/lib/python3.7/dist-packages (from fiona>=1.8->geopandas>=0.8->osmnx) (7.1.2)\n",
            "Collecting cligj>=0.5\n",
            "  Downloading https://files.pythonhosted.org/packages/42/1e/947eadf10d6804bf276eb8a038bd5307996dceaaa41cfd21b7a15ec62f5d/cligj-0.7.1-py3-none-any.whl\n",
            "Collecting click-plugins>=1.0\n",
            "  Downloading https://files.pythonhosted.org/packages/e9/da/824b92d9942f4e472702488857914bdd50f73021efea15b4cad9aca8ecef/click_plugins-1.1.1-py2.py3-none-any.whl\n",
            "Requirement already satisfied: attrs>=17 in /usr/local/lib/python3.7/dist-packages (from fiona>=1.8->geopandas>=0.8->osmnx) (20.3.0)\n",
            "Collecting munch\n",
            "  Downloading https://files.pythonhosted.org/packages/cc/ab/85d8da5c9a45e072301beb37ad7f833cd344e04c817d97e0cc75681d248f/munch-2.5.0-py2.py3-none-any.whl\n",
            "\u001b[31mERROR: google-colab 1.0.0 has requirement requests~=2.23.0, but you'll have requests 2.25.1 which is incompatible.\u001b[0m\n",
            "\u001b[31mERROR: datascience 0.10.6 has requirement folium==0.2.1, but you'll have folium 0.8.3 which is incompatible.\u001b[0m\n",
            "\u001b[31mERROR: albumentations 0.1.12 has requirement imgaug<0.2.7,>=0.2.5, but you'll have imgaug 0.2.9 which is incompatible.\u001b[0m\n",
            "Installing collected packages: matplotlib, Rtree, pyproj, cligj, click-plugins, munch, fiona, geopandas, requests, osmnx\n",
            "  Found existing installation: matplotlib 3.2.2\n",
            "    Uninstalling matplotlib-3.2.2:\n",
            "      Successfully uninstalled matplotlib-3.2.2\n",
            "  Found existing installation: requests 2.23.0\n",
            "    Uninstalling requests-2.23.0:\n",
            "      Successfully uninstalled requests-2.23.0\n",
            "Successfully installed Rtree-0.9.7 click-plugins-1.1.1 cligj-0.7.1 fiona-1.8.19 geopandas-0.9.0 matplotlib-3.4.1 munch-2.5.0 osmnx-1.0.1 pyproj-3.0.1 requests-2.25.1\n"
          ],
          "name": "stdout"
        },
        {
          "output_type": "display_data",
          "data": {
            "application/vnd.colab-display-data+json": {
              "pip_warning": {
                "packages": [
                  "matplotlib",
                  "mpl_toolkits"
                ]
              }
            }
          },
          "metadata": {
            "tags": []
          }
        }
      ]
    },
    {
      "cell_type": "code",
      "metadata": {
        "id": "8YVXNQlEX180"
      },
      "source": [
        "import osmnx as ox\n",
        "import pandas as pd\n",
        "import numpy as np\n",
        "import networkx as nx\n",
        "import matplotlib.pyplot as plt\n",
        "%matplotlib inline"
      ],
      "execution_count": 1,
      "outputs": []
    },
    {
      "cell_type": "markdown",
      "metadata": {
        "id": "kwbirf_WajHJ"
      },
      "source": [
        "###Загружаем граф географической области"
      ]
    },
    {
      "cell_type": "code",
      "metadata": {
        "id": "e4bfSllQae7G"
      },
      "source": [
        "G = ox.graph_from_place('Manhattan, New York, USA', network_type='walk')"
      ],
      "execution_count": 2,
      "outputs": []
    },
    {
      "cell_type": "code",
      "metadata": {
        "colab": {
          "base_uri": "https://localhost:8080/",
          "height": 466
        },
        "id": "s0uJcy3TaISP",
        "outputId": "9434e666-d6fa-4579-9754-451524c3264b"
      },
      "source": [
        "fig, ax = ox.plot_graph(G,)"
      ],
      "execution_count": 3,
      "outputs": [
        {
          "output_type": "display_data",
          "data": {
            "image/png": "[encoded data removed]",
            "text/plain": [
              "<Figure size 576x576 with 1 Axes>"
            ]
          },
          "metadata": {
            "tags": []
          }
        }
      ]
    },
    {
      "cell_type": "markdown",
      "metadata": {
        "id": "s-l1NjxXbyiy"
      },
      "source": [
        "###Загружаем датасет"
      ]
    },
    {
      "cell_type": "code",
      "metadata": {
        "colab": {
          "base_uri": "https://localhost:8080/",
          "height": 411
        },
        "id": "1aM-AyIvb1j4",
        "outputId": "28d260cd-31cb-4d13-dc15-b2c614059e35"
      },
      "source": [
        "data = pd.read_csv('drive/MyDrive/dataset/AB_NYC_2019.csv')\n",
        "data.head()"
      ],
      "execution_count": 4,
      "outputs": [
        {
          "output_type": "execute_result",
          "data": {
            "text/html": [
              "<div>\n",
              "<style scoped>\n",
              "    .dataframe tbody tr th:only-of-type {\n",
              "        vertical-align: middle;\n",
              "    }\n",
              "\n",
              "    .dataframe tbody tr th {\n",
              "        vertical-align: top;\n",
              "    }\n",
              "\n",
              "    .dataframe thead th {\n",
              "        text-align: right;\n",
              "    }\n",
              "</style>\n",
              "<table border=\"1\" class=\"dataframe\">\n",
              "  <thead>\n",
              "    <tr style=\"text-align: right;\">\n",
              "      <th></th>\n",
              "      <th>id</th>\n",
              "      <th>name</th>\n",
              "      <th>host_id</th>\n",
              "      <th>host_name</th>\n",
              "      <th>neighbourhood_group</th>\n",
              "      <th>neighbourhood</th>\n",
              "      <th>latitude</th>\n",
              "      <th>longitude</th>\n",
              "      <th>room_type</th>\n",
              "      <th>price</th>\n",
              "      <th>minimum_nights</th>\n",
              "      <th>number_of_reviews</th>\n",
              "      <th>last_review</th>\n",
              "      <th>reviews_per_month</th>\n",
              "      <th>calculated_host_listings_count</th>\n",
              "      <th>availability_365</th>\n",
              "    </tr>\n",
              "  </thead>\n",
              "  <tbody>\n",
              "    <tr>\n",
              "      <th>0</th>\n",
              "      <td>2539</td>\n",
              "      <td>Clean &amp; quiet apt home by the park</td>\n",
              "      <td>2787</td>\n",
              "      <td>John</td>\n",
              "      <td>Brooklyn</td>\n",
              "      <td>Kensington</td>\n",
              "      <td>40.64749</td>\n",
              "      <td>-73.97237</td>\n",
              "      <td>Private room</td>\n",
              "      <td>149</td>\n",
              "      <td>1</td>\n",
              "      <td>9</td>\n",
              "      <td>2018-10-19</td>\n",
              "      <td>0.21</td>\n",
              "      <td>6</td>\n",
              "      <td>365</td>\n",
              "    </tr>\n",
              "    <tr>\n",
              "      <th>1</th>\n",
              "      <td>2595</td>\n",
              "      <td>Skylit Midtown Castle</td>\n",
              "      <td>2845</td>\n",
              "      <td>Jennifer</td>\n",
              "      <td>Manhattan</td>\n",
              "      <td>Midtown</td>\n",
              "      <td>40.75362</td>\n",
              "      <td>-73.98377</td>\n",
              "      <td>Entire home/apt</td>\n",
              "      <td>225</td>\n",
              "      <td>1</td>\n",
              "      <td>45</td>\n",
              "      <td>2019-05-21</td>\n",
              "      <td>0.38</td>\n",
              "      <td>2</td>\n",
              "      <td>355</td>\n",
              "    </tr>\n",
              "    <tr>\n",
              "      <th>2</th>\n",
              "      <td>3647</td>\n",
              "      <td>THE VILLAGE OF HARLEM....NEW YORK !</td>\n",
              "      <td>4632</td>\n",
              "      <td>Elisabeth</td>\n",
              "      <td>Manhattan</td>\n",
              "      <td>Harlem</td>\n",
              "      <td>40.80902</td>\n",
              "      <td>-73.94190</td>\n",
              "      <td>Private room</td>\n",
              "      <td>150</td>\n",
              "      <td>3</td>\n",
              "      <td>0</td>\n",
              "      <td>NaN</td>\n",
              "      <td>NaN</td>\n",
              "      <td>1</td>\n",
              "      <td>365</td>\n",
              "    </tr>\n",
              "    <tr>\n",
              "      <th>3</th>\n",
              "      <td>3831</td>\n",
              "      <td>Cozy Entire Floor of Brownstone</td>\n",
              "      <td>4869</td>\n",
              "      <td>LisaRoxanne</td>\n",
              "      <td>Brooklyn</td>\n",
              "      <td>Clinton Hill</td>\n",
              "      <td>40.68514</td>\n",
              "      <td>-73.95976</td>\n",
              "      <td>Entire home/apt</td>\n",
              "      <td>89</td>\n",
              "      <td>1</td>\n",
              "      <td>270</td>\n",
              "      <td>2019-07-05</td>\n",
              "      <td>4.64</td>\n",
              "      <td>1</td>\n",
              "      <td>194</td>\n",
              "    </tr>\n",
              "    <tr>\n",
              "      <th>4</th>\n",
              "      <td>5022</td>\n",
              "      <td>Entire Apt: Spacious Studio/Loft by central park</td>\n",
              "      <td>7192</td>\n",
              "      <td>Laura</td>\n",
              "      <td>Manhattan</td>\n",
              "      <td>East Harlem</td>\n",
              "      <td>40.79851</td>\n",
              "      <td>-73.94399</td>\n",
              "      <td>Entire home/apt</td>\n",
              "      <td>80</td>\n",
              "      <td>10</td>\n",
              "      <td>9</td>\n",
              "      <td>2018-11-19</td>\n",
              "      <td>0.10</td>\n",
              "      <td>1</td>\n",
              "      <td>0</td>\n",
              "    </tr>\n",
              "  </tbody>\n",
              "</table>\n",
              "</div>"
            ],
            "text/plain": [
              "     id  ... availability_365\n",
              "0  2539  ...              365\n",
              "1  2595  ...              355\n",
              "2  3647  ...              365\n",
              "3  3831  ...              194\n",
              "4  5022  ...                0\n",
              "\n",
              "[5 rows x 16 columns]"
            ]
          },
          "metadata": {
            "tags": []
          },
          "execution_count": 4
        }
      ]
    },
    {
      "cell_type": "markdown",
      "metadata": {
        "id": "eEcPT6CndDNY"
      },
      "source": [
        "###Анализ данных"
      ]
    },
    {
      "cell_type": "code",
      "metadata": {
        "colab": {
          "base_uri": "https://localhost:8080/"
        },
        "id": "dMobKdQodFdv",
        "outputId": "2c0de638-e026-4bb3-e03e-dc1fa1b0524d"
      },
      "source": [
        "# типы недвижимости, которую можно арендовать\n",
        "data['room_type'].value_counts()"
      ],
      "execution_count": 5,
      "outputs": [
        {
          "output_type": "execute_result",
          "data": {
            "text/plain": [
              "Entire home/apt    25409\n",
              "Private room       22326\n",
              "Shared room         1160\n",
              "Name: room_type, dtype: int64"
            ]
          },
          "metadata": {
            "tags": []
          },
          "execution_count": 5
        }
      ]
    },
    {
      "cell_type": "code",
      "metadata": {
        "colab": {
          "base_uri": "https://localhost:8080/"
        },
        "id": "7Y2h6cb4dIyW",
        "outputId": "cf87a78b-8b97-4ee0-86bc-af9d56c14dd2"
      },
      "source": [
        "# районы NY\n",
        "data['neighbourhood_group'].value_counts()"
      ],
      "execution_count": 6,
      "outputs": [
        {
          "output_type": "execute_result",
          "data": {
            "text/plain": [
              "Manhattan        21661\n",
              "Brooklyn         20104\n",
              "Queens            5666\n",
              "Bronx             1091\n",
              "Staten Island      373\n",
              "Name: neighbourhood_group, dtype: int64"
            ]
          },
          "metadata": {
            "tags": []
          },
          "execution_count": 6
        }
      ]
    },
    {
      "cell_type": "code",
      "metadata": {
        "colab": {
          "base_uri": "https://localhost:8080/",
          "height": 296
        },
        "id": "M2X9kJCHdNHO",
        "outputId": "e18733c4-0893-4fc6-adf5-7709eeb6d127"
      },
      "source": [
        "# посмотрим на распределение стоимости аренды\n",
        "prices = data['price'].values\n",
        "plt.hist(prices, bins=30)\n",
        "plt.ylabel('Probability')\n",
        "plt.xlabel('Data')"
      ],
      "execution_count": 7,
      "outputs": [
        {
          "output_type": "execute_result",
          "data": {
            "text/plain": [
              "Text(0.5, 0, 'Data')"
            ]
          },
          "metadata": {
            "tags": []
          },
          "execution_count": 7
        },
        {
          "output_type": "display_data",
          "data": {
            "image/png": "[encoded data removed]",
            "text/plain": [
              "<Figure size 432x288 with 1 Axes>"
            ]
          },
          "metadata": {
            "tags": [],
            "needs_background": "light"
          }
        }
      ]
    },
    {
      "cell_type": "code",
      "metadata": {
        "colab": {
          "base_uri": "https://localhost:8080/"
        },
        "id": "E6CjnTnvdQMO",
        "outputId": "339ac079-2000-4adf-f5bd-d444ec2a5b0a"
      },
      "source": [
        "# квантиль 0.99 от цены\n",
        "data['price'].quantile(.99)"
      ],
      "execution_count": 8,
      "outputs": [
        {
          "output_type": "execute_result",
          "data": {
            "text/plain": [
              "799.0"
            ]
          },
          "metadata": {
            "tags": []
          },
          "execution_count": 8
        }
      ]
    },
    {
      "cell_type": "code",
      "metadata": {
        "id": "qbc-62vSdRVm"
      },
      "source": [
        "# избавимся от ценовых выбросов\n",
        "data = data[data['price']<data['price'].quantile(.99)]"
      ],
      "execution_count": 9,
      "outputs": []
    },
    {
      "cell_type": "code",
      "metadata": {
        "colab": {
          "base_uri": "https://localhost:8080/",
          "height": 296
        },
        "id": "X-HuYrTUdTYe",
        "outputId": "26bdfa66-4375-4a01-ea90-2b4755c3239c"
      },
      "source": [
        "# посмотрим на распределение еще раз стоимости аренды\n",
        "prices = data['price'].values\n",
        "plt.hist(prices, bins=30)\n",
        "plt.ylabel('Probability')\n",
        "plt.xlabel('Data')"
      ],
      "execution_count": 10,
      "outputs": [
        {
          "output_type": "execute_result",
          "data": {
            "text/plain": [
              "Text(0.5, 0, 'Data')"
            ]
          },
          "metadata": {
            "tags": []
          },
          "execution_count": 10
        },
        {
          "output_type": "display_data",
          "data": {
            "image/png": "[encoded data removed]",
            "text/plain": [
              "<Figure size 432x288 with 1 Axes>"
            ]
          },
          "metadata": {
            "tags": [],
            "needs_background": "light"
          }
        }
      ]
    },
    {
      "cell_type": "code",
      "metadata": {
        "colab": {
          "base_uri": "https://localhost:8080/"
        },
        "id": "w9Q1uETgdXum",
        "outputId": "eeeed15f-7325-4c70-9d81-10992c35f3f0"
      },
      "source": [
        "# средняя цена объекта недвижимости\n",
        "data['price'].mean()"
      ],
      "execution_count": 11,
      "outputs": [
        {
          "output_type": "execute_result",
          "data": {
            "text/plain": [
              "137.29793607834225"
            ]
          },
          "metadata": {
            "tags": []
          },
          "execution_count": 11
        }
      ]
    },
    {
      "cell_type": "code",
      "metadata": {
        "colab": {
          "base_uri": "https://localhost:8080/"
        },
        "id": "D-vjyKHDdYyu",
        "outputId": "a3fa41a5-667b-41f5-ae5d-e7b38a63568a"
      },
      "source": [
        "# квантиль 0.2 от цены\n",
        "data['price'].quantile(.2)"
      ],
      "execution_count": 12,
      "outputs": [
        {
          "output_type": "execute_result",
          "data": {
            "text/plain": [
              "60.0"
            ]
          },
          "metadata": {
            "tags": []
          },
          "execution_count": 12
        }
      ]
    },
    {
      "cell_type": "code",
      "metadata": {
        "id": "e6SrgsizdeDH"
      },
      "source": [
        "# оставим только дешевые варианты\n",
        "data = data[data['price']<data['price'].quantile(.2)]"
      ],
      "execution_count": 13,
      "outputs": []
    },
    {
      "cell_type": "code",
      "metadata": {
        "colab": {
          "base_uri": "https://localhost:8080/"
        },
        "id": "-ckZASLXdgE2",
        "outputId": "0c52491b-a31e-4604-a0af-ada21b1d7898"
      },
      "source": [
        "len(data)"
      ],
      "execution_count": 14,
      "outputs": [
        {
          "output_type": "execute_result",
          "data": {
            "text/plain": [
              "8605"
            ]
          },
          "metadata": {
            "tags": []
          },
          "execution_count": 14
        }
      ]
    },
    {
      "cell_type": "code",
      "metadata": {
        "id": "Aw24gY3YdipG"
      },
      "source": [
        "# аренда нужна на 1-2 дня\n",
        "data = data[data['minimum_nights']<3]"
      ],
      "execution_count": 15,
      "outputs": []
    },
    {
      "cell_type": "code",
      "metadata": {
        "colab": {
          "base_uri": "https://localhost:8080/"
        },
        "id": "waw7aoe2dkn-",
        "outputId": "c28b31d7-d367-467f-a11a-7473c0009423"
      },
      "source": [
        "len(data)"
      ],
      "execution_count": 16,
      "outputs": [
        {
          "output_type": "execute_result",
          "data": {
            "text/plain": [
              "4627"
            ]
          },
          "metadata": {
            "tags": []
          },
          "execution_count": 16
        }
      ]
    },
    {
      "cell_type": "code",
      "metadata": {
        "colab": {
          "base_uri": "https://localhost:8080/"
        },
        "id": "dTOy6jvzdoEd",
        "outputId": "77857075-96da-4539-e9fc-50d314a0e21f"
      },
      "source": [
        "# хорошо бы, чтобы объект был достаточно популярный\n",
        "data['number_of_reviews'].mean()"
      ],
      "execution_count": 17,
      "outputs": [
        {
          "output_type": "execute_result",
          "data": {
            "text/plain": [
              "30.18781067646423"
            ]
          },
          "metadata": {
            "tags": []
          },
          "execution_count": 17
        }
      ]
    },
    {
      "cell_type": "code",
      "metadata": {
        "id": "7IRR6mOjdqX3"
      },
      "source": [
        "data = data[data['number_of_reviews']>data['number_of_reviews'].mean()]"
      ],
      "execution_count": 18,
      "outputs": []
    },
    {
      "cell_type": "code",
      "metadata": {
        "colab": {
          "base_uri": "https://localhost:8080/"
        },
        "id": "Gfi1ieGrdsWl",
        "outputId": "c7913abf-40da-4ab7-b669-e08b31107523"
      },
      "source": [
        "len(data)"
      ],
      "execution_count": 19,
      "outputs": [
        {
          "output_type": "execute_result",
          "data": {
            "text/plain": [
              "1270"
            ]
          },
          "metadata": {
            "tags": []
          },
          "execution_count": 19
        }
      ]
    },
    {
      "cell_type": "code",
      "metadata": {
        "id": "hGtf7XVNdvWX"
      },
      "source": [
        "# исключаем апартаменты и общие комнаты\n",
        "data = data[data['room_type'] == 'Private room']"
      ],
      "execution_count": 20,
      "outputs": []
    },
    {
      "cell_type": "code",
      "metadata": {
        "id": "T2o3mfv_dxku"
      },
      "source": [
        "# доступна в большинство календарных дней\n",
        "data = data[data['availability_365'] > 300]"
      ],
      "execution_count": 21,
      "outputs": []
    },
    {
      "cell_type": "code",
      "metadata": {
        "id": "cm-3UI1Adyn0"
      },
      "source": [
        "# район Manhattan\n",
        "data = data[data['neighbourhood_group'] == 'Manhattan']"
      ],
      "execution_count": 22,
      "outputs": []
    },
    {
      "cell_type": "code",
      "metadata": {
        "colab": {
          "base_uri": "https://localhost:8080/"
        },
        "id": "JHdy-Elqd19f",
        "outputId": "a783e8b5-ba3a-46b9-a3df-30be72fc46af"
      },
      "source": [
        "len(data)"
      ],
      "execution_count": 23,
      "outputs": [
        {
          "output_type": "execute_result",
          "data": {
            "text/plain": [
              "18"
            ]
          },
          "metadata": {
            "tags": []
          },
          "execution_count": 23
        }
      ]
    },
    {
      "cell_type": "markdown",
      "metadata": {
        "id": "AmsYbVKFd3N9"
      },
      "source": [
        "###Найдем объект ближайший по расположению к Empire State Building"
      ]
    },
    {
      "cell_type": "code",
      "metadata": {
        "colab": {
          "base_uri": "https://localhost:8080/",
          "height": 553
        },
        "id": "FcWuB_Nqd5x2",
        "outputId": "3d29c58c-ec51-4228-a6f2-4332ccf2364c"
      },
      "source": [
        "from IPython.display import Image \n",
        "from IPython.core.display import HTML \n",
        "Image(url= \"https://bashni.info/wp-content/uploads/2018/05/Sunset-at-the-Empire-State.jpg\")"
      ],
      "execution_count": 24,
      "outputs": [
        {
          "output_type": "execute_result",
          "data": {
            "text/html": [
              "<img src=\"https://bashni.info/wp-content/uploads/2018/05/Sunset-at-the-Empire-State.jpg\"/>"
            ],
            "text/plain": [
              "<IPython.core.display.Image object>"
            ]
          },
          "metadata": {
            "tags": []
          },
          "execution_count": 24
        }
      ]
    },
    {
      "cell_type": "code",
      "metadata": {
        "id": "qDa922_oeCQG"
      },
      "source": [
        "latitude = data['latitude'].values\n",
        "longitude = data['longitude'].values"
      ],
      "execution_count": 25,
      "outputs": []
    },
    {
      "cell_type": "code",
      "metadata": {
        "colab": {
          "base_uri": "https://localhost:8080/"
        },
        "id": "5JByCnFweGau",
        "outputId": "f1be218b-d376-44e9-f5e2-fdc77711e259"
      },
      "source": [
        "latitude"
      ],
      "execution_count": 26,
      "outputs": [
        {
          "output_type": "execute_result",
          "data": {
            "text/plain": [
              "array([40.83403, 40.82264, 40.82124, 40.85933, 40.80759, 40.80732,\n",
              "       40.80617, 40.79637, 40.82153, 40.80749, 40.87157, 40.85256,\n",
              "       40.87133, 40.83018, 40.80039, 40.80715, 40.81609, 40.8068 ])"
            ]
          },
          "metadata": {
            "tags": []
          },
          "execution_count": 26
        }
      ]
    },
    {
      "cell_type": "code",
      "metadata": {
        "id": "obYi5mpheI5-"
      },
      "source": [
        "# Координаты ESB\n",
        "latitude_ESB = 40.748391\n",
        "longtitude_ESB = -73.985543"
      ],
      "execution_count": 27,
      "outputs": []
    },
    {
      "cell_type": "code",
      "metadata": {
        "colab": {
          "base_uri": "https://localhost:8080/",
          "height": 303
        },
        "id": "iWUtOTE_eMOf",
        "outputId": "aaee58ac-e04b-4b78-a98c-9a21bc597131"
      },
      "source": [
        "# Посмотрит на объекты на карте\n",
        "fig, ax = ox.plot_graph(G,figsize=(5,5),show=False, close=False)\n",
        "ax.scatter(longitude,latitude,  c='red', s=100)#, alpha=0.3)\n",
        "ax.scatter(longtitude_ESB,latitude_ESB,  c='green', s=500)#, alpha=0.3)\n",
        "plt.show()"
      ],
      "execution_count": 30,
      "outputs": [
        {
          "output_type": "display_data",
          "data": {
            "image/png": "[encoded data removed]",
            "text/plain": [
              "<Figure size 360x360 with 1 Axes>"
            ]
          },
          "metadata": {
            "tags": []
          }
        }
      ]
    },
    {
      "cell_type": "code",
      "metadata": {
        "id": "y_AR8ctrfV43"
      },
      "source": [
        "# Найдем вершину графа G, ближайшую к ESB\n",
        "ESB_point = latitude_ESB, longtitude_ESB\n",
        "nearest_edge_ESB = ox.get_nearest_edge(G, ESB_point)"
      ],
      "execution_count": 35,
      "outputs": []
    },
    {
      "cell_type": "code",
      "metadata": {
        "colab": {
          "base_uri": "https://localhost:8080/"
        },
        "id": "ggtuH03mfZMl",
        "outputId": "6488ab5f-2ce2-48f4-cfa4-86a337dc1876"
      },
      "source": [
        "nearest_edge_ESB"
      ],
      "execution_count": 36,
      "outputs": [
        {
          "output_type": "execute_result",
          "data": {
            "text/plain": [
              "(7782216998, 7782217001, 0)"
            ]
          },
          "metadata": {
            "tags": []
          },
          "execution_count": 36
        }
      ]
    },
    {
      "cell_type": "code",
      "metadata": {
        "id": "qFUvoParguWW"
      },
      "source": [
        "# Найдем вершины графа G, ближайшие к объектам\n",
        "nearest_edges = ox.get_nearest_edges(G, longitude, latitude)"
      ],
      "execution_count": 37,
      "outputs": []
    },
    {
      "cell_type": "code",
      "metadata": {
        "colab": {
          "base_uri": "https://localhost:8080/"
        },
        "id": "xRiCtPjogxxe",
        "outputId": "853ab2e4-add1-406b-f92f-05b8019228d0"
      },
      "source": [
        "# Всего вершин\n",
        "len(list(G))"
      ],
      "execution_count": 38,
      "outputs": [
        {
          "output_type": "execute_result",
          "data": {
            "text/plain": [
              "28599"
            ]
          },
          "metadata": {
            "tags": []
          },
          "execution_count": 38
        }
      ]
    },
    {
      "cell_type": "markdown",
      "metadata": {
        "id": "Pk-4rlPPg7_7"
      },
      "source": [
        "###Нарисуем один путь"
      ]
    },
    {
      "cell_type": "code",
      "metadata": {
        "id": "jok3rwTfhATB"
      },
      "source": [
        "route = nx.shortest_path(G, nearest_edge_ESB[0], nearest_edges[0][0])"
      ],
      "execution_count": 39,
      "outputs": []
    },
    {
      "cell_type": "code",
      "metadata": {
        "colab": {
          "base_uri": "https://localhost:8080/",
          "height": 466
        },
        "id": "GJTk28tvhcW4",
        "outputId": "a4bda7c1-ff3b-498f-81d8-3e252b4b5707"
      },
      "source": [
        "fig, ax = ox.plot_graph_route(G, route, route_linewidth=6, node_size=0, bgcolor='k')"
      ],
      "execution_count": 40,
      "outputs": [
        {
          "output_type": "display_data",
          "data": {
            "image/png": "[encoded data removed]",
            "text/plain": [
              "<Figure size 576x576 with 1 Axes>"
            ]
          },
          "metadata": {
            "tags": []
          }
        }
      ]
    },
    {
      "cell_type": "markdown",
      "metadata": {
        "id": "TeYUni78i9q3"
      },
      "source": [
        "###Измерим один путь"
      ]
    },
    {
      "cell_type": "code",
      "metadata": {
        "id": "m0OPYeZUi_Bl"
      },
      "source": [
        "G = ox.add_edge_speeds(G)\n",
        "G = ox.add_edge_travel_times(G)"
      ],
      "execution_count": 41,
      "outputs": []
    },
    {
      "cell_type": "code",
      "metadata": {
        "id": "0yDs1Nx6jBHF"
      },
      "source": [
        "route_length = int(sum(ox.utils_graph.get_route_edge_attributes(G, route, 'length')))\n",
        "route_time = int(sum(ox.utils_graph.get_route_edge_attributes(G, route, 'travel_time')))"
      ],
      "execution_count": 42,
      "outputs": []
    },
    {
      "cell_type": "code",
      "metadata": {
        "colab": {
          "base_uri": "https://localhost:8080/"
        },
        "id": "lFdbvAesjDde",
        "outputId": "f5327f5f-fcf2-4869-9dbd-86ad045c14ac"
      },
      "source": [
        "print('Route  is', route_length, 'meters and takes', route_time, 'seconds.')"
      ],
      "execution_count": 43,
      "outputs": [
        {
          "output_type": "stream",
          "text": [
            "Route  is 12402 meters and takes 1003 seconds.\n"
          ],
          "name": "stdout"
        }
      ]
    },
    {
      "cell_type": "markdown",
      "metadata": {
        "id": "DvvGyBpejLWF"
      },
      "source": [
        "###Теперь измерим по всем объектам"
      ]
    },
    {
      "cell_type": "code",
      "metadata": {
        "colab": {
          "base_uri": "https://localhost:8080/"
        },
        "id": "95_C3pdijMuf",
        "outputId": "6207280a-136c-4f25-9203-f2bac2213fea"
      },
      "source": [
        "route_lengths = []\n",
        "route_times = []\n",
        "for i in range(len(latitude)):\n",
        "    route = nx.shortest_path(G, nearest_edge_ESB[0], nearest_edges[i][0])\n",
        "    route_length = int(sum(ox.utils_graph.get_route_edge_attributes(G, route, 'length')))\n",
        "    route_time = int(sum(ox.utils_graph.get_route_edge_attributes(G, route, 'travel_time')))\n",
        "    route_lengths.append(route_length)\n",
        "    route_times.append(route_time)\n",
        "\n",
        "    print('Route  is', route_length, 'meters and takes', route_time, 'seconds.')"
      ],
      "execution_count": 44,
      "outputs": [
        {
          "output_type": "stream",
          "text": [
            "Route  is 12402 meters and takes 1003 seconds.\n",
            "Route  is 11939 meters and takes 1005 seconds.\n",
            "Route  is 12284 meters and takes 1037 seconds.\n",
            "Route  is 17519 meters and takes 1387 seconds.\n",
            "Route  is 10871 meters and takes 998 seconds.\n",
            "Route  is 10950 meters and takes 1006 seconds.\n",
            "Route  is 10712 meters and takes 983 seconds.\n",
            "Route  is 11055 meters and takes 1020 seconds.\n",
            "Route  is 11472 meters and takes 963 seconds.\n",
            "Route  is 10729 meters and takes 986 seconds.\n",
            "Route  is 17474 meters and takes 1412 seconds.\n",
            "Route  is 14941 meters and takes 1206 seconds.\n",
            "Route  is 17760 meters and takes 1444 seconds.\n",
            "Route  is 11629 meters and takes 945 seconds.\n",
            "Route  is 8560 meters and takes 791 seconds.\n",
            "Route  is 10729 meters and takes 986 seconds.\n",
            "Route  is 12671 meters and takes 1073 seconds.\n",
            "Route  is 10792 meters and takes 991 seconds.\n"
          ],
          "name": "stdout"
        }
      ]
    },
    {
      "cell_type": "code",
      "metadata": {
        "colab": {
          "base_uri": "https://localhost:8080/"
        },
        "id": "5BWnFXWnjPXM",
        "outputId": "45a96b45-9da4-4f22-9367-a0a15ec88356"
      },
      "source": [
        "np.argmin(route_times)"
      ],
      "execution_count": 45,
      "outputs": [
        {
          "output_type": "execute_result",
          "data": {
            "text/plain": [
              "14"
            ]
          },
          "metadata": {
            "tags": []
          },
          "execution_count": 45
        }
      ]
    },
    {
      "cell_type": "code",
      "metadata": {
        "colab": {
          "base_uri": "https://localhost:8080/"
        },
        "id": "hPRNWYqVjaNG",
        "outputId": "bb15d8a0-11a8-4eb9-bb70-28661352d899"
      },
      "source": [
        "my_choice = data.iloc[np.argmin(route_times)]\n",
        "print(my_choice)"
      ],
      "execution_count": 46,
      "outputs": [
        {
          "output_type": "stream",
          "text": [
            "id                                                                       15246070\n",
            "name                              Lovely&Morden bedroom near everything you want!\n",
            "host_id                                                                  33064599\n",
            "host_name                                                                   Yukee\n",
            "neighbourhood_group                                                     Manhattan\n",
            "neighbourhood                                                     Upper West Side\n",
            "latitude                                                                  40.8004\n",
            "longitude                                                                -73.9672\n",
            "room_type                                                            Private room\n",
            "price                                                                          49\n",
            "minimum_nights                                                                  1\n",
            "number_of_reviews                                                              56\n",
            "last_review                                                            2019-04-19\n",
            "reviews_per_month                                                            1.83\n",
            "calculated_host_listings_count                                                  6\n",
            "availability_365                                                              326\n",
            "Name: 19167, dtype: object\n"
          ],
          "name": "stdout"
        }
      ]
    },
    {
      "cell_type": "code",
      "metadata": {
        "colab": {
          "base_uri": "https://localhost:8080/"
        },
        "id": "P4J2zZKrjjkd",
        "outputId": "81573782-8edd-4f4f-e1bf-52633b6bc002"
      },
      "source": [
        "print(my_choice['latitude'], my_choice['longitude'])"
      ],
      "execution_count": 47,
      "outputs": [
        {
          "output_type": "stream",
          "text": [
            "40.80039 -73.96724\n"
          ],
          "name": "stdout"
        }
      ]
    },
    {
      "cell_type": "code",
      "metadata": {
        "colab": {
          "base_uri": "https://localhost:8080/",
          "height": 303
        },
        "id": "nhc1wg1fjmNN",
        "outputId": "d36b6b1d-8ed0-4048-86a4-d25073bca718"
      },
      "source": [
        "fig, ax = ox.plot_graph(G, figsize=(5,5), show=False, close=False)\n",
        "ax.scatter(my_choice['longitude'],my_choice['latitude'],  c='red', s=100)\n",
        "ax.scatter(longtitude_ESB,latitude_ESB,  c='green', s=500)\n",
        "plt.show()"
      ],
      "execution_count": 50,
      "outputs": [
        {
          "output_type": "display_data",
          "data": {
            "image/png": "[encoded data removed]",
            "text/plain": [
              "<Figure size 360x360 with 1 Axes>"
            ]
          },
          "metadata": {
            "tags": []
          }
        }
      ]
    }
  ]
}
