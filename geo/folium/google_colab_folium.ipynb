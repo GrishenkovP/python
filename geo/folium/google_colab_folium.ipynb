{
  "nbformat": 4,
  "nbformat_minor": 0,
  "metadata": {
    "colab": {
      "name": "folium.ipynb",
      "provenance": [],
      "collapsed_sections": []
    },
    "kernelspec": {
      "name": "python3",
      "display_name": "Python 3"
    }
  },
  "cells": [
    {
      "cell_type": "code",
      "metadata": {
        "colab": {
          "base_uri": "https://localhost:8080/"
        },
        "id": "7AnzXcF_CBgG",
        "outputId": "11d0031b-ccf1-4532-db67-e68f45481a2b"
      },
      "source": [
        "pip install folium"
      ],
      "execution_count": 1,
      "outputs": [
        {
          "output_type": "stream",
          "text": [
            "Requirement already satisfied: folium in /usr/local/lib/python3.6/dist-packages (0.8.3)\n",
            "Requirement already satisfied: branca>=0.3.0 in /usr/local/lib/python3.6/dist-packages (from folium) (0.4.1)\n",
            "Requirement already satisfied: numpy in /usr/local/lib/python3.6/dist-packages (from folium) (1.19.4)\n",
            "Requirement already satisfied: jinja2 in /usr/local/lib/python3.6/dist-packages (from folium) (2.11.2)\n",
            "Requirement already satisfied: requests in /usr/local/lib/python3.6/dist-packages (from folium) (2.23.0)\n",
            "Requirement already satisfied: six in /usr/local/lib/python3.6/dist-packages (from folium) (1.15.0)\n",
            "Requirement already satisfied: MarkupSafe>=0.23 in /usr/local/lib/python3.6/dist-packages (from jinja2->folium) (1.1.1)\n",
            "Requirement already satisfied: certifi>=2017.4.17 in /usr/local/lib/python3.6/dist-packages (from requests->folium) (2020.12.5)\n",
            "Requirement already satisfied: idna<3,>=2.5 in /usr/local/lib/python3.6/dist-packages (from requests->folium) (2.10)\n",
            "Requirement already satisfied: urllib3!=1.25.0,!=1.25.1,<1.26,>=1.21.1 in /usr/local/lib/python3.6/dist-packages (from requests->folium) (1.24.3)\n",
            "Requirement already satisfied: chardet<4,>=3.0.2 in /usr/local/lib/python3.6/dist-packages (from requests->folium) (3.0.4)\n"
          ],
          "name": "stdout"
        }
      ]
    },
    {
      "cell_type": "code",
      "metadata": {
        "id": "Sdx1kRnoCdh6"
      },
      "source": [
        "import folium"
      ],
      "execution_count": 2,
      "outputs": []
    },
    {
      "cell_type": "code",
      "metadata": {
        "id": "Nifp-4FYChUA"
      },
      "source": [
        "# Создание базовой карты\r\n",
        "map = folium.Map(location=[51.7727, 55.0988], \r\n",
        "                 zoom_start = 8)\r\n",
        "\r\n",
        "# Данные для нанесения на карту\r\n",
        "coordinates = [[51.7727, 55.0988],[51.20487,58.56685],[52.7807,52.2635],[51.47316,58.4552]]\r\n",
        "sales = [2500,1000,700,500]\r\n",
        "\r\n",
        "# Функция дифференциации меток\r\n",
        "def color_change(x):\r\n",
        "    if(x >= 2000):\r\n",
        "        return('green')\r\n",
        "    elif(x<2000)and(x>=1000):\r\n",
        "        return('orange')\r\n",
        "    else:\r\n",
        "        return('red')\r\n",
        "\r\n",
        "# Подсказка\r\n",
        "tooltip = 'Кликни по значку!'\r\n",
        "\r\n",
        "\r\n",
        "# Добавляем несколько маркеров\r\n",
        "for coordinate, sale in zip(coordinates, sales):\r\n",
        "    folium.Marker(location=[coordinate[0], coordinate[1]],\r\n",
        "                  popup= str(sale)+\" тыс.руб\",\r\n",
        "                  icon=folium.Icon(color = color_change(sale)),\r\n",
        "                  tooltip=tooltip).add_to(map)"
      ],
      "execution_count": 3,
      "outputs": []
    },
    {
      "cell_type": "code",
      "metadata": {
        "colab": {
          "base_uri": "https://localhost:8080/",
          "height": 763
        },
        "id": "hg44gCLZuHdQ",
        "outputId": "7df46891-9f71-43f9-af61-57cb9507a308"
      },
      "source": [
        "# Сохранить карту как отдельный файл\r\n",
        "map.save(\"map.html\")\r\n",
        "# Отобразить карту в блокноте\r\n",
        "map"
      ],
      "execution_count": 4,
      "outputs": [
        {
          "output_type": "execute_result",
          "data": {
            "text/html": [
              "<div style=\"width:100%;\"><div style=\"position:relative;width:100%;height:0;padding-bottom:60%;\"><span style=\"color:#565656\">Make this Notebook Trusted to load map: File -> Trust Notebook</span><iframe src=\"about:blank\" style=\"position:absolute;width:100%;height:100%;left:0;top:0;border:none !important;\" data-html=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 onload=\"this.contentDocument.open();this.contentDocument.write(atob(this.getAttribute('data-html')));this.contentDocument.close();\" allowfullscreen webkitallowfullscreen mozallowfullscreen></iframe></div></div>"
            ],
            "text/plain": [
              "<folium.folium.Map at 0x7ff0495d8160>"
            ]
          },
          "metadata": {
            "tags": []
          },
          "execution_count": 4
        }
      ]
    }
  ]
}
